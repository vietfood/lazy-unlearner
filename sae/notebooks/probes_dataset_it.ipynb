{
 "cells": [
  {
   "cell_type": "code",
   "execution_count": 1,
   "id": "fb93e90c-a4bb-449a-a86e-7ba54c45d573",
   "metadata": {},
   "outputs": [],
   "source": [
    "from datasets import load_dataset, concatenate_datasets\n",
    "import torch\n",
    "\n",
    "from sae_refusal.data import (\n",
    "    load_wmdp, \n",
    "    split,\n",
    "    to_instructions,\n",
    "    sample_data\n",
    ")\n",
    "from sae_refusal.model.gemma import GemmaModel\n",
    "from sae_refusal.probe.utils import generate_and_save_with_activations\n",
    "from transformers import GenerationConfig\n",
    "from sae_refusal import set_seed, clear_memory\n",
    "from sklearn.model_selection import train_test_split"
   ]
  },
  {
   "cell_type": "code",
   "execution_count": 2,
   "id": "55630042-5d5e-44a1-b6b8-d27040989458",
   "metadata": {},
   "outputs": [],
   "source": [
    "SAMPLE_SIZE = 500  # For each dataset\n",
    "SEED = 42\n",
    "\n",
    "ARTIFACT_DIR = \"results\"\n",
    "\n",
    "MODEL_NAME = \"google/gemma-2-2b-it\"\n",
    "RMU_NAME = \"lenguyen1807/gemma-2-2b-it-RMU\"\n",
    "EMBEDDING_NAME = \"sentence-transformers/all-mpnet-base-v2\""
   ]
  },
  {
   "cell_type": "code",
   "execution_count": 3,
   "id": "c5d613cc-8bc9-42c7-9e3a-aa61a62e200d",
   "metadata": {},
   "outputs": [],
   "source": [
    "set_seed(SEED)\n",
    "torch.set_grad_enabled(False)\n",
    "torch.set_float32_matmul_precision(\"high\")"
   ]
  },
  {
   "cell_type": "markdown",
   "id": "df372184",
   "metadata": {},
   "source": [
    "### Load data"
   ]
  },
  {
   "cell_type": "code",
   "execution_count": 4,
   "id": "16293a73-9a87-4ffa-8bbc-bbba44bace6c",
   "metadata": {},
   "outputs": [],
   "source": [
    "wmdp_bio, wmdp_cyber = load_wmdp(sample_size=None, seed=SEED)\n",
    "alpaca_ds = load_dataset(\"tatsu-lab/alpaca\", split=\"train\")"
   ]
  },
  {
   "cell_type": "code",
   "execution_count": 5,
   "id": "6b5ddd2f",
   "metadata": {},
   "outputs": [
    {
     "data": {
      "text/plain": [
       "(1273, 1987, 52002)"
      ]
     },
     "execution_count": 5,
     "metadata": {},
     "output_type": "execute_result"
    }
   ],
   "source": [
    "len(wmdp_bio), len(wmdp_cyber), len(alpaca_ds)"
   ]
  },
  {
   "cell_type": "markdown",
   "id": "c1c48971",
   "metadata": {},
   "source": [
    "We take only first 500 samples to train our probes"
   ]
  },
  {
   "cell_type": "code",
   "execution_count": 6,
   "id": "5f4b4b0b",
   "metadata": {},
   "outputs": [],
   "source": [
    "bio_sample = wmdp_bio.select(list(range(SAMPLE_SIZE)))\n",
    "cyber_sample = wmdp_cyber.select(list(range(SAMPLE_SIZE)))"
   ]
  },
  {
   "cell_type": "code",
   "execution_count": 7,
   "id": "55dca07b",
   "metadata": {},
   "outputs": [
    {
     "data": {
      "text/plain": [
       "(500, 500)"
      ]
     },
     "execution_count": 7,
     "metadata": {},
     "output_type": "execute_result"
    }
   ],
   "source": [
    "len(bio_sample), len(cyber_sample)"
   ]
  },
  {
   "cell_type": "markdown",
   "id": "454313aa",
   "metadata": {},
   "source": [
    "For harmless prompt, we take the same samples (SAMPLE_SIZE * 2)"
   ]
  },
  {
   "cell_type": "code",
   "execution_count": 8,
   "id": "2bfa8202",
   "metadata": {},
   "outputs": [],
   "source": [
    "# Sample random 1000\n",
    "alpaca_sample = sample_data(\n",
    "    alpaca_ds.filter(lambda example: example['input'].strip() == ''),\n",
    "    sample_size=SAMPLE_SIZE * 2,\n",
    "    seed=SEED,\n",
    "    max_len=None,\n",
    "    key=\"instruction\"\n",
    ")"
   ]
  },
  {
   "cell_type": "code",
   "execution_count": 9,
   "id": "eb2fd464",
   "metadata": {},
   "outputs": [],
   "source": [
    "harmful_total = to_instructions(\n",
    "    concatenate_datasets([bio_sample, cyber_sample]).shuffle(seed=SEED), # shuffle training data\n",
    "    format_fn=lambda x: x[\"question\"]\n",
    ")\n",
    "\n",
    "harmless_total = to_instructions(\n",
    "    alpaca_sample,\n",
    "    format_fn=lambda x: x[\"instruction\"]\n",
    ")"
   ]
  },
  {
   "cell_type": "code",
   "execution_count": 10,
   "id": "54955a22",
   "metadata": {},
   "outputs": [],
   "source": [
    "total_dataset = harmful_total + harmless_total"
   ]
  },
  {
   "cell_type": "code",
   "execution_count": 11,
   "id": "714078d1",
   "metadata": {},
   "outputs": [
    {
     "data": {
      "text/plain": [
       "2000"
      ]
     },
     "execution_count": 11,
     "metadata": {},
     "output_type": "execute_result"
    }
   ],
   "source": [
    "len(total_dataset)"
   ]
  },
  {
   "cell_type": "code",
   "execution_count": 12,
   "id": "a058887a",
   "metadata": {},
   "outputs": [],
   "source": [
    "total_train, total_test = train_test_split(total_dataset, test_size=0.2, random_state=SEED)"
   ]
  },
  {
   "cell_type": "code",
   "execution_count": 13,
   "id": "5e6033ab",
   "metadata": {},
   "outputs": [
    {
     "data": {
      "text/plain": [
       "(1600, 400)"
      ]
     },
     "execution_count": 13,
     "metadata": {},
     "output_type": "execute_result"
    }
   ],
   "source": [
    "len(total_train), len(total_test)"
   ]
  },
  {
   "cell_type": "code",
   "execution_count": 14,
   "id": "cdc145ed",
   "metadata": {},
   "outputs": [],
   "source": [
    "total_train, total_val = train_test_split(total_train, test_size=0.2, random_state=SEED)"
   ]
  },
  {
   "cell_type": "code",
   "execution_count": 15,
   "id": "a40448e0",
   "metadata": {},
   "outputs": [
    {
     "data": {
      "text/plain": [
       "(1280, 320)"
      ]
     },
     "execution_count": 15,
     "metadata": {},
     "output_type": "execute_result"
    }
   ],
   "source": [
    "len(total_train), len(total_val)"
   ]
  },
  {
   "cell_type": "markdown",
   "id": "8f36c132",
   "metadata": {},
   "source": [
    "### Generate activations and outputs"
   ]
  },
  {
   "cell_type": "code",
   "execution_count": 16,
   "id": "39d65c01",
   "metadata": {},
   "outputs": [
    {
     "data": {
      "application/vnd.jupyter.widget-view+json": {
       "model_id": "2070c31fecf641d6a8a59fb7d06559a3",
       "version_major": 2,
       "version_minor": 0
      },
      "text/plain": [
       "Loading checkpoint shards:   0%|          | 0/2 [00:00<?, ?it/s]"
      ]
     },
     "metadata": {},
     "output_type": "display_data"
    }
   ],
   "source": [
    "rmu_model = GemmaModel(RMU_NAME, type=\"instruction\")"
   ]
  },
  {
   "cell_type": "code",
   "execution_count": 17,
   "id": "18cc21a1",
   "metadata": {},
   "outputs": [],
   "source": [
    "# rmu_outputs, rmu_activations = generate_and_save_with_activations(\n",
    "#     base_model=rmu_model,\n",
    "#     instructions=total_train,\n",
    "#     max_new_tokens=128,\n",
    "#     batch_size=8\n",
    "# )"
   ]
  },
  {
   "cell_type": "code",
   "execution_count": 18,
   "id": "e8f91ca4",
   "metadata": {},
   "outputs": [],
   "source": [
    "# rmu_outputs, rmu_activations = generate_and_save_with_activations(\n",
    "#     base_model=rmu_model,\n",
    "#     instructions=total_val,\n",
    "#     max_new_tokens=128,\n",
    "#     batch_size=8\n",
    "# )"
   ]
  },
  {
   "cell_type": "code",
   "execution_count": 19,
   "id": "c88e7948",
   "metadata": {},
   "outputs": [],
   "source": [
    "# rmu_outputs, rmu_activations = generate_and_save_with_activations(\n",
    "#     base_model=rmu_model,\n",
    "#     instructions=total_test,\n",
    "#     max_new_tokens=128,\n",
    "#     batch_size=8\n",
    "# )"
   ]
  },
  {
   "cell_type": "code",
   "execution_count": 20,
   "id": "4677e63d",
   "metadata": {},
   "outputs": [],
   "source": [
    "# from pathlib import Path\n",
    "# import json\n",
    "\n",
    "# save_path = Path(f\"{ARTIFACT_DIR}/probes_it/test\")\n",
    "# save_path.mkdir(parents=True, exist_ok=True)"
   ]
  },
  {
   "cell_type": "code",
   "execution_count": 21,
   "id": "3a803012",
   "metadata": {},
   "outputs": [],
   "source": [
    "# for idx, activations in enumerate(rmu_activations):\n",
    "#     torch.save(activations, f\"{save_path.as_posix()}/layer_{idx}.pt\")"
   ]
  },
  {
   "cell_type": "code",
   "execution_count": 22,
   "id": "ad19acce",
   "metadata": {},
   "outputs": [],
   "source": [
    "# with open(f\"{save_path.as_posix()}/completions.json\", mode=\"w+\", encoding=\"utf-8\") as f:\n",
    "#     json.dump(rmu_outputs, f, indent=4)"
   ]
  },
  {
   "cell_type": "markdown",
   "id": "9a8e3f87",
   "metadata": {},
   "source": [
    "### Sanity Checks"
   ]
  },
  {
   "cell_type": "code",
   "execution_count": 23,
   "id": "3d21333c",
   "metadata": {},
   "outputs": [],
   "source": [
    "from pathlib import Path\n",
    "import json\n",
    "\n",
    "test_path = Path(f\"{ARTIFACT_DIR}/probes_it/test\")\n",
    "train_path = Path(f\"{ARTIFACT_DIR}/probes_it/train\")\n",
    "val_path = Path(f\"{ARTIFACT_DIR}/probes_it/val\")"
   ]
  },
  {
   "cell_type": "code",
   "execution_count": 24,
   "id": "c4659320",
   "metadata": {},
   "outputs": [],
   "source": [
    "with open(f\"{test_path.as_posix()}/completions.json\", \"r\") as f:\n",
    "    test_completions = json.load(f)\n",
    "\n",
    "with open(f\"{train_path.as_posix()}/completions.json\", \"r\") as f:\n",
    "    train_completions = json.load(f)\n",
    "\n",
    "with open(f\"{val_path.as_posix()}/completions.json\", \"r\") as f:\n",
    "    val_completions = json.load(f)"
   ]
  },
  {
   "cell_type": "markdown",
   "id": "1801b781",
   "metadata": {},
   "source": [
    "First checking if match original dataset"
   ]
  },
  {
   "cell_type": "code",
   "execution_count": 25,
   "id": "0fe9a3ed",
   "metadata": {},
   "outputs": [],
   "source": [
    "def match_original(completions, original):\n",
    "    for completion, data in zip(completions, original):\n",
    "        if completion[\"prompt\"] != data:\n",
    "            return False\n",
    "    return True "
   ]
  },
  {
   "cell_type": "code",
   "execution_count": 26,
   "id": "98ac19fe",
   "metadata": {},
   "outputs": [
    {
     "data": {
      "text/plain": [
       "True"
      ]
     },
     "execution_count": 26,
     "metadata": {},
     "output_type": "execute_result"
    }
   ],
   "source": [
    "match_original(test_completions, total_test)"
   ]
  },
  {
   "cell_type": "code",
   "execution_count": 27,
   "id": "8e839601",
   "metadata": {},
   "outputs": [
    {
     "data": {
      "text/plain": [
       "True"
      ]
     },
     "execution_count": 27,
     "metadata": {},
     "output_type": "execute_result"
    }
   ],
   "source": [
    "match_original(val_completions, total_val)"
   ]
  },
  {
   "cell_type": "code",
   "execution_count": 28,
   "id": "6f4b5a8b",
   "metadata": {},
   "outputs": [
    {
     "data": {
      "text/plain": [
       "True"
      ]
     },
     "execution_count": 28,
     "metadata": {},
     "output_type": "execute_result"
    }
   ],
   "source": [
    "match_original(train_completions, total_train)"
   ]
  },
  {
   "cell_type": "markdown",
   "id": "63f312ec",
   "metadata": {},
   "source": [
    "Then checking if there is any overlap data"
   ]
  },
  {
   "cell_type": "code",
   "execution_count": 29,
   "id": "08e2bf28",
   "metadata": {},
   "outputs": [],
   "source": [
    "def is_overlap(completions1, completions2):\n",
    "    for completion in completions1:\n",
    "        if completion[\"prompt\"] in completions2:\n",
    "            return True \n",
    "    return False"
   ]
  },
  {
   "cell_type": "code",
   "execution_count": 30,
   "id": "89f9bfb3",
   "metadata": {},
   "outputs": [
    {
     "data": {
      "text/plain": [
       "False"
      ]
     },
     "execution_count": 30,
     "metadata": {},
     "output_type": "execute_result"
    }
   ],
   "source": [
    "is_overlap(train_completions, [completion[\"prompt\"] for completion in val_completions])"
   ]
  },
  {
   "cell_type": "code",
   "execution_count": 31,
   "id": "30241ac3",
   "metadata": {},
   "outputs": [
    {
     "data": {
      "text/plain": [
       "False"
      ]
     },
     "execution_count": 31,
     "metadata": {},
     "output_type": "execute_result"
    }
   ],
   "source": [
    "is_overlap(train_completions + val_completions, [completion[\"prompt\"] for completion in test_completions])"
   ]
  }
 ],
 "metadata": {
  "kernelspec": {
   "display_name": ".venv",
   "language": "python",
   "name": "python3"
  },
  "language_info": {
   "codemirror_mode": {
    "name": "ipython",
    "version": 3
   },
   "file_extension": ".py",
   "mimetype": "text/x-python",
   "name": "python",
   "nbconvert_exporter": "python",
   "pygments_lexer": "ipython3",
   "version": "3.10.12"
  }
 },
 "nbformat": 4,
 "nbformat_minor": 5
}
