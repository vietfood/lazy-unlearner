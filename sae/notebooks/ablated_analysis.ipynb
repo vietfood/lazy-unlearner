{
 "cells": [
  {
   "cell_type": "code",
   "execution_count": 6,
   "id": "50d43909",
   "metadata": {},
   "outputs": [],
   "source": [
    "import torch\n",
    "import einops\n",
    "from datasets import concatenate_datasets, load_from_disk\n",
    "import random\n",
    "\n",
    "from sae_refusal.model.gemma import GemmaModel\n",
    "from sae_refusal.model.embedding import EmbeddingModel\n",
    "from sae_refusal import set_seed, clear_memory\n",
    "from sae_refusal.data import (\n",
    "    load_wmdp,\n",
    "    split,\n",
    "    to_instructions,\n",
    "    sample_data\n",
    ")\n",
    "from sae_refusal.probe import LinearProbe\n",
    "from sae_refusal.pipeline.utils import (\n",
    "    generate_and_save_completions\n",
    ")\n",
    "from sae_refusal.pipeline.generate_directions import generate_directions_rmu\n",
    "from sae_refusal.plot import (\n",
    "    plot_scores_plotly,\n",
    "    plot_refusal_scores_plotly,\n",
    ")\n",
    "from sae_refusal.pipeline.activations import (\n",
    "    get_activations,\n",
    "    get_activations_pre\n",
    ")"
   ]
  },
  {
   "cell_type": "code",
   "execution_count": 2,
   "id": "584746dd",
   "metadata": {},
   "outputs": [],
   "source": [
    "LAYER_ID = 9\n",
    "SAMPLE_SIZE = 300  # For each dataset\n",
    "VAL_SIZE = 0.2\n",
    "SEED = 42\n",
    "MAX_LEN = 1024\n",
    "\n",
    "ARTIFACT_DIR = \"results/ablated\"\n",
    "\n",
    "MODEL_NAME = \"google/gemma-2-2b\"\n",
    "RMU_NAME = \"lenguyen1807/gemma-2-2b-RMU\"\n",
    "ABLATED_NAME = \"lenguyen1807/gemma-2-2b-RMU-ablated\""
   ]
  },
  {
   "cell_type": "code",
   "execution_count": 3,
   "id": "4777cb44",
   "metadata": {},
   "outputs": [],
   "source": [
    "set_seed(SEED)\n",
    "torch.set_grad_enabled(False)\n",
    "torch.set_float32_matmul_precision(\"high\")"
   ]
  },
  {
   "cell_type": "markdown",
   "id": "6b52b079",
   "metadata": {},
   "source": [
    "### Load model"
   ]
  },
  {
   "cell_type": "code",
   "execution_count": 4,
   "id": "236a29a5",
   "metadata": {},
   "outputs": [
    {
     "data": {
      "application/vnd.jupyter.widget-view+json": {
       "model_id": "ac7027660d9c4d81b93857950e3c4c01",
       "version_major": 2,
       "version_minor": 0
      },
      "text/plain": [
       "Loading checkpoint shards:   0%|          | 0/3 [00:00<?, ?it/s]"
      ]
     },
     "metadata": {},
     "output_type": "display_data"
    },
    {
     "data": {
      "application/vnd.jupyter.widget-view+json": {
       "model_id": "013da19d8a5c4063af21c0c50d7f3b62",
       "version_major": 2,
       "version_minor": 0
      },
      "text/plain": [
       "Loading checkpoint shards:   0%|          | 0/3 [00:00<?, ?it/s]"
      ]
     },
     "metadata": {},
     "output_type": "display_data"
    },
    {
     "data": {
      "application/vnd.jupyter.widget-view+json": {
       "model_id": "5bd92d51a8dd4b328769facd57895787",
       "version_major": 2,
       "version_minor": 0
      },
      "text/plain": [
       "Loading checkpoint shards:   0%|          | 0/2 [00:00<?, ?it/s]"
      ]
     },
     "metadata": {},
     "output_type": "display_data"
    }
   ],
   "source": [
    "base_model = GemmaModel(MODEL_NAME, type=\"none\")\n",
    "rmu_model = GemmaModel(RMU_NAME, type=\"none\")\n",
    "ablated_model = GemmaModel(ABLATED_NAME, type=\"none\")"
   ]
  },
  {
   "cell_type": "markdown",
   "id": "cf9a0ff4",
   "metadata": {},
   "source": [
    "### Load dataset"
   ]
  },
  {
   "cell_type": "code",
   "execution_count": 7,
   "id": "c1c322ee",
   "metadata": {},
   "outputs": [],
   "source": [
    "bio_train = load_from_disk(\"/home/ubuntu/thesis/sae/results/ablated/data/bio_train\")\n",
    "bio_val = load_from_disk(\"/home/ubuntu/thesis/sae/results/ablated/data/bio_val\")\n",
    "cyber_train = load_from_disk(\"/home/ubuntu/thesis/sae/results/ablated/data/cyber_train\")\n",
    "cyber_val = load_from_disk(\"/home/ubuntu/thesis/sae/results/ablated/data/cyber_val\")"
   ]
  },
  {
   "cell_type": "code",
   "execution_count": 8,
   "id": "a7e7cd18",
   "metadata": {},
   "outputs": [],
   "source": [
    "(\n",
    "    bio_train_instructions,\n",
    "    cyber_train_instructions,\n",
    "    val_instructions,  # we combine both for validation\n",
    ") = to_instructions(\n",
    "    [\n",
    "        bio_train,\n",
    "        cyber_train,\n",
    "        concatenate_datasets([bio_val, cyber_val])\n",
    "    ],\n",
    "    lambda x: x[\"question\"],\n",
    ")"
   ]
  },
  {
   "cell_type": "markdown",
   "id": "3d05a97d",
   "metadata": {},
   "source": [
    "### Get activations"
   ]
  },
  {
   "cell_type": "code",
   "execution_count": 9,
   "id": "fcd4d274",
   "metadata": {},
   "outputs": [
    {
     "name": "stderr",
     "output_type": "stream",
     "text": [
      "100%|██████████| 30/30 [00:19<00:00,  1.50it/s]\n",
      "100%|██████████| 60/60 [00:39<00:00,  1.52it/s]\n"
     ]
    }
   ],
   "source": [
    "bio_rmu_activations = get_activations_pre(\n",
    "    rmu_model.model,\n",
    "    rmu_model.tokenizer,\n",
    "    bio_train_instructions,\n",
    "    tokenize_instructions_fn=rmu_model.tokenize_instructions_fn,\n",
    "    block_modules=rmu_model.model_block_modules,\n",
    "    positions=[-1],\n",
    "    batch_size=8\n",
    ")\n",
    "\n",
    "cyber_rmu_activations = get_activations_pre(\n",
    "    rmu_model.model,\n",
    "    rmu_model.tokenizer,\n",
    "    cyber_train_instructions,\n",
    "    tokenize_instructions_fn=rmu_model.tokenize_instructions_fn,\n",
    "    block_modules=rmu_model.model_block_modules,\n",
    "    positions=[-1],\n",
    "    batch_size=4\n",
    ")"
   ]
  },
  {
   "cell_type": "code",
   "execution_count": 10,
   "id": "f96b81c0",
   "metadata": {},
   "outputs": [
    {
     "name": "stderr",
     "output_type": "stream",
     "text": [
      "100%|██████████| 30/30 [00:18<00:00,  1.59it/s]\n",
      "100%|██████████| 60/60 [00:45<00:00,  1.33it/s]\n"
     ]
    }
   ],
   "source": [
    "bio_base_activations = get_activations_pre(\n",
    "    base_model.model,\n",
    "    base_model.tokenizer,\n",
    "    bio_train_instructions,\n",
    "    tokenize_instructions_fn=base_model.tokenize_instructions_fn,\n",
    "    block_modules=base_model.model_block_modules,\n",
    "    positions=[-1],\n",
    "    batch_size=8\n",
    ")\n",
    "\n",
    "cyber_base_activations = get_activations_pre(\n",
    "    base_model.model,\n",
    "    base_model.tokenizer,\n",
    "    cyber_train_instructions,\n",
    "    tokenize_instructions_fn=base_model.tokenize_instructions_fn,\n",
    "    block_modules=base_model.model_block_modules,\n",
    "    positions=[-1],\n",
    "    batch_size=4\n",
    ")"
   ]
  },
  {
   "cell_type": "code",
   "execution_count": 11,
   "id": "1dbd407c",
   "metadata": {},
   "outputs": [
    {
     "name": "stderr",
     "output_type": "stream",
     "text": [
      "100%|██████████| 60/60 [00:37<00:00,  1.58it/s]\n",
      "100%|██████████| 60/60 [00:40<00:00,  1.48it/s]\n"
     ]
    }
   ],
   "source": [
    "bio_ablated_activations = get_activations_pre(\n",
    "    ablated_model.model,\n",
    "    ablated_model.tokenizer,\n",
    "    bio_train_instructions,\n",
    "    tokenize_instructions_fn=ablated_model.tokenize_instructions_fn,\n",
    "    block_modules=ablated_model.model_block_modules,\n",
    "    positions=[-1],\n",
    "    batch_size=4\n",
    ")\n",
    "\n",
    "cyber_ablated_activations = get_activations_pre(\n",
    "    ablated_model.model,\n",
    "    ablated_model.tokenizer,\n",
    "    cyber_train_instructions,\n",
    "    tokenize_instructions_fn=ablated_model.tokenize_instructions_fn,\n",
    "    block_modules=ablated_model.model_block_modules,\n",
    "    positions=[-1],\n",
    "    batch_size=4\n",
    ")"
   ]
  },
  {
   "cell_type": "markdown",
   "id": "9e941b3f",
   "metadata": {},
   "source": [
    "### Analysis"
   ]
  },
  {
   "cell_type": "code",
   "execution_count": 12,
   "id": "ecadacca",
   "metadata": {},
   "outputs": [],
   "source": [
    "bio_rmu_sim = torch.nn.functional.cosine_similarity(bio_base_activations, bio_rmu_activations, dim=-1)\n",
    "cyber_rmu_sim = torch.nn.functional.cosine_similarity(cyber_base_activations, cyber_rmu_activations, dim=-1)"
   ]
  },
  {
   "cell_type": "code",
   "execution_count": 13,
   "id": "be9c2ecb",
   "metadata": {},
   "outputs": [],
   "source": [
    "bio_ablated_sim = torch.nn.functional.cosine_similarity(bio_base_activations, bio_ablated_activations, dim=-1)\n",
    "cyber_ablated_sim = torch.nn.functional.cosine_similarity(cyber_base_activations, cyber_ablated_activations, dim=-1)"
   ]
  },
  {
   "cell_type": "code",
   "execution_count": 21,
   "id": "8cdb6bfe",
   "metadata": {},
   "outputs": [
    {
     "name": "stdout",
     "output_type": "stream",
     "text": [
      "Plot saved to results/ablated/figures/cosine_ablated_base.pdf\n"
     ]
    },
    {
     "data": {
      "application/vnd.plotly.v1+json": {
       "config": {
        "plotlyServerURL": "https://plot.ly"
       },
       "data": [
        {
         "hoverinfo": "skip",
         "line": {
          "width": 0
         },
         "mode": "lines",
         "showlegend": false,
         "type": "scatter",
         "x": [
          0,
          1,
          2,
          3,
          4,
          5,
          6,
          7,
          8,
          9,
          10,
          11,
          12,
          13,
          14,
          15,
          16,
          17,
          18,
          19,
          20,
          21,
          22,
          23,
          24,
          25
         ],
         "y": [
          0.9999960660934448,
          0.9999657273292542,
          0.99996417760849,
          0.9999285936355591,
          0.9999178647994995,
          0.9999266266822815,
          0.9999251961708069,
          0.9998774528503418,
          0.9329873919487,
          0.5777463912963867,
          0.25778040289878845,
          0.3292309045791626,
          0.4067423939704895,
          0.4089709520339966,
          0.3915999233722687,
          0.3998945355415344,
          0.24759477376937866,
          0.30955201387405396,
          0.4134058356285095,
          0.3645341396331787,
          0.44807520508766174,
          0.4509393274784088,
          0.4862733483314514,
          0.5585885643959045,
          0.5957406759262085,
          0.6278367638587952
         ]
        },
        {
         "fill": "tonexty",
         "fillcolor": "rgba(31,119,180,0.1)",
         "hoverinfo": "skip",
         "line": {
          "width": 0
         },
         "mode": "lines",
         "showlegend": false,
         "type": "scatter",
         "x": [
          0,
          1,
          2,
          3,
          4,
          5,
          6,
          7,
          8,
          9,
          10,
          11,
          12,
          13,
          14,
          15,
          16,
          17,
          18,
          19,
          20,
          21,
          22,
          23,
          24,
          25
         ],
         "y": [
          0.9999960660934448,
          0.9999828934669495,
          0.9999841451644897,
          0.9999682903289795,
          0.9999732375144958,
          0.9999724626541138,
          0.9999736547470093,
          0.9999762177467346,
          0.9984740018844604,
          0.9980443716049194,
          0.9975232481956482,
          0.9974219799041748,
          0.997991681098938,
          0.9972323179244995,
          0.9978049993515015,
          0.997902512550354,
          0.9983716011047363,
          0.9978413581848145,
          0.9982211589813232,
          0.9984835386276245,
          0.9989903569221497,
          0.9990583658218384,
          0.9993348121643066,
          0.9993772506713867,
          0.9994643926620483,
          0.9995336532592773
         ]
        },
        {
         "hovertemplate": "<b>Layer:</b> %{x}<br><b>Biology (RMU) Mean:</b> %{y:.3f}<extra></extra>",
         "line": {
          "color": "#1f77b4",
          "width": 3
         },
         "mode": "lines",
         "name": "Biology (RMU)",
         "type": "scatter",
         "x": [
          0,
          1,
          2,
          3,
          4,
          5,
          6,
          7,
          8,
          9,
          10,
          11,
          12,
          13,
          14,
          15,
          16,
          17,
          18,
          19,
          20,
          21,
          22,
          23,
          24,
          25
         ],
         "y": [
          0.9999969601631165,
          0.9999764561653137,
          0.9999778270721436,
          0.9999548196792603,
          0.9999528527259827,
          0.9999561309814453,
          0.9999561309814453,
          0.9999583959579468,
          0.9727523326873779,
          0.7398442029953003,
          0.43230578303337097,
          0.5034287571907043,
          0.5577613115310669,
          0.5472276210784912,
          0.572015643119812,
          0.593706488609314,
          0.5573222637176514,
          0.6192240118980408,
          0.67286217212677,
          0.6655623316764832,
          0.75523841381073,
          0.7737513184547424,
          0.8070762157440186,
          0.8222302198410034,
          0.8438434600830078,
          0.8770341277122498
         ]
        },
        {
         "hoverinfo": "skip",
         "line": {
          "width": 0
         },
         "mode": "lines",
         "showlegend": false,
         "type": "scatter",
         "x": [
          0,
          1,
          2,
          3,
          4,
          5,
          6,
          7,
          8,
          9,
          10,
          11,
          12,
          13,
          14,
          15,
          16,
          17,
          18,
          19,
          20,
          21,
          22,
          23,
          24,
          25
         ],
         "y": [
          0.9999960660934448,
          0.9999647736549377,
          0.9999628067016602,
          0.9999211430549622,
          0.9999322891235352,
          0.9998757243156433,
          0.9999028444290161,
          0.9998637437820435,
          0.9308721423149109,
          0.562385082244873,
          0.25074082612991333,
          0.32617366313934326,
          0.36639970541000366,
          0.3744736313819885,
          0.2884572148323059,
          0.30712994933128357,
          0.25839853286743164,
          0.2891806662082672,
          0.3764863610267639,
          0.24607984721660614,
          0.36483195424079895,
          0.4319893419742584,
          0.4941804111003876,
          0.47236862778663635,
          0.5225400328636169,
          0.558150053024292
         ]
        },
        {
         "fill": "tonexty",
         "fillcolor": "rgba(255,127,14,0.1)",
         "hoverinfo": "skip",
         "line": {
          "width": 0
         },
         "mode": "lines",
         "showlegend": false,
         "type": "scatter",
         "x": [
          0,
          1,
          2,
          3,
          4,
          5,
          6,
          7,
          8,
          9,
          10,
          11,
          12,
          13,
          14,
          15,
          16,
          17,
          18,
          19,
          20,
          21,
          22,
          23,
          24,
          25
         ],
         "y": [
          0.999997079372406,
          0.9999840259552002,
          0.9999849796295166,
          0.999971866607666,
          0.9999749064445496,
          0.9999735951423645,
          0.9999746680259705,
          0.999980092048645,
          0.9963430762290955,
          0.9798332452774048,
          0.9844504594802856,
          0.983440637588501,
          0.9810294508934021,
          0.9753806591033936,
          0.9837640523910522,
          0.9815535545349121,
          0.9905398488044739,
          0.9926977157592773,
          0.9936747550964355,
          0.9934977293014526,
          0.9945428371429443,
          0.9947541952133179,
          0.9939883947372437,
          0.9948374032974243,
          0.9940984845161438,
          0.9951468110084534
         ]
        },
        {
         "hovertemplate": "<b>Layer:</b> %{x}<br><b>Cybersecurity (RMU) Mean:</b> %{y:.3f}<extra></extra>",
         "line": {
          "color": "#ff7f0e",
          "width": 3
         },
         "mode": "lines",
         "name": "Cybersecurity (RMU)",
         "type": "scatter",
         "x": [
          0,
          1,
          2,
          3,
          4,
          5,
          6,
          7,
          8,
          9,
          10,
          11,
          12,
          13,
          14,
          15,
          16,
          17,
          18,
          19,
          20,
          21,
          22,
          23,
          24,
          25
         ],
         "y": [
          0.9999970197677612,
          0.9999750256538391,
          0.9999772310256958,
          0.9999561309814453,
          0.9999565482139587,
          0.9999564290046692,
          0.9999561905860901,
          0.9999511241912842,
          0.9719440340995789,
          0.782631516456604,
          0.4595537781715393,
          0.5131188631057739,
          0.5487509965896606,
          0.5234731435775757,
          0.537431538105011,
          0.5507019758224487,
          0.5142509937286377,
          0.5712136030197144,
          0.6367868185043335,
          0.6245355606079102,
          0.7080863118171692,
          0.7340078949928284,
          0.7754029631614685,
          0.7961350083351135,
          0.7999268770217896,
          0.8275654315948486
         ]
        },
        {
         "hoverinfo": "skip",
         "line": {
          "width": 0
         },
         "mode": "lines",
         "showlegend": false,
         "type": "scatter",
         "x": [
          0,
          1,
          2,
          3,
          4,
          5,
          6,
          7,
          8,
          9,
          10,
          11,
          12,
          13,
          14,
          15,
          16,
          17,
          18,
          19,
          20,
          21,
          22,
          23,
          24,
          25
         ],
         "y": [
          0.9999935030937195,
          0.999243974685669,
          0.9990008473396301,
          0.9952605366706848,
          0.9888108968734741,
          0.9936190247535706,
          0.9933713674545288,
          0.9645193815231323,
          0.9423887133598328,
          0.8080626130104065,
          0.74794602394104,
          0.7726611495018005,
          0.7454334497451782,
          0.716736912727356,
          0.6735098361968994,
          0.6480311155319214,
          0.6484217643737793,
          0.6586658954620361,
          0.6817420721054077,
          0.6097279191017151,
          0.6949054002761841,
          0.6641474366188049,
          0.6579271554946899,
          0.6927907466888428,
          0.7302721738815308,
          0.7755296230316162
         ]
        },
        {
         "fill": "tonexty",
         "fillcolor": "rgba(44,160,44,0.1)",
         "hoverinfo": "skip",
         "line": {
          "width": 0
         },
         "mode": "lines",
         "showlegend": false,
         "type": "scatter",
         "x": [
          0,
          1,
          2,
          3,
          4,
          5,
          6,
          7,
          8,
          9,
          10,
          11,
          12,
          13,
          14,
          15,
          16,
          17,
          18,
          19,
          20,
          21,
          22,
          23,
          24,
          25
         ],
         "y": [
          0.9999935030937195,
          0.999613881111145,
          0.9994279146194458,
          0.9979876279830933,
          0.9942265748977661,
          0.9976921081542969,
          0.9976087808609009,
          0.9844945669174194,
          0.9854627251625061,
          0.9806277751922607,
          0.9747521877288818,
          0.9708117246627808,
          0.9806239604949951,
          0.9747428894042969,
          0.9831775426864624,
          0.9799253940582275,
          0.9841519594192505,
          0.9870688915252686,
          0.9862589836120605,
          0.9859746694564819,
          0.9883151054382324,
          0.9886163473129272,
          0.9912290573120117,
          0.9920312166213989,
          0.9929431676864624,
          0.9929170608520508
         ]
        },
        {
         "hovertemplate": "<b>Layer:</b> %{x}<br><b>Biology (Ablated) Mean:</b> %{y:.3f}<extra></extra>",
         "line": {
          "color": "#2ca02c",
          "width": 3
         },
         "mode": "lines",
         "name": "Biology (Ablated)",
         "type": "scatter",
         "x": [
          0,
          1,
          2,
          3,
          4,
          5,
          6,
          7,
          8,
          9,
          10,
          11,
          12,
          13,
          14,
          15,
          16,
          17,
          18,
          19,
          20,
          21,
          22,
          23,
          24,
          25
         ],
         "y": [
          0.9999961256980896,
          0.9994641542434692,
          0.9992295503616333,
          0.9966105222702026,
          0.9911705851554871,
          0.9957396388053894,
          0.9953489899635315,
          0.9780858159065247,
          0.9679566025733948,
          0.9113940596580505,
          0.883287250995636,
          0.8949800729751587,
          0.8995741605758667,
          0.9018343091011047,
          0.9216808676719666,
          0.9169608950614929,
          0.9232009053230286,
          0.9313620328903198,
          0.9388538599014282,
          0.9334765076637268,
          0.9466819167137146,
          0.9474998116493225,
          0.9580094218254089,
          0.9597870111465454,
          0.9637822508811951,
          0.9672411680221558
         ]
        },
        {
         "hoverinfo": "skip",
         "line": {
          "width": 0
         },
         "mode": "lines",
         "showlegend": false,
         "type": "scatter",
         "x": [
          0,
          1,
          2,
          3,
          4,
          5,
          6,
          7,
          8,
          9,
          10,
          11,
          12,
          13,
          14,
          15,
          16,
          17,
          18,
          19,
          20,
          21,
          22,
          23,
          24,
          25
         ],
         "y": [
          0.9999879598617554,
          0.998874843120575,
          0.9988986253738403,
          0.9952640533447266,
          0.9885978102684021,
          0.9942378997802734,
          0.9938148260116577,
          0.9627066850662231,
          0.926583468914032,
          0.7410033941268921,
          0.6674538850784302,
          0.6989731192588806,
          0.6951408386230469,
          0.6386562585830688,
          0.6147793531417847,
          0.5746127963066101,
          0.5750002264976501,
          0.5806772112846375,
          0.6200788021087646,
          0.4895826578140259,
          0.5880607962608337,
          0.610369086265564,
          0.6314012408256531,
          0.6487365961074829,
          0.6737672090530396,
          0.7057152986526489
         ]
        },
        {
         "fill": "tonexty",
         "fillcolor": "rgba(214,39,40,0.1)",
         "hoverinfo": "skip",
         "line": {
          "width": 0
         },
         "mode": "lines",
         "showlegend": false,
         "type": "scatter",
         "x": [
          0,
          1,
          2,
          3,
          4,
          5,
          6,
          7,
          8,
          9,
          10,
          11,
          12,
          13,
          14,
          15,
          16,
          17,
          18,
          19,
          20,
          21,
          22,
          23,
          24,
          25
         ],
         "y": [
          0.9999935030937195,
          0.9998596906661987,
          0.9996825456619263,
          0.9987480640411377,
          0.9965167045593262,
          0.9989427328109741,
          0.998485803604126,
          0.9909677505493164,
          0.9828753471374512,
          0.9762349128723145,
          0.9736903309822083,
          0.9807683229446411,
          0.9802979230880737,
          0.977231502532959,
          0.9861268401145935,
          0.9858351945877075,
          0.990081250667572,
          0.9908454418182373,
          0.9924126863479614,
          0.9930800199508667,
          0.9931739568710327,
          0.9933786988258362,
          0.992637038230896,
          0.9928719997406006,
          0.9933984279632568,
          0.9909203052520752
         ]
        },
        {
         "hovertemplate": "<b>Layer:</b> %{x}<br><b>Cybersecurity (Ablated) Mean:</b> %{y:.3f}<extra></extra>",
         "line": {
          "color": "#d62728",
          "width": 3
         },
         "mode": "lines",
         "name": "Cybersecurity (Ablated)",
         "type": "scatter",
         "x": [
          0,
          1,
          2,
          3,
          4,
          5,
          6,
          7,
          8,
          9,
          10,
          11,
          12,
          13,
          14,
          15,
          16,
          17,
          18,
          19,
          20,
          21,
          22,
          23,
          24,
          25
         ],
         "y": [
          0.9999960660934448,
          0.9994403719902039,
          0.9993333220481873,
          0.9968941807746887,
          0.992466151714325,
          0.9968559145927429,
          0.9964681267738342,
          0.9795441031455994,
          0.9636449813842773,
          0.8976579904556274,
          0.8160161375999451,
          0.8371922373771667,
          0.8355844616889954,
          0.8281442523002625,
          0.8484525680541992,
          0.8373452425003052,
          0.8393204212188721,
          0.8517006635665894,
          0.8713237047195435,
          0.8594350814819336,
          0.8815118074417114,
          0.8835681080818176,
          0.9008263349533081,
          0.9083911180496216,
          0.9121749401092529,
          0.9216477274894714
         ]
        }
       ],
       "layout": {
        "annotations": [
         {
          "font": {
           "color": "grey",
           "size": 14
          },
          "showarrow": false,
          "text": "Layer 10",
          "x": 10,
          "xshift": 30,
          "y": 0.8,
          "yanchor": "middle",
          "yref": "paper"
         }
        ],
        "height": 600,
        "margin": {
         "b": 120,
         "l": 80,
         "r": 80,
         "t": 100
        },
        "shapes": [
         {
          "line": {
           "color": "grey",
           "dash": "dot",
           "width": 2
          },
          "opacity": 0.7,
          "type": "line",
          "x0": 10,
          "x1": 10,
          "xref": "x",
          "y0": 0,
          "y1": 1,
          "yref": "y domain"
         }
        ],
        "showlegend": true,
        "template": {
         "data": {
          "bar": [
           {
            "error_x": {
             "color": "#2a3f5f"
            },
            "error_y": {
             "color": "#2a3f5f"
            },
            "marker": {
             "line": {
              "color": "#E5ECF6",
              "width": 0.5
             },
             "pattern": {
              "fillmode": "overlay",
              "size": 10,
              "solidity": 0.2
             }
            },
            "type": "bar"
           }
          ],
          "barpolar": [
           {
            "marker": {
             "line": {
              "color": "#E5ECF6",
              "width": 0.5
             },
             "pattern": {
              "fillmode": "overlay",
              "size": 10,
              "solidity": 0.2
             }
            },
            "type": "barpolar"
           }
          ],
          "carpet": [
           {
            "aaxis": {
             "endlinecolor": "#2a3f5f",
             "gridcolor": "white",
             "linecolor": "white",
             "minorgridcolor": "white",
             "startlinecolor": "#2a3f5f"
            },
            "baxis": {
             "endlinecolor": "#2a3f5f",
             "gridcolor": "white",
             "linecolor": "white",
             "minorgridcolor": "white",
             "startlinecolor": "#2a3f5f"
            },
            "type": "carpet"
           }
          ],
          "choropleth": [
           {
            "colorbar": {
             "outlinewidth": 0,
             "ticks": ""
            },
            "type": "choropleth"
           }
          ],
          "contour": [
           {
            "colorbar": {
             "outlinewidth": 0,
             "ticks": ""
            },
            "colorscale": [
             [
              0,
              "#0d0887"
             ],
             [
              0.1111111111111111,
              "#46039f"
             ],
             [
              0.2222222222222222,
              "#7201a8"
             ],
             [
              0.3333333333333333,
              "#9c179e"
             ],
             [
              0.4444444444444444,
              "#bd3786"
             ],
             [
              0.5555555555555556,
              "#d8576b"
             ],
             [
              0.6666666666666666,
              "#ed7953"
             ],
             [
              0.7777777777777778,
              "#fb9f3a"
             ],
             [
              0.8888888888888888,
              "#fdca26"
             ],
             [
              1,
              "#f0f921"
             ]
            ],
            "type": "contour"
           }
          ],
          "contourcarpet": [
           {
            "colorbar": {
             "outlinewidth": 0,
             "ticks": ""
            },
            "type": "contourcarpet"
           }
          ],
          "heatmap": [
           {
            "colorbar": {
             "outlinewidth": 0,
             "ticks": ""
            },
            "colorscale": [
             [
              0,
              "#0d0887"
             ],
             [
              0.1111111111111111,
              "#46039f"
             ],
             [
              0.2222222222222222,
              "#7201a8"
             ],
             [
              0.3333333333333333,
              "#9c179e"
             ],
             [
              0.4444444444444444,
              "#bd3786"
             ],
             [
              0.5555555555555556,
              "#d8576b"
             ],
             [
              0.6666666666666666,
              "#ed7953"
             ],
             [
              0.7777777777777778,
              "#fb9f3a"
             ],
             [
              0.8888888888888888,
              "#fdca26"
             ],
             [
              1,
              "#f0f921"
             ]
            ],
            "type": "heatmap"
           }
          ],
          "heatmapgl": [
           {
            "colorbar": {
             "outlinewidth": 0,
             "ticks": ""
            },
            "colorscale": [
             [
              0,
              "#0d0887"
             ],
             [
              0.1111111111111111,
              "#46039f"
             ],
             [
              0.2222222222222222,
              "#7201a8"
             ],
             [
              0.3333333333333333,
              "#9c179e"
             ],
             [
              0.4444444444444444,
              "#bd3786"
             ],
             [
              0.5555555555555556,
              "#d8576b"
             ],
             [
              0.6666666666666666,
              "#ed7953"
             ],
             [
              0.7777777777777778,
              "#fb9f3a"
             ],
             [
              0.8888888888888888,
              "#fdca26"
             ],
             [
              1,
              "#f0f921"
             ]
            ],
            "type": "heatmapgl"
           }
          ],
          "histogram": [
           {
            "marker": {
             "pattern": {
              "fillmode": "overlay",
              "size": 10,
              "solidity": 0.2
             }
            },
            "type": "histogram"
           }
          ],
          "histogram2d": [
           {
            "colorbar": {
             "outlinewidth": 0,
             "ticks": ""
            },
            "colorscale": [
             [
              0,
              "#0d0887"
             ],
             [
              0.1111111111111111,
              "#46039f"
             ],
             [
              0.2222222222222222,
              "#7201a8"
             ],
             [
              0.3333333333333333,
              "#9c179e"
             ],
             [
              0.4444444444444444,
              "#bd3786"
             ],
             [
              0.5555555555555556,
              "#d8576b"
             ],
             [
              0.6666666666666666,
              "#ed7953"
             ],
             [
              0.7777777777777778,
              "#fb9f3a"
             ],
             [
              0.8888888888888888,
              "#fdca26"
             ],
             [
              1,
              "#f0f921"
             ]
            ],
            "type": "histogram2d"
           }
          ],
          "histogram2dcontour": [
           {
            "colorbar": {
             "outlinewidth": 0,
             "ticks": ""
            },
            "colorscale": [
             [
              0,
              "#0d0887"
             ],
             [
              0.1111111111111111,
              "#46039f"
             ],
             [
              0.2222222222222222,
              "#7201a8"
             ],
             [
              0.3333333333333333,
              "#9c179e"
             ],
             [
              0.4444444444444444,
              "#bd3786"
             ],
             [
              0.5555555555555556,
              "#d8576b"
             ],
             [
              0.6666666666666666,
              "#ed7953"
             ],
             [
              0.7777777777777778,
              "#fb9f3a"
             ],
             [
              0.8888888888888888,
              "#fdca26"
             ],
             [
              1,
              "#f0f921"
             ]
            ],
            "type": "histogram2dcontour"
           }
          ],
          "mesh3d": [
           {
            "colorbar": {
             "outlinewidth": 0,
             "ticks": ""
            },
            "type": "mesh3d"
           }
          ],
          "parcoords": [
           {
            "line": {
             "colorbar": {
              "outlinewidth": 0,
              "ticks": ""
             }
            },
            "type": "parcoords"
           }
          ],
          "pie": [
           {
            "automargin": true,
            "type": "pie"
           }
          ],
          "scatter": [
           {
            "fillpattern": {
             "fillmode": "overlay",
             "size": 10,
             "solidity": 0.2
            },
            "type": "scatter"
           }
          ],
          "scatter3d": [
           {
            "line": {
             "colorbar": {
              "outlinewidth": 0,
              "ticks": ""
             }
            },
            "marker": {
             "colorbar": {
              "outlinewidth": 0,
              "ticks": ""
             }
            },
            "type": "scatter3d"
           }
          ],
          "scattercarpet": [
           {
            "marker": {
             "colorbar": {
              "outlinewidth": 0,
              "ticks": ""
             }
            },
            "type": "scattercarpet"
           }
          ],
          "scattergeo": [
           {
            "marker": {
             "colorbar": {
              "outlinewidth": 0,
              "ticks": ""
             }
            },
            "type": "scattergeo"
           }
          ],
          "scattergl": [
           {
            "marker": {
             "colorbar": {
              "outlinewidth": 0,
              "ticks": ""
             }
            },
            "type": "scattergl"
           }
          ],
          "scattermapbox": [
           {
            "marker": {
             "colorbar": {
              "outlinewidth": 0,
              "ticks": ""
             }
            },
            "type": "scattermapbox"
           }
          ],
          "scatterpolar": [
           {
            "marker": {
             "colorbar": {
              "outlinewidth": 0,
              "ticks": ""
             }
            },
            "type": "scatterpolar"
           }
          ],
          "scatterpolargl": [
           {
            "marker": {
             "colorbar": {
              "outlinewidth": 0,
              "ticks": ""
             }
            },
            "type": "scatterpolargl"
           }
          ],
          "scatterternary": [
           {
            "marker": {
             "colorbar": {
              "outlinewidth": 0,
              "ticks": ""
             }
            },
            "type": "scatterternary"
           }
          ],
          "surface": [
           {
            "colorbar": {
             "outlinewidth": 0,
             "ticks": ""
            },
            "colorscale": [
             [
              0,
              "#0d0887"
             ],
             [
              0.1111111111111111,
              "#46039f"
             ],
             [
              0.2222222222222222,
              "#7201a8"
             ],
             [
              0.3333333333333333,
              "#9c179e"
             ],
             [
              0.4444444444444444,
              "#bd3786"
             ],
             [
              0.5555555555555556,
              "#d8576b"
             ],
             [
              0.6666666666666666,
              "#ed7953"
             ],
             [
              0.7777777777777778,
              "#fb9f3a"
             ],
             [
              0.8888888888888888,
              "#fdca26"
             ],
             [
              1,
              "#f0f921"
             ]
            ],
            "type": "surface"
           }
          ],
          "table": [
           {
            "cells": {
             "fill": {
              "color": "#EBF0F8"
             },
             "line": {
              "color": "white"
             }
            },
            "header": {
             "fill": {
              "color": "#C8D4E3"
             },
             "line": {
              "color": "white"
             }
            },
            "type": "table"
           }
          ]
         },
         "layout": {
          "annotationdefaults": {
           "arrowcolor": "#2a3f5f",
           "arrowhead": 0,
           "arrowwidth": 1
          },
          "autotypenumbers": "strict",
          "coloraxis": {
           "colorbar": {
            "outlinewidth": 0,
            "ticks": ""
           }
          },
          "colorscale": {
           "diverging": [
            [
             0,
             "#8e0152"
            ],
            [
             0.1,
             "#c51b7d"
            ],
            [
             0.2,
             "#de77ae"
            ],
            [
             0.3,
             "#f1b6da"
            ],
            [
             0.4,
             "#fde0ef"
            ],
            [
             0.5,
             "#f7f7f7"
            ],
            [
             0.6,
             "#e6f5d0"
            ],
            [
             0.7,
             "#b8e186"
            ],
            [
             0.8,
             "#7fbc41"
            ],
            [
             0.9,
             "#4d9221"
            ],
            [
             1,
             "#276419"
            ]
           ],
           "sequential": [
            [
             0,
             "#0d0887"
            ],
            [
             0.1111111111111111,
             "#46039f"
            ],
            [
             0.2222222222222222,
             "#7201a8"
            ],
            [
             0.3333333333333333,
             "#9c179e"
            ],
            [
             0.4444444444444444,
             "#bd3786"
            ],
            [
             0.5555555555555556,
             "#d8576b"
            ],
            [
             0.6666666666666666,
             "#ed7953"
            ],
            [
             0.7777777777777778,
             "#fb9f3a"
            ],
            [
             0.8888888888888888,
             "#fdca26"
            ],
            [
             1,
             "#f0f921"
            ]
           ],
           "sequentialminus": [
            [
             0,
             "#0d0887"
            ],
            [
             0.1111111111111111,
             "#46039f"
            ],
            [
             0.2222222222222222,
             "#7201a8"
            ],
            [
             0.3333333333333333,
             "#9c179e"
            ],
            [
             0.4444444444444444,
             "#bd3786"
            ],
            [
             0.5555555555555556,
             "#d8576b"
            ],
            [
             0.6666666666666666,
             "#ed7953"
            ],
            [
             0.7777777777777778,
             "#fb9f3a"
            ],
            [
             0.8888888888888888,
             "#fdca26"
            ],
            [
             1,
             "#f0f921"
            ]
           ]
          },
          "colorway": [
           "#636efa",
           "#EF553B",
           "#00cc96",
           "#ab63fa",
           "#FFA15A",
           "#19d3f3",
           "#FF6692",
           "#B6E880",
           "#FF97FF",
           "#FECB52"
          ],
          "font": {
           "color": "#2a3f5f"
          },
          "geo": {
           "bgcolor": "white",
           "lakecolor": "white",
           "landcolor": "#E5ECF6",
           "showlakes": true,
           "showland": true,
           "subunitcolor": "white"
          },
          "hoverlabel": {
           "align": "left"
          },
          "hovermode": "closest",
          "mapbox": {
           "style": "light"
          },
          "paper_bgcolor": "white",
          "plot_bgcolor": "#E5ECF6",
          "polar": {
           "angularaxis": {
            "gridcolor": "white",
            "linecolor": "white",
            "ticks": ""
           },
           "bgcolor": "#E5ECF6",
           "radialaxis": {
            "gridcolor": "white",
            "linecolor": "white",
            "ticks": ""
           }
          },
          "scene": {
           "xaxis": {
            "backgroundcolor": "#E5ECF6",
            "gridcolor": "white",
            "gridwidth": 2,
            "linecolor": "white",
            "showbackground": true,
            "ticks": "",
            "zerolinecolor": "white"
           },
           "yaxis": {
            "backgroundcolor": "#E5ECF6",
            "gridcolor": "white",
            "gridwidth": 2,
            "linecolor": "white",
            "showbackground": true,
            "ticks": "",
            "zerolinecolor": "white"
           },
           "zaxis": {
            "backgroundcolor": "#E5ECF6",
            "gridcolor": "white",
            "gridwidth": 2,
            "linecolor": "white",
            "showbackground": true,
            "ticks": "",
            "zerolinecolor": "white"
           }
          },
          "shapedefaults": {
           "line": {
            "color": "#2a3f5f"
           }
          },
          "ternary": {
           "aaxis": {
            "gridcolor": "white",
            "linecolor": "white",
            "ticks": ""
           },
           "baxis": {
            "gridcolor": "white",
            "linecolor": "white",
            "ticks": ""
           },
           "bgcolor": "#E5ECF6",
           "caxis": {
            "gridcolor": "white",
            "linecolor": "white",
            "ticks": ""
           }
          },
          "title": {
           "x": 0.05
          },
          "xaxis": {
           "automargin": true,
           "gridcolor": "white",
           "linecolor": "white",
           "ticks": "",
           "title": {
            "standoff": 15
           },
           "zerolinecolor": "white",
           "zerolinewidth": 2
          },
          "yaxis": {
           "automargin": true,
           "gridcolor": "white",
           "linecolor": "white",
           "ticks": "",
           "title": {
            "standoff": 15
           },
           "zerolinecolor": "white",
           "zerolinewidth": 2
          }
         }
        },
        "title": {
         "font": {
          "color": "black",
          "size": 20
         },
         "text": "Cosine Similarity between Base and RMU/Ablated Model activations at the last token position",
         "x": 0.05,
         "xanchor": "left"
        },
        "width": 1000,
        "xaxis": {
         "linewidth": 1,
         "ticks": "outside",
         "title": {
          "font": {
           "color": "black",
           "size": 16
          },
          "text": "Layer"
         },
         "zeroline": false
        },
        "yaxis": {
         "linewidth": 1,
         "ticks": "outside",
         "title": {
          "font": {
           "color": "black",
           "size": 16
          },
          "text": "Cosine similarity"
         },
         "zeroline": false
        }
       }
      },
      "text/html": [
       "<div>                            <div id=\"2c4eecbe-9c5d-4086-a587-57ac6c9a7810\" class=\"plotly-graph-div\" style=\"height:600px; width:1000px;\"></div>            <script type=\"text/javascript\">                require([\"plotly\"], function(Plotly) {                    window.PLOTLYENV=window.PLOTLYENV || {};                                    if (document.getElementById(\"2c4eecbe-9c5d-4086-a587-57ac6c9a7810\")) {                    Plotly.newPlot(                        \"2c4eecbe-9c5d-4086-a587-57ac6c9a7810\",                        [{\"hoverinfo\":\"skip\",\"line\":{\"width\":0},\"mode\":\"lines\",\"showlegend\":false,\"x\":[0,1,2,3,4,5,6,7,8,9,10,11,12,13,14,15,16,17,18,19,20,21,22,23,24,25],\"y\":[0.9999960660934448,0.9999657273292542,0.99996417760849,0.9999285936355591,0.9999178647994995,0.9999266266822815,0.9999251961708069,0.9998774528503418,0.9329873919487,0.5777463912963867,0.25778040289878845,0.3292309045791626,0.4067423939704895,0.4089709520339966,0.3915999233722687,0.3998945355415344,0.24759477376937866,0.30955201387405396,0.4134058356285095,0.3645341396331787,0.44807520508766174,0.4509393274784088,0.4862733483314514,0.5585885643959045,0.5957406759262085,0.6278367638587952],\"type\":\"scatter\"},{\"fill\":\"tonexty\",\"fillcolor\":\"rgba(31,119,180,0.1)\",\"hoverinfo\":\"skip\",\"line\":{\"width\":0},\"mode\":\"lines\",\"showlegend\":false,\"x\":[0,1,2,3,4,5,6,7,8,9,10,11,12,13,14,15,16,17,18,19,20,21,22,23,24,25],\"y\":[0.9999960660934448,0.9999828934669495,0.9999841451644897,0.9999682903289795,0.9999732375144958,0.9999724626541138,0.9999736547470093,0.9999762177467346,0.9984740018844604,0.9980443716049194,0.9975232481956482,0.9974219799041748,0.997991681098938,0.9972323179244995,0.9978049993515015,0.997902512550354,0.9983716011047363,0.9978413581848145,0.9982211589813232,0.9984835386276245,0.9989903569221497,0.9990583658218384,0.9993348121643066,0.9993772506713867,0.9994643926620483,0.9995336532592773],\"type\":\"scatter\"},{\"hovertemplate\":\"\\u003cb\\u003eLayer:\\u003c\\u002fb\\u003e %{x}\\u003cbr\\u003e\\u003cb\\u003eBiology (RMU) Mean:\\u003c\\u002fb\\u003e %{y:.3f}\\u003cextra\\u003e\\u003c\\u002fextra\\u003e\",\"line\":{\"color\":\"#1f77b4\",\"width\":3},\"mode\":\"lines\",\"name\":\"Biology (RMU)\",\"x\":[0,1,2,3,4,5,6,7,8,9,10,11,12,13,14,15,16,17,18,19,20,21,22,23,24,25],\"y\":[0.9999969601631165,0.9999764561653137,0.9999778270721436,0.9999548196792603,0.9999528527259827,0.9999561309814453,0.9999561309814453,0.9999583959579468,0.9727523326873779,0.7398442029953003,0.43230578303337097,0.5034287571907043,0.5577613115310669,0.5472276210784912,0.572015643119812,0.593706488609314,0.5573222637176514,0.6192240118980408,0.67286217212677,0.6655623316764832,0.75523841381073,0.7737513184547424,0.8070762157440186,0.8222302198410034,0.8438434600830078,0.8770341277122498],\"type\":\"scatter\"},{\"hoverinfo\":\"skip\",\"line\":{\"width\":0},\"mode\":\"lines\",\"showlegend\":false,\"x\":[0,1,2,3,4,5,6,7,8,9,10,11,12,13,14,15,16,17,18,19,20,21,22,23,24,25],\"y\":[0.9999960660934448,0.9999647736549377,0.9999628067016602,0.9999211430549622,0.9999322891235352,0.9998757243156433,0.9999028444290161,0.9998637437820435,0.9308721423149109,0.562385082244873,0.25074082612991333,0.32617366313934326,0.36639970541000366,0.3744736313819885,0.2884572148323059,0.30712994933128357,0.25839853286743164,0.2891806662082672,0.3764863610267639,0.24607984721660614,0.36483195424079895,0.4319893419742584,0.4941804111003876,0.47236862778663635,0.5225400328636169,0.558150053024292],\"type\":\"scatter\"},{\"fill\":\"tonexty\",\"fillcolor\":\"rgba(255,127,14,0.1)\",\"hoverinfo\":\"skip\",\"line\":{\"width\":0},\"mode\":\"lines\",\"showlegend\":false,\"x\":[0,1,2,3,4,5,6,7,8,9,10,11,12,13,14,15,16,17,18,19,20,21,22,23,24,25],\"y\":[0.999997079372406,0.9999840259552002,0.9999849796295166,0.999971866607666,0.9999749064445496,0.9999735951423645,0.9999746680259705,0.999980092048645,0.9963430762290955,0.9798332452774048,0.9844504594802856,0.983440637588501,0.9810294508934021,0.9753806591033936,0.9837640523910522,0.9815535545349121,0.9905398488044739,0.9926977157592773,0.9936747550964355,0.9934977293014526,0.9945428371429443,0.9947541952133179,0.9939883947372437,0.9948374032974243,0.9940984845161438,0.9951468110084534],\"type\":\"scatter\"},{\"hovertemplate\":\"\\u003cb\\u003eLayer:\\u003c\\u002fb\\u003e %{x}\\u003cbr\\u003e\\u003cb\\u003eCybersecurity (RMU) Mean:\\u003c\\u002fb\\u003e %{y:.3f}\\u003cextra\\u003e\\u003c\\u002fextra\\u003e\",\"line\":{\"color\":\"#ff7f0e\",\"width\":3},\"mode\":\"lines\",\"name\":\"Cybersecurity (RMU)\",\"x\":[0,1,2,3,4,5,6,7,8,9,10,11,12,13,14,15,16,17,18,19,20,21,22,23,24,25],\"y\":[0.9999970197677612,0.9999750256538391,0.9999772310256958,0.9999561309814453,0.9999565482139587,0.9999564290046692,0.9999561905860901,0.9999511241912842,0.9719440340995789,0.782631516456604,0.4595537781715393,0.5131188631057739,0.5487509965896606,0.5234731435775757,0.537431538105011,0.5507019758224487,0.5142509937286377,0.5712136030197144,0.6367868185043335,0.6245355606079102,0.7080863118171692,0.7340078949928284,0.7754029631614685,0.7961350083351135,0.7999268770217896,0.8275654315948486],\"type\":\"scatter\"},{\"hoverinfo\":\"skip\",\"line\":{\"width\":0},\"mode\":\"lines\",\"showlegend\":false,\"x\":[0,1,2,3,4,5,6,7,8,9,10,11,12,13,14,15,16,17,18,19,20,21,22,23,24,25],\"y\":[0.9999935030937195,0.999243974685669,0.9990008473396301,0.9952605366706848,0.9888108968734741,0.9936190247535706,0.9933713674545288,0.9645193815231323,0.9423887133598328,0.8080626130104065,0.74794602394104,0.7726611495018005,0.7454334497451782,0.716736912727356,0.6735098361968994,0.6480311155319214,0.6484217643737793,0.6586658954620361,0.6817420721054077,0.6097279191017151,0.6949054002761841,0.6641474366188049,0.6579271554946899,0.6927907466888428,0.7302721738815308,0.7755296230316162],\"type\":\"scatter\"},{\"fill\":\"tonexty\",\"fillcolor\":\"rgba(44,160,44,0.1)\",\"hoverinfo\":\"skip\",\"line\":{\"width\":0},\"mode\":\"lines\",\"showlegend\":false,\"x\":[0,1,2,3,4,5,6,7,8,9,10,11,12,13,14,15,16,17,18,19,20,21,22,23,24,25],\"y\":[0.9999935030937195,0.999613881111145,0.9994279146194458,0.9979876279830933,0.9942265748977661,0.9976921081542969,0.9976087808609009,0.9844945669174194,0.9854627251625061,0.9806277751922607,0.9747521877288818,0.9708117246627808,0.9806239604949951,0.9747428894042969,0.9831775426864624,0.9799253940582275,0.9841519594192505,0.9870688915252686,0.9862589836120605,0.9859746694564819,0.9883151054382324,0.9886163473129272,0.9912290573120117,0.9920312166213989,0.9929431676864624,0.9929170608520508],\"type\":\"scatter\"},{\"hovertemplate\":\"\\u003cb\\u003eLayer:\\u003c\\u002fb\\u003e %{x}\\u003cbr\\u003e\\u003cb\\u003eBiology (Ablated) Mean:\\u003c\\u002fb\\u003e %{y:.3f}\\u003cextra\\u003e\\u003c\\u002fextra\\u003e\",\"line\":{\"color\":\"#2ca02c\",\"width\":3},\"mode\":\"lines\",\"name\":\"Biology (Ablated)\",\"x\":[0,1,2,3,4,5,6,7,8,9,10,11,12,13,14,15,16,17,18,19,20,21,22,23,24,25],\"y\":[0.9999961256980896,0.9994641542434692,0.9992295503616333,0.9966105222702026,0.9911705851554871,0.9957396388053894,0.9953489899635315,0.9780858159065247,0.9679566025733948,0.9113940596580505,0.883287250995636,0.8949800729751587,0.8995741605758667,0.9018343091011047,0.9216808676719666,0.9169608950614929,0.9232009053230286,0.9313620328903198,0.9388538599014282,0.9334765076637268,0.9466819167137146,0.9474998116493225,0.9580094218254089,0.9597870111465454,0.9637822508811951,0.9672411680221558],\"type\":\"scatter\"},{\"hoverinfo\":\"skip\",\"line\":{\"width\":0},\"mode\":\"lines\",\"showlegend\":false,\"x\":[0,1,2,3,4,5,6,7,8,9,10,11,12,13,14,15,16,17,18,19,20,21,22,23,24,25],\"y\":[0.9999879598617554,0.998874843120575,0.9988986253738403,0.9952640533447266,0.9885978102684021,0.9942378997802734,0.9938148260116577,0.9627066850662231,0.926583468914032,0.7410033941268921,0.6674538850784302,0.6989731192588806,0.6951408386230469,0.6386562585830688,0.6147793531417847,0.5746127963066101,0.5750002264976501,0.5806772112846375,0.6200788021087646,0.4895826578140259,0.5880607962608337,0.610369086265564,0.6314012408256531,0.6487365961074829,0.6737672090530396,0.7057152986526489],\"type\":\"scatter\"},{\"fill\":\"tonexty\",\"fillcolor\":\"rgba(214,39,40,0.1)\",\"hoverinfo\":\"skip\",\"line\":{\"width\":0},\"mode\":\"lines\",\"showlegend\":false,\"x\":[0,1,2,3,4,5,6,7,8,9,10,11,12,13,14,15,16,17,18,19,20,21,22,23,24,25],\"y\":[0.9999935030937195,0.9998596906661987,0.9996825456619263,0.9987480640411377,0.9965167045593262,0.9989427328109741,0.998485803604126,0.9909677505493164,0.9828753471374512,0.9762349128723145,0.9736903309822083,0.9807683229446411,0.9802979230880737,0.977231502532959,0.9861268401145935,0.9858351945877075,0.990081250667572,0.9908454418182373,0.9924126863479614,0.9930800199508667,0.9931739568710327,0.9933786988258362,0.992637038230896,0.9928719997406006,0.9933984279632568,0.9909203052520752],\"type\":\"scatter\"},{\"hovertemplate\":\"\\u003cb\\u003eLayer:\\u003c\\u002fb\\u003e %{x}\\u003cbr\\u003e\\u003cb\\u003eCybersecurity (Ablated) Mean:\\u003c\\u002fb\\u003e %{y:.3f}\\u003cextra\\u003e\\u003c\\u002fextra\\u003e\",\"line\":{\"color\":\"#d62728\",\"width\":3},\"mode\":\"lines\",\"name\":\"Cybersecurity (Ablated)\",\"x\":[0,1,2,3,4,5,6,7,8,9,10,11,12,13,14,15,16,17,18,19,20,21,22,23,24,25],\"y\":[0.9999960660934448,0.9994403719902039,0.9993333220481873,0.9968941807746887,0.992466151714325,0.9968559145927429,0.9964681267738342,0.9795441031455994,0.9636449813842773,0.8976579904556274,0.8160161375999451,0.8371922373771667,0.8355844616889954,0.8281442523002625,0.8484525680541992,0.8373452425003052,0.8393204212188721,0.8517006635665894,0.8713237047195435,0.8594350814819336,0.8815118074417114,0.8835681080818176,0.9008263349533081,0.9083911180496216,0.9121749401092529,0.9216477274894714],\"type\":\"scatter\"}],                        {\"template\":{\"data\":{\"histogram2dcontour\":[{\"type\":\"histogram2dcontour\",\"colorbar\":{\"outlinewidth\":0,\"ticks\":\"\"},\"colorscale\":[[0.0,\"#0d0887\"],[0.1111111111111111,\"#46039f\"],[0.2222222222222222,\"#7201a8\"],[0.3333333333333333,\"#9c179e\"],[0.4444444444444444,\"#bd3786\"],[0.5555555555555556,\"#d8576b\"],[0.6666666666666666,\"#ed7953\"],[0.7777777777777778,\"#fb9f3a\"],[0.8888888888888888,\"#fdca26\"],[1.0,\"#f0f921\"]]}],\"choropleth\":[{\"type\":\"choropleth\",\"colorbar\":{\"outlinewidth\":0,\"ticks\":\"\"}}],\"histogram2d\":[{\"type\":\"histogram2d\",\"colorbar\":{\"outlinewidth\":0,\"ticks\":\"\"},\"colorscale\":[[0.0,\"#0d0887\"],[0.1111111111111111,\"#46039f\"],[0.2222222222222222,\"#7201a8\"],[0.3333333333333333,\"#9c179e\"],[0.4444444444444444,\"#bd3786\"],[0.5555555555555556,\"#d8576b\"],[0.6666666666666666,\"#ed7953\"],[0.7777777777777778,\"#fb9f3a\"],[0.8888888888888888,\"#fdca26\"],[1.0,\"#f0f921\"]]}],\"heatmap\":[{\"type\":\"heatmap\",\"colorbar\":{\"outlinewidth\":0,\"ticks\":\"\"},\"colorscale\":[[0.0,\"#0d0887\"],[0.1111111111111111,\"#46039f\"],[0.2222222222222222,\"#7201a8\"],[0.3333333333333333,\"#9c179e\"],[0.4444444444444444,\"#bd3786\"],[0.5555555555555556,\"#d8576b\"],[0.6666666666666666,\"#ed7953\"],[0.7777777777777778,\"#fb9f3a\"],[0.8888888888888888,\"#fdca26\"],[1.0,\"#f0f921\"]]}],\"heatmapgl\":[{\"type\":\"heatmapgl\",\"colorbar\":{\"outlinewidth\":0,\"ticks\":\"\"},\"colorscale\":[[0.0,\"#0d0887\"],[0.1111111111111111,\"#46039f\"],[0.2222222222222222,\"#7201a8\"],[0.3333333333333333,\"#9c179e\"],[0.4444444444444444,\"#bd3786\"],[0.5555555555555556,\"#d8576b\"],[0.6666666666666666,\"#ed7953\"],[0.7777777777777778,\"#fb9f3a\"],[0.8888888888888888,\"#fdca26\"],[1.0,\"#f0f921\"]]}],\"contourcarpet\":[{\"type\":\"contourcarpet\",\"colorbar\":{\"outlinewidth\":0,\"ticks\":\"\"}}],\"contour\":[{\"type\":\"contour\",\"colorbar\":{\"outlinewidth\":0,\"ticks\":\"\"},\"colorscale\":[[0.0,\"#0d0887\"],[0.1111111111111111,\"#46039f\"],[0.2222222222222222,\"#7201a8\"],[0.3333333333333333,\"#9c179e\"],[0.4444444444444444,\"#bd3786\"],[0.5555555555555556,\"#d8576b\"],[0.6666666666666666,\"#ed7953\"],[0.7777777777777778,\"#fb9f3a\"],[0.8888888888888888,\"#fdca26\"],[1.0,\"#f0f921\"]]}],\"surface\":[{\"type\":\"surface\",\"colorbar\":{\"outlinewidth\":0,\"ticks\":\"\"},\"colorscale\":[[0.0,\"#0d0887\"],[0.1111111111111111,\"#46039f\"],[0.2222222222222222,\"#7201a8\"],[0.3333333333333333,\"#9c179e\"],[0.4444444444444444,\"#bd3786\"],[0.5555555555555556,\"#d8576b\"],[0.6666666666666666,\"#ed7953\"],[0.7777777777777778,\"#fb9f3a\"],[0.8888888888888888,\"#fdca26\"],[1.0,\"#f0f921\"]]}],\"mesh3d\":[{\"type\":\"mesh3d\",\"colorbar\":{\"outlinewidth\":0,\"ticks\":\"\"}}],\"scatter\":[{\"fillpattern\":{\"fillmode\":\"overlay\",\"size\":10,\"solidity\":0.2},\"type\":\"scatter\"}],\"parcoords\":[{\"type\":\"parcoords\",\"line\":{\"colorbar\":{\"outlinewidth\":0,\"ticks\":\"\"}}}],\"scatterpolargl\":[{\"type\":\"scatterpolargl\",\"marker\":{\"colorbar\":{\"outlinewidth\":0,\"ticks\":\"\"}}}],\"bar\":[{\"error_x\":{\"color\":\"#2a3f5f\"},\"error_y\":{\"color\":\"#2a3f5f\"},\"marker\":{\"line\":{\"color\":\"#E5ECF6\",\"width\":0.5},\"pattern\":{\"fillmode\":\"overlay\",\"size\":10,\"solidity\":0.2}},\"type\":\"bar\"}],\"scattergeo\":[{\"type\":\"scattergeo\",\"marker\":{\"colorbar\":{\"outlinewidth\":0,\"ticks\":\"\"}}}],\"scatterpolar\":[{\"type\":\"scatterpolar\",\"marker\":{\"colorbar\":{\"outlinewidth\":0,\"ticks\":\"\"}}}],\"histogram\":[{\"marker\":{\"pattern\":{\"fillmode\":\"overlay\",\"size\":10,\"solidity\":0.2}},\"type\":\"histogram\"}],\"scattergl\":[{\"type\":\"scattergl\",\"marker\":{\"colorbar\":{\"outlinewidth\":0,\"ticks\":\"\"}}}],\"scatter3d\":[{\"type\":\"scatter3d\",\"line\":{\"colorbar\":{\"outlinewidth\":0,\"ticks\":\"\"}},\"marker\":{\"colorbar\":{\"outlinewidth\":0,\"ticks\":\"\"}}}],\"scattermapbox\":[{\"type\":\"scattermapbox\",\"marker\":{\"colorbar\":{\"outlinewidth\":0,\"ticks\":\"\"}}}],\"scatterternary\":[{\"type\":\"scatterternary\",\"marker\":{\"colorbar\":{\"outlinewidth\":0,\"ticks\":\"\"}}}],\"scattercarpet\":[{\"type\":\"scattercarpet\",\"marker\":{\"colorbar\":{\"outlinewidth\":0,\"ticks\":\"\"}}}],\"carpet\":[{\"aaxis\":{\"endlinecolor\":\"#2a3f5f\",\"gridcolor\":\"white\",\"linecolor\":\"white\",\"minorgridcolor\":\"white\",\"startlinecolor\":\"#2a3f5f\"},\"baxis\":{\"endlinecolor\":\"#2a3f5f\",\"gridcolor\":\"white\",\"linecolor\":\"white\",\"minorgridcolor\":\"white\",\"startlinecolor\":\"#2a3f5f\"},\"type\":\"carpet\"}],\"table\":[{\"cells\":{\"fill\":{\"color\":\"#EBF0F8\"},\"line\":{\"color\":\"white\"}},\"header\":{\"fill\":{\"color\":\"#C8D4E3\"},\"line\":{\"color\":\"white\"}},\"type\":\"table\"}],\"barpolar\":[{\"marker\":{\"line\":{\"color\":\"#E5ECF6\",\"width\":0.5},\"pattern\":{\"fillmode\":\"overlay\",\"size\":10,\"solidity\":0.2}},\"type\":\"barpolar\"}],\"pie\":[{\"automargin\":true,\"type\":\"pie\"}]},\"layout\":{\"autotypenumbers\":\"strict\",\"colorway\":[\"#636efa\",\"#EF553B\",\"#00cc96\",\"#ab63fa\",\"#FFA15A\",\"#19d3f3\",\"#FF6692\",\"#B6E880\",\"#FF97FF\",\"#FECB52\"],\"font\":{\"color\":\"#2a3f5f\"},\"hovermode\":\"closest\",\"hoverlabel\":{\"align\":\"left\"},\"paper_bgcolor\":\"white\",\"plot_bgcolor\":\"#E5ECF6\",\"polar\":{\"bgcolor\":\"#E5ECF6\",\"angularaxis\":{\"gridcolor\":\"white\",\"linecolor\":\"white\",\"ticks\":\"\"},\"radialaxis\":{\"gridcolor\":\"white\",\"linecolor\":\"white\",\"ticks\":\"\"}},\"ternary\":{\"bgcolor\":\"#E5ECF6\",\"aaxis\":{\"gridcolor\":\"white\",\"linecolor\":\"white\",\"ticks\":\"\"},\"baxis\":{\"gridcolor\":\"white\",\"linecolor\":\"white\",\"ticks\":\"\"},\"caxis\":{\"gridcolor\":\"white\",\"linecolor\":\"white\",\"ticks\":\"\"}},\"coloraxis\":{\"colorbar\":{\"outlinewidth\":0,\"ticks\":\"\"}},\"colorscale\":{\"sequential\":[[0.0,\"#0d0887\"],[0.1111111111111111,\"#46039f\"],[0.2222222222222222,\"#7201a8\"],[0.3333333333333333,\"#9c179e\"],[0.4444444444444444,\"#bd3786\"],[0.5555555555555556,\"#d8576b\"],[0.6666666666666666,\"#ed7953\"],[0.7777777777777778,\"#fb9f3a\"],[0.8888888888888888,\"#fdca26\"],[1.0,\"#f0f921\"]],\"sequentialminus\":[[0.0,\"#0d0887\"],[0.1111111111111111,\"#46039f\"],[0.2222222222222222,\"#7201a8\"],[0.3333333333333333,\"#9c179e\"],[0.4444444444444444,\"#bd3786\"],[0.5555555555555556,\"#d8576b\"],[0.6666666666666666,\"#ed7953\"],[0.7777777777777778,\"#fb9f3a\"],[0.8888888888888888,\"#fdca26\"],[1.0,\"#f0f921\"]],\"diverging\":[[0,\"#8e0152\"],[0.1,\"#c51b7d\"],[0.2,\"#de77ae\"],[0.3,\"#f1b6da\"],[0.4,\"#fde0ef\"],[0.5,\"#f7f7f7\"],[0.6,\"#e6f5d0\"],[0.7,\"#b8e186\"],[0.8,\"#7fbc41\"],[0.9,\"#4d9221\"],[1,\"#276419\"]]},\"xaxis\":{\"gridcolor\":\"white\",\"linecolor\":\"white\",\"ticks\":\"\",\"title\":{\"standoff\":15},\"zerolinecolor\":\"white\",\"automargin\":true,\"zerolinewidth\":2},\"yaxis\":{\"gridcolor\":\"white\",\"linecolor\":\"white\",\"ticks\":\"\",\"title\":{\"standoff\":15},\"zerolinecolor\":\"white\",\"automargin\":true,\"zerolinewidth\":2},\"scene\":{\"xaxis\":{\"backgroundcolor\":\"#E5ECF6\",\"gridcolor\":\"white\",\"linecolor\":\"white\",\"showbackground\":true,\"ticks\":\"\",\"zerolinecolor\":\"white\",\"gridwidth\":2},\"yaxis\":{\"backgroundcolor\":\"#E5ECF6\",\"gridcolor\":\"white\",\"linecolor\":\"white\",\"showbackground\":true,\"ticks\":\"\",\"zerolinecolor\":\"white\",\"gridwidth\":2},\"zaxis\":{\"backgroundcolor\":\"#E5ECF6\",\"gridcolor\":\"white\",\"linecolor\":\"white\",\"showbackground\":true,\"ticks\":\"\",\"zerolinecolor\":\"white\",\"gridwidth\":2}},\"shapedefaults\":{\"line\":{\"color\":\"#2a3f5f\"}},\"annotationdefaults\":{\"arrowcolor\":\"#2a3f5f\",\"arrowhead\":0,\"arrowwidth\":1},\"geo\":{\"bgcolor\":\"white\",\"landcolor\":\"#E5ECF6\",\"subunitcolor\":\"white\",\"showland\":true,\"showlakes\":true,\"lakecolor\":\"white\"},\"title\":{\"x\":0.05},\"mapbox\":{\"style\":\"light\"}}},\"shapes\":[{\"line\":{\"color\":\"grey\",\"dash\":\"dot\",\"width\":2},\"opacity\":0.7,\"type\":\"line\",\"x0\":10,\"x1\":10,\"xref\":\"x\",\"y0\":0,\"y1\":1,\"yref\":\"y domain\"}],\"annotations\":[{\"font\":{\"color\":\"grey\",\"size\":14},\"showarrow\":false,\"text\":\"Layer 10\",\"x\":10,\"xshift\":30,\"y\":0.8,\"yanchor\":\"middle\",\"yref\":\"paper\"}],\"title\":{\"font\":{\"size\":20,\"color\":\"black\"},\"text\":\"Cosine Similarity between Base and RMU\\u002fAblated Model activations at the last token position\",\"x\":0.05,\"xanchor\":\"left\"},\"xaxis\":{\"title\":{\"font\":{\"size\":16,\"color\":\"black\"},\"text\":\"Layer\"},\"zeroline\":false,\"linewidth\":1,\"ticks\":\"outside\"},\"yaxis\":{\"title\":{\"font\":{\"size\":16,\"color\":\"black\"},\"text\":\"Cosine similarity\"},\"zeroline\":false,\"linewidth\":1,\"ticks\":\"outside\"},\"margin\":{\"l\":80,\"r\":80,\"t\":100,\"b\":120},\"showlegend\":true,\"width\":1000,\"height\":600},                        {\"responsive\": true}                    ).then(function(){\n",
       "                            \n",
       "var gd = document.getElementById('2c4eecbe-9c5d-4086-a587-57ac6c9a7810');\n",
       "var x = new MutationObserver(function (mutations, observer) {{\n",
       "        var display = window.getComputedStyle(gd).display;\n",
       "        if (!display || display === 'none') {{\n",
       "            console.log([gd, 'removed!']);\n",
       "            Plotly.purge(gd);\n",
       "            observer.disconnect();\n",
       "        }}\n",
       "}});\n",
       "\n",
       "// Listen for the removal of the full notebook cells\n",
       "var notebookContainer = gd.closest('#notebook-container');\n",
       "if (notebookContainer) {{\n",
       "    x.observe(notebookContainer, {childList: true});\n",
       "}}\n",
       "\n",
       "// Listen for the clearing of the current output cell\n",
       "var outputEl = gd.closest('.output');\n",
       "if (outputEl) {{\n",
       "    x.observe(outputEl, {childList: true});\n",
       "}}\n",
       "\n",
       "                        })                };                });            </script>        </div>"
      ]
     },
     "metadata": {},
     "output_type": "display_data"
    }
   ],
   "source": [
    "plot_scores_plotly(\n",
    "    scores_group={\n",
    "        \"Biology (RMU)\": bio_rmu_sim.squeeze(-1),\n",
    "        \"Cybersecurity (RMU)\": cyber_rmu_sim.squeeze(-1),\n",
    "        \"Biology (Ablated)\": bio_ablated_sim.squeeze(-1),\n",
    "        \"Cybersecurity (Ablated)\": cyber_ablated_sim.squeeze(-1),\n",
    "    },\n",
    "    layer_of_interest=LAYER_ID + 1,\n",
    "    title=\"Cosine Similarity between Base and RMU/Ablated Model activations at the last token position\",\n",
    "    ylabel=\"Cosine similarity\",\n",
    "    artifact_dir=ARTIFACT_DIR,\n",
    "    artifact_name=\"cosine_ablated_base\",\n",
    "    # color_sequence=[\n",
    "    #     \"#F38181\",\n",
    "    #     \"#FCE38A\",\n",
    "    #     \"#EAFFD0\",\n",
    "    #     \"#95E1D3\"\n",
    "    # ]\n",
    ")"
   ]
  },
  {
   "cell_type": "code",
   "execution_count": 16,
   "id": "5633964a",
   "metadata": {},
   "outputs": [],
   "source": [
    "bio_rmu_norm = torch.linalg.norm(bio_rmu_activations, dim=-1)\n",
    "bio_base_norm = torch.linalg.norm(bio_base_activations, dim=-1)\n",
    "bio_ablated_norm = torch.linalg.norm(bio_ablated_activations, dim=-1)\n",
    "\n",
    "cyber_rmu_norm = torch.linalg.norm(cyber_rmu_activations, dim=-1)\n",
    "cyber_base_norm = torch.linalg.norm(cyber_base_activations, dim=-1)\n",
    "cyber_ablated_norm = torch.linalg.norm(cyber_ablated_activations, dim=-1)"
   ]
  },
  {
   "cell_type": "code",
   "execution_count": 22,
   "id": "eea362f1",
   "metadata": {},
   "outputs": [
    {
     "name": "stdout",
     "output_type": "stream",
     "text": [
      "Plot saved to results/ablated/figures/bio_norm_ablated_base.pdf\n"
     ]
    },
    {
     "data": {
      "application/vnd.plotly.v1+json": {
       "config": {
        "plotlyServerURL": "https://plot.ly"
       },
       "data": [
        {
         "hoverinfo": "skip",
         "line": {
          "width": 0
         },
         "mode": "lines",
         "showlegend": false,
         "type": "scatter",
         "x": [
          0,
          1,
          2,
          3,
          4,
          5,
          6,
          7,
          8,
          9,
          10,
          11,
          12,
          13,
          14,
          15,
          16,
          17,
          18,
          19,
          20,
          21,
          22,
          23,
          24,
          25
         ],
         "y": [
          117.93407440185547,
          62.040767669677734,
          68.92620086669922,
          49.353065490722656,
          51.82175827026367,
          51.90396499633789,
          58.451290130615234,
          62.69755935668945,
          71.14115905761719,
          73.41744995117188,
          79.96163940429688,
          87.76762390136719,
          91.33978271484375,
          93.39297485351562,
          118.65572357177734,
          115.5662841796875,
          118.14450073242188,
          130.05230712890625,
          131.9681396484375,
          137.3095703125,
          167.23143005371094,
          192.3595733642578,
          223.6614990234375,
          259.0248718261719,
          304.7311096191406,
          407.0404357910156
         ]
        },
        {
         "fill": "tonexty",
         "fillcolor": "rgba(31,119,180,0.1)",
         "hoverinfo": "skip",
         "line": {
          "width": 0
         },
         "mode": "lines",
         "showlegend": false,
         "type": "scatter",
         "x": [
          0,
          1,
          2,
          3,
          4,
          5,
          6,
          7,
          8,
          9,
          10,
          11,
          12,
          13,
          14,
          15,
          16,
          17,
          18,
          19,
          20,
          21,
          22,
          23,
          24,
          25
         ],
         "y": [
          117.93407440185547,
          65.70124816894531,
          74.07324981689453,
          55.48268127441406,
          64.88298034667969,
          62.9101448059082,
          70.23936462402344,
          77.6709213256836,
          103.47193145751953,
          125.22583770751953,
          169.89024353027344,
          181.45567321777344,
          176.5133056640625,
          157.36383056640625,
          163.75289916992188,
          150.62229919433594,
          166.63551330566406,
          181.35946655273438,
          182.69749450683594,
          198.17300415039062,
          247.80943298339844,
          273.7291259765625,
          364.9350891113281,
          417.8010559082031,
          454.056396484375,
          542.6027221679688
         ]
        },
        {
         "hovertemplate": "<b>Layer:</b> %{x}<br><b>RMU Model Mean:</b> %{y:.3f}<extra></extra>",
         "line": {
          "color": "#1f77b4",
          "width": 3
         },
         "mode": "lines",
         "name": "RMU Model",
         "type": "scatter",
         "x": [
          0,
          1,
          2,
          3,
          4,
          5,
          6,
          7,
          8,
          9,
          10,
          11,
          12,
          13,
          14,
          15,
          16,
          17,
          18,
          19,
          20,
          21,
          22,
          23,
          24,
          25
         ],
         "y": [
          117.93373107910156,
          63.971920013427734,
          71.65786743164062,
          52.90788269042969,
          58.01734161376953,
          58.93635559082031,
          65.90247344970703,
          69.6036148071289,
          82.67322540283203,
          90.41293334960938,
          135.41110229492188,
          155.25076293945312,
          147.49510192871094,
          135.46131896972656,
          134.35267639160156,
          129.28001403808594,
          130.52491760253906,
          146.25074768066406,
          150.51318359375,
          158.6703643798828,
          196.22039794921875,
          221.76414489746094,
          277.4512023925781,
          323.91607666015625,
          370.4413757324219,
          468.2402648925781
         ]
        },
        {
         "hoverinfo": "skip",
         "line": {
          "width": 0
         },
         "mode": "lines",
         "showlegend": false,
         "type": "scatter",
         "x": [
          0,
          1,
          2,
          3,
          4,
          5,
          6,
          7,
          8,
          9,
          10,
          11,
          12,
          13,
          14,
          15,
          16,
          17,
          18,
          19,
          20,
          21,
          22,
          23,
          24,
          25
         ],
         "y": [
          118.03109741210938,
          62.14690399169922,
          69.02311706542969,
          49.44764709472656,
          51.884971618652344,
          52.01276779174805,
          58.358177185058594,
          62.69749069213867,
          70.73424530029297,
          71.60611724853516,
          74.96875762939453,
          80.84674072265625,
          84.75139617919922,
          85.55525970458984,
          105.2978744506836,
          112.31689453125,
          118.80689239501953,
          131.492919921875,
          146.74229431152344,
          157.656005859375,
          196.6541290283203,
          232.8037109375,
          284.9712219238281,
          330.2391052246094,
          382.3457946777344,
          460.42694091796875
         ]
        },
        {
         "fill": "tonexty",
         "fillcolor": "rgba(255,127,14,0.1)",
         "hoverinfo": "skip",
         "line": {
          "width": 0
         },
         "mode": "lines",
         "showlegend": false,
         "type": "scatter",
         "x": [
          0,
          1,
          2,
          3,
          4,
          5,
          6,
          7,
          8,
          9,
          10,
          11,
          12,
          13,
          14,
          15,
          16,
          17,
          18,
          19,
          20,
          21,
          22,
          23,
          24,
          25
         ],
         "y": [
          118.03109741210938,
          65.75566864013672,
          73.93582916259766,
          55.52766418457031,
          64.91970825195312,
          62.850860595703125,
          70.14338684082031,
          77.5155258178711,
          102.61186981201172,
          116.68528747558594,
          128.89598083496094,
          147.99610900878906,
          192.23724365234375,
          158.44720458984375,
          203.91323852539062,
          166.6815948486328,
          204.93182373046875,
          224.27166748046875,
          213.50196838378906,
          248.05422973632812,
          290.5933532714844,
          303.1647033691406,
          388.3486022949219,
          442.3386535644531,
          486.6152648925781,
          589.611572265625
         ]
        },
        {
         "hovertemplate": "<b>Layer:</b> %{x}<br><b>Base Model Mean:</b> %{y:.3f}<extra></extra>",
         "line": {
          "color": "#ff7f0e",
          "width": 3
         },
         "mode": "lines",
         "name": "Base Model",
         "type": "scatter",
         "x": [
          0,
          1,
          2,
          3,
          4,
          5,
          6,
          7,
          8,
          9,
          10,
          11,
          12,
          13,
          14,
          15,
          16,
          17,
          18,
          19,
          20,
          21,
          22,
          23,
          24,
          25
         ],
         "y": [
          118.03121948242188,
          64.02030944824219,
          71.71549224853516,
          52.96395492553711,
          57.995243072509766,
          58.932743072509766,
          65.79706573486328,
          69.60482025146484,
          81.84620666503906,
          85.00365447998047,
          90.39509582519531,
          99.89590454101562,
          111.307373046875,
          106.15483856201172,
          131.42413330078125,
          133.2418212890625,
          136.59890747070312,
          159.72531127929688,
          176.37318420410156,
          191.70709228515625,
          233.51263427734375,
          261.6078796386719,
          346.9031677246094,
          400.8995361328125,
          446.4939270019531,
          526.2779541015625
         ]
        },
        {
         "hoverinfo": "skip",
         "line": {
          "width": 0
         },
         "mode": "lines",
         "showlegend": false,
         "type": "scatter",
         "x": [
          0,
          1,
          2,
          3,
          4,
          5,
          6,
          7,
          8,
          9,
          10,
          11,
          12,
          13,
          14,
          15,
          16,
          17,
          18,
          19,
          20,
          21,
          22,
          23,
          24,
          25
         ],
         "y": [
          117.93811798095703,
          62.243839263916016,
          68.73486328125,
          49.42803955078125,
          52.084716796875,
          51.970733642578125,
          58.21294021606445,
          59.06727600097656,
          74.293212890625,
          76.50029754638672,
          80.3378677368164,
          82.58828735351562,
          82.99142456054688,
          85.16831970214844,
          104.40164947509766,
          107.45955657958984,
          114.4187240600586,
          131.73141479492188,
          147.74200439453125,
          159.12440490722656,
          195.87127685546875,
          227.0663604736328,
          289.1878356933594,
          346.7530517578125,
          388.57379150390625,
          476.04766845703125
         ]
        },
        {
         "fill": "tonexty",
         "fillcolor": "rgba(44,160,44,0.1)",
         "hoverinfo": "skip",
         "line": {
          "width": 0
         },
         "mode": "lines",
         "showlegend": false,
         "type": "scatter",
         "x": [
          0,
          1,
          2,
          3,
          4,
          5,
          6,
          7,
          8,
          9,
          10,
          11,
          12,
          13,
          14,
          15,
          16,
          17,
          18,
          19,
          20,
          21,
          22,
          23,
          24,
          25
         ],
         "y": [
          117.93811798095703,
          66.04623413085938,
          73.71080780029297,
          55.57421875,
          64.82958984375,
          62.10762405395508,
          70.14581298828125,
          74.92888641357422,
          111.22012329101562,
          156.8900604248047,
          146.6165008544922,
          143.56674194335938,
          157.3488311767578,
          143.71646118164062,
          168.30380249023438,
          160.92637634277344,
          168.51097106933594,
          189.06072998046875,
          199.37490844726562,
          249.25765991210938,
          293.93157958984375,
          306.97320556640625,
          378.8988952636719,
          433.4475402832031,
          487.4970397949219,
          602.2758178710938
         ]
        },
        {
         "hovertemplate": "<b>Layer:</b> %{x}<br><b>Ablated Model Mean:</b> %{y:.3f}<extra></extra>",
         "line": {
          "color": "#2ca02c",
          "width": 3
         },
         "mode": "lines",
         "name": "Ablated Model",
         "type": "scatter",
         "x": [
          0,
          1,
          2,
          3,
          4,
          5,
          6,
          7,
          8,
          9,
          10,
          11,
          12,
          13,
          14,
          15,
          16,
          17,
          18,
          19,
          20,
          21,
          22,
          23,
          24,
          25
         ],
         "y": [
          117.93795013427734,
          64.20795440673828,
          71.60294342041016,
          53.10604476928711,
          58.126380920410156,
          58.51755142211914,
          65.58334350585938,
          66.96070098876953,
          87.59879302978516,
          103.41895294189453,
          107.09841918945312,
          104.82706451416016,
          105.79220581054688,
          103.91128540039062,
          125.25497436523438,
          125.2008285522461,
          128.4862518310547,
          154.1871795654297,
          168.8562469482422,
          185.39479064941406,
          231.60345458984375,
          259.34991455078125,
          343.92230224609375,
          396.4936828613281,
          443.03668212890625,
          527.790771484375
         ]
        }
       ],
       "layout": {
        "annotations": [
         {
          "font": {
           "color": "grey",
           "size": 14
          },
          "showarrow": false,
          "text": "Layer 10",
          "x": 10,
          "xshift": 30,
          "y": 0.8,
          "yanchor": "middle",
          "yref": "paper"
         }
        ],
        "height": 600,
        "margin": {
         "b": 120,
         "l": 80,
         "r": 80,
         "t": 100
        },
        "shapes": [
         {
          "line": {
           "color": "grey",
           "dash": "dot",
           "width": 2
          },
          "opacity": 0.7,
          "type": "line",
          "x0": 10,
          "x1": 10,
          "xref": "x",
          "y0": 0,
          "y1": 1,
          "yref": "y domain"
         }
        ],
        "showlegend": true,
        "template": {
         "data": {
          "bar": [
           {
            "error_x": {
             "color": "#2a3f5f"
            },
            "error_y": {
             "color": "#2a3f5f"
            },
            "marker": {
             "line": {
              "color": "#E5ECF6",
              "width": 0.5
             },
             "pattern": {
              "fillmode": "overlay",
              "size": 10,
              "solidity": 0.2
             }
            },
            "type": "bar"
           }
          ],
          "barpolar": [
           {
            "marker": {
             "line": {
              "color": "#E5ECF6",
              "width": 0.5
             },
             "pattern": {
              "fillmode": "overlay",
              "size": 10,
              "solidity": 0.2
             }
            },
            "type": "barpolar"
           }
          ],
          "carpet": [
           {
            "aaxis": {
             "endlinecolor": "#2a3f5f",
             "gridcolor": "white",
             "linecolor": "white",
             "minorgridcolor": "white",
             "startlinecolor": "#2a3f5f"
            },
            "baxis": {
             "endlinecolor": "#2a3f5f",
             "gridcolor": "white",
             "linecolor": "white",
             "minorgridcolor": "white",
             "startlinecolor": "#2a3f5f"
            },
            "type": "carpet"
           }
          ],
          "choropleth": [
           {
            "colorbar": {
             "outlinewidth": 0,
             "ticks": ""
            },
            "type": "choropleth"
           }
          ],
          "contour": [
           {
            "colorbar": {
             "outlinewidth": 0,
             "ticks": ""
            },
            "colorscale": [
             [
              0,
              "#0d0887"
             ],
             [
              0.1111111111111111,
              "#46039f"
             ],
             [
              0.2222222222222222,
              "#7201a8"
             ],
             [
              0.3333333333333333,
              "#9c179e"
             ],
             [
              0.4444444444444444,
              "#bd3786"
             ],
             [
              0.5555555555555556,
              "#d8576b"
             ],
             [
              0.6666666666666666,
              "#ed7953"
             ],
             [
              0.7777777777777778,
              "#fb9f3a"
             ],
             [
              0.8888888888888888,
              "#fdca26"
             ],
             [
              1,
              "#f0f921"
             ]
            ],
            "type": "contour"
           }
          ],
          "contourcarpet": [
           {
            "colorbar": {
             "outlinewidth": 0,
             "ticks": ""
            },
            "type": "contourcarpet"
           }
          ],
          "heatmap": [
           {
            "colorbar": {
             "outlinewidth": 0,
             "ticks": ""
            },
            "colorscale": [
             [
              0,
              "#0d0887"
             ],
             [
              0.1111111111111111,
              "#46039f"
             ],
             [
              0.2222222222222222,
              "#7201a8"
             ],
             [
              0.3333333333333333,
              "#9c179e"
             ],
             [
              0.4444444444444444,
              "#bd3786"
             ],
             [
              0.5555555555555556,
              "#d8576b"
             ],
             [
              0.6666666666666666,
              "#ed7953"
             ],
             [
              0.7777777777777778,
              "#fb9f3a"
             ],
             [
              0.8888888888888888,
              "#fdca26"
             ],
             [
              1,
              "#f0f921"
             ]
            ],
            "type": "heatmap"
           }
          ],
          "heatmapgl": [
           {
            "colorbar": {
             "outlinewidth": 0,
             "ticks": ""
            },
            "colorscale": [
             [
              0,
              "#0d0887"
             ],
             [
              0.1111111111111111,
              "#46039f"
             ],
             [
              0.2222222222222222,
              "#7201a8"
             ],
             [
              0.3333333333333333,
              "#9c179e"
             ],
             [
              0.4444444444444444,
              "#bd3786"
             ],
             [
              0.5555555555555556,
              "#d8576b"
             ],
             [
              0.6666666666666666,
              "#ed7953"
             ],
             [
              0.7777777777777778,
              "#fb9f3a"
             ],
             [
              0.8888888888888888,
              "#fdca26"
             ],
             [
              1,
              "#f0f921"
             ]
            ],
            "type": "heatmapgl"
           }
          ],
          "histogram": [
           {
            "marker": {
             "pattern": {
              "fillmode": "overlay",
              "size": 10,
              "solidity": 0.2
             }
            },
            "type": "histogram"
           }
          ],
          "histogram2d": [
           {
            "colorbar": {
             "outlinewidth": 0,
             "ticks": ""
            },
            "colorscale": [
             [
              0,
              "#0d0887"
             ],
             [
              0.1111111111111111,
              "#46039f"
             ],
             [
              0.2222222222222222,
              "#7201a8"
             ],
             [
              0.3333333333333333,
              "#9c179e"
             ],
             [
              0.4444444444444444,
              "#bd3786"
             ],
             [
              0.5555555555555556,
              "#d8576b"
             ],
             [
              0.6666666666666666,
              "#ed7953"
             ],
             [
              0.7777777777777778,
              "#fb9f3a"
             ],
             [
              0.8888888888888888,
              "#fdca26"
             ],
             [
              1,
              "#f0f921"
             ]
            ],
            "type": "histogram2d"
           }
          ],
          "histogram2dcontour": [
           {
            "colorbar": {
             "outlinewidth": 0,
             "ticks": ""
            },
            "colorscale": [
             [
              0,
              "#0d0887"
             ],
             [
              0.1111111111111111,
              "#46039f"
             ],
             [
              0.2222222222222222,
              "#7201a8"
             ],
             [
              0.3333333333333333,
              "#9c179e"
             ],
             [
              0.4444444444444444,
              "#bd3786"
             ],
             [
              0.5555555555555556,
              "#d8576b"
             ],
             [
              0.6666666666666666,
              "#ed7953"
             ],
             [
              0.7777777777777778,
              "#fb9f3a"
             ],
             [
              0.8888888888888888,
              "#fdca26"
             ],
             [
              1,
              "#f0f921"
             ]
            ],
            "type": "histogram2dcontour"
           }
          ],
          "mesh3d": [
           {
            "colorbar": {
             "outlinewidth": 0,
             "ticks": ""
            },
            "type": "mesh3d"
           }
          ],
          "parcoords": [
           {
            "line": {
             "colorbar": {
              "outlinewidth": 0,
              "ticks": ""
             }
            },
            "type": "parcoords"
           }
          ],
          "pie": [
           {
            "automargin": true,
            "type": "pie"
           }
          ],
          "scatter": [
           {
            "fillpattern": {
             "fillmode": "overlay",
             "size": 10,
             "solidity": 0.2
            },
            "type": "scatter"
           }
          ],
          "scatter3d": [
           {
            "line": {
             "colorbar": {
              "outlinewidth": 0,
              "ticks": ""
             }
            },
            "marker": {
             "colorbar": {
              "outlinewidth": 0,
              "ticks": ""
             }
            },
            "type": "scatter3d"
           }
          ],
          "scattercarpet": [
           {
            "marker": {
             "colorbar": {
              "outlinewidth": 0,
              "ticks": ""
             }
            },
            "type": "scattercarpet"
           }
          ],
          "scattergeo": [
           {
            "marker": {
             "colorbar": {
              "outlinewidth": 0,
              "ticks": ""
             }
            },
            "type": "scattergeo"
           }
          ],
          "scattergl": [
           {
            "marker": {
             "colorbar": {
              "outlinewidth": 0,
              "ticks": ""
             }
            },
            "type": "scattergl"
           }
          ],
          "scattermapbox": [
           {
            "marker": {
             "colorbar": {
              "outlinewidth": 0,
              "ticks": ""
             }
            },
            "type": "scattermapbox"
           }
          ],
          "scatterpolar": [
           {
            "marker": {
             "colorbar": {
              "outlinewidth": 0,
              "ticks": ""
             }
            },
            "type": "scatterpolar"
           }
          ],
          "scatterpolargl": [
           {
            "marker": {
             "colorbar": {
              "outlinewidth": 0,
              "ticks": ""
             }
            },
            "type": "scatterpolargl"
           }
          ],
          "scatterternary": [
           {
            "marker": {
             "colorbar": {
              "outlinewidth": 0,
              "ticks": ""
             }
            },
            "type": "scatterternary"
           }
          ],
          "surface": [
           {
            "colorbar": {
             "outlinewidth": 0,
             "ticks": ""
            },
            "colorscale": [
             [
              0,
              "#0d0887"
             ],
             [
              0.1111111111111111,
              "#46039f"
             ],
             [
              0.2222222222222222,
              "#7201a8"
             ],
             [
              0.3333333333333333,
              "#9c179e"
             ],
             [
              0.4444444444444444,
              "#bd3786"
             ],
             [
              0.5555555555555556,
              "#d8576b"
             ],
             [
              0.6666666666666666,
              "#ed7953"
             ],
             [
              0.7777777777777778,
              "#fb9f3a"
             ],
             [
              0.8888888888888888,
              "#fdca26"
             ],
             [
              1,
              "#f0f921"
             ]
            ],
            "type": "surface"
           }
          ],
          "table": [
           {
            "cells": {
             "fill": {
              "color": "#EBF0F8"
             },
             "line": {
              "color": "white"
             }
            },
            "header": {
             "fill": {
              "color": "#C8D4E3"
             },
             "line": {
              "color": "white"
             }
            },
            "type": "table"
           }
          ]
         },
         "layout": {
          "annotationdefaults": {
           "arrowcolor": "#2a3f5f",
           "arrowhead": 0,
           "arrowwidth": 1
          },
          "autotypenumbers": "strict",
          "coloraxis": {
           "colorbar": {
            "outlinewidth": 0,
            "ticks": ""
           }
          },
          "colorscale": {
           "diverging": [
            [
             0,
             "#8e0152"
            ],
            [
             0.1,
             "#c51b7d"
            ],
            [
             0.2,
             "#de77ae"
            ],
            [
             0.3,
             "#f1b6da"
            ],
            [
             0.4,
             "#fde0ef"
            ],
            [
             0.5,
             "#f7f7f7"
            ],
            [
             0.6,
             "#e6f5d0"
            ],
            [
             0.7,
             "#b8e186"
            ],
            [
             0.8,
             "#7fbc41"
            ],
            [
             0.9,
             "#4d9221"
            ],
            [
             1,
             "#276419"
            ]
           ],
           "sequential": [
            [
             0,
             "#0d0887"
            ],
            [
             0.1111111111111111,
             "#46039f"
            ],
            [
             0.2222222222222222,
             "#7201a8"
            ],
            [
             0.3333333333333333,
             "#9c179e"
            ],
            [
             0.4444444444444444,
             "#bd3786"
            ],
            [
             0.5555555555555556,
             "#d8576b"
            ],
            [
             0.6666666666666666,
             "#ed7953"
            ],
            [
             0.7777777777777778,
             "#fb9f3a"
            ],
            [
             0.8888888888888888,
             "#fdca26"
            ],
            [
             1,
             "#f0f921"
            ]
           ],
           "sequentialminus": [
            [
             0,
             "#0d0887"
            ],
            [
             0.1111111111111111,
             "#46039f"
            ],
            [
             0.2222222222222222,
             "#7201a8"
            ],
            [
             0.3333333333333333,
             "#9c179e"
            ],
            [
             0.4444444444444444,
             "#bd3786"
            ],
            [
             0.5555555555555556,
             "#d8576b"
            ],
            [
             0.6666666666666666,
             "#ed7953"
            ],
            [
             0.7777777777777778,
             "#fb9f3a"
            ],
            [
             0.8888888888888888,
             "#fdca26"
            ],
            [
             1,
             "#f0f921"
            ]
           ]
          },
          "colorway": [
           "#636efa",
           "#EF553B",
           "#00cc96",
           "#ab63fa",
           "#FFA15A",
           "#19d3f3",
           "#FF6692",
           "#B6E880",
           "#FF97FF",
           "#FECB52"
          ],
          "font": {
           "color": "#2a3f5f"
          },
          "geo": {
           "bgcolor": "white",
           "lakecolor": "white",
           "landcolor": "#E5ECF6",
           "showlakes": true,
           "showland": true,
           "subunitcolor": "white"
          },
          "hoverlabel": {
           "align": "left"
          },
          "hovermode": "closest",
          "mapbox": {
           "style": "light"
          },
          "paper_bgcolor": "white",
          "plot_bgcolor": "#E5ECF6",
          "polar": {
           "angularaxis": {
            "gridcolor": "white",
            "linecolor": "white",
            "ticks": ""
           },
           "bgcolor": "#E5ECF6",
           "radialaxis": {
            "gridcolor": "white",
            "linecolor": "white",
            "ticks": ""
           }
          },
          "scene": {
           "xaxis": {
            "backgroundcolor": "#E5ECF6",
            "gridcolor": "white",
            "gridwidth": 2,
            "linecolor": "white",
            "showbackground": true,
            "ticks": "",
            "zerolinecolor": "white"
           },
           "yaxis": {
            "backgroundcolor": "#E5ECF6",
            "gridcolor": "white",
            "gridwidth": 2,
            "linecolor": "white",
            "showbackground": true,
            "ticks": "",
            "zerolinecolor": "white"
           },
           "zaxis": {
            "backgroundcolor": "#E5ECF6",
            "gridcolor": "white",
            "gridwidth": 2,
            "linecolor": "white",
            "showbackground": true,
            "ticks": "",
            "zerolinecolor": "white"
           }
          },
          "shapedefaults": {
           "line": {
            "color": "#2a3f5f"
           }
          },
          "ternary": {
           "aaxis": {
            "gridcolor": "white",
            "linecolor": "white",
            "ticks": ""
           },
           "baxis": {
            "gridcolor": "white",
            "linecolor": "white",
            "ticks": ""
           },
           "bgcolor": "#E5ECF6",
           "caxis": {
            "gridcolor": "white",
            "linecolor": "white",
            "ticks": ""
           }
          },
          "title": {
           "x": 0.05
          },
          "xaxis": {
           "automargin": true,
           "gridcolor": "white",
           "linecolor": "white",
           "ticks": "",
           "title": {
            "standoff": 15
           },
           "zerolinecolor": "white",
           "zerolinewidth": 2
          },
          "yaxis": {
           "automargin": true,
           "gridcolor": "white",
           "linecolor": "white",
           "ticks": "",
           "title": {
            "standoff": 15
           },
           "zerolinecolor": "white",
           "zerolinewidth": 2
          }
         }
        },
        "title": {
         "font": {
          "color": "black",
          "size": 20
         },
         "text": "Norm of Base/RMU/Ablated Model activations at the last token position (on Biology)",
         "x": 0.05,
         "xanchor": "left"
        },
        "width": 1000,
        "xaxis": {
         "linewidth": 1,
         "ticks": "outside",
         "title": {
          "font": {
           "color": "black",
           "size": 16
          },
          "text": "Layer"
         },
         "zeroline": false
        },
        "yaxis": {
         "linewidth": 1,
         "ticks": "outside",
         "title": {
          "font": {
           "color": "black",
           "size": 16
          },
          "text": "Norm"
         },
         "zeroline": false
        }
       }
      },
      "text/html": [
       "<div>                            <div id=\"dd3d3cec-994c-497d-a725-8e22909e7d87\" class=\"plotly-graph-div\" style=\"height:600px; width:1000px;\"></div>            <script type=\"text/javascript\">                require([\"plotly\"], function(Plotly) {                    window.PLOTLYENV=window.PLOTLYENV || {};                                    if (document.getElementById(\"dd3d3cec-994c-497d-a725-8e22909e7d87\")) {                    Plotly.newPlot(                        \"dd3d3cec-994c-497d-a725-8e22909e7d87\",                        [{\"hoverinfo\":\"skip\",\"line\":{\"width\":0},\"mode\":\"lines\",\"showlegend\":false,\"x\":[0,1,2,3,4,5,6,7,8,9,10,11,12,13,14,15,16,17,18,19,20,21,22,23,24,25],\"y\":[117.93407440185547,62.040767669677734,68.92620086669922,49.353065490722656,51.82175827026367,51.90396499633789,58.451290130615234,62.69755935668945,71.14115905761719,73.41744995117188,79.96163940429688,87.76762390136719,91.33978271484375,93.39297485351562,118.65572357177734,115.5662841796875,118.14450073242188,130.05230712890625,131.9681396484375,137.3095703125,167.23143005371094,192.3595733642578,223.6614990234375,259.0248718261719,304.7311096191406,407.0404357910156],\"type\":\"scatter\"},{\"fill\":\"tonexty\",\"fillcolor\":\"rgba(31,119,180,0.1)\",\"hoverinfo\":\"skip\",\"line\":{\"width\":0},\"mode\":\"lines\",\"showlegend\":false,\"x\":[0,1,2,3,4,5,6,7,8,9,10,11,12,13,14,15,16,17,18,19,20,21,22,23,24,25],\"y\":[117.93407440185547,65.70124816894531,74.07324981689453,55.48268127441406,64.88298034667969,62.9101448059082,70.23936462402344,77.6709213256836,103.47193145751953,125.22583770751953,169.89024353027344,181.45567321777344,176.5133056640625,157.36383056640625,163.75289916992188,150.62229919433594,166.63551330566406,181.35946655273438,182.69749450683594,198.17300415039062,247.80943298339844,273.7291259765625,364.9350891113281,417.8010559082031,454.056396484375,542.6027221679688],\"type\":\"scatter\"},{\"hovertemplate\":\"\\u003cb\\u003eLayer:\\u003c\\u002fb\\u003e %{x}\\u003cbr\\u003e\\u003cb\\u003eRMU Model Mean:\\u003c\\u002fb\\u003e %{y:.3f}\\u003cextra\\u003e\\u003c\\u002fextra\\u003e\",\"line\":{\"color\":\"#1f77b4\",\"width\":3},\"mode\":\"lines\",\"name\":\"RMU Model\",\"x\":[0,1,2,3,4,5,6,7,8,9,10,11,12,13,14,15,16,17,18,19,20,21,22,23,24,25],\"y\":[117.93373107910156,63.971920013427734,71.65786743164062,52.90788269042969,58.01734161376953,58.93635559082031,65.90247344970703,69.6036148071289,82.67322540283203,90.41293334960938,135.41110229492188,155.25076293945312,147.49510192871094,135.46131896972656,134.35267639160156,129.28001403808594,130.52491760253906,146.25074768066406,150.51318359375,158.6703643798828,196.22039794921875,221.76414489746094,277.4512023925781,323.91607666015625,370.4413757324219,468.2402648925781],\"type\":\"scatter\"},{\"hoverinfo\":\"skip\",\"line\":{\"width\":0},\"mode\":\"lines\",\"showlegend\":false,\"x\":[0,1,2,3,4,5,6,7,8,9,10,11,12,13,14,15,16,17,18,19,20,21,22,23,24,25],\"y\":[118.03109741210938,62.14690399169922,69.02311706542969,49.44764709472656,51.884971618652344,52.01276779174805,58.358177185058594,62.69749069213867,70.73424530029297,71.60611724853516,74.96875762939453,80.84674072265625,84.75139617919922,85.55525970458984,105.2978744506836,112.31689453125,118.80689239501953,131.492919921875,146.74229431152344,157.656005859375,196.6541290283203,232.8037109375,284.9712219238281,330.2391052246094,382.3457946777344,460.42694091796875],\"type\":\"scatter\"},{\"fill\":\"tonexty\",\"fillcolor\":\"rgba(255,127,14,0.1)\",\"hoverinfo\":\"skip\",\"line\":{\"width\":0},\"mode\":\"lines\",\"showlegend\":false,\"x\":[0,1,2,3,4,5,6,7,8,9,10,11,12,13,14,15,16,17,18,19,20,21,22,23,24,25],\"y\":[118.03109741210938,65.75566864013672,73.93582916259766,55.52766418457031,64.91970825195312,62.850860595703125,70.14338684082031,77.5155258178711,102.61186981201172,116.68528747558594,128.89598083496094,147.99610900878906,192.23724365234375,158.44720458984375,203.91323852539062,166.6815948486328,204.93182373046875,224.27166748046875,213.50196838378906,248.05422973632812,290.5933532714844,303.1647033691406,388.3486022949219,442.3386535644531,486.6152648925781,589.611572265625],\"type\":\"scatter\"},{\"hovertemplate\":\"\\u003cb\\u003eLayer:\\u003c\\u002fb\\u003e %{x}\\u003cbr\\u003e\\u003cb\\u003eBase Model Mean:\\u003c\\u002fb\\u003e %{y:.3f}\\u003cextra\\u003e\\u003c\\u002fextra\\u003e\",\"line\":{\"color\":\"#ff7f0e\",\"width\":3},\"mode\":\"lines\",\"name\":\"Base Model\",\"x\":[0,1,2,3,4,5,6,7,8,9,10,11,12,13,14,15,16,17,18,19,20,21,22,23,24,25],\"y\":[118.03121948242188,64.02030944824219,71.71549224853516,52.96395492553711,57.995243072509766,58.932743072509766,65.79706573486328,69.60482025146484,81.84620666503906,85.00365447998047,90.39509582519531,99.89590454101562,111.307373046875,106.15483856201172,131.42413330078125,133.2418212890625,136.59890747070312,159.72531127929688,176.37318420410156,191.70709228515625,233.51263427734375,261.6078796386719,346.9031677246094,400.8995361328125,446.4939270019531,526.2779541015625],\"type\":\"scatter\"},{\"hoverinfo\":\"skip\",\"line\":{\"width\":0},\"mode\":\"lines\",\"showlegend\":false,\"x\":[0,1,2,3,4,5,6,7,8,9,10,11,12,13,14,15,16,17,18,19,20,21,22,23,24,25],\"y\":[117.93811798095703,62.243839263916016,68.73486328125,49.42803955078125,52.084716796875,51.970733642578125,58.21294021606445,59.06727600097656,74.293212890625,76.50029754638672,80.3378677368164,82.58828735351562,82.99142456054688,85.16831970214844,104.40164947509766,107.45955657958984,114.4187240600586,131.73141479492188,147.74200439453125,159.12440490722656,195.87127685546875,227.0663604736328,289.1878356933594,346.7530517578125,388.57379150390625,476.04766845703125],\"type\":\"scatter\"},{\"fill\":\"tonexty\",\"fillcolor\":\"rgba(44,160,44,0.1)\",\"hoverinfo\":\"skip\",\"line\":{\"width\":0},\"mode\":\"lines\",\"showlegend\":false,\"x\":[0,1,2,3,4,5,6,7,8,9,10,11,12,13,14,15,16,17,18,19,20,21,22,23,24,25],\"y\":[117.93811798095703,66.04623413085938,73.71080780029297,55.57421875,64.82958984375,62.10762405395508,70.14581298828125,74.92888641357422,111.22012329101562,156.8900604248047,146.6165008544922,143.56674194335938,157.3488311767578,143.71646118164062,168.30380249023438,160.92637634277344,168.51097106933594,189.06072998046875,199.37490844726562,249.25765991210938,293.93157958984375,306.97320556640625,378.8988952636719,433.4475402832031,487.4970397949219,602.2758178710938],\"type\":\"scatter\"},{\"hovertemplate\":\"\\u003cb\\u003eLayer:\\u003c\\u002fb\\u003e %{x}\\u003cbr\\u003e\\u003cb\\u003eAblated Model Mean:\\u003c\\u002fb\\u003e %{y:.3f}\\u003cextra\\u003e\\u003c\\u002fextra\\u003e\",\"line\":{\"color\":\"#2ca02c\",\"width\":3},\"mode\":\"lines\",\"name\":\"Ablated Model\",\"x\":[0,1,2,3,4,5,6,7,8,9,10,11,12,13,14,15,16,17,18,19,20,21,22,23,24,25],\"y\":[117.93795013427734,64.20795440673828,71.60294342041016,53.10604476928711,58.126380920410156,58.51755142211914,65.58334350585938,66.96070098876953,87.59879302978516,103.41895294189453,107.09841918945312,104.82706451416016,105.79220581054688,103.91128540039062,125.25497436523438,125.2008285522461,128.4862518310547,154.1871795654297,168.8562469482422,185.39479064941406,231.60345458984375,259.34991455078125,343.92230224609375,396.4936828613281,443.03668212890625,527.790771484375],\"type\":\"scatter\"}],                        {\"template\":{\"data\":{\"histogram2dcontour\":[{\"type\":\"histogram2dcontour\",\"colorbar\":{\"outlinewidth\":0,\"ticks\":\"\"},\"colorscale\":[[0.0,\"#0d0887\"],[0.1111111111111111,\"#46039f\"],[0.2222222222222222,\"#7201a8\"],[0.3333333333333333,\"#9c179e\"],[0.4444444444444444,\"#bd3786\"],[0.5555555555555556,\"#d8576b\"],[0.6666666666666666,\"#ed7953\"],[0.7777777777777778,\"#fb9f3a\"],[0.8888888888888888,\"#fdca26\"],[1.0,\"#f0f921\"]]}],\"choropleth\":[{\"type\":\"choropleth\",\"colorbar\":{\"outlinewidth\":0,\"ticks\":\"\"}}],\"histogram2d\":[{\"type\":\"histogram2d\",\"colorbar\":{\"outlinewidth\":0,\"ticks\":\"\"},\"colorscale\":[[0.0,\"#0d0887\"],[0.1111111111111111,\"#46039f\"],[0.2222222222222222,\"#7201a8\"],[0.3333333333333333,\"#9c179e\"],[0.4444444444444444,\"#bd3786\"],[0.5555555555555556,\"#d8576b\"],[0.6666666666666666,\"#ed7953\"],[0.7777777777777778,\"#fb9f3a\"],[0.8888888888888888,\"#fdca26\"],[1.0,\"#f0f921\"]]}],\"heatmap\":[{\"type\":\"heatmap\",\"colorbar\":{\"outlinewidth\":0,\"ticks\":\"\"},\"colorscale\":[[0.0,\"#0d0887\"],[0.1111111111111111,\"#46039f\"],[0.2222222222222222,\"#7201a8\"],[0.3333333333333333,\"#9c179e\"],[0.4444444444444444,\"#bd3786\"],[0.5555555555555556,\"#d8576b\"],[0.6666666666666666,\"#ed7953\"],[0.7777777777777778,\"#fb9f3a\"],[0.8888888888888888,\"#fdca26\"],[1.0,\"#f0f921\"]]}],\"heatmapgl\":[{\"type\":\"heatmapgl\",\"colorbar\":{\"outlinewidth\":0,\"ticks\":\"\"},\"colorscale\":[[0.0,\"#0d0887\"],[0.1111111111111111,\"#46039f\"],[0.2222222222222222,\"#7201a8\"],[0.3333333333333333,\"#9c179e\"],[0.4444444444444444,\"#bd3786\"],[0.5555555555555556,\"#d8576b\"],[0.6666666666666666,\"#ed7953\"],[0.7777777777777778,\"#fb9f3a\"],[0.8888888888888888,\"#fdca26\"],[1.0,\"#f0f921\"]]}],\"contourcarpet\":[{\"type\":\"contourcarpet\",\"colorbar\":{\"outlinewidth\":0,\"ticks\":\"\"}}],\"contour\":[{\"type\":\"contour\",\"colorbar\":{\"outlinewidth\":0,\"ticks\":\"\"},\"colorscale\":[[0.0,\"#0d0887\"],[0.1111111111111111,\"#46039f\"],[0.2222222222222222,\"#7201a8\"],[0.3333333333333333,\"#9c179e\"],[0.4444444444444444,\"#bd3786\"],[0.5555555555555556,\"#d8576b\"],[0.6666666666666666,\"#ed7953\"],[0.7777777777777778,\"#fb9f3a\"],[0.8888888888888888,\"#fdca26\"],[1.0,\"#f0f921\"]]}],\"surface\":[{\"type\":\"surface\",\"colorbar\":{\"outlinewidth\":0,\"ticks\":\"\"},\"colorscale\":[[0.0,\"#0d0887\"],[0.1111111111111111,\"#46039f\"],[0.2222222222222222,\"#7201a8\"],[0.3333333333333333,\"#9c179e\"],[0.4444444444444444,\"#bd3786\"],[0.5555555555555556,\"#d8576b\"],[0.6666666666666666,\"#ed7953\"],[0.7777777777777778,\"#fb9f3a\"],[0.8888888888888888,\"#fdca26\"],[1.0,\"#f0f921\"]]}],\"mesh3d\":[{\"type\":\"mesh3d\",\"colorbar\":{\"outlinewidth\":0,\"ticks\":\"\"}}],\"scatter\":[{\"fillpattern\":{\"fillmode\":\"overlay\",\"size\":10,\"solidity\":0.2},\"type\":\"scatter\"}],\"parcoords\":[{\"type\":\"parcoords\",\"line\":{\"colorbar\":{\"outlinewidth\":0,\"ticks\":\"\"}}}],\"scatterpolargl\":[{\"type\":\"scatterpolargl\",\"marker\":{\"colorbar\":{\"outlinewidth\":0,\"ticks\":\"\"}}}],\"bar\":[{\"error_x\":{\"color\":\"#2a3f5f\"},\"error_y\":{\"color\":\"#2a3f5f\"},\"marker\":{\"line\":{\"color\":\"#E5ECF6\",\"width\":0.5},\"pattern\":{\"fillmode\":\"overlay\",\"size\":10,\"solidity\":0.2}},\"type\":\"bar\"}],\"scattergeo\":[{\"type\":\"scattergeo\",\"marker\":{\"colorbar\":{\"outlinewidth\":0,\"ticks\":\"\"}}}],\"scatterpolar\":[{\"type\":\"scatterpolar\",\"marker\":{\"colorbar\":{\"outlinewidth\":0,\"ticks\":\"\"}}}],\"histogram\":[{\"marker\":{\"pattern\":{\"fillmode\":\"overlay\",\"size\":10,\"solidity\":0.2}},\"type\":\"histogram\"}],\"scattergl\":[{\"type\":\"scattergl\",\"marker\":{\"colorbar\":{\"outlinewidth\":0,\"ticks\":\"\"}}}],\"scatter3d\":[{\"type\":\"scatter3d\",\"line\":{\"colorbar\":{\"outlinewidth\":0,\"ticks\":\"\"}},\"marker\":{\"colorbar\":{\"outlinewidth\":0,\"ticks\":\"\"}}}],\"scattermapbox\":[{\"type\":\"scattermapbox\",\"marker\":{\"colorbar\":{\"outlinewidth\":0,\"ticks\":\"\"}}}],\"scatterternary\":[{\"type\":\"scatterternary\",\"marker\":{\"colorbar\":{\"outlinewidth\":0,\"ticks\":\"\"}}}],\"scattercarpet\":[{\"type\":\"scattercarpet\",\"marker\":{\"colorbar\":{\"outlinewidth\":0,\"ticks\":\"\"}}}],\"carpet\":[{\"aaxis\":{\"endlinecolor\":\"#2a3f5f\",\"gridcolor\":\"white\",\"linecolor\":\"white\",\"minorgridcolor\":\"white\",\"startlinecolor\":\"#2a3f5f\"},\"baxis\":{\"endlinecolor\":\"#2a3f5f\",\"gridcolor\":\"white\",\"linecolor\":\"white\",\"minorgridcolor\":\"white\",\"startlinecolor\":\"#2a3f5f\"},\"type\":\"carpet\"}],\"table\":[{\"cells\":{\"fill\":{\"color\":\"#EBF0F8\"},\"line\":{\"color\":\"white\"}},\"header\":{\"fill\":{\"color\":\"#C8D4E3\"},\"line\":{\"color\":\"white\"}},\"type\":\"table\"}],\"barpolar\":[{\"marker\":{\"line\":{\"color\":\"#E5ECF6\",\"width\":0.5},\"pattern\":{\"fillmode\":\"overlay\",\"size\":10,\"solidity\":0.2}},\"type\":\"barpolar\"}],\"pie\":[{\"automargin\":true,\"type\":\"pie\"}]},\"layout\":{\"autotypenumbers\":\"strict\",\"colorway\":[\"#636efa\",\"#EF553B\",\"#00cc96\",\"#ab63fa\",\"#FFA15A\",\"#19d3f3\",\"#FF6692\",\"#B6E880\",\"#FF97FF\",\"#FECB52\"],\"font\":{\"color\":\"#2a3f5f\"},\"hovermode\":\"closest\",\"hoverlabel\":{\"align\":\"left\"},\"paper_bgcolor\":\"white\",\"plot_bgcolor\":\"#E5ECF6\",\"polar\":{\"bgcolor\":\"#E5ECF6\",\"angularaxis\":{\"gridcolor\":\"white\",\"linecolor\":\"white\",\"ticks\":\"\"},\"radialaxis\":{\"gridcolor\":\"white\",\"linecolor\":\"white\",\"ticks\":\"\"}},\"ternary\":{\"bgcolor\":\"#E5ECF6\",\"aaxis\":{\"gridcolor\":\"white\",\"linecolor\":\"white\",\"ticks\":\"\"},\"baxis\":{\"gridcolor\":\"white\",\"linecolor\":\"white\",\"ticks\":\"\"},\"caxis\":{\"gridcolor\":\"white\",\"linecolor\":\"white\",\"ticks\":\"\"}},\"coloraxis\":{\"colorbar\":{\"outlinewidth\":0,\"ticks\":\"\"}},\"colorscale\":{\"sequential\":[[0.0,\"#0d0887\"],[0.1111111111111111,\"#46039f\"],[0.2222222222222222,\"#7201a8\"],[0.3333333333333333,\"#9c179e\"],[0.4444444444444444,\"#bd3786\"],[0.5555555555555556,\"#d8576b\"],[0.6666666666666666,\"#ed7953\"],[0.7777777777777778,\"#fb9f3a\"],[0.8888888888888888,\"#fdca26\"],[1.0,\"#f0f921\"]],\"sequentialminus\":[[0.0,\"#0d0887\"],[0.1111111111111111,\"#46039f\"],[0.2222222222222222,\"#7201a8\"],[0.3333333333333333,\"#9c179e\"],[0.4444444444444444,\"#bd3786\"],[0.5555555555555556,\"#d8576b\"],[0.6666666666666666,\"#ed7953\"],[0.7777777777777778,\"#fb9f3a\"],[0.8888888888888888,\"#fdca26\"],[1.0,\"#f0f921\"]],\"diverging\":[[0,\"#8e0152\"],[0.1,\"#c51b7d\"],[0.2,\"#de77ae\"],[0.3,\"#f1b6da\"],[0.4,\"#fde0ef\"],[0.5,\"#f7f7f7\"],[0.6,\"#e6f5d0\"],[0.7,\"#b8e186\"],[0.8,\"#7fbc41\"],[0.9,\"#4d9221\"],[1,\"#276419\"]]},\"xaxis\":{\"gridcolor\":\"white\",\"linecolor\":\"white\",\"ticks\":\"\",\"title\":{\"standoff\":15},\"zerolinecolor\":\"white\",\"automargin\":true,\"zerolinewidth\":2},\"yaxis\":{\"gridcolor\":\"white\",\"linecolor\":\"white\",\"ticks\":\"\",\"title\":{\"standoff\":15},\"zerolinecolor\":\"white\",\"automargin\":true,\"zerolinewidth\":2},\"scene\":{\"xaxis\":{\"backgroundcolor\":\"#E5ECF6\",\"gridcolor\":\"white\",\"linecolor\":\"white\",\"showbackground\":true,\"ticks\":\"\",\"zerolinecolor\":\"white\",\"gridwidth\":2},\"yaxis\":{\"backgroundcolor\":\"#E5ECF6\",\"gridcolor\":\"white\",\"linecolor\":\"white\",\"showbackground\":true,\"ticks\":\"\",\"zerolinecolor\":\"white\",\"gridwidth\":2},\"zaxis\":{\"backgroundcolor\":\"#E5ECF6\",\"gridcolor\":\"white\",\"linecolor\":\"white\",\"showbackground\":true,\"ticks\":\"\",\"zerolinecolor\":\"white\",\"gridwidth\":2}},\"shapedefaults\":{\"line\":{\"color\":\"#2a3f5f\"}},\"annotationdefaults\":{\"arrowcolor\":\"#2a3f5f\",\"arrowhead\":0,\"arrowwidth\":1},\"geo\":{\"bgcolor\":\"white\",\"landcolor\":\"#E5ECF6\",\"subunitcolor\":\"white\",\"showland\":true,\"showlakes\":true,\"lakecolor\":\"white\"},\"title\":{\"x\":0.05},\"mapbox\":{\"style\":\"light\"}}},\"shapes\":[{\"line\":{\"color\":\"grey\",\"dash\":\"dot\",\"width\":2},\"opacity\":0.7,\"type\":\"line\",\"x0\":10,\"x1\":10,\"xref\":\"x\",\"y0\":0,\"y1\":1,\"yref\":\"y domain\"}],\"annotations\":[{\"font\":{\"color\":\"grey\",\"size\":14},\"showarrow\":false,\"text\":\"Layer 10\",\"x\":10,\"xshift\":30,\"y\":0.8,\"yanchor\":\"middle\",\"yref\":\"paper\"}],\"title\":{\"font\":{\"size\":20,\"color\":\"black\"},\"text\":\"Norm of Base\\u002fRMU\\u002fAblated Model activations at the last token position (on Biology)\",\"x\":0.05,\"xanchor\":\"left\"},\"xaxis\":{\"title\":{\"font\":{\"size\":16,\"color\":\"black\"},\"text\":\"Layer\"},\"zeroline\":false,\"linewidth\":1,\"ticks\":\"outside\"},\"yaxis\":{\"title\":{\"font\":{\"size\":16,\"color\":\"black\"},\"text\":\"Norm\"},\"zeroline\":false,\"linewidth\":1,\"ticks\":\"outside\"},\"margin\":{\"l\":80,\"r\":80,\"t\":100,\"b\":120},\"showlegend\":true,\"width\":1000,\"height\":600},                        {\"responsive\": true}                    ).then(function(){\n",
       "                            \n",
       "var gd = document.getElementById('dd3d3cec-994c-497d-a725-8e22909e7d87');\n",
       "var x = new MutationObserver(function (mutations, observer) {{\n",
       "        var display = window.getComputedStyle(gd).display;\n",
       "        if (!display || display === 'none') {{\n",
       "            console.log([gd, 'removed!']);\n",
       "            Plotly.purge(gd);\n",
       "            observer.disconnect();\n",
       "        }}\n",
       "}});\n",
       "\n",
       "// Listen for the removal of the full notebook cells\n",
       "var notebookContainer = gd.closest('#notebook-container');\n",
       "if (notebookContainer) {{\n",
       "    x.observe(notebookContainer, {childList: true});\n",
       "}}\n",
       "\n",
       "// Listen for the clearing of the current output cell\n",
       "var outputEl = gd.closest('.output');\n",
       "if (outputEl) {{\n",
       "    x.observe(outputEl, {childList: true});\n",
       "}}\n",
       "\n",
       "                        })                };                });            </script>        </div>"
      ]
     },
     "metadata": {},
     "output_type": "display_data"
    }
   ],
   "source": [
    "plot_scores_plotly(\n",
    "    scores_group={\n",
    "        \"RMU Model\": bio_rmu_norm.squeeze(-1),\n",
    "        \"Base Model\": bio_base_norm.squeeze(-1),\n",
    "        \"Ablated Model\": bio_ablated_norm.squeeze(-1),\n",
    "    },\n",
    "    layer_of_interest=LAYER_ID + 1,\n",
    "    title=\"Norm of Base/RMU/Ablated Model activations at the last token position (on Biology)\",\n",
    "    ylabel=\"Norm\",\n",
    "    artifact_dir=ARTIFACT_DIR,\n",
    "    artifact_name=\"bio_norm_ablated_base\",\n",
    ")"
   ]
  },
  {
   "cell_type": "code",
   "execution_count": 23,
   "id": "dc03477e",
   "metadata": {},
   "outputs": [
    {
     "name": "stdout",
     "output_type": "stream",
     "text": [
      "Plot saved to results/ablated/figures/cyber_norm_ablated_base.pdf\n"
     ]
    },
    {
     "data": {
      "application/vnd.plotly.v1+json": {
       "config": {
        "plotlyServerURL": "https://plot.ly"
       },
       "data": [
        {
         "hoverinfo": "skip",
         "line": {
          "width": 0
         },
         "mode": "lines",
         "showlegend": false,
         "type": "scatter",
         "x": [
          0,
          1,
          2,
          3,
          4,
          5,
          6,
          7,
          8,
          9,
          10,
          11,
          12,
          13,
          14,
          15,
          16,
          17,
          18,
          19,
          20,
          21,
          22,
          23,
          24,
          25
         ],
         "y": [
          102.95780181884766,
          58.805660247802734,
          67.89231872558594,
          47.866920471191406,
          49.924705505371094,
          51.37321853637695,
          57.87077331542969,
          58.75910949707031,
          68.33451080322266,
          76.71434783935547,
          96.90367889404297,
          108.22107696533203,
          114.38370513916016,
          109.51874542236328,
          120.51919555664062,
          119.57108306884766,
          123.73885345458984,
          131.6687469482422,
          133.80410766601562,
          129.90475463867188,
          175.92845153808594,
          203.79180908203125,
          262.8953552246094,
          311.2335205078125,
          345.850830078125,
          428.9586486816406
         ]
        },
        {
         "fill": "tonexty",
         "fillcolor": "rgba(31,119,180,0.1)",
         "hoverinfo": "skip",
         "line": {
          "width": 0
         },
         "mode": "lines",
         "showlegend": false,
         "type": "scatter",
         "x": [
          0,
          1,
          2,
          3,
          4,
          5,
          6,
          7,
          8,
          9,
          10,
          11,
          12,
          13,
          14,
          15,
          16,
          17,
          18,
          19,
          20,
          21,
          22,
          23,
          24,
          25
         ],
         "y": [
          117.93407440185547,
          67.46524810791016,
          76.1708755493164,
          64.31363677978516,
          78.80599975585938,
          87.68841552734375,
          92.45584106445312,
          96.57962799072266,
          116.5351791381836,
          137.2096710205078,
          167.03683471679688,
          178.83053588867188,
          179.20372009277344,
          156.10549926757812,
          187.60491943359375,
          180.6128692626953,
          205.0164031982422,
          220.4830780029297,
          231.8860626220703,
          236.76690673828125,
          265.2348937988281,
          302.56536865234375,
          377.5140380859375,
          435.0909423828125,
          475.9883117675781,
          567.0980224609375
         ]
        },
        {
         "hovertemplate": "<b>Layer:</b> %{x}<br><b>RMU Model Mean:</b> %{y:.3f}<extra></extra>",
         "line": {
          "color": "#1f77b4",
          "width": 3
         },
         "mode": "lines",
         "name": "RMU Model",
         "type": "scatter",
         "x": [
          0,
          1,
          2,
          3,
          4,
          5,
          6,
          7,
          8,
          9,
          10,
          11,
          12,
          13,
          14,
          15,
          16,
          17,
          18,
          19,
          20,
          21,
          22,
          23,
          24,
          25
         ],
         "y": [
          117.8089370727539,
          63.02684783935547,
          71.29315948486328,
          52.85881423950195,
          61.18837356567383,
          63.77885437011719,
          71.69225311279297,
          72.9122543334961,
          90.4845962524414,
          102.29338836669922,
          144.95330810546875,
          158.1577606201172,
          148.102783203125,
          132.63485717773438,
          134.4005126953125,
          130.4233856201172,
          137.46536254882812,
          150.1033172607422,
          155.54017639160156,
          168.02780151367188,
          210.93446350097656,
          239.67276000976562,
          312.8622131347656,
          365.8283996582031,
          400.4748840332031,
          486.6617126464844
         ]
        },
        {
         "hoverinfo": "skip",
         "line": {
          "width": 0
         },
         "mode": "lines",
         "showlegend": false,
         "type": "scatter",
         "x": [
          0,
          1,
          2,
          3,
          4,
          5,
          6,
          7,
          8,
          9,
          10,
          11,
          12,
          13,
          14,
          15,
          16,
          17,
          18,
          19,
          20,
          21,
          22,
          23,
          24,
          25
         ],
         "y": [
          102.95821380615234,
          58.89647674560547,
          68.00466918945312,
          47.91777801513672,
          49.87424087524414,
          51.3054084777832,
          57.78313064575195,
          58.63607406616211,
          67.7589340209961,
          74.21340942382812,
          79.90621948242188,
          88.05906677246094,
          95.91461181640625,
          95.3958740234375,
          116.14839172363281,
          124.73965454101562,
          126.66921997070312,
          144.02186584472656,
          149.42013549804688,
          163.51637268066406,
          194.41323852539062,
          228.5055389404297,
          254.6156463623047,
          299.77685546875,
          340.13421630859375,
          435.43310546875
         ]
        },
        {
         "fill": "tonexty",
         "fillcolor": "rgba(255,127,14,0.1)",
         "hoverinfo": "skip",
         "line": {
          "width": 0
         },
         "mode": "lines",
         "showlegend": false,
         "type": "scatter",
         "x": [
          0,
          1,
          2,
          3,
          4,
          5,
          6,
          7,
          8,
          9,
          10,
          11,
          12,
          13,
          14,
          15,
          16,
          17,
          18,
          19,
          20,
          21,
          22,
          23,
          24,
          25
         ],
         "y": [
          118.03109741210938,
          67.3890609741211,
          76.2605209350586,
          64.30118560791016,
          78.88777923583984,
          87.80210876464844,
          92.47431945800781,
          96.38274383544922,
          115.88427734375,
          141.2199249267578,
          141.4027557373047,
          167.68235778808594,
          202.72547912597656,
          158.73936462402344,
          204.21421813964844,
          194.85092163085938,
          224.35781860351562,
          249.92971801757812,
          250.83409118652344,
          255.05455017089844,
          282.7127380371094,
          321.55657958984375,
          410.1728820800781,
          497.7898864746094,
          492.67840576171875,
          577.8369750976562
         ]
        },
        {
         "hovertemplate": "<b>Layer:</b> %{x}<br><b>Base Model Mean:</b> %{y:.3f}<extra></extra>",
         "line": {
          "color": "#ff7f0e",
          "width": 3
         },
         "mode": "lines",
         "name": "Base Model",
         "type": "scatter",
         "x": [
          0,
          1,
          2,
          3,
          4,
          5,
          6,
          7,
          8,
          9,
          10,
          11,
          12,
          13,
          14,
          15,
          16,
          17,
          18,
          19,
          20,
          21,
          22,
          23,
          24,
          25
         ],
         "y": [
          117.90560913085938,
          63.07391357421875,
          71.35531616210938,
          52.90342330932617,
          61.190425872802734,
          63.79518127441406,
          71.64695739746094,
          72.91790008544922,
          89.66952514648438,
          95.96733093261719,
          101.43583679199219,
          114.2125473022461,
          126.49105834960938,
          119.86033630371094,
          147.7843780517578,
          148.3427276611328,
          157.36668395996094,
          173.31356811523438,
          185.8408660888672,
          201.27354431152344,
          241.30487060546875,
          267.25079345703125,
          339.81085205078125,
          399.8537292480469,
          435.8841247558594,
          516.5067749023438
         ]
        },
        {
         "hoverinfo": "skip",
         "line": {
          "width": 0
         },
         "mode": "lines",
         "showlegend": false,
         "type": "scatter",
         "x": [
          0,
          1,
          2,
          3,
          4,
          5,
          6,
          7,
          8,
          9,
          10,
          11,
          12,
          13,
          14,
          15,
          16,
          17,
          18,
          19,
          20,
          21,
          22,
          23,
          24,
          25
         ],
         "y": [
          102.95879364013672,
          58.80508804321289,
          67.76414489746094,
          47.87917709350586,
          49.81149673461914,
          51.06950378417969,
          58.170249938964844,
          57.709102630615234,
          71.10013580322266,
          81.60039520263672,
          88.67029571533203,
          101.21138000488281,
          100.14154052734375,
          93.576416015625,
          105.09989166259766,
          109.97883605957031,
          111.52316284179688,
          129.95663452148438,
          139.34841918945312,
          157.95582580566406,
          189.7304229736328,
          224.72955322265625,
          282.3628234863281,
          317.1250915527344,
          347.5137023925781,
          459.7913513183594
         ]
        },
        {
         "fill": "tonexty",
         "fillcolor": "rgba(44,160,44,0.1)",
         "hoverinfo": "skip",
         "line": {
          "width": 0
         },
         "mode": "lines",
         "showlegend": false,
         "type": "scatter",
         "x": [
          0,
          1,
          2,
          3,
          4,
          5,
          6,
          7,
          8,
          9,
          10,
          11,
          12,
          13,
          14,
          15,
          16,
          17,
          18,
          19,
          20,
          21,
          22,
          23,
          24,
          25
         ],
         "y": [
          117.93811798095703,
          67.33415222167969,
          75.87512969970703,
          64.1906509399414,
          78.20196533203125,
          86.8626708984375,
          91.89022827148438,
          94.85399627685547,
          125.99371337890625,
          181.80340576171875,
          184.39718627929688,
          176.59149169921875,
          184.59535217285156,
          150.63819885253906,
          191.67822265625,
          185.7352294921875,
          210.56761169433594,
          226.51712036132812,
          235.6309814453125,
          242.3266143798828,
          269.713134765625,
          308.22412109375,
          381.53289794921875,
          460.3504333496094,
          477.0865173339844,
          581.1617431640625
         ]
        },
        {
         "hovertemplate": "<b>Layer:</b> %{x}<br><b>Ablated Model Mean:</b> %{y:.3f}<extra></extra>",
         "line": {
          "color": "#2ca02c",
          "width": 3
         },
         "mode": "lines",
         "name": "Ablated Model",
         "type": "scatter",
         "x": [
          0,
          1,
          2,
          3,
          4,
          5,
          6,
          7,
          8,
          9,
          10,
          11,
          12,
          13,
          14,
          15,
          16,
          17,
          18,
          19,
          20,
          21,
          22,
          23,
          24,
          25
         ],
         "y": [
          117.81312561035156,
          63.162132263183594,
          71.1641616821289,
          52.80950927734375,
          61.1709098815918,
          63.72097396850586,
          71.78602600097656,
          70.46359252929688,
          97.8855972290039,
          122.07933807373047,
          131.02674865722656,
          126.86524200439453,
          121.95145416259766,
          111.37296295166016,
          126.35486602783203,
          129.0673370361328,
          134.1627655029297,
          153.5318145751953,
          167.839599609375,
          187.27142333984375,
          234.71951293945312,
          262.2960510253906,
          341.9306640625,
          399.0016784667969,
          433.9308166503906,
          515.4207153320312
         ]
        }
       ],
       "layout": {
        "annotations": [
         {
          "font": {
           "color": "grey",
           "size": 14
          },
          "showarrow": false,
          "text": "Layer 10",
          "x": 10,
          "xshift": 30,
          "y": 0.8,
          "yanchor": "middle",
          "yref": "paper"
         }
        ],
        "height": 600,
        "margin": {
         "b": 120,
         "l": 80,
         "r": 80,
         "t": 100
        },
        "shapes": [
         {
          "line": {
           "color": "grey",
           "dash": "dot",
           "width": 2
          },
          "opacity": 0.7,
          "type": "line",
          "x0": 10,
          "x1": 10,
          "xref": "x",
          "y0": 0,
          "y1": 1,
          "yref": "y domain"
         }
        ],
        "showlegend": true,
        "template": {
         "data": {
          "bar": [
           {
            "error_x": {
             "color": "#2a3f5f"
            },
            "error_y": {
             "color": "#2a3f5f"
            },
            "marker": {
             "line": {
              "color": "#E5ECF6",
              "width": 0.5
             },
             "pattern": {
              "fillmode": "overlay",
              "size": 10,
              "solidity": 0.2
             }
            },
            "type": "bar"
           }
          ],
          "barpolar": [
           {
            "marker": {
             "line": {
              "color": "#E5ECF6",
              "width": 0.5
             },
             "pattern": {
              "fillmode": "overlay",
              "size": 10,
              "solidity": 0.2
             }
            },
            "type": "barpolar"
           }
          ],
          "carpet": [
           {
            "aaxis": {
             "endlinecolor": "#2a3f5f",
             "gridcolor": "white",
             "linecolor": "white",
             "minorgridcolor": "white",
             "startlinecolor": "#2a3f5f"
            },
            "baxis": {
             "endlinecolor": "#2a3f5f",
             "gridcolor": "white",
             "linecolor": "white",
             "minorgridcolor": "white",
             "startlinecolor": "#2a3f5f"
            },
            "type": "carpet"
           }
          ],
          "choropleth": [
           {
            "colorbar": {
             "outlinewidth": 0,
             "ticks": ""
            },
            "type": "choropleth"
           }
          ],
          "contour": [
           {
            "colorbar": {
             "outlinewidth": 0,
             "ticks": ""
            },
            "colorscale": [
             [
              0,
              "#0d0887"
             ],
             [
              0.1111111111111111,
              "#46039f"
             ],
             [
              0.2222222222222222,
              "#7201a8"
             ],
             [
              0.3333333333333333,
              "#9c179e"
             ],
             [
              0.4444444444444444,
              "#bd3786"
             ],
             [
              0.5555555555555556,
              "#d8576b"
             ],
             [
              0.6666666666666666,
              "#ed7953"
             ],
             [
              0.7777777777777778,
              "#fb9f3a"
             ],
             [
              0.8888888888888888,
              "#fdca26"
             ],
             [
              1,
              "#f0f921"
             ]
            ],
            "type": "contour"
           }
          ],
          "contourcarpet": [
           {
            "colorbar": {
             "outlinewidth": 0,
             "ticks": ""
            },
            "type": "contourcarpet"
           }
          ],
          "heatmap": [
           {
            "colorbar": {
             "outlinewidth": 0,
             "ticks": ""
            },
            "colorscale": [
             [
              0,
              "#0d0887"
             ],
             [
              0.1111111111111111,
              "#46039f"
             ],
             [
              0.2222222222222222,
              "#7201a8"
             ],
             [
              0.3333333333333333,
              "#9c179e"
             ],
             [
              0.4444444444444444,
              "#bd3786"
             ],
             [
              0.5555555555555556,
              "#d8576b"
             ],
             [
              0.6666666666666666,
              "#ed7953"
             ],
             [
              0.7777777777777778,
              "#fb9f3a"
             ],
             [
              0.8888888888888888,
              "#fdca26"
             ],
             [
              1,
              "#f0f921"
             ]
            ],
            "type": "heatmap"
           }
          ],
          "heatmapgl": [
           {
            "colorbar": {
             "outlinewidth": 0,
             "ticks": ""
            },
            "colorscale": [
             [
              0,
              "#0d0887"
             ],
             [
              0.1111111111111111,
              "#46039f"
             ],
             [
              0.2222222222222222,
              "#7201a8"
             ],
             [
              0.3333333333333333,
              "#9c179e"
             ],
             [
              0.4444444444444444,
              "#bd3786"
             ],
             [
              0.5555555555555556,
              "#d8576b"
             ],
             [
              0.6666666666666666,
              "#ed7953"
             ],
             [
              0.7777777777777778,
              "#fb9f3a"
             ],
             [
              0.8888888888888888,
              "#fdca26"
             ],
             [
              1,
              "#f0f921"
             ]
            ],
            "type": "heatmapgl"
           }
          ],
          "histogram": [
           {
            "marker": {
             "pattern": {
              "fillmode": "overlay",
              "size": 10,
              "solidity": 0.2
             }
            },
            "type": "histogram"
           }
          ],
          "histogram2d": [
           {
            "colorbar": {
             "outlinewidth": 0,
             "ticks": ""
            },
            "colorscale": [
             [
              0,
              "#0d0887"
             ],
             [
              0.1111111111111111,
              "#46039f"
             ],
             [
              0.2222222222222222,
              "#7201a8"
             ],
             [
              0.3333333333333333,
              "#9c179e"
             ],
             [
              0.4444444444444444,
              "#bd3786"
             ],
             [
              0.5555555555555556,
              "#d8576b"
             ],
             [
              0.6666666666666666,
              "#ed7953"
             ],
             [
              0.7777777777777778,
              "#fb9f3a"
             ],
             [
              0.8888888888888888,
              "#fdca26"
             ],
             [
              1,
              "#f0f921"
             ]
            ],
            "type": "histogram2d"
           }
          ],
          "histogram2dcontour": [
           {
            "colorbar": {
             "outlinewidth": 0,
             "ticks": ""
            },
            "colorscale": [
             [
              0,
              "#0d0887"
             ],
             [
              0.1111111111111111,
              "#46039f"
             ],
             [
              0.2222222222222222,
              "#7201a8"
             ],
             [
              0.3333333333333333,
              "#9c179e"
             ],
             [
              0.4444444444444444,
              "#bd3786"
             ],
             [
              0.5555555555555556,
              "#d8576b"
             ],
             [
              0.6666666666666666,
              "#ed7953"
             ],
             [
              0.7777777777777778,
              "#fb9f3a"
             ],
             [
              0.8888888888888888,
              "#fdca26"
             ],
             [
              1,
              "#f0f921"
             ]
            ],
            "type": "histogram2dcontour"
           }
          ],
          "mesh3d": [
           {
            "colorbar": {
             "outlinewidth": 0,
             "ticks": ""
            },
            "type": "mesh3d"
           }
          ],
          "parcoords": [
           {
            "line": {
             "colorbar": {
              "outlinewidth": 0,
              "ticks": ""
             }
            },
            "type": "parcoords"
           }
          ],
          "pie": [
           {
            "automargin": true,
            "type": "pie"
           }
          ],
          "scatter": [
           {
            "fillpattern": {
             "fillmode": "overlay",
             "size": 10,
             "solidity": 0.2
            },
            "type": "scatter"
           }
          ],
          "scatter3d": [
           {
            "line": {
             "colorbar": {
              "outlinewidth": 0,
              "ticks": ""
             }
            },
            "marker": {
             "colorbar": {
              "outlinewidth": 0,
              "ticks": ""
             }
            },
            "type": "scatter3d"
           }
          ],
          "scattercarpet": [
           {
            "marker": {
             "colorbar": {
              "outlinewidth": 0,
              "ticks": ""
             }
            },
            "type": "scattercarpet"
           }
          ],
          "scattergeo": [
           {
            "marker": {
             "colorbar": {
              "outlinewidth": 0,
              "ticks": ""
             }
            },
            "type": "scattergeo"
           }
          ],
          "scattergl": [
           {
            "marker": {
             "colorbar": {
              "outlinewidth": 0,
              "ticks": ""
             }
            },
            "type": "scattergl"
           }
          ],
          "scattermapbox": [
           {
            "marker": {
             "colorbar": {
              "outlinewidth": 0,
              "ticks": ""
             }
            },
            "type": "scattermapbox"
           }
          ],
          "scatterpolar": [
           {
            "marker": {
             "colorbar": {
              "outlinewidth": 0,
              "ticks": ""
             }
            },
            "type": "scatterpolar"
           }
          ],
          "scatterpolargl": [
           {
            "marker": {
             "colorbar": {
              "outlinewidth": 0,
              "ticks": ""
             }
            },
            "type": "scatterpolargl"
           }
          ],
          "scatterternary": [
           {
            "marker": {
             "colorbar": {
              "outlinewidth": 0,
              "ticks": ""
             }
            },
            "type": "scatterternary"
           }
          ],
          "surface": [
           {
            "colorbar": {
             "outlinewidth": 0,
             "ticks": ""
            },
            "colorscale": [
             [
              0,
              "#0d0887"
             ],
             [
              0.1111111111111111,
              "#46039f"
             ],
             [
              0.2222222222222222,
              "#7201a8"
             ],
             [
              0.3333333333333333,
              "#9c179e"
             ],
             [
              0.4444444444444444,
              "#bd3786"
             ],
             [
              0.5555555555555556,
              "#d8576b"
             ],
             [
              0.6666666666666666,
              "#ed7953"
             ],
             [
              0.7777777777777778,
              "#fb9f3a"
             ],
             [
              0.8888888888888888,
              "#fdca26"
             ],
             [
              1,
              "#f0f921"
             ]
            ],
            "type": "surface"
           }
          ],
          "table": [
           {
            "cells": {
             "fill": {
              "color": "#EBF0F8"
             },
             "line": {
              "color": "white"
             }
            },
            "header": {
             "fill": {
              "color": "#C8D4E3"
             },
             "line": {
              "color": "white"
             }
            },
            "type": "table"
           }
          ]
         },
         "layout": {
          "annotationdefaults": {
           "arrowcolor": "#2a3f5f",
           "arrowhead": 0,
           "arrowwidth": 1
          },
          "autotypenumbers": "strict",
          "coloraxis": {
           "colorbar": {
            "outlinewidth": 0,
            "ticks": ""
           }
          },
          "colorscale": {
           "diverging": [
            [
             0,
             "#8e0152"
            ],
            [
             0.1,
             "#c51b7d"
            ],
            [
             0.2,
             "#de77ae"
            ],
            [
             0.3,
             "#f1b6da"
            ],
            [
             0.4,
             "#fde0ef"
            ],
            [
             0.5,
             "#f7f7f7"
            ],
            [
             0.6,
             "#e6f5d0"
            ],
            [
             0.7,
             "#b8e186"
            ],
            [
             0.8,
             "#7fbc41"
            ],
            [
             0.9,
             "#4d9221"
            ],
            [
             1,
             "#276419"
            ]
           ],
           "sequential": [
            [
             0,
             "#0d0887"
            ],
            [
             0.1111111111111111,
             "#46039f"
            ],
            [
             0.2222222222222222,
             "#7201a8"
            ],
            [
             0.3333333333333333,
             "#9c179e"
            ],
            [
             0.4444444444444444,
             "#bd3786"
            ],
            [
             0.5555555555555556,
             "#d8576b"
            ],
            [
             0.6666666666666666,
             "#ed7953"
            ],
            [
             0.7777777777777778,
             "#fb9f3a"
            ],
            [
             0.8888888888888888,
             "#fdca26"
            ],
            [
             1,
             "#f0f921"
            ]
           ],
           "sequentialminus": [
            [
             0,
             "#0d0887"
            ],
            [
             0.1111111111111111,
             "#46039f"
            ],
            [
             0.2222222222222222,
             "#7201a8"
            ],
            [
             0.3333333333333333,
             "#9c179e"
            ],
            [
             0.4444444444444444,
             "#bd3786"
            ],
            [
             0.5555555555555556,
             "#d8576b"
            ],
            [
             0.6666666666666666,
             "#ed7953"
            ],
            [
             0.7777777777777778,
             "#fb9f3a"
            ],
            [
             0.8888888888888888,
             "#fdca26"
            ],
            [
             1,
             "#f0f921"
            ]
           ]
          },
          "colorway": [
           "#636efa",
           "#EF553B",
           "#00cc96",
           "#ab63fa",
           "#FFA15A",
           "#19d3f3",
           "#FF6692",
           "#B6E880",
           "#FF97FF",
           "#FECB52"
          ],
          "font": {
           "color": "#2a3f5f"
          },
          "geo": {
           "bgcolor": "white",
           "lakecolor": "white",
           "landcolor": "#E5ECF6",
           "showlakes": true,
           "showland": true,
           "subunitcolor": "white"
          },
          "hoverlabel": {
           "align": "left"
          },
          "hovermode": "closest",
          "mapbox": {
           "style": "light"
          },
          "paper_bgcolor": "white",
          "plot_bgcolor": "#E5ECF6",
          "polar": {
           "angularaxis": {
            "gridcolor": "white",
            "linecolor": "white",
            "ticks": ""
           },
           "bgcolor": "#E5ECF6",
           "radialaxis": {
            "gridcolor": "white",
            "linecolor": "white",
            "ticks": ""
           }
          },
          "scene": {
           "xaxis": {
            "backgroundcolor": "#E5ECF6",
            "gridcolor": "white",
            "gridwidth": 2,
            "linecolor": "white",
            "showbackground": true,
            "ticks": "",
            "zerolinecolor": "white"
           },
           "yaxis": {
            "backgroundcolor": "#E5ECF6",
            "gridcolor": "white",
            "gridwidth": 2,
            "linecolor": "white",
            "showbackground": true,
            "ticks": "",
            "zerolinecolor": "white"
           },
           "zaxis": {
            "backgroundcolor": "#E5ECF6",
            "gridcolor": "white",
            "gridwidth": 2,
            "linecolor": "white",
            "showbackground": true,
            "ticks": "",
            "zerolinecolor": "white"
           }
          },
          "shapedefaults": {
           "line": {
            "color": "#2a3f5f"
           }
          },
          "ternary": {
           "aaxis": {
            "gridcolor": "white",
            "linecolor": "white",
            "ticks": ""
           },
           "baxis": {
            "gridcolor": "white",
            "linecolor": "white",
            "ticks": ""
           },
           "bgcolor": "#E5ECF6",
           "caxis": {
            "gridcolor": "white",
            "linecolor": "white",
            "ticks": ""
           }
          },
          "title": {
           "x": 0.05
          },
          "xaxis": {
           "automargin": true,
           "gridcolor": "white",
           "linecolor": "white",
           "ticks": "",
           "title": {
            "standoff": 15
           },
           "zerolinecolor": "white",
           "zerolinewidth": 2
          },
          "yaxis": {
           "automargin": true,
           "gridcolor": "white",
           "linecolor": "white",
           "ticks": "",
           "title": {
            "standoff": 15
           },
           "zerolinecolor": "white",
           "zerolinewidth": 2
          }
         }
        },
        "title": {
         "font": {
          "color": "black",
          "size": 20
         },
         "text": "Norm of Base/RMU/Ablated Model activations at the last token position (on Cyber)",
         "x": 0.05,
         "xanchor": "left"
        },
        "width": 1000,
        "xaxis": {
         "linewidth": 1,
         "ticks": "outside",
         "title": {
          "font": {
           "color": "black",
           "size": 16
          },
          "text": "Layer"
         },
         "zeroline": false
        },
        "yaxis": {
         "linewidth": 1,
         "ticks": "outside",
         "title": {
          "font": {
           "color": "black",
           "size": 16
          },
          "text": "Norm"
         },
         "zeroline": false
        }
       }
      },
      "text/html": [
       "<div>                            <div id=\"515053af-ec1f-4c8d-8c0f-c30f791a04cf\" class=\"plotly-graph-div\" style=\"height:600px; width:1000px;\"></div>            <script type=\"text/javascript\">                require([\"plotly\"], function(Plotly) {                    window.PLOTLYENV=window.PLOTLYENV || {};                                    if (document.getElementById(\"515053af-ec1f-4c8d-8c0f-c30f791a04cf\")) {                    Plotly.newPlot(                        \"515053af-ec1f-4c8d-8c0f-c30f791a04cf\",                        [{\"hoverinfo\":\"skip\",\"line\":{\"width\":0},\"mode\":\"lines\",\"showlegend\":false,\"x\":[0,1,2,3,4,5,6,7,8,9,10,11,12,13,14,15,16,17,18,19,20,21,22,23,24,25],\"y\":[102.95780181884766,58.805660247802734,67.89231872558594,47.866920471191406,49.924705505371094,51.37321853637695,57.87077331542969,58.75910949707031,68.33451080322266,76.71434783935547,96.90367889404297,108.22107696533203,114.38370513916016,109.51874542236328,120.51919555664062,119.57108306884766,123.73885345458984,131.6687469482422,133.80410766601562,129.90475463867188,175.92845153808594,203.79180908203125,262.8953552246094,311.2335205078125,345.850830078125,428.9586486816406],\"type\":\"scatter\"},{\"fill\":\"tonexty\",\"fillcolor\":\"rgba(31,119,180,0.1)\",\"hoverinfo\":\"skip\",\"line\":{\"width\":0},\"mode\":\"lines\",\"showlegend\":false,\"x\":[0,1,2,3,4,5,6,7,8,9,10,11,12,13,14,15,16,17,18,19,20,21,22,23,24,25],\"y\":[117.93407440185547,67.46524810791016,76.1708755493164,64.31363677978516,78.80599975585938,87.68841552734375,92.45584106445312,96.57962799072266,116.5351791381836,137.2096710205078,167.03683471679688,178.83053588867188,179.20372009277344,156.10549926757812,187.60491943359375,180.6128692626953,205.0164031982422,220.4830780029297,231.8860626220703,236.76690673828125,265.2348937988281,302.56536865234375,377.5140380859375,435.0909423828125,475.9883117675781,567.0980224609375],\"type\":\"scatter\"},{\"hovertemplate\":\"\\u003cb\\u003eLayer:\\u003c\\u002fb\\u003e %{x}\\u003cbr\\u003e\\u003cb\\u003eRMU Model Mean:\\u003c\\u002fb\\u003e %{y:.3f}\\u003cextra\\u003e\\u003c\\u002fextra\\u003e\",\"line\":{\"color\":\"#1f77b4\",\"width\":3},\"mode\":\"lines\",\"name\":\"RMU Model\",\"x\":[0,1,2,3,4,5,6,7,8,9,10,11,12,13,14,15,16,17,18,19,20,21,22,23,24,25],\"y\":[117.8089370727539,63.02684783935547,71.29315948486328,52.85881423950195,61.18837356567383,63.77885437011719,71.69225311279297,72.9122543334961,90.4845962524414,102.29338836669922,144.95330810546875,158.1577606201172,148.102783203125,132.63485717773438,134.4005126953125,130.4233856201172,137.46536254882812,150.1033172607422,155.54017639160156,168.02780151367188,210.93446350097656,239.67276000976562,312.8622131347656,365.8283996582031,400.4748840332031,486.6617126464844],\"type\":\"scatter\"},{\"hoverinfo\":\"skip\",\"line\":{\"width\":0},\"mode\":\"lines\",\"showlegend\":false,\"x\":[0,1,2,3,4,5,6,7,8,9,10,11,12,13,14,15,16,17,18,19,20,21,22,23,24,25],\"y\":[102.95821380615234,58.89647674560547,68.00466918945312,47.91777801513672,49.87424087524414,51.3054084777832,57.78313064575195,58.63607406616211,67.7589340209961,74.21340942382812,79.90621948242188,88.05906677246094,95.91461181640625,95.3958740234375,116.14839172363281,124.73965454101562,126.66921997070312,144.02186584472656,149.42013549804688,163.51637268066406,194.41323852539062,228.5055389404297,254.6156463623047,299.77685546875,340.13421630859375,435.43310546875],\"type\":\"scatter\"},{\"fill\":\"tonexty\",\"fillcolor\":\"rgba(255,127,14,0.1)\",\"hoverinfo\":\"skip\",\"line\":{\"width\":0},\"mode\":\"lines\",\"showlegend\":false,\"x\":[0,1,2,3,4,5,6,7,8,9,10,11,12,13,14,15,16,17,18,19,20,21,22,23,24,25],\"y\":[118.03109741210938,67.3890609741211,76.2605209350586,64.30118560791016,78.88777923583984,87.80210876464844,92.47431945800781,96.38274383544922,115.88427734375,141.2199249267578,141.4027557373047,167.68235778808594,202.72547912597656,158.73936462402344,204.21421813964844,194.85092163085938,224.35781860351562,249.92971801757812,250.83409118652344,255.05455017089844,282.7127380371094,321.55657958984375,410.1728820800781,497.7898864746094,492.67840576171875,577.8369750976562],\"type\":\"scatter\"},{\"hovertemplate\":\"\\u003cb\\u003eLayer:\\u003c\\u002fb\\u003e %{x}\\u003cbr\\u003e\\u003cb\\u003eBase Model Mean:\\u003c\\u002fb\\u003e %{y:.3f}\\u003cextra\\u003e\\u003c\\u002fextra\\u003e\",\"line\":{\"color\":\"#ff7f0e\",\"width\":3},\"mode\":\"lines\",\"name\":\"Base Model\",\"x\":[0,1,2,3,4,5,6,7,8,9,10,11,12,13,14,15,16,17,18,19,20,21,22,23,24,25],\"y\":[117.90560913085938,63.07391357421875,71.35531616210938,52.90342330932617,61.190425872802734,63.79518127441406,71.64695739746094,72.91790008544922,89.66952514648438,95.96733093261719,101.43583679199219,114.2125473022461,126.49105834960938,119.86033630371094,147.7843780517578,148.3427276611328,157.36668395996094,173.31356811523438,185.8408660888672,201.27354431152344,241.30487060546875,267.25079345703125,339.81085205078125,399.8537292480469,435.8841247558594,516.5067749023438],\"type\":\"scatter\"},{\"hoverinfo\":\"skip\",\"line\":{\"width\":0},\"mode\":\"lines\",\"showlegend\":false,\"x\":[0,1,2,3,4,5,6,7,8,9,10,11,12,13,14,15,16,17,18,19,20,21,22,23,24,25],\"y\":[102.95879364013672,58.80508804321289,67.76414489746094,47.87917709350586,49.81149673461914,51.06950378417969,58.170249938964844,57.709102630615234,71.10013580322266,81.60039520263672,88.67029571533203,101.21138000488281,100.14154052734375,93.576416015625,105.09989166259766,109.97883605957031,111.52316284179688,129.95663452148438,139.34841918945312,157.95582580566406,189.7304229736328,224.72955322265625,282.3628234863281,317.1250915527344,347.5137023925781,459.7913513183594],\"type\":\"scatter\"},{\"fill\":\"tonexty\",\"fillcolor\":\"rgba(44,160,44,0.1)\",\"hoverinfo\":\"skip\",\"line\":{\"width\":0},\"mode\":\"lines\",\"showlegend\":false,\"x\":[0,1,2,3,4,5,6,7,8,9,10,11,12,13,14,15,16,17,18,19,20,21,22,23,24,25],\"y\":[117.93811798095703,67.33415222167969,75.87512969970703,64.1906509399414,78.20196533203125,86.8626708984375,91.89022827148438,94.85399627685547,125.99371337890625,181.80340576171875,184.39718627929688,176.59149169921875,184.59535217285156,150.63819885253906,191.67822265625,185.7352294921875,210.56761169433594,226.51712036132812,235.6309814453125,242.3266143798828,269.713134765625,308.22412109375,381.53289794921875,460.3504333496094,477.0865173339844,581.1617431640625],\"type\":\"scatter\"},{\"hovertemplate\":\"\\u003cb\\u003eLayer:\\u003c\\u002fb\\u003e %{x}\\u003cbr\\u003e\\u003cb\\u003eAblated Model Mean:\\u003c\\u002fb\\u003e %{y:.3f}\\u003cextra\\u003e\\u003c\\u002fextra\\u003e\",\"line\":{\"color\":\"#2ca02c\",\"width\":3},\"mode\":\"lines\",\"name\":\"Ablated Model\",\"x\":[0,1,2,3,4,5,6,7,8,9,10,11,12,13,14,15,16,17,18,19,20,21,22,23,24,25],\"y\":[117.81312561035156,63.162132263183594,71.1641616821289,52.80950927734375,61.1709098815918,63.72097396850586,71.78602600097656,70.46359252929688,97.8855972290039,122.07933807373047,131.02674865722656,126.86524200439453,121.95145416259766,111.37296295166016,126.35486602783203,129.0673370361328,134.1627655029297,153.5318145751953,167.839599609375,187.27142333984375,234.71951293945312,262.2960510253906,341.9306640625,399.0016784667969,433.9308166503906,515.4207153320312],\"type\":\"scatter\"}],                        {\"template\":{\"data\":{\"histogram2dcontour\":[{\"type\":\"histogram2dcontour\",\"colorbar\":{\"outlinewidth\":0,\"ticks\":\"\"},\"colorscale\":[[0.0,\"#0d0887\"],[0.1111111111111111,\"#46039f\"],[0.2222222222222222,\"#7201a8\"],[0.3333333333333333,\"#9c179e\"],[0.4444444444444444,\"#bd3786\"],[0.5555555555555556,\"#d8576b\"],[0.6666666666666666,\"#ed7953\"],[0.7777777777777778,\"#fb9f3a\"],[0.8888888888888888,\"#fdca26\"],[1.0,\"#f0f921\"]]}],\"choropleth\":[{\"type\":\"choropleth\",\"colorbar\":{\"outlinewidth\":0,\"ticks\":\"\"}}],\"histogram2d\":[{\"type\":\"histogram2d\",\"colorbar\":{\"outlinewidth\":0,\"ticks\":\"\"},\"colorscale\":[[0.0,\"#0d0887\"],[0.1111111111111111,\"#46039f\"],[0.2222222222222222,\"#7201a8\"],[0.3333333333333333,\"#9c179e\"],[0.4444444444444444,\"#bd3786\"],[0.5555555555555556,\"#d8576b\"],[0.6666666666666666,\"#ed7953\"],[0.7777777777777778,\"#fb9f3a\"],[0.8888888888888888,\"#fdca26\"],[1.0,\"#f0f921\"]]}],\"heatmap\":[{\"type\":\"heatmap\",\"colorbar\":{\"outlinewidth\":0,\"ticks\":\"\"},\"colorscale\":[[0.0,\"#0d0887\"],[0.1111111111111111,\"#46039f\"],[0.2222222222222222,\"#7201a8\"],[0.3333333333333333,\"#9c179e\"],[0.4444444444444444,\"#bd3786\"],[0.5555555555555556,\"#d8576b\"],[0.6666666666666666,\"#ed7953\"],[0.7777777777777778,\"#fb9f3a\"],[0.8888888888888888,\"#fdca26\"],[1.0,\"#f0f921\"]]}],\"heatmapgl\":[{\"type\":\"heatmapgl\",\"colorbar\":{\"outlinewidth\":0,\"ticks\":\"\"},\"colorscale\":[[0.0,\"#0d0887\"],[0.1111111111111111,\"#46039f\"],[0.2222222222222222,\"#7201a8\"],[0.3333333333333333,\"#9c179e\"],[0.4444444444444444,\"#bd3786\"],[0.5555555555555556,\"#d8576b\"],[0.6666666666666666,\"#ed7953\"],[0.7777777777777778,\"#fb9f3a\"],[0.8888888888888888,\"#fdca26\"],[1.0,\"#f0f921\"]]}],\"contourcarpet\":[{\"type\":\"contourcarpet\",\"colorbar\":{\"outlinewidth\":0,\"ticks\":\"\"}}],\"contour\":[{\"type\":\"contour\",\"colorbar\":{\"outlinewidth\":0,\"ticks\":\"\"},\"colorscale\":[[0.0,\"#0d0887\"],[0.1111111111111111,\"#46039f\"],[0.2222222222222222,\"#7201a8\"],[0.3333333333333333,\"#9c179e\"],[0.4444444444444444,\"#bd3786\"],[0.5555555555555556,\"#d8576b\"],[0.6666666666666666,\"#ed7953\"],[0.7777777777777778,\"#fb9f3a\"],[0.8888888888888888,\"#fdca26\"],[1.0,\"#f0f921\"]]}],\"surface\":[{\"type\":\"surface\",\"colorbar\":{\"outlinewidth\":0,\"ticks\":\"\"},\"colorscale\":[[0.0,\"#0d0887\"],[0.1111111111111111,\"#46039f\"],[0.2222222222222222,\"#7201a8\"],[0.3333333333333333,\"#9c179e\"],[0.4444444444444444,\"#bd3786\"],[0.5555555555555556,\"#d8576b\"],[0.6666666666666666,\"#ed7953\"],[0.7777777777777778,\"#fb9f3a\"],[0.8888888888888888,\"#fdca26\"],[1.0,\"#f0f921\"]]}],\"mesh3d\":[{\"type\":\"mesh3d\",\"colorbar\":{\"outlinewidth\":0,\"ticks\":\"\"}}],\"scatter\":[{\"fillpattern\":{\"fillmode\":\"overlay\",\"size\":10,\"solidity\":0.2},\"type\":\"scatter\"}],\"parcoords\":[{\"type\":\"parcoords\",\"line\":{\"colorbar\":{\"outlinewidth\":0,\"ticks\":\"\"}}}],\"scatterpolargl\":[{\"type\":\"scatterpolargl\",\"marker\":{\"colorbar\":{\"outlinewidth\":0,\"ticks\":\"\"}}}],\"bar\":[{\"error_x\":{\"color\":\"#2a3f5f\"},\"error_y\":{\"color\":\"#2a3f5f\"},\"marker\":{\"line\":{\"color\":\"#E5ECF6\",\"width\":0.5},\"pattern\":{\"fillmode\":\"overlay\",\"size\":10,\"solidity\":0.2}},\"type\":\"bar\"}],\"scattergeo\":[{\"type\":\"scattergeo\",\"marker\":{\"colorbar\":{\"outlinewidth\":0,\"ticks\":\"\"}}}],\"scatterpolar\":[{\"type\":\"scatterpolar\",\"marker\":{\"colorbar\":{\"outlinewidth\":0,\"ticks\":\"\"}}}],\"histogram\":[{\"marker\":{\"pattern\":{\"fillmode\":\"overlay\",\"size\":10,\"solidity\":0.2}},\"type\":\"histogram\"}],\"scattergl\":[{\"type\":\"scattergl\",\"marker\":{\"colorbar\":{\"outlinewidth\":0,\"ticks\":\"\"}}}],\"scatter3d\":[{\"type\":\"scatter3d\",\"line\":{\"colorbar\":{\"outlinewidth\":0,\"ticks\":\"\"}},\"marker\":{\"colorbar\":{\"outlinewidth\":0,\"ticks\":\"\"}}}],\"scattermapbox\":[{\"type\":\"scattermapbox\",\"marker\":{\"colorbar\":{\"outlinewidth\":0,\"ticks\":\"\"}}}],\"scatterternary\":[{\"type\":\"scatterternary\",\"marker\":{\"colorbar\":{\"outlinewidth\":0,\"ticks\":\"\"}}}],\"scattercarpet\":[{\"type\":\"scattercarpet\",\"marker\":{\"colorbar\":{\"outlinewidth\":0,\"ticks\":\"\"}}}],\"carpet\":[{\"aaxis\":{\"endlinecolor\":\"#2a3f5f\",\"gridcolor\":\"white\",\"linecolor\":\"white\",\"minorgridcolor\":\"white\",\"startlinecolor\":\"#2a3f5f\"},\"baxis\":{\"endlinecolor\":\"#2a3f5f\",\"gridcolor\":\"white\",\"linecolor\":\"white\",\"minorgridcolor\":\"white\",\"startlinecolor\":\"#2a3f5f\"},\"type\":\"carpet\"}],\"table\":[{\"cells\":{\"fill\":{\"color\":\"#EBF0F8\"},\"line\":{\"color\":\"white\"}},\"header\":{\"fill\":{\"color\":\"#C8D4E3\"},\"line\":{\"color\":\"white\"}},\"type\":\"table\"}],\"barpolar\":[{\"marker\":{\"line\":{\"color\":\"#E5ECF6\",\"width\":0.5},\"pattern\":{\"fillmode\":\"overlay\",\"size\":10,\"solidity\":0.2}},\"type\":\"barpolar\"}],\"pie\":[{\"automargin\":true,\"type\":\"pie\"}]},\"layout\":{\"autotypenumbers\":\"strict\",\"colorway\":[\"#636efa\",\"#EF553B\",\"#00cc96\",\"#ab63fa\",\"#FFA15A\",\"#19d3f3\",\"#FF6692\",\"#B6E880\",\"#FF97FF\",\"#FECB52\"],\"font\":{\"color\":\"#2a3f5f\"},\"hovermode\":\"closest\",\"hoverlabel\":{\"align\":\"left\"},\"paper_bgcolor\":\"white\",\"plot_bgcolor\":\"#E5ECF6\",\"polar\":{\"bgcolor\":\"#E5ECF6\",\"angularaxis\":{\"gridcolor\":\"white\",\"linecolor\":\"white\",\"ticks\":\"\"},\"radialaxis\":{\"gridcolor\":\"white\",\"linecolor\":\"white\",\"ticks\":\"\"}},\"ternary\":{\"bgcolor\":\"#E5ECF6\",\"aaxis\":{\"gridcolor\":\"white\",\"linecolor\":\"white\",\"ticks\":\"\"},\"baxis\":{\"gridcolor\":\"white\",\"linecolor\":\"white\",\"ticks\":\"\"},\"caxis\":{\"gridcolor\":\"white\",\"linecolor\":\"white\",\"ticks\":\"\"}},\"coloraxis\":{\"colorbar\":{\"outlinewidth\":0,\"ticks\":\"\"}},\"colorscale\":{\"sequential\":[[0.0,\"#0d0887\"],[0.1111111111111111,\"#46039f\"],[0.2222222222222222,\"#7201a8\"],[0.3333333333333333,\"#9c179e\"],[0.4444444444444444,\"#bd3786\"],[0.5555555555555556,\"#d8576b\"],[0.6666666666666666,\"#ed7953\"],[0.7777777777777778,\"#fb9f3a\"],[0.8888888888888888,\"#fdca26\"],[1.0,\"#f0f921\"]],\"sequentialminus\":[[0.0,\"#0d0887\"],[0.1111111111111111,\"#46039f\"],[0.2222222222222222,\"#7201a8\"],[0.3333333333333333,\"#9c179e\"],[0.4444444444444444,\"#bd3786\"],[0.5555555555555556,\"#d8576b\"],[0.6666666666666666,\"#ed7953\"],[0.7777777777777778,\"#fb9f3a\"],[0.8888888888888888,\"#fdca26\"],[1.0,\"#f0f921\"]],\"diverging\":[[0,\"#8e0152\"],[0.1,\"#c51b7d\"],[0.2,\"#de77ae\"],[0.3,\"#f1b6da\"],[0.4,\"#fde0ef\"],[0.5,\"#f7f7f7\"],[0.6,\"#e6f5d0\"],[0.7,\"#b8e186\"],[0.8,\"#7fbc41\"],[0.9,\"#4d9221\"],[1,\"#276419\"]]},\"xaxis\":{\"gridcolor\":\"white\",\"linecolor\":\"white\",\"ticks\":\"\",\"title\":{\"standoff\":15},\"zerolinecolor\":\"white\",\"automargin\":true,\"zerolinewidth\":2},\"yaxis\":{\"gridcolor\":\"white\",\"linecolor\":\"white\",\"ticks\":\"\",\"title\":{\"standoff\":15},\"zerolinecolor\":\"white\",\"automargin\":true,\"zerolinewidth\":2},\"scene\":{\"xaxis\":{\"backgroundcolor\":\"#E5ECF6\",\"gridcolor\":\"white\",\"linecolor\":\"white\",\"showbackground\":true,\"ticks\":\"\",\"zerolinecolor\":\"white\",\"gridwidth\":2},\"yaxis\":{\"backgroundcolor\":\"#E5ECF6\",\"gridcolor\":\"white\",\"linecolor\":\"white\",\"showbackground\":true,\"ticks\":\"\",\"zerolinecolor\":\"white\",\"gridwidth\":2},\"zaxis\":{\"backgroundcolor\":\"#E5ECF6\",\"gridcolor\":\"white\",\"linecolor\":\"white\",\"showbackground\":true,\"ticks\":\"\",\"zerolinecolor\":\"white\",\"gridwidth\":2}},\"shapedefaults\":{\"line\":{\"color\":\"#2a3f5f\"}},\"annotationdefaults\":{\"arrowcolor\":\"#2a3f5f\",\"arrowhead\":0,\"arrowwidth\":1},\"geo\":{\"bgcolor\":\"white\",\"landcolor\":\"#E5ECF6\",\"subunitcolor\":\"white\",\"showland\":true,\"showlakes\":true,\"lakecolor\":\"white\"},\"title\":{\"x\":0.05},\"mapbox\":{\"style\":\"light\"}}},\"shapes\":[{\"line\":{\"color\":\"grey\",\"dash\":\"dot\",\"width\":2},\"opacity\":0.7,\"type\":\"line\",\"x0\":10,\"x1\":10,\"xref\":\"x\",\"y0\":0,\"y1\":1,\"yref\":\"y domain\"}],\"annotations\":[{\"font\":{\"color\":\"grey\",\"size\":14},\"showarrow\":false,\"text\":\"Layer 10\",\"x\":10,\"xshift\":30,\"y\":0.8,\"yanchor\":\"middle\",\"yref\":\"paper\"}],\"title\":{\"font\":{\"size\":20,\"color\":\"black\"},\"text\":\"Norm of Base\\u002fRMU\\u002fAblated Model activations at the last token position (on Cyber)\",\"x\":0.05,\"xanchor\":\"left\"},\"xaxis\":{\"title\":{\"font\":{\"size\":16,\"color\":\"black\"},\"text\":\"Layer\"},\"zeroline\":false,\"linewidth\":1,\"ticks\":\"outside\"},\"yaxis\":{\"title\":{\"font\":{\"size\":16,\"color\":\"black\"},\"text\":\"Norm\"},\"zeroline\":false,\"linewidth\":1,\"ticks\":\"outside\"},\"margin\":{\"l\":80,\"r\":80,\"t\":100,\"b\":120},\"showlegend\":true,\"width\":1000,\"height\":600},                        {\"responsive\": true}                    ).then(function(){\n",
       "                            \n",
       "var gd = document.getElementById('515053af-ec1f-4c8d-8c0f-c30f791a04cf');\n",
       "var x = new MutationObserver(function (mutations, observer) {{\n",
       "        var display = window.getComputedStyle(gd).display;\n",
       "        if (!display || display === 'none') {{\n",
       "            console.log([gd, 'removed!']);\n",
       "            Plotly.purge(gd);\n",
       "            observer.disconnect();\n",
       "        }}\n",
       "}});\n",
       "\n",
       "// Listen for the removal of the full notebook cells\n",
       "var notebookContainer = gd.closest('#notebook-container');\n",
       "if (notebookContainer) {{\n",
       "    x.observe(notebookContainer, {childList: true});\n",
       "}}\n",
       "\n",
       "// Listen for the clearing of the current output cell\n",
       "var outputEl = gd.closest('.output');\n",
       "if (outputEl) {{\n",
       "    x.observe(outputEl, {childList: true});\n",
       "}}\n",
       "\n",
       "                        })                };                });            </script>        </div>"
      ]
     },
     "metadata": {},
     "output_type": "display_data"
    }
   ],
   "source": [
    "plot_scores_plotly(\n",
    "    scores_group={\n",
    "        \"RMU Model\": cyber_rmu_norm.squeeze(-1),\n",
    "        \"Base Model\": cyber_base_norm.squeeze(-1),\n",
    "        \"Ablated Model\": cyber_ablated_norm.squeeze(-1),\n",
    "    },\n",
    "    layer_of_interest=LAYER_ID + 1,\n",
    "    title=\"Norm of Base/RMU/Ablated Model activations at the last token position (on Cyber)\",\n",
    "    ylabel=\"Norm\",\n",
    "    artifact_dir=ARTIFACT_DIR,\n",
    "    artifact_name=\"cyber_norm_ablated_base\",\n",
    ")"
   ]
  },
  {
   "cell_type": "code",
   "execution_count": null,
   "id": "3fd39467",
   "metadata": {},
   "outputs": [],
   "source": []
  }
 ],
 "metadata": {
  "kernelspec": {
   "display_name": ".venv",
   "language": "python",
   "name": "python3"
  },
  "language_info": {
   "codemirror_mode": {
    "name": "ipython",
    "version": 3
   },
   "file_extension": ".py",
   "mimetype": "text/x-python",
   "name": "python",
   "nbconvert_exporter": "python",
   "pygments_lexer": "ipython3",
   "version": "3.10.12"
  }
 },
 "nbformat": 4,
 "nbformat_minor": 5
}
