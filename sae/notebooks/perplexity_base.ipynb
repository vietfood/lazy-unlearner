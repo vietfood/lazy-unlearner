{
 "cells": [
  {
   "cell_type": "code",
   "execution_count": 1,
   "id": "5fbe662f-71f3-4e02-aea3-481d964d3358",
   "metadata": {},
   "outputs": [],
   "source": [
    "from datasets import load_dataset, concatenate_datasets\n",
    "import torch\n",
    "from transformers import AutoTokenizer, AutoModelForCausalLM\n",
    "import einops\n",
    "import random\n",
    "import pandas as pd\n",
    "from IPython.display import display, Markdown\n",
    "import matplotlib.pyplot as plt\n",
    "import json\n",
    "from tqdm.auto import tqdm\n",
    "\n",
    "from sae_refusal.model.gemma import GemmaModel\n",
    "from sae_refusal.pipeline.utils import (\n",
    "    calculate_bigram_repetition\n",
    ")\n",
    "from sae_refusal.model.embedding import EmbeddingModel\n",
    "from sae_refusal import set_seed, clear_memory\n",
    "from sae_refusal.pipeline.activations import (\n",
    "    get_activations\n",
    ")\n",
    "from sae_refusal.data import (\n",
    "    load_wmdp,\n",
    "    split,\n",
    "    to_instructions,\n",
    ")\n",
    "from sae_refusal.data import (\n",
    "    sample_data, \n",
    "    to_instructions\n",
    ")\n",
    "from sae_refusal.plot import (\n",
    "     plot_scores_plotly\n",
    ")\n",
    "from sae_refusal.probe import LinearProbe\n",
    "from sae_refusal.pipeline.generate_directions import generate_directions_rmu\n",
    "import plotly.express as px\n",
    "import plotly.graph_objects as go"
   ]
  },
  {
   "cell_type": "code",
   "execution_count": 2,
   "id": "72dc8da2",
   "metadata": {},
   "outputs": [],
   "source": [
    "LAYER_ID = 9\n",
    "DATA_SIZE = 500 \n",
    "SAMPLE_SIZE = 300\n",
    "VAL_SIZE = 0.2\n",
    "SEED = 42\n",
    "\n",
    "ARTIFACT_DIR = \"results/ablated\"\n",
    "\n",
    "EMBEDDING_NAME = \"sentence-transformers/all-mpnet-base-v2\""
   ]
  },
  {
   "cell_type": "code",
   "execution_count": 3,
   "id": "63ad75dc-318f-4584-8665-4041f1ec6ca5",
   "metadata": {},
   "outputs": [],
   "source": [
    "MODELS = [\n",
    "    {\n",
    "        \"model_name_or_path\": \"google/gemma-2-2b-it\",\n",
    "         \"type\": \"instruction\"\n",
    "    },\n",
    "    {\n",
    "        \"model_name_or_path\": \"lenguyen1807/gemma-2-2b-it-RMU\",\n",
    "        \"type\": \"instruction\"\n",
    "    },\n",
    "    {\n",
    "        \"model_name_or_path\": \"google/gemma-2-2b\",\n",
    "        \"type\": \"none\"\n",
    "    },\n",
    "    {\n",
    "        \"model_name_or_path\": \"lenguyen1807/gemma-2-2b-RMU\",\n",
    "        \"type\": \"none\"\n",
    "    },\n",
    "]"
   ]
  },
  {
   "cell_type": "code",
   "execution_count": 4,
   "id": "a01b90da",
   "metadata": {},
   "outputs": [],
   "source": [
    "set_seed(SEED)\n",
    "torch.set_grad_enabled(False)\n",
    "torch.set_float32_matmul_precision(\"high\")"
   ]
  },
  {
   "cell_type": "code",
   "execution_count": 5,
   "id": "9cf9d388",
   "metadata": {},
   "outputs": [],
   "source": [
    "NEW_TOKEN = 0\n",
    "BATCH_SIZE = 32"
   ]
  },
  {
   "cell_type": "markdown",
   "id": "804ad791-a9d3-42cc-a635-8a710d987374",
   "metadata": {},
   "source": [
    "### Load model"
   ]
  },
  {
   "cell_type": "code",
   "execution_count": 6,
   "id": "5b893c8b",
   "metadata": {},
   "outputs": [
    {
     "data": {
      "application/vnd.jupyter.widget-view+json": {
       "model_id": "01944d36bc234b9193dc0b43986cc501",
       "version_major": 2,
       "version_minor": 0
      },
      "text/plain": [
       "Loading checkpoint shards:   0%|          | 0/2 [00:00<?, ?it/s]"
      ]
     },
     "metadata": {},
     "output_type": "display_data"
    },
    {
     "data": {
      "application/vnd.jupyter.widget-view+json": {
       "model_id": "36b7abba84b34aa0ae279daed917b9ee",
       "version_major": 2,
       "version_minor": 0
      },
      "text/plain": [
       "Loading checkpoint shards:   0%|          | 0/2 [00:00<?, ?it/s]"
      ]
     },
     "metadata": {},
     "output_type": "display_data"
    }
   ],
   "source": [
    "base_model = GemmaModel(**MODELS[0])\n",
    "rmu_model = GemmaModel(**MODELS[1])"
   ]
  },
  {
   "cell_type": "code",
   "execution_count": 7,
   "id": "514ccc6a-07d6-4007-9bd5-6b7fceb768a6",
   "metadata": {},
   "outputs": [
    {
     "data": {
      "text/plain": [
       "<All keys matched successfully>"
      ]
     },
     "execution_count": 7,
     "metadata": {},
     "output_type": "execute_result"
    }
   ],
   "source": [
    "probe_weight = torch.load(\"/home/ubuntu/thesis/sae/results/ablated/probes/best_probes/weight.pt\", weights_only=True)\n",
    "probe = LinearProbe(base_model.model.config.hidden_size)\n",
    "probe.load_state_dict(probe_weight)"
   ]
  },
  {
   "cell_type": "code",
   "execution_count": 8,
   "id": "2f78e7f2",
   "metadata": {},
   "outputs": [],
   "source": [
    "mean = torch.load(\"/home/ubuntu/thesis/sae/results/ablated/probes/best_probes/mean.pt\", weights_only=True)\n",
    "std = torch.load(\"/home/ubuntu/thesis/sae/results/ablated/probes/best_probes/std.pt\", weights_only=True)"
   ]
  },
  {
   "cell_type": "markdown",
   "id": "66d868b4",
   "metadata": {},
   "source": [
    "### Load dataset"
   ]
  },
  {
   "cell_type": "code",
   "execution_count": 9,
   "id": "82ceffbf-373c-4877-9579-065373ea145d",
   "metadata": {},
   "outputs": [],
   "source": [
    "wmdp_bio, wmdp_cyber = load_wmdp(sample_size=None, seed=SEED)"
   ]
  },
  {
   "cell_type": "code",
   "execution_count": 10,
   "id": "e441f52c-8ef5-44a6-91f1-6de7b6c22373",
   "metadata": {},
   "outputs": [],
   "source": [
    "bio_select = wmdp_bio.select(list(range(DATA_SIZE, len(wmdp_bio)))) # avoid probe training data\n",
    "cyber_select = wmdp_cyber.select(list(range(DATA_SIZE, len(wmdp_cyber))))"
   ]
  },
  {
   "cell_type": "code",
   "execution_count": 11,
   "id": "5211ac97-68e6-4531-9faf-95b6c3a4acbc",
   "metadata": {},
   "outputs": [],
   "source": [
    "# Then we sample data\n",
    "bio_sample = sample_data(bio_select, sample_size=SAMPLE_SIZE, seed=SEED, key=\"question\")\n",
    "cyber_sample = sample_data(cyber_select, sample_size=SAMPLE_SIZE, seed=SEED, key=\"question\")"
   ]
  },
  {
   "cell_type": "code",
   "execution_count": 12,
   "id": "be3f7d9b-e067-4ed3-a160-f7c706c332e9",
   "metadata": {},
   "outputs": [],
   "source": [
    "bio_train, bio_val = split(bio_sample, VAL_SIZE)\n",
    "cyber_train, cyber_val = split(cyber_sample, VAL_SIZE)"
   ]
  },
  {
   "cell_type": "code",
   "execution_count": 13,
   "id": "07db8b78-ee60-4d9e-9e11-de0185f9b36f",
   "metadata": {},
   "outputs": [],
   "source": [
    "(\n",
    "    cyber_train_instructions,\n",
    "    bio_train_instructions,\n",
    "    val_instructions,  # we combine both for validation\n",
    ") = to_instructions(\n",
    "    [cyber_train, bio_train, concatenate_datasets([bio_val, cyber_val])],\n",
    "    lambda x: x[\"question\"],\n",
    ")"
   ]
  },
  {
   "cell_type": "markdown",
   "id": "631a2b0c-684e-4f32-aba7-9f64d47b6b95",
   "metadata": {},
   "source": [
    "### Get activations"
   ]
  },
  {
   "cell_type": "code",
   "execution_count": 14,
   "id": "ae54cfbb-56c0-45c5-958b-6494455b3ce9",
   "metadata": {},
   "outputs": [
    {
     "name": "stderr",
     "output_type": "stream",
     "text": [
      "100%|██████████| 4/4 [00:04<00:00,  1.03s/it]\n"
     ]
    }
   ],
   "source": [
    "base_activations = get_activations(\n",
    "    base_model.model,\n",
    "    base_model.tokenizer,\n",
    "    val_instructions,\n",
    "    tokenize_instructions_fn=base_model.tokenize_instructions_fn,\n",
    "    block_modules=base_model.model_block_modules,\n",
    "    positions=[-1],\n",
    "    batch_size=BATCH_SIZE\n",
    ").squeeze(dim=2)"
   ]
  },
  {
   "cell_type": "code",
   "execution_count": 15,
   "id": "b7e2bd13-2743-4bd2-9915-61feb0b2134a",
   "metadata": {},
   "outputs": [
    {
     "name": "stderr",
     "output_type": "stream",
     "text": [
      "100%|██████████| 4/4 [00:03<00:00,  1.16it/s]\n"
     ]
    }
   ],
   "source": [
    "rmu_activations = get_activations(\n",
    "    rmu_model.model,\n",
    "    rmu_model.tokenizer,\n",
    "    val_instructions,\n",
    "    tokenize_instructions_fn=rmu_model.tokenize_instructions_fn,\n",
    "    block_modules=rmu_model.model_block_modules,\n",
    "    positions=[-1],\n",
    "    batch_size=BATCH_SIZE\n",
    ").squeeze(dim=2)"
   ]
  },
  {
   "cell_type": "code",
   "execution_count": 16,
   "id": "cda56c0a-3bb2-45a7-a394-33e4ed9d751e",
   "metadata": {},
   "outputs": [],
   "source": [
    "rmu_scores = []\n",
    "\n",
    "for layer in range(rmu_model.model.config.num_hidden_layers):\n",
    "    # normalize data\n",
    "    activation = rmu_activations[:, layer, :].to(torch.float32).cpu()\n",
    "    activation = (activation - mean) / (std + 1e-8)\n",
    "    rmu_scores.append(probe(activation))"
   ]
  },
  {
   "cell_type": "code",
   "execution_count": 17,
   "id": "83710d19-a4f0-488e-a90e-306202a735b0",
   "metadata": {},
   "outputs": [],
   "source": [
    "base_scores = []\n",
    "\n",
    "for layer in range(base_model.model.config.num_hidden_layers):\n",
    "    activation = base_activations[:, layer, :].to(torch.float32).cpu()\n",
    "    activation = (activation - mean) / (std + 1e-8)\n",
    "    base_scores.append(probe(activation))"
   ]
  },
  {
   "cell_type": "code",
   "execution_count": 18,
   "id": "c18cb619-ec49-42c1-a53d-b514b7cc36a4",
   "metadata": {},
   "outputs": [],
   "source": [
    "rmu_scores = torch.stack(rmu_scores, dim=1)"
   ]
  },
  {
   "cell_type": "code",
   "execution_count": 19,
   "id": "10157df6-dc76-4e1c-9ce5-77b6fac9b1b3",
   "metadata": {},
   "outputs": [],
   "source": [
    "base_scores = torch.stack(base_scores, dim=1)"
   ]
  },
  {
   "cell_type": "code",
   "execution_count": null,
   "id": "497eab06",
   "metadata": {},
   "outputs": [],
   "source": [
    "rmu_model.model.lm_head"
   ]
  },
  {
   "cell_type": "markdown",
   "id": "b9ddd0ed-6ed2-4b01-924d-a443376b0ef2",
   "metadata": {},
   "source": [
    "### Visualization"
   ]
  },
  {
   "cell_type": "code",
   "execution_count": 21,
   "id": "6004d892-0c6c-4e51-a660-4103d19f3f3e",
   "metadata": {},
   "outputs": [
    {
     "name": "stdout",
     "output_type": "stream",
     "text": [
      "Plot saved to results/ablated/figures/junk_score_it_last.pdf\n"
     ]
    },
    {
     "data": {
      "application/vnd.plotly.v1+json": {
       "config": {
        "plotlyServerURL": "https://plot.ly"
       },
       "data": [
        {
         "hoverinfo": "skip",
         "line": {
          "width": 0
         },
         "mode": "lines",
         "showlegend": false,
         "type": "scatter",
         "x": [
          0,
          1,
          2,
          3,
          4,
          5,
          6,
          7,
          8,
          9,
          10,
          11,
          12,
          13,
          14,
          15,
          16,
          17,
          18,
          19,
          20,
          21,
          22,
          23,
          24,
          25
         ],
         "y": [
          -0.6899897456169128,
          -0.8942800164222717,
          -1.1865458488464355,
          -0.8161258101463318,
          -1.3318054676055908,
          -1.5593645572662354,
          -1.7857191562652588,
          -1.65704345703125,
          -1.7982783317565918,
          -1.6739132404327393,
          -1.5952274799346924,
          -1.8546900749206543,
          -2.3636577129364014,
          -4.282914161682129,
          -4.1327619552612305,
          -3.6092689037323,
          -4.2128496170043945,
          -3.4367897510528564,
          -3.389216184616089,
          -3.5000991821289062,
          -4.6115875244140625,
          -8.012809753417969,
          -7.733180046081543,
          -9.236233711242676,
          -9.084547996520996,
          -11.09122371673584
         ]
        },
        {
         "fill": "tonexty",
         "fillcolor": "rgba(31,119,180,0.1)",
         "hoverinfo": "skip",
         "line": {
          "width": 0
         },
         "mode": "lines",
         "showlegend": false,
         "type": "scatter",
         "x": [
          0,
          1,
          2,
          3,
          4,
          5,
          6,
          7,
          8,
          9,
          10,
          11,
          12,
          13,
          14,
          15,
          16,
          17,
          18,
          19,
          20,
          21,
          22,
          23,
          24,
          25
         ],
         "y": [
          -0.4700927734375,
          -0.525124192237854,
          -0.7930601835250854,
          -0.33750587701797485,
          -0.8676697015762329,
          -0.8506922125816345,
          -1.007044792175293,
          0.3533235192298889,
          1.7416603565216064,
          4.488034248352051,
          6.492618560791016,
          4.241305351257324,
          3.614152669906616,
          2.584589958190918,
          0.6182165741920471,
          1.5235559940338135,
          1.7776093482971191,
          3.45068097114563,
          4.7692060470581055,
          4.689741134643555,
          6.057572841644287,
          3.390099287033081,
          4.588069438934326,
          6.112958908081055,
          5.407891750335693,
          9.799391746520996
         ]
        },
        {
         "hovertemplate": "<b>Layer:</b> %{x}<br><b>RMU Model Mean:</b> %{y:.3f}<extra></extra>",
         "line": {
          "color": "#1f77b4",
          "width": 3
         },
         "mode": "lines",
         "name": "RMU Model",
         "type": "scatter",
         "x": [
          0,
          1,
          2,
          3,
          4,
          5,
          6,
          7,
          8,
          9,
          10,
          11,
          12,
          13,
          14,
          15,
          16,
          17,
          18,
          19,
          20,
          21,
          22,
          23,
          24,
          25
         ],
         "y": [
          -0.5435584187507629,
          -0.7658879160881042,
          -1.0661228895187378,
          -0.6092854142189026,
          -1.08449125289917,
          -1.2077107429504395,
          -1.3747029304504395,
          -0.7030861973762512,
          0.5645695924758911,
          2.9146361351013184,
          4.516014099121094,
          2.558488130569458,
          1.65969717502594,
          0.25752580165863037,
          -0.8167520761489868,
          -0.8894394636154175,
          -1.0215498208999634,
          -0.2614816725254059,
          0.028230365365743637,
          -0.16287150979042053,
          -0.21975065767765045,
          -2.7622153759002686,
          -2.2220652103424072,
          -2.2507951259613037,
          -1.8002914190292358,
          -0.587478518486023
         ]
        },
        {
         "hoverinfo": "skip",
         "line": {
          "width": 0
         },
         "mode": "lines",
         "showlegend": false,
         "type": "scatter",
         "x": [
          0,
          1,
          2,
          3,
          4,
          5,
          6,
          7,
          8,
          9,
          10,
          11,
          12,
          13,
          14,
          15,
          16,
          17,
          18,
          19,
          20,
          21,
          22,
          23,
          24,
          25
         ],
         "y": [
          -0.6899897456169128,
          -0.8942800164222717,
          -1.1865458488464355,
          -0.8161258101463318,
          -1.3318054676055908,
          -1.5593645572662354,
          -1.7857191562652588,
          -1.7931413650512695,
          -2.5763332843780518,
          -1.9898993968963623,
          -2.306058883666992,
          -2.4065983295440674,
          -3.1158618927001953,
          -4.482872009277344,
          -4.692875385284424,
          -5.074420928955078,
          -4.971800327301025,
          -4.225732803344727,
          -4.9168291091918945,
          -5.007082939147949,
          -6.247381210327148,
          -7.511815071105957,
          -6.242210388183594,
          -6.740655899047852,
          -8.075035095214844,
          -8.246001243591309
         ]
        },
        {
         "fill": "tonexty",
         "fillcolor": "rgba(255,127,14,0.1)",
         "hoverinfo": "skip",
         "line": {
          "width": 0
         },
         "mode": "lines",
         "showlegend": false,
         "type": "scatter",
         "x": [
          0,
          1,
          2,
          3,
          4,
          5,
          6,
          7,
          8,
          9,
          10,
          11,
          12,
          13,
          14,
          15,
          16,
          17,
          18,
          19,
          20,
          21,
          22,
          23,
          24,
          25
         ],
         "y": [
          -0.4700927734375,
          -0.525124192237854,
          -0.7930601835250854,
          -0.33750587701797485,
          -0.8676697015762329,
          -0.8506922125816345,
          -1.007044792175293,
          0.2238796353340149,
          -0.25909727811813354,
          0.8744912147521973,
          0.5269824266433716,
          1.8109610080718994,
          1.6866159439086914,
          2.492901086807251,
          1.795607089996338,
          0.9724237322807312,
          1.146437644958496,
          3.4772627353668213,
          3.1492316722869873,
          5.403178691864014,
          5.560303211212158,
          3.3295493125915527,
          4.7344818115234375,
          6.111401557922363,
          8.33510684967041,
          13.109101295471191
         ]
        },
        {
         "hovertemplate": "<b>Layer:</b> %{x}<br><b>Base Model Mean:</b> %{y:.3f}<extra></extra>",
         "line": {
          "color": "#ff7f0e",
          "width": 3
         },
         "mode": "lines",
         "name": "Base Model",
         "type": "scatter",
         "x": [
          0,
          1,
          2,
          3,
          4,
          5,
          6,
          7,
          8,
          9,
          10,
          11,
          12,
          13,
          14,
          15,
          16,
          17,
          18,
          19,
          20,
          21,
          22,
          23,
          24,
          25
         ],
         "y": [
          -0.5435584187507629,
          -0.7658879160881042,
          -1.0661228895187378,
          -0.6092854142189026,
          -1.08449125289917,
          -1.2077107429504395,
          -1.3747029304504395,
          -0.8313227295875549,
          -1.5301756858825684,
          -0.7484952807426453,
          -0.9870588183403015,
          -0.7115501165390015,
          -1.014177680015564,
          -1.754911184310913,
          -1.9554201364517212,
          -1.6094385385513306,
          -1.688575029373169,
          -0.4848991334438324,
          -0.7124227285385132,
          -0.5651658773422241,
          -0.5607306957244873,
          -2.255812644958496,
          -1.5131677389144897,
          -0.598767876625061,
          -0.7902838587760925,
          1.590901494026184
         ]
        }
       ],
       "layout": {
        "annotations": [
         {
          "font": {
           "color": "grey",
           "size": 14
          },
          "showarrow": false,
          "text": "Layer 10",
          "x": 10,
          "xshift": 30,
          "y": 0.8,
          "yanchor": "middle",
          "yref": "paper"
         }
        ],
        "height": 600,
        "margin": {
         "b": 120,
         "l": 80,
         "r": 80,
         "t": 100
        },
        "shapes": [
         {
          "line": {
           "color": "grey",
           "dash": "dot",
           "width": 2
          },
          "opacity": 0.7,
          "type": "line",
          "x0": 10,
          "x1": 10,
          "xref": "x",
          "y0": 0,
          "y1": 1,
          "yref": "y domain"
         }
        ],
        "showlegend": true,
        "template": {
         "data": {
          "bar": [
           {
            "error_x": {
             "color": "#2a3f5f"
            },
            "error_y": {
             "color": "#2a3f5f"
            },
            "marker": {
             "line": {
              "color": "#E5ECF6",
              "width": 0.5
             },
             "pattern": {
              "fillmode": "overlay",
              "size": 10,
              "solidity": 0.2
             }
            },
            "type": "bar"
           }
          ],
          "barpolar": [
           {
            "marker": {
             "line": {
              "color": "#E5ECF6",
              "width": 0.5
             },
             "pattern": {
              "fillmode": "overlay",
              "size": 10,
              "solidity": 0.2
             }
            },
            "type": "barpolar"
           }
          ],
          "carpet": [
           {
            "aaxis": {
             "endlinecolor": "#2a3f5f",
             "gridcolor": "white",
             "linecolor": "white",
             "minorgridcolor": "white",
             "startlinecolor": "#2a3f5f"
            },
            "baxis": {
             "endlinecolor": "#2a3f5f",
             "gridcolor": "white",
             "linecolor": "white",
             "minorgridcolor": "white",
             "startlinecolor": "#2a3f5f"
            },
            "type": "carpet"
           }
          ],
          "choropleth": [
           {
            "colorbar": {
             "outlinewidth": 0,
             "ticks": ""
            },
            "type": "choropleth"
           }
          ],
          "contour": [
           {
            "colorbar": {
             "outlinewidth": 0,
             "ticks": ""
            },
            "colorscale": [
             [
              0,
              "#0d0887"
             ],
             [
              0.1111111111111111,
              "#46039f"
             ],
             [
              0.2222222222222222,
              "#7201a8"
             ],
             [
              0.3333333333333333,
              "#9c179e"
             ],
             [
              0.4444444444444444,
              "#bd3786"
             ],
             [
              0.5555555555555556,
              "#d8576b"
             ],
             [
              0.6666666666666666,
              "#ed7953"
             ],
             [
              0.7777777777777778,
              "#fb9f3a"
             ],
             [
              0.8888888888888888,
              "#fdca26"
             ],
             [
              1,
              "#f0f921"
             ]
            ],
            "type": "contour"
           }
          ],
          "contourcarpet": [
           {
            "colorbar": {
             "outlinewidth": 0,
             "ticks": ""
            },
            "type": "contourcarpet"
           }
          ],
          "heatmap": [
           {
            "colorbar": {
             "outlinewidth": 0,
             "ticks": ""
            },
            "colorscale": [
             [
              0,
              "#0d0887"
             ],
             [
              0.1111111111111111,
              "#46039f"
             ],
             [
              0.2222222222222222,
              "#7201a8"
             ],
             [
              0.3333333333333333,
              "#9c179e"
             ],
             [
              0.4444444444444444,
              "#bd3786"
             ],
             [
              0.5555555555555556,
              "#d8576b"
             ],
             [
              0.6666666666666666,
              "#ed7953"
             ],
             [
              0.7777777777777778,
              "#fb9f3a"
             ],
             [
              0.8888888888888888,
              "#fdca26"
             ],
             [
              1,
              "#f0f921"
             ]
            ],
            "type": "heatmap"
           }
          ],
          "heatmapgl": [
           {
            "colorbar": {
             "outlinewidth": 0,
             "ticks": ""
            },
            "colorscale": [
             [
              0,
              "#0d0887"
             ],
             [
              0.1111111111111111,
              "#46039f"
             ],
             [
              0.2222222222222222,
              "#7201a8"
             ],
             [
              0.3333333333333333,
              "#9c179e"
             ],
             [
              0.4444444444444444,
              "#bd3786"
             ],
             [
              0.5555555555555556,
              "#d8576b"
             ],
             [
              0.6666666666666666,
              "#ed7953"
             ],
             [
              0.7777777777777778,
              "#fb9f3a"
             ],
             [
              0.8888888888888888,
              "#fdca26"
             ],
             [
              1,
              "#f0f921"
             ]
            ],
            "type": "heatmapgl"
           }
          ],
          "histogram": [
           {
            "marker": {
             "pattern": {
              "fillmode": "overlay",
              "size": 10,
              "solidity": 0.2
             }
            },
            "type": "histogram"
           }
          ],
          "histogram2d": [
           {
            "colorbar": {
             "outlinewidth": 0,
             "ticks": ""
            },
            "colorscale": [
             [
              0,
              "#0d0887"
             ],
             [
              0.1111111111111111,
              "#46039f"
             ],
             [
              0.2222222222222222,
              "#7201a8"
             ],
             [
              0.3333333333333333,
              "#9c179e"
             ],
             [
              0.4444444444444444,
              "#bd3786"
             ],
             [
              0.5555555555555556,
              "#d8576b"
             ],
             [
              0.6666666666666666,
              "#ed7953"
             ],
             [
              0.7777777777777778,
              "#fb9f3a"
             ],
             [
              0.8888888888888888,
              "#fdca26"
             ],
             [
              1,
              "#f0f921"
             ]
            ],
            "type": "histogram2d"
           }
          ],
          "histogram2dcontour": [
           {
            "colorbar": {
             "outlinewidth": 0,
             "ticks": ""
            },
            "colorscale": [
             [
              0,
              "#0d0887"
             ],
             [
              0.1111111111111111,
              "#46039f"
             ],
             [
              0.2222222222222222,
              "#7201a8"
             ],
             [
              0.3333333333333333,
              "#9c179e"
             ],
             [
              0.4444444444444444,
              "#bd3786"
             ],
             [
              0.5555555555555556,
              "#d8576b"
             ],
             [
              0.6666666666666666,
              "#ed7953"
             ],
             [
              0.7777777777777778,
              "#fb9f3a"
             ],
             [
              0.8888888888888888,
              "#fdca26"
             ],
             [
              1,
              "#f0f921"
             ]
            ],
            "type": "histogram2dcontour"
           }
          ],
          "mesh3d": [
           {
            "colorbar": {
             "outlinewidth": 0,
             "ticks": ""
            },
            "type": "mesh3d"
           }
          ],
          "parcoords": [
           {
            "line": {
             "colorbar": {
              "outlinewidth": 0,
              "ticks": ""
             }
            },
            "type": "parcoords"
           }
          ],
          "pie": [
           {
            "automargin": true,
            "type": "pie"
           }
          ],
          "scatter": [
           {
            "fillpattern": {
             "fillmode": "overlay",
             "size": 10,
             "solidity": 0.2
            },
            "type": "scatter"
           }
          ],
          "scatter3d": [
           {
            "line": {
             "colorbar": {
              "outlinewidth": 0,
              "ticks": ""
             }
            },
            "marker": {
             "colorbar": {
              "outlinewidth": 0,
              "ticks": ""
             }
            },
            "type": "scatter3d"
           }
          ],
          "scattercarpet": [
           {
            "marker": {
             "colorbar": {
              "outlinewidth": 0,
              "ticks": ""
             }
            },
            "type": "scattercarpet"
           }
          ],
          "scattergeo": [
           {
            "marker": {
             "colorbar": {
              "outlinewidth": 0,
              "ticks": ""
             }
            },
            "type": "scattergeo"
           }
          ],
          "scattergl": [
           {
            "marker": {
             "colorbar": {
              "outlinewidth": 0,
              "ticks": ""
             }
            },
            "type": "scattergl"
           }
          ],
          "scattermapbox": [
           {
            "marker": {
             "colorbar": {
              "outlinewidth": 0,
              "ticks": ""
             }
            },
            "type": "scattermapbox"
           }
          ],
          "scatterpolar": [
           {
            "marker": {
             "colorbar": {
              "outlinewidth": 0,
              "ticks": ""
             }
            },
            "type": "scatterpolar"
           }
          ],
          "scatterpolargl": [
           {
            "marker": {
             "colorbar": {
              "outlinewidth": 0,
              "ticks": ""
             }
            },
            "type": "scatterpolargl"
           }
          ],
          "scatterternary": [
           {
            "marker": {
             "colorbar": {
              "outlinewidth": 0,
              "ticks": ""
             }
            },
            "type": "scatterternary"
           }
          ],
          "surface": [
           {
            "colorbar": {
             "outlinewidth": 0,
             "ticks": ""
            },
            "colorscale": [
             [
              0,
              "#0d0887"
             ],
             [
              0.1111111111111111,
              "#46039f"
             ],
             [
              0.2222222222222222,
              "#7201a8"
             ],
             [
              0.3333333333333333,
              "#9c179e"
             ],
             [
              0.4444444444444444,
              "#bd3786"
             ],
             [
              0.5555555555555556,
              "#d8576b"
             ],
             [
              0.6666666666666666,
              "#ed7953"
             ],
             [
              0.7777777777777778,
              "#fb9f3a"
             ],
             [
              0.8888888888888888,
              "#fdca26"
             ],
             [
              1,
              "#f0f921"
             ]
            ],
            "type": "surface"
           }
          ],
          "table": [
           {
            "cells": {
             "fill": {
              "color": "#EBF0F8"
             },
             "line": {
              "color": "white"
             }
            },
            "header": {
             "fill": {
              "color": "#C8D4E3"
             },
             "line": {
              "color": "white"
             }
            },
            "type": "table"
           }
          ]
         },
         "layout": {
          "annotationdefaults": {
           "arrowcolor": "#2a3f5f",
           "arrowhead": 0,
           "arrowwidth": 1
          },
          "autotypenumbers": "strict",
          "coloraxis": {
           "colorbar": {
            "outlinewidth": 0,
            "ticks": ""
           }
          },
          "colorscale": {
           "diverging": [
            [
             0,
             "#8e0152"
            ],
            [
             0.1,
             "#c51b7d"
            ],
            [
             0.2,
             "#de77ae"
            ],
            [
             0.3,
             "#f1b6da"
            ],
            [
             0.4,
             "#fde0ef"
            ],
            [
             0.5,
             "#f7f7f7"
            ],
            [
             0.6,
             "#e6f5d0"
            ],
            [
             0.7,
             "#b8e186"
            ],
            [
             0.8,
             "#7fbc41"
            ],
            [
             0.9,
             "#4d9221"
            ],
            [
             1,
             "#276419"
            ]
           ],
           "sequential": [
            [
             0,
             "#0d0887"
            ],
            [
             0.1111111111111111,
             "#46039f"
            ],
            [
             0.2222222222222222,
             "#7201a8"
            ],
            [
             0.3333333333333333,
             "#9c179e"
            ],
            [
             0.4444444444444444,
             "#bd3786"
            ],
            [
             0.5555555555555556,
             "#d8576b"
            ],
            [
             0.6666666666666666,
             "#ed7953"
            ],
            [
             0.7777777777777778,
             "#fb9f3a"
            ],
            [
             0.8888888888888888,
             "#fdca26"
            ],
            [
             1,
             "#f0f921"
            ]
           ],
           "sequentialminus": [
            [
             0,
             "#0d0887"
            ],
            [
             0.1111111111111111,
             "#46039f"
            ],
            [
             0.2222222222222222,
             "#7201a8"
            ],
            [
             0.3333333333333333,
             "#9c179e"
            ],
            [
             0.4444444444444444,
             "#bd3786"
            ],
            [
             0.5555555555555556,
             "#d8576b"
            ],
            [
             0.6666666666666666,
             "#ed7953"
            ],
            [
             0.7777777777777778,
             "#fb9f3a"
            ],
            [
             0.8888888888888888,
             "#fdca26"
            ],
            [
             1,
             "#f0f921"
            ]
           ]
          },
          "colorway": [
           "#636efa",
           "#EF553B",
           "#00cc96",
           "#ab63fa",
           "#FFA15A",
           "#19d3f3",
           "#FF6692",
           "#B6E880",
           "#FF97FF",
           "#FECB52"
          ],
          "font": {
           "color": "#2a3f5f"
          },
          "geo": {
           "bgcolor": "white",
           "lakecolor": "white",
           "landcolor": "#E5ECF6",
           "showlakes": true,
           "showland": true,
           "subunitcolor": "white"
          },
          "hoverlabel": {
           "align": "left"
          },
          "hovermode": "closest",
          "mapbox": {
           "style": "light"
          },
          "paper_bgcolor": "white",
          "plot_bgcolor": "#E5ECF6",
          "polar": {
           "angularaxis": {
            "gridcolor": "white",
            "linecolor": "white",
            "ticks": ""
           },
           "bgcolor": "#E5ECF6",
           "radialaxis": {
            "gridcolor": "white",
            "linecolor": "white",
            "ticks": ""
           }
          },
          "scene": {
           "xaxis": {
            "backgroundcolor": "#E5ECF6",
            "gridcolor": "white",
            "gridwidth": 2,
            "linecolor": "white",
            "showbackground": true,
            "ticks": "",
            "zerolinecolor": "white"
           },
           "yaxis": {
            "backgroundcolor": "#E5ECF6",
            "gridcolor": "white",
            "gridwidth": 2,
            "linecolor": "white",
            "showbackground": true,
            "ticks": "",
            "zerolinecolor": "white"
           },
           "zaxis": {
            "backgroundcolor": "#E5ECF6",
            "gridcolor": "white",
            "gridwidth": 2,
            "linecolor": "white",
            "showbackground": true,
            "ticks": "",
            "zerolinecolor": "white"
           }
          },
          "shapedefaults": {
           "line": {
            "color": "#2a3f5f"
           }
          },
          "ternary": {
           "aaxis": {
            "gridcolor": "white",
            "linecolor": "white",
            "ticks": ""
           },
           "baxis": {
            "gridcolor": "white",
            "linecolor": "white",
            "ticks": ""
           },
           "bgcolor": "#E5ECF6",
           "caxis": {
            "gridcolor": "white",
            "linecolor": "white",
            "ticks": ""
           }
          },
          "title": {
           "x": 0.05
          },
          "xaxis": {
           "automargin": true,
           "gridcolor": "white",
           "linecolor": "white",
           "ticks": "",
           "title": {
            "standoff": 15
           },
           "zerolinecolor": "white",
           "zerolinewidth": 2
          },
          "yaxis": {
           "automargin": true,
           "gridcolor": "white",
           "linecolor": "white",
           "ticks": "",
           "title": {
            "standoff": 15
           },
           "zerolinecolor": "white",
           "zerolinewidth": 2
          }
         }
        },
        "title": {
         "font": {
          "color": "black",
          "size": 20
         },
         "text": "Junk Score between Base and RMU model activations on last token",
         "x": 0.05,
         "xanchor": "left"
        },
        "width": 1000,
        "xaxis": {
         "linewidth": 1,
         "ticks": "outside",
         "title": {
          "font": {
           "color": "black",
           "size": 16
          },
          "text": "Layer"
         },
         "zeroline": false
        },
        "yaxis": {
         "linewidth": 1,
         "ticks": "outside",
         "title": {
          "font": {
           "color": "black",
           "size": 16
          },
          "text": "Junk Score"
         },
         "zeroline": false
        }
       }
      },
      "text/html": [
       "<div>                            <div id=\"ff1e7b25-1065-4eff-b980-ccc36a95980e\" class=\"plotly-graph-div\" style=\"height:600px; width:1000px;\"></div>            <script type=\"text/javascript\">                require([\"plotly\"], function(Plotly) {                    window.PLOTLYENV=window.PLOTLYENV || {};                                    if (document.getElementById(\"ff1e7b25-1065-4eff-b980-ccc36a95980e\")) {                    Plotly.newPlot(                        \"ff1e7b25-1065-4eff-b980-ccc36a95980e\",                        [{\"hoverinfo\":\"skip\",\"line\":{\"width\":0},\"mode\":\"lines\",\"showlegend\":false,\"x\":[0,1,2,3,4,5,6,7,8,9,10,11,12,13,14,15,16,17,18,19,20,21,22,23,24,25],\"y\":[-0.6899897456169128,-0.8942800164222717,-1.1865458488464355,-0.8161258101463318,-1.3318054676055908,-1.5593645572662354,-1.7857191562652588,-1.65704345703125,-1.7982783317565918,-1.6739132404327393,-1.5952274799346924,-1.8546900749206543,-2.3636577129364014,-4.282914161682129,-4.1327619552612305,-3.6092689037323,-4.2128496170043945,-3.4367897510528564,-3.389216184616089,-3.5000991821289062,-4.6115875244140625,-8.012809753417969,-7.733180046081543,-9.236233711242676,-9.084547996520996,-11.09122371673584],\"type\":\"scatter\"},{\"fill\":\"tonexty\",\"fillcolor\":\"rgba(31,119,180,0.1)\",\"hoverinfo\":\"skip\",\"line\":{\"width\":0},\"mode\":\"lines\",\"showlegend\":false,\"x\":[0,1,2,3,4,5,6,7,8,9,10,11,12,13,14,15,16,17,18,19,20,21,22,23,24,25],\"y\":[-0.4700927734375,-0.525124192237854,-0.7930601835250854,-0.33750587701797485,-0.8676697015762329,-0.8506922125816345,-1.007044792175293,0.3533235192298889,1.7416603565216064,4.488034248352051,6.492618560791016,4.241305351257324,3.614152669906616,2.584589958190918,0.6182165741920471,1.5235559940338135,1.7776093482971191,3.45068097114563,4.7692060470581055,4.689741134643555,6.057572841644287,3.390099287033081,4.588069438934326,6.112958908081055,5.407891750335693,9.799391746520996],\"type\":\"scatter\"},{\"hovertemplate\":\"\\u003cb\\u003eLayer:\\u003c\\u002fb\\u003e %{x}\\u003cbr\\u003e\\u003cb\\u003eRMU Model Mean:\\u003c\\u002fb\\u003e %{y:.3f}\\u003cextra\\u003e\\u003c\\u002fextra\\u003e\",\"line\":{\"color\":\"#1f77b4\",\"width\":3},\"mode\":\"lines\",\"name\":\"RMU Model\",\"x\":[0,1,2,3,4,5,6,7,8,9,10,11,12,13,14,15,16,17,18,19,20,21,22,23,24,25],\"y\":[-0.5435584187507629,-0.7658879160881042,-1.0661228895187378,-0.6092854142189026,-1.08449125289917,-1.2077107429504395,-1.3747029304504395,-0.7030861973762512,0.5645695924758911,2.9146361351013184,4.516014099121094,2.558488130569458,1.65969717502594,0.25752580165863037,-0.8167520761489868,-0.8894394636154175,-1.0215498208999634,-0.2614816725254059,0.028230365365743637,-0.16287150979042053,-0.21975065767765045,-2.7622153759002686,-2.2220652103424072,-2.2507951259613037,-1.8002914190292358,-0.587478518486023],\"type\":\"scatter\"},{\"hoverinfo\":\"skip\",\"line\":{\"width\":0},\"mode\":\"lines\",\"showlegend\":false,\"x\":[0,1,2,3,4,5,6,7,8,9,10,11,12,13,14,15,16,17,18,19,20,21,22,23,24,25],\"y\":[-0.6899897456169128,-0.8942800164222717,-1.1865458488464355,-0.8161258101463318,-1.3318054676055908,-1.5593645572662354,-1.7857191562652588,-1.7931413650512695,-2.5763332843780518,-1.9898993968963623,-2.306058883666992,-2.4065983295440674,-3.1158618927001953,-4.482872009277344,-4.692875385284424,-5.074420928955078,-4.971800327301025,-4.225732803344727,-4.9168291091918945,-5.007082939147949,-6.247381210327148,-7.511815071105957,-6.242210388183594,-6.740655899047852,-8.075035095214844,-8.246001243591309],\"type\":\"scatter\"},{\"fill\":\"tonexty\",\"fillcolor\":\"rgba(255,127,14,0.1)\",\"hoverinfo\":\"skip\",\"line\":{\"width\":0},\"mode\":\"lines\",\"showlegend\":false,\"x\":[0,1,2,3,4,5,6,7,8,9,10,11,12,13,14,15,16,17,18,19,20,21,22,23,24,25],\"y\":[-0.4700927734375,-0.525124192237854,-0.7930601835250854,-0.33750587701797485,-0.8676697015762329,-0.8506922125816345,-1.007044792175293,0.2238796353340149,-0.25909727811813354,0.8744912147521973,0.5269824266433716,1.8109610080718994,1.6866159439086914,2.492901086807251,1.795607089996338,0.9724237322807312,1.146437644958496,3.4772627353668213,3.1492316722869873,5.403178691864014,5.560303211212158,3.3295493125915527,4.7344818115234375,6.111401557922363,8.33510684967041,13.109101295471191],\"type\":\"scatter\"},{\"hovertemplate\":\"\\u003cb\\u003eLayer:\\u003c\\u002fb\\u003e %{x}\\u003cbr\\u003e\\u003cb\\u003eBase Model Mean:\\u003c\\u002fb\\u003e %{y:.3f}\\u003cextra\\u003e\\u003c\\u002fextra\\u003e\",\"line\":{\"color\":\"#ff7f0e\",\"width\":3},\"mode\":\"lines\",\"name\":\"Base Model\",\"x\":[0,1,2,3,4,5,6,7,8,9,10,11,12,13,14,15,16,17,18,19,20,21,22,23,24,25],\"y\":[-0.5435584187507629,-0.7658879160881042,-1.0661228895187378,-0.6092854142189026,-1.08449125289917,-1.2077107429504395,-1.3747029304504395,-0.8313227295875549,-1.5301756858825684,-0.7484952807426453,-0.9870588183403015,-0.7115501165390015,-1.014177680015564,-1.754911184310913,-1.9554201364517212,-1.6094385385513306,-1.688575029373169,-0.4848991334438324,-0.7124227285385132,-0.5651658773422241,-0.5607306957244873,-2.255812644958496,-1.5131677389144897,-0.598767876625061,-0.7902838587760925,1.590901494026184],\"type\":\"scatter\"}],                        {\"template\":{\"data\":{\"histogram2dcontour\":[{\"type\":\"histogram2dcontour\",\"colorbar\":{\"outlinewidth\":0,\"ticks\":\"\"},\"colorscale\":[[0.0,\"#0d0887\"],[0.1111111111111111,\"#46039f\"],[0.2222222222222222,\"#7201a8\"],[0.3333333333333333,\"#9c179e\"],[0.4444444444444444,\"#bd3786\"],[0.5555555555555556,\"#d8576b\"],[0.6666666666666666,\"#ed7953\"],[0.7777777777777778,\"#fb9f3a\"],[0.8888888888888888,\"#fdca26\"],[1.0,\"#f0f921\"]]}],\"choropleth\":[{\"type\":\"choropleth\",\"colorbar\":{\"outlinewidth\":0,\"ticks\":\"\"}}],\"histogram2d\":[{\"type\":\"histogram2d\",\"colorbar\":{\"outlinewidth\":0,\"ticks\":\"\"},\"colorscale\":[[0.0,\"#0d0887\"],[0.1111111111111111,\"#46039f\"],[0.2222222222222222,\"#7201a8\"],[0.3333333333333333,\"#9c179e\"],[0.4444444444444444,\"#bd3786\"],[0.5555555555555556,\"#d8576b\"],[0.6666666666666666,\"#ed7953\"],[0.7777777777777778,\"#fb9f3a\"],[0.8888888888888888,\"#fdca26\"],[1.0,\"#f0f921\"]]}],\"heatmap\":[{\"type\":\"heatmap\",\"colorbar\":{\"outlinewidth\":0,\"ticks\":\"\"},\"colorscale\":[[0.0,\"#0d0887\"],[0.1111111111111111,\"#46039f\"],[0.2222222222222222,\"#7201a8\"],[0.3333333333333333,\"#9c179e\"],[0.4444444444444444,\"#bd3786\"],[0.5555555555555556,\"#d8576b\"],[0.6666666666666666,\"#ed7953\"],[0.7777777777777778,\"#fb9f3a\"],[0.8888888888888888,\"#fdca26\"],[1.0,\"#f0f921\"]]}],\"heatmapgl\":[{\"type\":\"heatmapgl\",\"colorbar\":{\"outlinewidth\":0,\"ticks\":\"\"},\"colorscale\":[[0.0,\"#0d0887\"],[0.1111111111111111,\"#46039f\"],[0.2222222222222222,\"#7201a8\"],[0.3333333333333333,\"#9c179e\"],[0.4444444444444444,\"#bd3786\"],[0.5555555555555556,\"#d8576b\"],[0.6666666666666666,\"#ed7953\"],[0.7777777777777778,\"#fb9f3a\"],[0.8888888888888888,\"#fdca26\"],[1.0,\"#f0f921\"]]}],\"contourcarpet\":[{\"type\":\"contourcarpet\",\"colorbar\":{\"outlinewidth\":0,\"ticks\":\"\"}}],\"contour\":[{\"type\":\"contour\",\"colorbar\":{\"outlinewidth\":0,\"ticks\":\"\"},\"colorscale\":[[0.0,\"#0d0887\"],[0.1111111111111111,\"#46039f\"],[0.2222222222222222,\"#7201a8\"],[0.3333333333333333,\"#9c179e\"],[0.4444444444444444,\"#bd3786\"],[0.5555555555555556,\"#d8576b\"],[0.6666666666666666,\"#ed7953\"],[0.7777777777777778,\"#fb9f3a\"],[0.8888888888888888,\"#fdca26\"],[1.0,\"#f0f921\"]]}],\"surface\":[{\"type\":\"surface\",\"colorbar\":{\"outlinewidth\":0,\"ticks\":\"\"},\"colorscale\":[[0.0,\"#0d0887\"],[0.1111111111111111,\"#46039f\"],[0.2222222222222222,\"#7201a8\"],[0.3333333333333333,\"#9c179e\"],[0.4444444444444444,\"#bd3786\"],[0.5555555555555556,\"#d8576b\"],[0.6666666666666666,\"#ed7953\"],[0.7777777777777778,\"#fb9f3a\"],[0.8888888888888888,\"#fdca26\"],[1.0,\"#f0f921\"]]}],\"mesh3d\":[{\"type\":\"mesh3d\",\"colorbar\":{\"outlinewidth\":0,\"ticks\":\"\"}}],\"scatter\":[{\"fillpattern\":{\"fillmode\":\"overlay\",\"size\":10,\"solidity\":0.2},\"type\":\"scatter\"}],\"parcoords\":[{\"type\":\"parcoords\",\"line\":{\"colorbar\":{\"outlinewidth\":0,\"ticks\":\"\"}}}],\"scatterpolargl\":[{\"type\":\"scatterpolargl\",\"marker\":{\"colorbar\":{\"outlinewidth\":0,\"ticks\":\"\"}}}],\"bar\":[{\"error_x\":{\"color\":\"#2a3f5f\"},\"error_y\":{\"color\":\"#2a3f5f\"},\"marker\":{\"line\":{\"color\":\"#E5ECF6\",\"width\":0.5},\"pattern\":{\"fillmode\":\"overlay\",\"size\":10,\"solidity\":0.2}},\"type\":\"bar\"}],\"scattergeo\":[{\"type\":\"scattergeo\",\"marker\":{\"colorbar\":{\"outlinewidth\":0,\"ticks\":\"\"}}}],\"scatterpolar\":[{\"type\":\"scatterpolar\",\"marker\":{\"colorbar\":{\"outlinewidth\":0,\"ticks\":\"\"}}}],\"histogram\":[{\"marker\":{\"pattern\":{\"fillmode\":\"overlay\",\"size\":10,\"solidity\":0.2}},\"type\":\"histogram\"}],\"scattergl\":[{\"type\":\"scattergl\",\"marker\":{\"colorbar\":{\"outlinewidth\":0,\"ticks\":\"\"}}}],\"scatter3d\":[{\"type\":\"scatter3d\",\"line\":{\"colorbar\":{\"outlinewidth\":0,\"ticks\":\"\"}},\"marker\":{\"colorbar\":{\"outlinewidth\":0,\"ticks\":\"\"}}}],\"scattermapbox\":[{\"type\":\"scattermapbox\",\"marker\":{\"colorbar\":{\"outlinewidth\":0,\"ticks\":\"\"}}}],\"scatterternary\":[{\"type\":\"scatterternary\",\"marker\":{\"colorbar\":{\"outlinewidth\":0,\"ticks\":\"\"}}}],\"scattercarpet\":[{\"type\":\"scattercarpet\",\"marker\":{\"colorbar\":{\"outlinewidth\":0,\"ticks\":\"\"}}}],\"carpet\":[{\"aaxis\":{\"endlinecolor\":\"#2a3f5f\",\"gridcolor\":\"white\",\"linecolor\":\"white\",\"minorgridcolor\":\"white\",\"startlinecolor\":\"#2a3f5f\"},\"baxis\":{\"endlinecolor\":\"#2a3f5f\",\"gridcolor\":\"white\",\"linecolor\":\"white\",\"minorgridcolor\":\"white\",\"startlinecolor\":\"#2a3f5f\"},\"type\":\"carpet\"}],\"table\":[{\"cells\":{\"fill\":{\"color\":\"#EBF0F8\"},\"line\":{\"color\":\"white\"}},\"header\":{\"fill\":{\"color\":\"#C8D4E3\"},\"line\":{\"color\":\"white\"}},\"type\":\"table\"}],\"barpolar\":[{\"marker\":{\"line\":{\"color\":\"#E5ECF6\",\"width\":0.5},\"pattern\":{\"fillmode\":\"overlay\",\"size\":10,\"solidity\":0.2}},\"type\":\"barpolar\"}],\"pie\":[{\"automargin\":true,\"type\":\"pie\"}]},\"layout\":{\"autotypenumbers\":\"strict\",\"colorway\":[\"#636efa\",\"#EF553B\",\"#00cc96\",\"#ab63fa\",\"#FFA15A\",\"#19d3f3\",\"#FF6692\",\"#B6E880\",\"#FF97FF\",\"#FECB52\"],\"font\":{\"color\":\"#2a3f5f\"},\"hovermode\":\"closest\",\"hoverlabel\":{\"align\":\"left\"},\"paper_bgcolor\":\"white\",\"plot_bgcolor\":\"#E5ECF6\",\"polar\":{\"bgcolor\":\"#E5ECF6\",\"angularaxis\":{\"gridcolor\":\"white\",\"linecolor\":\"white\",\"ticks\":\"\"},\"radialaxis\":{\"gridcolor\":\"white\",\"linecolor\":\"white\",\"ticks\":\"\"}},\"ternary\":{\"bgcolor\":\"#E5ECF6\",\"aaxis\":{\"gridcolor\":\"white\",\"linecolor\":\"white\",\"ticks\":\"\"},\"baxis\":{\"gridcolor\":\"white\",\"linecolor\":\"white\",\"ticks\":\"\"},\"caxis\":{\"gridcolor\":\"white\",\"linecolor\":\"white\",\"ticks\":\"\"}},\"coloraxis\":{\"colorbar\":{\"outlinewidth\":0,\"ticks\":\"\"}},\"colorscale\":{\"sequential\":[[0.0,\"#0d0887\"],[0.1111111111111111,\"#46039f\"],[0.2222222222222222,\"#7201a8\"],[0.3333333333333333,\"#9c179e\"],[0.4444444444444444,\"#bd3786\"],[0.5555555555555556,\"#d8576b\"],[0.6666666666666666,\"#ed7953\"],[0.7777777777777778,\"#fb9f3a\"],[0.8888888888888888,\"#fdca26\"],[1.0,\"#f0f921\"]],\"sequentialminus\":[[0.0,\"#0d0887\"],[0.1111111111111111,\"#46039f\"],[0.2222222222222222,\"#7201a8\"],[0.3333333333333333,\"#9c179e\"],[0.4444444444444444,\"#bd3786\"],[0.5555555555555556,\"#d8576b\"],[0.6666666666666666,\"#ed7953\"],[0.7777777777777778,\"#fb9f3a\"],[0.8888888888888888,\"#fdca26\"],[1.0,\"#f0f921\"]],\"diverging\":[[0,\"#8e0152\"],[0.1,\"#c51b7d\"],[0.2,\"#de77ae\"],[0.3,\"#f1b6da\"],[0.4,\"#fde0ef\"],[0.5,\"#f7f7f7\"],[0.6,\"#e6f5d0\"],[0.7,\"#b8e186\"],[0.8,\"#7fbc41\"],[0.9,\"#4d9221\"],[1,\"#276419\"]]},\"xaxis\":{\"gridcolor\":\"white\",\"linecolor\":\"white\",\"ticks\":\"\",\"title\":{\"standoff\":15},\"zerolinecolor\":\"white\",\"automargin\":true,\"zerolinewidth\":2},\"yaxis\":{\"gridcolor\":\"white\",\"linecolor\":\"white\",\"ticks\":\"\",\"title\":{\"standoff\":15},\"zerolinecolor\":\"white\",\"automargin\":true,\"zerolinewidth\":2},\"scene\":{\"xaxis\":{\"backgroundcolor\":\"#E5ECF6\",\"gridcolor\":\"white\",\"linecolor\":\"white\",\"showbackground\":true,\"ticks\":\"\",\"zerolinecolor\":\"white\",\"gridwidth\":2},\"yaxis\":{\"backgroundcolor\":\"#E5ECF6\",\"gridcolor\":\"white\",\"linecolor\":\"white\",\"showbackground\":true,\"ticks\":\"\",\"zerolinecolor\":\"white\",\"gridwidth\":2},\"zaxis\":{\"backgroundcolor\":\"#E5ECF6\",\"gridcolor\":\"white\",\"linecolor\":\"white\",\"showbackground\":true,\"ticks\":\"\",\"zerolinecolor\":\"white\",\"gridwidth\":2}},\"shapedefaults\":{\"line\":{\"color\":\"#2a3f5f\"}},\"annotationdefaults\":{\"arrowcolor\":\"#2a3f5f\",\"arrowhead\":0,\"arrowwidth\":1},\"geo\":{\"bgcolor\":\"white\",\"landcolor\":\"#E5ECF6\",\"subunitcolor\":\"white\",\"showland\":true,\"showlakes\":true,\"lakecolor\":\"white\"},\"title\":{\"x\":0.05},\"mapbox\":{\"style\":\"light\"}}},\"shapes\":[{\"line\":{\"color\":\"grey\",\"dash\":\"dot\",\"width\":2},\"opacity\":0.7,\"type\":\"line\",\"x0\":10,\"x1\":10,\"xref\":\"x\",\"y0\":0,\"y1\":1,\"yref\":\"y domain\"}],\"annotations\":[{\"font\":{\"color\":\"grey\",\"size\":14},\"showarrow\":false,\"text\":\"Layer 10\",\"x\":10,\"xshift\":30,\"y\":0.8,\"yanchor\":\"middle\",\"yref\":\"paper\"}],\"title\":{\"font\":{\"size\":20,\"color\":\"black\"},\"text\":\"Junk Score between Base and RMU model activations on last token\",\"x\":0.05,\"xanchor\":\"left\"},\"xaxis\":{\"title\":{\"font\":{\"size\":16,\"color\":\"black\"},\"text\":\"Layer\"},\"zeroline\":false,\"linewidth\":1,\"ticks\":\"outside\"},\"yaxis\":{\"title\":{\"font\":{\"size\":16,\"color\":\"black\"},\"text\":\"Junk Score\"},\"zeroline\":false,\"linewidth\":1,\"ticks\":\"outside\"},\"margin\":{\"l\":80,\"r\":80,\"t\":100,\"b\":120},\"showlegend\":true,\"width\":1000,\"height\":600},                        {\"responsive\": true}                    ).then(function(){\n",
       "                            \n",
       "var gd = document.getElementById('ff1e7b25-1065-4eff-b980-ccc36a95980e');\n",
       "var x = new MutationObserver(function (mutations, observer) {{\n",
       "        var display = window.getComputedStyle(gd).display;\n",
       "        if (!display || display === 'none') {{\n",
       "            console.log([gd, 'removed!']);\n",
       "            Plotly.purge(gd);\n",
       "            observer.disconnect();\n",
       "        }}\n",
       "}});\n",
       "\n",
       "// Listen for the removal of the full notebook cells\n",
       "var notebookContainer = gd.closest('#notebook-container');\n",
       "if (notebookContainer) {{\n",
       "    x.observe(notebookContainer, {childList: true});\n",
       "}}\n",
       "\n",
       "// Listen for the clearing of the current output cell\n",
       "var outputEl = gd.closest('.output');\n",
       "if (outputEl) {{\n",
       "    x.observe(outputEl, {childList: true});\n",
       "}}\n",
       "\n",
       "                        })                };                });            </script>        </div>"
      ]
     },
     "metadata": {},
     "output_type": "display_data"
    }
   ],
   "source": [
    "plot_scores_plotly(\n",
    "    scores_group={\n",
    "        \"RMU Model\": rmu_scores,\n",
    "        \"Base Model\": base_scores,\n",
    "    },\n",
    "    layer_of_interest=LAYER_ID + 1,\n",
    "    title=f\"Junk Score between Base and RMU model activations of new {NEW_TOKEN} tokens\" if NEW_TOKEN != 0 else \"Junk Score between Base and RMU model activations on last token\",\n",
    "    ylabel=\"Junk Score\",\n",
    "    artifact_dir=ARTIFACT_DIR,\n",
    "    artifact_name=\"junk_score_it_last\",\n",
    ")"
   ]
  },
  {
   "cell_type": "code",
   "execution_count": null,
   "id": "fe1582f3",
   "metadata": {},
   "outputs": [],
   "source": []
  }
 ],
 "metadata": {
  "kernelspec": {
   "display_name": ".venv",
   "language": "python",
   "name": "python3"
  },
  "language_info": {
   "codemirror_mode": {
    "name": "ipython",
    "version": 3
   },
   "file_extension": ".py",
   "mimetype": "text/x-python",
   "name": "python",
   "nbconvert_exporter": "python",
   "pygments_lexer": "ipython3",
   "version": "3.10.12"
  }
 },
 "nbformat": 4,
 "nbformat_minor": 5
}
