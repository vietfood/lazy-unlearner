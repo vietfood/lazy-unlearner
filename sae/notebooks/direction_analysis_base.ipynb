{
 "cells": [
  {
   "cell_type": "code",
   "execution_count": 1,
   "id": "6a06cecb-14e0-4745-b0eb-d41681d544d9",
   "metadata": {},
   "outputs": [],
   "source": [
    "import torch\n",
    "import einops\n",
    "from datasets import concatenate_datasets, load_from_disk\n",
    "\n",
    "from sae_refusal.model.gemma import GemmaModel\n",
    "from sae_refusal.model.embedding import EmbeddingModel\n",
    "from sae_refusal import set_seed, clear_memory\n",
    "from sae_refusal.data import (\n",
    "    load_wmdp,\n",
    "    split,\n",
    "    to_instructions,\n",
    "    sample_data,\n",
    "    load_harmbench\n",
    ")\n",
    "from sae_refusal.pipeline.select_directions import select_direction\n",
    "from sae_refusal.pipeline.utils import compute_pca, generate_and_save_completions, proj, evaluate_multiple_choice\n",
    "from sae_refusal.probe import LinearProbe\n",
    "from sae_refusal.pipeline.generate_directions import generate_directions_rmu\n",
    "from sae_refusal.pipeline.hook import (\n",
    "    get_all_direction_ablation_hooks,\n",
    "    get_all_direction_ablation_hooks_rmu,\n",
    "    get_activation_addition_input_pre_hook,\n",
    "    get_activation_addition_input_pre_hook_rmu\n",
    ")\n",
    "from sae_refusal.plot import (\n",
    "    plot_scores_plotly,\n",
    "    plot_refusal_scores_plotly,\n",
    ")\n",
    "from sae_refusal.pipeline.activations import (\n",
    "    get_activations,\n",
    "    get_activations_pre\n",
    ")\n",
    "from IPython.display import display, Markdown"
   ]
  },
  {
   "cell_type": "code",
   "execution_count": 2,
   "id": "39568064-4d51-43fc-92ac-6dafd32ebd15",
   "metadata": {},
   "outputs": [],
   "source": [
    "LAYER_ID = 9\n",
    "SAMPLE_SIZE = 300  # For each dataset\n",
    "VAL_SIZE = 0.2\n",
    "SEED = 42\n",
    "MAX_LEN = 1024\n",
    "\n",
    "ARTIFACT_DIR = \"results/ablated\"\n",
    "\n",
    "MODEL_NAME = \"google/gemma-2-2b\"\n",
    "RMU_NAME = \"lenguyen1807/gemma-2-2b-RMU\""
   ]
  },
  {
   "cell_type": "code",
   "execution_count": 3,
   "id": "52890b49-c3a1-492a-9b25-7bbfbf6f4860",
   "metadata": {},
   "outputs": [],
   "source": [
    "set_seed(SEED)\n",
    "torch.set_grad_enabled(False)\n",
    "torch.set_float32_matmul_precision(\"high\")"
   ]
  },
  {
   "cell_type": "markdown",
   "id": "dbb0da0e-4b10-453c-abb8-af18fc714949",
   "metadata": {},
   "source": [
    "### Load model"
   ]
  },
  {
   "cell_type": "code",
   "execution_count": 4,
   "id": "bcf1605f-abdd-4306-ab7d-0542f3849bbf",
   "metadata": {},
   "outputs": [
    {
     "data": {
      "application/vnd.jupyter.widget-view+json": {
       "model_id": "b6fd6a4c521f41748fc7fe8b373aff35",
       "version_major": 2,
       "version_minor": 0
      },
      "text/plain": [
       "Loading checkpoint shards:   0%|          | 0/3 [00:00<?, ?it/s]"
      ]
     },
     "metadata": {},
     "output_type": "display_data"
    },
    {
     "data": {
      "application/vnd.jupyter.widget-view+json": {
       "model_id": "c235de51daa94200a726d4078e360075",
       "version_major": 2,
       "version_minor": 0
      },
      "text/plain": [
       "Loading checkpoint shards:   0%|          | 0/3 [00:00<?, ?it/s]"
      ]
     },
     "metadata": {},
     "output_type": "display_data"
    }
   ],
   "source": [
    "base_model = GemmaModel(MODEL_NAME, type=\"none\")\n",
    "rmu_model = GemmaModel(RMU_NAME, type=\"none\")"
   ]
  },
  {
   "cell_type": "code",
   "execution_count": 5,
   "id": "9552f671",
   "metadata": {},
   "outputs": [
    {
     "data": {
      "text/plain": [
       "<All keys matched successfully>"
      ]
     },
     "execution_count": 5,
     "metadata": {},
     "output_type": "execute_result"
    }
   ],
   "source": [
    "probe_weight = torch.load(\"/home/ubuntu/thesis/sae/results/ablated/probes/best_probes/weight.pt\", weights_only=True)\n",
    "probe = LinearProbe(base_model.model.config.hidden_size)\n",
    "probe.load_state_dict(probe_weight)"
   ]
  },
  {
   "cell_type": "code",
   "execution_count": 6,
   "id": "e82c7746",
   "metadata": {},
   "outputs": [],
   "source": [
    "mean = torch.load(\"/home/ubuntu/thesis/sae/results/ablated/probes/best_probes/mean.pt\", weights_only=True)\n",
    "std = torch.load(\"/home/ubuntu/thesis/sae/results/ablated/probes/best_probes/std.pt\", weights_only=True)"
   ]
  },
  {
   "cell_type": "markdown",
   "id": "7efe4897-c43f-41df-818e-ae3592548c06",
   "metadata": {},
   "source": [
    "### Load dataset"
   ]
  },
  {
   "cell_type": "code",
   "execution_count": 7,
   "id": "e6774294",
   "metadata": {},
   "outputs": [],
   "source": [
    "bio_train = load_from_disk(\"/home/ubuntu/thesis/sae/results/ablated/data/bio_train\")\n",
    "bio_val = load_from_disk(\"/home/ubuntu/thesis/sae/results/ablated/data/bio_val\")\n",
    "cyber_train = load_from_disk(\"/home/ubuntu/thesis/sae/results/ablated/data/cyber_train\")\n",
    "cyber_val = load_from_disk(\"/home/ubuntu/thesis/sae/results/ablated/data/cyber_val\")"
   ]
  },
  {
   "cell_type": "code",
   "execution_count": 8,
   "id": "b8fd761c",
   "metadata": {},
   "outputs": [],
   "source": [
    "(\n",
    "    bio_train_instructions,\n",
    "    cyber_train_instructions,\n",
    "    val_instructions,  # we combine both for validation\n",
    ") = to_instructions(\n",
    "    [\n",
    "        bio_train,\n",
    "        cyber_train,\n",
    "        concatenate_datasets([bio_val, cyber_val])\n",
    "    ],\n",
    "    lambda x: x[\"question\"],\n",
    ")"
   ]
  },
  {
   "cell_type": "code",
   "execution_count": 9,
   "id": "e863a4c7",
   "metadata": {},
   "outputs": [
    {
     "data": {
      "text/plain": [
       "(240, 240)"
      ]
     },
     "execution_count": 9,
     "metadata": {},
     "output_type": "execute_result"
    }
   ],
   "source": [
    "len(cyber_train_instructions), len(bio_train_instructions)"
   ]
  },
  {
   "cell_type": "markdown",
   "id": "55b6f002-8b89-4620-85df-266e58962ced",
   "metadata": {},
   "source": [
    "### Find directions"
   ]
  },
  {
   "cell_type": "code",
   "execution_count": 10,
   "id": "8348f552-c5c6-4b38-bb5f-113bd98c7020",
   "metadata": {},
   "outputs": [
    {
     "name": "stderr",
     "output_type": "stream",
     "text": [
      "Calculating mean: 100%|██████████| 30/30 [00:19<00:00,  1.52it/s]\n",
      "Calculating mean: 100%|██████████| 30/30 [00:19<00:00,  1.52it/s]\n",
      "Calculating mean: 100%|██████████| 30/30 [00:27<00:00,  1.10it/s]\n",
      "Calculating mean: 100%|██████████| 30/30 [00:32<00:00,  1.09s/it]\n"
     ]
    }
   ],
   "source": [
    "bio_diff = generate_directions_rmu(\n",
    "    base_model,\n",
    "    rmu_model,\n",
    "    bio_train_instructions,\n",
    "    batch_size=8,\n",
    "    positions=list(range(-5, 0))\n",
    ")\n",
    "\n",
    "cyber_diff = generate_directions_rmu(\n",
    "    base_model,\n",
    "    rmu_model,\n",
    "    cyber_train_instructions,\n",
    "    batch_size=8,\n",
    "    positions=list(range(-5, 0))\n",
    ")"
   ]
  },
  {
   "cell_type": "code",
   "execution_count": 11,
   "id": "fae43f56",
   "metadata": {},
   "outputs": [],
   "source": [
    "shared_diff = bio_diff + cyber_diff / 2"
   ]
  },
  {
   "cell_type": "markdown",
   "id": "36421993-6c61-4863-a9b6-235c20170679",
   "metadata": {},
   "source": [
    "### Get all activations"
   ]
  },
  {
   "cell_type": "code",
   "execution_count": 12,
   "id": "77e66128-6ddf-4369-bad6-b805570e5d87",
   "metadata": {},
   "outputs": [
    {
     "name": "stderr",
     "output_type": "stream",
     "text": [
      "100%|██████████| 30/30 [00:22<00:00,  1.33it/s]\n",
      "100%|██████████| 60/60 [00:46<00:00,  1.28it/s]\n"
     ]
    }
   ],
   "source": [
    "bio_rmu_activations = get_activations_pre(\n",
    "    rmu_model.model,\n",
    "    rmu_model.tokenizer,\n",
    "    bio_train_instructions,\n",
    "    tokenize_instructions_fn=rmu_model.tokenize_instructions_fn,\n",
    "    block_modules=rmu_model.model_block_modules,\n",
    "    positions=[-1],\n",
    "    batch_size=8\n",
    ")\n",
    "\n",
    "cyber_rmu_activations = get_activations_pre(\n",
    "    rmu_model.model,\n",
    "    rmu_model.tokenizer,\n",
    "    cyber_train_instructions,\n",
    "    tokenize_instructions_fn=rmu_model.tokenize_instructions_fn,\n",
    "    block_modules=rmu_model.model_block_modules,\n",
    "    positions=[-1],\n",
    "    batch_size=4\n",
    ")"
   ]
  },
  {
   "cell_type": "code",
   "execution_count": 13,
   "id": "432eb1ed-d931-4dd0-97b3-7c932641c41a",
   "metadata": {},
   "outputs": [
    {
     "name": "stderr",
     "output_type": "stream",
     "text": [
      "100%|██████████| 30/30 [00:18<00:00,  1.58it/s]\n",
      "100%|██████████| 60/60 [00:48<00:00,  1.24it/s]\n"
     ]
    }
   ],
   "source": [
    "bio_base_activations = get_activations_pre(\n",
    "    base_model.model,\n",
    "    base_model.tokenizer,\n",
    "    bio_train_instructions,\n",
    "    tokenize_instructions_fn=base_model.tokenize_instructions_fn,\n",
    "    block_modules=base_model.model_block_modules,\n",
    "    positions=[-1],\n",
    "    batch_size=8\n",
    ")\n",
    "\n",
    "cyber_base_activations = get_activations_pre(\n",
    "    base_model.model,\n",
    "    base_model.tokenizer,\n",
    "    cyber_train_instructions,\n",
    "    tokenize_instructions_fn=base_model.tokenize_instructions_fn,\n",
    "    block_modules=base_model.model_block_modules,\n",
    "    positions=[-1],\n",
    "    batch_size=4\n",
    ")"
   ]
  },
  {
   "cell_type": "markdown",
   "id": "9cb822d3-2ee8-4cda-8715-d702000164a9",
   "metadata": {},
   "source": [
    "### Analysis"
   ]
  },
  {
   "cell_type": "markdown",
   "id": "f56bbc1a-8f3d-4a63-8b18-b43662fa0500",
   "metadata": {},
   "source": [
    "#### Similarity and Norm of Activations"
   ]
  },
  {
   "cell_type": "code",
   "execution_count": null,
   "id": "13231d5f-4f2c-4414-887f-f651c8abe006",
   "metadata": {},
   "outputs": [],
   "source": [
    "bio_act_sim = torch.nn.functional.cosine_similarity(bio_base_activations, bio_rmu_activations, dim=-1)\n",
    "cyber_act_sim = torch.nn.functional.cosine_similarity(cyber_base_activations, cyber_rmu_activations, dim=-1)"
   ]
  },
  {
   "cell_type": "code",
   "execution_count": null,
   "id": "4b4de2f8-87e0-445e-ad6e-622d0ec0df02",
   "metadata": {},
   "outputs": [],
   "source": [
    "plot_scores_plotly(\n",
    "    scores_group={\n",
    "        \"Biology\": bio_act_sim.squeeze(-1),\n",
    "        \"Cybersecurity\": cyber_act_sim.squeeze(-1),\n",
    "    },\n",
    "    layer_of_interest=LAYER_ID + 1,\n",
    "    title=\"Cosine Similarity between Base and RMU model activations at the last token position\",\n",
    "    ylabel=\"Cosine similarity\",\n",
    "    artifact_dir=ARTIFACT_DIR,\n",
    "    artifact_name=\"cosine_similarity_plot_base\",\n",
    ")"
   ]
  },
  {
   "cell_type": "code",
   "execution_count": null,
   "id": "41dce424-0701-42a5-9666-662be83219df",
   "metadata": {},
   "outputs": [],
   "source": [
    "bio_rmu_norm = torch.linalg.norm(bio_rmu_activations, dim=-1)\n",
    "bio_base_norm = torch.linalg.norm(bio_base_activations, dim=-1)\n",
    "cyber_rmu_norm = torch.linalg.norm(cyber_rmu_activations, dim=-1)\n",
    "cyber_base_norm = torch.linalg.norm(cyber_base_activations, dim=-1)"
   ]
  },
  {
   "cell_type": "code",
   "execution_count": null,
   "id": "3f588228-c485-49a3-8d91-53665a94e36f",
   "metadata": {},
   "outputs": [],
   "source": [
    "plot_scores_plotly(\n",
    "    scores_group={\"RMU Model\": bio_rmu_norm.squeeze(-1), \"Base Model\": bio_base_norm.squeeze(-1)},\n",
    "    layer_of_interest=LAYER_ID + 1,\n",
    "    title=\"Norm of Base Model and RMU Model activations at the last token position (on Biology)\",\n",
    "    ylabel=\"Norm\",\n",
    "    artifact_dir=ARTIFACT_DIR,\n",
    "    artifact_name=\"bio_norm_plot_base\",\n",
    ")"
   ]
  },
  {
   "cell_type": "code",
   "execution_count": null,
   "id": "9f414ac6",
   "metadata": {},
   "outputs": [],
   "source": [
    "plot_scores_plotly(\n",
    "    scores_group={\"RMU Model\": cyber_rmu_norm.squeeze(-1), \"Base Model\": cyber_base_norm.squeeze(-1)},\n",
    "    layer_of_interest=LAYER_ID + 1,\n",
    "    title=\"Norm of Base Model and RMU Model activations at the last token position (on Cybersecurity)\",\n",
    "    ylabel=\"Norm\",\n",
    "    artifact_dir=ARTIFACT_DIR,\n",
    "    artifact_name=\"cyber_norm_plot_base\",\n",
    ")"
   ]
  },
  {
   "cell_type": "markdown",
   "id": "f7ec1f62-7af8-486b-9496-a1b5b2474346",
   "metadata": {},
   "source": [
    "#### Each directions"
   ]
  },
  {
   "cell_type": "code",
   "execution_count": null,
   "id": "7cdc1978-79c2-48aa-a9b4-68525bcf9c98",
   "metadata": {},
   "outputs": [],
   "source": [
    "cyber_bio_sim = torch.nn.functional.cosine_similarity(cyber_diff, bio_diff, dim=-1)"
   ]
  },
  {
   "cell_type": "code",
   "execution_count": null,
   "id": "3069ec6d-786f-4abd-aa34-5d71fc12169a",
   "metadata": {},
   "outputs": [],
   "source": [
    "plot_refusal_scores_plotly(\n",
    "    refusal_scores=cyber_bio_sim,\n",
    "    baseline_refusal_score=None,\n",
    "    artifact_dir=ARTIFACT_DIR,\n",
    "    token_labels=[\"5th-last token\", \"4th-last token\", \"3rd-last token\", \"2nd-last token\", \"Last token\"],\n",
    "    layers=[LAYER_ID - 1],\n",
    "    artifact_name=\"cyber_bio_sim_base\",\n",
    "    title=\"Cosine Similarity between Bio and Cyber directions\",\n",
    "    ylabel=\"Cosine Similarity\"\n",
    ")"
   ]
  },
  {
   "cell_type": "code",
   "execution_count": 18,
   "id": "ad62f02d-8e47-4412-a801-61a840ac145c",
   "metadata": {},
   "outputs": [],
   "source": [
    "cyber_diff_norm = torch.linalg.norm(cyber_diff, dim=-1)"
   ]
  },
  {
   "cell_type": "code",
   "execution_count": 19,
   "id": "1095c3fd-b6fa-46e9-a46a-3436dcd3da3b",
   "metadata": {},
   "outputs": [],
   "source": [
    "bio_diff_norm = torch.linalg.norm(bio_diff, dim=-1)"
   ]
  },
  {
   "cell_type": "code",
   "execution_count": null,
   "id": "97c5558e-d61f-444e-bfd3-67f92b99e295",
   "metadata": {},
   "outputs": [],
   "source": [
    "plot_refusal_scores_plotly(\n",
    "    refusal_scores=cyber_diff_norm,\n",
    "    baseline_refusal_score=0.0,\n",
    "    artifact_dir=ARTIFACT_DIR,\n",
    "    token_labels=[\"5th-last token\", \"4th-last token\", \"3rd-last token\", \"2nd-last token\", \"Last token\"],\n",
    "    layers=[LAYER_ID + 1],\n",
    "    artifact_name=\"cyber_diff_norm_base\",\n",
    "    title=\"Norm of Cyber Directions\",\n",
    "    ylabel=\"Norm\",\n",
    ")"
   ]
  },
  {
   "cell_type": "code",
   "execution_count": null,
   "id": "99d747f0-9f5b-48f7-8091-e593584bddb0",
   "metadata": {},
   "outputs": [],
   "source": [
    "plot_refusal_scores_plotly(\n",
    "    refusal_scores=bio_diff_norm,\n",
    "    baseline_refusal_score=0.0,\n",
    "    artifact_dir=ARTIFACT_DIR,\n",
    "    token_labels=[\"5th-last token\", \"4th-last token\", \"3rd-last token\", \"2nd-last token\", \"Last token\"],\n",
    "    layers=[LAYER_ID + 1],\n",
    "    artifact_name=\"bio_diff_norm_base\",\n",
    "    title=\"Norm of Bio Directions\",\n",
    "    ylabel=\"Norm\",\n",
    ")"
   ]
  },
  {
   "cell_type": "code",
   "execution_count": 14,
   "id": "854c670c-0878-48a7-9c63-957be1d44a88",
   "metadata": {},
   "outputs": [],
   "source": [
    "def proj(a, b):\n",
    "    a = a.to(b.device) # Ensure 'a' is on the same device as 'b'\n",
    "\n",
    "    # Calculate the dot product (a ⋅ b)\n",
    "    # Result shape: (..., 1)\n",
    "    dot_product_ab = einops.einsum(\n",
    "        a, b, \"... d_model, ... d_model -> ...\"\n",
    "    ).unsqueeze(-1) # Add a trailing dimension of 1 for broadcasting\n",
    "\n",
    "    # Calculate the squared L2 norm of b (||b||²)\n",
    "    # Result shape: (..., 1)\n",
    "    # Using a small epsilon for numerical stability in case ||b|| is zero or very small\n",
    "    b_squared_norm = einops.einsum(\n",
    "        b, b, \"... d_model, ... d_model -> ...\"\n",
    "    ).unsqueeze(-1) + 1e-6 # Add epsilon here\n",
    "\n",
    "    # Calculate the projection: ((a ⋅ b) / ||b||²) * b\n",
    "    # The (..., 1) shapes of dot_product_ab and b_squared_norm will broadcast correctly with b (..., d_model)\n",
    "    projection = (dot_product_ab / b_squared_norm) * b\n",
    "    return projection"
   ]
  },
  {
   "cell_type": "code",
   "execution_count": 15,
   "id": "37825db6-ea18-4ff6-a5a9-6b4322370dcf",
   "metadata": {},
   "outputs": [],
   "source": [
    "bio_diff_proj = proj(bio_diff, cyber_diff) # project bio to cyber"
   ]
  },
  {
   "cell_type": "code",
   "execution_count": 16,
   "id": "78ca61cb-104a-4a78-91ca-8721361341d6",
   "metadata": {},
   "outputs": [],
   "source": [
    "bio_diff_ortho = bio_diff - bio_diff_proj # "
   ]
  },
  {
   "cell_type": "code",
   "execution_count": 20,
   "id": "90c96d42-2af5-4e83-b8cc-99602dfb2dc3",
   "metadata": {},
   "outputs": [],
   "source": [
    "shared_ratio_bio = torch.square(torch.linalg.norm(bio_diff_proj, dim=-1)) / (torch.square(bio_diff_norm) + 1e-8)"
   ]
  },
  {
   "cell_type": "code",
   "execution_count": null,
   "id": "bfc0dbbe-8854-4eec-9274-564a0cce2b8f",
   "metadata": {},
   "outputs": [],
   "source": [
    "plot_refusal_scores_plotly(\n",
    "    refusal_scores=shared_ratio_bio,\n",
    "    baseline_refusal_score=0.0,\n",
    "    artifact_dir=ARTIFACT_DIR,\n",
    "    token_labels=[\"5th-last token\", \"4th-last token\", \"3rd-last token\", \"2nd-last token\", \"Last token\"],\n",
    "    layers=[LAYER_ID -1 ],\n",
    "    artifact_name=\"shared_ratio_bio_diff_base\",\n",
    "    title=\"Shared Ratio of Bio Direction based on Cyber Direction\",\n",
    "    ylabel=\"Shared Ratio\",\n",
    ")"
   ]
  },
  {
   "cell_type": "code",
   "execution_count": 21,
   "id": "a4d7705f",
   "metadata": {},
   "outputs": [],
   "source": [
    "ortho_shared_sim = torch.nn.functional.cosine_similarity(bio_diff_ortho + cyber_diff, shared_diff, dim=-1)"
   ]
  },
  {
   "cell_type": "code",
   "execution_count": 24,
   "id": "651bfe9d",
   "metadata": {},
   "outputs": [
    {
     "name": "stdout",
     "output_type": "stream",
     "text": [
      "Plot saved to results/ablated/figures/ortho_shared_sim_base.pdf\n"
     ]
    },
    {
     "data": {
      "application/vnd.plotly.v1+json": {
       "config": {
        "plotlyServerURL": "https://plot.ly"
       },
       "data": [
        {
         "hovertemplate": "<b>Layer:</b> %{x}<br><b>Score:</b> %{y:.2f}<extra></extra>",
         "mode": "lines",
         "name": "-5: '5th-last token'",
         "type": "scatter",
         "x": [
          0,
          1,
          2,
          3,
          4,
          5,
          6,
          7,
          8,
          9,
          10,
          11,
          12,
          13,
          14,
          15,
          16,
          17,
          18,
          19,
          20,
          21,
          22,
          23,
          24,
          25
         ],
         "y": [
          0.9997263504813085,
          0.9874252366042848,
          0.9986513495937807,
          0.9907244056535098,
          0.9916933210867857,
          0.9987152808754757,
          0.9943633074843778,
          0.9995581708651504,
          0.9836667500423271,
          0.9875208496861297,
          0.9911966150877868,
          0.9908704312527264,
          0.9914228078559072,
          0.9922454488714403,
          0.9936648691583685,
          0.9944334244726839,
          0.9931230758619931,
          0.9974761996278159,
          0.9962814901529956,
          0.9960734674888521,
          0.9966745609511447,
          0.9986742612970831,
          0.9994119228105555,
          0.9999622031525635,
          0.9999970502108136,
          0.9999433669976048
         ]
        },
        {
         "hovertemplate": "<b>Layer:</b> %{x}<br><b>Score:</b> %{y:.2f}<extra></extra>",
         "mode": "lines",
         "name": "-4: '4th-last token'",
         "type": "scatter",
         "x": [
          0,
          1,
          2,
          3,
          4,
          5,
          6,
          7,
          8,
          9,
          10,
          11,
          12,
          13,
          14,
          15,
          16,
          17,
          18,
          19,
          20,
          21,
          22,
          23,
          24,
          25
         ],
         "y": [
          0.9731405476164857,
          0.9942429717797002,
          0.9995529970641693,
          0.9978408898597083,
          0.9926010290040407,
          0.999998395826436,
          0.997817424244728,
          0.9979527288368271,
          0.9782215583418725,
          0.9855807339924831,
          0.9910417147760757,
          0.9908113983791389,
          0.9906327579020785,
          0.9917446341368752,
          0.9927186688726064,
          0.9941046981839914,
          0.9919318212527737,
          0.9965421026297289,
          0.9948872226011004,
          0.9946363505847521,
          0.9953995714475457,
          0.997649511624974,
          0.9985702309057991,
          0.9999155819068042,
          0.9999917266056599,
          0.9999986421153414
         ]
        },
        {
         "hovertemplate": "<b>Layer:</b> %{x}<br><b>Score:</b> %{y:.2f}<extra></extra>",
         "mode": "lines",
         "name": "-3: '3rd-last token'",
         "type": "scatter",
         "x": [
          0,
          1,
          2,
          3,
          4,
          5,
          6,
          7,
          8,
          9,
          10,
          11,
          12,
          13,
          14,
          15,
          16,
          17,
          18,
          19,
          20,
          21,
          22,
          23,
          24,
          25
         ],
         "y": [
          0.9468930184876556,
          0.983783565264728,
          0.9993038772144094,
          0.9947684765035865,
          0.9924896202401976,
          0.9991356538442041,
          0.99251132636432,
          0.9990724809815639,
          0.9811424693838677,
          0.9877528849345567,
          0.9914302478851189,
          0.9911289633784026,
          0.99001499498759,
          0.9910256039622048,
          0.9916767743948739,
          0.9915275458728494,
          0.9898718075200906,
          0.9936711850684842,
          0.9910403281237381,
          0.9918067951515288,
          0.9922810205194802,
          0.9934574742531599,
          0.9927255123422818,
          0.9947034276876754,
          0.9952706423169779,
          0.9968087784257793
         ]
        },
        {
         "hovertemplate": "<b>Layer:</b> %{x}<br><b>Score:</b> %{y:.2f}<extra></extra>",
         "mode": "lines",
         "name": "-2: '2nd-last token'",
         "type": "scatter",
         "x": [
          0,
          1,
          2,
          3,
          4,
          5,
          6,
          7,
          8,
          9,
          10,
          11,
          12,
          13,
          14,
          15,
          16,
          17,
          18,
          19,
          20,
          21,
          22,
          23,
          24,
          25
         ],
         "y": [
          0.9760525999305228,
          0.9652814965432505,
          0.9524852033661256,
          0.9499615577275615,
          0.9555611133215602,
          0.958318355377032,
          0.964141267975503,
          0.9840834476085163,
          0.9939376689200333,
          0.9958757391293573,
          0.996912491606855,
          0.9966394330195711,
          0.9970071243677404,
          0.9972709235308937,
          0.9980397324359802,
          0.998471880185731,
          0.9985702624576818,
          0.9994677966962778,
          0.999111986292964,
          0.9999851222359206,
          0.9999256610374743,
          0.9995828531632684,
          0.9992139514490016,
          0.9995428886633175,
          0.9997949035939351,
          0.9996316839980282
         ]
        },
        {
         "hovertemplate": "<b>Layer:</b> %{x}<br><b>Score:</b> %{y:.2f}<extra></extra>",
         "mode": "lines",
         "name": "-1: 'Last token'",
         "type": "scatter",
         "x": [
          0,
          1,
          2,
          3,
          4,
          5,
          6,
          7,
          8,
          9,
          10,
          11,
          12,
          13,
          14,
          15,
          16,
          17,
          18,
          19,
          20,
          21,
          22,
          23,
          24,
          25
         ],
         "y": [
          0.999997767956302,
          0.9983969454851144,
          0.9932206546983378,
          0.9880308998520289,
          0.9828672559089937,
          0.9822918975520945,
          0.9786439919118702,
          0.9841348153306659,
          0.9958145277501149,
          0.9943522727969814,
          0.9950486502538635,
          0.9937058887776172,
          0.9942135625930123,
          0.9945678222185682,
          0.9964182322004517,
          0.9961355909894763,
          0.9972039188866457,
          0.9969391715590005,
          0.9969529338392289,
          0.9975860865302606,
          0.9990710644598114,
          0.9991683968738798,
          0.9981538310909652,
          0.9967192611978155,
          0.9977714497050141,
          0.9991544188951975
         ]
        }
       ],
       "layout": {
        "annotations": [
         {
          "font": {
           "color": "grey",
           "size": 14
          },
          "showarrow": false,
          "text": "Layer 8",
          "x": 8,
          "xshift": 30,
          "y": 0.8,
          "yanchor": "middle",
          "yref": "paper"
         }
        ],
        "height": 600,
        "legend": {
         "title": {
          "text": "Position source of direction"
         }
        },
        "shapes": [
         {
          "line": {
           "color": "grey",
           "dash": "dash"
          },
          "type": "line",
          "x0": 8,
          "x1": 8,
          "xref": "x",
          "y0": 0,
          "y1": 1,
          "yref": "y domain"
         }
        ],
        "template": {
         "data": {
          "bar": [
           {
            "error_x": {
             "color": "#2a3f5f"
            },
            "error_y": {
             "color": "#2a3f5f"
            },
            "marker": {
             "line": {
              "color": "#E5ECF6",
              "width": 0.5
             },
             "pattern": {
              "fillmode": "overlay",
              "size": 10,
              "solidity": 0.2
             }
            },
            "type": "bar"
           }
          ],
          "barpolar": [
           {
            "marker": {
             "line": {
              "color": "#E5ECF6",
              "width": 0.5
             },
             "pattern": {
              "fillmode": "overlay",
              "size": 10,
              "solidity": 0.2
             }
            },
            "type": "barpolar"
           }
          ],
          "carpet": [
           {
            "aaxis": {
             "endlinecolor": "#2a3f5f",
             "gridcolor": "white",
             "linecolor": "white",
             "minorgridcolor": "white",
             "startlinecolor": "#2a3f5f"
            },
            "baxis": {
             "endlinecolor": "#2a3f5f",
             "gridcolor": "white",
             "linecolor": "white",
             "minorgridcolor": "white",
             "startlinecolor": "#2a3f5f"
            },
            "type": "carpet"
           }
          ],
          "choropleth": [
           {
            "colorbar": {
             "outlinewidth": 0,
             "ticks": ""
            },
            "type": "choropleth"
           }
          ],
          "contour": [
           {
            "colorbar": {
             "outlinewidth": 0,
             "ticks": ""
            },
            "colorscale": [
             [
              0,
              "#0d0887"
             ],
             [
              0.1111111111111111,
              "#46039f"
             ],
             [
              0.2222222222222222,
              "#7201a8"
             ],
             [
              0.3333333333333333,
              "#9c179e"
             ],
             [
              0.4444444444444444,
              "#bd3786"
             ],
             [
              0.5555555555555556,
              "#d8576b"
             ],
             [
              0.6666666666666666,
              "#ed7953"
             ],
             [
              0.7777777777777778,
              "#fb9f3a"
             ],
             [
              0.8888888888888888,
              "#fdca26"
             ],
             [
              1,
              "#f0f921"
             ]
            ],
            "type": "contour"
           }
          ],
          "contourcarpet": [
           {
            "colorbar": {
             "outlinewidth": 0,
             "ticks": ""
            },
            "type": "contourcarpet"
           }
          ],
          "heatmap": [
           {
            "colorbar": {
             "outlinewidth": 0,
             "ticks": ""
            },
            "colorscale": [
             [
              0,
              "#0d0887"
             ],
             [
              0.1111111111111111,
              "#46039f"
             ],
             [
              0.2222222222222222,
              "#7201a8"
             ],
             [
              0.3333333333333333,
              "#9c179e"
             ],
             [
              0.4444444444444444,
              "#bd3786"
             ],
             [
              0.5555555555555556,
              "#d8576b"
             ],
             [
              0.6666666666666666,
              "#ed7953"
             ],
             [
              0.7777777777777778,
              "#fb9f3a"
             ],
             [
              0.8888888888888888,
              "#fdca26"
             ],
             [
              1,
              "#f0f921"
             ]
            ],
            "type": "heatmap"
           }
          ],
          "heatmapgl": [
           {
            "colorbar": {
             "outlinewidth": 0,
             "ticks": ""
            },
            "colorscale": [
             [
              0,
              "#0d0887"
             ],
             [
              0.1111111111111111,
              "#46039f"
             ],
             [
              0.2222222222222222,
              "#7201a8"
             ],
             [
              0.3333333333333333,
              "#9c179e"
             ],
             [
              0.4444444444444444,
              "#bd3786"
             ],
             [
              0.5555555555555556,
              "#d8576b"
             ],
             [
              0.6666666666666666,
              "#ed7953"
             ],
             [
              0.7777777777777778,
              "#fb9f3a"
             ],
             [
              0.8888888888888888,
              "#fdca26"
             ],
             [
              1,
              "#f0f921"
             ]
            ],
            "type": "heatmapgl"
           }
          ],
          "histogram": [
           {
            "marker": {
             "pattern": {
              "fillmode": "overlay",
              "size": 10,
              "solidity": 0.2
             }
            },
            "type": "histogram"
           }
          ],
          "histogram2d": [
           {
            "colorbar": {
             "outlinewidth": 0,
             "ticks": ""
            },
            "colorscale": [
             [
              0,
              "#0d0887"
             ],
             [
              0.1111111111111111,
              "#46039f"
             ],
             [
              0.2222222222222222,
              "#7201a8"
             ],
             [
              0.3333333333333333,
              "#9c179e"
             ],
             [
              0.4444444444444444,
              "#bd3786"
             ],
             [
              0.5555555555555556,
              "#d8576b"
             ],
             [
              0.6666666666666666,
              "#ed7953"
             ],
             [
              0.7777777777777778,
              "#fb9f3a"
             ],
             [
              0.8888888888888888,
              "#fdca26"
             ],
             [
              1,
              "#f0f921"
             ]
            ],
            "type": "histogram2d"
           }
          ],
          "histogram2dcontour": [
           {
            "colorbar": {
             "outlinewidth": 0,
             "ticks": ""
            },
            "colorscale": [
             [
              0,
              "#0d0887"
             ],
             [
              0.1111111111111111,
              "#46039f"
             ],
             [
              0.2222222222222222,
              "#7201a8"
             ],
             [
              0.3333333333333333,
              "#9c179e"
             ],
             [
              0.4444444444444444,
              "#bd3786"
             ],
             [
              0.5555555555555556,
              "#d8576b"
             ],
             [
              0.6666666666666666,
              "#ed7953"
             ],
             [
              0.7777777777777778,
              "#fb9f3a"
             ],
             [
              0.8888888888888888,
              "#fdca26"
             ],
             [
              1,
              "#f0f921"
             ]
            ],
            "type": "histogram2dcontour"
           }
          ],
          "mesh3d": [
           {
            "colorbar": {
             "outlinewidth": 0,
             "ticks": ""
            },
            "type": "mesh3d"
           }
          ],
          "parcoords": [
           {
            "line": {
             "colorbar": {
              "outlinewidth": 0,
              "ticks": ""
             }
            },
            "type": "parcoords"
           }
          ],
          "pie": [
           {
            "automargin": true,
            "type": "pie"
           }
          ],
          "scatter": [
           {
            "fillpattern": {
             "fillmode": "overlay",
             "size": 10,
             "solidity": 0.2
            },
            "type": "scatter"
           }
          ],
          "scatter3d": [
           {
            "line": {
             "colorbar": {
              "outlinewidth": 0,
              "ticks": ""
             }
            },
            "marker": {
             "colorbar": {
              "outlinewidth": 0,
              "ticks": ""
             }
            },
            "type": "scatter3d"
           }
          ],
          "scattercarpet": [
           {
            "marker": {
             "colorbar": {
              "outlinewidth": 0,
              "ticks": ""
             }
            },
            "type": "scattercarpet"
           }
          ],
          "scattergeo": [
           {
            "marker": {
             "colorbar": {
              "outlinewidth": 0,
              "ticks": ""
             }
            },
            "type": "scattergeo"
           }
          ],
          "scattergl": [
           {
            "marker": {
             "colorbar": {
              "outlinewidth": 0,
              "ticks": ""
             }
            },
            "type": "scattergl"
           }
          ],
          "scattermapbox": [
           {
            "marker": {
             "colorbar": {
              "outlinewidth": 0,
              "ticks": ""
             }
            },
            "type": "scattermapbox"
           }
          ],
          "scatterpolar": [
           {
            "marker": {
             "colorbar": {
              "outlinewidth": 0,
              "ticks": ""
             }
            },
            "type": "scatterpolar"
           }
          ],
          "scatterpolargl": [
           {
            "marker": {
             "colorbar": {
              "outlinewidth": 0,
              "ticks": ""
             }
            },
            "type": "scatterpolargl"
           }
          ],
          "scatterternary": [
           {
            "marker": {
             "colorbar": {
              "outlinewidth": 0,
              "ticks": ""
             }
            },
            "type": "scatterternary"
           }
          ],
          "surface": [
           {
            "colorbar": {
             "outlinewidth": 0,
             "ticks": ""
            },
            "colorscale": [
             [
              0,
              "#0d0887"
             ],
             [
              0.1111111111111111,
              "#46039f"
             ],
             [
              0.2222222222222222,
              "#7201a8"
             ],
             [
              0.3333333333333333,
              "#9c179e"
             ],
             [
              0.4444444444444444,
              "#bd3786"
             ],
             [
              0.5555555555555556,
              "#d8576b"
             ],
             [
              0.6666666666666666,
              "#ed7953"
             ],
             [
              0.7777777777777778,
              "#fb9f3a"
             ],
             [
              0.8888888888888888,
              "#fdca26"
             ],
             [
              1,
              "#f0f921"
             ]
            ],
            "type": "surface"
           }
          ],
          "table": [
           {
            "cells": {
             "fill": {
              "color": "#EBF0F8"
             },
             "line": {
              "color": "white"
             }
            },
            "header": {
             "fill": {
              "color": "#C8D4E3"
             },
             "line": {
              "color": "white"
             }
            },
            "type": "table"
           }
          ]
         },
         "layout": {
          "annotationdefaults": {
           "arrowcolor": "#2a3f5f",
           "arrowhead": 0,
           "arrowwidth": 1
          },
          "autotypenumbers": "strict",
          "coloraxis": {
           "colorbar": {
            "outlinewidth": 0,
            "ticks": ""
           }
          },
          "colorscale": {
           "diverging": [
            [
             0,
             "#8e0152"
            ],
            [
             0.1,
             "#c51b7d"
            ],
            [
             0.2,
             "#de77ae"
            ],
            [
             0.3,
             "#f1b6da"
            ],
            [
             0.4,
             "#fde0ef"
            ],
            [
             0.5,
             "#f7f7f7"
            ],
            [
             0.6,
             "#e6f5d0"
            ],
            [
             0.7,
             "#b8e186"
            ],
            [
             0.8,
             "#7fbc41"
            ],
            [
             0.9,
             "#4d9221"
            ],
            [
             1,
             "#276419"
            ]
           ],
           "sequential": [
            [
             0,
             "#0d0887"
            ],
            [
             0.1111111111111111,
             "#46039f"
            ],
            [
             0.2222222222222222,
             "#7201a8"
            ],
            [
             0.3333333333333333,
             "#9c179e"
            ],
            [
             0.4444444444444444,
             "#bd3786"
            ],
            [
             0.5555555555555556,
             "#d8576b"
            ],
            [
             0.6666666666666666,
             "#ed7953"
            ],
            [
             0.7777777777777778,
             "#fb9f3a"
            ],
            [
             0.8888888888888888,
             "#fdca26"
            ],
            [
             1,
             "#f0f921"
            ]
           ],
           "sequentialminus": [
            [
             0,
             "#0d0887"
            ],
            [
             0.1111111111111111,
             "#46039f"
            ],
            [
             0.2222222222222222,
             "#7201a8"
            ],
            [
             0.3333333333333333,
             "#9c179e"
            ],
            [
             0.4444444444444444,
             "#bd3786"
            ],
            [
             0.5555555555555556,
             "#d8576b"
            ],
            [
             0.6666666666666666,
             "#ed7953"
            ],
            [
             0.7777777777777778,
             "#fb9f3a"
            ],
            [
             0.8888888888888888,
             "#fdca26"
            ],
            [
             1,
             "#f0f921"
            ]
           ]
          },
          "colorway": [
           "#636efa",
           "#EF553B",
           "#00cc96",
           "#ab63fa",
           "#FFA15A",
           "#19d3f3",
           "#FF6692",
           "#B6E880",
           "#FF97FF",
           "#FECB52"
          ],
          "font": {
           "color": "#2a3f5f"
          },
          "geo": {
           "bgcolor": "white",
           "lakecolor": "white",
           "landcolor": "#E5ECF6",
           "showlakes": true,
           "showland": true,
           "subunitcolor": "white"
          },
          "hoverlabel": {
           "align": "left"
          },
          "hovermode": "closest",
          "mapbox": {
           "style": "light"
          },
          "paper_bgcolor": "white",
          "plot_bgcolor": "#E5ECF6",
          "polar": {
           "angularaxis": {
            "gridcolor": "white",
            "linecolor": "white",
            "ticks": ""
           },
           "bgcolor": "#E5ECF6",
           "radialaxis": {
            "gridcolor": "white",
            "linecolor": "white",
            "ticks": ""
           }
          },
          "scene": {
           "xaxis": {
            "backgroundcolor": "#E5ECF6",
            "gridcolor": "white",
            "gridwidth": 2,
            "linecolor": "white",
            "showbackground": true,
            "ticks": "",
            "zerolinecolor": "white"
           },
           "yaxis": {
            "backgroundcolor": "#E5ECF6",
            "gridcolor": "white",
            "gridwidth": 2,
            "linecolor": "white",
            "showbackground": true,
            "ticks": "",
            "zerolinecolor": "white"
           },
           "zaxis": {
            "backgroundcolor": "#E5ECF6",
            "gridcolor": "white",
            "gridwidth": 2,
            "linecolor": "white",
            "showbackground": true,
            "ticks": "",
            "zerolinecolor": "white"
           }
          },
          "shapedefaults": {
           "line": {
            "color": "#2a3f5f"
           }
          },
          "ternary": {
           "aaxis": {
            "gridcolor": "white",
            "linecolor": "white",
            "ticks": ""
           },
           "baxis": {
            "gridcolor": "white",
            "linecolor": "white",
            "ticks": ""
           },
           "bgcolor": "#E5ECF6",
           "caxis": {
            "gridcolor": "white",
            "linecolor": "white",
            "ticks": ""
           }
          },
          "title": {
           "x": 0.05
          },
          "xaxis": {
           "automargin": true,
           "gridcolor": "white",
           "linecolor": "white",
           "ticks": "",
           "title": {
            "standoff": 15
           },
           "zerolinecolor": "white",
           "zerolinewidth": 2
          },
          "yaxis": {
           "automargin": true,
           "gridcolor": "white",
           "linecolor": "white",
           "ticks": "",
           "title": {
            "standoff": 15
           },
           "zerolinecolor": "white",
           "zerolinewidth": 2
          }
         }
        },
        "title": {
         "text": "Cosine Similarity between Shared and (Ortho + Cyber) directions"
        },
        "width": 1000,
        "xaxis": {
         "title": {
          "text": "Layer source of direction (resid_pre)"
         }
        },
        "yaxis": {
         "title": {
          "text": "Cosine Similarity"
         }
        }
       }
      },
      "text/html": [
       "<div>                            <div id=\"6d011323-0516-42b5-8195-0f5de9d2b46a\" class=\"plotly-graph-div\" style=\"height:600px; width:1000px;\"></div>            <script type=\"text/javascript\">                require([\"plotly\"], function(Plotly) {                    window.PLOTLYENV=window.PLOTLYENV || {};                                    if (document.getElementById(\"6d011323-0516-42b5-8195-0f5de9d2b46a\")) {                    Plotly.newPlot(                        \"6d011323-0516-42b5-8195-0f5de9d2b46a\",                        [{\"hovertemplate\":\"\\u003cb\\u003eLayer:\\u003c\\u002fb\\u003e %{x}\\u003cbr\\u003e\\u003cb\\u003eScore:\\u003c\\u002fb\\u003e %{y:.2f}\\u003cextra\\u003e\\u003c\\u002fextra\\u003e\",\"mode\":\"lines\",\"name\":\"-5: '5th-last token'\",\"x\":[0,1,2,3,4,5,6,7,8,9,10,11,12,13,14,15,16,17,18,19,20,21,22,23,24,25],\"y\":[0.9997263504813085,0.9874252366042848,0.9986513495937807,0.9907244056535098,0.9916933210867857,0.9987152808754757,0.9943633074843778,0.9995581708651504,0.9836667500423271,0.9875208496861297,0.9911966150877868,0.9908704312527264,0.9914228078559072,0.9922454488714403,0.9936648691583685,0.9944334244726839,0.9931230758619931,0.9974761996278159,0.9962814901529956,0.9960734674888521,0.9966745609511447,0.9986742612970831,0.9994119228105555,0.9999622031525635,0.9999970502108136,0.9999433669976048],\"type\":\"scatter\"},{\"hovertemplate\":\"\\u003cb\\u003eLayer:\\u003c\\u002fb\\u003e %{x}\\u003cbr\\u003e\\u003cb\\u003eScore:\\u003c\\u002fb\\u003e %{y:.2f}\\u003cextra\\u003e\\u003c\\u002fextra\\u003e\",\"mode\":\"lines\",\"name\":\"-4: '4th-last token'\",\"x\":[0,1,2,3,4,5,6,7,8,9,10,11,12,13,14,15,16,17,18,19,20,21,22,23,24,25],\"y\":[0.9731405476164857,0.9942429717797002,0.9995529970641693,0.9978408898597083,0.9926010290040407,0.999998395826436,0.997817424244728,0.9979527288368271,0.9782215583418725,0.9855807339924831,0.9910417147760757,0.9908113983791389,0.9906327579020785,0.9917446341368752,0.9927186688726064,0.9941046981839914,0.9919318212527737,0.9965421026297289,0.9948872226011004,0.9946363505847521,0.9953995714475457,0.997649511624974,0.9985702309057991,0.9999155819068042,0.9999917266056599,0.9999986421153414],\"type\":\"scatter\"},{\"hovertemplate\":\"\\u003cb\\u003eLayer:\\u003c\\u002fb\\u003e %{x}\\u003cbr\\u003e\\u003cb\\u003eScore:\\u003c\\u002fb\\u003e %{y:.2f}\\u003cextra\\u003e\\u003c\\u002fextra\\u003e\",\"mode\":\"lines\",\"name\":\"-3: '3rd-last token'\",\"x\":[0,1,2,3,4,5,6,7,8,9,10,11,12,13,14,15,16,17,18,19,20,21,22,23,24,25],\"y\":[0.9468930184876556,0.983783565264728,0.9993038772144094,0.9947684765035865,0.9924896202401976,0.9991356538442041,0.99251132636432,0.9990724809815639,0.9811424693838677,0.9877528849345567,0.9914302478851189,0.9911289633784026,0.99001499498759,0.9910256039622048,0.9916767743948739,0.9915275458728494,0.9898718075200906,0.9936711850684842,0.9910403281237381,0.9918067951515288,0.9922810205194802,0.9934574742531599,0.9927255123422818,0.9947034276876754,0.9952706423169779,0.9968087784257793],\"type\":\"scatter\"},{\"hovertemplate\":\"\\u003cb\\u003eLayer:\\u003c\\u002fb\\u003e %{x}\\u003cbr\\u003e\\u003cb\\u003eScore:\\u003c\\u002fb\\u003e %{y:.2f}\\u003cextra\\u003e\\u003c\\u002fextra\\u003e\",\"mode\":\"lines\",\"name\":\"-2: '2nd-last token'\",\"x\":[0,1,2,3,4,5,6,7,8,9,10,11,12,13,14,15,16,17,18,19,20,21,22,23,24,25],\"y\":[0.9760525999305228,0.9652814965432505,0.9524852033661256,0.9499615577275615,0.9555611133215602,0.958318355377032,0.964141267975503,0.9840834476085163,0.9939376689200333,0.9958757391293573,0.996912491606855,0.9966394330195711,0.9970071243677404,0.9972709235308937,0.9980397324359802,0.998471880185731,0.9985702624576818,0.9994677966962778,0.999111986292964,0.9999851222359206,0.9999256610374743,0.9995828531632684,0.9992139514490016,0.9995428886633175,0.9997949035939351,0.9996316839980282],\"type\":\"scatter\"},{\"hovertemplate\":\"\\u003cb\\u003eLayer:\\u003c\\u002fb\\u003e %{x}\\u003cbr\\u003e\\u003cb\\u003eScore:\\u003c\\u002fb\\u003e %{y:.2f}\\u003cextra\\u003e\\u003c\\u002fextra\\u003e\",\"mode\":\"lines\",\"name\":\"-1: 'Last token'\",\"x\":[0,1,2,3,4,5,6,7,8,9,10,11,12,13,14,15,16,17,18,19,20,21,22,23,24,25],\"y\":[0.999997767956302,0.9983969454851144,0.9932206546983378,0.9880308998520289,0.9828672559089937,0.9822918975520945,0.9786439919118702,0.9841348153306659,0.9958145277501149,0.9943522727969814,0.9950486502538635,0.9937058887776172,0.9942135625930123,0.9945678222185682,0.9964182322004517,0.9961355909894763,0.9972039188866457,0.9969391715590005,0.9969529338392289,0.9975860865302606,0.9990710644598114,0.9991683968738798,0.9981538310909652,0.9967192611978155,0.9977714497050141,0.9991544188951975],\"type\":\"scatter\"}],                        {\"template\":{\"data\":{\"histogram2dcontour\":[{\"type\":\"histogram2dcontour\",\"colorbar\":{\"outlinewidth\":0,\"ticks\":\"\"},\"colorscale\":[[0.0,\"#0d0887\"],[0.1111111111111111,\"#46039f\"],[0.2222222222222222,\"#7201a8\"],[0.3333333333333333,\"#9c179e\"],[0.4444444444444444,\"#bd3786\"],[0.5555555555555556,\"#d8576b\"],[0.6666666666666666,\"#ed7953\"],[0.7777777777777778,\"#fb9f3a\"],[0.8888888888888888,\"#fdca26\"],[1.0,\"#f0f921\"]]}],\"choropleth\":[{\"type\":\"choropleth\",\"colorbar\":{\"outlinewidth\":0,\"ticks\":\"\"}}],\"histogram2d\":[{\"type\":\"histogram2d\",\"colorbar\":{\"outlinewidth\":0,\"ticks\":\"\"},\"colorscale\":[[0.0,\"#0d0887\"],[0.1111111111111111,\"#46039f\"],[0.2222222222222222,\"#7201a8\"],[0.3333333333333333,\"#9c179e\"],[0.4444444444444444,\"#bd3786\"],[0.5555555555555556,\"#d8576b\"],[0.6666666666666666,\"#ed7953\"],[0.7777777777777778,\"#fb9f3a\"],[0.8888888888888888,\"#fdca26\"],[1.0,\"#f0f921\"]]}],\"heatmap\":[{\"type\":\"heatmap\",\"colorbar\":{\"outlinewidth\":0,\"ticks\":\"\"},\"colorscale\":[[0.0,\"#0d0887\"],[0.1111111111111111,\"#46039f\"],[0.2222222222222222,\"#7201a8\"],[0.3333333333333333,\"#9c179e\"],[0.4444444444444444,\"#bd3786\"],[0.5555555555555556,\"#d8576b\"],[0.6666666666666666,\"#ed7953\"],[0.7777777777777778,\"#fb9f3a\"],[0.8888888888888888,\"#fdca26\"],[1.0,\"#f0f921\"]]}],\"heatmapgl\":[{\"type\":\"heatmapgl\",\"colorbar\":{\"outlinewidth\":0,\"ticks\":\"\"},\"colorscale\":[[0.0,\"#0d0887\"],[0.1111111111111111,\"#46039f\"],[0.2222222222222222,\"#7201a8\"],[0.3333333333333333,\"#9c179e\"],[0.4444444444444444,\"#bd3786\"],[0.5555555555555556,\"#d8576b\"],[0.6666666666666666,\"#ed7953\"],[0.7777777777777778,\"#fb9f3a\"],[0.8888888888888888,\"#fdca26\"],[1.0,\"#f0f921\"]]}],\"contourcarpet\":[{\"type\":\"contourcarpet\",\"colorbar\":{\"outlinewidth\":0,\"ticks\":\"\"}}],\"contour\":[{\"type\":\"contour\",\"colorbar\":{\"outlinewidth\":0,\"ticks\":\"\"},\"colorscale\":[[0.0,\"#0d0887\"],[0.1111111111111111,\"#46039f\"],[0.2222222222222222,\"#7201a8\"],[0.3333333333333333,\"#9c179e\"],[0.4444444444444444,\"#bd3786\"],[0.5555555555555556,\"#d8576b\"],[0.6666666666666666,\"#ed7953\"],[0.7777777777777778,\"#fb9f3a\"],[0.8888888888888888,\"#fdca26\"],[1.0,\"#f0f921\"]]}],\"surface\":[{\"type\":\"surface\",\"colorbar\":{\"outlinewidth\":0,\"ticks\":\"\"},\"colorscale\":[[0.0,\"#0d0887\"],[0.1111111111111111,\"#46039f\"],[0.2222222222222222,\"#7201a8\"],[0.3333333333333333,\"#9c179e\"],[0.4444444444444444,\"#bd3786\"],[0.5555555555555556,\"#d8576b\"],[0.6666666666666666,\"#ed7953\"],[0.7777777777777778,\"#fb9f3a\"],[0.8888888888888888,\"#fdca26\"],[1.0,\"#f0f921\"]]}],\"mesh3d\":[{\"type\":\"mesh3d\",\"colorbar\":{\"outlinewidth\":0,\"ticks\":\"\"}}],\"scatter\":[{\"fillpattern\":{\"fillmode\":\"overlay\",\"size\":10,\"solidity\":0.2},\"type\":\"scatter\"}],\"parcoords\":[{\"type\":\"parcoords\",\"line\":{\"colorbar\":{\"outlinewidth\":0,\"ticks\":\"\"}}}],\"scatterpolargl\":[{\"type\":\"scatterpolargl\",\"marker\":{\"colorbar\":{\"outlinewidth\":0,\"ticks\":\"\"}}}],\"bar\":[{\"error_x\":{\"color\":\"#2a3f5f\"},\"error_y\":{\"color\":\"#2a3f5f\"},\"marker\":{\"line\":{\"color\":\"#E5ECF6\",\"width\":0.5},\"pattern\":{\"fillmode\":\"overlay\",\"size\":10,\"solidity\":0.2}},\"type\":\"bar\"}],\"scattergeo\":[{\"type\":\"scattergeo\",\"marker\":{\"colorbar\":{\"outlinewidth\":0,\"ticks\":\"\"}}}],\"scatterpolar\":[{\"type\":\"scatterpolar\",\"marker\":{\"colorbar\":{\"outlinewidth\":0,\"ticks\":\"\"}}}],\"histogram\":[{\"marker\":{\"pattern\":{\"fillmode\":\"overlay\",\"size\":10,\"solidity\":0.2}},\"type\":\"histogram\"}],\"scattergl\":[{\"type\":\"scattergl\",\"marker\":{\"colorbar\":{\"outlinewidth\":0,\"ticks\":\"\"}}}],\"scatter3d\":[{\"type\":\"scatter3d\",\"line\":{\"colorbar\":{\"outlinewidth\":0,\"ticks\":\"\"}},\"marker\":{\"colorbar\":{\"outlinewidth\":0,\"ticks\":\"\"}}}],\"scattermapbox\":[{\"type\":\"scattermapbox\",\"marker\":{\"colorbar\":{\"outlinewidth\":0,\"ticks\":\"\"}}}],\"scatterternary\":[{\"type\":\"scatterternary\",\"marker\":{\"colorbar\":{\"outlinewidth\":0,\"ticks\":\"\"}}}],\"scattercarpet\":[{\"type\":\"scattercarpet\",\"marker\":{\"colorbar\":{\"outlinewidth\":0,\"ticks\":\"\"}}}],\"carpet\":[{\"aaxis\":{\"endlinecolor\":\"#2a3f5f\",\"gridcolor\":\"white\",\"linecolor\":\"white\",\"minorgridcolor\":\"white\",\"startlinecolor\":\"#2a3f5f\"},\"baxis\":{\"endlinecolor\":\"#2a3f5f\",\"gridcolor\":\"white\",\"linecolor\":\"white\",\"minorgridcolor\":\"white\",\"startlinecolor\":\"#2a3f5f\"},\"type\":\"carpet\"}],\"table\":[{\"cells\":{\"fill\":{\"color\":\"#EBF0F8\"},\"line\":{\"color\":\"white\"}},\"header\":{\"fill\":{\"color\":\"#C8D4E3\"},\"line\":{\"color\":\"white\"}},\"type\":\"table\"}],\"barpolar\":[{\"marker\":{\"line\":{\"color\":\"#E5ECF6\",\"width\":0.5},\"pattern\":{\"fillmode\":\"overlay\",\"size\":10,\"solidity\":0.2}},\"type\":\"barpolar\"}],\"pie\":[{\"automargin\":true,\"type\":\"pie\"}]},\"layout\":{\"autotypenumbers\":\"strict\",\"colorway\":[\"#636efa\",\"#EF553B\",\"#00cc96\",\"#ab63fa\",\"#FFA15A\",\"#19d3f3\",\"#FF6692\",\"#B6E880\",\"#FF97FF\",\"#FECB52\"],\"font\":{\"color\":\"#2a3f5f\"},\"hovermode\":\"closest\",\"hoverlabel\":{\"align\":\"left\"},\"paper_bgcolor\":\"white\",\"plot_bgcolor\":\"#E5ECF6\",\"polar\":{\"bgcolor\":\"#E5ECF6\",\"angularaxis\":{\"gridcolor\":\"white\",\"linecolor\":\"white\",\"ticks\":\"\"},\"radialaxis\":{\"gridcolor\":\"white\",\"linecolor\":\"white\",\"ticks\":\"\"}},\"ternary\":{\"bgcolor\":\"#E5ECF6\",\"aaxis\":{\"gridcolor\":\"white\",\"linecolor\":\"white\",\"ticks\":\"\"},\"baxis\":{\"gridcolor\":\"white\",\"linecolor\":\"white\",\"ticks\":\"\"},\"caxis\":{\"gridcolor\":\"white\",\"linecolor\":\"white\",\"ticks\":\"\"}},\"coloraxis\":{\"colorbar\":{\"outlinewidth\":0,\"ticks\":\"\"}},\"colorscale\":{\"sequential\":[[0.0,\"#0d0887\"],[0.1111111111111111,\"#46039f\"],[0.2222222222222222,\"#7201a8\"],[0.3333333333333333,\"#9c179e\"],[0.4444444444444444,\"#bd3786\"],[0.5555555555555556,\"#d8576b\"],[0.6666666666666666,\"#ed7953\"],[0.7777777777777778,\"#fb9f3a\"],[0.8888888888888888,\"#fdca26\"],[1.0,\"#f0f921\"]],\"sequentialminus\":[[0.0,\"#0d0887\"],[0.1111111111111111,\"#46039f\"],[0.2222222222222222,\"#7201a8\"],[0.3333333333333333,\"#9c179e\"],[0.4444444444444444,\"#bd3786\"],[0.5555555555555556,\"#d8576b\"],[0.6666666666666666,\"#ed7953\"],[0.7777777777777778,\"#fb9f3a\"],[0.8888888888888888,\"#fdca26\"],[1.0,\"#f0f921\"]],\"diverging\":[[0,\"#8e0152\"],[0.1,\"#c51b7d\"],[0.2,\"#de77ae\"],[0.3,\"#f1b6da\"],[0.4,\"#fde0ef\"],[0.5,\"#f7f7f7\"],[0.6,\"#e6f5d0\"],[0.7,\"#b8e186\"],[0.8,\"#7fbc41\"],[0.9,\"#4d9221\"],[1,\"#276419\"]]},\"xaxis\":{\"gridcolor\":\"white\",\"linecolor\":\"white\",\"ticks\":\"\",\"title\":{\"standoff\":15},\"zerolinecolor\":\"white\",\"automargin\":true,\"zerolinewidth\":2},\"yaxis\":{\"gridcolor\":\"white\",\"linecolor\":\"white\",\"ticks\":\"\",\"title\":{\"standoff\":15},\"zerolinecolor\":\"white\",\"automargin\":true,\"zerolinewidth\":2},\"scene\":{\"xaxis\":{\"backgroundcolor\":\"#E5ECF6\",\"gridcolor\":\"white\",\"linecolor\":\"white\",\"showbackground\":true,\"ticks\":\"\",\"zerolinecolor\":\"white\",\"gridwidth\":2},\"yaxis\":{\"backgroundcolor\":\"#E5ECF6\",\"gridcolor\":\"white\",\"linecolor\":\"white\",\"showbackground\":true,\"ticks\":\"\",\"zerolinecolor\":\"white\",\"gridwidth\":2},\"zaxis\":{\"backgroundcolor\":\"#E5ECF6\",\"gridcolor\":\"white\",\"linecolor\":\"white\",\"showbackground\":true,\"ticks\":\"\",\"zerolinecolor\":\"white\",\"gridwidth\":2}},\"shapedefaults\":{\"line\":{\"color\":\"#2a3f5f\"}},\"annotationdefaults\":{\"arrowcolor\":\"#2a3f5f\",\"arrowhead\":0,\"arrowwidth\":1},\"geo\":{\"bgcolor\":\"white\",\"landcolor\":\"#E5ECF6\",\"subunitcolor\":\"white\",\"showland\":true,\"showlakes\":true,\"lakecolor\":\"white\"},\"title\":{\"x\":0.05},\"mapbox\":{\"style\":\"light\"}}},\"shapes\":[{\"line\":{\"color\":\"grey\",\"dash\":\"dash\"},\"type\":\"line\",\"x0\":8,\"x1\":8,\"xref\":\"x\",\"y0\":0,\"y1\":1,\"yref\":\"y domain\"}],\"annotations\":[{\"font\":{\"color\":\"grey\",\"size\":14},\"showarrow\":false,\"text\":\"Layer 8\",\"x\":8,\"xshift\":30,\"y\":0.8,\"yanchor\":\"middle\",\"yref\":\"paper\"}],\"title\":{\"text\":\"Cosine Similarity between Shared and (Ortho + Cyber) directions\"},\"xaxis\":{\"title\":{\"text\":\"Layer source of direction (resid_pre)\"}},\"yaxis\":{\"title\":{\"text\":\"Cosine Similarity\"}},\"legend\":{\"title\":{\"text\":\"Position source of direction\"}},\"width\":1000,\"height\":600},                        {\"responsive\": true}                    ).then(function(){\n",
       "                            \n",
       "var gd = document.getElementById('6d011323-0516-42b5-8195-0f5de9d2b46a');\n",
       "var x = new MutationObserver(function (mutations, observer) {{\n",
       "        var display = window.getComputedStyle(gd).display;\n",
       "        if (!display || display === 'none') {{\n",
       "            console.log([gd, 'removed!']);\n",
       "            Plotly.purge(gd);\n",
       "            observer.disconnect();\n",
       "        }}\n",
       "}});\n",
       "\n",
       "// Listen for the removal of the full notebook cells\n",
       "var notebookContainer = gd.closest('#notebook-container');\n",
       "if (notebookContainer) {{\n",
       "    x.observe(notebookContainer, {childList: true});\n",
       "}}\n",
       "\n",
       "// Listen for the clearing of the current output cell\n",
       "var outputEl = gd.closest('.output');\n",
       "if (outputEl) {{\n",
       "    x.observe(outputEl, {childList: true});\n",
       "}}\n",
       "\n",
       "                        })                };                });            </script>        </div>"
      ]
     },
     "metadata": {},
     "output_type": "display_data"
    }
   ],
   "source": [
    "plot_refusal_scores_plotly(\n",
    "    refusal_scores=ortho_shared_sim,\n",
    "    baseline_refusal_score=None,\n",
    "    artifact_dir=ARTIFACT_DIR,\n",
    "    token_labels=[\"5th-last token\", \"4th-last token\", \"3rd-last token\", \"2nd-last token\", \"Last token\"],\n",
    "    layers=[LAYER_ID - 1],\n",
    "    artifact_name=\"ortho_shared_sim_base\",\n",
    "    title=\"Cosine Similarity between Shared and (Ortho + Cyber) directions\",\n",
    "    ylabel=\"Cosine Similarity\"\n",
    ")"
   ]
  }
 ],
 "metadata": {
  "kernelspec": {
   "display_name": ".venv",
   "language": "python",
   "name": "python3"
  },
  "language_info": {
   "codemirror_mode": {
    "name": "ipython",
    "version": 3
   },
   "file_extension": ".py",
   "mimetype": "text/x-python",
   "name": "python",
   "nbconvert_exporter": "python",
   "pygments_lexer": "ipython3",
   "version": "3.10.12"
  }
 },
 "nbformat": 4,
 "nbformat_minor": 5
}
