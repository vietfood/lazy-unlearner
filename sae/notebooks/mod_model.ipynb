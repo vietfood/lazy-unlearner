{
 "cells": [
  {
   "cell_type": "code",
   "execution_count": 1,
   "id": "46df62d0-3ccf-469a-97de-2f271a54480c",
   "metadata": {},
   "outputs": [],
   "source": [
    "import torch\n",
    "import einops\n",
    "from datasets import concatenate_datasets, load_dataset, load_from_disk\n",
    "import json\n",
    "\n",
    "from sae_refusal.model.gemma import GemmaModel\n",
    "from sae_refusal.model.embedding import EmbeddingModel\n",
    "from sae_refusal import set_seed, clear_memory\n",
    "from sae_refusal.data import (\n",
    "    load_wmdp,\n",
    "    split,\n",
    "    to_instructions,\n",
    "    sample_data,\n",
    "    load_harmbench\n",
    ")\n",
    "from sae_refusal.pipeline.select_directions import select_direction\n",
    "from sae_refusal.pipeline.utils import compute_pca, generate_and_save_completions, proj\n",
    "from sae_refusal.probe import LinearProbe\n",
    "from sae_refusal.pipeline.generate_directions import generate_directions_rmu\n",
    "from sae_refusal.pipeline.hook import (\n",
    "    get_all_direction_ablation_hooks,\n",
    "    get_all_direction_ablation_hooks_rmu,\n",
    "    get_activation_addition_input_pre_hook,\n",
    "    get_activation_addition_input_pre_hook_rmu\n",
    ")\n",
    "from sae_refusal.plot import (\n",
    "    plot_scores_plotly,\n",
    "    plot_refusal_scores_plotly,\n",
    ")\n",
    "from sae_refusal.pipeline.activations import (\n",
    "    get_activations,\n",
    "    get_activations_pre\n",
    ")\n",
    "from IPython.display import display, Markdown"
   ]
  },
  {
   "cell_type": "code",
   "execution_count": 2,
   "id": "831f64e0-854d-4a8a-b1b0-4a098cbfb9b3",
   "metadata": {},
   "outputs": [],
   "source": [
    "LAYER_ID = 9\n",
    "SAMPLE_SIZE = 300  # For each dataset\n",
    "VAL_SIZE = 0.2\n",
    "SEED = 42\n",
    "MAX_LEN = 1024\n",
    "\n",
    "ARTIFACT_DIR = \"results/ablated\"\n",
    "\n",
    "MODEL_NAME = \"google/gemma-2-2b\"\n",
    "RMU_NAME = \"lenguyen1807/gemma-2-2b-RMU\""
   ]
  },
  {
   "cell_type": "code",
   "execution_count": 3,
   "id": "80aeb245-f848-4faa-b537-e77b505c4c37",
   "metadata": {},
   "outputs": [],
   "source": [
    "set_seed(SEED)\n",
    "torch.set_grad_enabled(False)\n",
    "torch.set_float32_matmul_precision(\"high\")"
   ]
  },
  {
   "cell_type": "markdown",
   "id": "cf3c0325",
   "metadata": {},
   "source": [
    "### Load model"
   ]
  },
  {
   "cell_type": "code",
   "execution_count": 4,
   "id": "e2eb5e30",
   "metadata": {},
   "outputs": [
    {
     "data": {
      "application/vnd.jupyter.widget-view+json": {
       "model_id": "5d0779f5ec9643ffbece1f8ca4327e7c",
       "version_major": 2,
       "version_minor": 0
      },
      "text/plain": [
       "Loading checkpoint shards:   0%|          | 0/3 [00:00<?, ?it/s]"
      ]
     },
     "metadata": {},
     "output_type": "display_data"
    },
    {
     "data": {
      "application/vnd.jupyter.widget-view+json": {
       "model_id": "bb48e40dc8134bcca3ed54e591d70ce4",
       "version_major": 2,
       "version_minor": 0
      },
      "text/plain": [
       "Loading checkpoint shards:   0%|          | 0/3 [00:00<?, ?it/s]"
      ]
     },
     "metadata": {},
     "output_type": "display_data"
    }
   ],
   "source": [
    "base_model = GemmaModel(MODEL_NAME, type=\"none\")\n",
    "rmu_model = GemmaModel(RMU_NAME, type=\"none\")"
   ]
  },
  {
   "cell_type": "markdown",
   "id": "3c9ed25a",
   "metadata": {},
   "source": [
    "### Load directions"
   ]
  },
  {
   "cell_type": "code",
   "execution_count": 5,
   "id": "6b52a6bf",
   "metadata": {},
   "outputs": [],
   "source": [
    "shared_diff = torch.load(\"/home/ubuntu/thesis/sae/results/ablated/direction_shared/best_dir.pt\", weights_only=True)\n",
    "shared_rand = torch.load(\"/home/ubuntu/thesis/sae/results/ablated/direction_shared/rand.pt\", weights_only=True)"
   ]
  },
  {
   "cell_type": "code",
   "execution_count": 6,
   "id": "553d4b1b",
   "metadata": {},
   "outputs": [],
   "source": [
    "cyber_diff = torch.load(\"/home/ubuntu/thesis/sae/results/ablated/direction_cyber/best_dir.pt\", weights_only=True)\n",
    "cyber_rand = torch.load(\"/home/ubuntu/thesis/sae/results/ablated/direction_cyber/rand.pt\", weights_only=True)"
   ]
  },
  {
   "cell_type": "code",
   "execution_count": 7,
   "id": "422466e1",
   "metadata": {},
   "outputs": [],
   "source": [
    "bio_diff = torch.load(\"/home/ubuntu/thesis/sae/results/ablated/direction_bio/best_dir.pt\", weights_only=True)\n",
    "bio_rand = torch.load(\"/home/ubuntu/thesis/sae/results/ablated/direction_bio/rand.pt\", weights_only=True)"
   ]
  },
  {
   "cell_type": "code",
   "execution_count": 8,
   "id": "d67c39b3",
   "metadata": {},
   "outputs": [],
   "source": [
    "general_diff = torch.load(\"/home/ubuntu/thesis/sae/results/ablated/direction_general/best_dir.pt\", weights_only=True)\n",
    "general_same_diff = torch.load(\"/home/ubuntu/thesis/sae/results/ablated/direction_general_same/best_dir.pt\", weights_only=True)"
   ]
  },
  {
   "cell_type": "markdown",
   "id": "49d00641",
   "metadata": {},
   "source": [
    "### Filtered"
   ]
  },
  {
   "cell_type": "code",
   "execution_count": null,
   "id": "035c4521",
   "metadata": {},
   "outputs": [],
   "source": [
    "# Bio and General don't have directions satisfy the constraints\n",
    "# but what if we relax the constraints more ? \n",
    "with open(\"/home/ubuntu/thesis/sae/results/ablated/direction_bio/direction_evaluations.json\", mode=\"r\", encoding=\"utf-8\") as f:\n",
    "    bio_results = json.load(f)"
   ]
  },
  {
   "cell_type": "code",
   "execution_count": null,
   "id": "f75cd398",
   "metadata": {},
   "outputs": [],
   "source": [
    "with open(\"/home/ubuntu/thesis/sae/results/ablated/direction_general/direction_evaluations.json\", mode=\"r\", encoding=\"utf-8\") as f:\n",
    "    general_results = json.load(f)"
   ]
  },
  {
   "cell_type": "code",
   "execution_count": null,
   "id": "81ce5e08",
   "metadata": {},
   "outputs": [],
   "source": [
    "with open(\"/home/ubuntu/thesis/sae/results/ablated/direction_general_same/direction_evaluations.json\", mode=\"r\", encoding=\"utf-8\") as f:\n",
    "    general_same_results = json.load(f)"
   ]
  },
  {
   "cell_type": "code",
   "execution_count": null,
   "id": "30079896",
   "metadata": {},
   "outputs": [],
   "source": [
    "with open(\"/home/ubuntu/thesis/sae/results/ablated/direction_cyber/direction_evaluations_filtered.json\", mode=\"r\", encoding=\"utf-8\") as f:\n",
    "    cyber_filtered = json.load(f)"
   ]
  },
  {
   "cell_type": "code",
   "execution_count": null,
   "id": "9e8ad9ae",
   "metadata": {},
   "outputs": [],
   "source": [
    "def filter_fn(\n",
    "    results,\n",
    "    n_layer=rmu_model.model.config.num_hidden_layers,\n",
    "    kl_score=0.2,\n",
    "    induce_score=0.0,\n",
    "    prune_layer_percentage=0.20,\n",
    "):\n",
    "    filtered_results = []\n",
    "    for result in results:\n",
    "        if result[\"layer\"] >= int(n_layer * (1.0 - prune_layer_percentage)):\n",
    "            continue\n",
    "        if result[\"kl_div_score\"] > kl_score:\n",
    "            continue\n",
    "        if result[\"steering_score\"] < induce_score:\n",
    "            continue\n",
    "        filtered_results.append(result)\n",
    "    return sorted(filtered_results, key=lambda x: x[\"ablation_score\"])"
   ]
  },
  {
   "cell_type": "code",
   "execution_count": null,
   "id": "691dee70",
   "metadata": {},
   "outputs": [],
   "source": [
    "bio_filtered = filter_fn(bio_results)"
   ]
  },
  {
   "cell_type": "code",
   "execution_count": null,
   "id": "4ef3eff8",
   "metadata": {},
   "outputs": [],
   "source": [
    "bio_filtered[0]"
   ]
  },
  {
   "cell_type": "code",
   "execution_count": null,
   "id": "e9f08d03",
   "metadata": {},
   "outputs": [],
   "source": [
    "general_filtered = filter_fn(general_results, kl_score=0.4)"
   ]
  },
  {
   "cell_type": "code",
   "execution_count": null,
   "id": "4412565c",
   "metadata": {},
   "outputs": [],
   "source": [
    "general_filtered[0]"
   ]
  },
  {
   "cell_type": "code",
   "execution_count": null,
   "id": "000e0b6d",
   "metadata": {},
   "outputs": [],
   "source": [
    "general_same_filtered = filter_fn(general_same_results, kl_score=0.3)"
   ]
  },
  {
   "cell_type": "code",
   "execution_count": null,
   "id": "b81c60e9",
   "metadata": {},
   "outputs": [],
   "source": [
    "general_same_filtered"
   ]
  },
  {
   "cell_type": "markdown",
   "id": "581c3f1d",
   "metadata": {},
   "source": [
    "### Get missing directions"
   ]
  },
  {
   "cell_type": "code",
   "execution_count": null,
   "id": "18ed92e8",
   "metadata": {},
   "outputs": [],
   "source": [
    "bio_train = load_from_disk(\"/home/ubuntu/thesis/sae/results/ablated/data/bio_train\")\n",
    "bio_val = load_from_disk(\"/home/ubuntu/thesis/sae/results/ablated/data/bio_val\")\n",
    "cyber_train = load_from_disk(\"/home/ubuntu/thesis/sae/results/ablated/data/cyber_train\")\n",
    "cyber_val = load_from_disk(\"/home/ubuntu/thesis/sae/results/ablated/data/cyber_val\")"
   ]
  },
  {
   "cell_type": "code",
   "execution_count": null,
   "id": "2386c154",
   "metadata": {},
   "outputs": [],
   "source": [
    "(\n",
    "    bio_train_instructions,\n",
    "    cyber_train_instructions,\n",
    "    val_instructions,  # we combine both for validation\n",
    ") = to_instructions(\n",
    "    [\n",
    "        bio_train,\n",
    "        cyber_train,\n",
    "        concatenate_datasets([bio_val, cyber_val])\n",
    "    ],\n",
    "    lambda x: x[\"question\"],\n",
    ")"
   ]
  },
  {
   "cell_type": "markdown",
   "id": "ae631722",
   "metadata": {},
   "source": [
    "#### Bio"
   ]
  },
  {
   "cell_type": "code",
   "execution_count": null,
   "id": "17d97b5d",
   "metadata": {},
   "outputs": [],
   "source": [
    "bio_diff = generate_directions_rmu(\n",
    "    base_model,\n",
    "    rmu_model,\n",
    "    bio_train_instructions,\n",
    "    batch_size=8,\n",
    "    positions=list(range(-5, 0))\n",
    ")"
   ]
  },
  {
   "cell_type": "code",
   "execution_count": null,
   "id": "e1f30861",
   "metadata": {},
   "outputs": [],
   "source": [
    "# Get the best direction with relax constraints\n",
    "bio_layer = bio_filtered[0][\"layer\"]\n",
    "bio_pos = bio_filtered[0][\"position\"]\n",
    "bio_best = bio_diff[bio_pos, bio_layer, :]"
   ]
  },
  {
   "cell_type": "code",
   "execution_count": null,
   "id": "b9611462",
   "metadata": {},
   "outputs": [],
   "source": [
    "with open(\"/home/ubuntu/thesis/sae/results/ablated/direction_bio/direction_evaluations_filtered.json\", mode=\"w+\", encoding=\"utf-8\") as f:\n",
    "    json.dump(bio_filtered, f, indent=4)"
   ]
  },
  {
   "cell_type": "code",
   "execution_count": null,
   "id": "2c10467d",
   "metadata": {},
   "outputs": [],
   "source": [
    "torch.save(bio_best, \"/home/ubuntu/thesis/sae/results/ablated/direction_bio/best_dir.pt\")"
   ]
  },
  {
   "cell_type": "markdown",
   "id": "cc5ffdba",
   "metadata": {},
   "source": [
    "#### Cyber"
   ]
  },
  {
   "cell_type": "code",
   "execution_count": null,
   "id": "b64ed899",
   "metadata": {},
   "outputs": [],
   "source": [
    "cyber_diff = generate_directions_rmu(\n",
    "    base_model,\n",
    "    rmu_model,\n",
    "    cyber_train_instructions,\n",
    "    batch_size=8,\n",
    "    positions=list(range(-5, 0))\n",
    ")"
   ]
  },
  {
   "cell_type": "code",
   "execution_count": null,
   "id": "c50548dc",
   "metadata": {},
   "outputs": [],
   "source": [
    "# Get the best direction with relax constraints\n",
    "cyber_layer = cyber_filtered[0][\"layer\"]\n",
    "cyber_pos = cyber_filtered[0][\"position\"]\n",
    "cyber_best = cyber_diff[bio_pos, bio_layer, :]"
   ]
  },
  {
   "cell_type": "code",
   "execution_count": null,
   "id": "21d20cce",
   "metadata": {},
   "outputs": [],
   "source": [
    "torch.save(cyber_best, \"/home/ubuntu/thesis/sae/results/ablated/direction_cyber/best_dir.pt\")"
   ]
  },
  {
   "cell_type": "markdown",
   "id": "ce49afa8",
   "metadata": {},
   "source": [
    "#### General"
   ]
  },
  {
   "cell_type": "code",
   "execution_count": null,
   "id": "ced3b32e",
   "metadata": {},
   "outputs": [],
   "source": [
    "adv_bench = load_dataset(\"walledai/AdvBench\", split=\"train\")\n",
    "adv_bench = adv_bench.remove_columns(\"target\")"
   ]
  },
  {
   "cell_type": "code",
   "execution_count": null,
   "id": "46985652",
   "metadata": {},
   "outputs": [],
   "source": [
    "minstruct = load_dataset(\"walledai/MaliciousInstruct\", split=\"train\")"
   ]
  },
  {
   "cell_type": "code",
   "execution_count": null,
   "id": "8e8c779a",
   "metadata": {},
   "outputs": [],
   "source": [
    "harmbench_ds = load_dataset(\"walledai/HarmBench\", \"standard\", split=\"train\")\n",
    "harmbench_ds = harmbench_ds.remove_columns(\"category\")"
   ]
  },
  {
   "cell_type": "code",
   "execution_count": null,
   "id": "8171d67d",
   "metadata": {},
   "outputs": [],
   "source": [
    "train_instructions, val_instructions = to_instructions(\n",
    "    data=split(\n",
    "        sample_data(\n",
    "            data=concatenate_datasets([adv_bench, minstruct, harmbench_ds]),\n",
    "            sample_size=SAMPLE_SIZE,\n",
    "            seed=SEED,\n",
    "            max_len=None,\n",
    "            key=\"prompt\",\n",
    "        ),\n",
    "        test_size=VAL_SIZE,\n",
    "    ),\n",
    "    format_fn=lambda x: x[\"prompt\"],\n",
    ")"
   ]
  },
  {
   "cell_type": "code",
   "execution_count": null,
   "id": "df1e69d8",
   "metadata": {},
   "outputs": [],
   "source": [
    "general_diff = generate_directions_rmu(\n",
    "    base_model,\n",
    "    rmu_model,\n",
    "    train_instructions,\n",
    "    batch_size=8,\n",
    "    positions=list(range(-5, 0))\n",
    ")"
   ]
  },
  {
   "cell_type": "code",
   "execution_count": null,
   "id": "6aa047eb",
   "metadata": {},
   "outputs": [],
   "source": [
    "# Get the best direction with relax constraints\n",
    "general_layer = general_filtered[0][\"layer\"]\n",
    "general_pos = general_filtered[0][\"position\"]\n",
    "general_best = general_diff[general_pos, general_layer, :]"
   ]
  },
  {
   "cell_type": "code",
   "execution_count": null,
   "id": "d59d845f",
   "metadata": {},
   "outputs": [],
   "source": [
    "with open(\"/home/ubuntu/thesis/sae/results/ablated/direction_general/direction_evaluations_filtered.json\", mode=\"w+\", encoding=\"utf-8\") as f:\n",
    "    json.dump(general_filtered, f, indent=4)"
   ]
  },
  {
   "cell_type": "code",
   "execution_count": null,
   "id": "ef3123c8",
   "metadata": {},
   "outputs": [],
   "source": [
    "torch.save(general_best, \"/home/ubuntu/thesis/sae/results/ablated/direction_general/best_dir.pt\")"
   ]
  },
  {
   "cell_type": "markdown",
   "id": "62a1168c",
   "metadata": {},
   "source": [
    "#### General same"
   ]
  },
  {
   "cell_type": "code",
   "execution_count": null,
   "id": "7bfeeb04",
   "metadata": {},
   "outputs": [],
   "source": [
    "with open('/home/ubuntu/thesis/sae/results/ablated/data/bio_augment.txt', 'r') as f:\n",
    "    bio_augment = f.read().strip().split('\\n')\n",
    "\n",
    "with open('/home/ubuntu/thesis/sae/results/ablated/data/cyber_augment.txt', 'r') as f:\n",
    "    cyber_augment = f.read().strip().split('\\n')"
   ]
  },
  {
   "cell_type": "code",
   "execution_count": null,
   "id": "c0830347",
   "metadata": {},
   "outputs": [],
   "source": [
    "bio_same_diff = generate_directions_rmu(\n",
    "    base_model,\n",
    "    rmu_model,\n",
    "    bio_augment,\n",
    "    batch_size=8,\n",
    "    positions=list(range(-5, 0))\n",
    ")\n",
    "\n",
    "cyber_same_diff = generate_directions_rmu(\n",
    "    base_model,\n",
    "    rmu_model,\n",
    "    cyber_augment,\n",
    "    batch_size=8,\n",
    "    positions=list(range(-5, 0))\n",
    ")"
   ]
  },
  {
   "cell_type": "code",
   "execution_count": null,
   "id": "e2b584eb",
   "metadata": {},
   "outputs": [],
   "source": [
    "shared_same_diff = (bio_same_diff + cyber_same_diff) / 2"
   ]
  },
  {
   "cell_type": "code",
   "execution_count": null,
   "id": "6b445966",
   "metadata": {},
   "outputs": [],
   "source": [
    "general_same_layer = general_same_filtered[0][\"layer\"]\n",
    "general_same_pos = general_same_filtered[0][\"position\"]\n",
    "general_same_best = shared_same_diff[general_same_pos, general_same_layer, :]"
   ]
  },
  {
   "cell_type": "code",
   "execution_count": null,
   "id": "5791ece8",
   "metadata": {},
   "outputs": [],
   "source": [
    "torch.save(general_same_best, \"/home/ubuntu/thesis/sae/results/ablated/direction_general_same/best_dir.pt\")"
   ]
  },
  {
   "cell_type": "markdown",
   "id": "74188107",
   "metadata": {},
   "source": [
    "#### Random Ablation"
   ]
  },
  {
   "cell_type": "code",
   "execution_count": null,
   "id": "4200dfeb",
   "metadata": {},
   "outputs": [],
   "source": [
    "def create_placebo_control(treatment_dir):\n",
    "    rand_dir = torch.randn_like(treatment_dir)\n",
    "    \n",
    "    # Project rand_dir onto treatment_dir to find the parallel component\n",
    "    # Assumes proj(a, b) projects a onto b\n",
    "    parallel_component = proj(rand_dir, treatment_dir)\n",
    "    \n",
    "    # The orthogonal component is the original random vector minus the parallel part\n",
    "    orthogonal_component = rand_dir - parallel_component\n",
    "    \n",
    "    # Rescale the orthogonal vector to have the same norm as the treatment vector\n",
    "    # This is the crucial step for a valid placebo\n",
    "    control_dir = orthogonal_component * (\n",
    "        torch.linalg.norm(treatment_dir) / torch.linalg.norm(orthogonal_component)\n",
    "    )\n",
    "    \n",
    "    return control_dir"
   ]
  },
  {
   "cell_type": "code",
   "execution_count": null,
   "id": "541237a5",
   "metadata": {},
   "outputs": [],
   "source": [
    "shared_rand = create_placebo_control(shared_diff)\n",
    "bio_rand = create_placebo_control(bio_best)\n",
    "cyber_rand = create_placebo_control(cyber_best)\n",
    "general_rand = create_placebo_control(general_best)\n",
    "general_same_rand = create_placebo_control(general_same_best)"
   ]
  },
  {
   "cell_type": "code",
   "execution_count": null,
   "id": "3b0faefe",
   "metadata": {},
   "outputs": [],
   "source": [
    "torch.save(bio_rand, \"/home/ubuntu/thesis/sae/results/ablated/direction_bio/rand.pt\")\n",
    "torch.save(cyber_rand, \"/home/ubuntu/thesis/sae/results/ablated/direction_cyber/rand.pt\")\n",
    "torch.save(shared_rand, \"/home/ubuntu/thesis/sae/results/ablated/direction_shared/rand.pt\")\n",
    "torch.save(general_rand, \"/home/ubuntu/thesis/sae/results/ablated/direction_general/rand.pt\")\n",
    "torch.save(general_same_rand, \"/home/ubuntu/thesis/sae/results/ablated/direction_general_same/rand.pt\")"
   ]
  },
  {
   "cell_type": "markdown",
   "id": "1e10c330",
   "metadata": {},
   "source": [
    "### Mod model"
   ]
  },
  {
   "cell_type": "code",
   "execution_count": 9,
   "id": "297458e0",
   "metadata": {},
   "outputs": [],
   "source": [
    "rmu_model.mod_model(general_same_diff, type=\"ablation\")"
   ]
  },
  {
   "cell_type": "code",
   "execution_count": 10,
   "id": "55f062e6",
   "metadata": {},
   "outputs": [
    {
     "name": "stdout",
     "output_type": "stream",
     "text": [
      "The OrderedVocab you are attempting to save contains holes for indices [0], your vocabulary could be corrupted !\n"
     ]
    }
   ],
   "source": [
    "rmu_model.save(\"results/models/general_same\")"
   ]
  },
  {
   "cell_type": "code",
   "execution_count": null,
   "id": "8bedac3e",
   "metadata": {},
   "outputs": [],
   "source": []
  }
 ],
 "metadata": {
  "kernelspec": {
   "display_name": ".venv",
   "language": "python",
   "name": "python3"
  },
  "language_info": {
   "codemirror_mode": {
    "name": "ipython",
    "version": 3
   },
   "file_extension": ".py",
   "mimetype": "text/x-python",
   "name": "python",
   "nbconvert_exporter": "python",
   "pygments_lexer": "ipython3",
   "version": "3.10.12"
  }
 },
 "nbformat": 4,
 "nbformat_minor": 5
}
