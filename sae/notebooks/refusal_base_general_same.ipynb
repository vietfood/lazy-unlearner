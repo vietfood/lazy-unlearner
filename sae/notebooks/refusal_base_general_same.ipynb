{
 "cells": [
  {
   "cell_type": "code",
   "execution_count": null,
   "id": "46df62d0-3ccf-469a-97de-2f271a54480c",
   "metadata": {},
   "outputs": [],
   "source": [
    "import torch\n",
    "import einops\n",
    "from datasets import concatenate_datasets, load_dataset, Dataset\n",
    "import nlpaug.augmenter.word as naw\n",
    "import nlpaug.augmenter.sentence as nas\n",
    "import random\n",
    "from sklearn.model_selection import train_test_split \n",
    "\n",
    "from sae_refusal.model.gemma import GemmaModel\n",
    "from sae_refusal.model.embedding import EmbeddingModel\n",
    "from sae_refusal import set_seed, clear_memory\n",
    "from sae_refusal.data import (\n",
    "    load_wmdp,\n",
    "    split,\n",
    "    to_instructions,\n",
    "    sample_data,\n",
    "    load_harmbench,\n",
    "    load_adv_malicious_instruct\n",
    ")\n",
    "from sae_refusal.pipeline.select_directions import select_direction\n",
    "from sae_refusal.pipeline.utils import compute_pca, generate_and_save_completions\n",
    "from sae_refusal.probe import LinearProbe\n",
    "from sae_refusal.pipeline.generate_directions import generate_directions_rmu\n",
    "from sae_refusal.pipeline.hook import (\n",
    "    get_all_direction_ablation_hooks,\n",
    "    get_all_direction_ablation_hooks_rmu,\n",
    "    get_activation_addition_input_pre_hook,\n",
    "    get_activation_addition_input_pre_hook_rmu\n",
    ")\n",
    "from sae_refusal.plot import (\n",
    "    plot_scores_plotly,\n",
    "    plot_refusal_scores_plotly,\n",
    ")\n",
    "from sae_refusal.pipeline.activations import (\n",
    "    get_activations,\n",
    "    get_activations_pre\n",
    ")\n",
    "from IPython.display import display, Markdown\n"
   ]
  },
  {
   "cell_type": "code",
   "execution_count": null,
   "id": "831f64e0-854d-4a8a-b1b0-4a098cbfb9b3",
   "metadata": {},
   "outputs": [],
   "source": [
    "LAYER_ID = 9\n",
    "SAMPLE_SIZE = 300  # For each dataset\n",
    "VAL_SIZE = 0.2\n",
    "SEED = 42\n",
    "MAX_LEN = 1024\n",
    "\n",
    "ARTIFACT_DIR = \"results/ablated\"\n",
    "\n",
    "MODEL_NAME = \"google/gemma-2-2b\"\n",
    "RMU_NAME = \"lenguyen1807/gemma-2-2b-RMU\""
   ]
  },
  {
   "cell_type": "code",
   "execution_count": null,
   "id": "80aeb245-f848-4faa-b537-e77b505c4c37",
   "metadata": {},
   "outputs": [],
   "source": [
    "set_seed(SEED)\n",
    "torch.set_grad_enabled(False)\n",
    "torch.set_float32_matmul_precision(\"high\")"
   ]
  },
  {
   "cell_type": "markdown",
   "id": "cf3c0325",
   "metadata": {},
   "source": [
    "### Load model"
   ]
  },
  {
   "cell_type": "code",
   "execution_count": null,
   "id": "e2eb5e30",
   "metadata": {},
   "outputs": [],
   "source": [
    "base_model = GemmaModel(MODEL_NAME, type=\"none\")\n",
    "rmu_model = GemmaModel(RMU_NAME, type=\"none\")"
   ]
  },
  {
   "cell_type": "code",
   "execution_count": null,
   "id": "7bf2d2ac",
   "metadata": {},
   "outputs": [],
   "source": [
    "probe_weight = torch.load(\"/home/ubuntu/thesis/sae/results/ablated/probes/best_probes/weight.pt\", weights_only=True)\n",
    "probe = LinearProbe(base_model.model.config.hidden_size)\n",
    "probe.load_state_dict(probe_weight)"
   ]
  },
  {
   "cell_type": "code",
   "execution_count": null,
   "id": "565e2b57",
   "metadata": {},
   "outputs": [],
   "source": [
    "mean = torch.load(\"/home/ubuntu/thesis/sae/results/ablated/probes/best_probes/mean.pt\", weights_only=True)\n",
    "std = torch.load(\"/home/ubuntu/thesis/sae/results/ablated/probes/best_probes/std.pt\", weights_only=True)"
   ]
  },
  {
   "cell_type": "markdown",
   "id": "74480b94-9598-4334-be21-d66e8a2be6ec",
   "metadata": {},
   "source": [
    "### Load dataset"
   ]
  },
  {
   "cell_type": "markdown",
   "id": "633c0e00",
   "metadata": {},
   "source": [
    "#### 1. Load train dataset"
   ]
  },
  {
   "cell_type": "code",
   "execution_count": null,
   "id": "9e6fdd62",
   "metadata": {},
   "outputs": [],
   "source": [
    "harmbench_bio, harmbench_cyber = load_harmbench()"
   ]
  },
  {
   "cell_type": "code",
   "execution_count": null,
   "id": "b9cf4f67",
   "metadata": {},
   "outputs": [],
   "source": [
    "adv_bio, adv_cyber = load_adv_malicious_instruct()"
   ]
  },
  {
   "cell_type": "code",
   "execution_count": null,
   "id": "e58c79ab",
   "metadata": {},
   "outputs": [],
   "source": [
    "catqa = load_dataset(\"walledai/CatHarmfulQA\", split=\"en\")\n",
    "catqa = catqa.filter(lambda x: x[\"subcategory\"] in [\"Hazardous material handling\", \"Drug\"])\n",
    "catqa = catqa.remove_columns([\"category\", \"subcategory\"])"
   ]
  },
  {
   "cell_type": "code",
   "execution_count": null,
   "id": "b66c31c9",
   "metadata": {},
   "outputs": [],
   "source": [
    "total_bio = concatenate_datasets([harmbench_bio, catqa, adv_bio])\n",
    "total_cyber = concatenate_datasets([harmbench_cyber, adv_cyber])"
   ]
  },
  {
   "cell_type": "code",
   "execution_count": null,
   "id": "7e888012",
   "metadata": {},
   "outputs": [],
   "source": [
    "# Augment text\n",
    "synonym_aug = naw.SynonymAug(aug_src=\"wordnet\")  # synonym replacement\n",
    "contextual_aug = naw.ContextualWordEmbsAug(\n",
    "    model_path=\"bert-base-uncased\", action=\"substitute\", device=\"cuda\"\n",
    ")\n",
    "back_translation_aug = naw.BackTranslationAug(\n",
    "    from_model_name=\"facebook/wmt19-en-de\",\n",
    "    to_model_name=\"facebook/wmt19-de-en\",\n",
    "    device=\"cuda\",\n",
    ")"
   ]
  },
  {
   "cell_type": "code",
   "execution_count": null,
   "id": "21e2e37b",
   "metadata": {},
   "outputs": [],
   "source": [
    "augmenters = [synonym_aug, contextual_aug, back_translation_aug]"
   ]
  },
  {
   "cell_type": "code",
   "execution_count": null,
   "id": "55eb52e1",
   "metadata": {},
   "outputs": [],
   "source": [
    "def augment_text(texts, augmenters, max_time=3, target_size=SAMPLE_SIZE):\n",
    "    counts = {i: 0 for i in range(len(texts))}\n",
    "    augmented = texts.copy()\n",
    "\n",
    "    while len(augmented) < target_size:\n",
    "        idx = random.randrange(len(texts))\n",
    "        if counts[idx] >= max_time:\n",
    "            # skip if this text already augmented enough\n",
    "            continue\n",
    "\n",
    "        text = texts[idx]\n",
    "        aug = random.choice(augmenters)\n",
    "        try:\n",
    "            new_text = aug.augment(text)\n",
    "        except Exception as e:\n",
    "            # in case an augmenter fails, skip\n",
    "            continue\n",
    "\n",
    "        if new_text not in augmented:\n",
    "            augmented.append(new_text)\n",
    "            counts[idx] += 1\n",
    "\n",
    "    return augmented"
   ]
  },
  {
   "cell_type": "code",
   "execution_count": null,
   "id": "77c4ff0a",
   "metadata": {},
   "outputs": [],
   "source": [
    "bio_augment = augment_text(total_bio[\"prompt\"], augmenters=augmenters)\n",
    "cyber_augment = augment_text(total_cyber[\"prompt\"], augmenters=augmenters)"
   ]
  },
  {
   "cell_type": "code",
   "execution_count": null,
   "id": "3cc3d152",
   "metadata": {},
   "outputs": [],
   "source": [
    "bio_augment = [\" \".join(bio) if isinstance(bio, list) else bio for bio in bio_augment]\n",
    "cyber_augment = [\" \".join(cyber) if isinstance(cyber, list) else cyber for cyber in cyber_augment]"
   ]
  },
  {
   "cell_type": "code",
   "execution_count": null,
   "id": "5ab679c2",
   "metadata": {},
   "outputs": [],
   "source": [
    "with open('/home/ubuntu/thesis/sae/results/ablated/data/bio_augment.txt', 'w+') as f:\n",
    "    for txt in bio_augment:\n",
    "        f.write(txt + \"\\n\")\n",
    "\n",
    "with open('/home/ubuntu/thesis/sae/results/ablated/data/cyber_augment.txt', 'w+') as f:\n",
    "    for txt in cyber_augment:\n",
    "        f.write(txt + \"\\n\")"
   ]
  },
  {
   "cell_type": "code",
   "execution_count": null,
   "id": "040457b8",
   "metadata": {},
   "outputs": [],
   "source": [
    "bio_train_instructions, bio_val_instructions = train_test_split(\n",
    "    bio_augment, test_size=VAL_SIZE\n",
    ")\n",
    "cyber_train_instructions, cyber_val_instructions = train_test_split(\n",
    "    cyber_augment, test_size=VAL_SIZE\n",
    ")"
   ]
  },
  {
   "cell_type": "code",
   "execution_count": null,
   "id": "b89b1eff",
   "metadata": {},
   "outputs": [],
   "source": [
    "val_instructions = bio_val_instructions + cyber_val_instructions\n",
    "random.shuffle(val_instructions)"
   ]
  },
  {
   "cell_type": "markdown",
   "id": "8115b0fb",
   "metadata": {},
   "source": [
    "### Find directions"
   ]
  },
  {
   "cell_type": "code",
   "execution_count": null,
   "id": "9c4eb0b4",
   "metadata": {},
   "outputs": [],
   "source": [
    "bio_diff = generate_directions_rmu(\n",
    "    base_model,\n",
    "    rmu_model,\n",
    "    bio_train_instructions,\n",
    "    batch_size=8,\n",
    "    positions=list(range(-5, 0))\n",
    ")\n",
    "\n",
    "cyber_diff = generate_directions_rmu(\n",
    "    base_model,\n",
    "    rmu_model,\n",
    "    cyber_train_instructions,\n",
    "    batch_size=8,\n",
    "    positions=list(range(-5, 0))\n",
    ")"
   ]
  },
  {
   "cell_type": "code",
   "execution_count": null,
   "id": "29a75742",
   "metadata": {},
   "outputs": [],
   "source": [
    "shared_diff = (bio_diff + cyber_diff) / 2"
   ]
  },
  {
   "cell_type": "markdown",
   "id": "71228c5e",
   "metadata": {},
   "source": [
    "### Evaluate directions"
   ]
  },
  {
   "cell_type": "code",
   "execution_count": null,
   "id": "b5406b47",
   "metadata": {},
   "outputs": [],
   "source": [
    "results = select_direction(\n",
    "    base_model=base_model,\n",
    "    rmu_model=rmu_model,\n",
    "    instructions=val_instructions,\n",
    "    candidate_directions=[shared_diff],\n",
    "    probe=probe.to(base_model.model.device),\n",
    "    probe_mean=mean.to(base_model.model.device),\n",
    "    probe_std=std.to(base_model.model.device),\n",
    "    artifact_dir=f\"{ARTIFACT_DIR}/direction_general_same\",\n",
    "    junk_layer=LAYER_ID + 1,\n",
    "    batch_size=8\n",
    ")"
   ]
  },
  {
   "cell_type": "code",
   "execution_count": null,
   "id": "063b1782",
   "metadata": {},
   "outputs": [],
   "source": [
    "metrics, pos, layer, best_dirs = results"
   ]
  },
  {
   "cell_type": "code",
   "execution_count": null,
   "id": "9a116b13",
   "metadata": {},
   "outputs": [],
   "source": [
    "torch.save(best_dirs[0], f\"{ARTIFACT_DIR}/direction_general/best_dir.pt\")"
   ]
  },
  {
   "cell_type": "markdown",
   "id": "35a6bb76",
   "metadata": {},
   "source": [
    "### Visualization"
   ]
  },
  {
   "cell_type": "code",
   "execution_count": null,
   "id": "4ee8c298",
   "metadata": {},
   "outputs": [],
   "source": [
    "def plot(token_labels, artifact_dir, junk_layer, metrics):\n",
    "    plot_refusal_scores_plotly(\n",
    "        refusal_scores=metrics[\"ablation\"],\n",
    "        baseline_refusal_score=metrics[\"base_ablation\"].mean().item(),\n",
    "        artifact_dir=artifact_dir,\n",
    "        token_labels=token_labels,\n",
    "        layers=[junk_layer],\n",
    "        title=\"Ablating direction on RMU model\",\n",
    "        ylabel=\"Junk Score\",\n",
    "        artifact_name=\"ablation_scores\",\n",
    "    )\n",
    "    plot_refusal_scores_plotly(\n",
    "        refusal_scores=metrics[\"steering\"],\n",
    "        baseline_refusal_score=metrics[\"base_steer\"].mean().item(),\n",
    "        artifact_dir=artifact_dir,\n",
    "        token_labels=token_labels,\n",
    "        layers=[junk_layer],\n",
    "        title=\"Adding direction on Base model\",\n",
    "        ylabel=\"Junk Score\",\n",
    "        artifact_name=\"steering_scores\",\n",
    "    )\n",
    "    plot_refusal_scores_plotly(\n",
    "        refusal_scores=metrics[\"kl\"],\n",
    "        baseline_refusal_score=0.0,\n",
    "        artifact_dir=artifact_dir,\n",
    "        token_labels=token_labels,\n",
    "        layers=[junk_layer],\n",
    "        title=\"KL Divergence when ablating direction on RMU model\",\n",
    "        ylabel=\"KL Divergence Score\",\n",
    "        artifact_name=\"kl_div_score\",\n",
    "    )"
   ]
  },
  {
   "cell_type": "code",
   "execution_count": null,
   "id": "17c66944",
   "metadata": {},
   "outputs": [],
   "source": [
    "plot(\n",
    "    token_labels=[\"5th-last token\", \"4th-last token\", \"3rd-last token\", \"2nd-last token\", \"Last token\"], \n",
    "    artifact_dir=f\"{ARTIFACT_DIR}/direction_general_same\",\n",
    "    junk_layer=LAYER_ID + 1,\n",
    "    metrics=metrics\n",
    ")"
   ]
  },
  {
   "cell_type": "code",
   "execution_count": null,
   "id": "28b87885",
   "metadata": {},
   "outputs": [],
   "source": []
  }
 ],
 "metadata": {
  "kernelspec": {
   "display_name": ".venv",
   "language": "python",
   "name": "python3"
  },
  "language_info": {
   "codemirror_mode": {
    "name": "ipython",
    "version": 3
   },
   "file_extension": ".py",
   "mimetype": "text/x-python",
   "name": "python",
   "nbconvert_exporter": "python",
   "pygments_lexer": "ipython3",
   "version": "3.10.12"
  }
 },
 "nbformat": 4,
 "nbformat_minor": 5
}
