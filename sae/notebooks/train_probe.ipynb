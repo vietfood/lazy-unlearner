{
 "cells": [
  {
   "cell_type": "code",
   "execution_count": 16,
   "id": "2d1810b4-7acb-4f69-aa17-258904f5b1e9",
   "metadata": {},
   "outputs": [],
   "source": [
    "from sae_refusal.probe.train import ProbesTrainer\n",
    "from sae_refusal.probe.utils import plot_roc_curve, plot_precision_recall_curve, np_sigmoid\n",
    "import plotly.graph_objects as go\n",
    "from torch import nn\n",
    "from sae_refusal import set_seed\n",
    "import torch"
   ]
  },
  {
   "cell_type": "code",
   "execution_count": 2,
   "id": "4475aeda-b996-4959-a53f-0571d84c66b2",
   "metadata": {},
   "outputs": [],
   "source": [
    "HIDDEN_LAYERS = 26\n",
    "HIDDEN_SIZE = 2304\n",
    "SEED = 42\n",
    "\n",
    "set_seed(SEED)"
   ]
  },
  {
   "cell_type": "code",
   "execution_count": 3,
   "id": "eb54673b-5020-4f18-900d-6d04a09f15b9",
   "metadata": {},
   "outputs": [
    {
     "name": "stdout",
     "output_type": "stream",
     "text": [
      "Creating model\n",
      "Loading training and validation data...\n",
      "[Layer 0] Class balance: [264, 1016]\n",
      "[Layer 1] Class balance: [264, 1016]\n",
      "[Layer 2] Class balance: [264, 1016]\n",
      "[Layer 3] Class balance: [264, 1016]\n",
      "[Layer 4] Class balance: [264, 1016]\n",
      "[Layer 5] Class balance: [264, 1016]\n",
      "[Layer 6] Class balance: [264, 1016]\n",
      "[Layer 7] Class balance: [264, 1016]\n",
      "[Layer 8] Class balance: [264, 1016]\n",
      "[Layer 9] Class balance: [264, 1016]\n",
      "[Layer 10] Class balance: [264, 1016]\n",
      "[Layer 11] Class balance: [264, 1016]\n",
      "[Layer 12] Class balance: [264, 1016]\n",
      "[Layer 13] Class balance: [264, 1016]\n",
      "[Layer 14] Class balance: [264, 1016]\n",
      "[Layer 15] Class balance: [264, 1016]\n",
      "[Layer 16] Class balance: [264, 1016]\n",
      "[Layer 17] Class balance: [264, 1016]\n",
      "[Layer 18] Class balance: [264, 1016]\n",
      "[Layer 19] Class balance: [264, 1016]\n",
      "[Layer 20] Class balance: [264, 1016]\n",
      "[Layer 21] Class balance: [264, 1016]\n",
      "[Layer 22] Class balance: [264, 1016]\n",
      "[Layer 23] Class balance: [264, 1016]\n",
      "[Layer 24] Class balance: [264, 1016]\n",
      "[Layer 25] Class balance: [264, 1016]\n",
      "Data loaded successfully.\n"
     ]
    }
   ],
   "source": [
    "trainer = ProbesTrainer(\n",
    "    hidden_layers=HIDDEN_LAYERS,\n",
    "    hidden_size=HIDDEN_SIZE,\n",
    "    artifact_dir=\"/home/ubuntu/thesis/sae/results/ablated/probes/\",\n",
    "    save_dir=\"results\",\n",
    "    device=\"cuda\",\n",
    "    wandb_project=\"Probe_Training_2\",\n",
    "    type=\"base\"\n",
    ")"
   ]
  },
  {
   "cell_type": "code",
   "execution_count": 4,
   "id": "e5605c37-5478-418b-80f8-56206742a9b9",
   "metadata": {
    "scrolled": true
   },
   "outputs": [
    {
     "name": "stdout",
     "output_type": "stream",
     "text": [
      "\n",
      " Setup WanDB for Layer 0\n"
     ]
    },
    {
     "name": "stderr",
     "output_type": "stream",
     "text": [
      "\u001b[34m\u001b[1mwandb\u001b[0m: Using wandb-core as the SDK backend. Please refer to https://wandb.me/wandb-core for more information.\n",
      "\u001b[34m\u001b[1mwandb\u001b[0m: Currently logged in as: \u001b[33mlenguyen18072003\u001b[0m (\u001b[33mlenguyen\u001b[0m). Use \u001b[1m`wandb login --relogin`\u001b[0m to force relogin\n"
     ]
    },
    {
     "data": {
      "text/html": [
       "Tracking run with wandb version 0.18.1"
      ],
      "text/plain": [
       "<IPython.core.display.HTML object>"
      ]
     },
     "metadata": {},
     "output_type": "display_data"
    },
    {
     "data": {
      "text/html": [
       "Run data is saved locally in <code>/home/ubuntu/thesis/sae/wandb/run-20250704_061349-5wercd2f</code>"
      ],
      "text/plain": [
       "<IPython.core.display.HTML object>"
      ]
     },
     "metadata": {},
     "output_type": "display_data"
    },
    {
     "data": {
      "text/html": [
       "Syncing run <strong><a href='https://wandb.ai/lenguyen/Probe_Training_2/runs/5wercd2f' target=\"_blank\">probe_layer_0</a></strong> to <a href='https://wandb.ai/lenguyen/Probe_Training_2' target=\"_blank\">Weights & Biases</a> (<a href='https://wandb.me/run' target=\"_blank\">docs</a>)<br/>"
      ],
      "text/plain": [
       "<IPython.core.display.HTML object>"
      ]
     },
     "metadata": {},
     "output_type": "display_data"
    },
    {
     "data": {
      "text/html": [
       " View project at <a href='https://wandb.ai/lenguyen/Probe_Training_2' target=\"_blank\">https://wandb.ai/lenguyen/Probe_Training_2</a>"
      ],
      "text/plain": [
       "<IPython.core.display.HTML object>"
      ]
     },
     "metadata": {},
     "output_type": "display_data"
    },
    {
     "data": {
      "text/html": [
       " View run at <a href='https://wandb.ai/lenguyen/Probe_Training_2/runs/5wercd2f' target=\"_blank\">https://wandb.ai/lenguyen/Probe_Training_2/runs/5wercd2f</a>"
      ],
      "text/plain": [
       "<IPython.core.display.HTML object>"
      ]
     },
     "metadata": {},
     "output_type": "display_data"
    },
    {
     "name": "stdout",
     "output_type": "stream",
     "text": [
      "\n",
      "----- Training Probe for Layer 0 -----\n"
     ]
    },
    {
     "data": {
      "application/vnd.jupyter.widget-view+json": {
       "model_id": "3917ea43db01410a88275e7ae4c6cb9c",
       "version_major": 2,
       "version_minor": 0
      },
      "text/plain": [
       "Training epoch:   0%|          | 0/100 [00:00<?, ?it/s]"
      ]
     },
     "metadata": {},
     "output_type": "display_data"
    },
    {
     "name": "stdout",
     "output_type": "stream",
     "text": [
      "  -> New best probe saved for layer 0 with AUC: 0.6954\n"
     ]
    },
    {
     "data": {
      "application/vnd.jupyter.widget-view+json": {
       "model_id": "e122f3b777ee4839a4833185aa6c0e09",
       "version_major": 2,
       "version_minor": 0
      },
      "text/plain": [
       "VBox(children=(Label(value='0.008 MB of 0.008 MB uploaded\\r'), FloatProgress(value=1.0, max=1.0)))"
      ]
     },
     "metadata": {},
     "output_type": "display_data"
    },
    {
     "data": {
      "text/html": [
       "<style>\n",
       "    table.wandb td:nth-child(1) { padding: 0 10px; text-align: left ; width: auto;} td:nth-child(2) {text-align: left ; width: 100%}\n",
       "    .wandb-row { display: flex; flex-direction: row; flex-wrap: wrap; justify-content: flex-start; width: 100% }\n",
       "    .wandb-col { display: flex; flex-direction: column; flex-basis: 100%; flex: 1; padding: 10px; }\n",
       "    </style>\n",
       "<div class=\"wandb-row\"><div class=\"wandb-col\"><h3>Run history:</h3><br/><table class=\"wandb\"><tr><td>train_loss</td><td>█▆▆▆▅▃▃▂▂▂▂▂▁▁▂▂▂▂▂▂▂▂▂▁▂▁▂▂▂▂▁▂▂▁▁▂▁▂▂▂</td></tr><tr><td>val_f1</td><td>▆▁▂▆▆▆███▆▆▇▇▇▇▇▇▇▇▇▇▇▇▇▇▇▇▇▇▇▇▇▇▇▇▇▇▇▇▇</td></tr><tr><td>val_loss</td><td>█▆█▂▄▇▅▃▁▁▁▂▁▂▂▂▂▂▂▁▁▂▂▂▂▂▂▂▂▂▂▂▂▂▂▂▂▂▂▂</td></tr><tr><td>val_roc_auc</td><td>█▇▇▅▃▄▆▂▁▂▃▄▄▃▃▃▃▃▃▃▃▃▃▃▃▃▃▃▃▃▃▃▃▃▃▃▃▃▃▃</td></tr></table><br/></div><div class=\"wandb-col\"><h3>Run summary:</h3><br/><table class=\"wandb\"><tr><td>train_loss</td><td>0.45506</td></tr><tr><td>val_f1</td><td>0.74009</td></tr><tr><td>val_loss</td><td>0.70911</td></tr><tr><td>val_roc_auc</td><td>0.63203</td></tr></table><br/></div></div>"
      ],
      "text/plain": [
       "<IPython.core.display.HTML object>"
      ]
     },
     "metadata": {},
     "output_type": "display_data"
    },
    {
     "data": {
      "text/html": [
       " View run <strong style=\"color:#cdcd00\">probe_layer_0</strong> at: <a href='https://wandb.ai/lenguyen/Probe_Training_2/runs/5wercd2f' target=\"_blank\">https://wandb.ai/lenguyen/Probe_Training_2/runs/5wercd2f</a><br/> View project at: <a href='https://wandb.ai/lenguyen/Probe_Training_2' target=\"_blank\">https://wandb.ai/lenguyen/Probe_Training_2</a><br/>Synced 4 W&B file(s), 0 media file(s), 3 artifact file(s) and 0 other file(s)"
      ],
      "text/plain": [
       "<IPython.core.display.HTML object>"
      ]
     },
     "metadata": {},
     "output_type": "display_data"
    },
    {
     "data": {
      "text/html": [
       "Find logs at: <code>./wandb/run-20250704_061349-5wercd2f/logs</code>"
      ],
      "text/plain": [
       "<IPython.core.display.HTML object>"
      ]
     },
     "metadata": {},
     "output_type": "display_data"
    },
    {
     "name": "stdout",
     "output_type": "stream",
     "text": [
      "\n",
      " Setup WanDB for Layer 1\n"
     ]
    },
    {
     "data": {
      "text/html": [
       "Tracking run with wandb version 0.18.1"
      ],
      "text/plain": [
       "<IPython.core.display.HTML object>"
      ]
     },
     "metadata": {},
     "output_type": "display_data"
    },
    {
     "data": {
      "text/html": [
       "Run data is saved locally in <code>/home/ubuntu/thesis/sae/wandb/run-20250704_061402-7uyj6x9a</code>"
      ],
      "text/plain": [
       "<IPython.core.display.HTML object>"
      ]
     },
     "metadata": {},
     "output_type": "display_data"
    },
    {
     "data": {
      "text/html": [
       "Syncing run <strong><a href='https://wandb.ai/lenguyen/Probe_Training_2/runs/7uyj6x9a' target=\"_blank\">probe_layer_1</a></strong> to <a href='https://wandb.ai/lenguyen/Probe_Training_2' target=\"_blank\">Weights & Biases</a> (<a href='https://wandb.me/run' target=\"_blank\">docs</a>)<br/>"
      ],
      "text/plain": [
       "<IPython.core.display.HTML object>"
      ]
     },
     "metadata": {},
     "output_type": "display_data"
    },
    {
     "data": {
      "text/html": [
       " View project at <a href='https://wandb.ai/lenguyen/Probe_Training_2' target=\"_blank\">https://wandb.ai/lenguyen/Probe_Training_2</a>"
      ],
      "text/plain": [
       "<IPython.core.display.HTML object>"
      ]
     },
     "metadata": {},
     "output_type": "display_data"
    },
    {
     "data": {
      "text/html": [
       " View run at <a href='https://wandb.ai/lenguyen/Probe_Training_2/runs/7uyj6x9a' target=\"_blank\">https://wandb.ai/lenguyen/Probe_Training_2/runs/7uyj6x9a</a>"
      ],
      "text/plain": [
       "<IPython.core.display.HTML object>"
      ]
     },
     "metadata": {},
     "output_type": "display_data"
    },
    {
     "name": "stdout",
     "output_type": "stream",
     "text": [
      "\n",
      "----- Training Probe for Layer 1 -----\n"
     ]
    },
    {
     "data": {
      "application/vnd.jupyter.widget-view+json": {
       "model_id": "1f13cda42c1e4e4c874ecc90e93b4089",
       "version_major": 2,
       "version_minor": 0
      },
      "text/plain": [
       "Training epoch:   0%|          | 0/100 [00:00<?, ?it/s]"
      ]
     },
     "metadata": {},
     "output_type": "display_data"
    },
    {
     "name": "stdout",
     "output_type": "stream",
     "text": [
      "  -> New best probe saved for layer 1 with AUC: 0.7169\n",
      "  -> New best probe saved for layer 1 with AUC: 0.7232\n"
     ]
    },
    {
     "data": {
      "application/vnd.jupyter.widget-view+json": {
       "model_id": "eda4681359e9496681f7acf9119ca1fb",
       "version_major": 2,
       "version_minor": 0
      },
      "text/plain": [
       "VBox(children=(Label(value='0.007 MB of 0.007 MB uploaded\\r'), FloatProgress(value=1.0, max=1.0)))"
      ]
     },
     "metadata": {},
     "output_type": "display_data"
    },
    {
     "data": {
      "text/html": [
       "<style>\n",
       "    table.wandb td:nth-child(1) { padding: 0 10px; text-align: left ; width: auto;} td:nth-child(2) {text-align: left ; width: 100%}\n",
       "    .wandb-row { display: flex; flex-direction: row; flex-wrap: wrap; justify-content: flex-start; width: 100% }\n",
       "    .wandb-col { display: flex; flex-direction: column; flex-basis: 100%; flex: 1; padding: 10px; }\n",
       "    </style>\n",
       "<div class=\"wandb-row\"><div class=\"wandb-col\"><h3>Run history:</h3><br/><table class=\"wandb\"><tr><td>train_loss</td><td>█▇▅▃▃▂▂▂▂▂▂▁▂▁▁▂▁▁▁▁▁▁▁▁▁▁▁▁▂▂▁▁▁▁▁▂▁▂▂▂</td></tr><tr><td>val_f1</td><td>▁▄▂▄▁▅▅▆█▆▆▇▇▇▇▇▇▇▇▇▇▇▇▇▇▇▇▇▇▇▇▇▇▇▇▇▇▇▇▇</td></tr><tr><td>val_loss</td><td>▃▅▅▁▅▅█▄▇▃▂▂▂▂▂▂▂▂▂▂▂▂▂▂▂▂▂▂▂▂▂▂▂▂▂▂▂▂▂▂</td></tr><tr><td>val_roc_auc</td><td>█▇▄▃▁▄▄▄▄▄▄▄▄▄▄▄▄▄▄▄▄▄▄▄▄▄▄▄▄▄▄▄▄▄▄▄▄▄▄▄</td></tr></table><br/></div><div class=\"wandb-col\"><h3>Run summary:</h3><br/><table class=\"wandb\"><tr><td>train_loss</td><td>0.3686</td></tr><tr><td>val_f1</td><td>0.76149</td></tr><tr><td>val_loss</td><td>0.70007</td></tr><tr><td>val_roc_auc</td><td>0.67048</td></tr></table><br/></div></div>"
      ],
      "text/plain": [
       "<IPython.core.display.HTML object>"
      ]
     },
     "metadata": {},
     "output_type": "display_data"
    },
    {
     "data": {
      "text/html": [
       " View run <strong style=\"color:#cdcd00\">probe_layer_1</strong> at: <a href='https://wandb.ai/lenguyen/Probe_Training_2/runs/7uyj6x9a' target=\"_blank\">https://wandb.ai/lenguyen/Probe_Training_2/runs/7uyj6x9a</a><br/> View project at: <a href='https://wandb.ai/lenguyen/Probe_Training_2' target=\"_blank\">https://wandb.ai/lenguyen/Probe_Training_2</a><br/>Synced 5 W&B file(s), 0 media file(s), 0 artifact file(s) and 0 other file(s)"
      ],
      "text/plain": [
       "<IPython.core.display.HTML object>"
      ]
     },
     "metadata": {},
     "output_type": "display_data"
    },
    {
     "data": {
      "text/html": [
       "Find logs at: <code>./wandb/run-20250704_061402-7uyj6x9a/logs</code>"
      ],
      "text/plain": [
       "<IPython.core.display.HTML object>"
      ]
     },
     "metadata": {},
     "output_type": "display_data"
    },
    {
     "name": "stdout",
     "output_type": "stream",
     "text": [
      "\n",
      " Setup WanDB for Layer 2\n"
     ]
    },
    {
     "data": {
      "text/html": [
       "Tracking run with wandb version 0.18.1"
      ],
      "text/plain": [
       "<IPython.core.display.HTML object>"
      ]
     },
     "metadata": {},
     "output_type": "display_data"
    },
    {
     "data": {
      "text/html": [
       "Run data is saved locally in <code>/home/ubuntu/thesis/sae/wandb/run-20250704_061411-1s6ggax1</code>"
      ],
      "text/plain": [
       "<IPython.core.display.HTML object>"
      ]
     },
     "metadata": {},
     "output_type": "display_data"
    },
    {
     "data": {
      "text/html": [
       "Syncing run <strong><a href='https://wandb.ai/lenguyen/Probe_Training_2/runs/1s6ggax1' target=\"_blank\">probe_layer_2</a></strong> to <a href='https://wandb.ai/lenguyen/Probe_Training_2' target=\"_blank\">Weights & Biases</a> (<a href='https://wandb.me/run' target=\"_blank\">docs</a>)<br/>"
      ],
      "text/plain": [
       "<IPython.core.display.HTML object>"
      ]
     },
     "metadata": {},
     "output_type": "display_data"
    },
    {
     "data": {
      "text/html": [
       " View project at <a href='https://wandb.ai/lenguyen/Probe_Training_2' target=\"_blank\">https://wandb.ai/lenguyen/Probe_Training_2</a>"
      ],
      "text/plain": [
       "<IPython.core.display.HTML object>"
      ]
     },
     "metadata": {},
     "output_type": "display_data"
    },
    {
     "data": {
      "text/html": [
       " View run at <a href='https://wandb.ai/lenguyen/Probe_Training_2/runs/1s6ggax1' target=\"_blank\">https://wandb.ai/lenguyen/Probe_Training_2/runs/1s6ggax1</a>"
      ],
      "text/plain": [
       "<IPython.core.display.HTML object>"
      ]
     },
     "metadata": {},
     "output_type": "display_data"
    },
    {
     "name": "stdout",
     "output_type": "stream",
     "text": [
      "\n",
      "----- Training Probe for Layer 2 -----\n"
     ]
    },
    {
     "data": {
      "application/vnd.jupyter.widget-view+json": {
       "model_id": "6fdf3ea4b8214733afad33c53ae38f8c",
       "version_major": 2,
       "version_minor": 0
      },
      "text/plain": [
       "Training epoch:   0%|          | 0/100 [00:00<?, ?it/s]"
      ]
     },
     "metadata": {},
     "output_type": "display_data"
    },
    {
     "name": "stdout",
     "output_type": "stream",
     "text": [
      "  -> New best probe saved for layer 2 with AUC: 0.6716\n",
      "  -> New best probe saved for layer 2 with AUC: 0.6867\n"
     ]
    },
    {
     "data": {
      "application/vnd.jupyter.widget-view+json": {
       "model_id": "65568cd73c2444b99de4ed7f5634a501",
       "version_major": 2,
       "version_minor": 0
      },
      "text/plain": [
       "VBox(children=(Label(value='0.007 MB of 0.007 MB uploaded\\r'), FloatProgress(value=1.0, max=1.0)))"
      ]
     },
     "metadata": {},
     "output_type": "display_data"
    },
    {
     "data": {
      "text/html": [
       "<style>\n",
       "    table.wandb td:nth-child(1) { padding: 0 10px; text-align: left ; width: auto;} td:nth-child(2) {text-align: left ; width: 100%}\n",
       "    .wandb-row { display: flex; flex-direction: row; flex-wrap: wrap; justify-content: flex-start; width: 100% }\n",
       "    .wandb-col { display: flex; flex-direction: column; flex-basis: 100%; flex: 1; padding: 10px; }\n",
       "    </style>\n",
       "<div class=\"wandb-row\"><div class=\"wandb-col\"><h3>Run history:</h3><br/><table class=\"wandb\"><tr><td>train_loss</td><td>█▆▅▅▃▃▂▂▂▁▂▂▂▂▂▂▂▂▁▁▁▂▁▂▁▁▂▁▂▂▁▁▁▁▁▂▁▁▂▁</td></tr><tr><td>val_f1</td><td>▁▅▇▇█▇▆▇▇▇▆▆▆▆▆▆▆▆▆▆▆▆▆▆▆▆▆▆▆▆▆▆▆▆▆▆▆▆▆▆</td></tr><tr><td>val_loss</td><td>▁▇▃█▂▁▁▄▃▂▂▂▁▁▁▁▁▁▁▁▁▁▁▁▁▁▁▁▁▁▁▁▁▁▁▁▁▁▁▁</td></tr><tr><td>val_roc_auc</td><td>▇█▆▁▄▁▁▆▂▂▂▁▁▂▂▂▂▂▂▂▂▂▂▂▂▂▂▂▂▂▂▂▂▂▂▂▂▂▂▂</td></tr></table><br/></div><div class=\"wandb-col\"><h3>Run summary:</h3><br/><table class=\"wandb\"><tr><td>train_loss</td><td>0.38916</td></tr><tr><td>val_f1</td><td>0.73009</td></tr><tr><td>val_loss</td><td>0.70227</td></tr><tr><td>val_roc_auc</td><td>0.61965</td></tr></table><br/></div></div>"
      ],
      "text/plain": [
       "<IPython.core.display.HTML object>"
      ]
     },
     "metadata": {},
     "output_type": "display_data"
    },
    {
     "data": {
      "text/html": [
       " View run <strong style=\"color:#cdcd00\">probe_layer_2</strong> at: <a href='https://wandb.ai/lenguyen/Probe_Training_2/runs/1s6ggax1' target=\"_blank\">https://wandb.ai/lenguyen/Probe_Training_2/runs/1s6ggax1</a><br/> View project at: <a href='https://wandb.ai/lenguyen/Probe_Training_2' target=\"_blank\">https://wandb.ai/lenguyen/Probe_Training_2</a><br/>Synced 5 W&B file(s), 0 media file(s), 0 artifact file(s) and 0 other file(s)"
      ],
      "text/plain": [
       "<IPython.core.display.HTML object>"
      ]
     },
     "metadata": {},
     "output_type": "display_data"
    },
    {
     "data": {
      "text/html": [
       "Find logs at: <code>./wandb/run-20250704_061411-1s6ggax1/logs</code>"
      ],
      "text/plain": [
       "<IPython.core.display.HTML object>"
      ]
     },
     "metadata": {},
     "output_type": "display_data"
    },
    {
     "name": "stdout",
     "output_type": "stream",
     "text": [
      "\n",
      " Setup WanDB for Layer 3\n"
     ]
    },
    {
     "data": {
      "text/html": [
       "Tracking run with wandb version 0.18.1"
      ],
      "text/plain": [
       "<IPython.core.display.HTML object>"
      ]
     },
     "metadata": {},
     "output_type": "display_data"
    },
    {
     "data": {
      "text/html": [
       "Run data is saved locally in <code>/home/ubuntu/thesis/sae/wandb/run-20250704_061420-433pdg2n</code>"
      ],
      "text/plain": [
       "<IPython.core.display.HTML object>"
      ]
     },
     "metadata": {},
     "output_type": "display_data"
    },
    {
     "data": {
      "text/html": [
       "Syncing run <strong><a href='https://wandb.ai/lenguyen/Probe_Training_2/runs/433pdg2n' target=\"_blank\">probe_layer_3</a></strong> to <a href='https://wandb.ai/lenguyen/Probe_Training_2' target=\"_blank\">Weights & Biases</a> (<a href='https://wandb.me/run' target=\"_blank\">docs</a>)<br/>"
      ],
      "text/plain": [
       "<IPython.core.display.HTML object>"
      ]
     },
     "metadata": {},
     "output_type": "display_data"
    },
    {
     "data": {
      "text/html": [
       " View project at <a href='https://wandb.ai/lenguyen/Probe_Training_2' target=\"_blank\">https://wandb.ai/lenguyen/Probe_Training_2</a>"
      ],
      "text/plain": [
       "<IPython.core.display.HTML object>"
      ]
     },
     "metadata": {},
     "output_type": "display_data"
    },
    {
     "data": {
      "text/html": [
       " View run at <a href='https://wandb.ai/lenguyen/Probe_Training_2/runs/433pdg2n' target=\"_blank\">https://wandb.ai/lenguyen/Probe_Training_2/runs/433pdg2n</a>"
      ],
      "text/plain": [
       "<IPython.core.display.HTML object>"
      ]
     },
     "metadata": {},
     "output_type": "display_data"
    },
    {
     "name": "stdout",
     "output_type": "stream",
     "text": [
      "\n",
      "----- Training Probe for Layer 3 -----\n"
     ]
    },
    {
     "data": {
      "application/vnd.jupyter.widget-view+json": {
       "model_id": "13bc85a82b9843a3940c79201ab895da",
       "version_major": 2,
       "version_minor": 0
      },
      "text/plain": [
       "Training epoch:   0%|          | 0/100 [00:00<?, ?it/s]"
      ]
     },
     "metadata": {},
     "output_type": "display_data"
    },
    {
     "name": "stdout",
     "output_type": "stream",
     "text": [
      "  -> New best probe saved for layer 3 with AUC: 0.6783\n",
      "  -> New best probe saved for layer 3 with AUC: 0.6906\n",
      "  -> New best probe saved for layer 3 with AUC: 0.6939\n"
     ]
    },
    {
     "data": {
      "application/vnd.jupyter.widget-view+json": {
       "model_id": "920466f13dec4270bf1e783111a8ced0",
       "version_major": 2,
       "version_minor": 0
      },
      "text/plain": [
       "VBox(children=(Label(value='0.007 MB of 0.007 MB uploaded\\r'), FloatProgress(value=1.0, max=1.0)))"
      ]
     },
     "metadata": {},
     "output_type": "display_data"
    },
    {
     "data": {
      "text/html": [
       "<style>\n",
       "    table.wandb td:nth-child(1) { padding: 0 10px; text-align: left ; width: auto;} td:nth-child(2) {text-align: left ; width: 100%}\n",
       "    .wandb-row { display: flex; flex-direction: row; flex-wrap: wrap; justify-content: flex-start; width: 100% }\n",
       "    .wandb-col { display: flex; flex-direction: column; flex-basis: 100%; flex: 1; padding: 10px; }\n",
       "    </style>\n",
       "<div class=\"wandb-row\"><div class=\"wandb-col\"><h3>Run history:</h3><br/><table class=\"wandb\"><tr><td>train_loss</td><td>█▇▆▅▅▃▃▃▃▂▁▁▁▂▂▁▁▁▁▁▂▁▁▁▂▂▁▁▁▁▁▁▁▂▁▁▁▁▁▂</td></tr><tr><td>val_f1</td><td>▁▅▇▄▆█▂▇▇▇▇▅▆▇▇▇▇▇▇████▇██▇▇▇▇▇▇▇▇▇▇▇▇▇▇</td></tr><tr><td>val_loss</td><td>█▁▄█▂▃▄▆▂▃▃▃▃▃▃▂▂▂▂▂▂▂▂▂▂▂▂▂▂▂▂▂▂▂▂▂▂▂▂▂</td></tr><tr><td>val_roc_auc</td><td>▇▆█▇▁██▂▅▅▅▄▅▅▅▄▄▄▄▄▄▄▄▄▄▄▄▄▄▄▄▄▄▄▄▄▄▄▄▄</td></tr></table><br/></div><div class=\"wandb-col\"><h3>Run summary:</h3><br/><table class=\"wandb\"><tr><td>train_loss</td><td>0.34473</td></tr><tr><td>val_f1</td><td>0.77447</td></tr><tr><td>val_loss</td><td>0.68892</td></tr><tr><td>val_roc_auc</td><td>0.65148</td></tr></table><br/></div></div>"
      ],
      "text/plain": [
       "<IPython.core.display.HTML object>"
      ]
     },
     "metadata": {},
     "output_type": "display_data"
    },
    {
     "data": {
      "text/html": [
       " View run <strong style=\"color:#cdcd00\">probe_layer_3</strong> at: <a href='https://wandb.ai/lenguyen/Probe_Training_2/runs/433pdg2n' target=\"_blank\">https://wandb.ai/lenguyen/Probe_Training_2/runs/433pdg2n</a><br/> View project at: <a href='https://wandb.ai/lenguyen/Probe_Training_2' target=\"_blank\">https://wandb.ai/lenguyen/Probe_Training_2</a><br/>Synced 5 W&B file(s), 0 media file(s), 0 artifact file(s) and 0 other file(s)"
      ],
      "text/plain": [
       "<IPython.core.display.HTML object>"
      ]
     },
     "metadata": {},
     "output_type": "display_data"
    },
    {
     "data": {
      "text/html": [
       "Find logs at: <code>./wandb/run-20250704_061420-433pdg2n/logs</code>"
      ],
      "text/plain": [
       "<IPython.core.display.HTML object>"
      ]
     },
     "metadata": {},
     "output_type": "display_data"
    },
    {
     "name": "stdout",
     "output_type": "stream",
     "text": [
      "\n",
      " Setup WanDB for Layer 4\n"
     ]
    },
    {
     "data": {
      "text/html": [
       "Tracking run with wandb version 0.18.1"
      ],
      "text/plain": [
       "<IPython.core.display.HTML object>"
      ]
     },
     "metadata": {},
     "output_type": "display_data"
    },
    {
     "data": {
      "text/html": [
       "Run data is saved locally in <code>/home/ubuntu/thesis/sae/wandb/run-20250704_061429-n3l271mj</code>"
      ],
      "text/plain": [
       "<IPython.core.display.HTML object>"
      ]
     },
     "metadata": {},
     "output_type": "display_data"
    },
    {
     "data": {
      "text/html": [
       "Syncing run <strong><a href='https://wandb.ai/lenguyen/Probe_Training_2/runs/n3l271mj' target=\"_blank\">probe_layer_4</a></strong> to <a href='https://wandb.ai/lenguyen/Probe_Training_2' target=\"_blank\">Weights & Biases</a> (<a href='https://wandb.me/run' target=\"_blank\">docs</a>)<br/>"
      ],
      "text/plain": [
       "<IPython.core.display.HTML object>"
      ]
     },
     "metadata": {},
     "output_type": "display_data"
    },
    {
     "data": {
      "text/html": [
       " View project at <a href='https://wandb.ai/lenguyen/Probe_Training_2' target=\"_blank\">https://wandb.ai/lenguyen/Probe_Training_2</a>"
      ],
      "text/plain": [
       "<IPython.core.display.HTML object>"
      ]
     },
     "metadata": {},
     "output_type": "display_data"
    },
    {
     "data": {
      "text/html": [
       " View run at <a href='https://wandb.ai/lenguyen/Probe_Training_2/runs/n3l271mj' target=\"_blank\">https://wandb.ai/lenguyen/Probe_Training_2/runs/n3l271mj</a>"
      ],
      "text/plain": [
       "<IPython.core.display.HTML object>"
      ]
     },
     "metadata": {},
     "output_type": "display_data"
    },
    {
     "name": "stdout",
     "output_type": "stream",
     "text": [
      "\n",
      "----- Training Probe for Layer 4 -----\n"
     ]
    },
    {
     "data": {
      "application/vnd.jupyter.widget-view+json": {
       "model_id": "323c6559f55146f19ec2886291d854ca",
       "version_major": 2,
       "version_minor": 0
      },
      "text/plain": [
       "Training epoch:   0%|          | 0/100 [00:00<?, ?it/s]"
      ]
     },
     "metadata": {},
     "output_type": "display_data"
    },
    {
     "name": "stdout",
     "output_type": "stream",
     "text": [
      "  -> New best probe saved for layer 4 with AUC: 0.6917\n",
      "  -> New best probe saved for layer 4 with AUC: 0.6964\n",
      "  -> New best probe saved for layer 4 with AUC: 0.7273\n"
     ]
    },
    {
     "data": {
      "application/vnd.jupyter.widget-view+json": {
       "model_id": "83643bd58fc2483bbbcabdffbdaf4799",
       "version_major": 2,
       "version_minor": 0
      },
      "text/plain": [
       "VBox(children=(Label(value='0.007 MB of 0.007 MB uploaded\\r'), FloatProgress(value=1.0, max=1.0)))"
      ]
     },
     "metadata": {},
     "output_type": "display_data"
    },
    {
     "data": {
      "text/html": [
       "<style>\n",
       "    table.wandb td:nth-child(1) { padding: 0 10px; text-align: left ; width: auto;} td:nth-child(2) {text-align: left ; width: 100%}\n",
       "    .wandb-row { display: flex; flex-direction: row; flex-wrap: wrap; justify-content: flex-start; width: 100% }\n",
       "    .wandb-col { display: flex; flex-direction: column; flex-basis: 100%; flex: 1; padding: 10px; }\n",
       "    </style>\n",
       "<div class=\"wandb-row\"><div class=\"wandb-col\"><h3>Run history:</h3><br/><table class=\"wandb\"><tr><td>train_loss</td><td>█▆▆▄▃▂▂▁▁▁▁▂▁▁▁▁▁▁▂▁▁▁▁▁▁▂▂▁▁▁▁▁▁▁▁▁▁▂▁▂</td></tr><tr><td>val_f1</td><td>▂▃▁▃▃▇▇▇█▅███▇██████████████████████████</td></tr><tr><td>val_loss</td><td>▃▃▇▃█▂▆▁▁▂▁▁▁▁▁▁▁▁▁▁▁▁▁▁▁▁▁▁▁▁▁▁▁▁▁▁▁▁▁▁</td></tr><tr><td>val_roc_auc</td><td>▃▅▆█▄▂▆▁▆▅▅▅▅▅▅▅▅▅▅▅▅▅▅▅▅▅▅▅▅▅▅▅▅▅▅▅▅▅▅▅</td></tr></table><br/></div><div class=\"wandb-col\"><h3>Run summary:</h3><br/><table class=\"wandb\"><tr><td>train_loss</td><td>0.34382</td></tr><tr><td>val_f1</td><td>0.79149</td></tr><tr><td>val_loss</td><td>0.66595</td></tr><tr><td>val_roc_auc</td><td>0.67186</td></tr></table><br/></div></div>"
      ],
      "text/plain": [
       "<IPython.core.display.HTML object>"
      ]
     },
     "metadata": {},
     "output_type": "display_data"
    },
    {
     "data": {
      "text/html": [
       " View run <strong style=\"color:#cdcd00\">probe_layer_4</strong> at: <a href='https://wandb.ai/lenguyen/Probe_Training_2/runs/n3l271mj' target=\"_blank\">https://wandb.ai/lenguyen/Probe_Training_2/runs/n3l271mj</a><br/> View project at: <a href='https://wandb.ai/lenguyen/Probe_Training_2' target=\"_blank\">https://wandb.ai/lenguyen/Probe_Training_2</a><br/>Synced 5 W&B file(s), 0 media file(s), 0 artifact file(s) and 0 other file(s)"
      ],
      "text/plain": [
       "<IPython.core.display.HTML object>"
      ]
     },
     "metadata": {},
     "output_type": "display_data"
    },
    {
     "data": {
      "text/html": [
       "Find logs at: <code>./wandb/run-20250704_061429-n3l271mj/logs</code>"
      ],
      "text/plain": [
       "<IPython.core.display.HTML object>"
      ]
     },
     "metadata": {},
     "output_type": "display_data"
    },
    {
     "name": "stdout",
     "output_type": "stream",
     "text": [
      "\n",
      " Setup WanDB for Layer 5\n"
     ]
    },
    {
     "data": {
      "text/html": [
       "Tracking run with wandb version 0.18.1"
      ],
      "text/plain": [
       "<IPython.core.display.HTML object>"
      ]
     },
     "metadata": {},
     "output_type": "display_data"
    },
    {
     "data": {
      "text/html": [
       "Run data is saved locally in <code>/home/ubuntu/thesis/sae/wandb/run-20250704_061439-weli1kkb</code>"
      ],
      "text/plain": [
       "<IPython.core.display.HTML object>"
      ]
     },
     "metadata": {},
     "output_type": "display_data"
    },
    {
     "data": {
      "text/html": [
       "Syncing run <strong><a href='https://wandb.ai/lenguyen/Probe_Training_2/runs/weli1kkb' target=\"_blank\">probe_layer_5</a></strong> to <a href='https://wandb.ai/lenguyen/Probe_Training_2' target=\"_blank\">Weights & Biases</a> (<a href='https://wandb.me/run' target=\"_blank\">docs</a>)<br/>"
      ],
      "text/plain": [
       "<IPython.core.display.HTML object>"
      ]
     },
     "metadata": {},
     "output_type": "display_data"
    },
    {
     "data": {
      "text/html": [
       " View project at <a href='https://wandb.ai/lenguyen/Probe_Training_2' target=\"_blank\">https://wandb.ai/lenguyen/Probe_Training_2</a>"
      ],
      "text/plain": [
       "<IPython.core.display.HTML object>"
      ]
     },
     "metadata": {},
     "output_type": "display_data"
    },
    {
     "data": {
      "text/html": [
       " View run at <a href='https://wandb.ai/lenguyen/Probe_Training_2/runs/weli1kkb' target=\"_blank\">https://wandb.ai/lenguyen/Probe_Training_2/runs/weli1kkb</a>"
      ],
      "text/plain": [
       "<IPython.core.display.HTML object>"
      ]
     },
     "metadata": {},
     "output_type": "display_data"
    },
    {
     "name": "stdout",
     "output_type": "stream",
     "text": [
      "\n",
      "----- Training Probe for Layer 5 -----\n"
     ]
    },
    {
     "data": {
      "application/vnd.jupyter.widget-view+json": {
       "model_id": "adbe429560d34fe381e9ca643e9cea23",
       "version_major": 2,
       "version_minor": 0
      },
      "text/plain": [
       "Training epoch:   0%|          | 0/100 [00:00<?, ?it/s]"
      ]
     },
     "metadata": {},
     "output_type": "display_data"
    },
    {
     "name": "stdout",
     "output_type": "stream",
     "text": [
      "  -> New best probe saved for layer 5 with AUC: 0.6678\n",
      "  -> New best probe saved for layer 5 with AUC: 0.7107\n",
      "  -> New best probe saved for layer 5 with AUC: 0.7301\n"
     ]
    },
    {
     "data": {
      "application/vnd.jupyter.widget-view+json": {
       "model_id": "b898273440604133b023e4dd06f01174",
       "version_major": 2,
       "version_minor": 0
      },
      "text/plain": [
       "VBox(children=(Label(value='0.007 MB of 0.007 MB uploaded\\r'), FloatProgress(value=1.0, max=1.0)))"
      ]
     },
     "metadata": {},
     "output_type": "display_data"
    },
    {
     "data": {
      "text/html": [
       "<style>\n",
       "    table.wandb td:nth-child(1) { padding: 0 10px; text-align: left ; width: auto;} td:nth-child(2) {text-align: left ; width: 100%}\n",
       "    .wandb-row { display: flex; flex-direction: row; flex-wrap: wrap; justify-content: flex-start; width: 100% }\n",
       "    .wandb-col { display: flex; flex-direction: column; flex-basis: 100%; flex: 1; padding: 10px; }\n",
       "    </style>\n",
       "<div class=\"wandb-row\"><div class=\"wandb-col\"><h3>Run history:</h3><br/><table class=\"wandb\"><tr><td>train_loss</td><td>█▆▅▅▄▃▃▃▂▂▂▁▁▁▁▂▁▁▁▁▁▁▂▁▁▁▁▂▁▁▂▁▁▁▂▁▁▁▁▁</td></tr><tr><td>val_f1</td><td>▁▁▅▅█▆▇▆▅▃▆▅▅▅▅▅▅▅▅▅▅▅▅▅▅▅▅▅▅▅▅▅▅▅▅▅▅▅▅▅</td></tr><tr><td>val_loss</td><td>▂▄▃▁█▂▄▃▃▃▃▃▃▃▃▃▃▃▃▃▃▃▃▃▃▃▃▃▃▃▃▃▃▃▃▃▃▃▃▃</td></tr><tr><td>val_roc_auc</td><td>▃▅█▃▄▁▃▃▂▃▁▁▁▂▂▂▂▂▂▂▂▂▂▂▂▂▂▂▂▂▂▂▂▂▂▂▂▂▂▂</td></tr></table><br/></div><div class=\"wandb-col\"><h3>Run summary:</h3><br/><table class=\"wandb\"><tr><td>train_loss</td><td>0.33226</td></tr><tr><td>val_f1</td><td>0.77088</td></tr><tr><td>val_loss</td><td>0.6861</td></tr><tr><td>val_roc_auc</td><td>0.6596</td></tr></table><br/></div></div>"
      ],
      "text/plain": [
       "<IPython.core.display.HTML object>"
      ]
     },
     "metadata": {},
     "output_type": "display_data"
    },
    {
     "data": {
      "text/html": [
       " View run <strong style=\"color:#cdcd00\">probe_layer_5</strong> at: <a href='https://wandb.ai/lenguyen/Probe_Training_2/runs/weli1kkb' target=\"_blank\">https://wandb.ai/lenguyen/Probe_Training_2/runs/weli1kkb</a><br/> View project at: <a href='https://wandb.ai/lenguyen/Probe_Training_2' target=\"_blank\">https://wandb.ai/lenguyen/Probe_Training_2</a><br/>Synced 5 W&B file(s), 0 media file(s), 0 artifact file(s) and 0 other file(s)"
      ],
      "text/plain": [
       "<IPython.core.display.HTML object>"
      ]
     },
     "metadata": {},
     "output_type": "display_data"
    },
    {
     "data": {
      "text/html": [
       "Find logs at: <code>./wandb/run-20250704_061439-weli1kkb/logs</code>"
      ],
      "text/plain": [
       "<IPython.core.display.HTML object>"
      ]
     },
     "metadata": {},
     "output_type": "display_data"
    },
    {
     "name": "stdout",
     "output_type": "stream",
     "text": [
      "\n",
      " Setup WanDB for Layer 6\n"
     ]
    },
    {
     "data": {
      "text/html": [
       "Tracking run with wandb version 0.18.1"
      ],
      "text/plain": [
       "<IPython.core.display.HTML object>"
      ]
     },
     "metadata": {},
     "output_type": "display_data"
    },
    {
     "data": {
      "text/html": [
       "Run data is saved locally in <code>/home/ubuntu/thesis/sae/wandb/run-20250704_061449-s0b556r3</code>"
      ],
      "text/plain": [
       "<IPython.core.display.HTML object>"
      ]
     },
     "metadata": {},
     "output_type": "display_data"
    },
    {
     "data": {
      "text/html": [
       "Syncing run <strong><a href='https://wandb.ai/lenguyen/Probe_Training_2/runs/s0b556r3' target=\"_blank\">probe_layer_6</a></strong> to <a href='https://wandb.ai/lenguyen/Probe_Training_2' target=\"_blank\">Weights & Biases</a> (<a href='https://wandb.me/run' target=\"_blank\">docs</a>)<br/>"
      ],
      "text/plain": [
       "<IPython.core.display.HTML object>"
      ]
     },
     "metadata": {},
     "output_type": "display_data"
    },
    {
     "data": {
      "text/html": [
       " View project at <a href='https://wandb.ai/lenguyen/Probe_Training_2' target=\"_blank\">https://wandb.ai/lenguyen/Probe_Training_2</a>"
      ],
      "text/plain": [
       "<IPython.core.display.HTML object>"
      ]
     },
     "metadata": {},
     "output_type": "display_data"
    },
    {
     "data": {
      "text/html": [
       " View run at <a href='https://wandb.ai/lenguyen/Probe_Training_2/runs/s0b556r3' target=\"_blank\">https://wandb.ai/lenguyen/Probe_Training_2/runs/s0b556r3</a>"
      ],
      "text/plain": [
       "<IPython.core.display.HTML object>"
      ]
     },
     "metadata": {},
     "output_type": "display_data"
    },
    {
     "name": "stdout",
     "output_type": "stream",
     "text": [
      "\n",
      "----- Training Probe for Layer 6 -----\n"
     ]
    },
    {
     "data": {
      "application/vnd.jupyter.widget-view+json": {
       "model_id": "173ec91514f24fd993e5b6cb21331c86",
       "version_major": 2,
       "version_minor": 0
      },
      "text/plain": [
       "Training epoch:   0%|          | 0/100 [00:00<?, ?it/s]"
      ]
     },
     "metadata": {},
     "output_type": "display_data"
    },
    {
     "name": "stdout",
     "output_type": "stream",
     "text": [
      "  -> New best probe saved for layer 6 with AUC: 0.6558\n",
      "  -> New best probe saved for layer 6 with AUC: 0.7012\n",
      "  -> New best probe saved for layer 6 with AUC: 0.7252\n",
      "  -> New best probe saved for layer 6 with AUC: 0.7296\n"
     ]
    },
    {
     "data": {
      "application/vnd.jupyter.widget-view+json": {
       "model_id": "97103bb297f34de6857c4cf226df2f96",
       "version_major": 2,
       "version_minor": 0
      },
      "text/plain": [
       "VBox(children=(Label(value='0.007 MB of 0.007 MB uploaded\\r'), FloatProgress(value=1.0, max=1.0)))"
      ]
     },
     "metadata": {},
     "output_type": "display_data"
    },
    {
     "data": {
      "text/html": [
       "<style>\n",
       "    table.wandb td:nth-child(1) { padding: 0 10px; text-align: left ; width: auto;} td:nth-child(2) {text-align: left ; width: 100%}\n",
       "    .wandb-row { display: flex; flex-direction: row; flex-wrap: wrap; justify-content: flex-start; width: 100% }\n",
       "    .wandb-col { display: flex; flex-direction: column; flex-basis: 100%; flex: 1; padding: 10px; }\n",
       "    </style>\n",
       "<div class=\"wandb-row\"><div class=\"wandb-col\"><h3>Run history:</h3><br/><table class=\"wandb\"><tr><td>train_loss</td><td>█▇▄▄▄▃▃▃▂▂▁▁▁▁▁▁▁▁▁▁▁▁▁▁▁▁▁▁▁▁▁▂▁▁▁▁▁▁▂▁</td></tr><tr><td>val_f1</td><td>▁▁▂██▇▇▇▅▆▇▇█▆▆▆▇▇▇▇▇▇▇▇▇▇▇▇▇▇▇▇▇▇▇▇▇▇▇▇</td></tr><tr><td>val_loss</td><td>█▄▃▁▃▄▇▄▁▁▃▃▃▃▃▃▃▃▃▃▃▃▃▃▃▃▃▃▃▃▃▃▃▃▃▃▃▃▃▃</td></tr><tr><td>val_roc_auc</td><td>▆██▄▂▁▃▄▃▄▃▃▃▃▃▃▃▃▃▃▃▃▃▃▃▃▃▃▃▃▃▃▃▃▃▃▃▃▃▃</td></tr></table><br/></div><div class=\"wandb-col\"><h3>Run summary:</h3><br/><table class=\"wandb\"><tr><td>train_loss</td><td>0.31297</td></tr><tr><td>val_f1</td><td>0.75594</td></tr><tr><td>val_loss</td><td>0.70597</td></tr><tr><td>val_roc_auc</td><td>0.66179</td></tr></table><br/></div></div>"
      ],
      "text/plain": [
       "<IPython.core.display.HTML object>"
      ]
     },
     "metadata": {},
     "output_type": "display_data"
    },
    {
     "data": {
      "text/html": [
       " View run <strong style=\"color:#cdcd00\">probe_layer_6</strong> at: <a href='https://wandb.ai/lenguyen/Probe_Training_2/runs/s0b556r3' target=\"_blank\">https://wandb.ai/lenguyen/Probe_Training_2/runs/s0b556r3</a><br/> View project at: <a href='https://wandb.ai/lenguyen/Probe_Training_2' target=\"_blank\">https://wandb.ai/lenguyen/Probe_Training_2</a><br/>Synced 5 W&B file(s), 0 media file(s), 0 artifact file(s) and 0 other file(s)"
      ],
      "text/plain": [
       "<IPython.core.display.HTML object>"
      ]
     },
     "metadata": {},
     "output_type": "display_data"
    },
    {
     "data": {
      "text/html": [
       "Find logs at: <code>./wandb/run-20250704_061449-s0b556r3/logs</code>"
      ],
      "text/plain": [
       "<IPython.core.display.HTML object>"
      ]
     },
     "metadata": {},
     "output_type": "display_data"
    },
    {
     "name": "stdout",
     "output_type": "stream",
     "text": [
      "\n",
      " Setup WanDB for Layer 7\n"
     ]
    },
    {
     "data": {
      "text/html": [
       "Tracking run with wandb version 0.18.1"
      ],
      "text/plain": [
       "<IPython.core.display.HTML object>"
      ]
     },
     "metadata": {},
     "output_type": "display_data"
    },
    {
     "data": {
      "text/html": [
       "Run data is saved locally in <code>/home/ubuntu/thesis/sae/wandb/run-20250704_061459-pvbbcm5p</code>"
      ],
      "text/plain": [
       "<IPython.core.display.HTML object>"
      ]
     },
     "metadata": {},
     "output_type": "display_data"
    },
    {
     "data": {
      "text/html": [
       "Syncing run <strong><a href='https://wandb.ai/lenguyen/Probe_Training_2/runs/pvbbcm5p' target=\"_blank\">probe_layer_7</a></strong> to <a href='https://wandb.ai/lenguyen/Probe_Training_2' target=\"_blank\">Weights & Biases</a> (<a href='https://wandb.me/run' target=\"_blank\">docs</a>)<br/>"
      ],
      "text/plain": [
       "<IPython.core.display.HTML object>"
      ]
     },
     "metadata": {},
     "output_type": "display_data"
    },
    {
     "data": {
      "text/html": [
       " View project at <a href='https://wandb.ai/lenguyen/Probe_Training_2' target=\"_blank\">https://wandb.ai/lenguyen/Probe_Training_2</a>"
      ],
      "text/plain": [
       "<IPython.core.display.HTML object>"
      ]
     },
     "metadata": {},
     "output_type": "display_data"
    },
    {
     "data": {
      "text/html": [
       " View run at <a href='https://wandb.ai/lenguyen/Probe_Training_2/runs/pvbbcm5p' target=\"_blank\">https://wandb.ai/lenguyen/Probe_Training_2/runs/pvbbcm5p</a>"
      ],
      "text/plain": [
       "<IPython.core.display.HTML object>"
      ]
     },
     "metadata": {},
     "output_type": "display_data"
    },
    {
     "name": "stdout",
     "output_type": "stream",
     "text": [
      "\n",
      "----- Training Probe for Layer 7 -----\n"
     ]
    },
    {
     "data": {
      "application/vnd.jupyter.widget-view+json": {
       "model_id": "3f6749cc9eca4f9dbb1ee89651eea896",
       "version_major": 2,
       "version_minor": 0
      },
      "text/plain": [
       "Training epoch:   0%|          | 0/100 [00:00<?, ?it/s]"
      ]
     },
     "metadata": {},
     "output_type": "display_data"
    },
    {
     "name": "stdout",
     "output_type": "stream",
     "text": [
      "  -> New best probe saved for layer 7 with AUC: 0.7361\n"
     ]
    },
    {
     "data": {
      "application/vnd.jupyter.widget-view+json": {
       "model_id": "10a072c28b5340289ec7462cab92d4b9",
       "version_major": 2,
       "version_minor": 0
      },
      "text/plain": [
       "VBox(children=(Label(value='0.007 MB of 0.007 MB uploaded\\r'), FloatProgress(value=1.0, max=1.0)))"
      ]
     },
     "metadata": {},
     "output_type": "display_data"
    },
    {
     "data": {
      "text/html": [
       "<style>\n",
       "    table.wandb td:nth-child(1) { padding: 0 10px; text-align: left ; width: auto;} td:nth-child(2) {text-align: left ; width: 100%}\n",
       "    .wandb-row { display: flex; flex-direction: row; flex-wrap: wrap; justify-content: flex-start; width: 100% }\n",
       "    .wandb-col { display: flex; flex-direction: column; flex-basis: 100%; flex: 1; padding: 10px; }\n",
       "    </style>\n",
       "<div class=\"wandb-row\"><div class=\"wandb-col\"><h3>Run history:</h3><br/><table class=\"wandb\"><tr><td>train_loss</td><td>█▇▆▅▃▂▂▁▁▁▂▁▂▁▂▁▁▁▁▁▁▁▁▁▁▁▁▁▁▁▁▁▁▁▂▁▁▂▁▁</td></tr><tr><td>val_f1</td><td>▃▅▃▁▆▅▆▇██████████▇▇▇▇▇▇▇▇▇▇▇▇▇▇▇▇▇▇▇▇▇▇</td></tr><tr><td>val_loss</td><td>▁▂▂▅█▄▄▅▄▄▅▄▄▄▄▄▄▄▄▄▄▄▄▄▄▄▄▄▄▄▄▄▄▄▄▄▄▄▄▄</td></tr><tr><td>val_roc_auc</td><td>█▃█▆▇▂▁▂▂▂▃▃▃▃▃▃▃▃▃▃▃▃▃▃▃▃▃▃▃▃▃▃▃▃▃▃▃▃▃▃</td></tr></table><br/></div><div class=\"wandb-col\"><h3>Run summary:</h3><br/><table class=\"wandb\"><tr><td>train_loss</td><td>0.30516</td></tr><tr><td>val_f1</td><td>0.76087</td></tr><tr><td>val_loss</td><td>0.73665</td></tr><tr><td>val_roc_auc</td><td>0.64941</td></tr></table><br/></div></div>"
      ],
      "text/plain": [
       "<IPython.core.display.HTML object>"
      ]
     },
     "metadata": {},
     "output_type": "display_data"
    },
    {
     "data": {
      "text/html": [
       " View run <strong style=\"color:#cdcd00\">probe_layer_7</strong> at: <a href='https://wandb.ai/lenguyen/Probe_Training_2/runs/pvbbcm5p' target=\"_blank\">https://wandb.ai/lenguyen/Probe_Training_2/runs/pvbbcm5p</a><br/> View project at: <a href='https://wandb.ai/lenguyen/Probe_Training_2' target=\"_blank\">https://wandb.ai/lenguyen/Probe_Training_2</a><br/>Synced 5 W&B file(s), 0 media file(s), 0 artifact file(s) and 0 other file(s)"
      ],
      "text/plain": [
       "<IPython.core.display.HTML object>"
      ]
     },
     "metadata": {},
     "output_type": "display_data"
    },
    {
     "data": {
      "text/html": [
       "Find logs at: <code>./wandb/run-20250704_061459-pvbbcm5p/logs</code>"
      ],
      "text/plain": [
       "<IPython.core.display.HTML object>"
      ]
     },
     "metadata": {},
     "output_type": "display_data"
    },
    {
     "name": "stdout",
     "output_type": "stream",
     "text": [
      "\n",
      " Setup WanDB for Layer 8\n"
     ]
    },
    {
     "data": {
      "text/html": [
       "Tracking run with wandb version 0.18.1"
      ],
      "text/plain": [
       "<IPython.core.display.HTML object>"
      ]
     },
     "metadata": {},
     "output_type": "display_data"
    },
    {
     "data": {
      "text/html": [
       "Run data is saved locally in <code>/home/ubuntu/thesis/sae/wandb/run-20250704_061509-lkmf91hx</code>"
      ],
      "text/plain": [
       "<IPython.core.display.HTML object>"
      ]
     },
     "metadata": {},
     "output_type": "display_data"
    },
    {
     "data": {
      "text/html": [
       "Syncing run <strong><a href='https://wandb.ai/lenguyen/Probe_Training_2/runs/lkmf91hx' target=\"_blank\">probe_layer_8</a></strong> to <a href='https://wandb.ai/lenguyen/Probe_Training_2' target=\"_blank\">Weights & Biases</a> (<a href='https://wandb.me/run' target=\"_blank\">docs</a>)<br/>"
      ],
      "text/plain": [
       "<IPython.core.display.HTML object>"
      ]
     },
     "metadata": {},
     "output_type": "display_data"
    },
    {
     "data": {
      "text/html": [
       " View project at <a href='https://wandb.ai/lenguyen/Probe_Training_2' target=\"_blank\">https://wandb.ai/lenguyen/Probe_Training_2</a>"
      ],
      "text/plain": [
       "<IPython.core.display.HTML object>"
      ]
     },
     "metadata": {},
     "output_type": "display_data"
    },
    {
     "data": {
      "text/html": [
       " View run at <a href='https://wandb.ai/lenguyen/Probe_Training_2/runs/lkmf91hx' target=\"_blank\">https://wandb.ai/lenguyen/Probe_Training_2/runs/lkmf91hx</a>"
      ],
      "text/plain": [
       "<IPython.core.display.HTML object>"
      ]
     },
     "metadata": {},
     "output_type": "display_data"
    },
    {
     "name": "stdout",
     "output_type": "stream",
     "text": [
      "\n",
      "----- Training Probe for Layer 8 -----\n"
     ]
    },
    {
     "data": {
      "application/vnd.jupyter.widget-view+json": {
       "model_id": "d4ee24ca58874c309156b80d5cd6ce49",
       "version_major": 2,
       "version_minor": 0
      },
      "text/plain": [
       "Training epoch:   0%|          | 0/100 [00:00<?, ?it/s]"
      ]
     },
     "metadata": {},
     "output_type": "display_data"
    },
    {
     "name": "stdout",
     "output_type": "stream",
     "text": [
      "  -> New best probe saved for layer 8 with AUC: 0.7303\n"
     ]
    },
    {
     "data": {
      "application/vnd.jupyter.widget-view+json": {
       "model_id": "da4909ae994f4bd78aed9e073b6d9618",
       "version_major": 2,
       "version_minor": 0
      },
      "text/plain": [
       "VBox(children=(Label(value='0.007 MB of 0.007 MB uploaded\\r'), FloatProgress(value=1.0, max=1.0)))"
      ]
     },
     "metadata": {},
     "output_type": "display_data"
    },
    {
     "data": {
      "text/html": [
       "<style>\n",
       "    table.wandb td:nth-child(1) { padding: 0 10px; text-align: left ; width: auto;} td:nth-child(2) {text-align: left ; width: 100%}\n",
       "    .wandb-row { display: flex; flex-direction: row; flex-wrap: wrap; justify-content: flex-start; width: 100% }\n",
       "    .wandb-col { display: flex; flex-direction: column; flex-basis: 100%; flex: 1; padding: 10px; }\n",
       "    </style>\n",
       "<div class=\"wandb-row\"><div class=\"wandb-col\"><h3>Run history:</h3><br/><table class=\"wandb\"><tr><td>train_loss</td><td>█▅▅▄▄▂▂▁▂▁▁▁▁▁▁▁▁▁▁▁▁▁▁▁▁▁▁▁▂▁▁▁▁▁▁▁▁▁▁▁</td></tr><tr><td>val_f1</td><td>▁▁▇▂█▃▃▃▃▃▃▃▃▄▄▄▄▄▄▄▄▄▄▄▄▄▄▄▄▄▄▄▄▄▄▄▄▄▄▄</td></tr><tr><td>val_loss</td><td>▁▇█▇▇▂▃▃▃▂▂▂▂▂▂▂▂▂▂▂▂▂▂▂▂▂▂▂▂▂▂▂▂▂▂▂▂▂▂▂</td></tr><tr><td>val_roc_auc</td><td>▇▁█▇█▇▅▅▆▅▅▅▆▆▆▆▆▆▆▆▆▆▆▆▆▆▆▆▆▆▆▆▆▆▆▆▆▆▆▆</td></tr></table><br/></div><div class=\"wandb-col\"><h3>Run summary:</h3><br/><table class=\"wandb\"><tr><td>train_loss</td><td>0.28645</td></tr><tr><td>val_f1</td><td>0.74501</td></tr><tr><td>val_loss</td><td>0.70758</td></tr><tr><td>val_roc_auc</td><td>0.6808</td></tr></table><br/></div></div>"
      ],
      "text/plain": [
       "<IPython.core.display.HTML object>"
      ]
     },
     "metadata": {},
     "output_type": "display_data"
    },
    {
     "data": {
      "text/html": [
       " View run <strong style=\"color:#cdcd00\">probe_layer_8</strong> at: <a href='https://wandb.ai/lenguyen/Probe_Training_2/runs/lkmf91hx' target=\"_blank\">https://wandb.ai/lenguyen/Probe_Training_2/runs/lkmf91hx</a><br/> View project at: <a href='https://wandb.ai/lenguyen/Probe_Training_2' target=\"_blank\">https://wandb.ai/lenguyen/Probe_Training_2</a><br/>Synced 5 W&B file(s), 0 media file(s), 0 artifact file(s) and 0 other file(s)"
      ],
      "text/plain": [
       "<IPython.core.display.HTML object>"
      ]
     },
     "metadata": {},
     "output_type": "display_data"
    },
    {
     "data": {
      "text/html": [
       "Find logs at: <code>./wandb/run-20250704_061509-lkmf91hx/logs</code>"
      ],
      "text/plain": [
       "<IPython.core.display.HTML object>"
      ]
     },
     "metadata": {},
     "output_type": "display_data"
    },
    {
     "name": "stdout",
     "output_type": "stream",
     "text": [
      "\n",
      " Setup WanDB for Layer 9\n"
     ]
    },
    {
     "data": {
      "text/html": [
       "Tracking run with wandb version 0.18.1"
      ],
      "text/plain": [
       "<IPython.core.display.HTML object>"
      ]
     },
     "metadata": {},
     "output_type": "display_data"
    },
    {
     "data": {
      "text/html": [
       "Run data is saved locally in <code>/home/ubuntu/thesis/sae/wandb/run-20250704_061519-exsttaxa</code>"
      ],
      "text/plain": [
       "<IPython.core.display.HTML object>"
      ]
     },
     "metadata": {},
     "output_type": "display_data"
    },
    {
     "data": {
      "text/html": [
       "Syncing run <strong><a href='https://wandb.ai/lenguyen/Probe_Training_2/runs/exsttaxa' target=\"_blank\">probe_layer_9</a></strong> to <a href='https://wandb.ai/lenguyen/Probe_Training_2' target=\"_blank\">Weights & Biases</a> (<a href='https://wandb.me/run' target=\"_blank\">docs</a>)<br/>"
      ],
      "text/plain": [
       "<IPython.core.display.HTML object>"
      ]
     },
     "metadata": {},
     "output_type": "display_data"
    },
    {
     "data": {
      "text/html": [
       " View project at <a href='https://wandb.ai/lenguyen/Probe_Training_2' target=\"_blank\">https://wandb.ai/lenguyen/Probe_Training_2</a>"
      ],
      "text/plain": [
       "<IPython.core.display.HTML object>"
      ]
     },
     "metadata": {},
     "output_type": "display_data"
    },
    {
     "data": {
      "text/html": [
       " View run at <a href='https://wandb.ai/lenguyen/Probe_Training_2/runs/exsttaxa' target=\"_blank\">https://wandb.ai/lenguyen/Probe_Training_2/runs/exsttaxa</a>"
      ],
      "text/plain": [
       "<IPython.core.display.HTML object>"
      ]
     },
     "metadata": {},
     "output_type": "display_data"
    },
    {
     "name": "stdout",
     "output_type": "stream",
     "text": [
      "\n",
      "----- Training Probe for Layer 9 -----\n"
     ]
    },
    {
     "data": {
      "application/vnd.jupyter.widget-view+json": {
       "model_id": "2fa2ca282fb84b97aae6ce0fb6fbd188",
       "version_major": 2,
       "version_minor": 0
      },
      "text/plain": [
       "Training epoch:   0%|          | 0/100 [00:00<?, ?it/s]"
      ]
     },
     "metadata": {},
     "output_type": "display_data"
    },
    {
     "name": "stdout",
     "output_type": "stream",
     "text": [
      "  -> New best probe saved for layer 9 with AUC: 0.7578\n"
     ]
    },
    {
     "data": {
      "application/vnd.jupyter.widget-view+json": {
       "model_id": "c717c724a25d48a7a2c4206dd71c8773",
       "version_major": 2,
       "version_minor": 0
      },
      "text/plain": [
       "VBox(children=(Label(value='0.007 MB of 0.007 MB uploaded\\r'), FloatProgress(value=1.0, max=1.0)))"
      ]
     },
     "metadata": {},
     "output_type": "display_data"
    },
    {
     "data": {
      "text/html": [
       "<style>\n",
       "    table.wandb td:nth-child(1) { padding: 0 10px; text-align: left ; width: auto;} td:nth-child(2) {text-align: left ; width: 100%}\n",
       "    .wandb-row { display: flex; flex-direction: row; flex-wrap: wrap; justify-content: flex-start; width: 100% }\n",
       "    .wandb-col { display: flex; flex-direction: column; flex-basis: 100%; flex: 1; padding: 10px; }\n",
       "    </style>\n",
       "<div class=\"wandb-row\"><div class=\"wandb-col\"><h3>Run history:</h3><br/><table class=\"wandb\"><tr><td>train_loss</td><td>█▇▆▆▄▃▃▂▂▂▁▁▁▁▂▁▁▂▂▁▂▂▁▁▂▁▁▁▁▁▁▂▁▂▂▂▁▂▂▁</td></tr><tr><td>val_f1</td><td>▁▅▆▃▅▆▇▇▇█▆▇██▇▇▇▇▇▇▇▇▇▇▇▇▇▇▇▇▇▇▇▇▇▇▇▇▇▇</td></tr><tr><td>val_loss</td><td>▁▄▃█▄▄▄▄▆▅▅▄▄▅▅▅▅▅▅▅▅▅▅▅▅▅▅▅▅▅▅▅▅▅▅▅▅▅▅▅</td></tr><tr><td>val_roc_auc</td><td>█▅▆▅▄▄▁▃▂▁▂▃▃▂▂▂▂▂▂▂▂▂▂▂▂▂▂▂▂▂▂▂▂▂▂▂▂▂▂▂</td></tr></table><br/></div><div class=\"wandb-col\"><h3>Run summary:</h3><br/><table class=\"wandb\"><tr><td>train_loss</td><td>0.30756</td></tr><tr><td>val_f1</td><td>0.76989</td></tr><tr><td>val_loss</td><td>0.689</td></tr><tr><td>val_roc_auc</td><td>0.65566</td></tr></table><br/></div></div>"
      ],
      "text/plain": [
       "<IPython.core.display.HTML object>"
      ]
     },
     "metadata": {},
     "output_type": "display_data"
    },
    {
     "data": {
      "text/html": [
       " View run <strong style=\"color:#cdcd00\">probe_layer_9</strong> at: <a href='https://wandb.ai/lenguyen/Probe_Training_2/runs/exsttaxa' target=\"_blank\">https://wandb.ai/lenguyen/Probe_Training_2/runs/exsttaxa</a><br/> View project at: <a href='https://wandb.ai/lenguyen/Probe_Training_2' target=\"_blank\">https://wandb.ai/lenguyen/Probe_Training_2</a><br/>Synced 5 W&B file(s), 0 media file(s), 0 artifact file(s) and 0 other file(s)"
      ],
      "text/plain": [
       "<IPython.core.display.HTML object>"
      ]
     },
     "metadata": {},
     "output_type": "display_data"
    },
    {
     "data": {
      "text/html": [
       "Find logs at: <code>./wandb/run-20250704_061519-exsttaxa/logs</code>"
      ],
      "text/plain": [
       "<IPython.core.display.HTML object>"
      ]
     },
     "metadata": {},
     "output_type": "display_data"
    },
    {
     "name": "stdout",
     "output_type": "stream",
     "text": [
      "\n",
      " Setup WanDB for Layer 10\n"
     ]
    },
    {
     "data": {
      "text/html": [
       "Tracking run with wandb version 0.18.1"
      ],
      "text/plain": [
       "<IPython.core.display.HTML object>"
      ]
     },
     "metadata": {},
     "output_type": "display_data"
    },
    {
     "data": {
      "text/html": [
       "Run data is saved locally in <code>/home/ubuntu/thesis/sae/wandb/run-20250704_061529-0ggrpls0</code>"
      ],
      "text/plain": [
       "<IPython.core.display.HTML object>"
      ]
     },
     "metadata": {},
     "output_type": "display_data"
    },
    {
     "data": {
      "text/html": [
       "Syncing run <strong><a href='https://wandb.ai/lenguyen/Probe_Training_2/runs/0ggrpls0' target=\"_blank\">probe_layer_10</a></strong> to <a href='https://wandb.ai/lenguyen/Probe_Training_2' target=\"_blank\">Weights & Biases</a> (<a href='https://wandb.me/run' target=\"_blank\">docs</a>)<br/>"
      ],
      "text/plain": [
       "<IPython.core.display.HTML object>"
      ]
     },
     "metadata": {},
     "output_type": "display_data"
    },
    {
     "data": {
      "text/html": [
       " View project at <a href='https://wandb.ai/lenguyen/Probe_Training_2' target=\"_blank\">https://wandb.ai/lenguyen/Probe_Training_2</a>"
      ],
      "text/plain": [
       "<IPython.core.display.HTML object>"
      ]
     },
     "metadata": {},
     "output_type": "display_data"
    },
    {
     "data": {
      "text/html": [
       " View run at <a href='https://wandb.ai/lenguyen/Probe_Training_2/runs/0ggrpls0' target=\"_blank\">https://wandb.ai/lenguyen/Probe_Training_2/runs/0ggrpls0</a>"
      ],
      "text/plain": [
       "<IPython.core.display.HTML object>"
      ]
     },
     "metadata": {},
     "output_type": "display_data"
    },
    {
     "name": "stdout",
     "output_type": "stream",
     "text": [
      "\n",
      "----- Training Probe for Layer 10 -----\n"
     ]
    },
    {
     "data": {
      "application/vnd.jupyter.widget-view+json": {
       "model_id": "d9a4c1704c1a4b35a6cfaf3cd54700d8",
       "version_major": 2,
       "version_minor": 0
      },
      "text/plain": [
       "Training epoch:   0%|          | 0/100 [00:00<?, ?it/s]"
      ]
     },
     "metadata": {},
     "output_type": "display_data"
    },
    {
     "name": "stdout",
     "output_type": "stream",
     "text": [
      "  -> New best probe saved for layer 10 with AUC: 0.6476\n",
      "  -> New best probe saved for layer 10 with AUC: 0.7421\n"
     ]
    },
    {
     "data": {
      "application/vnd.jupyter.widget-view+json": {
       "model_id": "0f6871eb075b445c9a8d44b066ead1b5",
       "version_major": 2,
       "version_minor": 0
      },
      "text/plain": [
       "VBox(children=(Label(value='0.005 MB of 0.005 MB uploaded\\r'), FloatProgress(value=1.0, max=1.0)))"
      ]
     },
     "metadata": {},
     "output_type": "display_data"
    },
    {
     "data": {
      "text/html": [
       "<style>\n",
       "    table.wandb td:nth-child(1) { padding: 0 10px; text-align: left ; width: auto;} td:nth-child(2) {text-align: left ; width: 100%}\n",
       "    .wandb-row { display: flex; flex-direction: row; flex-wrap: wrap; justify-content: flex-start; width: 100% }\n",
       "    .wandb-col { display: flex; flex-direction: column; flex-basis: 100%; flex: 1; padding: 10px; }\n",
       "    </style>\n",
       "<div class=\"wandb-row\"><div class=\"wandb-col\"><h3>Run history:</h3><br/><table class=\"wandb\"><tr><td>train_loss</td><td>█▆▄▄▄▃▂▂▂▂▁▂▂▂▂▁▂▁▁▁▁▂▁▁▁▁▂▂▂▁▂▂▁▁▂▁▂▁▂▂</td></tr><tr><td>val_f1</td><td>▄▁▆▆▄▇██▇▇▇▇▇▇▇▇▇▇▇▇▇▇▇▇▇▇▇▇▇▇▇▇▇▇▇▇▇▇▇▇</td></tr><tr><td>val_loss</td><td>▃▁▁█▅▄▅▃▃▃▂▃▂▃▃▃▃▃▃▃▃▃▃▃▃▃▃▃▃▃▃▃▃▃▃▃▃▃▃▃</td></tr><tr><td>val_roc_auc</td><td>█▇▅▄▁▆▅▅▅▅▆▅▅▅▆▆▆▆▆▆▆▆▆▆▆▆▆▆▆▆▆▆▆▆▆▆▆▆▆▆</td></tr></table><br/></div><div class=\"wandb-col\"><h3>Run summary:</h3><br/><table class=\"wandb\"><tr><td>train_loss</td><td>0.29833</td></tr><tr><td>val_f1</td><td>0.76316</td></tr><tr><td>val_loss</td><td>0.69038</td></tr><tr><td>val_roc_auc</td><td>0.66698</td></tr></table><br/></div></div>"
      ],
      "text/plain": [
       "<IPython.core.display.HTML object>"
      ]
     },
     "metadata": {},
     "output_type": "display_data"
    },
    {
     "data": {
      "text/html": [
       " View run <strong style=\"color:#cdcd00\">probe_layer_10</strong> at: <a href='https://wandb.ai/lenguyen/Probe_Training_2/runs/0ggrpls0' target=\"_blank\">https://wandb.ai/lenguyen/Probe_Training_2/runs/0ggrpls0</a><br/> View project at: <a href='https://wandb.ai/lenguyen/Probe_Training_2' target=\"_blank\">https://wandb.ai/lenguyen/Probe_Training_2</a><br/>Synced 5 W&B file(s), 0 media file(s), 0 artifact file(s) and 0 other file(s)"
      ],
      "text/plain": [
       "<IPython.core.display.HTML object>"
      ]
     },
     "metadata": {},
     "output_type": "display_data"
    },
    {
     "data": {
      "text/html": [
       "Find logs at: <code>./wandb/run-20250704_061529-0ggrpls0/logs</code>"
      ],
      "text/plain": [
       "<IPython.core.display.HTML object>"
      ]
     },
     "metadata": {},
     "output_type": "display_data"
    },
    {
     "name": "stdout",
     "output_type": "stream",
     "text": [
      "\n",
      " Setup WanDB for Layer 11\n"
     ]
    },
    {
     "data": {
      "text/html": [
       "Tracking run with wandb version 0.18.1"
      ],
      "text/plain": [
       "<IPython.core.display.HTML object>"
      ]
     },
     "metadata": {},
     "output_type": "display_data"
    },
    {
     "data": {
      "text/html": [
       "Run data is saved locally in <code>/home/ubuntu/thesis/sae/wandb/run-20250704_061543-46kglfzo</code>"
      ],
      "text/plain": [
       "<IPython.core.display.HTML object>"
      ]
     },
     "metadata": {},
     "output_type": "display_data"
    },
    {
     "data": {
      "text/html": [
       "Syncing run <strong><a href='https://wandb.ai/lenguyen/Probe_Training_2/runs/46kglfzo' target=\"_blank\">probe_layer_11</a></strong> to <a href='https://wandb.ai/lenguyen/Probe_Training_2' target=\"_blank\">Weights & Biases</a> (<a href='https://wandb.me/run' target=\"_blank\">docs</a>)<br/>"
      ],
      "text/plain": [
       "<IPython.core.display.HTML object>"
      ]
     },
     "metadata": {},
     "output_type": "display_data"
    },
    {
     "data": {
      "text/html": [
       " View project at <a href='https://wandb.ai/lenguyen/Probe_Training_2' target=\"_blank\">https://wandb.ai/lenguyen/Probe_Training_2</a>"
      ],
      "text/plain": [
       "<IPython.core.display.HTML object>"
      ]
     },
     "metadata": {},
     "output_type": "display_data"
    },
    {
     "data": {
      "text/html": [
       " View run at <a href='https://wandb.ai/lenguyen/Probe_Training_2/runs/46kglfzo' target=\"_blank\">https://wandb.ai/lenguyen/Probe_Training_2/runs/46kglfzo</a>"
      ],
      "text/plain": [
       "<IPython.core.display.HTML object>"
      ]
     },
     "metadata": {},
     "output_type": "display_data"
    },
    {
     "name": "stdout",
     "output_type": "stream",
     "text": [
      "\n",
      "----- Training Probe for Layer 11 -----\n"
     ]
    },
    {
     "data": {
      "application/vnd.jupyter.widget-view+json": {
       "model_id": "7e91d9c6583b49efb2fa61928de6f5c7",
       "version_major": 2,
       "version_minor": 0
      },
      "text/plain": [
       "Training epoch:   0%|          | 0/100 [00:00<?, ?it/s]"
      ]
     },
     "metadata": {},
     "output_type": "display_data"
    },
    {
     "name": "stdout",
     "output_type": "stream",
     "text": [
      "  -> New best probe saved for layer 11 with AUC: 0.7409\n"
     ]
    },
    {
     "data": {
      "application/vnd.jupyter.widget-view+json": {
       "model_id": "b3e383ab0ed448aaa6a37f5ee5f3e5d7",
       "version_major": 2,
       "version_minor": 0
      },
      "text/plain": [
       "VBox(children=(Label(value='0.007 MB of 0.007 MB uploaded\\r'), FloatProgress(value=1.0, max=1.0)))"
      ]
     },
     "metadata": {},
     "output_type": "display_data"
    },
    {
     "data": {
      "text/html": [
       "<style>\n",
       "    table.wandb td:nth-child(1) { padding: 0 10px; text-align: left ; width: auto;} td:nth-child(2) {text-align: left ; width: 100%}\n",
       "    .wandb-row { display: flex; flex-direction: row; flex-wrap: wrap; justify-content: flex-start; width: 100% }\n",
       "    .wandb-col { display: flex; flex-direction: column; flex-basis: 100%; flex: 1; padding: 10px; }\n",
       "    </style>\n",
       "<div class=\"wandb-row\"><div class=\"wandb-col\"><h3>Run history:</h3><br/><table class=\"wandb\"><tr><td>train_loss</td><td>█▅▄▃▃▂▁▂▁▁▁▂▁▁▁▁▁▂▁▁▁▁▁▁▁▁▁▁▁▁▁▂▁▁▁▁▁▁▂▁</td></tr><tr><td>val_f1</td><td>█▁▄▇█▆▄▆██▆▆▆▆▆▇▇▇▇▇▇▇▇▇▇▇▇▇▇▇▇▇▇▇▇▇▇▇▇▇</td></tr><tr><td>val_loss</td><td>█▂▄▂▃▂▂▂▂▁▁▁▁▁▁▁▁▁▁▁▁▁▁▁▁▁▁▁▁▁▁▁▁▁▁▁▁▁▁▁</td></tr><tr><td>val_roc_auc</td><td>▇▁█▇▇▇▆▆▆▆▇▇▇▇▇▇▇▇▇▇▇▇▇▇▇▇▇▇▇▇▇▇▇▇▇▇▇▇▇▇</td></tr></table><br/></div><div class=\"wandb-col\"><h3>Run summary:</h3><br/><table class=\"wandb\"><tr><td>train_loss</td><td>0.28169</td></tr><tr><td>val_f1</td><td>0.73942</td></tr><tr><td>val_loss</td><td>0.70023</td></tr><tr><td>val_roc_auc</td><td>0.66842</td></tr></table><br/></div></div>"
      ],
      "text/plain": [
       "<IPython.core.display.HTML object>"
      ]
     },
     "metadata": {},
     "output_type": "display_data"
    },
    {
     "data": {
      "text/html": [
       " View run <strong style=\"color:#cdcd00\">probe_layer_11</strong> at: <a href='https://wandb.ai/lenguyen/Probe_Training_2/runs/46kglfzo' target=\"_blank\">https://wandb.ai/lenguyen/Probe_Training_2/runs/46kglfzo</a><br/> View project at: <a href='https://wandb.ai/lenguyen/Probe_Training_2' target=\"_blank\">https://wandb.ai/lenguyen/Probe_Training_2</a><br/>Synced 5 W&B file(s), 0 media file(s), 0 artifact file(s) and 0 other file(s)"
      ],
      "text/plain": [
       "<IPython.core.display.HTML object>"
      ]
     },
     "metadata": {},
     "output_type": "display_data"
    },
    {
     "data": {
      "text/html": [
       "Find logs at: <code>./wandb/run-20250704_061543-46kglfzo/logs</code>"
      ],
      "text/plain": [
       "<IPython.core.display.HTML object>"
      ]
     },
     "metadata": {},
     "output_type": "display_data"
    },
    {
     "name": "stdout",
     "output_type": "stream",
     "text": [
      "\n",
      " Setup WanDB for Layer 12\n"
     ]
    },
    {
     "data": {
      "text/html": [
       "Tracking run with wandb version 0.18.1"
      ],
      "text/plain": [
       "<IPython.core.display.HTML object>"
      ]
     },
     "metadata": {},
     "output_type": "display_data"
    },
    {
     "data": {
      "text/html": [
       "Run data is saved locally in <code>/home/ubuntu/thesis/sae/wandb/run-20250704_061552-l49yoasj</code>"
      ],
      "text/plain": [
       "<IPython.core.display.HTML object>"
      ]
     },
     "metadata": {},
     "output_type": "display_data"
    },
    {
     "data": {
      "text/html": [
       "Syncing run <strong><a href='https://wandb.ai/lenguyen/Probe_Training_2/runs/l49yoasj' target=\"_blank\">probe_layer_12</a></strong> to <a href='https://wandb.ai/lenguyen/Probe_Training_2' target=\"_blank\">Weights & Biases</a> (<a href='https://wandb.me/run' target=\"_blank\">docs</a>)<br/>"
      ],
      "text/plain": [
       "<IPython.core.display.HTML object>"
      ]
     },
     "metadata": {},
     "output_type": "display_data"
    },
    {
     "data": {
      "text/html": [
       " View project at <a href='https://wandb.ai/lenguyen/Probe_Training_2' target=\"_blank\">https://wandb.ai/lenguyen/Probe_Training_2</a>"
      ],
      "text/plain": [
       "<IPython.core.display.HTML object>"
      ]
     },
     "metadata": {},
     "output_type": "display_data"
    },
    {
     "data": {
      "text/html": [
       " View run at <a href='https://wandb.ai/lenguyen/Probe_Training_2/runs/l49yoasj' target=\"_blank\">https://wandb.ai/lenguyen/Probe_Training_2/runs/l49yoasj</a>"
      ],
      "text/plain": [
       "<IPython.core.display.HTML object>"
      ]
     },
     "metadata": {},
     "output_type": "display_data"
    },
    {
     "name": "stdout",
     "output_type": "stream",
     "text": [
      "\n",
      "----- Training Probe for Layer 12 -----\n"
     ]
    },
    {
     "data": {
      "application/vnd.jupyter.widget-view+json": {
       "model_id": "8f3eb1467cd148b4a6022f13e629adc4",
       "version_major": 2,
       "version_minor": 0
      },
      "text/plain": [
       "Training epoch:   0%|          | 0/100 [00:00<?, ?it/s]"
      ]
     },
     "metadata": {},
     "output_type": "display_data"
    },
    {
     "name": "stdout",
     "output_type": "stream",
     "text": [
      "  -> New best probe saved for layer 12 with AUC: 0.7562\n",
      "  -> New best probe saved for layer 12 with AUC: 0.7605\n"
     ]
    },
    {
     "data": {
      "application/vnd.jupyter.widget-view+json": {
       "model_id": "85becb1479764c27a9a98f387eadb7fa",
       "version_major": 2,
       "version_minor": 0
      },
      "text/plain": [
       "VBox(children=(Label(value='0.007 MB of 0.007 MB uploaded\\r'), FloatProgress(value=1.0, max=1.0)))"
      ]
     },
     "metadata": {},
     "output_type": "display_data"
    },
    {
     "data": {
      "text/html": [
       "<style>\n",
       "    table.wandb td:nth-child(1) { padding: 0 10px; text-align: left ; width: auto;} td:nth-child(2) {text-align: left ; width: 100%}\n",
       "    .wandb-row { display: flex; flex-direction: row; flex-wrap: wrap; justify-content: flex-start; width: 100% }\n",
       "    .wandb-col { display: flex; flex-direction: column; flex-basis: 100%; flex: 1; padding: 10px; }\n",
       "    </style>\n",
       "<div class=\"wandb-row\"><div class=\"wandb-col\"><h3>Run history:</h3><br/><table class=\"wandb\"><tr><td>train_loss</td><td>█▅▅▄▃▂▁▂▂▁▁▂▁▁▂▁▁▁▁▁▁▂▁▁▁▁▁▁▁▁▁▁▁▁▂▁▂▁▁▁</td></tr><tr><td>val_f1</td><td>▅██▄▃▄▂▁▄▅▄▃▄▄▄▄▄▄▄▄▄▄▄▄▄▄▄▄▄▄▄▄▄▄▄▄▄▄▄▄</td></tr><tr><td>val_loss</td><td>▁▁█▅▁▄▅▅▄▆▃▃▄▄▃▃▃▃▃▃▃▃▃▃▃▃▃▃▃▃▃▃▃▃▃▃▃▃▃▃</td></tr><tr><td>val_roc_auc</td><td>▆██▇▄▂▃▂▂▁▃▂▂▂▂▂▂▂▂▂▂▂▂▂▂▂▂▂▂▂▂▂▂▂▂▂▂▂▂▂</td></tr></table><br/></div><div class=\"wandb-col\"><h3>Run summary:</h3><br/><table class=\"wandb\"><tr><td>train_loss</td><td>0.24301</td></tr><tr><td>val_f1</td><td>0.73051</td></tr><tr><td>val_loss</td><td>0.6912</td></tr><tr><td>val_roc_auc</td><td>0.66223</td></tr></table><br/></div></div>"
      ],
      "text/plain": [
       "<IPython.core.display.HTML object>"
      ]
     },
     "metadata": {},
     "output_type": "display_data"
    },
    {
     "data": {
      "text/html": [
       " View run <strong style=\"color:#cdcd00\">probe_layer_12</strong> at: <a href='https://wandb.ai/lenguyen/Probe_Training_2/runs/l49yoasj' target=\"_blank\">https://wandb.ai/lenguyen/Probe_Training_2/runs/l49yoasj</a><br/> View project at: <a href='https://wandb.ai/lenguyen/Probe_Training_2' target=\"_blank\">https://wandb.ai/lenguyen/Probe_Training_2</a><br/>Synced 5 W&B file(s), 0 media file(s), 0 artifact file(s) and 0 other file(s)"
      ],
      "text/plain": [
       "<IPython.core.display.HTML object>"
      ]
     },
     "metadata": {},
     "output_type": "display_data"
    },
    {
     "data": {
      "text/html": [
       "Find logs at: <code>./wandb/run-20250704_061552-l49yoasj/logs</code>"
      ],
      "text/plain": [
       "<IPython.core.display.HTML object>"
      ]
     },
     "metadata": {},
     "output_type": "display_data"
    },
    {
     "name": "stdout",
     "output_type": "stream",
     "text": [
      "\n",
      " Setup WanDB for Layer 13\n"
     ]
    },
    {
     "data": {
      "text/html": [
       "Tracking run with wandb version 0.18.1"
      ],
      "text/plain": [
       "<IPython.core.display.HTML object>"
      ]
     },
     "metadata": {},
     "output_type": "display_data"
    },
    {
     "data": {
      "text/html": [
       "Run data is saved locally in <code>/home/ubuntu/thesis/sae/wandb/run-20250704_061601-oi8qbfcz</code>"
      ],
      "text/plain": [
       "<IPython.core.display.HTML object>"
      ]
     },
     "metadata": {},
     "output_type": "display_data"
    },
    {
     "data": {
      "text/html": [
       "Syncing run <strong><a href='https://wandb.ai/lenguyen/Probe_Training_2/runs/oi8qbfcz' target=\"_blank\">probe_layer_13</a></strong> to <a href='https://wandb.ai/lenguyen/Probe_Training_2' target=\"_blank\">Weights & Biases</a> (<a href='https://wandb.me/run' target=\"_blank\">docs</a>)<br/>"
      ],
      "text/plain": [
       "<IPython.core.display.HTML object>"
      ]
     },
     "metadata": {},
     "output_type": "display_data"
    },
    {
     "data": {
      "text/html": [
       " View project at <a href='https://wandb.ai/lenguyen/Probe_Training_2' target=\"_blank\">https://wandb.ai/lenguyen/Probe_Training_2</a>"
      ],
      "text/plain": [
       "<IPython.core.display.HTML object>"
      ]
     },
     "metadata": {},
     "output_type": "display_data"
    },
    {
     "data": {
      "text/html": [
       " View run at <a href='https://wandb.ai/lenguyen/Probe_Training_2/runs/oi8qbfcz' target=\"_blank\">https://wandb.ai/lenguyen/Probe_Training_2/runs/oi8qbfcz</a>"
      ],
      "text/plain": [
       "<IPython.core.display.HTML object>"
      ]
     },
     "metadata": {},
     "output_type": "display_data"
    },
    {
     "name": "stdout",
     "output_type": "stream",
     "text": [
      "\n",
      "----- Training Probe for Layer 13 -----\n"
     ]
    },
    {
     "data": {
      "application/vnd.jupyter.widget-view+json": {
       "model_id": "9d6b67710f394a7887500603c858e520",
       "version_major": 2,
       "version_minor": 0
      },
      "text/plain": [
       "Training epoch:   0%|          | 0/100 [00:00<?, ?it/s]"
      ]
     },
     "metadata": {},
     "output_type": "display_data"
    },
    {
     "name": "stdout",
     "output_type": "stream",
     "text": [
      "  -> New best probe saved for layer 13 with AUC: 0.7331\n",
      "  -> New best probe saved for layer 13 with AUC: 0.7554\n"
     ]
    },
    {
     "data": {
      "application/vnd.jupyter.widget-view+json": {
       "model_id": "d3037b2de71245c5993d9c23aea09f31",
       "version_major": 2,
       "version_minor": 0
      },
      "text/plain": [
       "VBox(children=(Label(value='0.007 MB of 0.007 MB uploaded\\r'), FloatProgress(value=1.0, max=1.0)))"
      ]
     },
     "metadata": {},
     "output_type": "display_data"
    },
    {
     "data": {
      "text/html": [
       "<style>\n",
       "    table.wandb td:nth-child(1) { padding: 0 10px; text-align: left ; width: auto;} td:nth-child(2) {text-align: left ; width: 100%}\n",
       "    .wandb-row { display: flex; flex-direction: row; flex-wrap: wrap; justify-content: flex-start; width: 100% }\n",
       "    .wandb-col { display: flex; flex-direction: column; flex-basis: 100%; flex: 1; padding: 10px; }\n",
       "    </style>\n",
       "<div class=\"wandb-row\"><div class=\"wandb-col\"><h3>Run history:</h3><br/><table class=\"wandb\"><tr><td>train_loss</td><td>█▆▅▃▃▁▁▁▁▁▁▁▁▂▁▁▂▁▁▁▁▁▁▁▁▁▂▁▁▁▁▁▁▁▁▁▁▁▁▁</td></tr><tr><td>val_f1</td><td>▁▆▇█▂▄▆▇▅▆▅▆▆▆▆▆▆▆▆▆▆▆▆▆▆▆▆▆▆▆▆▆▆▆▆▆▆▆▆▆</td></tr><tr><td>val_loss</td><td>▁▂▁▂▁█▁▂▂▂▂▂▂▂▂▂▂▂▂▂▂▂▂▂▂▂▂▂▂▂▂▂▂▂▂▂▂▂▂▂</td></tr><tr><td>val_roc_auc</td><td>▇█▅▅▇▁▆▅▄▄▄▄▄▄▄▄▄▄▄▄▄▄▄▄▄▄▄▄▄▄▄▄▄▄▄▄▄▄▄▄</td></tr></table><br/></div><div class=\"wandb-col\"><h3>Run summary:</h3><br/><table class=\"wandb\"><tr><td>train_loss</td><td>0.24298</td></tr><tr><td>val_f1</td><td>0.75165</td></tr><tr><td>val_loss</td><td>0.68448</td></tr><tr><td>val_roc_auc</td><td>0.69199</td></tr></table><br/></div></div>"
      ],
      "text/plain": [
       "<IPython.core.display.HTML object>"
      ]
     },
     "metadata": {},
     "output_type": "display_data"
    },
    {
     "data": {
      "text/html": [
       " View run <strong style=\"color:#cdcd00\">probe_layer_13</strong> at: <a href='https://wandb.ai/lenguyen/Probe_Training_2/runs/oi8qbfcz' target=\"_blank\">https://wandb.ai/lenguyen/Probe_Training_2/runs/oi8qbfcz</a><br/> View project at: <a href='https://wandb.ai/lenguyen/Probe_Training_2' target=\"_blank\">https://wandb.ai/lenguyen/Probe_Training_2</a><br/>Synced 5 W&B file(s), 0 media file(s), 0 artifact file(s) and 0 other file(s)"
      ],
      "text/plain": [
       "<IPython.core.display.HTML object>"
      ]
     },
     "metadata": {},
     "output_type": "display_data"
    },
    {
     "data": {
      "text/html": [
       "Find logs at: <code>./wandb/run-20250704_061601-oi8qbfcz/logs</code>"
      ],
      "text/plain": [
       "<IPython.core.display.HTML object>"
      ]
     },
     "metadata": {},
     "output_type": "display_data"
    },
    {
     "name": "stdout",
     "output_type": "stream",
     "text": [
      "\n",
      " Setup WanDB for Layer 14\n"
     ]
    },
    {
     "data": {
      "text/html": [
       "Tracking run with wandb version 0.18.1"
      ],
      "text/plain": [
       "<IPython.core.display.HTML object>"
      ]
     },
     "metadata": {},
     "output_type": "display_data"
    },
    {
     "data": {
      "text/html": [
       "Run data is saved locally in <code>/home/ubuntu/thesis/sae/wandb/run-20250704_061610-g2llsnd1</code>"
      ],
      "text/plain": [
       "<IPython.core.display.HTML object>"
      ]
     },
     "metadata": {},
     "output_type": "display_data"
    },
    {
     "data": {
      "text/html": [
       "Syncing run <strong><a href='https://wandb.ai/lenguyen/Probe_Training_2/runs/g2llsnd1' target=\"_blank\">probe_layer_14</a></strong> to <a href='https://wandb.ai/lenguyen/Probe_Training_2' target=\"_blank\">Weights & Biases</a> (<a href='https://wandb.me/run' target=\"_blank\">docs</a>)<br/>"
      ],
      "text/plain": [
       "<IPython.core.display.HTML object>"
      ]
     },
     "metadata": {},
     "output_type": "display_data"
    },
    {
     "data": {
      "text/html": [
       " View project at <a href='https://wandb.ai/lenguyen/Probe_Training_2' target=\"_blank\">https://wandb.ai/lenguyen/Probe_Training_2</a>"
      ],
      "text/plain": [
       "<IPython.core.display.HTML object>"
      ]
     },
     "metadata": {},
     "output_type": "display_data"
    },
    {
     "data": {
      "text/html": [
       " View run at <a href='https://wandb.ai/lenguyen/Probe_Training_2/runs/g2llsnd1' target=\"_blank\">https://wandb.ai/lenguyen/Probe_Training_2/runs/g2llsnd1</a>"
      ],
      "text/plain": [
       "<IPython.core.display.HTML object>"
      ]
     },
     "metadata": {},
     "output_type": "display_data"
    },
    {
     "name": "stdout",
     "output_type": "stream",
     "text": [
      "\n",
      "----- Training Probe for Layer 14 -----\n"
     ]
    },
    {
     "data": {
      "application/vnd.jupyter.widget-view+json": {
       "model_id": "936922c06da247919b7b8be9d17ce3fe",
       "version_major": 2,
       "version_minor": 0
      },
      "text/plain": [
       "Training epoch:   0%|          | 0/100 [00:00<?, ?it/s]"
      ]
     },
     "metadata": {},
     "output_type": "display_data"
    },
    {
     "name": "stdout",
     "output_type": "stream",
     "text": [
      "  -> New best probe saved for layer 14 with AUC: 0.7299\n",
      "  -> New best probe saved for layer 14 with AUC: 0.7538\n"
     ]
    },
    {
     "data": {
      "application/vnd.jupyter.widget-view+json": {
       "model_id": "9419b36113d0456e980e2361dc3fd819",
       "version_major": 2,
       "version_minor": 0
      },
      "text/plain": [
       "VBox(children=(Label(value='0.007 MB of 0.007 MB uploaded\\r'), FloatProgress(value=1.0, max=1.0)))"
      ]
     },
     "metadata": {},
     "output_type": "display_data"
    },
    {
     "data": {
      "text/html": [
       "<style>\n",
       "    table.wandb td:nth-child(1) { padding: 0 10px; text-align: left ; width: auto;} td:nth-child(2) {text-align: left ; width: 100%}\n",
       "    .wandb-row { display: flex; flex-direction: row; flex-wrap: wrap; justify-content: flex-start; width: 100% }\n",
       "    .wandb-col { display: flex; flex-direction: column; flex-basis: 100%; flex: 1; padding: 10px; }\n",
       "    </style>\n",
       "<div class=\"wandb-row\"><div class=\"wandb-col\"><h3>Run history:</h3><br/><table class=\"wandb\"><tr><td>train_loss</td><td>█▆▄▃▃▂▂▁▂▁▁▁▁▁▁▁▁▁▁▁▂▁▁▁▁▁▁▁▁▁▁▁▁▁▁▁▁▁▁▁</td></tr><tr><td>val_f1</td><td>▇▁▃▄▆▇█▇▆▇▆▇████████████████████████████</td></tr><tr><td>val_loss</td><td>▁▇█▅▅▅▅▅▅▅▅▅▅▅▅▅▅▅▅▅▅▅▅▅▅▅▅▅▅▅▅▅▅▅▅▅▅▅▅▅</td></tr><tr><td>val_roc_auc</td><td>▆█▄▂▁▁▂▂▂▂▂▂▂▂▂▂▂▂▂▂▂▂▂▂▂▂▂▂▂▂▂▂▂▂▂▂▂▂▂▂</td></tr></table><br/></div><div class=\"wandb-col\"><h3>Run summary:</h3><br/><table class=\"wandb\"><tr><td>train_loss</td><td>0.24227</td></tr><tr><td>val_f1</td><td>0.75388</td></tr><tr><td>val_loss</td><td>0.70432</td></tr><tr><td>val_roc_auc</td><td>0.67667</td></tr></table><br/></div></div>"
      ],
      "text/plain": [
       "<IPython.core.display.HTML object>"
      ]
     },
     "metadata": {},
     "output_type": "display_data"
    },
    {
     "data": {
      "text/html": [
       " View run <strong style=\"color:#cdcd00\">probe_layer_14</strong> at: <a href='https://wandb.ai/lenguyen/Probe_Training_2/runs/g2llsnd1' target=\"_blank\">https://wandb.ai/lenguyen/Probe_Training_2/runs/g2llsnd1</a><br/> View project at: <a href='https://wandb.ai/lenguyen/Probe_Training_2' target=\"_blank\">https://wandb.ai/lenguyen/Probe_Training_2</a><br/>Synced 5 W&B file(s), 0 media file(s), 0 artifact file(s) and 0 other file(s)"
      ],
      "text/plain": [
       "<IPython.core.display.HTML object>"
      ]
     },
     "metadata": {},
     "output_type": "display_data"
    },
    {
     "data": {
      "text/html": [
       "Find logs at: <code>./wandb/run-20250704_061610-g2llsnd1/logs</code>"
      ],
      "text/plain": [
       "<IPython.core.display.HTML object>"
      ]
     },
     "metadata": {},
     "output_type": "display_data"
    },
    {
     "name": "stdout",
     "output_type": "stream",
     "text": [
      "\n",
      " Setup WanDB for Layer 15\n"
     ]
    },
    {
     "data": {
      "text/html": [
       "Tracking run with wandb version 0.18.1"
      ],
      "text/plain": [
       "<IPython.core.display.HTML object>"
      ]
     },
     "metadata": {},
     "output_type": "display_data"
    },
    {
     "data": {
      "text/html": [
       "Run data is saved locally in <code>/home/ubuntu/thesis/sae/wandb/run-20250704_061620-f9ssa5mr</code>"
      ],
      "text/plain": [
       "<IPython.core.display.HTML object>"
      ]
     },
     "metadata": {},
     "output_type": "display_data"
    },
    {
     "data": {
      "text/html": [
       "Syncing run <strong><a href='https://wandb.ai/lenguyen/Probe_Training_2/runs/f9ssa5mr' target=\"_blank\">probe_layer_15</a></strong> to <a href='https://wandb.ai/lenguyen/Probe_Training_2' target=\"_blank\">Weights & Biases</a> (<a href='https://wandb.me/run' target=\"_blank\">docs</a>)<br/>"
      ],
      "text/plain": [
       "<IPython.core.display.HTML object>"
      ]
     },
     "metadata": {},
     "output_type": "display_data"
    },
    {
     "data": {
      "text/html": [
       " View project at <a href='https://wandb.ai/lenguyen/Probe_Training_2' target=\"_blank\">https://wandb.ai/lenguyen/Probe_Training_2</a>"
      ],
      "text/plain": [
       "<IPython.core.display.HTML object>"
      ]
     },
     "metadata": {},
     "output_type": "display_data"
    },
    {
     "data": {
      "text/html": [
       " View run at <a href='https://wandb.ai/lenguyen/Probe_Training_2/runs/f9ssa5mr' target=\"_blank\">https://wandb.ai/lenguyen/Probe_Training_2/runs/f9ssa5mr</a>"
      ],
      "text/plain": [
       "<IPython.core.display.HTML object>"
      ]
     },
     "metadata": {},
     "output_type": "display_data"
    },
    {
     "name": "stdout",
     "output_type": "stream",
     "text": [
      "\n",
      "----- Training Probe for Layer 15 -----\n"
     ]
    },
    {
     "data": {
      "application/vnd.jupyter.widget-view+json": {
       "model_id": "79dba6bc1ed64cb184e3ee59029f025f",
       "version_major": 2,
       "version_minor": 0
      },
      "text/plain": [
       "Training epoch:   0%|          | 0/100 [00:00<?, ?it/s]"
      ]
     },
     "metadata": {},
     "output_type": "display_data"
    },
    {
     "name": "stdout",
     "output_type": "stream",
     "text": [
      "  -> New best probe saved for layer 15 with AUC: 0.7542\n"
     ]
    },
    {
     "data": {
      "application/vnd.jupyter.widget-view+json": {
       "model_id": "83e8678c4517450b9434d955c1c7dd73",
       "version_major": 2,
       "version_minor": 0
      },
      "text/plain": [
       "VBox(children=(Label(value='0.007 MB of 0.007 MB uploaded\\r'), FloatProgress(value=1.0, max=1.0)))"
      ]
     },
     "metadata": {},
     "output_type": "display_data"
    },
    {
     "data": {
      "text/html": [
       "<style>\n",
       "    table.wandb td:nth-child(1) { padding: 0 10px; text-align: left ; width: auto;} td:nth-child(2) {text-align: left ; width: 100%}\n",
       "    .wandb-row { display: flex; flex-direction: row; flex-wrap: wrap; justify-content: flex-start; width: 100% }\n",
       "    .wandb-col { display: flex; flex-direction: column; flex-basis: 100%; flex: 1; padding: 10px; }\n",
       "    </style>\n",
       "<div class=\"wandb-row\"><div class=\"wandb-col\"><h3>Run history:</h3><br/><table class=\"wandb\"><tr><td>train_loss</td><td>█▆▅▄▃▁▁▁▂▁▂▂▂▁▂▂▂▂▂▁▁▂▁▁▂▂▂▂▁▁▂▂▁▂▂▁▂▂▁▂</td></tr><tr><td>val_f1</td><td>▁▁▆▇█▇▆█▆███▇▇▇▇▇▇▇▇▇▇▇▇▇▇▇▇▇▇▇▇▇▇▇▇▇▇▇▇</td></tr><tr><td>val_loss</td><td>▁▆▅▇▂██▇▇█▇▇▇▇▇▇▇▇▇▇▇▇▇▇▇▇▇▇▇▇▇▇▇▇▇▇▇▇▇▇</td></tr><tr><td>val_roc_auc</td><td>█▁▆▁▅▃▃▄▃▃▃▃▃▃▃▃▃▃▃▃▃▃▃▃▃▃▃▃▃▃▃▃▃▃▃▃▃▃▃▃</td></tr></table><br/></div><div class=\"wandb-col\"><h3>Run summary:</h3><br/><table class=\"wandb\"><tr><td>train_loss</td><td>0.27857</td></tr><tr><td>val_f1</td><td>0.75439</td></tr><tr><td>val_loss</td><td>0.72009</td></tr><tr><td>val_roc_auc</td><td>0.6596</td></tr></table><br/></div></div>"
      ],
      "text/plain": [
       "<IPython.core.display.HTML object>"
      ]
     },
     "metadata": {},
     "output_type": "display_data"
    },
    {
     "data": {
      "text/html": [
       " View run <strong style=\"color:#cdcd00\">probe_layer_15</strong> at: <a href='https://wandb.ai/lenguyen/Probe_Training_2/runs/f9ssa5mr' target=\"_blank\">https://wandb.ai/lenguyen/Probe_Training_2/runs/f9ssa5mr</a><br/> View project at: <a href='https://wandb.ai/lenguyen/Probe_Training_2' target=\"_blank\">https://wandb.ai/lenguyen/Probe_Training_2</a><br/>Synced 5 W&B file(s), 0 media file(s), 0 artifact file(s) and 0 other file(s)"
      ],
      "text/plain": [
       "<IPython.core.display.HTML object>"
      ]
     },
     "metadata": {},
     "output_type": "display_data"
    },
    {
     "data": {
      "text/html": [
       "Find logs at: <code>./wandb/run-20250704_061620-f9ssa5mr/logs</code>"
      ],
      "text/plain": [
       "<IPython.core.display.HTML object>"
      ]
     },
     "metadata": {},
     "output_type": "display_data"
    },
    {
     "name": "stdout",
     "output_type": "stream",
     "text": [
      "\n",
      " Setup WanDB for Layer 16\n"
     ]
    },
    {
     "data": {
      "text/html": [
       "Tracking run with wandb version 0.18.1"
      ],
      "text/plain": [
       "<IPython.core.display.HTML object>"
      ]
     },
     "metadata": {},
     "output_type": "display_data"
    },
    {
     "data": {
      "text/html": [
       "Run data is saved locally in <code>/home/ubuntu/thesis/sae/wandb/run-20250704_061629-acq83zr3</code>"
      ],
      "text/plain": [
       "<IPython.core.display.HTML object>"
      ]
     },
     "metadata": {},
     "output_type": "display_data"
    },
    {
     "data": {
      "text/html": [
       "Syncing run <strong><a href='https://wandb.ai/lenguyen/Probe_Training_2/runs/acq83zr3' target=\"_blank\">probe_layer_16</a></strong> to <a href='https://wandb.ai/lenguyen/Probe_Training_2' target=\"_blank\">Weights & Biases</a> (<a href='https://wandb.me/run' target=\"_blank\">docs</a>)<br/>"
      ],
      "text/plain": [
       "<IPython.core.display.HTML object>"
      ]
     },
     "metadata": {},
     "output_type": "display_data"
    },
    {
     "data": {
      "text/html": [
       " View project at <a href='https://wandb.ai/lenguyen/Probe_Training_2' target=\"_blank\">https://wandb.ai/lenguyen/Probe_Training_2</a>"
      ],
      "text/plain": [
       "<IPython.core.display.HTML object>"
      ]
     },
     "metadata": {},
     "output_type": "display_data"
    },
    {
     "data": {
      "text/html": [
       " View run at <a href='https://wandb.ai/lenguyen/Probe_Training_2/runs/acq83zr3' target=\"_blank\">https://wandb.ai/lenguyen/Probe_Training_2/runs/acq83zr3</a>"
      ],
      "text/plain": [
       "<IPython.core.display.HTML object>"
      ]
     },
     "metadata": {},
     "output_type": "display_data"
    },
    {
     "name": "stdout",
     "output_type": "stream",
     "text": [
      "\n",
      "----- Training Probe for Layer 16 -----\n"
     ]
    },
    {
     "data": {
      "application/vnd.jupyter.widget-view+json": {
       "model_id": "775d31e3124744c6987a7a27b3bf18a3",
       "version_major": 2,
       "version_minor": 0
      },
      "text/plain": [
       "Training epoch:   0%|          | 0/100 [00:00<?, ?it/s]"
      ]
     },
     "metadata": {},
     "output_type": "display_data"
    },
    {
     "name": "stdout",
     "output_type": "stream",
     "text": [
      "  -> New best probe saved for layer 16 with AUC: 0.7196\n"
     ]
    },
    {
     "data": {
      "application/vnd.jupyter.widget-view+json": {
       "model_id": "11339937a80f4aaaae48216f210c50a0",
       "version_major": 2,
       "version_minor": 0
      },
      "text/plain": [
       "VBox(children=(Label(value='0.007 MB of 0.007 MB uploaded\\r'), FloatProgress(value=1.0, max=1.0)))"
      ]
     },
     "metadata": {},
     "output_type": "display_data"
    },
    {
     "data": {
      "text/html": [
       "<style>\n",
       "    table.wandb td:nth-child(1) { padding: 0 10px; text-align: left ; width: auto;} td:nth-child(2) {text-align: left ; width: 100%}\n",
       "    .wandb-row { display: flex; flex-direction: row; flex-wrap: wrap; justify-content: flex-start; width: 100% }\n",
       "    .wandb-col { display: flex; flex-direction: column; flex-basis: 100%; flex: 1; padding: 10px; }\n",
       "    </style>\n",
       "<div class=\"wandb-row\"><div class=\"wandb-col\"><h3>Run history:</h3><br/><table class=\"wandb\"><tr><td>train_loss</td><td>█▄▄▃▃▂▂▂▁▁▁▁▁▁▁▁▁▁▁▁▂▁▁▁▁▁▂▁▁▁▁▁▁▁▁▁▁▁▁▁</td></tr><tr><td>val_f1</td><td>▁▁▆█▅▅▅▆▇▇▇▇▇▇▇▇▇▇▇▇▇▇▇▇▇▇▇▇▇▇▇▇▇▇▇▇▇▇▇▇</td></tr><tr><td>val_loss</td><td>█▄▂▁▄▃▄▅▅▅▄▄▄▄▄▄▄▄▄▄▄▄▄▄▄▄▄▄▄▄▄▄▄▄▄▄▄▄▄▄</td></tr><tr><td>val_roc_auc</td><td>▁█▄▃▇▅▅▆▄▄▄▄▅▅▅▅▅▅▅▅▅▅▅▅▅▅▅▅▅▅▅▅▅▅▅▅▅▅▅▅</td></tr></table><br/></div><div class=\"wandb-col\"><h3>Run summary:</h3><br/><table class=\"wandb\"><tr><td>train_loss</td><td>0.26714</td></tr><tr><td>val_f1</td><td>0.74607</td></tr><tr><td>val_loss</td><td>0.70887</td></tr><tr><td>val_roc_auc</td><td>0.67398</td></tr></table><br/></div></div>"
      ],
      "text/plain": [
       "<IPython.core.display.HTML object>"
      ]
     },
     "metadata": {},
     "output_type": "display_data"
    },
    {
     "data": {
      "text/html": [
       " View run <strong style=\"color:#cdcd00\">probe_layer_16</strong> at: <a href='https://wandb.ai/lenguyen/Probe_Training_2/runs/acq83zr3' target=\"_blank\">https://wandb.ai/lenguyen/Probe_Training_2/runs/acq83zr3</a><br/> View project at: <a href='https://wandb.ai/lenguyen/Probe_Training_2' target=\"_blank\">https://wandb.ai/lenguyen/Probe_Training_2</a><br/>Synced 5 W&B file(s), 0 media file(s), 0 artifact file(s) and 0 other file(s)"
      ],
      "text/plain": [
       "<IPython.core.display.HTML object>"
      ]
     },
     "metadata": {},
     "output_type": "display_data"
    },
    {
     "data": {
      "text/html": [
       "Find logs at: <code>./wandb/run-20250704_061629-acq83zr3/logs</code>"
      ],
      "text/plain": [
       "<IPython.core.display.HTML object>"
      ]
     },
     "metadata": {},
     "output_type": "display_data"
    },
    {
     "name": "stdout",
     "output_type": "stream",
     "text": [
      "\n",
      " Setup WanDB for Layer 17\n"
     ]
    },
    {
     "data": {
      "text/html": [
       "Tracking run with wandb version 0.18.1"
      ],
      "text/plain": [
       "<IPython.core.display.HTML object>"
      ]
     },
     "metadata": {},
     "output_type": "display_data"
    },
    {
     "data": {
      "text/html": [
       "Run data is saved locally in <code>/home/ubuntu/thesis/sae/wandb/run-20250704_061639-0cxenieh</code>"
      ],
      "text/plain": [
       "<IPython.core.display.HTML object>"
      ]
     },
     "metadata": {},
     "output_type": "display_data"
    },
    {
     "data": {
      "text/html": [
       "Syncing run <strong><a href='https://wandb.ai/lenguyen/Probe_Training_2/runs/0cxenieh' target=\"_blank\">probe_layer_17</a></strong> to <a href='https://wandb.ai/lenguyen/Probe_Training_2' target=\"_blank\">Weights & Biases</a> (<a href='https://wandb.me/run' target=\"_blank\">docs</a>)<br/>"
      ],
      "text/plain": [
       "<IPython.core.display.HTML object>"
      ]
     },
     "metadata": {},
     "output_type": "display_data"
    },
    {
     "data": {
      "text/html": [
       " View project at <a href='https://wandb.ai/lenguyen/Probe_Training_2' target=\"_blank\">https://wandb.ai/lenguyen/Probe_Training_2</a>"
      ],
      "text/plain": [
       "<IPython.core.display.HTML object>"
      ]
     },
     "metadata": {},
     "output_type": "display_data"
    },
    {
     "data": {
      "text/html": [
       " View run at <a href='https://wandb.ai/lenguyen/Probe_Training_2/runs/0cxenieh' target=\"_blank\">https://wandb.ai/lenguyen/Probe_Training_2/runs/0cxenieh</a>"
      ],
      "text/plain": [
       "<IPython.core.display.HTML object>"
      ]
     },
     "metadata": {},
     "output_type": "display_data"
    },
    {
     "name": "stdout",
     "output_type": "stream",
     "text": [
      "\n",
      "----- Training Probe for Layer 17 -----\n"
     ]
    },
    {
     "data": {
      "application/vnd.jupyter.widget-view+json": {
       "model_id": "3d07eb8f110a43b8b22dc1d41f797d57",
       "version_major": 2,
       "version_minor": 0
      },
      "text/plain": [
       "Training epoch:   0%|          | 0/100 [00:00<?, ?it/s]"
      ]
     },
     "metadata": {},
     "output_type": "display_data"
    },
    {
     "name": "stdout",
     "output_type": "stream",
     "text": [
      "  -> New best probe saved for layer 17 with AUC: 0.7222\n"
     ]
    },
    {
     "data": {
      "application/vnd.jupyter.widget-view+json": {
       "model_id": "cd51ba14294a400b9b0a12144457a26b",
       "version_major": 2,
       "version_minor": 0
      },
      "text/plain": [
       "VBox(children=(Label(value='0.007 MB of 0.007 MB uploaded\\r'), FloatProgress(value=1.0, max=1.0)))"
      ]
     },
     "metadata": {},
     "output_type": "display_data"
    },
    {
     "data": {
      "text/html": [
       "<style>\n",
       "    table.wandb td:nth-child(1) { padding: 0 10px; text-align: left ; width: auto;} td:nth-child(2) {text-align: left ; width: 100%}\n",
       "    .wandb-row { display: flex; flex-direction: row; flex-wrap: wrap; justify-content: flex-start; width: 100% }\n",
       "    .wandb-col { display: flex; flex-direction: column; flex-basis: 100%; flex: 1; padding: 10px; }\n",
       "    </style>\n",
       "<div class=\"wandb-row\"><div class=\"wandb-col\"><h3>Run history:</h3><br/><table class=\"wandb\"><tr><td>train_loss</td><td>█▂▃▃▂▁▂▁▂▁▂▂▁▂▁▂▂▁▁▁▁▂▁▁▁▁▂▂▁▁▁▂▁▂▁▁▁▁▁▁</td></tr><tr><td>val_f1</td><td>▄▁▅██▅▇▇▇▇▇▇▇▇▆▆▆▆▆▆▆▆▆▆▆▆▆▆▆▆▆▆▆▆▆▆▆▆▆▆</td></tr><tr><td>val_loss</td><td>▁▃▄▆█▅▄▄▄▄▄▄▄▄▄▄▄▄▄▄▄▄▄▄▄▄▄▄▄▄▄▄▄▄▄▄▄▄▄▄</td></tr><tr><td>val_roc_auc</td><td>▃▆██▁▄▄▅▄▄▄▄▄▄▄▄▄▄▄▄▄▄▄▄▄▄▄▄▄▄▄▄▄▄▄▄▄▄▄▄</td></tr></table><br/></div><div class=\"wandb-col\"><h3>Run summary:</h3><br/><table class=\"wandb\"><tr><td>train_loss</td><td>0.27872</td></tr><tr><td>val_f1</td><td>0.72646</td></tr><tr><td>val_loss</td><td>0.73755</td></tr><tr><td>val_roc_auc</td><td>0.65266</td></tr></table><br/></div></div>"
      ],
      "text/plain": [
       "<IPython.core.display.HTML object>"
      ]
     },
     "metadata": {},
     "output_type": "display_data"
    },
    {
     "data": {
      "text/html": [
       " View run <strong style=\"color:#cdcd00\">probe_layer_17</strong> at: <a href='https://wandb.ai/lenguyen/Probe_Training_2/runs/0cxenieh' target=\"_blank\">https://wandb.ai/lenguyen/Probe_Training_2/runs/0cxenieh</a><br/> View project at: <a href='https://wandb.ai/lenguyen/Probe_Training_2' target=\"_blank\">https://wandb.ai/lenguyen/Probe_Training_2</a><br/>Synced 5 W&B file(s), 0 media file(s), 0 artifact file(s) and 0 other file(s)"
      ],
      "text/plain": [
       "<IPython.core.display.HTML object>"
      ]
     },
     "metadata": {},
     "output_type": "display_data"
    },
    {
     "data": {
      "text/html": [
       "Find logs at: <code>./wandb/run-20250704_061639-0cxenieh/logs</code>"
      ],
      "text/plain": [
       "<IPython.core.display.HTML object>"
      ]
     },
     "metadata": {},
     "output_type": "display_data"
    },
    {
     "name": "stdout",
     "output_type": "stream",
     "text": [
      "\n",
      " Setup WanDB for Layer 18\n"
     ]
    },
    {
     "data": {
      "text/html": [
       "Tracking run with wandb version 0.18.1"
      ],
      "text/plain": [
       "<IPython.core.display.HTML object>"
      ]
     },
     "metadata": {},
     "output_type": "display_data"
    },
    {
     "data": {
      "text/html": [
       "Run data is saved locally in <code>/home/ubuntu/thesis/sae/wandb/run-20250704_061649-fbkf5idd</code>"
      ],
      "text/plain": [
       "<IPython.core.display.HTML object>"
      ]
     },
     "metadata": {},
     "output_type": "display_data"
    },
    {
     "data": {
      "text/html": [
       "Syncing run <strong><a href='https://wandb.ai/lenguyen/Probe_Training_2/runs/fbkf5idd' target=\"_blank\">probe_layer_18</a></strong> to <a href='https://wandb.ai/lenguyen/Probe_Training_2' target=\"_blank\">Weights & Biases</a> (<a href='https://wandb.me/run' target=\"_blank\">docs</a>)<br/>"
      ],
      "text/plain": [
       "<IPython.core.display.HTML object>"
      ]
     },
     "metadata": {},
     "output_type": "display_data"
    },
    {
     "data": {
      "text/html": [
       " View project at <a href='https://wandb.ai/lenguyen/Probe_Training_2' target=\"_blank\">https://wandb.ai/lenguyen/Probe_Training_2</a>"
      ],
      "text/plain": [
       "<IPython.core.display.HTML object>"
      ]
     },
     "metadata": {},
     "output_type": "display_data"
    },
    {
     "data": {
      "text/html": [
       " View run at <a href='https://wandb.ai/lenguyen/Probe_Training_2/runs/fbkf5idd' target=\"_blank\">https://wandb.ai/lenguyen/Probe_Training_2/runs/fbkf5idd</a>"
      ],
      "text/plain": [
       "<IPython.core.display.HTML object>"
      ]
     },
     "metadata": {},
     "output_type": "display_data"
    },
    {
     "name": "stdout",
     "output_type": "stream",
     "text": [
      "\n",
      "----- Training Probe for Layer 18 -----\n"
     ]
    },
    {
     "data": {
      "application/vnd.jupyter.widget-view+json": {
       "model_id": "a5380b1f7c0a46f7a822fcba97ef1330",
       "version_major": 2,
       "version_minor": 0
      },
      "text/plain": [
       "Training epoch:   0%|          | 0/100 [00:00<?, ?it/s]"
      ]
     },
     "metadata": {},
     "output_type": "display_data"
    },
    {
     "name": "stdout",
     "output_type": "stream",
     "text": [
      "  -> New best probe saved for layer 18 with AUC: 0.7029\n",
      "  -> New best probe saved for layer 18 with AUC: 0.7117\n",
      "  -> New best probe saved for layer 18 with AUC: 0.7169\n",
      "  -> New best probe saved for layer 18 with AUC: 0.7336\n",
      "  -> New best probe saved for layer 18 with AUC: 0.7351\n"
     ]
    },
    {
     "data": {
      "application/vnd.jupyter.widget-view+json": {
       "model_id": "d6437b2f66714ca286239184386bd994",
       "version_major": 2,
       "version_minor": 0
      },
      "text/plain": [
       "VBox(children=(Label(value='0.007 MB of 0.007 MB uploaded\\r'), FloatProgress(value=1.0, max=1.0)))"
      ]
     },
     "metadata": {},
     "output_type": "display_data"
    },
    {
     "data": {
      "text/html": [
       "<style>\n",
       "    table.wandb td:nth-child(1) { padding: 0 10px; text-align: left ; width: auto;} td:nth-child(2) {text-align: left ; width: 100%}\n",
       "    .wandb-row { display: flex; flex-direction: row; flex-wrap: wrap; justify-content: flex-start; width: 100% }\n",
       "    .wandb-col { display: flex; flex-direction: column; flex-basis: 100%; flex: 1; padding: 10px; }\n",
       "    </style>\n",
       "<div class=\"wandb-row\"><div class=\"wandb-col\"><h3>Run history:</h3><br/><table class=\"wandb\"><tr><td>train_loss</td><td>█▄▄▃▂▂▂▂▂▂▁▁▁▂▁▁▁▂▁▂▁▁▁▁▁▁▁▁▁▁▂▁▁▁▂▁▁▁▁▁</td></tr><tr><td>val_f1</td><td>▁▃▂▃▄▆▇▆▇▇▇▇████▇▇▇▇▇▇▇▇▇▇▇▇▇▇▇▇▇▇▇▇▇▇▇▇</td></tr><tr><td>val_loss</td><td>▅▂▄▂▁▆▅█▆▄▄▃▃▃▃▃▃▃▃▃▃▃▃▃▃▃▃▃▃▃▃▃▃▃▃▃▃▃▃▃</td></tr><tr><td>val_roc_auc</td><td>▅██▃█▁▄▃▂▃▃▃▂▃▃▃▃▃▃▃▃▃▃▃▃▃▃▃▃▃▃▃▃▃▃▃▃▃▃▃</td></tr></table><br/></div><div class=\"wandb-col\"><h3>Run summary:</h3><br/><table class=\"wandb\"><tr><td>train_loss</td><td>0.2357</td></tr><tr><td>val_f1</td><td>0.79657</td></tr><tr><td>val_loss</td><td>0.68477</td></tr><tr><td>val_roc_auc</td><td>0.69511</td></tr></table><br/></div></div>"
      ],
      "text/plain": [
       "<IPython.core.display.HTML object>"
      ]
     },
     "metadata": {},
     "output_type": "display_data"
    },
    {
     "data": {
      "text/html": [
       " View run <strong style=\"color:#cdcd00\">probe_layer_18</strong> at: <a href='https://wandb.ai/lenguyen/Probe_Training_2/runs/fbkf5idd' target=\"_blank\">https://wandb.ai/lenguyen/Probe_Training_2/runs/fbkf5idd</a><br/> View project at: <a href='https://wandb.ai/lenguyen/Probe_Training_2' target=\"_blank\">https://wandb.ai/lenguyen/Probe_Training_2</a><br/>Synced 5 W&B file(s), 0 media file(s), 0 artifact file(s) and 0 other file(s)"
      ],
      "text/plain": [
       "<IPython.core.display.HTML object>"
      ]
     },
     "metadata": {},
     "output_type": "display_data"
    },
    {
     "data": {
      "text/html": [
       "Find logs at: <code>./wandb/run-20250704_061649-fbkf5idd/logs</code>"
      ],
      "text/plain": [
       "<IPython.core.display.HTML object>"
      ]
     },
     "metadata": {},
     "output_type": "display_data"
    },
    {
     "name": "stdout",
     "output_type": "stream",
     "text": [
      "\n",
      " Setup WanDB for Layer 19\n"
     ]
    },
    {
     "data": {
      "text/html": [
       "Tracking run with wandb version 0.18.1"
      ],
      "text/plain": [
       "<IPython.core.display.HTML object>"
      ]
     },
     "metadata": {},
     "output_type": "display_data"
    },
    {
     "data": {
      "text/html": [
       "Run data is saved locally in <code>/home/ubuntu/thesis/sae/wandb/run-20250704_061659-6wffwov2</code>"
      ],
      "text/plain": [
       "<IPython.core.display.HTML object>"
      ]
     },
     "metadata": {},
     "output_type": "display_data"
    },
    {
     "data": {
      "text/html": [
       "Syncing run <strong><a href='https://wandb.ai/lenguyen/Probe_Training_2/runs/6wffwov2' target=\"_blank\">probe_layer_19</a></strong> to <a href='https://wandb.ai/lenguyen/Probe_Training_2' target=\"_blank\">Weights & Biases</a> (<a href='https://wandb.me/run' target=\"_blank\">docs</a>)<br/>"
      ],
      "text/plain": [
       "<IPython.core.display.HTML object>"
      ]
     },
     "metadata": {},
     "output_type": "display_data"
    },
    {
     "data": {
      "text/html": [
       " View project at <a href='https://wandb.ai/lenguyen/Probe_Training_2' target=\"_blank\">https://wandb.ai/lenguyen/Probe_Training_2</a>"
      ],
      "text/plain": [
       "<IPython.core.display.HTML object>"
      ]
     },
     "metadata": {},
     "output_type": "display_data"
    },
    {
     "data": {
      "text/html": [
       " View run at <a href='https://wandb.ai/lenguyen/Probe_Training_2/runs/6wffwov2' target=\"_blank\">https://wandb.ai/lenguyen/Probe_Training_2/runs/6wffwov2</a>"
      ],
      "text/plain": [
       "<IPython.core.display.HTML object>"
      ]
     },
     "metadata": {},
     "output_type": "display_data"
    },
    {
     "name": "stdout",
     "output_type": "stream",
     "text": [
      "\n",
      "----- Training Probe for Layer 19 -----\n"
     ]
    },
    {
     "data": {
      "application/vnd.jupyter.widget-view+json": {
       "model_id": "3664ed7027b94cfa8d9db219c3eea971",
       "version_major": 2,
       "version_minor": 0
      },
      "text/plain": [
       "Training epoch:   0%|          | 0/100 [00:00<?, ?it/s]"
      ]
     },
     "metadata": {},
     "output_type": "display_data"
    },
    {
     "name": "stdout",
     "output_type": "stream",
     "text": [
      "  -> New best probe saved for layer 19 with AUC: 0.6996\n",
      "  -> New best probe saved for layer 19 with AUC: 0.7224\n",
      "  -> New best probe saved for layer 19 with AUC: 0.7581\n"
     ]
    },
    {
     "data": {
      "application/vnd.jupyter.widget-view+json": {
       "model_id": "a8ca6939b49d412da5d77d721c5828a0",
       "version_major": 2,
       "version_minor": 0
      },
      "text/plain": [
       "VBox(children=(Label(value='0.007 MB of 0.007 MB uploaded\\r'), FloatProgress(value=1.0, max=1.0)))"
      ]
     },
     "metadata": {},
     "output_type": "display_data"
    },
    {
     "data": {
      "text/html": [
       "<style>\n",
       "    table.wandb td:nth-child(1) { padding: 0 10px; text-align: left ; width: auto;} td:nth-child(2) {text-align: left ; width: 100%}\n",
       "    .wandb-row { display: flex; flex-direction: row; flex-wrap: wrap; justify-content: flex-start; width: 100% }\n",
       "    .wandb-col { display: flex; flex-direction: column; flex-basis: 100%; flex: 1; padding: 10px; }\n",
       "    </style>\n",
       "<div class=\"wandb-row\"><div class=\"wandb-col\"><h3>Run history:</h3><br/><table class=\"wandb\"><tr><td>train_loss</td><td>█▅▅▄▃▃▂▁▂▂▁▁▁▁▁▁▁▁▁▁▂▁▂▂▁▁▂▁▁▂▁▁▁▁▁▁▁▁▁▂</td></tr><tr><td>val_f1</td><td>▁▅▆▇▇▇██▇▇▇▇▇▇▇▇▇▇▇▇▇▇▇▇▇▇▇▇▇▇▇▇▇▇▇▇▇▇▇▇</td></tr><tr><td>val_loss</td><td>▃▁▂█▄▃▁▂▂▂▂▂▂▂▂▂▂▂▂▂▂▂▂▂▂▂▂▂▂▂▂▂▂▂▂▂▂▂▂▂</td></tr><tr><td>val_roc_auc</td><td>▇▁▅▇▇█▄▇▆▇▆▆▆▆▆▆▆▆▆▆▆▆▆▆▆▆▆▆▆▆▆▆▆▆▆▆▆▆▆▆</td></tr></table><br/></div><div class=\"wandb-col\"><h3>Run summary:</h3><br/><table class=\"wandb\"><tr><td>train_loss</td><td>0.27175</td></tr><tr><td>val_f1</td><td>0.76211</td></tr><tr><td>val_loss</td><td>0.6793</td></tr><tr><td>val_roc_auc</td><td>0.69555</td></tr></table><br/></div></div>"
      ],
      "text/plain": [
       "<IPython.core.display.HTML object>"
      ]
     },
     "metadata": {},
     "output_type": "display_data"
    },
    {
     "data": {
      "text/html": [
       " View run <strong style=\"color:#cdcd00\">probe_layer_19</strong> at: <a href='https://wandb.ai/lenguyen/Probe_Training_2/runs/6wffwov2' target=\"_blank\">https://wandb.ai/lenguyen/Probe_Training_2/runs/6wffwov2</a><br/> View project at: <a href='https://wandb.ai/lenguyen/Probe_Training_2' target=\"_blank\">https://wandb.ai/lenguyen/Probe_Training_2</a><br/>Synced 5 W&B file(s), 0 media file(s), 0 artifact file(s) and 0 other file(s)"
      ],
      "text/plain": [
       "<IPython.core.display.HTML object>"
      ]
     },
     "metadata": {},
     "output_type": "display_data"
    },
    {
     "data": {
      "text/html": [
       "Find logs at: <code>./wandb/run-20250704_061659-6wffwov2/logs</code>"
      ],
      "text/plain": [
       "<IPython.core.display.HTML object>"
      ]
     },
     "metadata": {},
     "output_type": "display_data"
    },
    {
     "name": "stdout",
     "output_type": "stream",
     "text": [
      "\n",
      " Setup WanDB for Layer 20\n"
     ]
    },
    {
     "data": {
      "text/html": [
       "Tracking run with wandb version 0.18.1"
      ],
      "text/plain": [
       "<IPython.core.display.HTML object>"
      ]
     },
     "metadata": {},
     "output_type": "display_data"
    },
    {
     "data": {
      "text/html": [
       "Run data is saved locally in <code>/home/ubuntu/thesis/sae/wandb/run-20250704_061709-v9rvw70m</code>"
      ],
      "text/plain": [
       "<IPython.core.display.HTML object>"
      ]
     },
     "metadata": {},
     "output_type": "display_data"
    },
    {
     "data": {
      "text/html": [
       "Syncing run <strong><a href='https://wandb.ai/lenguyen/Probe_Training_2/runs/v9rvw70m' target=\"_blank\">probe_layer_20</a></strong> to <a href='https://wandb.ai/lenguyen/Probe_Training_2' target=\"_blank\">Weights & Biases</a> (<a href='https://wandb.me/run' target=\"_blank\">docs</a>)<br/>"
      ],
      "text/plain": [
       "<IPython.core.display.HTML object>"
      ]
     },
     "metadata": {},
     "output_type": "display_data"
    },
    {
     "data": {
      "text/html": [
       " View project at <a href='https://wandb.ai/lenguyen/Probe_Training_2' target=\"_blank\">https://wandb.ai/lenguyen/Probe_Training_2</a>"
      ],
      "text/plain": [
       "<IPython.core.display.HTML object>"
      ]
     },
     "metadata": {},
     "output_type": "display_data"
    },
    {
     "data": {
      "text/html": [
       " View run at <a href='https://wandb.ai/lenguyen/Probe_Training_2/runs/v9rvw70m' target=\"_blank\">https://wandb.ai/lenguyen/Probe_Training_2/runs/v9rvw70m</a>"
      ],
      "text/plain": [
       "<IPython.core.display.HTML object>"
      ]
     },
     "metadata": {},
     "output_type": "display_data"
    },
    {
     "name": "stdout",
     "output_type": "stream",
     "text": [
      "\n",
      "----- Training Probe for Layer 20 -----\n"
     ]
    },
    {
     "data": {
      "application/vnd.jupyter.widget-view+json": {
       "model_id": "dc721af5e8684613963770aa8f9f9a9f",
       "version_major": 2,
       "version_minor": 0
      },
      "text/plain": [
       "Training epoch:   0%|          | 0/100 [00:00<?, ?it/s]"
      ]
     },
     "metadata": {},
     "output_type": "display_data"
    },
    {
     "name": "stdout",
     "output_type": "stream",
     "text": [
      "  -> New best probe saved for layer 20 with AUC: 0.6894\n",
      "  -> New best probe saved for layer 20 with AUC: 0.7098\n",
      "  -> New best probe saved for layer 20 with AUC: 0.7468\n"
     ]
    },
    {
     "data": {
      "application/vnd.jupyter.widget-view+json": {
       "model_id": "35b01ea1d9ce436ab71df16fda3ed30e",
       "version_major": 2,
       "version_minor": 0
      },
      "text/plain": [
       "VBox(children=(Label(value='0.007 MB of 0.007 MB uploaded\\r'), FloatProgress(value=1.0, max=1.0)))"
      ]
     },
     "metadata": {},
     "output_type": "display_data"
    },
    {
     "data": {
      "text/html": [
       "<style>\n",
       "    table.wandb td:nth-child(1) { padding: 0 10px; text-align: left ; width: auto;} td:nth-child(2) {text-align: left ; width: 100%}\n",
       "    .wandb-row { display: flex; flex-direction: row; flex-wrap: wrap; justify-content: flex-start; width: 100% }\n",
       "    .wandb-col { display: flex; flex-direction: column; flex-basis: 100%; flex: 1; padding: 10px; }\n",
       "    </style>\n",
       "<div class=\"wandb-row\"><div class=\"wandb-col\"><h3>Run history:</h3><br/><table class=\"wandb\"><tr><td>train_loss</td><td>█▇▆▅▅▄▄▃▃▂▂▁▁▂▁▁▂▁▁▁▁▁▁▁▁▁▁▁▁▁▁▁▁▁▁▁▁▁▁▁</td></tr><tr><td>val_f1</td><td>▅▁▆▇▆▇█▇▆▆▇▇█▇▇▇▇▇▇▇▇▇▇▇▇▇▇▇▇▇▇▇▇▇▇▇▇▇▇▇</td></tr><tr><td>val_loss</td><td>▃█▂▂▁▄▃▃▃▄▃▃▂▂▂▃▃▂▂▂▂▂▂▂▂▂▃▃▃▃▃▃▃▃▃▃▃▃▃▃</td></tr><tr><td>val_roc_auc</td><td>▃▅▄▄▆▇█▁▄▃▃▃▃▃▃▃▃▃▃▃▃▃▃▃▃▃▃▃▃▃▃▃▃▃▃▃▃▃▃▃</td></tr></table><br/></div><div class=\"wandb-col\"><h3>Run summary:</h3><br/><table class=\"wandb\"><tr><td>train_loss</td><td>0.2298</td></tr><tr><td>val_f1</td><td>0.75771</td></tr><tr><td>val_loss</td><td>0.7005</td></tr><tr><td>val_roc_auc</td><td>0.68798</td></tr></table><br/></div></div>"
      ],
      "text/plain": [
       "<IPython.core.display.HTML object>"
      ]
     },
     "metadata": {},
     "output_type": "display_data"
    },
    {
     "data": {
      "text/html": [
       " View run <strong style=\"color:#cdcd00\">probe_layer_20</strong> at: <a href='https://wandb.ai/lenguyen/Probe_Training_2/runs/v9rvw70m' target=\"_blank\">https://wandb.ai/lenguyen/Probe_Training_2/runs/v9rvw70m</a><br/> View project at: <a href='https://wandb.ai/lenguyen/Probe_Training_2' target=\"_blank\">https://wandb.ai/lenguyen/Probe_Training_2</a><br/>Synced 5 W&B file(s), 0 media file(s), 0 artifact file(s) and 0 other file(s)"
      ],
      "text/plain": [
       "<IPython.core.display.HTML object>"
      ]
     },
     "metadata": {},
     "output_type": "display_data"
    },
    {
     "data": {
      "text/html": [
       "Find logs at: <code>./wandb/run-20250704_061709-v9rvw70m/logs</code>"
      ],
      "text/plain": [
       "<IPython.core.display.HTML object>"
      ]
     },
     "metadata": {},
     "output_type": "display_data"
    },
    {
     "name": "stdout",
     "output_type": "stream",
     "text": [
      "\n",
      " Setup WanDB for Layer 21\n"
     ]
    },
    {
     "data": {
      "text/html": [
       "Tracking run with wandb version 0.18.1"
      ],
      "text/plain": [
       "<IPython.core.display.HTML object>"
      ]
     },
     "metadata": {},
     "output_type": "display_data"
    },
    {
     "data": {
      "text/html": [
       "Run data is saved locally in <code>/home/ubuntu/thesis/sae/wandb/run-20250704_061719-1c1ptm1u</code>"
      ],
      "text/plain": [
       "<IPython.core.display.HTML object>"
      ]
     },
     "metadata": {},
     "output_type": "display_data"
    },
    {
     "data": {
      "text/html": [
       "Syncing run <strong><a href='https://wandb.ai/lenguyen/Probe_Training_2/runs/1c1ptm1u' target=\"_blank\">probe_layer_21</a></strong> to <a href='https://wandb.ai/lenguyen/Probe_Training_2' target=\"_blank\">Weights & Biases</a> (<a href='https://wandb.me/run' target=\"_blank\">docs</a>)<br/>"
      ],
      "text/plain": [
       "<IPython.core.display.HTML object>"
      ]
     },
     "metadata": {},
     "output_type": "display_data"
    },
    {
     "data": {
      "text/html": [
       " View project at <a href='https://wandb.ai/lenguyen/Probe_Training_2' target=\"_blank\">https://wandb.ai/lenguyen/Probe_Training_2</a>"
      ],
      "text/plain": [
       "<IPython.core.display.HTML object>"
      ]
     },
     "metadata": {},
     "output_type": "display_data"
    },
    {
     "data": {
      "text/html": [
       " View run at <a href='https://wandb.ai/lenguyen/Probe_Training_2/runs/1c1ptm1u' target=\"_blank\">https://wandb.ai/lenguyen/Probe_Training_2/runs/1c1ptm1u</a>"
      ],
      "text/plain": [
       "<IPython.core.display.HTML object>"
      ]
     },
     "metadata": {},
     "output_type": "display_data"
    },
    {
     "name": "stdout",
     "output_type": "stream",
     "text": [
      "\n",
      "----- Training Probe for Layer 21 -----\n"
     ]
    },
    {
     "data": {
      "application/vnd.jupyter.widget-view+json": {
       "model_id": "db976ae8dcee441cae28a5ff0aa93489",
       "version_major": 2,
       "version_minor": 0
      },
      "text/plain": [
       "Training epoch:   0%|          | 0/100 [00:00<?, ?it/s]"
      ]
     },
     "metadata": {},
     "output_type": "display_data"
    },
    {
     "name": "stdout",
     "output_type": "stream",
     "text": [
      "  -> New best probe saved for layer 21 with AUC: 0.7692\n",
      "  -> New best probe saved for layer 21 with AUC: 0.7767\n"
     ]
    },
    {
     "data": {
      "application/vnd.jupyter.widget-view+json": {
       "model_id": "8708372f2d604a3881f47fc56b93f50b",
       "version_major": 2,
       "version_minor": 0
      },
      "text/plain": [
       "VBox(children=(Label(value='0.007 MB of 0.007 MB uploaded\\r'), FloatProgress(value=1.0, max=1.0)))"
      ]
     },
     "metadata": {},
     "output_type": "display_data"
    },
    {
     "data": {
      "text/html": [
       "<style>\n",
       "    table.wandb td:nth-child(1) { padding: 0 10px; text-align: left ; width: auto;} td:nth-child(2) {text-align: left ; width: 100%}\n",
       "    .wandb-row { display: flex; flex-direction: row; flex-wrap: wrap; justify-content: flex-start; width: 100% }\n",
       "    .wandb-col { display: flex; flex-direction: column; flex-basis: 100%; flex: 1; padding: 10px; }\n",
       "    </style>\n",
       "<div class=\"wandb-row\"><div class=\"wandb-col\"><h3>Run history:</h3><br/><table class=\"wandb\"><tr><td>train_loss</td><td>█▆▅▅▃▂▁▂▁▂▂▁▁▂▁▁▂▁▁▁▂▁▁▁▂▁▂▂▁▁▁▁▁▁▁▁▂▁▁▂</td></tr><tr><td>val_f1</td><td>▅▇▄▆▁▇▆▇▇██▇▇▇▇▇▇▇▇▇▇▇▇▇▇▇▇▇▇▇▇▇▇▇▇▇▇▇▇▇</td></tr><tr><td>val_loss</td><td>▁▅▃▃▆█▅▄▄▄▄▄▄▄▄▄▄▄▄▄▄▄▄▄▄▄▄▄▄▄▄▄▄▄▄▄▄▄▄▄</td></tr><tr><td>val_roc_auc</td><td>█▃▁▅▅▁▂▂▂▂▂▂▂▂▂▂▂▂▂▂▂▂▂▂▂▂▂▂▂▂▂▂▂▂▂▂▂▂▂▂</td></tr></table><br/></div><div class=\"wandb-col\"><h3>Run summary:</h3><br/><table class=\"wandb\"><tr><td>train_loss</td><td>0.27993</td></tr><tr><td>val_f1</td><td>0.76652</td></tr><tr><td>val_loss</td><td>0.6792</td></tr><tr><td>val_roc_auc</td><td>0.69849</td></tr></table><br/></div></div>"
      ],
      "text/plain": [
       "<IPython.core.display.HTML object>"
      ]
     },
     "metadata": {},
     "output_type": "display_data"
    },
    {
     "data": {
      "text/html": [
       " View run <strong style=\"color:#cdcd00\">probe_layer_21</strong> at: <a href='https://wandb.ai/lenguyen/Probe_Training_2/runs/1c1ptm1u' target=\"_blank\">https://wandb.ai/lenguyen/Probe_Training_2/runs/1c1ptm1u</a><br/> View project at: <a href='https://wandb.ai/lenguyen/Probe_Training_2' target=\"_blank\">https://wandb.ai/lenguyen/Probe_Training_2</a><br/>Synced 5 W&B file(s), 0 media file(s), 0 artifact file(s) and 0 other file(s)"
      ],
      "text/plain": [
       "<IPython.core.display.HTML object>"
      ]
     },
     "metadata": {},
     "output_type": "display_data"
    },
    {
     "data": {
      "text/html": [
       "Find logs at: <code>./wandb/run-20250704_061719-1c1ptm1u/logs</code>"
      ],
      "text/plain": [
       "<IPython.core.display.HTML object>"
      ]
     },
     "metadata": {},
     "output_type": "display_data"
    },
    {
     "name": "stdout",
     "output_type": "stream",
     "text": [
      "\n",
      " Setup WanDB for Layer 22\n"
     ]
    },
    {
     "data": {
      "text/html": [
       "Tracking run with wandb version 0.18.1"
      ],
      "text/plain": [
       "<IPython.core.display.HTML object>"
      ]
     },
     "metadata": {},
     "output_type": "display_data"
    },
    {
     "data": {
      "text/html": [
       "Run data is saved locally in <code>/home/ubuntu/thesis/sae/wandb/run-20250704_061729-gduct4p5</code>"
      ],
      "text/plain": [
       "<IPython.core.display.HTML object>"
      ]
     },
     "metadata": {},
     "output_type": "display_data"
    },
    {
     "data": {
      "text/html": [
       "Syncing run <strong><a href='https://wandb.ai/lenguyen/Probe_Training_2/runs/gduct4p5' target=\"_blank\">probe_layer_22</a></strong> to <a href='https://wandb.ai/lenguyen/Probe_Training_2' target=\"_blank\">Weights & Biases</a> (<a href='https://wandb.me/run' target=\"_blank\">docs</a>)<br/>"
      ],
      "text/plain": [
       "<IPython.core.display.HTML object>"
      ]
     },
     "metadata": {},
     "output_type": "display_data"
    },
    {
     "data": {
      "text/html": [
       " View project at <a href='https://wandb.ai/lenguyen/Probe_Training_2' target=\"_blank\">https://wandb.ai/lenguyen/Probe_Training_2</a>"
      ],
      "text/plain": [
       "<IPython.core.display.HTML object>"
      ]
     },
     "metadata": {},
     "output_type": "display_data"
    },
    {
     "data": {
      "text/html": [
       " View run at <a href='https://wandb.ai/lenguyen/Probe_Training_2/runs/gduct4p5' target=\"_blank\">https://wandb.ai/lenguyen/Probe_Training_2/runs/gduct4p5</a>"
      ],
      "text/plain": [
       "<IPython.core.display.HTML object>"
      ]
     },
     "metadata": {},
     "output_type": "display_data"
    },
    {
     "name": "stdout",
     "output_type": "stream",
     "text": [
      "\n",
      "----- Training Probe for Layer 22 -----\n"
     ]
    },
    {
     "data": {
      "application/vnd.jupyter.widget-view+json": {
       "model_id": "b91b200c615844fe8298e2fdda1e6581",
       "version_major": 2,
       "version_minor": 0
      },
      "text/plain": [
       "Training epoch:   0%|          | 0/100 [00:00<?, ?it/s]"
      ]
     },
     "metadata": {},
     "output_type": "display_data"
    },
    {
     "name": "stdout",
     "output_type": "stream",
     "text": [
      "  -> New best probe saved for layer 22 with AUC: 0.7437\n"
     ]
    },
    {
     "data": {
      "application/vnd.jupyter.widget-view+json": {
       "model_id": "7ab7453339294bdc86ea449ca738ee51",
       "version_major": 2,
       "version_minor": 0
      },
      "text/plain": [
       "VBox(children=(Label(value='0.007 MB of 0.007 MB uploaded\\r'), FloatProgress(value=1.0, max=1.0)))"
      ]
     },
     "metadata": {},
     "output_type": "display_data"
    },
    {
     "data": {
      "text/html": [
       "<style>\n",
       "    table.wandb td:nth-child(1) { padding: 0 10px; text-align: left ; width: auto;} td:nth-child(2) {text-align: left ; width: 100%}\n",
       "    .wandb-row { display: flex; flex-direction: row; flex-wrap: wrap; justify-content: flex-start; width: 100% }\n",
       "    .wandb-col { display: flex; flex-direction: column; flex-basis: 100%; flex: 1; padding: 10px; }\n",
       "    </style>\n",
       "<div class=\"wandb-row\"><div class=\"wandb-col\"><h3>Run history:</h3><br/><table class=\"wandb\"><tr><td>train_loss</td><td>█▆▅▅▄▃▂▂▃▂▂▂▂▂▂▂▂▂▂▁▁▁▂▂▁▂▂▂▁▁▂▁▁▂▂▂▁▁▁▂</td></tr><tr><td>val_f1</td><td>▅▁▆▅█▇▆▇▇█▆▇▇▇▆▆▆▆▆▆▆▆▆▆▆▆▆▆▆▆▆▆▆▆▆▆▆▆▆▆</td></tr><tr><td>val_loss</td><td>▇▁█▇▅▄▄▂▁▃▁▁▂▂▂▂▂▂▂▂▂▂▂▂▂▂▂▂▂▂▂▂▂▂▂▂▂▂▂▂</td></tr><tr><td>val_roc_auc</td><td>▅▁▇█▄▄▃▄▂▆▄▄▄▄▄▄▄▄▄▄▄▄▄▄▄▄▄▄▄▄▄▄▄▄▄▄▄▄▄▄</td></tr></table><br/></div><div class=\"wandb-col\"><h3>Run summary:</h3><br/><table class=\"wandb\"><tr><td>train_loss</td><td>0.29324</td></tr><tr><td>val_f1</td><td>0.75488</td></tr><tr><td>val_loss</td><td>0.68543</td></tr><tr><td>val_roc_auc</td><td>0.67879</td></tr></table><br/></div></div>"
      ],
      "text/plain": [
       "<IPython.core.display.HTML object>"
      ]
     },
     "metadata": {},
     "output_type": "display_data"
    },
    {
     "data": {
      "text/html": [
       " View run <strong style=\"color:#cdcd00\">probe_layer_22</strong> at: <a href='https://wandb.ai/lenguyen/Probe_Training_2/runs/gduct4p5' target=\"_blank\">https://wandb.ai/lenguyen/Probe_Training_2/runs/gduct4p5</a><br/> View project at: <a href='https://wandb.ai/lenguyen/Probe_Training_2' target=\"_blank\">https://wandb.ai/lenguyen/Probe_Training_2</a><br/>Synced 5 W&B file(s), 0 media file(s), 0 artifact file(s) and 0 other file(s)"
      ],
      "text/plain": [
       "<IPython.core.display.HTML object>"
      ]
     },
     "metadata": {},
     "output_type": "display_data"
    },
    {
     "data": {
      "text/html": [
       "Find logs at: <code>./wandb/run-20250704_061729-gduct4p5/logs</code>"
      ],
      "text/plain": [
       "<IPython.core.display.HTML object>"
      ]
     },
     "metadata": {},
     "output_type": "display_data"
    },
    {
     "name": "stdout",
     "output_type": "stream",
     "text": [
      "\n",
      " Setup WanDB for Layer 23\n"
     ]
    },
    {
     "data": {
      "text/html": [
       "Tracking run with wandb version 0.18.1"
      ],
      "text/plain": [
       "<IPython.core.display.HTML object>"
      ]
     },
     "metadata": {},
     "output_type": "display_data"
    },
    {
     "data": {
      "text/html": [
       "Run data is saved locally in <code>/home/ubuntu/thesis/sae/wandb/run-20250704_061740-9gqvxd49</code>"
      ],
      "text/plain": [
       "<IPython.core.display.HTML object>"
      ]
     },
     "metadata": {},
     "output_type": "display_data"
    },
    {
     "data": {
      "text/html": [
       "Syncing run <strong><a href='https://wandb.ai/lenguyen/Probe_Training_2/runs/9gqvxd49' target=\"_blank\">probe_layer_23</a></strong> to <a href='https://wandb.ai/lenguyen/Probe_Training_2' target=\"_blank\">Weights & Biases</a> (<a href='https://wandb.me/run' target=\"_blank\">docs</a>)<br/>"
      ],
      "text/plain": [
       "<IPython.core.display.HTML object>"
      ]
     },
     "metadata": {},
     "output_type": "display_data"
    },
    {
     "data": {
      "text/html": [
       " View project at <a href='https://wandb.ai/lenguyen/Probe_Training_2' target=\"_blank\">https://wandb.ai/lenguyen/Probe_Training_2</a>"
      ],
      "text/plain": [
       "<IPython.core.display.HTML object>"
      ]
     },
     "metadata": {},
     "output_type": "display_data"
    },
    {
     "data": {
      "text/html": [
       " View run at <a href='https://wandb.ai/lenguyen/Probe_Training_2/runs/9gqvxd49' target=\"_blank\">https://wandb.ai/lenguyen/Probe_Training_2/runs/9gqvxd49</a>"
      ],
      "text/plain": [
       "<IPython.core.display.HTML object>"
      ]
     },
     "metadata": {},
     "output_type": "display_data"
    },
    {
     "name": "stdout",
     "output_type": "stream",
     "text": [
      "\n",
      "----- Training Probe for Layer 23 -----\n"
     ]
    },
    {
     "data": {
      "application/vnd.jupyter.widget-view+json": {
       "model_id": "3aa72776fca449758d7d741321161297",
       "version_major": 2,
       "version_minor": 0
      },
      "text/plain": [
       "Training epoch:   0%|          | 0/100 [00:00<?, ?it/s]"
      ]
     },
     "metadata": {},
     "output_type": "display_data"
    },
    {
     "name": "stdout",
     "output_type": "stream",
     "text": [
      "  -> New best probe saved for layer 23 with AUC: 0.7076\n",
      "  -> New best probe saved for layer 23 with AUC: 0.7231\n",
      "  -> New best probe saved for layer 23 with AUC: 0.7337\n"
     ]
    },
    {
     "data": {
      "application/vnd.jupyter.widget-view+json": {
       "model_id": "744a9ed4df94418e804851cb3f51c6da",
       "version_major": 2,
       "version_minor": 0
      },
      "text/plain": [
       "VBox(children=(Label(value='0.007 MB of 0.007 MB uploaded\\r'), FloatProgress(value=1.0, max=1.0)))"
      ]
     },
     "metadata": {},
     "output_type": "display_data"
    },
    {
     "data": {
      "text/html": [
       "<style>\n",
       "    table.wandb td:nth-child(1) { padding: 0 10px; text-align: left ; width: auto;} td:nth-child(2) {text-align: left ; width: 100%}\n",
       "    .wandb-row { display: flex; flex-direction: row; flex-wrap: wrap; justify-content: flex-start; width: 100% }\n",
       "    .wandb-col { display: flex; flex-direction: column; flex-basis: 100%; flex: 1; padding: 10px; }\n",
       "    </style>\n",
       "<div class=\"wandb-row\"><div class=\"wandb-col\"><h3>Run history:</h3><br/><table class=\"wandb\"><tr><td>train_loss</td><td>█▆▅▅▄▃▃▂▂▁▁▁▁▁▁▁▁▁▁▂▁▂▁▁▁▁▁▂▁▁▂▁▁▁▁▁▁▁▁▁</td></tr><tr><td>val_f1</td><td>▁▄▃▅▆▇▇▇▇▆█▇▇▇▇▇▇▇▇▇▇▇▇▇▇▇▇▇▇▇▇▇▇▇▇▇▇▇▇▇</td></tr><tr><td>val_loss</td><td>█▆▁▆▇▅▄▆▄▃▂▃▃▃▃▃▃▃▃▃▃▃▃▃▃▃▃▃▃▃▃▃▃▃▃▃▃▃▃▃</td></tr><tr><td>val_roc_auc</td><td>▇▅██▅▅▃▁▄▄▄▆▆▅▅▅▅▅▅▅▅▅▅▅▅▅▅▅▅▅▅▅▅▅▅▅▅▅▅▅</td></tr></table><br/></div><div class=\"wandb-col\"><h3>Run summary:</h3><br/><table class=\"wandb\"><tr><td>train_loss</td><td>0.19737</td></tr><tr><td>val_f1</td><td>0.78814</td></tr><tr><td>val_loss</td><td>0.69938</td></tr><tr><td>val_roc_auc</td><td>0.68986</td></tr></table><br/></div></div>"
      ],
      "text/plain": [
       "<IPython.core.display.HTML object>"
      ]
     },
     "metadata": {},
     "output_type": "display_data"
    },
    {
     "data": {
      "text/html": [
       " View run <strong style=\"color:#cdcd00\">probe_layer_23</strong> at: <a href='https://wandb.ai/lenguyen/Probe_Training_2/runs/9gqvxd49' target=\"_blank\">https://wandb.ai/lenguyen/Probe_Training_2/runs/9gqvxd49</a><br/> View project at: <a href='https://wandb.ai/lenguyen/Probe_Training_2' target=\"_blank\">https://wandb.ai/lenguyen/Probe_Training_2</a><br/>Synced 5 W&B file(s), 0 media file(s), 0 artifact file(s) and 0 other file(s)"
      ],
      "text/plain": [
       "<IPython.core.display.HTML object>"
      ]
     },
     "metadata": {},
     "output_type": "display_data"
    },
    {
     "data": {
      "text/html": [
       "Find logs at: <code>./wandb/run-20250704_061740-9gqvxd49/logs</code>"
      ],
      "text/plain": [
       "<IPython.core.display.HTML object>"
      ]
     },
     "metadata": {},
     "output_type": "display_data"
    },
    {
     "name": "stdout",
     "output_type": "stream",
     "text": [
      "\n",
      " Setup WanDB for Layer 24\n"
     ]
    },
    {
     "data": {
      "text/html": [
       "Tracking run with wandb version 0.18.1"
      ],
      "text/plain": [
       "<IPython.core.display.HTML object>"
      ]
     },
     "metadata": {},
     "output_type": "display_data"
    },
    {
     "data": {
      "text/html": [
       "Run data is saved locally in <code>/home/ubuntu/thesis/sae/wandb/run-20250704_061749-6wxkmaq9</code>"
      ],
      "text/plain": [
       "<IPython.core.display.HTML object>"
      ]
     },
     "metadata": {},
     "output_type": "display_data"
    },
    {
     "data": {
      "text/html": [
       "Syncing run <strong><a href='https://wandb.ai/lenguyen/Probe_Training_2/runs/6wxkmaq9' target=\"_blank\">probe_layer_24</a></strong> to <a href='https://wandb.ai/lenguyen/Probe_Training_2' target=\"_blank\">Weights & Biases</a> (<a href='https://wandb.me/run' target=\"_blank\">docs</a>)<br/>"
      ],
      "text/plain": [
       "<IPython.core.display.HTML object>"
      ]
     },
     "metadata": {},
     "output_type": "display_data"
    },
    {
     "data": {
      "text/html": [
       " View project at <a href='https://wandb.ai/lenguyen/Probe_Training_2' target=\"_blank\">https://wandb.ai/lenguyen/Probe_Training_2</a>"
      ],
      "text/plain": [
       "<IPython.core.display.HTML object>"
      ]
     },
     "metadata": {},
     "output_type": "display_data"
    },
    {
     "data": {
      "text/html": [
       " View run at <a href='https://wandb.ai/lenguyen/Probe_Training_2/runs/6wxkmaq9' target=\"_blank\">https://wandb.ai/lenguyen/Probe_Training_2/runs/6wxkmaq9</a>"
      ],
      "text/plain": [
       "<IPython.core.display.HTML object>"
      ]
     },
     "metadata": {},
     "output_type": "display_data"
    },
    {
     "name": "stdout",
     "output_type": "stream",
     "text": [
      "\n",
      "----- Training Probe for Layer 24 -----\n"
     ]
    },
    {
     "data": {
      "application/vnd.jupyter.widget-view+json": {
       "model_id": "af12f09e74e148d0b53b1c0a8de5b69b",
       "version_major": 2,
       "version_minor": 0
      },
      "text/plain": [
       "Training epoch:   0%|          | 0/100 [00:00<?, ?it/s]"
      ]
     },
     "metadata": {},
     "output_type": "display_data"
    },
    {
     "name": "stdout",
     "output_type": "stream",
     "text": [
      "  -> New best probe saved for layer 24 with AUC: 0.7034\n",
      "  -> New best probe saved for layer 24 with AUC: 0.7596\n"
     ]
    },
    {
     "data": {
      "application/vnd.jupyter.widget-view+json": {
       "model_id": "1bc873840b304c1c9b3feae743e811c1",
       "version_major": 2,
       "version_minor": 0
      },
      "text/plain": [
       "VBox(children=(Label(value='0.007 MB of 0.007 MB uploaded\\r'), FloatProgress(value=1.0, max=1.0)))"
      ]
     },
     "metadata": {},
     "output_type": "display_data"
    },
    {
     "data": {
      "text/html": [
       "<style>\n",
       "    table.wandb td:nth-child(1) { padding: 0 10px; text-align: left ; width: auto;} td:nth-child(2) {text-align: left ; width: 100%}\n",
       "    .wandb-row { display: flex; flex-direction: row; flex-wrap: wrap; justify-content: flex-start; width: 100% }\n",
       "    .wandb-col { display: flex; flex-direction: column; flex-basis: 100%; flex: 1; padding: 10px; }\n",
       "    </style>\n",
       "<div class=\"wandb-row\"><div class=\"wandb-col\"><h3>Run history:</h3><br/><table class=\"wandb\"><tr><td>train_loss</td><td>█▆▅▄▄▃▂▂▂▂▁▁▁▁▂▁▁▁▁▂▁▂▂▁▁▂▁▁▁▁▁▁▂▁▂▁▁▁▁▂</td></tr><tr><td>val_f1</td><td>▃▁▁▇▇▅█▇▆▇▇▇▆▇▇▆▆▆▆▆▆▆▆▆▆▆▆▆▆▆▆▆▆▆▆▆▆▆▆▆</td></tr><tr><td>val_loss</td><td>▄▁▃▂█▆▅▇▆█▆▆▇▆▆▆▆▆▆▆▆▆▆▆▆▆▆▆▆▆▆▆▆▆▆▆▆▆▆▆</td></tr><tr><td>val_roc_auc</td><td>█▄▄▃▂▁▂▂▂▂▂▂▂▁▂▂▁▁▁▁▁▁▁▁▁▁▁▁▁▁▁▁▁▁▁▁▁▁▁▁</td></tr></table><br/></div><div class=\"wandb-col\"><h3>Run summary:</h3><br/><table class=\"wandb\"><tr><td>train_loss</td><td>0.29806</td></tr><tr><td>val_f1</td><td>0.7689</td></tr><tr><td>val_loss</td><td>0.68464</td></tr><tr><td>val_roc_auc</td><td>0.68486</td></tr></table><br/></div></div>"
      ],
      "text/plain": [
       "<IPython.core.display.HTML object>"
      ]
     },
     "metadata": {},
     "output_type": "display_data"
    },
    {
     "data": {
      "text/html": [
       " View run <strong style=\"color:#cdcd00\">probe_layer_24</strong> at: <a href='https://wandb.ai/lenguyen/Probe_Training_2/runs/6wxkmaq9' target=\"_blank\">https://wandb.ai/lenguyen/Probe_Training_2/runs/6wxkmaq9</a><br/> View project at: <a href='https://wandb.ai/lenguyen/Probe_Training_2' target=\"_blank\">https://wandb.ai/lenguyen/Probe_Training_2</a><br/>Synced 5 W&B file(s), 0 media file(s), 0 artifact file(s) and 0 other file(s)"
      ],
      "text/plain": [
       "<IPython.core.display.HTML object>"
      ]
     },
     "metadata": {},
     "output_type": "display_data"
    },
    {
     "data": {
      "text/html": [
       "Find logs at: <code>./wandb/run-20250704_061749-6wxkmaq9/logs</code>"
      ],
      "text/plain": [
       "<IPython.core.display.HTML object>"
      ]
     },
     "metadata": {},
     "output_type": "display_data"
    },
    {
     "name": "stdout",
     "output_type": "stream",
     "text": [
      "\n",
      " Setup WanDB for Layer 25\n"
     ]
    },
    {
     "data": {
      "text/html": [
       "Tracking run with wandb version 0.18.1"
      ],
      "text/plain": [
       "<IPython.core.display.HTML object>"
      ]
     },
     "metadata": {},
     "output_type": "display_data"
    },
    {
     "data": {
      "text/html": [
       "Run data is saved locally in <code>/home/ubuntu/thesis/sae/wandb/run-20250704_061759-2al94426</code>"
      ],
      "text/plain": [
       "<IPython.core.display.HTML object>"
      ]
     },
     "metadata": {},
     "output_type": "display_data"
    },
    {
     "data": {
      "text/html": [
       "Syncing run <strong><a href='https://wandb.ai/lenguyen/Probe_Training_2/runs/2al94426' target=\"_blank\">probe_layer_25</a></strong> to <a href='https://wandb.ai/lenguyen/Probe_Training_2' target=\"_blank\">Weights & Biases</a> (<a href='https://wandb.me/run' target=\"_blank\">docs</a>)<br/>"
      ],
      "text/plain": [
       "<IPython.core.display.HTML object>"
      ]
     },
     "metadata": {},
     "output_type": "display_data"
    },
    {
     "data": {
      "text/html": [
       " View project at <a href='https://wandb.ai/lenguyen/Probe_Training_2' target=\"_blank\">https://wandb.ai/lenguyen/Probe_Training_2</a>"
      ],
      "text/plain": [
       "<IPython.core.display.HTML object>"
      ]
     },
     "metadata": {},
     "output_type": "display_data"
    },
    {
     "data": {
      "text/html": [
       " View run at <a href='https://wandb.ai/lenguyen/Probe_Training_2/runs/2al94426' target=\"_blank\">https://wandb.ai/lenguyen/Probe_Training_2/runs/2al94426</a>"
      ],
      "text/plain": [
       "<IPython.core.display.HTML object>"
      ]
     },
     "metadata": {},
     "output_type": "display_data"
    },
    {
     "name": "stdout",
     "output_type": "stream",
     "text": [
      "\n",
      "----- Training Probe for Layer 25 -----\n"
     ]
    },
    {
     "data": {
      "application/vnd.jupyter.widget-view+json": {
       "model_id": "1e99791d94cc4e4d939439dce9311c5a",
       "version_major": 2,
       "version_minor": 0
      },
      "text/plain": [
       "Training epoch:   0%|          | 0/100 [00:00<?, ?it/s]"
      ]
     },
     "metadata": {},
     "output_type": "display_data"
    },
    {
     "name": "stdout",
     "output_type": "stream",
     "text": [
      "  -> New best probe saved for layer 25 with AUC: 0.7509\n"
     ]
    },
    {
     "data": {
      "application/vnd.jupyter.widget-view+json": {
       "model_id": "6e48eca49d3c49d2929a7bc09b266762",
       "version_major": 2,
       "version_minor": 0
      },
      "text/plain": [
       "VBox(children=(Label(value='0.007 MB of 0.007 MB uploaded\\r'), FloatProgress(value=1.0, max=1.0)))"
      ]
     },
     "metadata": {},
     "output_type": "display_data"
    },
    {
     "data": {
      "text/html": [
       "<style>\n",
       "    table.wandb td:nth-child(1) { padding: 0 10px; text-align: left ; width: auto;} td:nth-child(2) {text-align: left ; width: 100%}\n",
       "    .wandb-row { display: flex; flex-direction: row; flex-wrap: wrap; justify-content: flex-start; width: 100% }\n",
       "    .wandb-col { display: flex; flex-direction: column; flex-basis: 100%; flex: 1; padding: 10px; }\n",
       "    </style>\n",
       "<div class=\"wandb-row\"><div class=\"wandb-col\"><h3>Run history:</h3><br/><table class=\"wandb\"><tr><td>train_loss</td><td>█▇▄▂▂▂▁▂▂▂▂▂▂▂▁▂▂▂▂▂▁▁▂▂▂▂▁▂▂▂▂▂▂▂▂▂▂▂▂▁</td></tr><tr><td>val_f1</td><td>▁▄▄▅▆▇▆▇▇▆▇█████████████████████████████</td></tr><tr><td>val_loss</td><td>▂▂▁█▇▇▇▅▄▄▄▄▂▂▂▂▂▂▂▂▂▂▂▂▂▂▂▂▂▂▂▂▂▂▂▂▂▂▂▂</td></tr><tr><td>val_roc_auc</td><td>█▅▂▅▁▄▄▃▃▄▃▄▄▄▄▄▄▄▄▄▄▄▄▄▄▄▄▄▄▄▄▄▄▄▄▄▄▄▄▄</td></tr></table><br/></div><div class=\"wandb-col\"><h3>Run summary:</h3><br/><table class=\"wandb\"><tr><td>train_loss</td><td>0.28803</td></tr><tr><td>val_f1</td><td>0.76549</td></tr><tr><td>val_loss</td><td>0.70982</td></tr><tr><td>val_roc_auc</td><td>0.69561</td></tr></table><br/></div></div>"
      ],
      "text/plain": [
       "<IPython.core.display.HTML object>"
      ]
     },
     "metadata": {},
     "output_type": "display_data"
    },
    {
     "data": {
      "text/html": [
       " View run <strong style=\"color:#cdcd00\">probe_layer_25</strong> at: <a href='https://wandb.ai/lenguyen/Probe_Training_2/runs/2al94426' target=\"_blank\">https://wandb.ai/lenguyen/Probe_Training_2/runs/2al94426</a><br/> View project at: <a href='https://wandb.ai/lenguyen/Probe_Training_2' target=\"_blank\">https://wandb.ai/lenguyen/Probe_Training_2</a><br/>Synced 5 W&B file(s), 0 media file(s), 0 artifact file(s) and 0 other file(s)"
      ],
      "text/plain": [
       "<IPython.core.display.HTML object>"
      ]
     },
     "metadata": {},
     "output_type": "display_data"
    },
    {
     "data": {
      "text/html": [
       "Find logs at: <code>./wandb/run-20250704_061759-2al94426/logs</code>"
      ],
      "text/plain": [
       "<IPython.core.display.HTML object>"
      ]
     },
     "metadata": {},
     "output_type": "display_data"
    }
   ],
   "source": [
    "# Training\n",
    "trainer.train()"
   ]
  },
  {
   "cell_type": "code",
   "execution_count": 5,
   "id": "4499cae4-33d5-4bbb-b68b-8cc8a68f5664",
   "metadata": {},
   "outputs": [
    {
     "name": "stdout",
     "output_type": "stream",
     "text": [
      "\n",
      "Evaluating best probe for layer 0 on test set...\n",
      "Test F1: 0.7061, Test AUC: 0.6642\n",
      "\n",
      "Evaluating best probe for layer 1 on test set...\n",
      "Test F1: 0.6752, Test AUC: 0.6040\n",
      "\n",
      "Evaluating best probe for layer 2 on test set...\n",
      "Test F1: 0.6816, Test AUC: 0.6332\n",
      "\n",
      "Evaluating best probe for layer 3 on test set...\n",
      "Test F1: 0.7190, Test AUC: 0.5849\n",
      "\n",
      "Evaluating best probe for layer 4 on test set...\n",
      "Test F1: 0.6976, Test AUC: 0.6289\n",
      "\n",
      "Evaluating best probe for layer 5 on test set...\n",
      "Test F1: 0.6629, Test AUC: 0.5923\n",
      "\n",
      "Evaluating best probe for layer 6 on test set...\n",
      "Test F1: 0.6778, Test AUC: 0.6012\n",
      "\n",
      "Evaluating best probe for layer 7 on test set...\n",
      "Test F1: 0.6287, Test AUC: 0.6092\n",
      "\n",
      "Evaluating best probe for layer 8 on test set...\n",
      "Test F1: 0.6628, Test AUC: 0.6876\n",
      "\n",
      "Evaluating best probe for layer 9 on test set...\n",
      "Test F1: 0.7034, Test AUC: 0.6970\n",
      "\n",
      "Evaluating best probe for layer 10 on test set...\n",
      "Test F1: 0.7010, Test AUC: 0.6936\n",
      "\n",
      "Evaluating best probe for layer 11 on test set...\n",
      "Test F1: 0.6275, Test AUC: 0.6163\n",
      "\n",
      "Evaluating best probe for layer 12 on test set...\n",
      "Test F1: 0.7249, Test AUC: 0.7084\n",
      "\n",
      "Evaluating best probe for layer 13 on test set...\n",
      "Test F1: 0.6755, Test AUC: 0.6490\n",
      "\n",
      "Evaluating best probe for layer 14 on test set...\n",
      "Test F1: 0.7246, Test AUC: 0.6509\n",
      "\n",
      "Evaluating best probe for layer 15 on test set...\n",
      "Test F1: 0.6692, Test AUC: 0.6433\n",
      "\n",
      "Evaluating best probe for layer 16 on test set...\n",
      "Test F1: 0.6770, Test AUC: 0.6529\n",
      "\n",
      "Evaluating best probe for layer 17 on test set...\n",
      "Test F1: 0.7172, Test AUC: 0.6836\n",
      "\n",
      "Evaluating best probe for layer 18 on test set...\n",
      "Test F1: 0.7329, Test AUC: 0.6855\n",
      "\n",
      "Evaluating best probe for layer 19 on test set...\n",
      "Test F1: 0.7172, Test AUC: 0.6952\n",
      "\n",
      "Evaluating best probe for layer 20 on test set...\n",
      "Test F1: 0.7211, Test AUC: 0.6458\n",
      "\n",
      "Evaluating best probe for layer 21 on test set...\n",
      "Test F1: 0.6731, Test AUC: 0.6559\n",
      "\n",
      "Evaluating best probe for layer 22 on test set...\n",
      "Test F1: 0.7289, Test AUC: 0.6184\n",
      "\n",
      "Evaluating best probe for layer 23 on test set...\n",
      "Test F1: 0.7186, Test AUC: 0.5961\n",
      "\n",
      "Evaluating best probe for layer 24 on test set...\n",
      "Test F1: 0.7232, Test AUC: 0.6804\n",
      "\n",
      "Evaluating best probe for layer 25 on test set...\n",
      "Test F1: 0.7263, Test AUC: 0.6854\n"
     ]
    }
   ],
   "source": [
    "# Evaluate on test set\n",
    "test_metrics = dict()\n",
    "criterion = nn.BCEWithLogitsLoss()\n",
    "\n",
    "for layer, probe in enumerate(trainer.probes.values()):\n",
    "    test_loader = trainer.test_loaders.get(layer)\n",
    "    if test_loader:\n",
    "        print(f\"\\nEvaluating best probe for layer {layer} on test set...\")\n",
    "        test_metrics[layer] = trainer.evaluate(\n",
    "            trainer.probes[layer], \n",
    "            test_loader,\n",
    "            criterion, \n",
    "        )\n",
    "        print(f\"Test F1: {test_metrics[layer]['f1']:.4f}, Test AUC: {test_metrics[layer]['roc_auc']:.4f}\")"
   ]
  },
  {
   "cell_type": "code",
   "execution_count": 6,
   "id": "4a361013-6379-4ac2-b22d-f8fdbab30e64",
   "metadata": {},
   "outputs": [],
   "source": [
    "best_layer = max(test_metrics.items(), key=lambda k: k[1][\"roc_auc\"])"
   ]
  },
  {
   "cell_type": "code",
   "execution_count": 35,
   "id": "7f71ee69",
   "metadata": {},
   "outputs": [],
   "source": [
    "from plotly.subplots import make_subplots\n",
    "from sklearn.metrics import precision_recall_curve, average_precision_score\n",
    "from sklearn.metrics import roc_curve\n",
    "\n",
    "def plot_roc_curve(labels, scores, artifact_dir, title=\"Probe Performance\"):\n",
    "    junk_scores = scores[labels == 1]\n",
    "    non_junk_scores = scores[labels == 0]\n",
    "\n",
    "    # Calculate ROC curve data\n",
    "    probabilities = np_sigmoid(scores)\n",
    "    fpr, tpr, _ = roc_curve(labels, probabilities)\n",
    "\n",
    "    fig = make_subplots(\n",
    "        rows=1,\n",
    "        cols=2,\n",
    "        subplot_titles=(\"(a) ROC Curve\", \"(b) Junk Detector Activation Distribution\"),\n",
    "    )\n",
    "    \n",
    "\n",
    "    # --- Plot 1: ROC Curve on a Log-Log Scale ---\n",
    "    fig.add_trace(\n",
    "        go.Scatter(\n",
    "            x=fpr,\n",
    "            y=tpr,\n",
    "            mode=\"lines\",\n",
    "            name=\"ROC Curve\",\n",
    "            line=dict(color=\"orange\", width=2),\n",
    "        ),\n",
    "        row=1,\n",
    "        col=1,\n",
    "    )\n",
    "\n",
    "    # Random curve\n",
    "    fig.add_shape(\n",
    "        type='line',\n",
    "        line=dict(color='grey', dash='dash'),\n",
    "        x0=0, x1=1, y0=0, y1=1,\n",
    "        row=1, col=1\n",
    "    )\n",
    "\n",
    "    # --- Plot 2: Overlaid Histograms ---\n",
    "    fig.add_trace(\n",
    "        go.Histogram(\n",
    "            x=non_junk_scores,\n",
    "            name=\"Non-Junk (Harmless)\",\n",
    "            marker_color=\"#3366CC\",\n",
    "            nbinsx=50,\n",
    "            opacity=0.7,\n",
    "        ),\n",
    "        row=1,\n",
    "        col=2,\n",
    "    )\n",
    "\n",
    "    fig.add_trace(\n",
    "        go.Histogram(\n",
    "            x=junk_scores,\n",
    "            name=\"Junk (Hazardous)\",\n",
    "            marker_color=\"#DC3912\",\n",
    "            nbinsx=50,\n",
    "            opacity=0.7,\n",
    "        ),\n",
    "        row=1,\n",
    "        col=2,\n",
    "    )\n",
    "\n",
    "    # --- Styling and Layout ---\n",
    "    # Update axes for ROC plot\n",
    "    fig.update_xaxes(title_text=\"False Positive Rate (FPR)\", row=1, col=1)\n",
    "    fig.update_yaxes(title_text=\"True Positive Rate (TPR)\", row=1, col=1)\n",
    "\n",
    "    # Update axes for Histogram plot\n",
    "    fig.update_xaxes(title_text=\"Detector Activation (Linear Score)\", row=1, col=2)\n",
    "    fig.update_yaxes(title_text=\"Count\", row=1, col=2)\n",
    "\n",
    "    # Update overall layout\n",
    "    fig.update_layout(\n",
    "        title_text=f\"<b>{title}</b>\",\n",
    "        title_x=0.5,\n",
    "        barmode=\"overlay\",  # This makes the histograms overlap\n",
    "        legend_title_text=\"Class\",\n",
    "    )\n",
    "\n",
    "    fig.update_traces(opacity=0.7, selector=dict(type='histogram'))\n",
    "\n",
    "    fig.show()\n",
    "\n",
    "    if artifact_dir is not None:\n",
    "        fig.write_image(artifact_dir, width=1000, height=500, format=\"pdf\")"
   ]
  },
  {
   "cell_type": "code",
   "execution_count": 37,
   "id": "dbcef4f9",
   "metadata": {},
   "outputs": [
    {
     "data": {
      "application/vnd.plotly.v1+json": {
       "config": {
        "plotlyServerURL": "https://plot.ly"
       },
       "data": [
        {
         "line": {
          "color": "orange",
          "width": 2
         },
         "mode": "lines",
         "name": "ROC Curve",
         "type": "scatter",
         "x": [
          0,
          0,
          0,
          0.013157894736842105,
          0.013157894736842105,
          0.02631578947368421,
          0.02631578947368421,
          0.039473684210526314,
          0.039473684210526314,
          0.05263157894736842,
          0.05263157894736842,
          0.06578947368421052,
          0.06578947368421052,
          0.07894736842105263,
          0.07894736842105263,
          0.09210526315789473,
          0.09210526315789473,
          0.10526315789473684,
          0.10526315789473684,
          0.11842105263157894,
          0.11842105263157894,
          0.13157894736842105,
          0.13157894736842105,
          0.14473684210526316,
          0.14473684210526316,
          0.15789473684210525,
          0.15789473684210525,
          0.17105263157894737,
          0.17105263157894737,
          0.18421052631578946,
          0.18421052631578946,
          0.19736842105263158,
          0.19736842105263158,
          0.21052631578947367,
          0.21052631578947367,
          0.2236842105263158,
          0.2236842105263158,
          0.23684210526315788,
          0.23684210526315788,
          0.25,
          0.25,
          0.2631578947368421,
          0.2631578947368421,
          0.27631578947368424,
          0.27631578947368424,
          0.2894736842105263,
          0.2894736842105263,
          0.3157894736842105,
          0.3157894736842105,
          0.32894736842105265,
          0.32894736842105265,
          0.35526315789473684,
          0.35526315789473684,
          0.3815789473684211,
          0.3815789473684211,
          0.39473684210526316,
          0.39473684210526316,
          0.42105263157894735,
          0.42105263157894735,
          0.4342105263157895,
          0.4342105263157895,
          0.4473684210526316,
          0.4473684210526316,
          0.47368421052631576,
          0.47368421052631576,
          0.5,
          0.5,
          0.5131578947368421,
          0.5131578947368421,
          0.5394736842105263,
          0.5394736842105263,
          0.5526315789473685,
          0.5526315789473685,
          0.5657894736842105,
          0.5657894736842105,
          0.5789473684210527,
          0.5789473684210527,
          0.5921052631578947,
          0.5921052631578947,
          0.618421052631579,
          0.618421052631579,
          0.6447368421052632,
          0.6447368421052632,
          0.6842105263157895,
          0.6842105263157895,
          0.6973684210526315,
          0.6973684210526315,
          0.7105263157894737,
          0.7105263157894737,
          0.7236842105263158,
          0.7236842105263158,
          0.7368421052631579,
          0.7368421052631579,
          0.75,
          0.75,
          0.7631578947368421,
          0.7631578947368421,
          0.7894736842105263,
          0.7894736842105263,
          0.8421052631578947,
          0.8421052631578947,
          0.8552631578947368,
          0.8552631578947368,
          0.868421052631579,
          0.868421052631579,
          0.9078947368421053,
          0.9078947368421053,
          0.9210526315789473,
          0.9210526315789473,
          0.9342105263157895,
          0.9342105263157895,
          0.9736842105263158,
          0.9736842105263158,
          1
         ],
         "xaxis": "x",
         "y": [
          0,
          0.0030864197530864196,
          0.006172839506172839,
          0.006172839506172839,
          0.037037037037037035,
          0.037037037037037035,
          0.09567901234567901,
          0.09567901234567901,
          0.12962962962962962,
          0.12962962962962962,
          0.17592592592592593,
          0.17592592592592593,
          0.1882716049382716,
          0.1882716049382716,
          0.22839506172839505,
          0.22839506172839505,
          0.36728395061728397,
          0.36728395061728397,
          0.38271604938271603,
          0.38271604938271603,
          0.404320987654321,
          0.404320987654321,
          0.4228395061728395,
          0.4228395061728395,
          0.42592592592592593,
          0.42592592592592593,
          0.4382716049382716,
          0.4382716049382716,
          0.5123456790123457,
          0.5123456790123457,
          0.5246913580246914,
          0.5246913580246914,
          0.5555555555555556,
          0.5555555555555556,
          0.5648148148148148,
          0.5648148148148148,
          0.5709876543209876,
          0.5709876543209876,
          0.5925925925925926,
          0.5925925925925926,
          0.6080246913580247,
          0.6080246913580247,
          0.6327160493827161,
          0.6327160493827161,
          0.6512345679012346,
          0.6512345679012346,
          0.6574074074074074,
          0.6574074074074074,
          0.6820987654320988,
          0.6820987654320988,
          0.6882716049382716,
          0.6882716049382716,
          0.6975308641975309,
          0.6975308641975309,
          0.7037037037037037,
          0.7037037037037037,
          0.7253086419753086,
          0.7253086419753086,
          0.7283950617283951,
          0.7283950617283951,
          0.7376543209876543,
          0.7376543209876543,
          0.7407407407407407,
          0.7407407407407407,
          0.75,
          0.75,
          0.7716049382716049,
          0.7716049382716049,
          0.7777777777777778,
          0.7777777777777778,
          0.7808641975308642,
          0.7808641975308642,
          0.7993827160493827,
          0.7993827160493827,
          0.8055555555555556,
          0.8055555555555556,
          0.8179012345679012,
          0.8179012345679012,
          0.8240740740740741,
          0.8240740740740741,
          0.8271604938271605,
          0.8271604938271605,
          0.8395061728395061,
          0.8395061728395061,
          0.8580246913580247,
          0.8580246913580247,
          0.8734567901234568,
          0.8734567901234568,
          0.8765432098765432,
          0.8765432098765432,
          0.8950617283950617,
          0.8950617283950617,
          0.8981481481481481,
          0.8981481481481481,
          0.9104938271604939,
          0.9104938271604939,
          0.9166666666666666,
          0.9166666666666666,
          0.9351851851851852,
          0.9351851851851852,
          0.9506172839506173,
          0.9506172839506173,
          0.9537037037037037,
          0.9537037037037037,
          0.9567901234567902,
          0.9567901234567902,
          0.9660493827160493,
          0.9660493827160493,
          0.9907407407407407,
          0.9907407407407407,
          0.9938271604938271,
          0.9938271604938271,
          1,
          1
         ],
         "yaxis": "y"
        },
        {
         "marker": {
          "color": "#3366CC"
         },
         "name": "Non-Junk (Harmless)",
         "nbinsx": 50,
         "opacity": 0.7,
         "type": "histogram",
         "x": [
          -1.5370111465454102,
          -0.42936521768569946,
          0.6069757342338562,
          -1.6886038780212402,
          -0.317879855632782,
          -1.8068432807922363,
          -2.140058994293213,
          -1.7594845294952393,
          -1.4147224426269531,
          -0.744113028049469,
          -0.855109691619873,
          0.1871422529220581,
          -0.9834083914756775,
          -0.1491297483444214,
          1.5403764247894287,
          -1.3073134422302246,
          -0.5805152058601379,
          -1.7936296463012695,
          -2.772761821746826,
          -0.5530741810798645,
          -0.38098573684692383,
          0.6141045093536377,
          2.4287467002868652,
          -1.1813104152679443,
          1.9630413055419922,
          1.2193145751953125,
          -2.7158939838409424,
          -1.514805555343628,
          0.6961681842803955,
          -0.596335232257843,
          0.3094557821750641,
          -2.049556255340576,
          -2.242058515548706,
          -0.3922642469406128,
          -1.1563303470611572,
          1.5906052589416504,
          -1.2298734188079834,
          -0.2858821451663971,
          -1.6548655033111572,
          -2.8670594692230225,
          -1.1862726211547852,
          0.27327775955200195,
          -1.2346107959747314,
          -1.0179221630096436,
          0.8065603375434875,
          0.05653727054595947,
          1.7741949558258057,
          -3.76066517829895,
          -0.3358404338359833,
          -0.5427297949790955,
          -1.6099648475646973,
          -2.1299283504486084,
          -1.1515731811523438,
          -0.11784470081329346,
          -0.19662553071975708,
          -1.2268881797790527,
          -0.9065815210342407,
          0.11470481753349304,
          -1.1483910083770752,
          -0.20129266381263733,
          0.10974949598312378,
          -2.9193809032440186,
          -1.8245620727539062,
          -0.5630801916122437,
          -2.034635305404663,
          0.5784487724304199,
          -0.6205398440361023,
          -1.3980510234832764,
          -0.5976739525794983,
          2.9696011543273926,
          -0.8308044075965881,
          -0.03316843509674072,
          -0.8902190327644348,
          0.7655448317527771,
          -4.177975177764893,
          -2.1485490798950195
         ],
         "xaxis": "x2",
         "yaxis": "y2"
        },
        {
         "marker": {
          "color": "#DC3912"
         },
         "name": "Junk (Hazardous)",
         "nbinsx": 50,
         "opacity": 0.7,
         "type": "histogram",
         "x": [
          -0.35043665766716003,
          2.1828927993774414,
          -0.10444782674312592,
          2.9020261764526367,
          0.18829137086868286,
          -2.1754727363586426,
          1.0740153789520264,
          1.951033592224121,
          -1.4451403617858887,
          0.6705480217933655,
          1.5580692291259766,
          1.9489209651947021,
          -0.22752061486244202,
          2.1418344974517822,
          -0.07900919020175934,
          -1.3978729248046875,
          1.2103667259216309,
          -0.9393242001533508,
          1.2284600734710693,
          0.30699822306632996,
          0.7593727111816406,
          1.132673978805542,
          0.6519307494163513,
          -0.5264456868171692,
          1.9473609924316406,
          1.2027442455291748,
          0.08164292573928833,
          0.9183019995689392,
          -3.1941568851470947,
          0.5950542092323303,
          0.3733474612236023,
          1.1163709163665771,
          2.372666358947754,
          -0.6195462346076965,
          0.8212600946426392,
          0.6924338936805725,
          -0.4328431487083435,
          0.4245227873325348,
          -0.13892626762390137,
          1.7299120426177979,
          0.20378166437149048,
          -0.5751236081123352,
          1.0962538719177246,
          -1.2067456245422363,
          0.916898787021637,
          -0.2647649049758911,
          -0.8495568037033081,
          2.653059959411621,
          0.09793993830680847,
          -1.7056539058685303,
          -0.7879074811935425,
          -1.3368570804595947,
          1.596160650253296,
          -1.2421765327453613,
          1.4868342876434326,
          0.49855074286460876,
          0.14918777346611023,
          0.4177831709384918,
          2.472620725631714,
          -1.4070007801055908,
          1.641979455947876,
          0.0825883150100708,
          1.3232862949371338,
          0.8985753655433655,
          1.632277011871338,
          0.7342683672904968,
          0.33248504996299744,
          1.6317572593688965,
          -0.7481318712234497,
          3.269106388092041,
          0.5171787142753601,
          -1.2653803825378418,
          0.26035237312316895,
          0.7770772576332092,
          0.9876208901405334,
          1.4464116096496582,
          -0.7884238362312317,
          -1.8562393188476562,
          2.1463093757629395,
          -1.2698497772216797,
          1.0546362400054932,
          1.6705188751220703,
          0.8564898371696472,
          -0.5356664657592773,
          0.933982789516449,
          1.0510141849517822,
          -0.4427559971809387,
          0.42792418599128723,
          1.1576504707336426,
          -0.36537694931030273,
          2.376228094100952,
          -1.5557520389556885,
          0.8261675238609314,
          0.612388014793396,
          0.7633561491966248,
          0.8686425685882568,
          -2.3707897663116455,
          1.2620806694030762,
          1.6960594654083252,
          -1.7138221263885498,
          -2.366255521774292,
          -0.11127068102359772,
          0.6176933646202087,
          0.8056257963180542,
          2.1294493675231934,
          1.333052635192871,
          -0.27970582246780396,
          -0.1454976201057434,
          -0.12238094210624695,
          0.709588348865509,
          0.8130863904953003,
          -0.20430484414100647,
          -1.9277024269104004,
          -1.1484405994415283,
          -0.8314245343208313,
          -0.9038257598876953,
          -0.7640725374221802,
          0.5954943895339966,
          -1.0453343391418457,
          0.9212930202484131,
          1.9153656959533691,
          -0.5840761661529541,
          1.567305088043213,
          0.5735639333724976,
          0.04536628723144531,
          1.3841583728790283,
          1.607388973236084,
          0.3938632905483246,
          3.382322072982788,
          1.45377516746521,
          2.1862823963165283,
          -2.3026816844940186,
          0.6039761304855347,
          -0.7761642336845398,
          0.2697296440601349,
          1.0751936435699463,
          1.7032382488250732,
          -0.9440547823905945,
          -0.08848913013935089,
          0.19912508130073547,
          -0.18378594517707825,
          1.584768533706665,
          -0.5540675520896912,
          -0.06121826171875,
          -1.0713918209075928,
          1.1867258548736572,
          -0.13780006766319275,
          -0.26661217212677,
          2.010951042175293,
          -0.5222529768943787,
          -0.00875285267829895,
          1.8664851188659668,
          1.6803088188171387,
          1.1913743019104004,
          -0.1491236835718155,
          0.5576194524765015,
          0.12813735008239746,
          0.29780077934265137,
          1.9644184112548828,
          0.69207364320755,
          -1.8795514106750488,
          1.3870913982391357,
          0.3121492266654968,
          0.4026676416397095,
          1.4100754261016846,
          2.3443007469177246,
          1.8708837032318115,
          2.421638011932373,
          0.7760512232780457,
          -0.08427223563194275,
          0.10535389184951782,
          0.6492339968681335,
          2.063695192337036,
          2.0442934036254883,
          -0.014744609594345093,
          0.8106368184089661,
          -1.469865322113037,
          0.9767714142799377,
          0.9596342444419861,
          0.883648693561554,
          -0.4859008193016052,
          -1.647049903869629,
          1.1312601566314697,
          0.11081153154373169,
          -1.740725040435791,
          0.7044229507446289,
          1.699641227722168,
          0.7913767099380493,
          0.38561391830444336,
          2.911175489425659,
          0.9165095686912537,
          -1.5441575050354004,
          0.4651229977607727,
          0.4720265865325928,
          -1.5502612590789795,
          -0.15404033660888672,
          -0.7798277735710144,
          0.21534574031829834,
          -2.5234615802764893,
          -0.9843950867652893,
          2.0011303424835205,
          1.6436445713043213,
          -1.7356758117675781,
          0.25786352157592773,
          -2.3336164951324463,
          2.2224292755126953,
          -2.362036943435669,
          1.0514657497406006,
          1.7743256092071533,
          2.107668876647949,
          -1.5150527954101562,
          -2.3755712509155273,
          -2.7381656169891357,
          -1.1493003368377686,
          -0.5660600662231445,
          1.8287949562072754,
          0.8444599509239197,
          -0.11332672834396362,
          -0.30494195222854614,
          -0.11991330981254578,
          -2.353797197341919,
          -2.1978936195373535,
          0.9837876558303833,
          2.499656915664673,
          -1.4425666332244873,
          0.17773568630218506,
          1.0851434469223022,
          0.48541736602783203,
          -2.163038492202759,
          0.0781870037317276,
          -1.7531368732452393,
          1.1831300258636475,
          1.0651452541351318,
          0.5534253120422363,
          -0.9124138355255127,
          2.503885269165039,
          1.647343397140503,
          2.741205930709839,
          -2.0614726543426514,
          -1.5937230587005615,
          0.8150472044944763,
          -1.4419586658477783,
          -0.9159643054008484,
          1.1092276573181152,
          0.06619195640087128,
          -1.0276360511779785,
          1.0562868118286133,
          -1.4681355953216553,
          0.3715580701828003,
          -2.0481810569763184,
          0.87546306848526,
          -0.6152892708778381,
          -1.2223079204559326,
          0.1103985458612442,
          -1.2854197025299072,
          1.6316499710083008,
          1.6215617656707764,
          0.7410964965820312,
          -0.26929011940956116,
          0.583415150642395,
          0.30257850885391235,
          2.343351125717163,
          0.7924941182136536,
          0.3447708487510681,
          0.44622957706451416,
          2.7084832191467285,
          -1.3509063720703125,
          -0.5662344098091125,
          -1.3424785137176514,
          -0.9603288769721985,
          -0.2589608132839203,
          -1.2076051235198975,
          0.8924816250801086,
          1.375150442123413,
          0.7306362986564636,
          -1.316875696182251,
          -1.6136963367462158,
          -0.9167339205741882,
          0.30636531114578247,
          1.8529138565063477,
          -0.4226340055465698,
          -1.1574490070343018,
          0.2571093440055847,
          0.23240679502487183,
          -1.2026784420013428,
          -0.2808572053909302,
          -1.705681324005127,
          -1.2890989780426025,
          1.5584163665771484,
          0.014170557260513306,
          -0.06902605295181274,
          1.2155709266662598,
          1.2638969421386719,
          1.8308324813842773,
          1.7854430675506592,
          -1.9549949169158936,
          1.168837547302246,
          -0.8261640667915344,
          -0.9864271283149719,
          -1.2439486980438232,
          -3.1446352005004883,
          -1.8809888362884521,
          -0.3777461647987366,
          -1.1017229557037354,
          1.0009572505950928,
          2.4602253437042236,
          -0.2990116477012634,
          0.5484184622764587,
          -0.45638710260391235,
          2.2521889209747314,
          1.3409919738769531,
          -0.41799354553222656,
          1.1108684539794922,
          0.03712795674800873,
          0.4931853413581848,
          0.3506482243537903,
          0.237796351313591,
          2.6474709510803223,
          0.08380043506622314,
          0.8100622296333313,
          -1.4761645793914795,
          -0.6010867357254028,
          0.49018561840057373,
          1.9708285331726074
         ],
         "xaxis": "x2",
         "yaxis": "y2"
        }
       ],
       "layout": {
        "annotations": [
         {
          "font": {
           "size": 16
          },
          "showarrow": false,
          "text": "(a) ROC Curve",
          "x": 0.225,
          "xanchor": "center",
          "xref": "paper",
          "y": 1,
          "yanchor": "bottom",
          "yref": "paper"
         },
         {
          "font": {
           "size": 16
          },
          "showarrow": false,
          "text": "(b) Junk Detector Activation Distribution",
          "x": 0.775,
          "xanchor": "center",
          "xref": "paper",
          "y": 1,
          "yanchor": "bottom",
          "yref": "paper"
         }
        ],
        "barmode": "overlay",
        "legend": {
         "title": {
          "text": "Class"
         }
        },
        "shapes": [
         {
          "line": {
           "color": "grey",
           "dash": "dash"
          },
          "type": "line",
          "x0": 0,
          "x1": 1,
          "xref": "x",
          "y0": 0,
          "y1": 1,
          "yref": "y"
         }
        ],
        "template": {
         "data": {
          "bar": [
           {
            "error_x": {
             "color": "#2a3f5f"
            },
            "error_y": {
             "color": "#2a3f5f"
            },
            "marker": {
             "line": {
              "color": "#E5ECF6",
              "width": 0.5
             },
             "pattern": {
              "fillmode": "overlay",
              "size": 10,
              "solidity": 0.2
             }
            },
            "type": "bar"
           }
          ],
          "barpolar": [
           {
            "marker": {
             "line": {
              "color": "#E5ECF6",
              "width": 0.5
             },
             "pattern": {
              "fillmode": "overlay",
              "size": 10,
              "solidity": 0.2
             }
            },
            "type": "barpolar"
           }
          ],
          "carpet": [
           {
            "aaxis": {
             "endlinecolor": "#2a3f5f",
             "gridcolor": "white",
             "linecolor": "white",
             "minorgridcolor": "white",
             "startlinecolor": "#2a3f5f"
            },
            "baxis": {
             "endlinecolor": "#2a3f5f",
             "gridcolor": "white",
             "linecolor": "white",
             "minorgridcolor": "white",
             "startlinecolor": "#2a3f5f"
            },
            "type": "carpet"
           }
          ],
          "choropleth": [
           {
            "colorbar": {
             "outlinewidth": 0,
             "ticks": ""
            },
            "type": "choropleth"
           }
          ],
          "contour": [
           {
            "colorbar": {
             "outlinewidth": 0,
             "ticks": ""
            },
            "colorscale": [
             [
              0,
              "#0d0887"
             ],
             [
              0.1111111111111111,
              "#46039f"
             ],
             [
              0.2222222222222222,
              "#7201a8"
             ],
             [
              0.3333333333333333,
              "#9c179e"
             ],
             [
              0.4444444444444444,
              "#bd3786"
             ],
             [
              0.5555555555555556,
              "#d8576b"
             ],
             [
              0.6666666666666666,
              "#ed7953"
             ],
             [
              0.7777777777777778,
              "#fb9f3a"
             ],
             [
              0.8888888888888888,
              "#fdca26"
             ],
             [
              1,
              "#f0f921"
             ]
            ],
            "type": "contour"
           }
          ],
          "contourcarpet": [
           {
            "colorbar": {
             "outlinewidth": 0,
             "ticks": ""
            },
            "type": "contourcarpet"
           }
          ],
          "heatmap": [
           {
            "colorbar": {
             "outlinewidth": 0,
             "ticks": ""
            },
            "colorscale": [
             [
              0,
              "#0d0887"
             ],
             [
              0.1111111111111111,
              "#46039f"
             ],
             [
              0.2222222222222222,
              "#7201a8"
             ],
             [
              0.3333333333333333,
              "#9c179e"
             ],
             [
              0.4444444444444444,
              "#bd3786"
             ],
             [
              0.5555555555555556,
              "#d8576b"
             ],
             [
              0.6666666666666666,
              "#ed7953"
             ],
             [
              0.7777777777777778,
              "#fb9f3a"
             ],
             [
              0.8888888888888888,
              "#fdca26"
             ],
             [
              1,
              "#f0f921"
             ]
            ],
            "type": "heatmap"
           }
          ],
          "heatmapgl": [
           {
            "colorbar": {
             "outlinewidth": 0,
             "ticks": ""
            },
            "colorscale": [
             [
              0,
              "#0d0887"
             ],
             [
              0.1111111111111111,
              "#46039f"
             ],
             [
              0.2222222222222222,
              "#7201a8"
             ],
             [
              0.3333333333333333,
              "#9c179e"
             ],
             [
              0.4444444444444444,
              "#bd3786"
             ],
             [
              0.5555555555555556,
              "#d8576b"
             ],
             [
              0.6666666666666666,
              "#ed7953"
             ],
             [
              0.7777777777777778,
              "#fb9f3a"
             ],
             [
              0.8888888888888888,
              "#fdca26"
             ],
             [
              1,
              "#f0f921"
             ]
            ],
            "type": "heatmapgl"
           }
          ],
          "histogram": [
           {
            "marker": {
             "pattern": {
              "fillmode": "overlay",
              "size": 10,
              "solidity": 0.2
             }
            },
            "type": "histogram"
           }
          ],
          "histogram2d": [
           {
            "colorbar": {
             "outlinewidth": 0,
             "ticks": ""
            },
            "colorscale": [
             [
              0,
              "#0d0887"
             ],
             [
              0.1111111111111111,
              "#46039f"
             ],
             [
              0.2222222222222222,
              "#7201a8"
             ],
             [
              0.3333333333333333,
              "#9c179e"
             ],
             [
              0.4444444444444444,
              "#bd3786"
             ],
             [
              0.5555555555555556,
              "#d8576b"
             ],
             [
              0.6666666666666666,
              "#ed7953"
             ],
             [
              0.7777777777777778,
              "#fb9f3a"
             ],
             [
              0.8888888888888888,
              "#fdca26"
             ],
             [
              1,
              "#f0f921"
             ]
            ],
            "type": "histogram2d"
           }
          ],
          "histogram2dcontour": [
           {
            "colorbar": {
             "outlinewidth": 0,
             "ticks": ""
            },
            "colorscale": [
             [
              0,
              "#0d0887"
             ],
             [
              0.1111111111111111,
              "#46039f"
             ],
             [
              0.2222222222222222,
              "#7201a8"
             ],
             [
              0.3333333333333333,
              "#9c179e"
             ],
             [
              0.4444444444444444,
              "#bd3786"
             ],
             [
              0.5555555555555556,
              "#d8576b"
             ],
             [
              0.6666666666666666,
              "#ed7953"
             ],
             [
              0.7777777777777778,
              "#fb9f3a"
             ],
             [
              0.8888888888888888,
              "#fdca26"
             ],
             [
              1,
              "#f0f921"
             ]
            ],
            "type": "histogram2dcontour"
           }
          ],
          "mesh3d": [
           {
            "colorbar": {
             "outlinewidth": 0,
             "ticks": ""
            },
            "type": "mesh3d"
           }
          ],
          "parcoords": [
           {
            "line": {
             "colorbar": {
              "outlinewidth": 0,
              "ticks": ""
             }
            },
            "type": "parcoords"
           }
          ],
          "pie": [
           {
            "automargin": true,
            "type": "pie"
           }
          ],
          "scatter": [
           {
            "fillpattern": {
             "fillmode": "overlay",
             "size": 10,
             "solidity": 0.2
            },
            "type": "scatter"
           }
          ],
          "scatter3d": [
           {
            "line": {
             "colorbar": {
              "outlinewidth": 0,
              "ticks": ""
             }
            },
            "marker": {
             "colorbar": {
              "outlinewidth": 0,
              "ticks": ""
             }
            },
            "type": "scatter3d"
           }
          ],
          "scattercarpet": [
           {
            "marker": {
             "colorbar": {
              "outlinewidth": 0,
              "ticks": ""
             }
            },
            "type": "scattercarpet"
           }
          ],
          "scattergeo": [
           {
            "marker": {
             "colorbar": {
              "outlinewidth": 0,
              "ticks": ""
             }
            },
            "type": "scattergeo"
           }
          ],
          "scattergl": [
           {
            "marker": {
             "colorbar": {
              "outlinewidth": 0,
              "ticks": ""
             }
            },
            "type": "scattergl"
           }
          ],
          "scattermapbox": [
           {
            "marker": {
             "colorbar": {
              "outlinewidth": 0,
              "ticks": ""
             }
            },
            "type": "scattermapbox"
           }
          ],
          "scatterpolar": [
           {
            "marker": {
             "colorbar": {
              "outlinewidth": 0,
              "ticks": ""
             }
            },
            "type": "scatterpolar"
           }
          ],
          "scatterpolargl": [
           {
            "marker": {
             "colorbar": {
              "outlinewidth": 0,
              "ticks": ""
             }
            },
            "type": "scatterpolargl"
           }
          ],
          "scatterternary": [
           {
            "marker": {
             "colorbar": {
              "outlinewidth": 0,
              "ticks": ""
             }
            },
            "type": "scatterternary"
           }
          ],
          "surface": [
           {
            "colorbar": {
             "outlinewidth": 0,
             "ticks": ""
            },
            "colorscale": [
             [
              0,
              "#0d0887"
             ],
             [
              0.1111111111111111,
              "#46039f"
             ],
             [
              0.2222222222222222,
              "#7201a8"
             ],
             [
              0.3333333333333333,
              "#9c179e"
             ],
             [
              0.4444444444444444,
              "#bd3786"
             ],
             [
              0.5555555555555556,
              "#d8576b"
             ],
             [
              0.6666666666666666,
              "#ed7953"
             ],
             [
              0.7777777777777778,
              "#fb9f3a"
             ],
             [
              0.8888888888888888,
              "#fdca26"
             ],
             [
              1,
              "#f0f921"
             ]
            ],
            "type": "surface"
           }
          ],
          "table": [
           {
            "cells": {
             "fill": {
              "color": "#EBF0F8"
             },
             "line": {
              "color": "white"
             }
            },
            "header": {
             "fill": {
              "color": "#C8D4E3"
             },
             "line": {
              "color": "white"
             }
            },
            "type": "table"
           }
          ]
         },
         "layout": {
          "annotationdefaults": {
           "arrowcolor": "#2a3f5f",
           "arrowhead": 0,
           "arrowwidth": 1
          },
          "autotypenumbers": "strict",
          "coloraxis": {
           "colorbar": {
            "outlinewidth": 0,
            "ticks": ""
           }
          },
          "colorscale": {
           "diverging": [
            [
             0,
             "#8e0152"
            ],
            [
             0.1,
             "#c51b7d"
            ],
            [
             0.2,
             "#de77ae"
            ],
            [
             0.3,
             "#f1b6da"
            ],
            [
             0.4,
             "#fde0ef"
            ],
            [
             0.5,
             "#f7f7f7"
            ],
            [
             0.6,
             "#e6f5d0"
            ],
            [
             0.7,
             "#b8e186"
            ],
            [
             0.8,
             "#7fbc41"
            ],
            [
             0.9,
             "#4d9221"
            ],
            [
             1,
             "#276419"
            ]
           ],
           "sequential": [
            [
             0,
             "#0d0887"
            ],
            [
             0.1111111111111111,
             "#46039f"
            ],
            [
             0.2222222222222222,
             "#7201a8"
            ],
            [
             0.3333333333333333,
             "#9c179e"
            ],
            [
             0.4444444444444444,
             "#bd3786"
            ],
            [
             0.5555555555555556,
             "#d8576b"
            ],
            [
             0.6666666666666666,
             "#ed7953"
            ],
            [
             0.7777777777777778,
             "#fb9f3a"
            ],
            [
             0.8888888888888888,
             "#fdca26"
            ],
            [
             1,
             "#f0f921"
            ]
           ],
           "sequentialminus": [
            [
             0,
             "#0d0887"
            ],
            [
             0.1111111111111111,
             "#46039f"
            ],
            [
             0.2222222222222222,
             "#7201a8"
            ],
            [
             0.3333333333333333,
             "#9c179e"
            ],
            [
             0.4444444444444444,
             "#bd3786"
            ],
            [
             0.5555555555555556,
             "#d8576b"
            ],
            [
             0.6666666666666666,
             "#ed7953"
            ],
            [
             0.7777777777777778,
             "#fb9f3a"
            ],
            [
             0.8888888888888888,
             "#fdca26"
            ],
            [
             1,
             "#f0f921"
            ]
           ]
          },
          "colorway": [
           "#636efa",
           "#EF553B",
           "#00cc96",
           "#ab63fa",
           "#FFA15A",
           "#19d3f3",
           "#FF6692",
           "#B6E880",
           "#FF97FF",
           "#FECB52"
          ],
          "font": {
           "color": "#2a3f5f"
          },
          "geo": {
           "bgcolor": "white",
           "lakecolor": "white",
           "landcolor": "#E5ECF6",
           "showlakes": true,
           "showland": true,
           "subunitcolor": "white"
          },
          "hoverlabel": {
           "align": "left"
          },
          "hovermode": "closest",
          "mapbox": {
           "style": "light"
          },
          "paper_bgcolor": "white",
          "plot_bgcolor": "#E5ECF6",
          "polar": {
           "angularaxis": {
            "gridcolor": "white",
            "linecolor": "white",
            "ticks": ""
           },
           "bgcolor": "#E5ECF6",
           "radialaxis": {
            "gridcolor": "white",
            "linecolor": "white",
            "ticks": ""
           }
          },
          "scene": {
           "xaxis": {
            "backgroundcolor": "#E5ECF6",
            "gridcolor": "white",
            "gridwidth": 2,
            "linecolor": "white",
            "showbackground": true,
            "ticks": "",
            "zerolinecolor": "white"
           },
           "yaxis": {
            "backgroundcolor": "#E5ECF6",
            "gridcolor": "white",
            "gridwidth": 2,
            "linecolor": "white",
            "showbackground": true,
            "ticks": "",
            "zerolinecolor": "white"
           },
           "zaxis": {
            "backgroundcolor": "#E5ECF6",
            "gridcolor": "white",
            "gridwidth": 2,
            "linecolor": "white",
            "showbackground": true,
            "ticks": "",
            "zerolinecolor": "white"
           }
          },
          "shapedefaults": {
           "line": {
            "color": "#2a3f5f"
           }
          },
          "ternary": {
           "aaxis": {
            "gridcolor": "white",
            "linecolor": "white",
            "ticks": ""
           },
           "baxis": {
            "gridcolor": "white",
            "linecolor": "white",
            "ticks": ""
           },
           "bgcolor": "#E5ECF6",
           "caxis": {
            "gridcolor": "white",
            "linecolor": "white",
            "ticks": ""
           }
          },
          "title": {
           "x": 0.05
          },
          "xaxis": {
           "automargin": true,
           "gridcolor": "white",
           "linecolor": "white",
           "ticks": "",
           "title": {
            "standoff": 15
           },
           "zerolinecolor": "white",
           "zerolinewidth": 2
          },
          "yaxis": {
           "automargin": true,
           "gridcolor": "white",
           "linecolor": "white",
           "ticks": "",
           "title": {
            "standoff": 15
           },
           "zerolinecolor": "white",
           "zerolinewidth": 2
          }
         }
        },
        "title": {
         "text": "<b>Probe Performance (on best layer 12)</b>",
         "x": 0.5
        },
        "xaxis": {
         "anchor": "y",
         "domain": [
          0,
          0.45
         ],
         "title": {
          "text": "False Positive Rate (FPR)"
         }
        },
        "xaxis2": {
         "anchor": "y2",
         "domain": [
          0.55,
          1
         ],
         "title": {
          "text": "Detector Activation (Linear Score)"
         }
        },
        "yaxis": {
         "anchor": "x",
         "domain": [
          0,
          1
         ],
         "title": {
          "text": "True Positive Rate (TPR)"
         }
        },
        "yaxis2": {
         "anchor": "x2",
         "domain": [
          0,
          1
         ],
         "title": {
          "text": "Count"
         }
        }
       }
      },
      "text/html": [
       "<div>                            <div id=\"997d3cb2-df31-4825-b567-cde4b664c254\" class=\"plotly-graph-div\" style=\"height:525px; width:100%;\"></div>            <script type=\"text/javascript\">                require([\"plotly\"], function(Plotly) {                    window.PLOTLYENV=window.PLOTLYENV || {};                                    if (document.getElementById(\"997d3cb2-df31-4825-b567-cde4b664c254\")) {                    Plotly.newPlot(                        \"997d3cb2-df31-4825-b567-cde4b664c254\",                        [{\"line\":{\"color\":\"orange\",\"width\":2},\"mode\":\"lines\",\"name\":\"ROC Curve\",\"x\":[0.0,0.0,0.0,0.013157894736842105,0.013157894736842105,0.02631578947368421,0.02631578947368421,0.039473684210526314,0.039473684210526314,0.05263157894736842,0.05263157894736842,0.06578947368421052,0.06578947368421052,0.07894736842105263,0.07894736842105263,0.09210526315789473,0.09210526315789473,0.10526315789473684,0.10526315789473684,0.11842105263157894,0.11842105263157894,0.13157894736842105,0.13157894736842105,0.14473684210526316,0.14473684210526316,0.15789473684210525,0.15789473684210525,0.17105263157894737,0.17105263157894737,0.18421052631578946,0.18421052631578946,0.19736842105263158,0.19736842105263158,0.21052631578947367,0.21052631578947367,0.2236842105263158,0.2236842105263158,0.23684210526315788,0.23684210526315788,0.25,0.25,0.2631578947368421,0.2631578947368421,0.27631578947368424,0.27631578947368424,0.2894736842105263,0.2894736842105263,0.3157894736842105,0.3157894736842105,0.32894736842105265,0.32894736842105265,0.35526315789473684,0.35526315789473684,0.3815789473684211,0.3815789473684211,0.39473684210526316,0.39473684210526316,0.42105263157894735,0.42105263157894735,0.4342105263157895,0.4342105263157895,0.4473684210526316,0.4473684210526316,0.47368421052631576,0.47368421052631576,0.5,0.5,0.5131578947368421,0.5131578947368421,0.5394736842105263,0.5394736842105263,0.5526315789473685,0.5526315789473685,0.5657894736842105,0.5657894736842105,0.5789473684210527,0.5789473684210527,0.5921052631578947,0.5921052631578947,0.618421052631579,0.618421052631579,0.6447368421052632,0.6447368421052632,0.6842105263157895,0.6842105263157895,0.6973684210526315,0.6973684210526315,0.7105263157894737,0.7105263157894737,0.7236842105263158,0.7236842105263158,0.7368421052631579,0.7368421052631579,0.75,0.75,0.7631578947368421,0.7631578947368421,0.7894736842105263,0.7894736842105263,0.8421052631578947,0.8421052631578947,0.8552631578947368,0.8552631578947368,0.868421052631579,0.868421052631579,0.9078947368421053,0.9078947368421053,0.9210526315789473,0.9210526315789473,0.9342105263157895,0.9342105263157895,0.9736842105263158,0.9736842105263158,1.0],\"y\":[0.0,0.0030864197530864196,0.006172839506172839,0.006172839506172839,0.037037037037037035,0.037037037037037035,0.09567901234567901,0.09567901234567901,0.12962962962962962,0.12962962962962962,0.17592592592592593,0.17592592592592593,0.1882716049382716,0.1882716049382716,0.22839506172839505,0.22839506172839505,0.36728395061728397,0.36728395061728397,0.38271604938271603,0.38271604938271603,0.404320987654321,0.404320987654321,0.4228395061728395,0.4228395061728395,0.42592592592592593,0.42592592592592593,0.4382716049382716,0.4382716049382716,0.5123456790123457,0.5123456790123457,0.5246913580246914,0.5246913580246914,0.5555555555555556,0.5555555555555556,0.5648148148148148,0.5648148148148148,0.5709876543209876,0.5709876543209876,0.5925925925925926,0.5925925925925926,0.6080246913580247,0.6080246913580247,0.6327160493827161,0.6327160493827161,0.6512345679012346,0.6512345679012346,0.6574074074074074,0.6574074074074074,0.6820987654320988,0.6820987654320988,0.6882716049382716,0.6882716049382716,0.6975308641975309,0.6975308641975309,0.7037037037037037,0.7037037037037037,0.7253086419753086,0.7253086419753086,0.7283950617283951,0.7283950617283951,0.7376543209876543,0.7376543209876543,0.7407407407407407,0.7407407407407407,0.75,0.75,0.7716049382716049,0.7716049382716049,0.7777777777777778,0.7777777777777778,0.7808641975308642,0.7808641975308642,0.7993827160493827,0.7993827160493827,0.8055555555555556,0.8055555555555556,0.8179012345679012,0.8179012345679012,0.8240740740740741,0.8240740740740741,0.8271604938271605,0.8271604938271605,0.8395061728395061,0.8395061728395061,0.8580246913580247,0.8580246913580247,0.8734567901234568,0.8734567901234568,0.8765432098765432,0.8765432098765432,0.8950617283950617,0.8950617283950617,0.8981481481481481,0.8981481481481481,0.9104938271604939,0.9104938271604939,0.9166666666666666,0.9166666666666666,0.9351851851851852,0.9351851851851852,0.9506172839506173,0.9506172839506173,0.9537037037037037,0.9537037037037037,0.9567901234567902,0.9567901234567902,0.9660493827160493,0.9660493827160493,0.9907407407407407,0.9907407407407407,0.9938271604938271,0.9938271604938271,1.0,1.0],\"type\":\"scatter\",\"xaxis\":\"x\",\"yaxis\":\"y\"},{\"marker\":{\"color\":\"#3366CC\"},\"name\":\"Non-Junk (Harmless)\",\"nbinsx\":50,\"opacity\":0.7,\"x\":[-1.5370111465454102,-0.42936521768569946,0.6069757342338562,-1.6886038780212402,-0.317879855632782,-1.8068432807922363,-2.140058994293213,-1.7594845294952393,-1.4147224426269531,-0.744113028049469,-0.855109691619873,0.1871422529220581,-0.9834083914756775,-0.1491297483444214,1.5403764247894287,-1.3073134422302246,-0.5805152058601379,-1.7936296463012695,-2.772761821746826,-0.5530741810798645,-0.38098573684692383,0.6141045093536377,2.4287467002868652,-1.1813104152679443,1.9630413055419922,1.2193145751953125,-2.7158939838409424,-1.514805555343628,0.6961681842803955,-0.596335232257843,0.3094557821750641,-2.049556255340576,-2.242058515548706,-0.3922642469406128,-1.1563303470611572,1.5906052589416504,-1.2298734188079834,-0.2858821451663971,-1.6548655033111572,-2.8670594692230225,-1.1862726211547852,0.27327775955200195,-1.2346107959747314,-1.0179221630096436,0.8065603375434875,0.05653727054595947,1.7741949558258057,-3.76066517829895,-0.3358404338359833,-0.5427297949790955,-1.6099648475646973,-2.1299283504486084,-1.1515731811523438,-0.11784470081329346,-0.19662553071975708,-1.2268881797790527,-0.9065815210342407,0.11470481753349304,-1.1483910083770752,-0.20129266381263733,0.10974949598312378,-2.9193809032440186,-1.8245620727539062,-0.5630801916122437,-2.034635305404663,0.5784487724304199,-0.6205398440361023,-1.3980510234832764,-0.5976739525794983,2.9696011543273926,-0.8308044075965881,-0.03316843509674072,-0.8902190327644348,0.7655448317527771,-4.177975177764893,-2.1485490798950195],\"type\":\"histogram\",\"xaxis\":\"x2\",\"yaxis\":\"y2\"},{\"marker\":{\"color\":\"#DC3912\"},\"name\":\"Junk (Hazardous)\",\"nbinsx\":50,\"opacity\":0.7,\"x\":[-0.35043665766716003,2.1828927993774414,-0.10444782674312592,2.9020261764526367,0.18829137086868286,-2.1754727363586426,1.0740153789520264,1.951033592224121,-1.4451403617858887,0.6705480217933655,1.5580692291259766,1.9489209651947021,-0.22752061486244202,2.1418344974517822,-0.07900919020175934,-1.3978729248046875,1.2103667259216309,-0.9393242001533508,1.2284600734710693,0.30699822306632996,0.7593727111816406,1.132673978805542,0.6519307494163513,-0.5264456868171692,1.9473609924316406,1.2027442455291748,0.08164292573928833,0.9183019995689392,-3.1941568851470947,0.5950542092323303,0.3733474612236023,1.1163709163665771,2.372666358947754,-0.6195462346076965,0.8212600946426392,0.6924338936805725,-0.4328431487083435,0.4245227873325348,-0.13892626762390137,1.7299120426177979,0.20378166437149048,-0.5751236081123352,1.0962538719177246,-1.2067456245422363,0.916898787021637,-0.2647649049758911,-0.8495568037033081,2.653059959411621,0.09793993830680847,-1.7056539058685303,-0.7879074811935425,-1.3368570804595947,1.596160650253296,-1.2421765327453613,1.4868342876434326,0.49855074286460876,0.14918777346611023,0.4177831709384918,2.472620725631714,-1.4070007801055908,1.641979455947876,0.0825883150100708,1.3232862949371338,0.8985753655433655,1.632277011871338,0.7342683672904968,0.33248504996299744,1.6317572593688965,-0.7481318712234497,3.269106388092041,0.5171787142753601,-1.2653803825378418,0.26035237312316895,0.7770772576332092,0.9876208901405334,1.4464116096496582,-0.7884238362312317,-1.8562393188476562,2.1463093757629395,-1.2698497772216797,1.0546362400054932,1.6705188751220703,0.8564898371696472,-0.5356664657592773,0.933982789516449,1.0510141849517822,-0.4427559971809387,0.42792418599128723,1.1576504707336426,-0.36537694931030273,2.376228094100952,-1.5557520389556885,0.8261675238609314,0.612388014793396,0.7633561491966248,0.8686425685882568,-2.3707897663116455,1.2620806694030762,1.6960594654083252,-1.7138221263885498,-2.366255521774292,-0.11127068102359772,0.6176933646202087,0.8056257963180542,2.1294493675231934,1.333052635192871,-0.27970582246780396,-0.1454976201057434,-0.12238094210624695,0.709588348865509,0.8130863904953003,-0.20430484414100647,-1.9277024269104004,-1.1484405994415283,-0.8314245343208313,-0.9038257598876953,-0.7640725374221802,0.5954943895339966,-1.0453343391418457,0.9212930202484131,1.9153656959533691,-0.5840761661529541,1.567305088043213,0.5735639333724976,0.04536628723144531,1.3841583728790283,1.607388973236084,0.3938632905483246,3.382322072982788,1.45377516746521,2.1862823963165283,-2.3026816844940186,0.6039761304855347,-0.7761642336845398,0.2697296440601349,1.0751936435699463,1.7032382488250732,-0.9440547823905945,-0.08848913013935089,0.19912508130073547,-0.18378594517707825,1.584768533706665,-0.5540675520896912,-0.06121826171875,-1.0713918209075928,1.1867258548736572,-0.13780006766319275,-0.26661217212677,2.010951042175293,-0.5222529768943787,-0.00875285267829895,1.8664851188659668,1.6803088188171387,1.1913743019104004,-0.1491236835718155,0.5576194524765015,0.12813735008239746,0.29780077934265137,1.9644184112548828,0.69207364320755,-1.8795514106750488,1.3870913982391357,0.3121492266654968,0.4026676416397095,1.4100754261016846,2.3443007469177246,1.8708837032318115,2.421638011932373,0.7760512232780457,-0.08427223563194275,0.10535389184951782,0.6492339968681335,2.063695192337036,2.0442934036254883,-0.014744609594345093,0.8106368184089661,-1.469865322113037,0.9767714142799377,0.9596342444419861,0.883648693561554,-0.4859008193016052,-1.647049903869629,1.1312601566314697,0.11081153154373169,-1.740725040435791,0.7044229507446289,1.699641227722168,0.7913767099380493,0.38561391830444336,2.911175489425659,0.9165095686912537,-1.5441575050354004,0.4651229977607727,0.4720265865325928,-1.5502612590789795,-0.15404033660888672,-0.7798277735710144,0.21534574031829834,-2.5234615802764893,-0.9843950867652893,2.0011303424835205,1.6436445713043213,-1.7356758117675781,0.25786352157592773,-2.3336164951324463,2.2224292755126953,-2.362036943435669,1.0514657497406006,1.7743256092071533,2.107668876647949,-1.5150527954101562,-2.3755712509155273,-2.7381656169891357,-1.1493003368377686,-0.5660600662231445,1.8287949562072754,0.8444599509239197,-0.11332672834396362,-0.30494195222854614,-0.11991330981254578,-2.353797197341919,-2.1978936195373535,0.9837876558303833,2.499656915664673,-1.4425666332244873,0.17773568630218506,1.0851434469223022,0.48541736602783203,-2.163038492202759,0.0781870037317276,-1.7531368732452393,1.1831300258636475,1.0651452541351318,0.5534253120422363,-0.9124138355255127,2.503885269165039,1.647343397140503,2.741205930709839,-2.0614726543426514,-1.5937230587005615,0.8150472044944763,-1.4419586658477783,-0.9159643054008484,1.1092276573181152,0.06619195640087128,-1.0276360511779785,1.0562868118286133,-1.4681355953216553,0.3715580701828003,-2.0481810569763184,0.87546306848526,-0.6152892708778381,-1.2223079204559326,0.1103985458612442,-1.2854197025299072,1.6316499710083008,1.6215617656707764,0.7410964965820312,-0.26929011940956116,0.583415150642395,0.30257850885391235,2.343351125717163,0.7924941182136536,0.3447708487510681,0.44622957706451416,2.7084832191467285,-1.3509063720703125,-0.5662344098091125,-1.3424785137176514,-0.9603288769721985,-0.2589608132839203,-1.2076051235198975,0.8924816250801086,1.375150442123413,0.7306362986564636,-1.316875696182251,-1.6136963367462158,-0.9167339205741882,0.30636531114578247,1.8529138565063477,-0.4226340055465698,-1.1574490070343018,0.2571093440055847,0.23240679502487183,-1.2026784420013428,-0.2808572053909302,-1.705681324005127,-1.2890989780426025,1.5584163665771484,0.014170557260513306,-0.06902605295181274,1.2155709266662598,1.2638969421386719,1.8308324813842773,1.7854430675506592,-1.9549949169158936,1.168837547302246,-0.8261640667915344,-0.9864271283149719,-1.2439486980438232,-3.1446352005004883,-1.8809888362884521,-0.3777461647987366,-1.1017229557037354,1.0009572505950928,2.4602253437042236,-0.2990116477012634,0.5484184622764587,-0.45638710260391235,2.2521889209747314,1.3409919738769531,-0.41799354553222656,1.1108684539794922,0.03712795674800873,0.4931853413581848,0.3506482243537903,0.237796351313591,2.6474709510803223,0.08380043506622314,0.8100622296333313,-1.4761645793914795,-0.6010867357254028,0.49018561840057373,1.9708285331726074],\"type\":\"histogram\",\"xaxis\":\"x2\",\"yaxis\":\"y2\"}],                        {\"template\":{\"data\":{\"histogram2dcontour\":[{\"type\":\"histogram2dcontour\",\"colorbar\":{\"outlinewidth\":0,\"ticks\":\"\"},\"colorscale\":[[0.0,\"#0d0887\"],[0.1111111111111111,\"#46039f\"],[0.2222222222222222,\"#7201a8\"],[0.3333333333333333,\"#9c179e\"],[0.4444444444444444,\"#bd3786\"],[0.5555555555555556,\"#d8576b\"],[0.6666666666666666,\"#ed7953\"],[0.7777777777777778,\"#fb9f3a\"],[0.8888888888888888,\"#fdca26\"],[1.0,\"#f0f921\"]]}],\"choropleth\":[{\"type\":\"choropleth\",\"colorbar\":{\"outlinewidth\":0,\"ticks\":\"\"}}],\"histogram2d\":[{\"type\":\"histogram2d\",\"colorbar\":{\"outlinewidth\":0,\"ticks\":\"\"},\"colorscale\":[[0.0,\"#0d0887\"],[0.1111111111111111,\"#46039f\"],[0.2222222222222222,\"#7201a8\"],[0.3333333333333333,\"#9c179e\"],[0.4444444444444444,\"#bd3786\"],[0.5555555555555556,\"#d8576b\"],[0.6666666666666666,\"#ed7953\"],[0.7777777777777778,\"#fb9f3a\"],[0.8888888888888888,\"#fdca26\"],[1.0,\"#f0f921\"]]}],\"heatmap\":[{\"type\":\"heatmap\",\"colorbar\":{\"outlinewidth\":0,\"ticks\":\"\"},\"colorscale\":[[0.0,\"#0d0887\"],[0.1111111111111111,\"#46039f\"],[0.2222222222222222,\"#7201a8\"],[0.3333333333333333,\"#9c179e\"],[0.4444444444444444,\"#bd3786\"],[0.5555555555555556,\"#d8576b\"],[0.6666666666666666,\"#ed7953\"],[0.7777777777777778,\"#fb9f3a\"],[0.8888888888888888,\"#fdca26\"],[1.0,\"#f0f921\"]]}],\"heatmapgl\":[{\"type\":\"heatmapgl\",\"colorbar\":{\"outlinewidth\":0,\"ticks\":\"\"},\"colorscale\":[[0.0,\"#0d0887\"],[0.1111111111111111,\"#46039f\"],[0.2222222222222222,\"#7201a8\"],[0.3333333333333333,\"#9c179e\"],[0.4444444444444444,\"#bd3786\"],[0.5555555555555556,\"#d8576b\"],[0.6666666666666666,\"#ed7953\"],[0.7777777777777778,\"#fb9f3a\"],[0.8888888888888888,\"#fdca26\"],[1.0,\"#f0f921\"]]}],\"contourcarpet\":[{\"type\":\"contourcarpet\",\"colorbar\":{\"outlinewidth\":0,\"ticks\":\"\"}}],\"contour\":[{\"type\":\"contour\",\"colorbar\":{\"outlinewidth\":0,\"ticks\":\"\"},\"colorscale\":[[0.0,\"#0d0887\"],[0.1111111111111111,\"#46039f\"],[0.2222222222222222,\"#7201a8\"],[0.3333333333333333,\"#9c179e\"],[0.4444444444444444,\"#bd3786\"],[0.5555555555555556,\"#d8576b\"],[0.6666666666666666,\"#ed7953\"],[0.7777777777777778,\"#fb9f3a\"],[0.8888888888888888,\"#fdca26\"],[1.0,\"#f0f921\"]]}],\"surface\":[{\"type\":\"surface\",\"colorbar\":{\"outlinewidth\":0,\"ticks\":\"\"},\"colorscale\":[[0.0,\"#0d0887\"],[0.1111111111111111,\"#46039f\"],[0.2222222222222222,\"#7201a8\"],[0.3333333333333333,\"#9c179e\"],[0.4444444444444444,\"#bd3786\"],[0.5555555555555556,\"#d8576b\"],[0.6666666666666666,\"#ed7953\"],[0.7777777777777778,\"#fb9f3a\"],[0.8888888888888888,\"#fdca26\"],[1.0,\"#f0f921\"]]}],\"mesh3d\":[{\"type\":\"mesh3d\",\"colorbar\":{\"outlinewidth\":0,\"ticks\":\"\"}}],\"scatter\":[{\"fillpattern\":{\"fillmode\":\"overlay\",\"size\":10,\"solidity\":0.2},\"type\":\"scatter\"}],\"parcoords\":[{\"type\":\"parcoords\",\"line\":{\"colorbar\":{\"outlinewidth\":0,\"ticks\":\"\"}}}],\"scatterpolargl\":[{\"type\":\"scatterpolargl\",\"marker\":{\"colorbar\":{\"outlinewidth\":0,\"ticks\":\"\"}}}],\"bar\":[{\"error_x\":{\"color\":\"#2a3f5f\"},\"error_y\":{\"color\":\"#2a3f5f\"},\"marker\":{\"line\":{\"color\":\"#E5ECF6\",\"width\":0.5},\"pattern\":{\"fillmode\":\"overlay\",\"size\":10,\"solidity\":0.2}},\"type\":\"bar\"}],\"scattergeo\":[{\"type\":\"scattergeo\",\"marker\":{\"colorbar\":{\"outlinewidth\":0,\"ticks\":\"\"}}}],\"scatterpolar\":[{\"type\":\"scatterpolar\",\"marker\":{\"colorbar\":{\"outlinewidth\":0,\"ticks\":\"\"}}}],\"histogram\":[{\"marker\":{\"pattern\":{\"fillmode\":\"overlay\",\"size\":10,\"solidity\":0.2}},\"type\":\"histogram\"}],\"scattergl\":[{\"type\":\"scattergl\",\"marker\":{\"colorbar\":{\"outlinewidth\":0,\"ticks\":\"\"}}}],\"scatter3d\":[{\"type\":\"scatter3d\",\"line\":{\"colorbar\":{\"outlinewidth\":0,\"ticks\":\"\"}},\"marker\":{\"colorbar\":{\"outlinewidth\":0,\"ticks\":\"\"}}}],\"scattermapbox\":[{\"type\":\"scattermapbox\",\"marker\":{\"colorbar\":{\"outlinewidth\":0,\"ticks\":\"\"}}}],\"scatterternary\":[{\"type\":\"scatterternary\",\"marker\":{\"colorbar\":{\"outlinewidth\":0,\"ticks\":\"\"}}}],\"scattercarpet\":[{\"type\":\"scattercarpet\",\"marker\":{\"colorbar\":{\"outlinewidth\":0,\"ticks\":\"\"}}}],\"carpet\":[{\"aaxis\":{\"endlinecolor\":\"#2a3f5f\",\"gridcolor\":\"white\",\"linecolor\":\"white\",\"minorgridcolor\":\"white\",\"startlinecolor\":\"#2a3f5f\"},\"baxis\":{\"endlinecolor\":\"#2a3f5f\",\"gridcolor\":\"white\",\"linecolor\":\"white\",\"minorgridcolor\":\"white\",\"startlinecolor\":\"#2a3f5f\"},\"type\":\"carpet\"}],\"table\":[{\"cells\":{\"fill\":{\"color\":\"#EBF0F8\"},\"line\":{\"color\":\"white\"}},\"header\":{\"fill\":{\"color\":\"#C8D4E3\"},\"line\":{\"color\":\"white\"}},\"type\":\"table\"}],\"barpolar\":[{\"marker\":{\"line\":{\"color\":\"#E5ECF6\",\"width\":0.5},\"pattern\":{\"fillmode\":\"overlay\",\"size\":10,\"solidity\":0.2}},\"type\":\"barpolar\"}],\"pie\":[{\"automargin\":true,\"type\":\"pie\"}]},\"layout\":{\"autotypenumbers\":\"strict\",\"colorway\":[\"#636efa\",\"#EF553B\",\"#00cc96\",\"#ab63fa\",\"#FFA15A\",\"#19d3f3\",\"#FF6692\",\"#B6E880\",\"#FF97FF\",\"#FECB52\"],\"font\":{\"color\":\"#2a3f5f\"},\"hovermode\":\"closest\",\"hoverlabel\":{\"align\":\"left\"},\"paper_bgcolor\":\"white\",\"plot_bgcolor\":\"#E5ECF6\",\"polar\":{\"bgcolor\":\"#E5ECF6\",\"angularaxis\":{\"gridcolor\":\"white\",\"linecolor\":\"white\",\"ticks\":\"\"},\"radialaxis\":{\"gridcolor\":\"white\",\"linecolor\":\"white\",\"ticks\":\"\"}},\"ternary\":{\"bgcolor\":\"#E5ECF6\",\"aaxis\":{\"gridcolor\":\"white\",\"linecolor\":\"white\",\"ticks\":\"\"},\"baxis\":{\"gridcolor\":\"white\",\"linecolor\":\"white\",\"ticks\":\"\"},\"caxis\":{\"gridcolor\":\"white\",\"linecolor\":\"white\",\"ticks\":\"\"}},\"coloraxis\":{\"colorbar\":{\"outlinewidth\":0,\"ticks\":\"\"}},\"colorscale\":{\"sequential\":[[0.0,\"#0d0887\"],[0.1111111111111111,\"#46039f\"],[0.2222222222222222,\"#7201a8\"],[0.3333333333333333,\"#9c179e\"],[0.4444444444444444,\"#bd3786\"],[0.5555555555555556,\"#d8576b\"],[0.6666666666666666,\"#ed7953\"],[0.7777777777777778,\"#fb9f3a\"],[0.8888888888888888,\"#fdca26\"],[1.0,\"#f0f921\"]],\"sequentialminus\":[[0.0,\"#0d0887\"],[0.1111111111111111,\"#46039f\"],[0.2222222222222222,\"#7201a8\"],[0.3333333333333333,\"#9c179e\"],[0.4444444444444444,\"#bd3786\"],[0.5555555555555556,\"#d8576b\"],[0.6666666666666666,\"#ed7953\"],[0.7777777777777778,\"#fb9f3a\"],[0.8888888888888888,\"#fdca26\"],[1.0,\"#f0f921\"]],\"diverging\":[[0,\"#8e0152\"],[0.1,\"#c51b7d\"],[0.2,\"#de77ae\"],[0.3,\"#f1b6da\"],[0.4,\"#fde0ef\"],[0.5,\"#f7f7f7\"],[0.6,\"#e6f5d0\"],[0.7,\"#b8e186\"],[0.8,\"#7fbc41\"],[0.9,\"#4d9221\"],[1,\"#276419\"]]},\"xaxis\":{\"gridcolor\":\"white\",\"linecolor\":\"white\",\"ticks\":\"\",\"title\":{\"standoff\":15},\"zerolinecolor\":\"white\",\"automargin\":true,\"zerolinewidth\":2},\"yaxis\":{\"gridcolor\":\"white\",\"linecolor\":\"white\",\"ticks\":\"\",\"title\":{\"standoff\":15},\"zerolinecolor\":\"white\",\"automargin\":true,\"zerolinewidth\":2},\"scene\":{\"xaxis\":{\"backgroundcolor\":\"#E5ECF6\",\"gridcolor\":\"white\",\"linecolor\":\"white\",\"showbackground\":true,\"ticks\":\"\",\"zerolinecolor\":\"white\",\"gridwidth\":2},\"yaxis\":{\"backgroundcolor\":\"#E5ECF6\",\"gridcolor\":\"white\",\"linecolor\":\"white\",\"showbackground\":true,\"ticks\":\"\",\"zerolinecolor\":\"white\",\"gridwidth\":2},\"zaxis\":{\"backgroundcolor\":\"#E5ECF6\",\"gridcolor\":\"white\",\"linecolor\":\"white\",\"showbackground\":true,\"ticks\":\"\",\"zerolinecolor\":\"white\",\"gridwidth\":2}},\"shapedefaults\":{\"line\":{\"color\":\"#2a3f5f\"}},\"annotationdefaults\":{\"arrowcolor\":\"#2a3f5f\",\"arrowhead\":0,\"arrowwidth\":1},\"geo\":{\"bgcolor\":\"white\",\"landcolor\":\"#E5ECF6\",\"subunitcolor\":\"white\",\"showland\":true,\"showlakes\":true,\"lakecolor\":\"white\"},\"title\":{\"x\":0.05},\"mapbox\":{\"style\":\"light\"}}},\"xaxis\":{\"anchor\":\"y\",\"domain\":[0.0,0.45],\"title\":{\"text\":\"False Positive Rate (FPR)\"}},\"yaxis\":{\"anchor\":\"x\",\"domain\":[0.0,1.0],\"title\":{\"text\":\"True Positive Rate (TPR)\"}},\"xaxis2\":{\"anchor\":\"y2\",\"domain\":[0.55,1.0],\"title\":{\"text\":\"Detector Activation (Linear Score)\"}},\"yaxis2\":{\"anchor\":\"x2\",\"domain\":[0.0,1.0],\"title\":{\"text\":\"Count\"}},\"annotations\":[{\"font\":{\"size\":16},\"showarrow\":false,\"text\":\"(a) ROC Curve\",\"x\":0.225,\"xanchor\":\"center\",\"xref\":\"paper\",\"y\":1.0,\"yanchor\":\"bottom\",\"yref\":\"paper\"},{\"font\":{\"size\":16},\"showarrow\":false,\"text\":\"(b) Junk Detector Activation Distribution\",\"x\":0.775,\"xanchor\":\"center\",\"xref\":\"paper\",\"y\":1.0,\"yanchor\":\"bottom\",\"yref\":\"paper\"}],\"shapes\":[{\"line\":{\"color\":\"grey\",\"dash\":\"dash\"},\"type\":\"line\",\"x0\":0,\"x1\":1,\"xref\":\"x\",\"y0\":0,\"y1\":1,\"yref\":\"y\"}],\"title\":{\"text\":\"\\u003cb\\u003eProbe Performance (on best layer 12)\\u003c\\u002fb\\u003e\",\"x\":0.5},\"legend\":{\"title\":{\"text\":\"Class\"}},\"barmode\":\"overlay\"},                        {\"responsive\": true}                    ).then(function(){\n",
       "                            \n",
       "var gd = document.getElementById('997d3cb2-df31-4825-b567-cde4b664c254');\n",
       "var x = new MutationObserver(function (mutations, observer) {{\n",
       "        var display = window.getComputedStyle(gd).display;\n",
       "        if (!display || display === 'none') {{\n",
       "            console.log([gd, 'removed!']);\n",
       "            Plotly.purge(gd);\n",
       "            observer.disconnect();\n",
       "        }}\n",
       "}});\n",
       "\n",
       "// Listen for the removal of the full notebook cells\n",
       "var notebookContainer = gd.closest('#notebook-container');\n",
       "if (notebookContainer) {{\n",
       "    x.observe(notebookContainer, {childList: true});\n",
       "}}\n",
       "\n",
       "// Listen for the clearing of the current output cell\n",
       "var outputEl = gd.closest('.output');\n",
       "if (outputEl) {{\n",
       "    x.observe(outputEl, {childList: true});\n",
       "}}\n",
       "\n",
       "                        })                };                });            </script>        </div>"
      ]
     },
     "metadata": {},
     "output_type": "display_data"
    }
   ],
   "source": [
    "plot_roc_curve(\n",
    "    labels=best_layer[1][\"labels\"],\n",
    "    scores=best_layer[1][\"scores\"],\n",
    "    artifact_dir=\"/home/ubuntu/thesis/sae/results/ablated/figures/probe.pdf\",\n",
    "    title=f\"Probe Performance (on best layer {best_layer[0]})\",\n",
    ")"
   ]
  },
  {
   "cell_type": "code",
   "execution_count": 12,
   "id": "4db1d278",
   "metadata": {},
   "outputs": [
    {
     "data": {
      "application/vnd.plotly.v1+json": {
       "config": {
        "plotlyServerURL": "https://plot.ly"
       },
       "data": [
        {
         "line": {
          "color": "purple",
          "width": 2
         },
         "mode": "lines",
         "name": "PR Curve (AP = 0.898)",
         "type": "scatter",
         "x": [
          1,
          1,
          1,
          0.9969135802469136,
          0.9938271604938271,
          0.9938271604938271,
          0.9938271604938271,
          0.9938271604938271,
          0.9907407407407407,
          0.9907407407407407,
          0.9876543209876543,
          0.9845679012345679,
          0.9814814814814815,
          0.9783950617283951,
          0.9753086419753086,
          0.9722222222222222,
          0.9691358024691358,
          0.9660493827160493,
          0.9660493827160493,
          0.9629629629629629,
          0.9598765432098766,
          0.9567901234567902,
          0.9567901234567902,
          0.9567901234567902,
          0.9567901234567902,
          0.9537037037037037,
          0.9537037037037037,
          0.9506172839506173,
          0.9506172839506173,
          0.9475308641975309,
          0.9444444444444444,
          0.941358024691358,
          0.9382716049382716,
          0.9351851851851852,
          0.9351851851851852,
          0.9351851851851852,
          0.9351851851851852,
          0.9351851851851852,
          0.9320987654320988,
          0.9290123456790124,
          0.9259259259259259,
          0.9228395061728395,
          0.9197530864197531,
          0.9166666666666666,
          0.9166666666666666,
          0.9166666666666666,
          0.9135802469135802,
          0.9104938271604939,
          0.9104938271604939,
          0.9074074074074074,
          0.904320987654321,
          0.9012345679012346,
          0.8981481481481481,
          0.8981481481481481,
          0.8950617283950617,
          0.8950617283950617,
          0.8919753086419753,
          0.8888888888888888,
          0.8858024691358025,
          0.8827160493827161,
          0.8796296296296297,
          0.8765432098765432,
          0.8765432098765432,
          0.8734567901234568,
          0.8734567901234568,
          0.8703703703703703,
          0.8672839506172839,
          0.8641975308641975,
          0.8611111111111112,
          0.8580246913580247,
          0.8580246913580247,
          0.8549382716049383,
          0.8518518518518519,
          0.8487654320987654,
          0.845679012345679,
          0.8425925925925926,
          0.8395061728395061,
          0.8395061728395061,
          0.8395061728395061,
          0.8395061728395061,
          0.8364197530864198,
          0.8333333333333334,
          0.8302469135802469,
          0.8271604938271605,
          0.8271604938271605,
          0.8271604938271605,
          0.8240740740740741,
          0.8240740740740741,
          0.8240740740740741,
          0.8209876543209876,
          0.8179012345679012,
          0.8179012345679012,
          0.8148148148148148,
          0.8117283950617284,
          0.808641975308642,
          0.8055555555555556,
          0.8055555555555556,
          0.8024691358024691,
          0.7993827160493827,
          0.7993827160493827,
          0.7962962962962963,
          0.7932098765432098,
          0.7901234567901234,
          0.7870370370370371,
          0.7839506172839507,
          0.7808641975308642,
          0.7808641975308642,
          0.7777777777777778,
          0.7777777777777778,
          0.7777777777777778,
          0.7746913580246914,
          0.7716049382716049,
          0.7716049382716049,
          0.7685185185185185,
          0.7654320987654321,
          0.7623456790123457,
          0.7592592592592593,
          0.7561728395061729,
          0.7530864197530864,
          0.75,
          0.75,
          0.75,
          0.7469135802469136,
          0.7438271604938271,
          0.7407407407407407,
          0.7407407407407407,
          0.7407407407407407,
          0.7376543209876543,
          0.7376543209876543,
          0.7345679012345679,
          0.7314814814814815,
          0.7283950617283951,
          0.7283950617283951,
          0.7253086419753086,
          0.7253086419753086,
          0.7253086419753086,
          0.7222222222222222,
          0.7191358024691358,
          0.7160493827160493,
          0.7129629629629629,
          0.7098765432098766,
          0.7067901234567902,
          0.7037037037037037,
          0.7037037037037037,
          0.7006172839506173,
          0.6975308641975309,
          0.6975308641975309,
          0.6975308641975309,
          0.6944444444444444,
          0.691358024691358,
          0.6882716049382716,
          0.6882716049382716,
          0.6882716049382716,
          0.6851851851851852,
          0.6820987654320988,
          0.6820987654320988,
          0.6790123456790124,
          0.6759259259259259,
          0.6728395061728395,
          0.6697530864197531,
          0.6666666666666666,
          0.6635802469135802,
          0.6604938271604939,
          0.6574074074074074,
          0.6574074074074074,
          0.6574074074074074,
          0.654320987654321,
          0.6512345679012346,
          0.6512345679012346,
          0.6481481481481481,
          0.6450617283950617,
          0.6419753086419753,
          0.6388888888888888,
          0.6358024691358025,
          0.6327160493827161,
          0.6327160493827161,
          0.6296296296296297,
          0.6265432098765432,
          0.6234567901234568,
          0.6203703703703703,
          0.6172839506172839,
          0.6141975308641975,
          0.6111111111111112,
          0.6080246913580247,
          0.6080246913580247,
          0.6049382716049383,
          0.6018518518518519,
          0.5987654320987654,
          0.595679012345679,
          0.5925925925925926,
          0.5925925925925926,
          0.5895061728395061,
          0.5864197530864198,
          0.5833333333333334,
          0.5802469135802469,
          0.5771604938271605,
          0.5740740740740741,
          0.5709876543209876,
          0.5709876543209876,
          0.5679012345679012,
          0.5648148148148148,
          0.5648148148148148,
          0.5617283950617284,
          0.558641975308642,
          0.5555555555555556,
          0.5555555555555556,
          0.5524691358024691,
          0.5493827160493827,
          0.5462962962962963,
          0.5432098765432098,
          0.5401234567901234,
          0.5370370370370371,
          0.5339506172839507,
          0.5308641975308642,
          0.5277777777777778,
          0.5246913580246914,
          0.5246913580246914,
          0.5216049382716049,
          0.5185185185185185,
          0.5154320987654321,
          0.5123456790123457,
          0.5123456790123457,
          0.5092592592592593,
          0.5061728395061729,
          0.5030864197530864,
          0.5,
          0.49691358024691357,
          0.49382716049382713,
          0.49074074074074076,
          0.4876543209876543,
          0.4845679012345679,
          0.48148148148148145,
          0.4783950617283951,
          0.47530864197530864,
          0.4722222222222222,
          0.4691358024691358,
          0.4660493827160494,
          0.46296296296296297,
          0.45987654320987653,
          0.4567901234567901,
          0.4537037037037037,
          0.4506172839506173,
          0.44753086419753085,
          0.4444444444444444,
          0.44135802469135804,
          0.4382716049382716,
          0.4382716049382716,
          0.4351851851851852,
          0.43209876543209874,
          0.42901234567901236,
          0.42592592592592593,
          0.42592592592592593,
          0.4228395061728395,
          0.4228395061728395,
          0.41975308641975306,
          0.4166666666666667,
          0.41358024691358025,
          0.4104938271604938,
          0.4074074074074074,
          0.404320987654321,
          0.404320987654321,
          0.4012345679012346,
          0.39814814814814814,
          0.3950617283950617,
          0.39197530864197533,
          0.3888888888888889,
          0.38580246913580246,
          0.38271604938271603,
          0.38271604938271603,
          0.37962962962962965,
          0.3765432098765432,
          0.3734567901234568,
          0.37037037037037035,
          0.36728395061728397,
          0.36728395061728397,
          0.36419753086419754,
          0.3611111111111111,
          0.35802469135802467,
          0.3549382716049383,
          0.35185185185185186,
          0.3487654320987654,
          0.345679012345679,
          0.3425925925925926,
          0.3395061728395062,
          0.33641975308641975,
          0.3333333333333333,
          0.33024691358024694,
          0.3271604938271605,
          0.32407407407407407,
          0.32098765432098764,
          0.31790123456790126,
          0.3148148148148148,
          0.3117283950617284,
          0.30864197530864196,
          0.3055555555555556,
          0.30246913580246915,
          0.2993827160493827,
          0.2962962962962963,
          0.2932098765432099,
          0.29012345679012347,
          0.28703703703703703,
          0.2839506172839506,
          0.2808641975308642,
          0.2777777777777778,
          0.27469135802469136,
          0.2716049382716049,
          0.26851851851851855,
          0.2654320987654321,
          0.2623456790123457,
          0.25925925925925924,
          0.25617283950617287,
          0.25308641975308643,
          0.25,
          0.24691358024691357,
          0.24382716049382716,
          0.24074074074074073,
          0.23765432098765432,
          0.2345679012345679,
          0.23148148148148148,
          0.22839506172839505,
          0.22839506172839505,
          0.22530864197530864,
          0.2222222222222222,
          0.2191358024691358,
          0.21604938271604937,
          0.21296296296296297,
          0.20987654320987653,
          0.20679012345679013,
          0.2037037037037037,
          0.2006172839506173,
          0.19753086419753085,
          0.19444444444444445,
          0.19135802469135801,
          0.1882716049382716,
          0.1882716049382716,
          0.18518518518518517,
          0.18209876543209877,
          0.17901234567901234,
          0.17592592592592593,
          0.17592592592592593,
          0.1728395061728395,
          0.1697530864197531,
          0.16666666666666666,
          0.16358024691358025,
          0.16049382716049382,
          0.1574074074074074,
          0.15432098765432098,
          0.15123456790123457,
          0.14814814814814814,
          0.14506172839506173,
          0.1419753086419753,
          0.1388888888888889,
          0.13580246913580246,
          0.13271604938271606,
          0.12962962962962962,
          0.12962962962962962,
          0.12654320987654322,
          0.12345679012345678,
          0.12037037037037036,
          0.11728395061728394,
          0.11419753086419752,
          0.1111111111111111,
          0.10802469135802469,
          0.10493827160493827,
          0.10185185185185185,
          0.09876543209876543,
          0.09567901234567901,
          0.09567901234567901,
          0.09259259259259259,
          0.08950617283950617,
          0.08641975308641975,
          0.08333333333333333,
          0.08024691358024691,
          0.07716049382716049,
          0.07407407407407407,
          0.07098765432098765,
          0.06790123456790123,
          0.06481481481481481,
          0.06172839506172839,
          0.05864197530864197,
          0.05555555555555555,
          0.05246913580246913,
          0.04938271604938271,
          0.046296296296296294,
          0.043209876543209874,
          0.040123456790123455,
          0.037037037037037035,
          0.037037037037037035,
          0.033950617283950615,
          0.030864197530864196,
          0.027777777777777776,
          0.024691358024691357,
          0.021604938271604937,
          0.018518518518518517,
          0.015432098765432098,
          0.012345679012345678,
          0.009259259259259259,
          0.006172839506172839,
          0.006172839506172839,
          0.0030864197530864196,
          0
         ],
         "y": [
          0.81,
          0.8120300751879699,
          0.8140703517587939,
          0.8136020151133502,
          0.8131313131313131,
          0.8151898734177215,
          0.817258883248731,
          0.8193384223918575,
          0.8188775510204082,
          0.8209718670076727,
          0.8205128205128205,
          0.8200514138817481,
          0.8195876288659794,
          0.8191214470284238,
          0.8186528497409327,
          0.8181818181818182,
          0.8177083333333334,
          0.8172323759791122,
          0.819371727748691,
          0.8188976377952756,
          0.8184210526315789,
          0.8179419525065963,
          0.8201058201058201,
          0.8222811671087533,
          0.824468085106383,
          0.824,
          0.8262032085561497,
          0.8257372654155496,
          0.8279569892473119,
          0.8274932614555256,
          0.827027027027027,
          0.8265582655826558,
          0.8260869565217391,
          0.8256130790190735,
          0.8278688524590164,
          0.8301369863013699,
          0.8324175824175825,
          0.8347107438016529,
          0.8342541436464088,
          0.8337950138504155,
          0.8333333333333334,
          0.8328690807799443,
          0.8324022346368715,
          0.8319327731092437,
          0.8342696629213483,
          0.8366197183098592,
          0.8361581920903954,
          0.8356940509915014,
          0.8380681818181818,
          0.8376068376068376,
          0.8371428571428572,
          0.836676217765043,
          0.8362068965517241,
          0.8386167146974063,
          0.838150289017341,
          0.8405797101449275,
          0.8401162790697675,
          0.8396501457725948,
          0.8391812865497076,
          0.8387096774193549,
          0.8382352941176471,
          0.8377581120943953,
          0.8402366863905325,
          0.8397626112759644,
          0.8422619047619048,
          0.8417910447761194,
          0.8413173652694611,
          0.8408408408408409,
          0.8403614457831325,
          0.8398791540785498,
          0.8424242424242424,
          0.8419452887537994,
          0.8414634146341463,
          0.8409785932721713,
          0.8404907975460123,
          0.84,
          0.8395061728395061,
          0.8421052631578947,
          0.84472049689441,
          0.8473520249221184,
          0.846875,
          0.8463949843260188,
          0.8459119496855346,
          0.8454258675078864,
          0.8481012658227848,
          0.8507936507936508,
          0.8503184713375797,
          0.853035143769968,
          0.8557692307692307,
          0.8553054662379421,
          0.8548387096774194,
          0.8576051779935275,
          0.8571428571428571,
          0.8566775244299675,
          0.8562091503267973,
          0.8557377049180328,
          0.8585526315789473,
          0.858085808580858,
          0.8576158940397351,
          0.8604651162790697,
          0.86,
          0.8595317725752508,
          0.8590604026845637,
          0.8585858585858586,
          0.8581081081081081,
          0.8576271186440678,
          0.8605442176870748,
          0.8600682593856656,
          0.863013698630137,
          0.865979381443299,
          0.8655172413793103,
          0.8650519031141869,
          0.8680555555555556,
          0.867595818815331,
          0.8671328671328671,
          0.8666666666666667,
          0.8661971830985915,
          0.8657243816254417,
          0.8652482269503546,
          0.8647686832740213,
          0.8678571428571429,
          0.8709677419354839,
          0.8705035971223022,
          0.8700361010830325,
          0.8695652173913043,
          0.8727272727272727,
          0.8759124087591241,
          0.8754578754578755,
          0.8786764705882353,
          0.8782287822878229,
          0.8777777777777778,
          0.8773234200743495,
          0.8805970149253731,
          0.8801498127340824,
          0.8834586466165414,
          0.8867924528301887,
          0.8863636363636364,
          0.8859315589353612,
          0.8854961832061069,
          0.8850574712643678,
          0.8846153846153846,
          0.8841698841698842,
          0.8837209302325582,
          0.8871595330739299,
          0.88671875,
          0.8862745098039215,
          0.889763779527559,
          0.8932806324110671,
          0.8928571428571429,
          0.8924302788844621,
          0.892,
          0.8955823293172691,
          0.8991935483870968,
          0.8987854251012146,
          0.8983739837398373,
          0.9020408163265307,
          0.9016393442622951,
          0.9012345679012346,
          0.9008264462809917,
          0.9004149377593361,
          0.9,
          0.899581589958159,
          0.8991596638655462,
          0.8987341772151899,
          0.902542372881356,
          0.9063829787234042,
          0.905982905982906,
          0.9055793991416309,
          0.9094827586206896,
          0.9090909090909091,
          0.908695652173913,
          0.9082969432314411,
          0.9078947368421053,
          0.9074889867841409,
          0.9070796460176991,
          0.9111111111111111,
          0.9107142857142857,
          0.9103139013452914,
          0.9099099099099099,
          0.9095022624434389,
          0.9090909090909091,
          0.908675799086758,
          0.908256880733945,
          0.9078341013824884,
          0.9120370370370371,
          0.9116279069767442,
          0.9112149532710281,
          0.9107981220657277,
          0.910377358490566,
          0.909952606635071,
          0.9142857142857143,
          0.9138755980861244,
          0.9134615384615384,
          0.9130434782608695,
          0.912621359223301,
          0.9121951219512195,
          0.9117647058823529,
          0.9113300492610837,
          0.9158415841584159,
          0.9154228855721394,
          0.915,
          0.9195979899497487,
          0.9191919191919192,
          0.9187817258883249,
          0.9183673469387755,
          0.9230769230769231,
          0.9226804123711341,
          0.9222797927461139,
          0.921875,
          0.9214659685863874,
          0.9210526315789473,
          0.9206349206349206,
          0.9202127659574468,
          0.9197860962566845,
          0.9193548387096774,
          0.918918918918919,
          0.9239130434782609,
          0.9234972677595629,
          0.9230769230769231,
          0.9226519337016574,
          0.9222222222222223,
          0.9273743016759777,
          0.9269662921348315,
          0.9265536723163842,
          0.9261363636363636,
          0.9257142857142857,
          0.9252873563218391,
          0.9248554913294798,
          0.9244186046511628,
          0.9239766081871345,
          0.9235294117647059,
          0.9230769230769231,
          0.9226190476190477,
          0.9221556886227545,
          0.9216867469879518,
          0.9212121212121213,
          0.9207317073170732,
          0.9202453987730062,
          0.9197530864197531,
          0.9192546583850931,
          0.91875,
          0.9182389937106918,
          0.9177215189873418,
          0.9171974522292994,
          0.9166666666666666,
          0.9161290322580645,
          0.922077922077922,
          0.9215686274509803,
          0.9210526315789473,
          0.9205298013245033,
          0.92,
          0.9261744966442953,
          0.9256756756756757,
          0.9319727891156463,
          0.9315068493150684,
          0.9310344827586207,
          0.9305555555555556,
          0.9300699300699301,
          0.9295774647887324,
          0.9290780141843972,
          0.9357142857142857,
          0.935251798561151,
          0.9347826086956522,
          0.9343065693430657,
          0.9338235294117647,
          0.9333333333333333,
          0.9328358208955224,
          0.9323308270676691,
          0.9393939393939394,
          0.9389312977099237,
          0.9384615384615385,
          0.937984496124031,
          0.9375,
          0.937007874015748,
          0.9444444444444444,
          0.944,
          0.9435483870967742,
          0.943089430894309,
          0.9426229508196722,
          0.9421487603305785,
          0.9416666666666667,
          0.9411764705882353,
          0.940677966101695,
          0.9401709401709402,
          0.9396551724137931,
          0.9391304347826087,
          0.9385964912280702,
          0.9380530973451328,
          0.9375,
          0.9369369369369369,
          0.9363636363636364,
          0.9357798165137615,
          0.9351851851851852,
          0.9345794392523364,
          0.9339622641509434,
          0.9333333333333333,
          0.9326923076923077,
          0.9320388349514563,
          0.9313725490196079,
          0.9306930693069307,
          0.93,
          0.9292929292929293,
          0.9285714285714286,
          0.9278350515463918,
          0.9270833333333334,
          0.9263157894736842,
          0.925531914893617,
          0.9247311827956989,
          0.9239130434782609,
          0.9230769230769231,
          0.9222222222222223,
          0.9213483146067416,
          0.9204545454545454,
          0.9195402298850575,
          0.9186046511627907,
          0.9176470588235294,
          0.9166666666666666,
          0.9156626506024096,
          0.9146341463414634,
          0.9135802469135802,
          0.925,
          0.9240506329113924,
          0.9230769230769231,
          0.922077922077922,
          0.9210526315789473,
          0.92,
          0.918918918918919,
          0.9178082191780822,
          0.9166666666666666,
          0.9154929577464789,
          0.9142857142857143,
          0.9130434782608695,
          0.9117647058823529,
          0.9104477611940298,
          0.9242424242424242,
          0.9230769230769231,
          0.921875,
          0.9206349206349206,
          0.9193548387096774,
          0.9344262295081968,
          0.9333333333333333,
          0.9322033898305084,
          0.9310344827586207,
          0.9298245614035088,
          0.9285714285714286,
          0.9272727272727272,
          0.9259259259259259,
          0.9245283018867925,
          0.9230769230769231,
          0.9215686274509803,
          0.92,
          0.9183673469387755,
          0.9166666666666666,
          0.9148936170212766,
          0.9130434782608695,
          0.9333333333333333,
          0.9318181818181818,
          0.9302325581395349,
          0.9285714285714286,
          0.926829268292683,
          0.925,
          0.9230769230769231,
          0.9210526315789473,
          0.918918918918919,
          0.9166666666666666,
          0.9142857142857143,
          0.9117647058823529,
          0.9393939393939394,
          0.9375,
          0.9354838709677419,
          0.9333333333333333,
          0.9310344827586207,
          0.9285714285714286,
          0.9259259259259259,
          0.9230769230769231,
          0.92,
          0.9166666666666666,
          0.9130434782608695,
          0.9090909090909091,
          0.9047619047619048,
          0.9,
          0.8947368421052632,
          0.8888888888888888,
          0.8823529411764706,
          0.875,
          0.8666666666666667,
          0.8571428571428571,
          0.9230769230769231,
          0.9166666666666666,
          0.9090909090909091,
          0.9,
          0.8888888888888888,
          0.875,
          0.8571428571428571,
          0.8333333333333334,
          0.8,
          0.75,
          0.6666666666666666,
          1,
          1,
          1
         ]
        }
       ],
       "layout": {
        "legend": {
         "x": 0.01,
         "xanchor": "left",
         "y": 0.01,
         "yanchor": "bottom"
        },
        "template": {
         "data": {
          "bar": [
           {
            "error_x": {
             "color": "#2a3f5f"
            },
            "error_y": {
             "color": "#2a3f5f"
            },
            "marker": {
             "line": {
              "color": "#E5ECF6",
              "width": 0.5
             },
             "pattern": {
              "fillmode": "overlay",
              "size": 10,
              "solidity": 0.2
             }
            },
            "type": "bar"
           }
          ],
          "barpolar": [
           {
            "marker": {
             "line": {
              "color": "#E5ECF6",
              "width": 0.5
             },
             "pattern": {
              "fillmode": "overlay",
              "size": 10,
              "solidity": 0.2
             }
            },
            "type": "barpolar"
           }
          ],
          "carpet": [
           {
            "aaxis": {
             "endlinecolor": "#2a3f5f",
             "gridcolor": "white",
             "linecolor": "white",
             "minorgridcolor": "white",
             "startlinecolor": "#2a3f5f"
            },
            "baxis": {
             "endlinecolor": "#2a3f5f",
             "gridcolor": "white",
             "linecolor": "white",
             "minorgridcolor": "white",
             "startlinecolor": "#2a3f5f"
            },
            "type": "carpet"
           }
          ],
          "choropleth": [
           {
            "colorbar": {
             "outlinewidth": 0,
             "ticks": ""
            },
            "type": "choropleth"
           }
          ],
          "contour": [
           {
            "colorbar": {
             "outlinewidth": 0,
             "ticks": ""
            },
            "colorscale": [
             [
              0,
              "#0d0887"
             ],
             [
              0.1111111111111111,
              "#46039f"
             ],
             [
              0.2222222222222222,
              "#7201a8"
             ],
             [
              0.3333333333333333,
              "#9c179e"
             ],
             [
              0.4444444444444444,
              "#bd3786"
             ],
             [
              0.5555555555555556,
              "#d8576b"
             ],
             [
              0.6666666666666666,
              "#ed7953"
             ],
             [
              0.7777777777777778,
              "#fb9f3a"
             ],
             [
              0.8888888888888888,
              "#fdca26"
             ],
             [
              1,
              "#f0f921"
             ]
            ],
            "type": "contour"
           }
          ],
          "contourcarpet": [
           {
            "colorbar": {
             "outlinewidth": 0,
             "ticks": ""
            },
            "type": "contourcarpet"
           }
          ],
          "heatmap": [
           {
            "colorbar": {
             "outlinewidth": 0,
             "ticks": ""
            },
            "colorscale": [
             [
              0,
              "#0d0887"
             ],
             [
              0.1111111111111111,
              "#46039f"
             ],
             [
              0.2222222222222222,
              "#7201a8"
             ],
             [
              0.3333333333333333,
              "#9c179e"
             ],
             [
              0.4444444444444444,
              "#bd3786"
             ],
             [
              0.5555555555555556,
              "#d8576b"
             ],
             [
              0.6666666666666666,
              "#ed7953"
             ],
             [
              0.7777777777777778,
              "#fb9f3a"
             ],
             [
              0.8888888888888888,
              "#fdca26"
             ],
             [
              1,
              "#f0f921"
             ]
            ],
            "type": "heatmap"
           }
          ],
          "heatmapgl": [
           {
            "colorbar": {
             "outlinewidth": 0,
             "ticks": ""
            },
            "colorscale": [
             [
              0,
              "#0d0887"
             ],
             [
              0.1111111111111111,
              "#46039f"
             ],
             [
              0.2222222222222222,
              "#7201a8"
             ],
             [
              0.3333333333333333,
              "#9c179e"
             ],
             [
              0.4444444444444444,
              "#bd3786"
             ],
             [
              0.5555555555555556,
              "#d8576b"
             ],
             [
              0.6666666666666666,
              "#ed7953"
             ],
             [
              0.7777777777777778,
              "#fb9f3a"
             ],
             [
              0.8888888888888888,
              "#fdca26"
             ],
             [
              1,
              "#f0f921"
             ]
            ],
            "type": "heatmapgl"
           }
          ],
          "histogram": [
           {
            "marker": {
             "pattern": {
              "fillmode": "overlay",
              "size": 10,
              "solidity": 0.2
             }
            },
            "type": "histogram"
           }
          ],
          "histogram2d": [
           {
            "colorbar": {
             "outlinewidth": 0,
             "ticks": ""
            },
            "colorscale": [
             [
              0,
              "#0d0887"
             ],
             [
              0.1111111111111111,
              "#46039f"
             ],
             [
              0.2222222222222222,
              "#7201a8"
             ],
             [
              0.3333333333333333,
              "#9c179e"
             ],
             [
              0.4444444444444444,
              "#bd3786"
             ],
             [
              0.5555555555555556,
              "#d8576b"
             ],
             [
              0.6666666666666666,
              "#ed7953"
             ],
             [
              0.7777777777777778,
              "#fb9f3a"
             ],
             [
              0.8888888888888888,
              "#fdca26"
             ],
             [
              1,
              "#f0f921"
             ]
            ],
            "type": "histogram2d"
           }
          ],
          "histogram2dcontour": [
           {
            "colorbar": {
             "outlinewidth": 0,
             "ticks": ""
            },
            "colorscale": [
             [
              0,
              "#0d0887"
             ],
             [
              0.1111111111111111,
              "#46039f"
             ],
             [
              0.2222222222222222,
              "#7201a8"
             ],
             [
              0.3333333333333333,
              "#9c179e"
             ],
             [
              0.4444444444444444,
              "#bd3786"
             ],
             [
              0.5555555555555556,
              "#d8576b"
             ],
             [
              0.6666666666666666,
              "#ed7953"
             ],
             [
              0.7777777777777778,
              "#fb9f3a"
             ],
             [
              0.8888888888888888,
              "#fdca26"
             ],
             [
              1,
              "#f0f921"
             ]
            ],
            "type": "histogram2dcontour"
           }
          ],
          "mesh3d": [
           {
            "colorbar": {
             "outlinewidth": 0,
             "ticks": ""
            },
            "type": "mesh3d"
           }
          ],
          "parcoords": [
           {
            "line": {
             "colorbar": {
              "outlinewidth": 0,
              "ticks": ""
             }
            },
            "type": "parcoords"
           }
          ],
          "pie": [
           {
            "automargin": true,
            "type": "pie"
           }
          ],
          "scatter": [
           {
            "fillpattern": {
             "fillmode": "overlay",
             "size": 10,
             "solidity": 0.2
            },
            "type": "scatter"
           }
          ],
          "scatter3d": [
           {
            "line": {
             "colorbar": {
              "outlinewidth": 0,
              "ticks": ""
             }
            },
            "marker": {
             "colorbar": {
              "outlinewidth": 0,
              "ticks": ""
             }
            },
            "type": "scatter3d"
           }
          ],
          "scattercarpet": [
           {
            "marker": {
             "colorbar": {
              "outlinewidth": 0,
              "ticks": ""
             }
            },
            "type": "scattercarpet"
           }
          ],
          "scattergeo": [
           {
            "marker": {
             "colorbar": {
              "outlinewidth": 0,
              "ticks": ""
             }
            },
            "type": "scattergeo"
           }
          ],
          "scattergl": [
           {
            "marker": {
             "colorbar": {
              "outlinewidth": 0,
              "ticks": ""
             }
            },
            "type": "scattergl"
           }
          ],
          "scattermapbox": [
           {
            "marker": {
             "colorbar": {
              "outlinewidth": 0,
              "ticks": ""
             }
            },
            "type": "scattermapbox"
           }
          ],
          "scatterpolar": [
           {
            "marker": {
             "colorbar": {
              "outlinewidth": 0,
              "ticks": ""
             }
            },
            "type": "scatterpolar"
           }
          ],
          "scatterpolargl": [
           {
            "marker": {
             "colorbar": {
              "outlinewidth": 0,
              "ticks": ""
             }
            },
            "type": "scatterpolargl"
           }
          ],
          "scatterternary": [
           {
            "marker": {
             "colorbar": {
              "outlinewidth": 0,
              "ticks": ""
             }
            },
            "type": "scatterternary"
           }
          ],
          "surface": [
           {
            "colorbar": {
             "outlinewidth": 0,
             "ticks": ""
            },
            "colorscale": [
             [
              0,
              "#0d0887"
             ],
             [
              0.1111111111111111,
              "#46039f"
             ],
             [
              0.2222222222222222,
              "#7201a8"
             ],
             [
              0.3333333333333333,
              "#9c179e"
             ],
             [
              0.4444444444444444,
              "#bd3786"
             ],
             [
              0.5555555555555556,
              "#d8576b"
             ],
             [
              0.6666666666666666,
              "#ed7953"
             ],
             [
              0.7777777777777778,
              "#fb9f3a"
             ],
             [
              0.8888888888888888,
              "#fdca26"
             ],
             [
              1,
              "#f0f921"
             ]
            ],
            "type": "surface"
           }
          ],
          "table": [
           {
            "cells": {
             "fill": {
              "color": "#EBF0F8"
             },
             "line": {
              "color": "white"
             }
            },
            "header": {
             "fill": {
              "color": "#C8D4E3"
             },
             "line": {
              "color": "white"
             }
            },
            "type": "table"
           }
          ]
         },
         "layout": {
          "annotationdefaults": {
           "arrowcolor": "#2a3f5f",
           "arrowhead": 0,
           "arrowwidth": 1
          },
          "autotypenumbers": "strict",
          "coloraxis": {
           "colorbar": {
            "outlinewidth": 0,
            "ticks": ""
           }
          },
          "colorscale": {
           "diverging": [
            [
             0,
             "#8e0152"
            ],
            [
             0.1,
             "#c51b7d"
            ],
            [
             0.2,
             "#de77ae"
            ],
            [
             0.3,
             "#f1b6da"
            ],
            [
             0.4,
             "#fde0ef"
            ],
            [
             0.5,
             "#f7f7f7"
            ],
            [
             0.6,
             "#e6f5d0"
            ],
            [
             0.7,
             "#b8e186"
            ],
            [
             0.8,
             "#7fbc41"
            ],
            [
             0.9,
             "#4d9221"
            ],
            [
             1,
             "#276419"
            ]
           ],
           "sequential": [
            [
             0,
             "#0d0887"
            ],
            [
             0.1111111111111111,
             "#46039f"
            ],
            [
             0.2222222222222222,
             "#7201a8"
            ],
            [
             0.3333333333333333,
             "#9c179e"
            ],
            [
             0.4444444444444444,
             "#bd3786"
            ],
            [
             0.5555555555555556,
             "#d8576b"
            ],
            [
             0.6666666666666666,
             "#ed7953"
            ],
            [
             0.7777777777777778,
             "#fb9f3a"
            ],
            [
             0.8888888888888888,
             "#fdca26"
            ],
            [
             1,
             "#f0f921"
            ]
           ],
           "sequentialminus": [
            [
             0,
             "#0d0887"
            ],
            [
             0.1111111111111111,
             "#46039f"
            ],
            [
             0.2222222222222222,
             "#7201a8"
            ],
            [
             0.3333333333333333,
             "#9c179e"
            ],
            [
             0.4444444444444444,
             "#bd3786"
            ],
            [
             0.5555555555555556,
             "#d8576b"
            ],
            [
             0.6666666666666666,
             "#ed7953"
            ],
            [
             0.7777777777777778,
             "#fb9f3a"
            ],
            [
             0.8888888888888888,
             "#fdca26"
            ],
            [
             1,
             "#f0f921"
            ]
           ]
          },
          "colorway": [
           "#636efa",
           "#EF553B",
           "#00cc96",
           "#ab63fa",
           "#FFA15A",
           "#19d3f3",
           "#FF6692",
           "#B6E880",
           "#FF97FF",
           "#FECB52"
          ],
          "font": {
           "color": "#2a3f5f"
          },
          "geo": {
           "bgcolor": "white",
           "lakecolor": "white",
           "landcolor": "#E5ECF6",
           "showlakes": true,
           "showland": true,
           "subunitcolor": "white"
          },
          "hoverlabel": {
           "align": "left"
          },
          "hovermode": "closest",
          "mapbox": {
           "style": "light"
          },
          "paper_bgcolor": "white",
          "plot_bgcolor": "#E5ECF6",
          "polar": {
           "angularaxis": {
            "gridcolor": "white",
            "linecolor": "white",
            "ticks": ""
           },
           "bgcolor": "#E5ECF6",
           "radialaxis": {
            "gridcolor": "white",
            "linecolor": "white",
            "ticks": ""
           }
          },
          "scene": {
           "xaxis": {
            "backgroundcolor": "#E5ECF6",
            "gridcolor": "white",
            "gridwidth": 2,
            "linecolor": "white",
            "showbackground": true,
            "ticks": "",
            "zerolinecolor": "white"
           },
           "yaxis": {
            "backgroundcolor": "#E5ECF6",
            "gridcolor": "white",
            "gridwidth": 2,
            "linecolor": "white",
            "showbackground": true,
            "ticks": "",
            "zerolinecolor": "white"
           },
           "zaxis": {
            "backgroundcolor": "#E5ECF6",
            "gridcolor": "white",
            "gridwidth": 2,
            "linecolor": "white",
            "showbackground": true,
            "ticks": "",
            "zerolinecolor": "white"
           }
          },
          "shapedefaults": {
           "line": {
            "color": "#2a3f5f"
           }
          },
          "ternary": {
           "aaxis": {
            "gridcolor": "white",
            "linecolor": "white",
            "ticks": ""
           },
           "baxis": {
            "gridcolor": "white",
            "linecolor": "white",
            "ticks": ""
           },
           "bgcolor": "#E5ECF6",
           "caxis": {
            "gridcolor": "white",
            "linecolor": "white",
            "ticks": ""
           }
          },
          "title": {
           "x": 0.05
          },
          "xaxis": {
           "automargin": true,
           "gridcolor": "white",
           "linecolor": "white",
           "ticks": "",
           "title": {
            "standoff": 15
           },
           "zerolinecolor": "white",
           "zerolinewidth": 2
          },
          "yaxis": {
           "automargin": true,
           "gridcolor": "white",
           "linecolor": "white",
           "ticks": "",
           "title": {
            "standoff": 15
           },
           "zerolinecolor": "white",
           "zerolinewidth": 2
          }
         }
        },
        "title": {
         "text": "<b>Precision-Recall Curve (on best layer 12)</b>",
         "x": 0.5
        },
        "xaxis": {
         "range": [
          0,
          1.05
         ],
         "title": {
          "text": "Recall"
         }
        },
        "yaxis": {
         "range": [
          0,
          1.05
         ],
         "title": {
          "text": "Precision"
         }
        }
       }
      },
      "text/html": [
       "<div>                            <div id=\"4da29133-d14a-4994-9901-0da4ec955640\" class=\"plotly-graph-div\" style=\"height:525px; width:100%;\"></div>            <script type=\"text/javascript\">                require([\"plotly\"], function(Plotly) {                    window.PLOTLYENV=window.PLOTLYENV || {};                                    if (document.getElementById(\"4da29133-d14a-4994-9901-0da4ec955640\")) {                    Plotly.newPlot(                        \"4da29133-d14a-4994-9901-0da4ec955640\",                        [{\"line\":{\"color\":\"purple\",\"width\":2},\"mode\":\"lines\",\"name\":\"PR Curve (AP = 0.898)\",\"x\":[1.0,1.0,1.0,0.9969135802469136,0.9938271604938271,0.9938271604938271,0.9938271604938271,0.9938271604938271,0.9907407407407407,0.9907407407407407,0.9876543209876543,0.9845679012345679,0.9814814814814815,0.9783950617283951,0.9753086419753086,0.9722222222222222,0.9691358024691358,0.9660493827160493,0.9660493827160493,0.9629629629629629,0.9598765432098766,0.9567901234567902,0.9567901234567902,0.9567901234567902,0.9567901234567902,0.9537037037037037,0.9537037037037037,0.9506172839506173,0.9506172839506173,0.9475308641975309,0.9444444444444444,0.941358024691358,0.9382716049382716,0.9351851851851852,0.9351851851851852,0.9351851851851852,0.9351851851851852,0.9351851851851852,0.9320987654320988,0.9290123456790124,0.9259259259259259,0.9228395061728395,0.9197530864197531,0.9166666666666666,0.9166666666666666,0.9166666666666666,0.9135802469135802,0.9104938271604939,0.9104938271604939,0.9074074074074074,0.904320987654321,0.9012345679012346,0.8981481481481481,0.8981481481481481,0.8950617283950617,0.8950617283950617,0.8919753086419753,0.8888888888888888,0.8858024691358025,0.8827160493827161,0.8796296296296297,0.8765432098765432,0.8765432098765432,0.8734567901234568,0.8734567901234568,0.8703703703703703,0.8672839506172839,0.8641975308641975,0.8611111111111112,0.8580246913580247,0.8580246913580247,0.8549382716049383,0.8518518518518519,0.8487654320987654,0.845679012345679,0.8425925925925926,0.8395061728395061,0.8395061728395061,0.8395061728395061,0.8395061728395061,0.8364197530864198,0.8333333333333334,0.8302469135802469,0.8271604938271605,0.8271604938271605,0.8271604938271605,0.8240740740740741,0.8240740740740741,0.8240740740740741,0.8209876543209876,0.8179012345679012,0.8179012345679012,0.8148148148148148,0.8117283950617284,0.808641975308642,0.8055555555555556,0.8055555555555556,0.8024691358024691,0.7993827160493827,0.7993827160493827,0.7962962962962963,0.7932098765432098,0.7901234567901234,0.7870370370370371,0.7839506172839507,0.7808641975308642,0.7808641975308642,0.7777777777777778,0.7777777777777778,0.7777777777777778,0.7746913580246914,0.7716049382716049,0.7716049382716049,0.7685185185185185,0.7654320987654321,0.7623456790123457,0.7592592592592593,0.7561728395061729,0.7530864197530864,0.75,0.75,0.75,0.7469135802469136,0.7438271604938271,0.7407407407407407,0.7407407407407407,0.7407407407407407,0.7376543209876543,0.7376543209876543,0.7345679012345679,0.7314814814814815,0.7283950617283951,0.7283950617283951,0.7253086419753086,0.7253086419753086,0.7253086419753086,0.7222222222222222,0.7191358024691358,0.7160493827160493,0.7129629629629629,0.7098765432098766,0.7067901234567902,0.7037037037037037,0.7037037037037037,0.7006172839506173,0.6975308641975309,0.6975308641975309,0.6975308641975309,0.6944444444444444,0.691358024691358,0.6882716049382716,0.6882716049382716,0.6882716049382716,0.6851851851851852,0.6820987654320988,0.6820987654320988,0.6790123456790124,0.6759259259259259,0.6728395061728395,0.6697530864197531,0.6666666666666666,0.6635802469135802,0.6604938271604939,0.6574074074074074,0.6574074074074074,0.6574074074074074,0.654320987654321,0.6512345679012346,0.6512345679012346,0.6481481481481481,0.6450617283950617,0.6419753086419753,0.6388888888888888,0.6358024691358025,0.6327160493827161,0.6327160493827161,0.6296296296296297,0.6265432098765432,0.6234567901234568,0.6203703703703703,0.6172839506172839,0.6141975308641975,0.6111111111111112,0.6080246913580247,0.6080246913580247,0.6049382716049383,0.6018518518518519,0.5987654320987654,0.595679012345679,0.5925925925925926,0.5925925925925926,0.5895061728395061,0.5864197530864198,0.5833333333333334,0.5802469135802469,0.5771604938271605,0.5740740740740741,0.5709876543209876,0.5709876543209876,0.5679012345679012,0.5648148148148148,0.5648148148148148,0.5617283950617284,0.558641975308642,0.5555555555555556,0.5555555555555556,0.5524691358024691,0.5493827160493827,0.5462962962962963,0.5432098765432098,0.5401234567901234,0.5370370370370371,0.5339506172839507,0.5308641975308642,0.5277777777777778,0.5246913580246914,0.5246913580246914,0.5216049382716049,0.5185185185185185,0.5154320987654321,0.5123456790123457,0.5123456790123457,0.5092592592592593,0.5061728395061729,0.5030864197530864,0.5,0.49691358024691357,0.49382716049382713,0.49074074074074076,0.4876543209876543,0.4845679012345679,0.48148148148148145,0.4783950617283951,0.47530864197530864,0.4722222222222222,0.4691358024691358,0.4660493827160494,0.46296296296296297,0.45987654320987653,0.4567901234567901,0.4537037037037037,0.4506172839506173,0.44753086419753085,0.4444444444444444,0.44135802469135804,0.4382716049382716,0.4382716049382716,0.4351851851851852,0.43209876543209874,0.42901234567901236,0.42592592592592593,0.42592592592592593,0.4228395061728395,0.4228395061728395,0.41975308641975306,0.4166666666666667,0.41358024691358025,0.4104938271604938,0.4074074074074074,0.404320987654321,0.404320987654321,0.4012345679012346,0.39814814814814814,0.3950617283950617,0.39197530864197533,0.3888888888888889,0.38580246913580246,0.38271604938271603,0.38271604938271603,0.37962962962962965,0.3765432098765432,0.3734567901234568,0.37037037037037035,0.36728395061728397,0.36728395061728397,0.36419753086419754,0.3611111111111111,0.35802469135802467,0.3549382716049383,0.35185185185185186,0.3487654320987654,0.345679012345679,0.3425925925925926,0.3395061728395062,0.33641975308641975,0.3333333333333333,0.33024691358024694,0.3271604938271605,0.32407407407407407,0.32098765432098764,0.31790123456790126,0.3148148148148148,0.3117283950617284,0.30864197530864196,0.3055555555555556,0.30246913580246915,0.2993827160493827,0.2962962962962963,0.2932098765432099,0.29012345679012347,0.28703703703703703,0.2839506172839506,0.2808641975308642,0.2777777777777778,0.27469135802469136,0.2716049382716049,0.26851851851851855,0.2654320987654321,0.2623456790123457,0.25925925925925924,0.25617283950617287,0.25308641975308643,0.25,0.24691358024691357,0.24382716049382716,0.24074074074074073,0.23765432098765432,0.2345679012345679,0.23148148148148148,0.22839506172839505,0.22839506172839505,0.22530864197530864,0.2222222222222222,0.2191358024691358,0.21604938271604937,0.21296296296296297,0.20987654320987653,0.20679012345679013,0.2037037037037037,0.2006172839506173,0.19753086419753085,0.19444444444444445,0.19135802469135801,0.1882716049382716,0.1882716049382716,0.18518518518518517,0.18209876543209877,0.17901234567901234,0.17592592592592593,0.17592592592592593,0.1728395061728395,0.1697530864197531,0.16666666666666666,0.16358024691358025,0.16049382716049382,0.1574074074074074,0.15432098765432098,0.15123456790123457,0.14814814814814814,0.14506172839506173,0.1419753086419753,0.1388888888888889,0.13580246913580246,0.13271604938271606,0.12962962962962962,0.12962962962962962,0.12654320987654322,0.12345679012345678,0.12037037037037036,0.11728395061728394,0.11419753086419752,0.1111111111111111,0.10802469135802469,0.10493827160493827,0.10185185185185185,0.09876543209876543,0.09567901234567901,0.09567901234567901,0.09259259259259259,0.08950617283950617,0.08641975308641975,0.08333333333333333,0.08024691358024691,0.07716049382716049,0.07407407407407407,0.07098765432098765,0.06790123456790123,0.06481481481481481,0.06172839506172839,0.05864197530864197,0.05555555555555555,0.05246913580246913,0.04938271604938271,0.046296296296296294,0.043209876543209874,0.040123456790123455,0.037037037037037035,0.037037037037037035,0.033950617283950615,0.030864197530864196,0.027777777777777776,0.024691358024691357,0.021604938271604937,0.018518518518518517,0.015432098765432098,0.012345679012345678,0.009259259259259259,0.006172839506172839,0.006172839506172839,0.0030864197530864196,0.0],\"y\":[0.81,0.8120300751879699,0.8140703517587939,0.8136020151133502,0.8131313131313131,0.8151898734177215,0.817258883248731,0.8193384223918575,0.8188775510204082,0.8209718670076727,0.8205128205128205,0.8200514138817481,0.8195876288659794,0.8191214470284238,0.8186528497409327,0.8181818181818182,0.8177083333333334,0.8172323759791122,0.819371727748691,0.8188976377952756,0.8184210526315789,0.8179419525065963,0.8201058201058201,0.8222811671087533,0.824468085106383,0.824,0.8262032085561497,0.8257372654155496,0.8279569892473119,0.8274932614555256,0.827027027027027,0.8265582655826558,0.8260869565217391,0.8256130790190735,0.8278688524590164,0.8301369863013699,0.8324175824175825,0.8347107438016529,0.8342541436464088,0.8337950138504155,0.8333333333333334,0.8328690807799443,0.8324022346368715,0.8319327731092437,0.8342696629213483,0.8366197183098592,0.8361581920903954,0.8356940509915014,0.8380681818181818,0.8376068376068376,0.8371428571428572,0.836676217765043,0.8362068965517241,0.8386167146974063,0.838150289017341,0.8405797101449275,0.8401162790697675,0.8396501457725948,0.8391812865497076,0.8387096774193549,0.8382352941176471,0.8377581120943953,0.8402366863905325,0.8397626112759644,0.8422619047619048,0.8417910447761194,0.8413173652694611,0.8408408408408409,0.8403614457831325,0.8398791540785498,0.8424242424242424,0.8419452887537994,0.8414634146341463,0.8409785932721713,0.8404907975460123,0.84,0.8395061728395061,0.8421052631578947,0.84472049689441,0.8473520249221184,0.846875,0.8463949843260188,0.8459119496855346,0.8454258675078864,0.8481012658227848,0.8507936507936508,0.8503184713375797,0.853035143769968,0.8557692307692307,0.8553054662379421,0.8548387096774194,0.8576051779935275,0.8571428571428571,0.8566775244299675,0.8562091503267973,0.8557377049180328,0.8585526315789473,0.858085808580858,0.8576158940397351,0.8604651162790697,0.86,0.8595317725752508,0.8590604026845637,0.8585858585858586,0.8581081081081081,0.8576271186440678,0.8605442176870748,0.8600682593856656,0.863013698630137,0.865979381443299,0.8655172413793103,0.8650519031141869,0.8680555555555556,0.867595818815331,0.8671328671328671,0.8666666666666667,0.8661971830985915,0.8657243816254417,0.8652482269503546,0.8647686832740213,0.8678571428571429,0.8709677419354839,0.8705035971223022,0.8700361010830325,0.8695652173913043,0.8727272727272727,0.8759124087591241,0.8754578754578755,0.8786764705882353,0.8782287822878229,0.8777777777777778,0.8773234200743495,0.8805970149253731,0.8801498127340824,0.8834586466165414,0.8867924528301887,0.8863636363636364,0.8859315589353612,0.8854961832061069,0.8850574712643678,0.8846153846153846,0.8841698841698842,0.8837209302325582,0.8871595330739299,0.88671875,0.8862745098039215,0.889763779527559,0.8932806324110671,0.8928571428571429,0.8924302788844621,0.892,0.8955823293172691,0.8991935483870968,0.8987854251012146,0.8983739837398373,0.9020408163265307,0.9016393442622951,0.9012345679012346,0.9008264462809917,0.9004149377593361,0.9,0.899581589958159,0.8991596638655462,0.8987341772151899,0.902542372881356,0.9063829787234042,0.905982905982906,0.9055793991416309,0.9094827586206896,0.9090909090909091,0.908695652173913,0.9082969432314411,0.9078947368421053,0.9074889867841409,0.9070796460176991,0.9111111111111111,0.9107142857142857,0.9103139013452914,0.9099099099099099,0.9095022624434389,0.9090909090909091,0.908675799086758,0.908256880733945,0.9078341013824884,0.9120370370370371,0.9116279069767442,0.9112149532710281,0.9107981220657277,0.910377358490566,0.909952606635071,0.9142857142857143,0.9138755980861244,0.9134615384615384,0.9130434782608695,0.912621359223301,0.9121951219512195,0.9117647058823529,0.9113300492610837,0.9158415841584159,0.9154228855721394,0.915,0.9195979899497487,0.9191919191919192,0.9187817258883249,0.9183673469387755,0.9230769230769231,0.9226804123711341,0.9222797927461139,0.921875,0.9214659685863874,0.9210526315789473,0.9206349206349206,0.9202127659574468,0.9197860962566845,0.9193548387096774,0.918918918918919,0.9239130434782609,0.9234972677595629,0.9230769230769231,0.9226519337016574,0.9222222222222223,0.9273743016759777,0.9269662921348315,0.9265536723163842,0.9261363636363636,0.9257142857142857,0.9252873563218391,0.9248554913294798,0.9244186046511628,0.9239766081871345,0.9235294117647059,0.9230769230769231,0.9226190476190477,0.9221556886227545,0.9216867469879518,0.9212121212121213,0.9207317073170732,0.9202453987730062,0.9197530864197531,0.9192546583850931,0.91875,0.9182389937106918,0.9177215189873418,0.9171974522292994,0.9166666666666666,0.9161290322580645,0.922077922077922,0.9215686274509803,0.9210526315789473,0.9205298013245033,0.92,0.9261744966442953,0.9256756756756757,0.9319727891156463,0.9315068493150684,0.9310344827586207,0.9305555555555556,0.9300699300699301,0.9295774647887324,0.9290780141843972,0.9357142857142857,0.935251798561151,0.9347826086956522,0.9343065693430657,0.9338235294117647,0.9333333333333333,0.9328358208955224,0.9323308270676691,0.9393939393939394,0.9389312977099237,0.9384615384615385,0.937984496124031,0.9375,0.937007874015748,0.9444444444444444,0.944,0.9435483870967742,0.943089430894309,0.9426229508196722,0.9421487603305785,0.9416666666666667,0.9411764705882353,0.940677966101695,0.9401709401709402,0.9396551724137931,0.9391304347826087,0.9385964912280702,0.9380530973451328,0.9375,0.9369369369369369,0.9363636363636364,0.9357798165137615,0.9351851851851852,0.9345794392523364,0.9339622641509434,0.9333333333333333,0.9326923076923077,0.9320388349514563,0.9313725490196079,0.9306930693069307,0.93,0.9292929292929293,0.9285714285714286,0.9278350515463918,0.9270833333333334,0.9263157894736842,0.925531914893617,0.9247311827956989,0.9239130434782609,0.9230769230769231,0.9222222222222223,0.9213483146067416,0.9204545454545454,0.9195402298850575,0.9186046511627907,0.9176470588235294,0.9166666666666666,0.9156626506024096,0.9146341463414634,0.9135802469135802,0.925,0.9240506329113924,0.9230769230769231,0.922077922077922,0.9210526315789473,0.92,0.918918918918919,0.9178082191780822,0.9166666666666666,0.9154929577464789,0.9142857142857143,0.9130434782608695,0.9117647058823529,0.9104477611940298,0.9242424242424242,0.9230769230769231,0.921875,0.9206349206349206,0.9193548387096774,0.9344262295081968,0.9333333333333333,0.9322033898305084,0.9310344827586207,0.9298245614035088,0.9285714285714286,0.9272727272727272,0.9259259259259259,0.9245283018867925,0.9230769230769231,0.9215686274509803,0.92,0.9183673469387755,0.9166666666666666,0.9148936170212766,0.9130434782608695,0.9333333333333333,0.9318181818181818,0.9302325581395349,0.9285714285714286,0.926829268292683,0.925,0.9230769230769231,0.9210526315789473,0.918918918918919,0.9166666666666666,0.9142857142857143,0.9117647058823529,0.9393939393939394,0.9375,0.9354838709677419,0.9333333333333333,0.9310344827586207,0.9285714285714286,0.9259259259259259,0.9230769230769231,0.92,0.9166666666666666,0.9130434782608695,0.9090909090909091,0.9047619047619048,0.9,0.8947368421052632,0.8888888888888888,0.8823529411764706,0.875,0.8666666666666667,0.8571428571428571,0.9230769230769231,0.9166666666666666,0.9090909090909091,0.9,0.8888888888888888,0.875,0.8571428571428571,0.8333333333333334,0.8,0.75,0.6666666666666666,1.0,1.0,1.0],\"type\":\"scatter\"}],                        {\"template\":{\"data\":{\"histogram2dcontour\":[{\"type\":\"histogram2dcontour\",\"colorbar\":{\"outlinewidth\":0,\"ticks\":\"\"},\"colorscale\":[[0.0,\"#0d0887\"],[0.1111111111111111,\"#46039f\"],[0.2222222222222222,\"#7201a8\"],[0.3333333333333333,\"#9c179e\"],[0.4444444444444444,\"#bd3786\"],[0.5555555555555556,\"#d8576b\"],[0.6666666666666666,\"#ed7953\"],[0.7777777777777778,\"#fb9f3a\"],[0.8888888888888888,\"#fdca26\"],[1.0,\"#f0f921\"]]}],\"choropleth\":[{\"type\":\"choropleth\",\"colorbar\":{\"outlinewidth\":0,\"ticks\":\"\"}}],\"histogram2d\":[{\"type\":\"histogram2d\",\"colorbar\":{\"outlinewidth\":0,\"ticks\":\"\"},\"colorscale\":[[0.0,\"#0d0887\"],[0.1111111111111111,\"#46039f\"],[0.2222222222222222,\"#7201a8\"],[0.3333333333333333,\"#9c179e\"],[0.4444444444444444,\"#bd3786\"],[0.5555555555555556,\"#d8576b\"],[0.6666666666666666,\"#ed7953\"],[0.7777777777777778,\"#fb9f3a\"],[0.8888888888888888,\"#fdca26\"],[1.0,\"#f0f921\"]]}],\"heatmap\":[{\"type\":\"heatmap\",\"colorbar\":{\"outlinewidth\":0,\"ticks\":\"\"},\"colorscale\":[[0.0,\"#0d0887\"],[0.1111111111111111,\"#46039f\"],[0.2222222222222222,\"#7201a8\"],[0.3333333333333333,\"#9c179e\"],[0.4444444444444444,\"#bd3786\"],[0.5555555555555556,\"#d8576b\"],[0.6666666666666666,\"#ed7953\"],[0.7777777777777778,\"#fb9f3a\"],[0.8888888888888888,\"#fdca26\"],[1.0,\"#f0f921\"]]}],\"heatmapgl\":[{\"type\":\"heatmapgl\",\"colorbar\":{\"outlinewidth\":0,\"ticks\":\"\"},\"colorscale\":[[0.0,\"#0d0887\"],[0.1111111111111111,\"#46039f\"],[0.2222222222222222,\"#7201a8\"],[0.3333333333333333,\"#9c179e\"],[0.4444444444444444,\"#bd3786\"],[0.5555555555555556,\"#d8576b\"],[0.6666666666666666,\"#ed7953\"],[0.7777777777777778,\"#fb9f3a\"],[0.8888888888888888,\"#fdca26\"],[1.0,\"#f0f921\"]]}],\"contourcarpet\":[{\"type\":\"contourcarpet\",\"colorbar\":{\"outlinewidth\":0,\"ticks\":\"\"}}],\"contour\":[{\"type\":\"contour\",\"colorbar\":{\"outlinewidth\":0,\"ticks\":\"\"},\"colorscale\":[[0.0,\"#0d0887\"],[0.1111111111111111,\"#46039f\"],[0.2222222222222222,\"#7201a8\"],[0.3333333333333333,\"#9c179e\"],[0.4444444444444444,\"#bd3786\"],[0.5555555555555556,\"#d8576b\"],[0.6666666666666666,\"#ed7953\"],[0.7777777777777778,\"#fb9f3a\"],[0.8888888888888888,\"#fdca26\"],[1.0,\"#f0f921\"]]}],\"surface\":[{\"type\":\"surface\",\"colorbar\":{\"outlinewidth\":0,\"ticks\":\"\"},\"colorscale\":[[0.0,\"#0d0887\"],[0.1111111111111111,\"#46039f\"],[0.2222222222222222,\"#7201a8\"],[0.3333333333333333,\"#9c179e\"],[0.4444444444444444,\"#bd3786\"],[0.5555555555555556,\"#d8576b\"],[0.6666666666666666,\"#ed7953\"],[0.7777777777777778,\"#fb9f3a\"],[0.8888888888888888,\"#fdca26\"],[1.0,\"#f0f921\"]]}],\"mesh3d\":[{\"type\":\"mesh3d\",\"colorbar\":{\"outlinewidth\":0,\"ticks\":\"\"}}],\"scatter\":[{\"fillpattern\":{\"fillmode\":\"overlay\",\"size\":10,\"solidity\":0.2},\"type\":\"scatter\"}],\"parcoords\":[{\"type\":\"parcoords\",\"line\":{\"colorbar\":{\"outlinewidth\":0,\"ticks\":\"\"}}}],\"scatterpolargl\":[{\"type\":\"scatterpolargl\",\"marker\":{\"colorbar\":{\"outlinewidth\":0,\"ticks\":\"\"}}}],\"bar\":[{\"error_x\":{\"color\":\"#2a3f5f\"},\"error_y\":{\"color\":\"#2a3f5f\"},\"marker\":{\"line\":{\"color\":\"#E5ECF6\",\"width\":0.5},\"pattern\":{\"fillmode\":\"overlay\",\"size\":10,\"solidity\":0.2}},\"type\":\"bar\"}],\"scattergeo\":[{\"type\":\"scattergeo\",\"marker\":{\"colorbar\":{\"outlinewidth\":0,\"ticks\":\"\"}}}],\"scatterpolar\":[{\"type\":\"scatterpolar\",\"marker\":{\"colorbar\":{\"outlinewidth\":0,\"ticks\":\"\"}}}],\"histogram\":[{\"marker\":{\"pattern\":{\"fillmode\":\"overlay\",\"size\":10,\"solidity\":0.2}},\"type\":\"histogram\"}],\"scattergl\":[{\"type\":\"scattergl\",\"marker\":{\"colorbar\":{\"outlinewidth\":0,\"ticks\":\"\"}}}],\"scatter3d\":[{\"type\":\"scatter3d\",\"line\":{\"colorbar\":{\"outlinewidth\":0,\"ticks\":\"\"}},\"marker\":{\"colorbar\":{\"outlinewidth\":0,\"ticks\":\"\"}}}],\"scattermapbox\":[{\"type\":\"scattermapbox\",\"marker\":{\"colorbar\":{\"outlinewidth\":0,\"ticks\":\"\"}}}],\"scatterternary\":[{\"type\":\"scatterternary\",\"marker\":{\"colorbar\":{\"outlinewidth\":0,\"ticks\":\"\"}}}],\"scattercarpet\":[{\"type\":\"scattercarpet\",\"marker\":{\"colorbar\":{\"outlinewidth\":0,\"ticks\":\"\"}}}],\"carpet\":[{\"aaxis\":{\"endlinecolor\":\"#2a3f5f\",\"gridcolor\":\"white\",\"linecolor\":\"white\",\"minorgridcolor\":\"white\",\"startlinecolor\":\"#2a3f5f\"},\"baxis\":{\"endlinecolor\":\"#2a3f5f\",\"gridcolor\":\"white\",\"linecolor\":\"white\",\"minorgridcolor\":\"white\",\"startlinecolor\":\"#2a3f5f\"},\"type\":\"carpet\"}],\"table\":[{\"cells\":{\"fill\":{\"color\":\"#EBF0F8\"},\"line\":{\"color\":\"white\"}},\"header\":{\"fill\":{\"color\":\"#C8D4E3\"},\"line\":{\"color\":\"white\"}},\"type\":\"table\"}],\"barpolar\":[{\"marker\":{\"line\":{\"color\":\"#E5ECF6\",\"width\":0.5},\"pattern\":{\"fillmode\":\"overlay\",\"size\":10,\"solidity\":0.2}},\"type\":\"barpolar\"}],\"pie\":[{\"automargin\":true,\"type\":\"pie\"}]},\"layout\":{\"autotypenumbers\":\"strict\",\"colorway\":[\"#636efa\",\"#EF553B\",\"#00cc96\",\"#ab63fa\",\"#FFA15A\",\"#19d3f3\",\"#FF6692\",\"#B6E880\",\"#FF97FF\",\"#FECB52\"],\"font\":{\"color\":\"#2a3f5f\"},\"hovermode\":\"closest\",\"hoverlabel\":{\"align\":\"left\"},\"paper_bgcolor\":\"white\",\"plot_bgcolor\":\"#E5ECF6\",\"polar\":{\"bgcolor\":\"#E5ECF6\",\"angularaxis\":{\"gridcolor\":\"white\",\"linecolor\":\"white\",\"ticks\":\"\"},\"radialaxis\":{\"gridcolor\":\"white\",\"linecolor\":\"white\",\"ticks\":\"\"}},\"ternary\":{\"bgcolor\":\"#E5ECF6\",\"aaxis\":{\"gridcolor\":\"white\",\"linecolor\":\"white\",\"ticks\":\"\"},\"baxis\":{\"gridcolor\":\"white\",\"linecolor\":\"white\",\"ticks\":\"\"},\"caxis\":{\"gridcolor\":\"white\",\"linecolor\":\"white\",\"ticks\":\"\"}},\"coloraxis\":{\"colorbar\":{\"outlinewidth\":0,\"ticks\":\"\"}},\"colorscale\":{\"sequential\":[[0.0,\"#0d0887\"],[0.1111111111111111,\"#46039f\"],[0.2222222222222222,\"#7201a8\"],[0.3333333333333333,\"#9c179e\"],[0.4444444444444444,\"#bd3786\"],[0.5555555555555556,\"#d8576b\"],[0.6666666666666666,\"#ed7953\"],[0.7777777777777778,\"#fb9f3a\"],[0.8888888888888888,\"#fdca26\"],[1.0,\"#f0f921\"]],\"sequentialminus\":[[0.0,\"#0d0887\"],[0.1111111111111111,\"#46039f\"],[0.2222222222222222,\"#7201a8\"],[0.3333333333333333,\"#9c179e\"],[0.4444444444444444,\"#bd3786\"],[0.5555555555555556,\"#d8576b\"],[0.6666666666666666,\"#ed7953\"],[0.7777777777777778,\"#fb9f3a\"],[0.8888888888888888,\"#fdca26\"],[1.0,\"#f0f921\"]],\"diverging\":[[0,\"#8e0152\"],[0.1,\"#c51b7d\"],[0.2,\"#de77ae\"],[0.3,\"#f1b6da\"],[0.4,\"#fde0ef\"],[0.5,\"#f7f7f7\"],[0.6,\"#e6f5d0\"],[0.7,\"#b8e186\"],[0.8,\"#7fbc41\"],[0.9,\"#4d9221\"],[1,\"#276419\"]]},\"xaxis\":{\"gridcolor\":\"white\",\"linecolor\":\"white\",\"ticks\":\"\",\"title\":{\"standoff\":15},\"zerolinecolor\":\"white\",\"automargin\":true,\"zerolinewidth\":2},\"yaxis\":{\"gridcolor\":\"white\",\"linecolor\":\"white\",\"ticks\":\"\",\"title\":{\"standoff\":15},\"zerolinecolor\":\"white\",\"automargin\":true,\"zerolinewidth\":2},\"scene\":{\"xaxis\":{\"backgroundcolor\":\"#E5ECF6\",\"gridcolor\":\"white\",\"linecolor\":\"white\",\"showbackground\":true,\"ticks\":\"\",\"zerolinecolor\":\"white\",\"gridwidth\":2},\"yaxis\":{\"backgroundcolor\":\"#E5ECF6\",\"gridcolor\":\"white\",\"linecolor\":\"white\",\"showbackground\":true,\"ticks\":\"\",\"zerolinecolor\":\"white\",\"gridwidth\":2},\"zaxis\":{\"backgroundcolor\":\"#E5ECF6\",\"gridcolor\":\"white\",\"linecolor\":\"white\",\"showbackground\":true,\"ticks\":\"\",\"zerolinecolor\":\"white\",\"gridwidth\":2}},\"shapedefaults\":{\"line\":{\"color\":\"#2a3f5f\"}},\"annotationdefaults\":{\"arrowcolor\":\"#2a3f5f\",\"arrowhead\":0,\"arrowwidth\":1},\"geo\":{\"bgcolor\":\"white\",\"landcolor\":\"#E5ECF6\",\"subunitcolor\":\"white\",\"showland\":true,\"showlakes\":true,\"lakecolor\":\"white\"},\"title\":{\"x\":0.05},\"mapbox\":{\"style\":\"light\"}}},\"title\":{\"text\":\"\\u003cb\\u003ePrecision-Recall Curve (on best layer 12)\\u003c\\u002fb\\u003e\",\"x\":0.5},\"xaxis\":{\"title\":{\"text\":\"Recall\"},\"range\":[0,1.05]},\"yaxis\":{\"title\":{\"text\":\"Precision\"},\"range\":[0,1.05]},\"legend\":{\"x\":0.01,\"y\":0.01,\"xanchor\":\"left\",\"yanchor\":\"bottom\"}},                        {\"responsive\": true}                    ).then(function(){\n",
       "                            \n",
       "var gd = document.getElementById('4da29133-d14a-4994-9901-0da4ec955640');\n",
       "var x = new MutationObserver(function (mutations, observer) {{\n",
       "        var display = window.getComputedStyle(gd).display;\n",
       "        if (!display || display === 'none') {{\n",
       "            console.log([gd, 'removed!']);\n",
       "            Plotly.purge(gd);\n",
       "            observer.disconnect();\n",
       "        }}\n",
       "}});\n",
       "\n",
       "// Listen for the removal of the full notebook cells\n",
       "var notebookContainer = gd.closest('#notebook-container');\n",
       "if (notebookContainer) {{\n",
       "    x.observe(notebookContainer, {childList: true});\n",
       "}}\n",
       "\n",
       "// Listen for the clearing of the current output cell\n",
       "var outputEl = gd.closest('.output');\n",
       "if (outputEl) {{\n",
       "    x.observe(outputEl, {childList: true});\n",
       "}}\n",
       "\n",
       "                        })                };                });            </script>        </div>"
      ]
     },
     "metadata": {},
     "output_type": "display_data"
    }
   ],
   "source": [
    "plot_precision_recall_curve(\n",
    "    labels=best_layer[1][\"labels\"],\n",
    "    scores=best_layer[1][\"scores\"],\n",
    "    artifact_dir=\"/home/ubuntu/thesis/sae/results/ablated/figures/probe_f1.pdf\",\n",
    "    title=f\"Precision-Recall Curve (on best layer {best_layer[0]})\"\n",
    ")"
   ]
  },
  {
   "cell_type": "code",
   "execution_count": 8,
   "id": "0965ec1b-18d6-419f-abee-0fff45a70d26",
   "metadata": {},
   "outputs": [],
   "source": [
    "torch.save(\n",
    "    {k: v.cpu() for k, v in trainer.probes[best_layer[0]].state_dict().items()},\n",
    "    f\"results/ablated/probes/best_probes/weight.pt\",\n",
    ")\n",
    "torch.save(\n",
    "    trainer.layer_stats[best_layer[0]][0].to(\"cpu\"),\n",
    "    f\"results/ablated/probes/best_probes/mean.pt\",\n",
    ")\n",
    "torch.save(\n",
    "    trainer.layer_stats[best_layer[0]][1].to(\"cpu\"),\n",
    "    f\"results/ablated/probes/best_probes/std.pt\",\n",
    ")"
   ]
  }
 ],
 "metadata": {
  "kernelspec": {
   "display_name": ".venv",
   "language": "python",
   "name": "python3"
  },
  "language_info": {
   "codemirror_mode": {
    "name": "ipython",
    "version": 3
   },
   "file_extension": ".py",
   "mimetype": "text/x-python",
   "name": "python",
   "nbconvert_exporter": "python",
   "pygments_lexer": "ipython3",
   "version": "3.10.12"
  }
 },
 "nbformat": 4,
 "nbformat_minor": 5
}
