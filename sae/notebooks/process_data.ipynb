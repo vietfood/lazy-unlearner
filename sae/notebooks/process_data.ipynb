{
 "cells": [
  {
   "cell_type": "code",
   "execution_count": 1,
   "id": "3d839213",
   "metadata": {},
   "outputs": [],
   "source": [
    "import torch\n",
    "import einops\n",
    "from datasets import concatenate_datasets\n",
    "import random\n",
    "\n",
    "from sae_refusal.model.gemma import GemmaModel\n",
    "from sae_refusal.model.embedding import EmbeddingModel\n",
    "from sae_refusal import set_seed, clear_memory\n",
    "from sae_refusal.data import (\n",
    "    load_wmdp,\n",
    "    split,\n",
    "    to_instructions,\n",
    "    sample_data\n",
    ")\n",
    "from sae_refusal.probe import LinearProbe\n",
    "from sae_refusal.pipeline.utils import (\n",
    "    generate_and_save_completions\n",
    ")\n",
    "from sae_refusal.pipeline.generate_directions import generate_directions_rmu\n",
    "from sae_refusal.plot import (\n",
    "    plot_scores_plotly,\n",
    "    plot_refusal_scores_plotly,\n",
    ")\n",
    "from sae_refusal.pipeline.activations import (\n",
    "    get_activations,\n",
    "    get_activations_pre\n",
    ")"
   ]
  },
  {
   "cell_type": "code",
   "execution_count": 2,
   "id": "9e6924b2",
   "metadata": {},
   "outputs": [],
   "source": [
    "AYER_ID = 9\n",
    "SAMPLE_SIZE = 300  # For each dataset\n",
    "VAL_SIZE = 0.2\n",
    "SEED = 42\n",
    "MAX_LEN = 1024\n",
    "\n",
    "ARTIFACT_DIR = \"results/ablated\"\n",
    "\n",
    "MODEL_NAME = \"google/gemma-2-2b\"\n",
    "RMU_NAME = \"lenguyen1807/gemma-2-2b-RMU\"\n",
    "ABLATED_NAME = \"lenguyen1807/gemma-2-2b-RMU-ablated\""
   ]
  },
  {
   "cell_type": "code",
   "execution_count": 3,
   "id": "ddbc6909",
   "metadata": {},
   "outputs": [],
   "source": [
    "set_seed(SEED)\n",
    "torch.set_grad_enabled(False)\n",
    "torch.set_float32_matmul_precision(\"high\")"
   ]
  },
  {
   "cell_type": "markdown",
   "id": "e09de405",
   "metadata": {},
   "source": [
    "### Load Data"
   ]
  },
  {
   "cell_type": "code",
   "execution_count": 4,
   "id": "3c71b0ba",
   "metadata": {},
   "outputs": [],
   "source": [
    "# Filter which question\n",
    "def filter_which(data):\n",
    "    return data if not data[\"question\"].lower().startswith(\"which\") else None"
   ]
  },
  {
   "cell_type": "code",
   "execution_count": 5,
   "id": "c2d4513b",
   "metadata": {},
   "outputs": [],
   "source": [
    "wmdp_bio, wmdp_cyber = load_wmdp(sample_size=None, seed=SEED)"
   ]
  },
  {
   "cell_type": "code",
   "execution_count": 6,
   "id": "a2d421db",
   "metadata": {},
   "outputs": [],
   "source": [
    "# Remove first 500 data (which is used by probe)\n",
    "bio_data_raw = wmdp_bio.select(list(range(500, len(wmdp_bio))))\n",
    "cyber_data_raw = wmdp_cyber.select(list(range(500, len(wmdp_cyber))))"
   ]
  },
  {
   "cell_type": "code",
   "execution_count": 7,
   "id": "3582d9ee",
   "metadata": {},
   "outputs": [],
   "source": [
    "# Then filter out which function\n",
    "bio_data = bio_data_raw.filter(filter_which)\n",
    "cyber_data = cyber_data_raw.filter(filter_which)\n",
    "\n",
    "# Then take sample (400)\n",
    "# And filter MAX_LEN function (only 1024)\n",
    "bio_sample = sample_data(\n",
    "    bio_data,\n",
    "    sample_size=SAMPLE_SIZE,\n",
    "    seed=SEED,\n",
    "    max_len=MAX_LEN,\n",
    "    key=\"question\"\n",
    ")\n",
    "\n",
    "cyber_sample = sample_data(\n",
    "    cyber_data,\n",
    "    sample_size=SAMPLE_SIZE,\n",
    "    seed=SEED,\n",
    "    max_len=MAX_LEN, # We take only 1024 max length for faster calculation\n",
    "    key=\"question\"\n",
    ")"
   ]
  },
  {
   "cell_type": "code",
   "execution_count": 8,
   "id": "843b786a",
   "metadata": {},
   "outputs": [],
   "source": [
    "bio_train, bio_val = split(bio_sample, test_size=VAL_SIZE)\n",
    "cyber_train, cyber_val = split(cyber_sample, test_size=VAL_SIZE)"
   ]
  },
  {
   "cell_type": "code",
   "execution_count": 9,
   "id": "2e1fba0b",
   "metadata": {},
   "outputs": [
    {
     "data": {
      "text/plain": [
       "(240, 60)"
      ]
     },
     "execution_count": 9,
     "metadata": {},
     "output_type": "execute_result"
    }
   ],
   "source": [
    "len(bio_train), len(bio_val)"
   ]
  },
  {
   "cell_type": "code",
   "execution_count": 10,
   "id": "a1d420af",
   "metadata": {},
   "outputs": [
    {
     "data": {
      "application/vnd.jupyter.widget-view+json": {
       "model_id": "cf513dd01a6c40208d65ffaec61e2a65",
       "version_major": 2,
       "version_minor": 0
      },
      "text/plain": [
       "Filter:   0%|          | 0/773 [00:00<?, ? examples/s]"
      ]
     },
     "metadata": {},
     "output_type": "display_data"
    },
    {
     "data": {
      "application/vnd.jupyter.widget-view+json": {
       "model_id": "e0b88774303840d2875466436c201580",
       "version_major": 2,
       "version_minor": 0
      },
      "text/plain": [
       "Filter:   0%|          | 0/1487 [00:00<?, ? examples/s]"
      ]
     },
     "metadata": {},
     "output_type": "display_data"
    }
   ],
   "source": [
    "left_bio = bio_data_raw.filter(lambda x: x not in bio_sample)\n",
    "left_cyber = cyber_data_raw.filter(lambda x: x not in cyber_sample)"
   ]
  },
  {
   "cell_type": "code",
   "execution_count": 11,
   "id": "eadce9c0",
   "metadata": {},
   "outputs": [
    {
     "data": {
      "text/plain": [
       "(473, 1187)"
      ]
     },
     "execution_count": 11,
     "metadata": {},
     "output_type": "execute_result"
    }
   ],
   "source": [
    "len(left_bio), len(left_cyber)"
   ]
  },
  {
   "cell_type": "code",
   "execution_count": 12,
   "id": "014d30a8",
   "metadata": {},
   "outputs": [],
   "source": [
    "# sample 100 data each for t-test evaluate\n",
    "t_bio = left_bio.select(range(100))\n",
    "t_cyber = left_cyber.select(range(100))"
   ]
  },
  {
   "cell_type": "code",
   "execution_count": 13,
   "id": "89228a4d",
   "metadata": {},
   "outputs": [],
   "source": [
    "left_bio = left_bio.select(range(100, len(left_bio)))\n",
    "left_cyber = left_cyber.select(range(100, len(left_cyber)))"
   ]
  },
  {
   "cell_type": "code",
   "execution_count": 14,
   "id": "4b7578d4",
   "metadata": {},
   "outputs": [
    {
     "data": {
      "application/vnd.jupyter.widget-view+json": {
       "model_id": "3aff08c33d03441b81e63806f741b5b1",
       "version_major": 2,
       "version_minor": 0
      },
      "text/plain": [
       "Saving the dataset (0/1 shards):   0%|          | 0/240 [00:00<?, ? examples/s]"
      ]
     },
     "metadata": {},
     "output_type": "display_data"
    },
    {
     "data": {
      "application/vnd.jupyter.widget-view+json": {
       "model_id": "643fe65555a84f25a8aa85d8ceaebdc2",
       "version_major": 2,
       "version_minor": 0
      },
      "text/plain": [
       "Saving the dataset (0/1 shards):   0%|          | 0/60 [00:00<?, ? examples/s]"
      ]
     },
     "metadata": {},
     "output_type": "display_data"
    },
    {
     "data": {
      "application/vnd.jupyter.widget-view+json": {
       "model_id": "f5e2a0c823e445c1a10b4f5b0014c859",
       "version_major": 2,
       "version_minor": 0
      },
      "text/plain": [
       "Saving the dataset (0/1 shards):   0%|          | 0/240 [00:00<?, ? examples/s]"
      ]
     },
     "metadata": {},
     "output_type": "display_data"
    },
    {
     "data": {
      "application/vnd.jupyter.widget-view+json": {
       "model_id": "20044fcde26b449697eb0dd5187781fe",
       "version_major": 2,
       "version_minor": 0
      },
      "text/plain": [
       "Saving the dataset (0/1 shards):   0%|          | 0/60 [00:00<?, ? examples/s]"
      ]
     },
     "metadata": {},
     "output_type": "display_data"
    },
    {
     "data": {
      "application/vnd.jupyter.widget-view+json": {
       "model_id": "f4b20fe6ad04483eb9d70f1fd26144f5",
       "version_major": 2,
       "version_minor": 0
      },
      "text/plain": [
       "Saving the dataset (0/1 shards):   0%|          | 0/100 [00:00<?, ? examples/s]"
      ]
     },
     "metadata": {},
     "output_type": "display_data"
    },
    {
     "data": {
      "application/vnd.jupyter.widget-view+json": {
       "model_id": "84170dae4b2e45d380dc9c1903e1720d",
       "version_major": 2,
       "version_minor": 0
      },
      "text/plain": [
       "Saving the dataset (0/1 shards):   0%|          | 0/100 [00:00<?, ? examples/s]"
      ]
     },
     "metadata": {},
     "output_type": "display_data"
    },
    {
     "data": {
      "application/vnd.jupyter.widget-view+json": {
       "model_id": "6c30650a54dc4dc3bc82804f8cd81201",
       "version_major": 2,
       "version_minor": 0
      },
      "text/plain": [
       "Saving the dataset (0/1 shards):   0%|          | 0/373 [00:00<?, ? examples/s]"
      ]
     },
     "metadata": {},
     "output_type": "display_data"
    },
    {
     "data": {
      "application/vnd.jupyter.widget-view+json": {
       "model_id": "f8fd089eab5c4e1a99c8c9e52f4afc33",
       "version_major": 2,
       "version_minor": 0
      },
      "text/plain": [
       "Saving the dataset (0/1 shards):   0%|          | 0/1087 [00:00<?, ? examples/s]"
      ]
     },
     "metadata": {},
     "output_type": "display_data"
    }
   ],
   "source": [
    "bio_train.save_to_disk(f\"{ARTIFACT_DIR}/data/bio_train\")\n",
    "bio_val.save_to_disk(f\"{ARTIFACT_DIR}/data/bio_val\")\n",
    "cyber_train.save_to_disk(f\"{ARTIFACT_DIR}/data/cyber_train\")\n",
    "cyber_val.save_to_disk(f\"{ARTIFACT_DIR}/data/cyber_val\")\n",
    "t_bio.save_to_disk(f\"{ARTIFACT_DIR}/data/t_bio\")\n",
    "t_cyber.save_to_disk(f\"{ARTIFACT_DIR}/data/t_cyber\")\n",
    "left_bio.save_to_disk(f\"{ARTIFACT_DIR}/data/left_bio\")\n",
    "left_cyber.save_to_disk(f\"{ARTIFACT_DIR}/data/left_cyber\")"
   ]
  }
 ],
 "metadata": {
  "kernelspec": {
   "display_name": ".venv",
   "language": "python",
   "name": "python3"
  },
  "language_info": {
   "codemirror_mode": {
    "name": "ipython",
    "version": 3
   },
   "file_extension": ".py",
   "mimetype": "text/x-python",
   "name": "python",
   "nbconvert_exporter": "python",
   "pygments_lexer": "ipython3",
   "version": "3.10.12"
  }
 },
 "nbformat": 4,
 "nbformat_minor": 5
}
