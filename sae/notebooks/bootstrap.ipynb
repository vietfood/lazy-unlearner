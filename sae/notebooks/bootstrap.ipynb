{
 "cells": [
  {
   "cell_type": "code",
   "execution_count": 1,
   "id": "b6d2644b",
   "metadata": {},
   "outputs": [],
   "source": [
    "import torch\n",
    "import einops\n",
    "from datasets import concatenate_datasets, load_from_disk\n",
    "import plotly.graph_objects as go\n",
    "import numpy as np\n",
    "\n",
    "from sae_refusal.model.gemma import GemmaModel\n",
    "from sae_refusal.model.embedding import EmbeddingModel\n",
    "from sae_refusal import set_seed, clear_memory\n",
    "from sae_refusal.data import (\n",
    "    load_wmdp,\n",
    "    split,\n",
    "    to_instructions,\n",
    "    sample_data,\n",
    "    load_harmbench\n",
    ")\n",
    "from sae_refusal.pipeline.select_directions import select_direction\n",
    "from sae_refusal.pipeline.utils import compute_pca, generate_and_save_completions\n",
    "from sae_refusal.probe import LinearProbe\n",
    "from sae_refusal.pipeline.generate_directions import generate_directions_rmu\n",
    "from sae_refusal.pipeline.hook import (\n",
    "    get_all_direction_ablation_hooks,\n",
    "    get_all_direction_ablation_hooks_rmu,\n",
    "    get_activation_addition_input_pre_hook,\n",
    "    get_activation_addition_input_pre_hook_rmu\n",
    ")\n",
    "from sae_refusal.plot import (\n",
    "    plot_scores_plotly,\n",
    "    plot_refusal_scores_plotly,\n",
    ")\n",
    "from sae_refusal.pipeline.activations import (\n",
    "    get_activations,\n",
    "    get_activations_pre\n",
    ")\n",
    "from IPython.display import display, Markdown\n",
    "from sklearn.utils import resample\n",
    "from tqdm.auto import tqdm"
   ]
  },
  {
   "cell_type": "code",
   "execution_count": 2,
   "id": "445df50f",
   "metadata": {},
   "outputs": [],
   "source": [
    "LAYER_ID = 9\n",
    "SAMPLE_SIZE = 400  # For each dataset\n",
    "VAL_SIZE = 0.2\n",
    "SEED = 42\n",
    "MAX_LEN = 1024\n",
    "BOOTSTRAP_K = 1000\n",
    "\n",
    "ARTIFACT_DIR = \"results/ablated\"\n",
    "\n",
    "MODEL_NAME = \"google/gemma-2-2b\"\n",
    "RMU_NAME = \"lenguyen1807/gemma-2-2b-RMU\""
   ]
  },
  {
   "cell_type": "code",
   "execution_count": 3,
   "id": "c183695c",
   "metadata": {},
   "outputs": [],
   "source": [
    "set_seed(SEED)\n",
    "torch.set_grad_enabled(False)\n",
    "torch.set_float32_matmul_precision(\"high\")"
   ]
  },
  {
   "cell_type": "markdown",
   "id": "c35495bb",
   "metadata": {},
   "source": [
    "### Load model"
   ]
  },
  {
   "cell_type": "code",
   "execution_count": 4,
   "id": "b4405526",
   "metadata": {},
   "outputs": [
    {
     "data": {
      "application/vnd.jupyter.widget-view+json": {
       "model_id": "4a448e262ca24ebfac55469c1108324b",
       "version_major": 2,
       "version_minor": 0
      },
      "text/plain": [
       "Loading checkpoint shards:   0%|          | 0/3 [00:00<?, ?it/s]"
      ]
     },
     "metadata": {},
     "output_type": "display_data"
    },
    {
     "data": {
      "application/vnd.jupyter.widget-view+json": {
       "model_id": "acdb001e3db54f549d7f300e055d057e",
       "version_major": 2,
       "version_minor": 0
      },
      "text/plain": [
       "Loading checkpoint shards:   0%|          | 0/3 [00:00<?, ?it/s]"
      ]
     },
     "metadata": {},
     "output_type": "display_data"
    }
   ],
   "source": [
    "base_model = GemmaModel(MODEL_NAME, type=\"none\")\n",
    "rmu_model = GemmaModel(RMU_NAME, type=\"none\")"
   ]
  },
  {
   "cell_type": "code",
   "execution_count": 5,
   "id": "9f60261c",
   "metadata": {},
   "outputs": [
    {
     "data": {
      "text/plain": [
       "<All keys matched successfully>"
      ]
     },
     "execution_count": 5,
     "metadata": {},
     "output_type": "execute_result"
    }
   ],
   "source": [
    "probe_weight = torch.load(\"/home/ubuntu/thesis/sae/results/ablated/probes/best_probes/weight.pt\", weights_only=True)\n",
    "probe = LinearProbe(base_model.model.config.hidden_size)\n",
    "probe.load_state_dict(probe_weight)"
   ]
  },
  {
   "cell_type": "code",
   "execution_count": 6,
   "id": "a96f4687",
   "metadata": {},
   "outputs": [],
   "source": [
    "mean = torch.load(\"/home/ubuntu/thesis/sae/results/ablated/probes/best_probes/mean.pt\", weights_only=True)\n",
    "std = torch.load(\"/home/ubuntu/thesis/sae/results/ablated/probes/best_probes/std.pt\", weights_only=True)"
   ]
  },
  {
   "cell_type": "markdown",
   "id": "8943e24a",
   "metadata": {},
   "source": [
    "### Load dataset"
   ]
  },
  {
   "cell_type": "code",
   "execution_count": 7,
   "id": "d289af15",
   "metadata": {},
   "outputs": [],
   "source": [
    "bio_train = load_from_disk(\"/home/ubuntu/thesis/sae/results/ablated/data/bio_train\")\n",
    "bio_val = load_from_disk(\"/home/ubuntu/thesis/sae/results/ablated/data/bio_val\")\n",
    "cyber_train = load_from_disk(\"/home/ubuntu/thesis/sae/results/ablated/data/cyber_train\")\n",
    "cyber_val = load_from_disk(\"/home/ubuntu/thesis/sae/results/ablated/data/cyber_val\")"
   ]
  },
  {
   "cell_type": "code",
   "execution_count": 8,
   "id": "11d696fc",
   "metadata": {},
   "outputs": [],
   "source": [
    "(\n",
    "    bio_train_instructions,\n",
    "    cyber_train_instructions,\n",
    "    val_instructions,  # we combine both for validation\n",
    ") = to_instructions(\n",
    "    [\n",
    "        bio_train,\n",
    "        cyber_train,\n",
    "        concatenate_datasets([bio_val, cyber_val])\n",
    "    ],\n",
    "    lambda x: x[\"question\"],\n",
    ")"
   ]
  },
  {
   "cell_type": "markdown",
   "id": "ba4852e2",
   "metadata": {},
   "source": [
    "### Create bootstrapping dataset"
   ]
  },
  {
   "cell_type": "markdown",
   "id": "55cc4632",
   "metadata": {},
   "source": [
    "Get activations first"
   ]
  },
  {
   "cell_type": "code",
   "execution_count": 9,
   "id": "8c873a6a",
   "metadata": {},
   "outputs": [
    {
     "name": "stderr",
     "output_type": "stream",
     "text": [
      "100%|██████████| 30/30 [00:18<00:00,  1.60it/s]\n",
      "100%|██████████| 60/60 [00:39<00:00,  1.50it/s]\n"
     ]
    }
   ],
   "source": [
    "bio_rmu_activations = get_activations_pre(\n",
    "    rmu_model.model,\n",
    "    rmu_model.tokenizer,\n",
    "    bio_train_instructions,\n",
    "    tokenize_instructions_fn=rmu_model.tokenize_instructions_fn,\n",
    "    block_modules=rmu_model.model_block_modules,\n",
    "    positions=list(range(-5, 0)),\n",
    "    batch_size=8\n",
    ")\n",
    "\n",
    "cyber_rmu_activations = get_activations_pre(\n",
    "    rmu_model.model,\n",
    "    rmu_model.tokenizer,\n",
    "    cyber_train_instructions,\n",
    "    tokenize_instructions_fn=rmu_model.tokenize_instructions_fn,\n",
    "    block_modules=rmu_model.model_block_modules,\n",
    "    positions=list(range(-5, 0)),\n",
    "    batch_size=4\n",
    ")"
   ]
  },
  {
   "cell_type": "code",
   "execution_count": 10,
   "id": "32d4b9fb",
   "metadata": {},
   "outputs": [
    {
     "name": "stderr",
     "output_type": "stream",
     "text": [
      "100%|██████████| 30/30 [00:16<00:00,  1.81it/s]\n",
      "100%|██████████| 60/60 [00:40<00:00,  1.47it/s]\n"
     ]
    }
   ],
   "source": [
    "bio_base_activations = get_activations_pre(\n",
    "    base_model.model,\n",
    "    base_model.tokenizer,\n",
    "    bio_train_instructions,\n",
    "    tokenize_instructions_fn=base_model.tokenize_instructions_fn,\n",
    "    block_modules=base_model.model_block_modules,\n",
    "    positions=list(range(-5, 0)),\n",
    "    batch_size=8\n",
    ")\n",
    "\n",
    "cyber_base_activations = get_activations_pre(\n",
    "    base_model.model,\n",
    "    base_model.tokenizer,\n",
    "    cyber_train_instructions,\n",
    "    tokenize_instructions_fn=base_model.tokenize_instructions_fn,\n",
    "    block_modules=base_model.model_block_modules,\n",
    "    positions=list(range(-5, 0)),\n",
    "    batch_size=4\n",
    ")"
   ]
  },
  {
   "cell_type": "code",
   "execution_count": 11,
   "id": "b9ea7397",
   "metadata": {},
   "outputs": [
    {
     "name": "stdout",
     "output_type": "stream",
     "text": [
      "Base activations shape:  torch.Size([240, 26, 5, 2304])\n",
      "RMU activations shape:  torch.Size([240, 26, 5, 2304])\n"
     ]
    }
   ],
   "source": [
    "print(\"Base activations shape: \", bio_base_activations.shape)\n",
    "print(\"RMU activations shape: \", bio_rmu_activations.shape)"
   ]
  },
  {
   "cell_type": "markdown",
   "id": "db76af6f",
   "metadata": {},
   "source": [
    "Then using bootstrap on that activations dataset instead"
   ]
  },
  {
   "cell_type": "code",
   "execution_count": 12,
   "id": "4c92cb61",
   "metadata": {},
   "outputs": [],
   "source": [
    "def calculate_bootstrap_directions(\n",
    "    rmu_activations, \n",
    "    base_activations, \n",
    "    num_resamples,\n",
    "    random_seed_offset=0,\n",
    "    stack=True\n",
    "):\n",
    "    diff_activations = rmu_activations - base_activations\n",
    "\n",
    "    indices_to_sample = list(range(diff_activations.shape[0]))\n",
    "\n",
    "    bootstrap_directions = []\n",
    "    for i in tqdm(range(num_resamples), desc=\"Bootstrapping Directions\"):\n",
    "        bootstrap_indices = resample(\n",
    "            indices_to_sample,\n",
    "            replace=True,\n",
    "            n_samples=len(indices_to_sample),\n",
    "            random_state=i + random_seed_offset,  # Ensure cyber uses a different seed\n",
    "        )\n",
    "\n",
    "        sample_mean_diff = diff_activations[bootstrap_indices].mean(dim=0)\n",
    "\n",
    "        bootstrap_directions.append(sample_mean_diff)\n",
    "\n",
    "    if stack:\n",
    "        return torch.stack(bootstrap_directions)\n",
    "    else:\n",
    "        return bootstrap_directions"
   ]
  },
  {
   "cell_type": "code",
   "execution_count": 13,
   "id": "05aa1e0d",
   "metadata": {},
   "outputs": [
    {
     "data": {
      "application/vnd.jupyter.widget-view+json": {
       "model_id": "b56e09bde5004c82b32036f87fb4339e",
       "version_major": 2,
       "version_minor": 0
      },
      "text/plain": [
       "Bootstrapping Directions:   0%|          | 0/1000 [00:00<?, ?it/s]"
      ]
     },
     "metadata": {},
     "output_type": "display_data"
    },
    {
     "data": {
      "application/vnd.jupyter.widget-view+json": {
       "model_id": "56ce98e4a29c424ba1b0ade9bfe2a2ac",
       "version_major": 2,
       "version_minor": 0
      },
      "text/plain": [
       "Bootstrapping Directions:   0%|          | 0/1000 [00:00<?, ?it/s]"
      ]
     },
     "metadata": {},
     "output_type": "display_data"
    }
   ],
   "source": [
    "bio_bootstrap_directions = calculate_bootstrap_directions(\n",
    "    bio_rmu_activations,\n",
    "    bio_base_activations,\n",
    "    BOOTSTRAP_K,\n",
    "    stack=False,\n",
    ")\n",
    "cyber_bootstrap_directions = calculate_bootstrap_directions(\n",
    "    cyber_rmu_activations,\n",
    "    cyber_base_activations,\n",
    "    BOOTSTRAP_K,\n",
    "    random_seed_offset=BOOTSTRAP_K,\n",
    "    stack=False,\n",
    ")"
   ]
  },
  {
   "cell_type": "code",
   "execution_count": 14,
   "id": "bb603c60",
   "metadata": {},
   "outputs": [
    {
     "name": "stdout",
     "output_type": "stream",
     "text": [
      "Bio bootstrap directions shape: torch.Size([26, 5, 2304])\n",
      "Cyber bootstrap directions shape: torch.Size([26, 5, 2304])\n"
     ]
    }
   ],
   "source": [
    "print(\"Bio bootstrap directions shape:\", bio_bootstrap_directions[0].shape)\n",
    "print(\"Cyber bootstrap directions shape:\", cyber_bootstrap_directions[0].shape)"
   ]
  },
  {
   "cell_type": "markdown",
   "id": "52f14ad9",
   "metadata": {},
   "source": [
    "### Bootstrapping Analysis"
   ]
  },
  {
   "cell_type": "code",
   "execution_count": 15,
   "id": "17c2c083",
   "metadata": {},
   "outputs": [],
   "source": [
    "bio_pcas = []\n",
    "for layer in range(rmu_model.model.config.num_hidden_layers):\n",
    "    bio_pcas.append(compute_pca(tensors=[dir[layer, :, :] for dir in bio_bootstrap_directions], k=12))"
   ]
  },
  {
   "cell_type": "code",
   "execution_count": 16,
   "id": "eee2574d",
   "metadata": {},
   "outputs": [],
   "source": [
    "cyber_pcas = []\n",
    "for layer in range(rmu_model.model.config.num_hidden_layers):\n",
    "    cyber_pcas.append(compute_pca(tensors=[dir[layer, :, :] for dir in cyber_bootstrap_directions], k=12))"
   ]
  },
  {
   "cell_type": "code",
   "execution_count": 17,
   "id": "27c3a5dc",
   "metadata": {},
   "outputs": [],
   "source": [
    "cyber_best = torch.load(\"/home/ubuntu/thesis/sae/results/ablated/direction_cyber/best_dir.pt\", weights_only=True)\n",
    "shared_best = torch.load(\"/home/ubuntu/thesis/sae/results/ablated/direction_shared/best_dir.pt\", weights_only=True)\n",
    "bio_best = torch.load(\"/home/ubuntu/thesis/sae/results/ablated/direction_bio/best_dir.pt\", weights_only=True)"
   ]
  },
  {
   "cell_type": "markdown",
   "id": "05579135",
   "metadata": {},
   "source": [
    "### Visualize Analysis"
   ]
  },
  {
   "cell_type": "code",
   "execution_count": 18,
   "id": "c3ed699a",
   "metadata": {},
   "outputs": [],
   "source": [
    "def calculate_cosine_sim(pcas, dir):\n",
    "    cosines = []\n",
    "    for layer in range(len(pcas)):\n",
    "        cosines.append(torch.nn.functional.cosine_similarity(\n",
    "            pcas[layer][\"components\"][0],\n",
    "            dir,\n",
    "            dim=0\n",
    "        ))\n",
    "    return torch.stack(cosines, dim=-1)"
   ]
  },
  {
   "cell_type": "code",
   "execution_count": 19,
   "id": "ee91a263",
   "metadata": {},
   "outputs": [],
   "source": [
    "cyber_total_var = torch.stack([pca[\"total_variance\"] for pca in cyber_pcas], dim=-1)\n",
    "bio_total_var = torch.stack([pca[\"total_variance\"] for pca in bio_pcas], dim=-1)"
   ]
  },
  {
   "cell_type": "code",
   "execution_count": 20,
   "id": "2c3d86fe",
   "metadata": {},
   "outputs": [],
   "source": [
    "cyber_cosine = calculate_cosine_sim(cyber_pcas, cyber_best).unsqueeze(dim=0)\n",
    "cyber_shared_cosine = calculate_cosine_sim(cyber_pcas, shared_best).unsqueeze(dim=0)\n",
    "bio_cosine = calculate_cosine_sim(bio_pcas, bio_best).unsqueeze(dim=0)\n",
    "bio_shared_cosine = calculate_cosine_sim(bio_pcas, shared_best).unsqueeze(dim=0)"
   ]
  },
  {
   "cell_type": "code",
   "execution_count": 23,
   "id": "7cc8613d",
   "metadata": {},
   "outputs": [
    {
     "name": "stdout",
     "output_type": "stream",
     "text": [
      "Plot saved to results/ablated/bootstrap/figures/cosine_best.pdf\n"
     ]
    },
    {
     "data": {
      "application/vnd.plotly.v1+json": {
       "config": {
        "plotlyServerURL": "https://plot.ly"
       },
       "data": [
        {
         "hoverinfo": "skip",
         "line": {
          "width": 0
         },
         "mode": "lines",
         "showlegend": false,
         "type": "scatter",
         "x": [
          0,
          1,
          2,
          3,
          4,
          5,
          6,
          7,
          8,
          9,
          10,
          11,
          12,
          13,
          14,
          15,
          16,
          17,
          18,
          19,
          20,
          21,
          22,
          23,
          24,
          25
         ],
         "y": [
          0.020050861761571302,
          0.021088407486774312,
          0.021765030862196107,
          0.03379952123949099,
          0.013612996157633561,
          -0.010046021376802704,
          0.003840250613926687,
          -0.0032148280826906385,
          0.5446227742979528,
          0.7159272429382003,
          0.693480136275757,
          0.48442456454027916,
          0.272854333807124,
          0.1965589720285356,
          0.08151393918830928,
          0.04489129187754948,
          0.06056601000246305,
          0.018541518363225713,
          0.008509884581958572,
          0.01816951945051095,
          0.004395690573635532,
          -0.008076259600169763,
          -0.02773913425158959,
          -0.020010873027810263,
          -0.034604247575138636,
          -0.04124547349229573
         ]
        },
        {
         "fill": "tonexty",
         "fillcolor": "rgba(31,119,180,0.1)",
         "hoverinfo": "skip",
         "line": {
          "width": 0
         },
         "mode": "lines",
         "showlegend": false,
         "type": "scatter",
         "x": [
          0,
          1,
          2,
          3,
          4,
          5,
          6,
          7,
          8,
          9,
          10,
          11,
          12,
          13,
          14,
          15,
          16,
          17,
          18,
          19,
          20,
          21,
          22,
          23,
          24,
          25
         ],
         "y": [
          0.020050861761571302,
          0.021088407486774312,
          0.021765030862196107,
          0.03379952123949099,
          0.013612996157633561,
          -0.010046021376802704,
          0.003840250613926687,
          -0.0032148280826906385,
          0.5446227742979528,
          0.7159272429382003,
          0.693480136275757,
          0.48442456454027916,
          0.272854333807124,
          0.1965589720285356,
          0.08151393918830928,
          0.04489129187754948,
          0.06056601000246305,
          0.018541518363225713,
          0.008509884581958572,
          0.01816951945051095,
          0.004395690573635532,
          -0.008076259600169763,
          -0.02773913425158959,
          -0.020010873027810263,
          -0.034604247575138636,
          -0.04124547349229573
         ]
        },
        {
         "hovertemplate": "<b>Layer:</b> %{x}<br><b>Cybersecurity_Cybersecurity Mean:</b> %{y:.3f}<extra></extra>",
         "line": {
          "color": "#1f77b4",
          "width": 3
         },
         "mode": "lines",
         "name": "Cybersecurity_Cybersecurity",
         "type": "scatter",
         "x": [
          0,
          1,
          2,
          3,
          4,
          5,
          6,
          7,
          8,
          9,
          10,
          11,
          12,
          13,
          14,
          15,
          16,
          17,
          18,
          19,
          20,
          21,
          22,
          23,
          24,
          25
         ],
         "y": [
          0.020050861761571302,
          0.021088407486774312,
          0.021765030862196107,
          0.03379952123949099,
          0.013612996157633561,
          -0.010046021376802704,
          0.003840250613926687,
          -0.0032148280826906385,
          0.5446227742979528,
          0.7159272429382003,
          0.693480136275757,
          0.48442456454027916,
          0.272854333807124,
          0.1965589720285356,
          0.08151393918830928,
          0.04489129187754948,
          0.06056601000246305,
          0.018541518363225713,
          0.008509884581958572,
          0.01816951945051095,
          0.004395690573635532,
          -0.008076259600169763,
          -0.02773913425158959,
          -0.020010873027810263,
          -0.034604247575138636,
          -0.04124547349229573
         ]
        },
        {
         "hoverinfo": "skip",
         "line": {
          "width": 0
         },
         "mode": "lines",
         "showlegend": false,
         "type": "scatter",
         "x": [
          0,
          1,
          2,
          3,
          4,
          5,
          6,
          7,
          8,
          9,
          10,
          11,
          12,
          13,
          14,
          15,
          16,
          17,
          18,
          19,
          20,
          21,
          22,
          23,
          24,
          25
         ],
         "y": [
          0.01912158711265909,
          0.03051858221402637,
          0.028864229214474638,
          0.04244862371332384,
          0.011443187497668294,
          0.001291759826830198,
          0.017795160089397785,
          0.04953391156692563,
          -0.605565917866149,
          -0.47339849596786543,
          -0.34731864570216986,
          -0.1272810407995443,
          -0.20067217958322298,
          -0.13514801745237837,
          -0.16431782046817786,
          -0.13828824649355995,
          -0.11167994696619321,
          -0.10279043938129602,
          -0.07480827423833245,
          -0.08453212895417045,
          -0.08814291625379495,
          -0.06319021749262951,
          -0.04424595707444502,
          -0.021935592741441995,
          -0.025648960111962375,
          -0.033737872141351086
         ]
        },
        {
         "fill": "tonexty",
         "fillcolor": "rgba(255,127,14,0.1)",
         "hoverinfo": "skip",
         "line": {
          "width": 0
         },
         "mode": "lines",
         "showlegend": false,
         "type": "scatter",
         "x": [
          0,
          1,
          2,
          3,
          4,
          5,
          6,
          7,
          8,
          9,
          10,
          11,
          12,
          13,
          14,
          15,
          16,
          17,
          18,
          19,
          20,
          21,
          22,
          23,
          24,
          25
         ],
         "y": [
          0.01912158711265909,
          0.03051858221402637,
          0.028864229214474638,
          0.04244862371332384,
          0.011443187497668294,
          0.001291759826830198,
          0.017795160089397785,
          0.04953391156692563,
          -0.605565917866149,
          -0.47339849596786543,
          -0.34731864570216986,
          -0.1272810407995443,
          -0.20067217958322298,
          -0.13514801745237837,
          -0.16431782046817786,
          -0.13828824649355995,
          -0.11167994696619321,
          -0.10279043938129602,
          -0.07480827423833245,
          -0.08453212895417045,
          -0.08814291625379495,
          -0.06319021749262951,
          -0.04424595707444502,
          -0.021935592741441995,
          -0.025648960111962375,
          -0.033737872141351086
         ]
        },
        {
         "hovertemplate": "<b>Layer:</b> %{x}<br><b>Biology_Biology Mean:</b> %{y:.3f}<extra></extra>",
         "line": {
          "color": "#ff7f0e",
          "width": 3
         },
         "mode": "lines",
         "name": "Biology_Biology",
         "type": "scatter",
         "x": [
          0,
          1,
          2,
          3,
          4,
          5,
          6,
          7,
          8,
          9,
          10,
          11,
          12,
          13,
          14,
          15,
          16,
          17,
          18,
          19,
          20,
          21,
          22,
          23,
          24,
          25
         ],
         "y": [
          0.01912158711265909,
          0.03051858221402637,
          0.028864229214474638,
          0.04244862371332384,
          0.011443187497668294,
          0.001291759826830198,
          0.017795160089397785,
          0.04953391156692563,
          -0.605565917866149,
          -0.47339849596786543,
          -0.34731864570216986,
          -0.1272810407995443,
          -0.20067217958322298,
          -0.13514801745237837,
          -0.16431782046817786,
          -0.13828824649355995,
          -0.11167994696619321,
          -0.10279043938129602,
          -0.07480827423833245,
          -0.08453212895417045,
          -0.08814291625379495,
          -0.06319021749262951,
          -0.04424595707444502,
          -0.021935592741441995,
          -0.025648960111962375,
          -0.033737872141351086
         ]
        },
        {
         "hoverinfo": "skip",
         "line": {
          "width": 0
         },
         "mode": "lines",
         "showlegend": false,
         "type": "scatter",
         "x": [
          0,
          1,
          2,
          3,
          4,
          5,
          6,
          7,
          8,
          9,
          10,
          11,
          12,
          13,
          14,
          15,
          16,
          17,
          18,
          19,
          20,
          21,
          22,
          23,
          24,
          25
         ],
         "y": [
          0.018579739364639435,
          0.024473755657517946,
          0.025224570603814514,
          0.03717536856298792,
          0.015008643941108145,
          -0.020924035946125186,
          -0.014972272167564065,
          -0.015048985169858819,
          0.5269364284110625,
          0.705101549750158,
          0.6644693197864433,
          0.474289214523057,
          0.25607621184080365,
          0.1871922879078019,
          0.09024361878252192,
          0.04773105799331796,
          0.06976283845964926,
          0.023326840471442456,
          0.015078817486924781,
          0.028542791070272584,
          0.011637067598262156,
          -0.0048325708137036,
          -0.02321660702926138,
          -0.011638725722389803,
          -0.025890848607340443,
          -0.03981623476244755
         ]
        },
        {
         "fill": "tonexty",
         "fillcolor": "rgba(44,160,44,0.1)",
         "hoverinfo": "skip",
         "line": {
          "width": 0
         },
         "mode": "lines",
         "showlegend": false,
         "type": "scatter",
         "x": [
          0,
          1,
          2,
          3,
          4,
          5,
          6,
          7,
          8,
          9,
          10,
          11,
          12,
          13,
          14,
          15,
          16,
          17,
          18,
          19,
          20,
          21,
          22,
          23,
          24,
          25
         ],
         "y": [
          0.018579739364639435,
          0.024473755657517946,
          0.025224570603814514,
          0.03717536856298792,
          0.015008643941108145,
          -0.020924035946125186,
          -0.014972272167564065,
          -0.015048985169858819,
          0.5269364284110625,
          0.705101549750158,
          0.6644693197864433,
          0.474289214523057,
          0.25607621184080365,
          0.1871922879078019,
          0.09024361878252192,
          0.04773105799331796,
          0.06976283845964926,
          0.023326840471442456,
          0.015078817486924781,
          0.028542791070272584,
          0.011637067598262156,
          -0.0048325708137036,
          -0.02321660702926138,
          -0.011638725722389803,
          -0.025890848607340443,
          -0.03981623476244755
         ]
        },
        {
         "hovertemplate": "<b>Layer:</b> %{x}<br><b>Cybersecurity_Shared Mean:</b> %{y:.3f}<extra></extra>",
         "line": {
          "color": "#2ca02c",
          "width": 3
         },
         "mode": "lines",
         "name": "Cybersecurity_Shared",
         "type": "scatter",
         "x": [
          0,
          1,
          2,
          3,
          4,
          5,
          6,
          7,
          8,
          9,
          10,
          11,
          12,
          13,
          14,
          15,
          16,
          17,
          18,
          19,
          20,
          21,
          22,
          23,
          24,
          25
         ],
         "y": [
          0.018579739364639435,
          0.024473755657517946,
          0.025224570603814514,
          0.03717536856298792,
          0.015008643941108145,
          -0.020924035946125186,
          -0.014972272167564065,
          -0.015048985169858819,
          0.5269364284110625,
          0.705101549750158,
          0.6644693197864433,
          0.474289214523057,
          0.25607621184080365,
          0.1871922879078019,
          0.09024361878252192,
          0.04773105799331796,
          0.06976283845964926,
          0.023326840471442456,
          0.015078817486924781,
          0.028542791070272584,
          0.011637067598262156,
          -0.0048325708137036,
          -0.02321660702926138,
          -0.011638725722389803,
          -0.025890848607340443,
          -0.03981623476244755
         ]
        },
        {
         "hoverinfo": "skip",
         "line": {
          "width": 0
         },
         "mode": "lines",
         "showlegend": false,
         "type": "scatter",
         "x": [
          0,
          1,
          2,
          3,
          4,
          5,
          6,
          7,
          8,
          9,
          10,
          11,
          12,
          13,
          14,
          15,
          16,
          17,
          18,
          19,
          20,
          21,
          22,
          23,
          24,
          25
         ],
         "y": [
          0.021317869458801538,
          0.027964807609338997,
          0.02712704988141502,
          0.03957767721167314,
          0.007657245487229211,
          -0.0013431732445265132,
          0.020040367416279424,
          0.045923754372037336,
          -0.573198482963551,
          -0.44253025796679796,
          -0.30745653540767975,
          -0.10165504912699887,
          -0.17307490764843964,
          -0.11418522506001776,
          -0.1516271129578826,
          -0.12536531679671595,
          -0.09896952483780076,
          -0.09309429541982628,
          -0.06800445891354885,
          -0.07573565091404165,
          -0.07768386366197239,
          -0.05120082632314785,
          -0.03812810727860773,
          -0.017350151048323926,
          -0.022930059457416347,
          -0.027365805403791986
         ]
        },
        {
         "fill": "tonexty",
         "fillcolor": "rgba(214,39,40,0.1)",
         "hoverinfo": "skip",
         "line": {
          "width": 0
         },
         "mode": "lines",
         "showlegend": false,
         "type": "scatter",
         "x": [
          0,
          1,
          2,
          3,
          4,
          5,
          6,
          7,
          8,
          9,
          10,
          11,
          12,
          13,
          14,
          15,
          16,
          17,
          18,
          19,
          20,
          21,
          22,
          23,
          24,
          25
         ],
         "y": [
          0.021317869458801538,
          0.027964807609338997,
          0.02712704988141502,
          0.03957767721167314,
          0.007657245487229211,
          -0.0013431732445265132,
          0.020040367416279424,
          0.045923754372037336,
          -0.573198482963551,
          -0.44253025796679796,
          -0.30745653540767975,
          -0.10165504912699887,
          -0.17307490764843964,
          -0.11418522506001776,
          -0.1516271129578826,
          -0.12536531679671595,
          -0.09896952483780076,
          -0.09309429541982628,
          -0.06800445891354885,
          -0.07573565091404165,
          -0.07768386366197239,
          -0.05120082632314785,
          -0.03812810727860773,
          -0.017350151048323926,
          -0.022930059457416347,
          -0.027365805403791986
         ]
        },
        {
         "hovertemplate": "<b>Layer:</b> %{x}<br><b>Biology_Shared Mean:</b> %{y:.3f}<extra></extra>",
         "line": {
          "color": "#d62728",
          "width": 3
         },
         "mode": "lines",
         "name": "Biology_Shared",
         "type": "scatter",
         "x": [
          0,
          1,
          2,
          3,
          4,
          5,
          6,
          7,
          8,
          9,
          10,
          11,
          12,
          13,
          14,
          15,
          16,
          17,
          18,
          19,
          20,
          21,
          22,
          23,
          24,
          25
         ],
         "y": [
          0.021317869458801538,
          0.027964807609338997,
          0.02712704988141502,
          0.03957767721167314,
          0.007657245487229211,
          -0.0013431732445265132,
          0.020040367416279424,
          0.045923754372037336,
          -0.573198482963551,
          -0.44253025796679796,
          -0.30745653540767975,
          -0.10165504912699887,
          -0.17307490764843964,
          -0.11418522506001776,
          -0.1516271129578826,
          -0.12536531679671595,
          -0.09896952483780076,
          -0.09309429541982628,
          -0.06800445891354885,
          -0.07573565091404165,
          -0.07768386366197239,
          -0.05120082632314785,
          -0.03812810727860773,
          -0.017350151048323926,
          -0.022930059457416347,
          -0.027365805403791986
         ]
        }
       ],
       "layout": {
        "annotations": [
         {
          "font": {
           "color": "grey",
           "size": 14
          },
          "showarrow": false,
          "text": "Layer 9",
          "x": 9,
          "xshift": 30,
          "y": 0.8,
          "yanchor": "middle",
          "yref": "paper"
         }
        ],
        "height": 600,
        "margin": {
         "b": 120,
         "l": 80,
         "r": 80,
         "t": 100
        },
        "shapes": [
         {
          "line": {
           "color": "grey",
           "dash": "dot",
           "width": 2
          },
          "opacity": 0.7,
          "type": "line",
          "x0": 9,
          "x1": 9,
          "xref": "x",
          "y0": 0,
          "y1": 1,
          "yref": "y domain"
         }
        ],
        "showlegend": true,
        "template": {
         "data": {
          "bar": [
           {
            "error_x": {
             "color": "#2a3f5f"
            },
            "error_y": {
             "color": "#2a3f5f"
            },
            "marker": {
             "line": {
              "color": "#E5ECF6",
              "width": 0.5
             },
             "pattern": {
              "fillmode": "overlay",
              "size": 10,
              "solidity": 0.2
             }
            },
            "type": "bar"
           }
          ],
          "barpolar": [
           {
            "marker": {
             "line": {
              "color": "#E5ECF6",
              "width": 0.5
             },
             "pattern": {
              "fillmode": "overlay",
              "size": 10,
              "solidity": 0.2
             }
            },
            "type": "barpolar"
           }
          ],
          "carpet": [
           {
            "aaxis": {
             "endlinecolor": "#2a3f5f",
             "gridcolor": "white",
             "linecolor": "white",
             "minorgridcolor": "white",
             "startlinecolor": "#2a3f5f"
            },
            "baxis": {
             "endlinecolor": "#2a3f5f",
             "gridcolor": "white",
             "linecolor": "white",
             "minorgridcolor": "white",
             "startlinecolor": "#2a3f5f"
            },
            "type": "carpet"
           }
          ],
          "choropleth": [
           {
            "colorbar": {
             "outlinewidth": 0,
             "ticks": ""
            },
            "type": "choropleth"
           }
          ],
          "contour": [
           {
            "colorbar": {
             "outlinewidth": 0,
             "ticks": ""
            },
            "colorscale": [
             [
              0,
              "#0d0887"
             ],
             [
              0.1111111111111111,
              "#46039f"
             ],
             [
              0.2222222222222222,
              "#7201a8"
             ],
             [
              0.3333333333333333,
              "#9c179e"
             ],
             [
              0.4444444444444444,
              "#bd3786"
             ],
             [
              0.5555555555555556,
              "#d8576b"
             ],
             [
              0.6666666666666666,
              "#ed7953"
             ],
             [
              0.7777777777777778,
              "#fb9f3a"
             ],
             [
              0.8888888888888888,
              "#fdca26"
             ],
             [
              1,
              "#f0f921"
             ]
            ],
            "type": "contour"
           }
          ],
          "contourcarpet": [
           {
            "colorbar": {
             "outlinewidth": 0,
             "ticks": ""
            },
            "type": "contourcarpet"
           }
          ],
          "heatmap": [
           {
            "colorbar": {
             "outlinewidth": 0,
             "ticks": ""
            },
            "colorscale": [
             [
              0,
              "#0d0887"
             ],
             [
              0.1111111111111111,
              "#46039f"
             ],
             [
              0.2222222222222222,
              "#7201a8"
             ],
             [
              0.3333333333333333,
              "#9c179e"
             ],
             [
              0.4444444444444444,
              "#bd3786"
             ],
             [
              0.5555555555555556,
              "#d8576b"
             ],
             [
              0.6666666666666666,
              "#ed7953"
             ],
             [
              0.7777777777777778,
              "#fb9f3a"
             ],
             [
              0.8888888888888888,
              "#fdca26"
             ],
             [
              1,
              "#f0f921"
             ]
            ],
            "type": "heatmap"
           }
          ],
          "heatmapgl": [
           {
            "colorbar": {
             "outlinewidth": 0,
             "ticks": ""
            },
            "colorscale": [
             [
              0,
              "#0d0887"
             ],
             [
              0.1111111111111111,
              "#46039f"
             ],
             [
              0.2222222222222222,
              "#7201a8"
             ],
             [
              0.3333333333333333,
              "#9c179e"
             ],
             [
              0.4444444444444444,
              "#bd3786"
             ],
             [
              0.5555555555555556,
              "#d8576b"
             ],
             [
              0.6666666666666666,
              "#ed7953"
             ],
             [
              0.7777777777777778,
              "#fb9f3a"
             ],
             [
              0.8888888888888888,
              "#fdca26"
             ],
             [
              1,
              "#f0f921"
             ]
            ],
            "type": "heatmapgl"
           }
          ],
          "histogram": [
           {
            "marker": {
             "pattern": {
              "fillmode": "overlay",
              "size": 10,
              "solidity": 0.2
             }
            },
            "type": "histogram"
           }
          ],
          "histogram2d": [
           {
            "colorbar": {
             "outlinewidth": 0,
             "ticks": ""
            },
            "colorscale": [
             [
              0,
              "#0d0887"
             ],
             [
              0.1111111111111111,
              "#46039f"
             ],
             [
              0.2222222222222222,
              "#7201a8"
             ],
             [
              0.3333333333333333,
              "#9c179e"
             ],
             [
              0.4444444444444444,
              "#bd3786"
             ],
             [
              0.5555555555555556,
              "#d8576b"
             ],
             [
              0.6666666666666666,
              "#ed7953"
             ],
             [
              0.7777777777777778,
              "#fb9f3a"
             ],
             [
              0.8888888888888888,
              "#fdca26"
             ],
             [
              1,
              "#f0f921"
             ]
            ],
            "type": "histogram2d"
           }
          ],
          "histogram2dcontour": [
           {
            "colorbar": {
             "outlinewidth": 0,
             "ticks": ""
            },
            "colorscale": [
             [
              0,
              "#0d0887"
             ],
             [
              0.1111111111111111,
              "#46039f"
             ],
             [
              0.2222222222222222,
              "#7201a8"
             ],
             [
              0.3333333333333333,
              "#9c179e"
             ],
             [
              0.4444444444444444,
              "#bd3786"
             ],
             [
              0.5555555555555556,
              "#d8576b"
             ],
             [
              0.6666666666666666,
              "#ed7953"
             ],
             [
              0.7777777777777778,
              "#fb9f3a"
             ],
             [
              0.8888888888888888,
              "#fdca26"
             ],
             [
              1,
              "#f0f921"
             ]
            ],
            "type": "histogram2dcontour"
           }
          ],
          "mesh3d": [
           {
            "colorbar": {
             "outlinewidth": 0,
             "ticks": ""
            },
            "type": "mesh3d"
           }
          ],
          "parcoords": [
           {
            "line": {
             "colorbar": {
              "outlinewidth": 0,
              "ticks": ""
             }
            },
            "type": "parcoords"
           }
          ],
          "pie": [
           {
            "automargin": true,
            "type": "pie"
           }
          ],
          "scatter": [
           {
            "fillpattern": {
             "fillmode": "overlay",
             "size": 10,
             "solidity": 0.2
            },
            "type": "scatter"
           }
          ],
          "scatter3d": [
           {
            "line": {
             "colorbar": {
              "outlinewidth": 0,
              "ticks": ""
             }
            },
            "marker": {
             "colorbar": {
              "outlinewidth": 0,
              "ticks": ""
             }
            },
            "type": "scatter3d"
           }
          ],
          "scattercarpet": [
           {
            "marker": {
             "colorbar": {
              "outlinewidth": 0,
              "ticks": ""
             }
            },
            "type": "scattercarpet"
           }
          ],
          "scattergeo": [
           {
            "marker": {
             "colorbar": {
              "outlinewidth": 0,
              "ticks": ""
             }
            },
            "type": "scattergeo"
           }
          ],
          "scattergl": [
           {
            "marker": {
             "colorbar": {
              "outlinewidth": 0,
              "ticks": ""
             }
            },
            "type": "scattergl"
           }
          ],
          "scattermapbox": [
           {
            "marker": {
             "colorbar": {
              "outlinewidth": 0,
              "ticks": ""
             }
            },
            "type": "scattermapbox"
           }
          ],
          "scatterpolar": [
           {
            "marker": {
             "colorbar": {
              "outlinewidth": 0,
              "ticks": ""
             }
            },
            "type": "scatterpolar"
           }
          ],
          "scatterpolargl": [
           {
            "marker": {
             "colorbar": {
              "outlinewidth": 0,
              "ticks": ""
             }
            },
            "type": "scatterpolargl"
           }
          ],
          "scatterternary": [
           {
            "marker": {
             "colorbar": {
              "outlinewidth": 0,
              "ticks": ""
             }
            },
            "type": "scatterternary"
           }
          ],
          "surface": [
           {
            "colorbar": {
             "outlinewidth": 0,
             "ticks": ""
            },
            "colorscale": [
             [
              0,
              "#0d0887"
             ],
             [
              0.1111111111111111,
              "#46039f"
             ],
             [
              0.2222222222222222,
              "#7201a8"
             ],
             [
              0.3333333333333333,
              "#9c179e"
             ],
             [
              0.4444444444444444,
              "#bd3786"
             ],
             [
              0.5555555555555556,
              "#d8576b"
             ],
             [
              0.6666666666666666,
              "#ed7953"
             ],
             [
              0.7777777777777778,
              "#fb9f3a"
             ],
             [
              0.8888888888888888,
              "#fdca26"
             ],
             [
              1,
              "#f0f921"
             ]
            ],
            "type": "surface"
           }
          ],
          "table": [
           {
            "cells": {
             "fill": {
              "color": "#EBF0F8"
             },
             "line": {
              "color": "white"
             }
            },
            "header": {
             "fill": {
              "color": "#C8D4E3"
             },
             "line": {
              "color": "white"
             }
            },
            "type": "table"
           }
          ]
         },
         "layout": {
          "annotationdefaults": {
           "arrowcolor": "#2a3f5f",
           "arrowhead": 0,
           "arrowwidth": 1
          },
          "autotypenumbers": "strict",
          "coloraxis": {
           "colorbar": {
            "outlinewidth": 0,
            "ticks": ""
           }
          },
          "colorscale": {
           "diverging": [
            [
             0,
             "#8e0152"
            ],
            [
             0.1,
             "#c51b7d"
            ],
            [
             0.2,
             "#de77ae"
            ],
            [
             0.3,
             "#f1b6da"
            ],
            [
             0.4,
             "#fde0ef"
            ],
            [
             0.5,
             "#f7f7f7"
            ],
            [
             0.6,
             "#e6f5d0"
            ],
            [
             0.7,
             "#b8e186"
            ],
            [
             0.8,
             "#7fbc41"
            ],
            [
             0.9,
             "#4d9221"
            ],
            [
             1,
             "#276419"
            ]
           ],
           "sequential": [
            [
             0,
             "#0d0887"
            ],
            [
             0.1111111111111111,
             "#46039f"
            ],
            [
             0.2222222222222222,
             "#7201a8"
            ],
            [
             0.3333333333333333,
             "#9c179e"
            ],
            [
             0.4444444444444444,
             "#bd3786"
            ],
            [
             0.5555555555555556,
             "#d8576b"
            ],
            [
             0.6666666666666666,
             "#ed7953"
            ],
            [
             0.7777777777777778,
             "#fb9f3a"
            ],
            [
             0.8888888888888888,
             "#fdca26"
            ],
            [
             1,
             "#f0f921"
            ]
           ],
           "sequentialminus": [
            [
             0,
             "#0d0887"
            ],
            [
             0.1111111111111111,
             "#46039f"
            ],
            [
             0.2222222222222222,
             "#7201a8"
            ],
            [
             0.3333333333333333,
             "#9c179e"
            ],
            [
             0.4444444444444444,
             "#bd3786"
            ],
            [
             0.5555555555555556,
             "#d8576b"
            ],
            [
             0.6666666666666666,
             "#ed7953"
            ],
            [
             0.7777777777777778,
             "#fb9f3a"
            ],
            [
             0.8888888888888888,
             "#fdca26"
            ],
            [
             1,
             "#f0f921"
            ]
           ]
          },
          "colorway": [
           "#636efa",
           "#EF553B",
           "#00cc96",
           "#ab63fa",
           "#FFA15A",
           "#19d3f3",
           "#FF6692",
           "#B6E880",
           "#FF97FF",
           "#FECB52"
          ],
          "font": {
           "color": "#2a3f5f"
          },
          "geo": {
           "bgcolor": "white",
           "lakecolor": "white",
           "landcolor": "#E5ECF6",
           "showlakes": true,
           "showland": true,
           "subunitcolor": "white"
          },
          "hoverlabel": {
           "align": "left"
          },
          "hovermode": "closest",
          "mapbox": {
           "style": "light"
          },
          "paper_bgcolor": "white",
          "plot_bgcolor": "#E5ECF6",
          "polar": {
           "angularaxis": {
            "gridcolor": "white",
            "linecolor": "white",
            "ticks": ""
           },
           "bgcolor": "#E5ECF6",
           "radialaxis": {
            "gridcolor": "white",
            "linecolor": "white",
            "ticks": ""
           }
          },
          "scene": {
           "xaxis": {
            "backgroundcolor": "#E5ECF6",
            "gridcolor": "white",
            "gridwidth": 2,
            "linecolor": "white",
            "showbackground": true,
            "ticks": "",
            "zerolinecolor": "white"
           },
           "yaxis": {
            "backgroundcolor": "#E5ECF6",
            "gridcolor": "white",
            "gridwidth": 2,
            "linecolor": "white",
            "showbackground": true,
            "ticks": "",
            "zerolinecolor": "white"
           },
           "zaxis": {
            "backgroundcolor": "#E5ECF6",
            "gridcolor": "white",
            "gridwidth": 2,
            "linecolor": "white",
            "showbackground": true,
            "ticks": "",
            "zerolinecolor": "white"
           }
          },
          "shapedefaults": {
           "line": {
            "color": "#2a3f5f"
           }
          },
          "ternary": {
           "aaxis": {
            "gridcolor": "white",
            "linecolor": "white",
            "ticks": ""
           },
           "baxis": {
            "gridcolor": "white",
            "linecolor": "white",
            "ticks": ""
           },
           "bgcolor": "#E5ECF6",
           "caxis": {
            "gridcolor": "white",
            "linecolor": "white",
            "ticks": ""
           }
          },
          "title": {
           "x": 0.05
          },
          "xaxis": {
           "automargin": true,
           "gridcolor": "white",
           "linecolor": "white",
           "ticks": "",
           "title": {
            "standoff": 15
           },
           "zerolinecolor": "white",
           "zerolinewidth": 2
          },
          "yaxis": {
           "automargin": true,
           "gridcolor": "white",
           "linecolor": "white",
           "ticks": "",
           "title": {
            "standoff": 15
           },
           "zerolinecolor": "white",
           "zerolinewidth": 2
          }
         }
        },
        "title": {
         "font": {
          "color": "black",
          "size": 20
         },
         "text": "Cosine Similarity between PCA of each group and correspoding best directions",
         "x": 0.05,
         "xanchor": "left"
        },
        "width": 1000,
        "xaxis": {
         "linewidth": 1,
         "ticks": "outside",
         "title": {
          "font": {
           "color": "black",
           "size": 16
          },
          "text": "Layer"
         },
         "zeroline": false
        },
        "yaxis": {
         "linewidth": 1,
         "ticks": "outside",
         "title": {
          "font": {
           "color": "black",
           "size": 16
          },
          "text": "Cosine similarity"
         },
         "zeroline": false
        }
       }
      },
      "text/html": [
       "<div>                            <div id=\"32298879-cc2d-46b5-84e9-af667dfbfee7\" class=\"plotly-graph-div\" style=\"height:600px; width:1000px;\"></div>            <script type=\"text/javascript\">                require([\"plotly\"], function(Plotly) {                    window.PLOTLYENV=window.PLOTLYENV || {};                                    if (document.getElementById(\"32298879-cc2d-46b5-84e9-af667dfbfee7\")) {                    Plotly.newPlot(                        \"32298879-cc2d-46b5-84e9-af667dfbfee7\",                        [{\"hoverinfo\":\"skip\",\"line\":{\"width\":0},\"mode\":\"lines\",\"showlegend\":false,\"x\":[0,1,2,3,4,5,6,7,8,9,10,11,12,13,14,15,16,17,18,19,20,21,22,23,24,25],\"y\":[0.020050861761571302,0.021088407486774312,0.021765030862196107,0.03379952123949099,0.013612996157633561,-0.010046021376802704,0.003840250613926687,-0.0032148280826906385,0.5446227742979528,0.7159272429382003,0.693480136275757,0.48442456454027916,0.272854333807124,0.1965589720285356,0.08151393918830928,0.04489129187754948,0.06056601000246305,0.018541518363225713,0.008509884581958572,0.01816951945051095,0.004395690573635532,-0.008076259600169763,-0.02773913425158959,-0.020010873027810263,-0.034604247575138636,-0.04124547349229573],\"type\":\"scatter\"},{\"fill\":\"tonexty\",\"fillcolor\":\"rgba(31,119,180,0.1)\",\"hoverinfo\":\"skip\",\"line\":{\"width\":0},\"mode\":\"lines\",\"showlegend\":false,\"x\":[0,1,2,3,4,5,6,7,8,9,10,11,12,13,14,15,16,17,18,19,20,21,22,23,24,25],\"y\":[0.020050861761571302,0.021088407486774312,0.021765030862196107,0.03379952123949099,0.013612996157633561,-0.010046021376802704,0.003840250613926687,-0.0032148280826906385,0.5446227742979528,0.7159272429382003,0.693480136275757,0.48442456454027916,0.272854333807124,0.1965589720285356,0.08151393918830928,0.04489129187754948,0.06056601000246305,0.018541518363225713,0.008509884581958572,0.01816951945051095,0.004395690573635532,-0.008076259600169763,-0.02773913425158959,-0.020010873027810263,-0.034604247575138636,-0.04124547349229573],\"type\":\"scatter\"},{\"hovertemplate\":\"\\u003cb\\u003eLayer:\\u003c\\u002fb\\u003e %{x}\\u003cbr\\u003e\\u003cb\\u003eCybersecurity_Cybersecurity Mean:\\u003c\\u002fb\\u003e %{y:.3f}\\u003cextra\\u003e\\u003c\\u002fextra\\u003e\",\"line\":{\"color\":\"#1f77b4\",\"width\":3},\"mode\":\"lines\",\"name\":\"Cybersecurity_Cybersecurity\",\"x\":[0,1,2,3,4,5,6,7,8,9,10,11,12,13,14,15,16,17,18,19,20,21,22,23,24,25],\"y\":[0.020050861761571302,0.021088407486774312,0.021765030862196107,0.03379952123949099,0.013612996157633561,-0.010046021376802704,0.003840250613926687,-0.0032148280826906385,0.5446227742979528,0.7159272429382003,0.693480136275757,0.48442456454027916,0.272854333807124,0.1965589720285356,0.08151393918830928,0.04489129187754948,0.06056601000246305,0.018541518363225713,0.008509884581958572,0.01816951945051095,0.004395690573635532,-0.008076259600169763,-0.02773913425158959,-0.020010873027810263,-0.034604247575138636,-0.04124547349229573],\"type\":\"scatter\"},{\"hoverinfo\":\"skip\",\"line\":{\"width\":0},\"mode\":\"lines\",\"showlegend\":false,\"x\":[0,1,2,3,4,5,6,7,8,9,10,11,12,13,14,15,16,17,18,19,20,21,22,23,24,25],\"y\":[0.01912158711265909,0.03051858221402637,0.028864229214474638,0.04244862371332384,0.011443187497668294,0.001291759826830198,0.017795160089397785,0.04953391156692563,-0.605565917866149,-0.47339849596786543,-0.34731864570216986,-0.1272810407995443,-0.20067217958322298,-0.13514801745237837,-0.16431782046817786,-0.13828824649355995,-0.11167994696619321,-0.10279043938129602,-0.07480827423833245,-0.08453212895417045,-0.08814291625379495,-0.06319021749262951,-0.04424595707444502,-0.021935592741441995,-0.025648960111962375,-0.033737872141351086],\"type\":\"scatter\"},{\"fill\":\"tonexty\",\"fillcolor\":\"rgba(255,127,14,0.1)\",\"hoverinfo\":\"skip\",\"line\":{\"width\":0},\"mode\":\"lines\",\"showlegend\":false,\"x\":[0,1,2,3,4,5,6,7,8,9,10,11,12,13,14,15,16,17,18,19,20,21,22,23,24,25],\"y\":[0.01912158711265909,0.03051858221402637,0.028864229214474638,0.04244862371332384,0.011443187497668294,0.001291759826830198,0.017795160089397785,0.04953391156692563,-0.605565917866149,-0.47339849596786543,-0.34731864570216986,-0.1272810407995443,-0.20067217958322298,-0.13514801745237837,-0.16431782046817786,-0.13828824649355995,-0.11167994696619321,-0.10279043938129602,-0.07480827423833245,-0.08453212895417045,-0.08814291625379495,-0.06319021749262951,-0.04424595707444502,-0.021935592741441995,-0.025648960111962375,-0.033737872141351086],\"type\":\"scatter\"},{\"hovertemplate\":\"\\u003cb\\u003eLayer:\\u003c\\u002fb\\u003e %{x}\\u003cbr\\u003e\\u003cb\\u003eBiology_Biology Mean:\\u003c\\u002fb\\u003e %{y:.3f}\\u003cextra\\u003e\\u003c\\u002fextra\\u003e\",\"line\":{\"color\":\"#ff7f0e\",\"width\":3},\"mode\":\"lines\",\"name\":\"Biology_Biology\",\"x\":[0,1,2,3,4,5,6,7,8,9,10,11,12,13,14,15,16,17,18,19,20,21,22,23,24,25],\"y\":[0.01912158711265909,0.03051858221402637,0.028864229214474638,0.04244862371332384,0.011443187497668294,0.001291759826830198,0.017795160089397785,0.04953391156692563,-0.605565917866149,-0.47339849596786543,-0.34731864570216986,-0.1272810407995443,-0.20067217958322298,-0.13514801745237837,-0.16431782046817786,-0.13828824649355995,-0.11167994696619321,-0.10279043938129602,-0.07480827423833245,-0.08453212895417045,-0.08814291625379495,-0.06319021749262951,-0.04424595707444502,-0.021935592741441995,-0.025648960111962375,-0.033737872141351086],\"type\":\"scatter\"},{\"hoverinfo\":\"skip\",\"line\":{\"width\":0},\"mode\":\"lines\",\"showlegend\":false,\"x\":[0,1,2,3,4,5,6,7,8,9,10,11,12,13,14,15,16,17,18,19,20,21,22,23,24,25],\"y\":[0.018579739364639435,0.024473755657517946,0.025224570603814514,0.03717536856298792,0.015008643941108145,-0.020924035946125186,-0.014972272167564065,-0.015048985169858819,0.5269364284110625,0.705101549750158,0.6644693197864433,0.474289214523057,0.25607621184080365,0.1871922879078019,0.09024361878252192,0.04773105799331796,0.06976283845964926,0.023326840471442456,0.015078817486924781,0.028542791070272584,0.011637067598262156,-0.0048325708137036,-0.02321660702926138,-0.011638725722389803,-0.025890848607340443,-0.03981623476244755],\"type\":\"scatter\"},{\"fill\":\"tonexty\",\"fillcolor\":\"rgba(44,160,44,0.1)\",\"hoverinfo\":\"skip\",\"line\":{\"width\":0},\"mode\":\"lines\",\"showlegend\":false,\"x\":[0,1,2,3,4,5,6,7,8,9,10,11,12,13,14,15,16,17,18,19,20,21,22,23,24,25],\"y\":[0.018579739364639435,0.024473755657517946,0.025224570603814514,0.03717536856298792,0.015008643941108145,-0.020924035946125186,-0.014972272167564065,-0.015048985169858819,0.5269364284110625,0.705101549750158,0.6644693197864433,0.474289214523057,0.25607621184080365,0.1871922879078019,0.09024361878252192,0.04773105799331796,0.06976283845964926,0.023326840471442456,0.015078817486924781,0.028542791070272584,0.011637067598262156,-0.0048325708137036,-0.02321660702926138,-0.011638725722389803,-0.025890848607340443,-0.03981623476244755],\"type\":\"scatter\"},{\"hovertemplate\":\"\\u003cb\\u003eLayer:\\u003c\\u002fb\\u003e %{x}\\u003cbr\\u003e\\u003cb\\u003eCybersecurity_Shared Mean:\\u003c\\u002fb\\u003e %{y:.3f}\\u003cextra\\u003e\\u003c\\u002fextra\\u003e\",\"line\":{\"color\":\"#2ca02c\",\"width\":3},\"mode\":\"lines\",\"name\":\"Cybersecurity_Shared\",\"x\":[0,1,2,3,4,5,6,7,8,9,10,11,12,13,14,15,16,17,18,19,20,21,22,23,24,25],\"y\":[0.018579739364639435,0.024473755657517946,0.025224570603814514,0.03717536856298792,0.015008643941108145,-0.020924035946125186,-0.014972272167564065,-0.015048985169858819,0.5269364284110625,0.705101549750158,0.6644693197864433,0.474289214523057,0.25607621184080365,0.1871922879078019,0.09024361878252192,0.04773105799331796,0.06976283845964926,0.023326840471442456,0.015078817486924781,0.028542791070272584,0.011637067598262156,-0.0048325708137036,-0.02321660702926138,-0.011638725722389803,-0.025890848607340443,-0.03981623476244755],\"type\":\"scatter\"},{\"hoverinfo\":\"skip\",\"line\":{\"width\":0},\"mode\":\"lines\",\"showlegend\":false,\"x\":[0,1,2,3,4,5,6,7,8,9,10,11,12,13,14,15,16,17,18,19,20,21,22,23,24,25],\"y\":[0.021317869458801538,0.027964807609338997,0.02712704988141502,0.03957767721167314,0.007657245487229211,-0.0013431732445265132,0.020040367416279424,0.045923754372037336,-0.573198482963551,-0.44253025796679796,-0.30745653540767975,-0.10165504912699887,-0.17307490764843964,-0.11418522506001776,-0.1516271129578826,-0.12536531679671595,-0.09896952483780076,-0.09309429541982628,-0.06800445891354885,-0.07573565091404165,-0.07768386366197239,-0.05120082632314785,-0.03812810727860773,-0.017350151048323926,-0.022930059457416347,-0.027365805403791986],\"type\":\"scatter\"},{\"fill\":\"tonexty\",\"fillcolor\":\"rgba(214,39,40,0.1)\",\"hoverinfo\":\"skip\",\"line\":{\"width\":0},\"mode\":\"lines\",\"showlegend\":false,\"x\":[0,1,2,3,4,5,6,7,8,9,10,11,12,13,14,15,16,17,18,19,20,21,22,23,24,25],\"y\":[0.021317869458801538,0.027964807609338997,0.02712704988141502,0.03957767721167314,0.007657245487229211,-0.0013431732445265132,0.020040367416279424,0.045923754372037336,-0.573198482963551,-0.44253025796679796,-0.30745653540767975,-0.10165504912699887,-0.17307490764843964,-0.11418522506001776,-0.1516271129578826,-0.12536531679671595,-0.09896952483780076,-0.09309429541982628,-0.06800445891354885,-0.07573565091404165,-0.07768386366197239,-0.05120082632314785,-0.03812810727860773,-0.017350151048323926,-0.022930059457416347,-0.027365805403791986],\"type\":\"scatter\"},{\"hovertemplate\":\"\\u003cb\\u003eLayer:\\u003c\\u002fb\\u003e %{x}\\u003cbr\\u003e\\u003cb\\u003eBiology_Shared Mean:\\u003c\\u002fb\\u003e %{y:.3f}\\u003cextra\\u003e\\u003c\\u002fextra\\u003e\",\"line\":{\"color\":\"#d62728\",\"width\":3},\"mode\":\"lines\",\"name\":\"Biology_Shared\",\"x\":[0,1,2,3,4,5,6,7,8,9,10,11,12,13,14,15,16,17,18,19,20,21,22,23,24,25],\"y\":[0.021317869458801538,0.027964807609338997,0.02712704988141502,0.03957767721167314,0.007657245487229211,-0.0013431732445265132,0.020040367416279424,0.045923754372037336,-0.573198482963551,-0.44253025796679796,-0.30745653540767975,-0.10165504912699887,-0.17307490764843964,-0.11418522506001776,-0.1516271129578826,-0.12536531679671595,-0.09896952483780076,-0.09309429541982628,-0.06800445891354885,-0.07573565091404165,-0.07768386366197239,-0.05120082632314785,-0.03812810727860773,-0.017350151048323926,-0.022930059457416347,-0.027365805403791986],\"type\":\"scatter\"}],                        {\"template\":{\"data\":{\"histogram2dcontour\":[{\"type\":\"histogram2dcontour\",\"colorbar\":{\"outlinewidth\":0,\"ticks\":\"\"},\"colorscale\":[[0.0,\"#0d0887\"],[0.1111111111111111,\"#46039f\"],[0.2222222222222222,\"#7201a8\"],[0.3333333333333333,\"#9c179e\"],[0.4444444444444444,\"#bd3786\"],[0.5555555555555556,\"#d8576b\"],[0.6666666666666666,\"#ed7953\"],[0.7777777777777778,\"#fb9f3a\"],[0.8888888888888888,\"#fdca26\"],[1.0,\"#f0f921\"]]}],\"choropleth\":[{\"type\":\"choropleth\",\"colorbar\":{\"outlinewidth\":0,\"ticks\":\"\"}}],\"histogram2d\":[{\"type\":\"histogram2d\",\"colorbar\":{\"outlinewidth\":0,\"ticks\":\"\"},\"colorscale\":[[0.0,\"#0d0887\"],[0.1111111111111111,\"#46039f\"],[0.2222222222222222,\"#7201a8\"],[0.3333333333333333,\"#9c179e\"],[0.4444444444444444,\"#bd3786\"],[0.5555555555555556,\"#d8576b\"],[0.6666666666666666,\"#ed7953\"],[0.7777777777777778,\"#fb9f3a\"],[0.8888888888888888,\"#fdca26\"],[1.0,\"#f0f921\"]]}],\"heatmap\":[{\"type\":\"heatmap\",\"colorbar\":{\"outlinewidth\":0,\"ticks\":\"\"},\"colorscale\":[[0.0,\"#0d0887\"],[0.1111111111111111,\"#46039f\"],[0.2222222222222222,\"#7201a8\"],[0.3333333333333333,\"#9c179e\"],[0.4444444444444444,\"#bd3786\"],[0.5555555555555556,\"#d8576b\"],[0.6666666666666666,\"#ed7953\"],[0.7777777777777778,\"#fb9f3a\"],[0.8888888888888888,\"#fdca26\"],[1.0,\"#f0f921\"]]}],\"heatmapgl\":[{\"type\":\"heatmapgl\",\"colorbar\":{\"outlinewidth\":0,\"ticks\":\"\"},\"colorscale\":[[0.0,\"#0d0887\"],[0.1111111111111111,\"#46039f\"],[0.2222222222222222,\"#7201a8\"],[0.3333333333333333,\"#9c179e\"],[0.4444444444444444,\"#bd3786\"],[0.5555555555555556,\"#d8576b\"],[0.6666666666666666,\"#ed7953\"],[0.7777777777777778,\"#fb9f3a\"],[0.8888888888888888,\"#fdca26\"],[1.0,\"#f0f921\"]]}],\"contourcarpet\":[{\"type\":\"contourcarpet\",\"colorbar\":{\"outlinewidth\":0,\"ticks\":\"\"}}],\"contour\":[{\"type\":\"contour\",\"colorbar\":{\"outlinewidth\":0,\"ticks\":\"\"},\"colorscale\":[[0.0,\"#0d0887\"],[0.1111111111111111,\"#46039f\"],[0.2222222222222222,\"#7201a8\"],[0.3333333333333333,\"#9c179e\"],[0.4444444444444444,\"#bd3786\"],[0.5555555555555556,\"#d8576b\"],[0.6666666666666666,\"#ed7953\"],[0.7777777777777778,\"#fb9f3a\"],[0.8888888888888888,\"#fdca26\"],[1.0,\"#f0f921\"]]}],\"surface\":[{\"type\":\"surface\",\"colorbar\":{\"outlinewidth\":0,\"ticks\":\"\"},\"colorscale\":[[0.0,\"#0d0887\"],[0.1111111111111111,\"#46039f\"],[0.2222222222222222,\"#7201a8\"],[0.3333333333333333,\"#9c179e\"],[0.4444444444444444,\"#bd3786\"],[0.5555555555555556,\"#d8576b\"],[0.6666666666666666,\"#ed7953\"],[0.7777777777777778,\"#fb9f3a\"],[0.8888888888888888,\"#fdca26\"],[1.0,\"#f0f921\"]]}],\"mesh3d\":[{\"type\":\"mesh3d\",\"colorbar\":{\"outlinewidth\":0,\"ticks\":\"\"}}],\"scatter\":[{\"fillpattern\":{\"fillmode\":\"overlay\",\"size\":10,\"solidity\":0.2},\"type\":\"scatter\"}],\"parcoords\":[{\"type\":\"parcoords\",\"line\":{\"colorbar\":{\"outlinewidth\":0,\"ticks\":\"\"}}}],\"scatterpolargl\":[{\"type\":\"scatterpolargl\",\"marker\":{\"colorbar\":{\"outlinewidth\":0,\"ticks\":\"\"}}}],\"bar\":[{\"error_x\":{\"color\":\"#2a3f5f\"},\"error_y\":{\"color\":\"#2a3f5f\"},\"marker\":{\"line\":{\"color\":\"#E5ECF6\",\"width\":0.5},\"pattern\":{\"fillmode\":\"overlay\",\"size\":10,\"solidity\":0.2}},\"type\":\"bar\"}],\"scattergeo\":[{\"type\":\"scattergeo\",\"marker\":{\"colorbar\":{\"outlinewidth\":0,\"ticks\":\"\"}}}],\"scatterpolar\":[{\"type\":\"scatterpolar\",\"marker\":{\"colorbar\":{\"outlinewidth\":0,\"ticks\":\"\"}}}],\"histogram\":[{\"marker\":{\"pattern\":{\"fillmode\":\"overlay\",\"size\":10,\"solidity\":0.2}},\"type\":\"histogram\"}],\"scattergl\":[{\"type\":\"scattergl\",\"marker\":{\"colorbar\":{\"outlinewidth\":0,\"ticks\":\"\"}}}],\"scatter3d\":[{\"type\":\"scatter3d\",\"line\":{\"colorbar\":{\"outlinewidth\":0,\"ticks\":\"\"}},\"marker\":{\"colorbar\":{\"outlinewidth\":0,\"ticks\":\"\"}}}],\"scattermapbox\":[{\"type\":\"scattermapbox\",\"marker\":{\"colorbar\":{\"outlinewidth\":0,\"ticks\":\"\"}}}],\"scatterternary\":[{\"type\":\"scatterternary\",\"marker\":{\"colorbar\":{\"outlinewidth\":0,\"ticks\":\"\"}}}],\"scattercarpet\":[{\"type\":\"scattercarpet\",\"marker\":{\"colorbar\":{\"outlinewidth\":0,\"ticks\":\"\"}}}],\"carpet\":[{\"aaxis\":{\"endlinecolor\":\"#2a3f5f\",\"gridcolor\":\"white\",\"linecolor\":\"white\",\"minorgridcolor\":\"white\",\"startlinecolor\":\"#2a3f5f\"},\"baxis\":{\"endlinecolor\":\"#2a3f5f\",\"gridcolor\":\"white\",\"linecolor\":\"white\",\"minorgridcolor\":\"white\",\"startlinecolor\":\"#2a3f5f\"},\"type\":\"carpet\"}],\"table\":[{\"cells\":{\"fill\":{\"color\":\"#EBF0F8\"},\"line\":{\"color\":\"white\"}},\"header\":{\"fill\":{\"color\":\"#C8D4E3\"},\"line\":{\"color\":\"white\"}},\"type\":\"table\"}],\"barpolar\":[{\"marker\":{\"line\":{\"color\":\"#E5ECF6\",\"width\":0.5},\"pattern\":{\"fillmode\":\"overlay\",\"size\":10,\"solidity\":0.2}},\"type\":\"barpolar\"}],\"pie\":[{\"automargin\":true,\"type\":\"pie\"}]},\"layout\":{\"autotypenumbers\":\"strict\",\"colorway\":[\"#636efa\",\"#EF553B\",\"#00cc96\",\"#ab63fa\",\"#FFA15A\",\"#19d3f3\",\"#FF6692\",\"#B6E880\",\"#FF97FF\",\"#FECB52\"],\"font\":{\"color\":\"#2a3f5f\"},\"hovermode\":\"closest\",\"hoverlabel\":{\"align\":\"left\"},\"paper_bgcolor\":\"white\",\"plot_bgcolor\":\"#E5ECF6\",\"polar\":{\"bgcolor\":\"#E5ECF6\",\"angularaxis\":{\"gridcolor\":\"white\",\"linecolor\":\"white\",\"ticks\":\"\"},\"radialaxis\":{\"gridcolor\":\"white\",\"linecolor\":\"white\",\"ticks\":\"\"}},\"ternary\":{\"bgcolor\":\"#E5ECF6\",\"aaxis\":{\"gridcolor\":\"white\",\"linecolor\":\"white\",\"ticks\":\"\"},\"baxis\":{\"gridcolor\":\"white\",\"linecolor\":\"white\",\"ticks\":\"\"},\"caxis\":{\"gridcolor\":\"white\",\"linecolor\":\"white\",\"ticks\":\"\"}},\"coloraxis\":{\"colorbar\":{\"outlinewidth\":0,\"ticks\":\"\"}},\"colorscale\":{\"sequential\":[[0.0,\"#0d0887\"],[0.1111111111111111,\"#46039f\"],[0.2222222222222222,\"#7201a8\"],[0.3333333333333333,\"#9c179e\"],[0.4444444444444444,\"#bd3786\"],[0.5555555555555556,\"#d8576b\"],[0.6666666666666666,\"#ed7953\"],[0.7777777777777778,\"#fb9f3a\"],[0.8888888888888888,\"#fdca26\"],[1.0,\"#f0f921\"]],\"sequentialminus\":[[0.0,\"#0d0887\"],[0.1111111111111111,\"#46039f\"],[0.2222222222222222,\"#7201a8\"],[0.3333333333333333,\"#9c179e\"],[0.4444444444444444,\"#bd3786\"],[0.5555555555555556,\"#d8576b\"],[0.6666666666666666,\"#ed7953\"],[0.7777777777777778,\"#fb9f3a\"],[0.8888888888888888,\"#fdca26\"],[1.0,\"#f0f921\"]],\"diverging\":[[0,\"#8e0152\"],[0.1,\"#c51b7d\"],[0.2,\"#de77ae\"],[0.3,\"#f1b6da\"],[0.4,\"#fde0ef\"],[0.5,\"#f7f7f7\"],[0.6,\"#e6f5d0\"],[0.7,\"#b8e186\"],[0.8,\"#7fbc41\"],[0.9,\"#4d9221\"],[1,\"#276419\"]]},\"xaxis\":{\"gridcolor\":\"white\",\"linecolor\":\"white\",\"ticks\":\"\",\"title\":{\"standoff\":15},\"zerolinecolor\":\"white\",\"automargin\":true,\"zerolinewidth\":2},\"yaxis\":{\"gridcolor\":\"white\",\"linecolor\":\"white\",\"ticks\":\"\",\"title\":{\"standoff\":15},\"zerolinecolor\":\"white\",\"automargin\":true,\"zerolinewidth\":2},\"scene\":{\"xaxis\":{\"backgroundcolor\":\"#E5ECF6\",\"gridcolor\":\"white\",\"linecolor\":\"white\",\"showbackground\":true,\"ticks\":\"\",\"zerolinecolor\":\"white\",\"gridwidth\":2},\"yaxis\":{\"backgroundcolor\":\"#E5ECF6\",\"gridcolor\":\"white\",\"linecolor\":\"white\",\"showbackground\":true,\"ticks\":\"\",\"zerolinecolor\":\"white\",\"gridwidth\":2},\"zaxis\":{\"backgroundcolor\":\"#E5ECF6\",\"gridcolor\":\"white\",\"linecolor\":\"white\",\"showbackground\":true,\"ticks\":\"\",\"zerolinecolor\":\"white\",\"gridwidth\":2}},\"shapedefaults\":{\"line\":{\"color\":\"#2a3f5f\"}},\"annotationdefaults\":{\"arrowcolor\":\"#2a3f5f\",\"arrowhead\":0,\"arrowwidth\":1},\"geo\":{\"bgcolor\":\"white\",\"landcolor\":\"#E5ECF6\",\"subunitcolor\":\"white\",\"showland\":true,\"showlakes\":true,\"lakecolor\":\"white\"},\"title\":{\"x\":0.05},\"mapbox\":{\"style\":\"light\"}}},\"shapes\":[{\"line\":{\"color\":\"grey\",\"dash\":\"dot\",\"width\":2},\"opacity\":0.7,\"type\":\"line\",\"x0\":9,\"x1\":9,\"xref\":\"x\",\"y0\":0,\"y1\":1,\"yref\":\"y domain\"}],\"annotations\":[{\"font\":{\"color\":\"grey\",\"size\":14},\"showarrow\":false,\"text\":\"Layer 9\",\"x\":9,\"xshift\":30,\"y\":0.8,\"yanchor\":\"middle\",\"yref\":\"paper\"}],\"title\":{\"font\":{\"size\":20,\"color\":\"black\"},\"text\":\"Cosine Similarity between PCA of each group and correspoding best directions\",\"x\":0.05,\"xanchor\":\"left\"},\"xaxis\":{\"title\":{\"font\":{\"size\":16,\"color\":\"black\"},\"text\":\"Layer\"},\"zeroline\":false,\"linewidth\":1,\"ticks\":\"outside\"},\"yaxis\":{\"title\":{\"font\":{\"size\":16,\"color\":\"black\"},\"text\":\"Cosine similarity\"},\"zeroline\":false,\"linewidth\":1,\"ticks\":\"outside\"},\"margin\":{\"l\":80,\"r\":80,\"t\":100,\"b\":120},\"showlegend\":true,\"width\":1000,\"height\":600},                        {\"responsive\": true}                    ).then(function(){\n",
       "                            \n",
       "var gd = document.getElementById('32298879-cc2d-46b5-84e9-af667dfbfee7');\n",
       "var x = new MutationObserver(function (mutations, observer) {{\n",
       "        var display = window.getComputedStyle(gd).display;\n",
       "        if (!display || display === 'none') {{\n",
       "            console.log([gd, 'removed!']);\n",
       "            Plotly.purge(gd);\n",
       "            observer.disconnect();\n",
       "        }}\n",
       "}});\n",
       "\n",
       "// Listen for the removal of the full notebook cells\n",
       "var notebookContainer = gd.closest('#notebook-container');\n",
       "if (notebookContainer) {{\n",
       "    x.observe(notebookContainer, {childList: true});\n",
       "}}\n",
       "\n",
       "// Listen for the clearing of the current output cell\n",
       "var outputEl = gd.closest('.output');\n",
       "if (outputEl) {{\n",
       "    x.observe(outputEl, {childList: true});\n",
       "}}\n",
       "\n",
       "                        })                };                });            </script>        </div>"
      ]
     },
     "metadata": {},
     "output_type": "display_data"
    }
   ],
   "source": [
    "plot_scores_plotly(\n",
    "    scores_group={\n",
    "        \"Cybersecurity_Cybersecurity\": cyber_cosine,\n",
    "        \"Biology_Biology\": bio_cosine,\n",
    "        \"Cybersecurity_Shared\": cyber_shared_cosine,\n",
    "        \"Biology_Shared\": bio_shared_cosine\n",
    "    },\n",
    "    layer_of_interest=LAYER_ID,\n",
    "    title=\"Cosine Similarity between PCA of each group and correspoding best directions\",\n",
    "    ylabel=\"Cosine similarity\",\n",
    "    artifact_dir=f\"{ARTIFACT_DIR}/bootstrap\",\n",
    "    artifact_name=\"cosine_best\"\n",
    ")"
   ]
  },
  {
   "cell_type": "code",
   "execution_count": 24,
   "id": "babfd619",
   "metadata": {},
   "outputs": [],
   "source": [
    "def scree(\n",
    "    results,\n",
    "    artifact_dir,\n",
    "    artifact_name,\n",
    "    figsize=(8, 8),\n",
    "    title=\"Scree Plot of Bio Bootstrap PCA\",\n",
    "):\n",
    "    fig = go.Figure()\n",
    "\n",
    "    for idx, result in enumerate(results):\n",
    "        explained_ratio = result[\"explained_ratio\"].cpu().numpy()\n",
    "        components = list(range(1, len(explained_ratio) + 1))\n",
    "\n",
    "        fig.add_trace(\n",
    "            go.Scatter(\n",
    "                x=components,\n",
    "                y=explained_ratio,\n",
    "                text=[f\"{v:.2f}\" for v in explained_ratio],\n",
    "                cliponaxis=False,\n",
    "                mode=\"lines+markers\",\n",
    "                name=f\"Layer {idx}\"\n",
    "            )\n",
    "        )\n",
    "\n",
    "    fig.update_layout(\n",
    "        title=title,\n",
    "        xaxis_title=\"Principal Component\",\n",
    "        yaxis_title=\"Explained Variance Ratio\",\n",
    "        template=\"plotly_white\",\n",
    "        legend=dict(\n",
    "            yanchor=\"top\", y=0.98, xanchor=\"right\", x=0.98,\n",
    "            bgcolor='white', bordercolor=\"LightGray\", borderwidth=1,\n",
    "        ),\n",
    "        barmode='group',\n",
    "        xaxis=dict(\n",
    "            showgrid=True,\n",
    "        ),\n",
    "        yaxis=dict(\n",
    "            showgrid=True,\n",
    "        ),\n",
    "        plot_bgcolor='white',\n",
    "        bargap=0.2,\n",
    "        width=figsize[0] * 100,\n",
    "        height=figsize[1] * 100,\n",
    "    )\n",
    "\n",
    "    fig.update_xaxes(showline=True, linewidth=1.5, linecolor='black')\n",
    "    fig.update_yaxes(showline=True, linewidth=1.5, linecolor='black')\n",
    "\n",
    "    fig.show()\n",
    "\n",
    "    if artifact_dir:\n",
    "        fig.write_image(f\"{artifact_dir}/{artifact_name}.pdf\", format=\"pdf\")"
   ]
  },
  {
   "cell_type": "code",
   "execution_count": 26,
   "id": "59bbaeab",
   "metadata": {},
   "outputs": [
    {
     "data": {
      "application/vnd.plotly.v1+json": {
       "config": {
        "plotlyServerURL": "https://plot.ly"
       },
       "data": [
        {
         "cliponaxis": false,
         "mode": "lines+markers",
         "name": "Layer 0",
         "text": [
          "0.77",
          "0.22",
          "0.01",
          "0.00",
          "0.00",
          "0.00",
          "0.00",
          "0.00",
          "0.00",
          "0.00",
          "0.00",
          "0.00"
         ],
         "type": "scatter",
         "x": [
          1,
          2,
          3,
          4,
          5,
          6,
          7,
          8,
          9,
          10,
          11,
          12
         ],
         "y": [
          0.7701458930969238,
          0.21706357598304749,
          0.005817403085529804,
          0.0031061593908816576,
          0.000162071330123581,
          0.0001403770293109119,
          0.0001295447291340679,
          0.00011279788304818794,
          0.00009655104804551229,
          0.00008399502257816494,
          0.00006903961912030354,
          0.000055848715419415385
         ]
        },
        {
         "cliponaxis": false,
         "mode": "lines+markers",
         "name": "Layer 1",
         "text": [
          "0.71",
          "0.25",
          "0.02",
          "0.01",
          "0.00",
          "0.00",
          "0.00",
          "0.00",
          "0.00",
          "0.00",
          "0.00",
          "0.00"
         ],
         "type": "scatter",
         "x": [
          1,
          2,
          3,
          4,
          5,
          6,
          7,
          8,
          9,
          10,
          11,
          12
         ],
         "y": [
          0.7093899250030518,
          0.25037479400634766,
          0.016118625178933144,
          0.0062902239151299,
          0.0012235710164532065,
          0.0008077343227341771,
          0.0003990047553088516,
          0.00021194068540353328,
          0.00019124777463730425,
          0.00016132183372974396,
          0.00012833457731176168,
          0.0001178170059574768
         ]
        },
        {
         "cliponaxis": false,
         "mode": "lines+markers",
         "name": "Layer 2",
         "text": [
          "0.61",
          "0.33",
          "0.02",
          "0.01",
          "0.00",
          "0.00",
          "0.00",
          "0.00",
          "0.00",
          "0.00",
          "0.00",
          "0.00"
         ],
         "type": "scatter",
         "x": [
          1,
          2,
          3,
          4,
          5,
          6,
          7,
          8,
          9,
          10,
          11,
          12
         ],
         "y": [
          0.6098926663398743,
          0.33150002360343933,
          0.01708141528069973,
          0.009841077961027622,
          0.001547125750221312,
          0.0013297199038788676,
          0.0012132322881370783,
          0.0004133580077905208,
          0.0002970136993099004,
          0.00024475291138514876,
          0.0001897598267532885,
          0.0001702606095932424
         ]
        },
        {
         "cliponaxis": false,
         "mode": "lines+markers",
         "name": "Layer 3",
         "text": [
          "0.58",
          "0.33",
          "0.03",
          "0.01",
          "0.00",
          "0.00",
          "0.00",
          "0.00",
          "0.00",
          "0.00",
          "0.00",
          "0.00"
         ],
         "type": "scatter",
         "x": [
          1,
          2,
          3,
          4,
          5,
          6,
          7,
          8,
          9,
          10,
          11,
          12
         ],
         "y": [
          0.5838674306869507,
          0.33242955803871155,
          0.02533058635890484,
          0.013736553490161896,
          0.0015816007507964969,
          0.0012435783864930272,
          0.00093727937201038,
          0.000553840771317482,
          0.00047680363059043884,
          0.0003998220490757376,
          0.0003051589010283351,
          0.0002506295859348029
         ]
        },
        {
         "cliponaxis": false,
         "mode": "lines+markers",
         "name": "Layer 4",
         "text": [
          "0.60",
          "0.29",
          "0.03",
          "0.02",
          "0.00",
          "0.00",
          "0.00",
          "0.00",
          "0.00",
          "0.00",
          "0.00",
          "0.00"
         ],
         "type": "scatter",
         "x": [
          1,
          2,
          3,
          4,
          5,
          6,
          7,
          8,
          9,
          10,
          11,
          12
         ],
         "y": [
          0.5999616980552673,
          0.291893869638443,
          0.03268587589263916,
          0.01678355224430561,
          0.0021016302052885294,
          0.0012441992294043303,
          0.000768025463912636,
          0.0007175495265983045,
          0.000564938469324261,
          0.0005136386607773602,
          0.00041264743776991963,
          0.00036914911470375955
         ]
        },
        {
         "cliponaxis": false,
         "mode": "lines+markers",
         "name": "Layer 5",
         "text": [
          "0.62",
          "0.25",
          "0.03",
          "0.02",
          "0.00",
          "0.00",
          "0.00",
          "0.00",
          "0.00",
          "0.00",
          "0.00",
          "0.00"
         ],
         "type": "scatter",
         "x": [
          1,
          2,
          3,
          4,
          5,
          6,
          7,
          8,
          9,
          10,
          11,
          12
         ],
         "y": [
          0.6204779744148254,
          0.25409871339797974,
          0.0340290367603302,
          0.021612295880913734,
          0.002574679208919406,
          0.0012443633750081062,
          0.0011056710500270128,
          0.0006560347974300385,
          0.0005999323329888284,
          0.0005232009571045637,
          0.000450869178166613,
          0.00039966197800822556
         ]
        },
        {
         "cliponaxis": false,
         "mode": "lines+markers",
         "name": "Layer 6",
         "text": [
          "0.57",
          "0.28",
          "0.04",
          "0.02",
          "0.00",
          "0.00",
          "0.00",
          "0.00",
          "0.00",
          "0.00",
          "0.00",
          "0.00"
         ],
         "type": "scatter",
         "x": [
          1,
          2,
          3,
          4,
          5,
          6,
          7,
          8,
          9,
          10,
          11,
          12
         ],
         "y": [
          0.5732794404029846,
          0.28018268942832947,
          0.0386086106300354,
          0.02277269959449768,
          0.002833043923601508,
          0.0019982485100626945,
          0.0010265478631481528,
          0.0008359461207874119,
          0.0007273363298736513,
          0.0006999287288635969,
          0.0005105134332552552,
          0.00048365883412770927
         ]
        },
        {
         "cliponaxis": false,
         "mode": "lines+markers",
         "name": "Layer 7",
         "text": [
          "0.58",
          "0.25",
          "0.05",
          "0.03",
          "0.00",
          "0.00",
          "0.00",
          "0.00",
          "0.00",
          "0.00",
          "0.00",
          "0.00"
         ],
         "type": "scatter",
         "x": [
          1,
          2,
          3,
          4,
          5,
          6,
          7,
          8,
          9,
          10,
          11,
          12
         ],
         "y": [
          0.5798218846321106,
          0.2508369982242584,
          0.047221601009368896,
          0.0273028202354908,
          0.0038276941049844027,
          0.0027581288013607264,
          0.0010504062520340085,
          0.0009562153718434274,
          0.0008679035236127675,
          0.0008447084110230207,
          0.0006501200259663165,
          0.0005919566028751433
         ]
        },
        {
         "cliponaxis": false,
         "mode": "lines+markers",
         "name": "Layer 8",
         "text": [
          "0.87",
          "0.09",
          "0.03",
          "0.00",
          "0.00",
          "0.00",
          "0.00",
          "0.00",
          "0.00",
          "0.00",
          "0.00",
          "0.00"
         ],
         "type": "scatter",
         "x": [
          1,
          2,
          3,
          4,
          5,
          6,
          7,
          8,
          9,
          10,
          11,
          12
         ],
         "y": [
          0.8668739199638367,
          0.08566690236330032,
          0.033253397792577744,
          0.00476651219651103,
          0.0016200973186641932,
          0.0014103827998042107,
          0.0006974735879339278,
          0.0003224295505788177,
          0.0002533060032874346,
          0.00023861424415372312,
          0.00019297937978990376,
          0.00015968851221259683
         ]
        },
        {
         "cliponaxis": false,
         "mode": "lines+markers",
         "name": "Layer 9",
         "text": [
          "0.67",
          "0.26",
          "0.04",
          "0.01",
          "0.00",
          "0.00",
          "0.00",
          "0.00",
          "0.00",
          "0.00",
          "0.00",
          "0.00"
         ],
         "type": "scatter",
         "x": [
          1,
          2,
          3,
          4,
          5,
          6,
          7,
          8,
          9,
          10,
          11,
          12
         ],
         "y": [
          0.6664115786552429,
          0.26104268431663513,
          0.04095645248889923,
          0.008794992230832577,
          0.004404102452099323,
          0.0010202974081039429,
          0.0008672273834235966,
          0.0007483079098165035,
          0.0005553613300435245,
          0.0003529446548782289,
          0.0003466089256107807,
          0.0003024166217073798
         ]
        },
        {
         "cliponaxis": false,
         "mode": "lines+markers",
         "name": "Layer 10",
         "text": [
          "0.61",
          "0.30",
          "0.05",
          "0.01",
          "0.01",
          "0.00",
          "0.00",
          "0.00",
          "0.00",
          "0.00",
          "0.00",
          "0.00"
         ],
         "type": "scatter",
         "x": [
          1,
          2,
          3,
          4,
          5,
          6,
          7,
          8,
          9,
          10,
          11,
          12
         ],
         "y": [
          0.6121152639389038,
          0.29814520478248596,
          0.053076066076755524,
          0.009810871444642544,
          0.00645391596481204,
          0.0010260373819619417,
          0.0007563393446616828,
          0.0006023650639690459,
          0.00042579168803058565,
          0.0004080998187419027,
          0.0003571581037249416,
          0.00023037251958157867
         ]
        },
        {
         "cliponaxis": false,
         "mode": "lines+markers",
         "name": "Layer 11",
         "text": [
          "0.57",
          "0.32",
          "0.08",
          "0.01",
          "0.00",
          "0.00",
          "0.00",
          "0.00",
          "0.00",
          "0.00",
          "0.00",
          "0.00"
         ],
         "type": "scatter",
         "x": [
          1,
          2,
          3,
          4,
          5,
          6,
          7,
          8,
          9,
          10,
          11,
          12
         ],
         "y": [
          0.56785649061203,
          0.31969019770622253,
          0.07835079729557037,
          0.009725961834192276,
          0.004626939073204994,
          0.0007629976607859135,
          0.0006365766166709363,
          0.0005712243146263063,
          0.0004687603795900941,
          0.0002897904778365046,
          0.00024288013810291886,
          0.00022456137230619788
         ]
        },
        {
         "cliponaxis": false,
         "mode": "lines+markers",
         "name": "Layer 12",
         "text": [
          "0.66",
          "0.23",
          "0.08",
          "0.01",
          "0.00",
          "0.00",
          "0.00",
          "0.00",
          "0.00",
          "0.00",
          "0.00",
          "0.00"
         ],
         "type": "scatter",
         "x": [
          1,
          2,
          3,
          4,
          5,
          6,
          7,
          8,
          9,
          10,
          11,
          12
         ],
         "y": [
          0.6578737497329712,
          0.2318449318408966,
          0.07839877158403397,
          0.00918476190418005,
          0.0031861073803156614,
          0.000656202610116452,
          0.0005774828605353832,
          0.0005181435844860971,
          0.0004472648142836988,
          0.0003468930080998689,
          0.00030340394005179405,
          0.00024262147780973464
         ]
        },
        {
         "cliponaxis": false,
         "mode": "lines+markers",
         "name": "Layer 13",
         "text": [
          "0.58",
          "0.30",
          "0.08",
          "0.01",
          "0.00",
          "0.00",
          "0.00",
          "0.00",
          "0.00",
          "0.00",
          "0.00",
          "0.00"
         ],
         "type": "scatter",
         "x": [
          1,
          2,
          3,
          4,
          5,
          6,
          7,
          8,
          9,
          10,
          11,
          12
         ],
         "y": [
          0.5811648368835449,
          0.2959068715572357,
          0.08383961766958237,
          0.012700804509222507,
          0.002729688538238406,
          0.0008333498262800276,
          0.000646541710011661,
          0.0005288204411044717,
          0.0004356621648184955,
          0.00032653677044436336,
          0.0002871425822377205,
          0.0002559525310061872
         ]
        },
        {
         "cliponaxis": false,
         "mode": "lines+markers",
         "name": "Layer 14",
         "text": [
          "0.62",
          "0.26",
          "0.09",
          "0.01",
          "0.00",
          "0.00",
          "0.00",
          "0.00",
          "0.00",
          "0.00",
          "0.00",
          "0.00"
         ],
         "type": "scatter",
         "x": [
          1,
          2,
          3,
          4,
          5,
          6,
          7,
          8,
          9,
          10,
          11,
          12
         ],
         "y": [
          0.6158866882324219,
          0.2581726312637329,
          0.08881170302629471,
          0.011836870573461056,
          0.002353072864934802,
          0.0007805441855452955,
          0.0005944198346696794,
          0.0004975764895789325,
          0.00036055079544894397,
          0.0003020951116923243,
          0.00026826781686395407,
          0.0002115195820806548
         ]
        },
        {
         "cliponaxis": false,
         "mode": "lines+markers",
         "name": "Layer 15",
         "text": [
          "0.60",
          "0.27",
          "0.10",
          "0.01",
          "0.00",
          "0.00",
          "0.00",
          "0.00",
          "0.00",
          "0.00",
          "0.00",
          "0.00"
         ],
         "type": "scatter",
         "x": [
          1,
          2,
          3,
          4,
          5,
          6,
          7,
          8,
          9,
          10,
          11,
          12
         ],
         "y": [
          0.5998756885528564,
          0.2699483036994934,
          0.09532133489847183,
          0.012057499960064888,
          0.0017880318919196725,
          0.0006221153889782727,
          0.0004917105543427169,
          0.00042530015343800187,
          0.0003783637366723269,
          0.0003044398326892406,
          0.0002330485440324992,
          0.00021347706206142902
         ]
        },
        {
         "cliponaxis": false,
         "mode": "lines+markers",
         "name": "Layer 16",
         "text": [
          "0.61",
          "0.27",
          "0.10",
          "0.01",
          "0.00",
          "0.00",
          "0.00",
          "0.00",
          "0.00",
          "0.00",
          "0.00",
          "0.00"
         ],
         "type": "scatter",
         "x": [
          1,
          2,
          3,
          4,
          5,
          6,
          7,
          8,
          9,
          10,
          11,
          12
         ],
         "y": [
          0.6062772274017334,
          0.26552024483680725,
          0.0955159142613411,
          0.010257190093398094,
          0.0021213681902736425,
          0.0006223915843293071,
          0.00044171427725814283,
          0.00042398186633363366,
          0.00034947419771924615,
          0.0003067963116336614,
          0.0002312313881702721,
          0.00021283321257214993
         ]
        },
        {
         "cliponaxis": false,
         "mode": "lines+markers",
         "name": "Layer 17",
         "text": [
          "0.60",
          "0.28",
          "0.08",
          "0.01",
          "0.00",
          "0.00",
          "0.00",
          "0.00",
          "0.00",
          "0.00",
          "0.00",
          "0.00"
         ],
         "type": "scatter",
         "x": [
          1,
          2,
          3,
          4,
          5,
          6,
          7,
          8,
          9,
          10,
          11,
          12
         ],
         "y": [
          0.6036926507949829,
          0.28076931834220886,
          0.0838497206568718,
          0.00946742296218872,
          0.0015620917547494173,
          0.0006856113323010504,
          0.0004586406867019832,
          0.00040470610838383436,
          0.0003434099489822984,
          0.0002909457834903151,
          0.0002327076072106138,
          0.00020540563855320215
         ]
        },
        {
         "cliponaxis": false,
         "mode": "lines+markers",
         "name": "Layer 18",
         "text": [
          "0.59",
          "0.28",
          "0.09",
          "0.01",
          "0.00",
          "0.00",
          "0.00",
          "0.00",
          "0.00",
          "0.00",
          "0.00",
          "0.00"
         ],
         "type": "scatter",
         "x": [
          1,
          2,
          3,
          4,
          5,
          6,
          7,
          8,
          9,
          10,
          11,
          12
         ],
         "y": [
          0.59402996301651,
          0.28461754322052,
          0.08929525315761566,
          0.00883557740598917,
          0.001781856408342719,
          0.0007525338442064822,
          0.0005495724617503583,
          0.00042437194497324526,
          0.00034904785570688546,
          0.0003167837276123464,
          0.0002939215046353638,
          0.0002376172342337668
         ]
        },
        {
         "cliponaxis": false,
         "mode": "lines+markers",
         "name": "Layer 19",
         "text": [
          "0.59",
          "0.27",
          "0.10",
          "0.01",
          "0.00",
          "0.00",
          "0.00",
          "0.00",
          "0.00",
          "0.00",
          "0.00",
          "0.00"
         ],
         "type": "scatter",
         "x": [
          1,
          2,
          3,
          4,
          5,
          6,
          7,
          8,
          9,
          10,
          11,
          12
         ],
         "y": [
          0.5906254649162292,
          0.2748192548751831,
          0.10172608494758606,
          0.008669957518577576,
          0.002049643313512206,
          0.0008162635494954884,
          0.0005822096136398613,
          0.00041753865662030876,
          0.0003689067088998854,
          0.0003640155482571572,
          0.0003116296138614416,
          0.0002451330656185746
         ]
        },
        {
         "cliponaxis": false,
         "mode": "lines+markers",
         "name": "Layer 20",
         "text": [
          "0.58",
          "0.27",
          "0.11",
          "0.01",
          "0.00",
          "0.00",
          "0.00",
          "0.00",
          "0.00",
          "0.00",
          "0.00",
          "0.00"
         ],
         "type": "scatter",
         "x": [
          1,
          2,
          3,
          4,
          5,
          6,
          7,
          8,
          9,
          10,
          11,
          12
         ],
         "y": [
          0.5766115784645081,
          0.273379921913147,
          0.1138320118188858,
          0.009329592809081078,
          0.0020780886989086866,
          0.0008315521408803761,
          0.000678861397318542,
          0.0004833162820432335,
          0.00039282339275814593,
          0.00031794270034879446,
          0.0003000612778123468,
          0.00026243459433317184
         ]
        },
        {
         "cliponaxis": false,
         "mode": "lines+markers",
         "name": "Layer 21",
         "text": [
          "0.55",
          "0.28",
          "0.13",
          "0.01",
          "0.00",
          "0.00",
          "0.00",
          "0.00",
          "0.00",
          "0.00",
          "0.00",
          "0.00"
         ],
         "type": "scatter",
         "x": [
          1,
          2,
          3,
          4,
          5,
          6,
          7,
          8,
          9,
          10,
          11,
          12
         ],
         "y": [
          0.5522553324699402,
          0.28086936473846436,
          0.12975674867630005,
          0.010042260400950909,
          0.0017884891713038087,
          0.0008365821558982134,
          0.0007006428786553442,
          0.0004947171546518803,
          0.0004121851234231144,
          0.0003537022275850177,
          0.00025945084053091705,
          0.00022254021314438432
         ]
        },
        {
         "cliponaxis": false,
         "mode": "lines+markers",
         "name": "Layer 22",
         "text": [
          "0.53",
          "0.31",
          "0.12",
          "0.01",
          "0.00",
          "0.00",
          "0.00",
          "0.00",
          "0.00",
          "0.00",
          "0.00",
          "0.00"
         ],
         "type": "scatter",
         "x": [
          1,
          2,
          3,
          4,
          5,
          6,
          7,
          8,
          9,
          10,
          11,
          12
         ],
         "y": [
          0.5287176966667175,
          0.31339895725250244,
          0.12186886370182037,
          0.009756404906511307,
          0.0015295917401090264,
          0.0008524854201823473,
          0.0007564948173239827,
          0.00047357846051454544,
          0.0003888919309247285,
          0.0003373311192262918,
          0.00028785341419279575,
          0.00021807920711580664
         ]
        },
        {
         "cliponaxis": false,
         "mode": "lines+markers",
         "name": "Layer 23",
         "text": [
          "0.51",
          "0.33",
          "0.12",
          "0.01",
          "0.00",
          "0.00",
          "0.00",
          "0.00",
          "0.00",
          "0.00",
          "0.00",
          "0.00"
         ],
         "type": "scatter",
         "x": [
          1,
          2,
          3,
          4,
          5,
          6,
          7,
          8,
          9,
          10,
          11,
          12
         ],
         "y": [
          0.5122523903846741,
          0.33399516344070435,
          0.11644823849201202,
          0.009663906879723072,
          0.001341389026492834,
          0.0009579520556144416,
          0.0007621404947713017,
          0.00047896004980430007,
          0.00041318798321299255,
          0.0003731738543137908,
          0.0003444594913162291,
          0.00028112868312746286
         ]
        },
        {
         "cliponaxis": false,
         "mode": "lines+markers",
         "name": "Layer 24",
         "text": [
          "0.52",
          "0.32",
          "0.13",
          "0.01",
          "0.00",
          "0.00",
          "0.00",
          "0.00",
          "0.00",
          "0.00",
          "0.00",
          "0.00"
         ],
         "type": "scatter",
         "x": [
          1,
          2,
          3,
          4,
          5,
          6,
          7,
          8,
          9,
          10,
          11,
          12
         ],
         "y": [
          0.5176173448562622,
          0.31607604026794434,
          0.12510551512241364,
          0.010988430120050907,
          0.0013379695592448115,
          0.0009958412265405059,
          0.0008436475181952119,
          0.0005716708255931735,
          0.000491406477522105,
          0.0003999777836725116,
          0.00034140588832087815,
          0.00032383386860601604
         ]
        },
        {
         "cliponaxis": false,
         "mode": "lines+markers",
         "name": "Layer 25",
         "text": [
          "0.53",
          "0.29",
          "0.13",
          "0.01",
          "0.00",
          "0.00",
          "0.00",
          "0.00",
          "0.00",
          "0.00",
          "0.00",
          "0.00"
         ],
         "type": "scatter",
         "x": [
          1,
          2,
          3,
          4,
          5,
          6,
          7,
          8,
          9,
          10,
          11,
          12
         ],
         "y": [
          0.5299983024597168,
          0.2904762327671051,
          0.1342054158449173,
          0.012473681941628456,
          0.0013987127458676696,
          0.001089847064577043,
          0.0009850197238847613,
          0.0008264743955805898,
          0.0005708057433366776,
          0.0004649762995541096,
          0.000374615570763126,
          0.0003167985996697098
         ]
        }
       ],
       "layout": {
        "bargap": 0.2,
        "barmode": "group",
        "height": 800,
        "legend": {
         "bgcolor": "white",
         "bordercolor": "LightGray",
         "borderwidth": 1,
         "x": 0.98,
         "xanchor": "right",
         "y": 0.98,
         "yanchor": "top"
        },
        "plot_bgcolor": "white",
        "template": {
         "data": {
          "bar": [
           {
            "error_x": {
             "color": "#2a3f5f"
            },
            "error_y": {
             "color": "#2a3f5f"
            },
            "marker": {
             "line": {
              "color": "white",
              "width": 0.5
             },
             "pattern": {
              "fillmode": "overlay",
              "size": 10,
              "solidity": 0.2
             }
            },
            "type": "bar"
           }
          ],
          "barpolar": [
           {
            "marker": {
             "line": {
              "color": "white",
              "width": 0.5
             },
             "pattern": {
              "fillmode": "overlay",
              "size": 10,
              "solidity": 0.2
             }
            },
            "type": "barpolar"
           }
          ],
          "carpet": [
           {
            "aaxis": {
             "endlinecolor": "#2a3f5f",
             "gridcolor": "#C8D4E3",
             "linecolor": "#C8D4E3",
             "minorgridcolor": "#C8D4E3",
             "startlinecolor": "#2a3f5f"
            },
            "baxis": {
             "endlinecolor": "#2a3f5f",
             "gridcolor": "#C8D4E3",
             "linecolor": "#C8D4E3",
             "minorgridcolor": "#C8D4E3",
             "startlinecolor": "#2a3f5f"
            },
            "type": "carpet"
           }
          ],
          "choropleth": [
           {
            "colorbar": {
             "outlinewidth": 0,
             "ticks": ""
            },
            "type": "choropleth"
           }
          ],
          "contour": [
           {
            "colorbar": {
             "outlinewidth": 0,
             "ticks": ""
            },
            "colorscale": [
             [
              0,
              "#0d0887"
             ],
             [
              0.1111111111111111,
              "#46039f"
             ],
             [
              0.2222222222222222,
              "#7201a8"
             ],
             [
              0.3333333333333333,
              "#9c179e"
             ],
             [
              0.4444444444444444,
              "#bd3786"
             ],
             [
              0.5555555555555556,
              "#d8576b"
             ],
             [
              0.6666666666666666,
              "#ed7953"
             ],
             [
              0.7777777777777778,
              "#fb9f3a"
             ],
             [
              0.8888888888888888,
              "#fdca26"
             ],
             [
              1,
              "#f0f921"
             ]
            ],
            "type": "contour"
           }
          ],
          "contourcarpet": [
           {
            "colorbar": {
             "outlinewidth": 0,
             "ticks": ""
            },
            "type": "contourcarpet"
           }
          ],
          "heatmap": [
           {
            "colorbar": {
             "outlinewidth": 0,
             "ticks": ""
            },
            "colorscale": [
             [
              0,
              "#0d0887"
             ],
             [
              0.1111111111111111,
              "#46039f"
             ],
             [
              0.2222222222222222,
              "#7201a8"
             ],
             [
              0.3333333333333333,
              "#9c179e"
             ],
             [
              0.4444444444444444,
              "#bd3786"
             ],
             [
              0.5555555555555556,
              "#d8576b"
             ],
             [
              0.6666666666666666,
              "#ed7953"
             ],
             [
              0.7777777777777778,
              "#fb9f3a"
             ],
             [
              0.8888888888888888,
              "#fdca26"
             ],
             [
              1,
              "#f0f921"
             ]
            ],
            "type": "heatmap"
           }
          ],
          "heatmapgl": [
           {
            "colorbar": {
             "outlinewidth": 0,
             "ticks": ""
            },
            "colorscale": [
             [
              0,
              "#0d0887"
             ],
             [
              0.1111111111111111,
              "#46039f"
             ],
             [
              0.2222222222222222,
              "#7201a8"
             ],
             [
              0.3333333333333333,
              "#9c179e"
             ],
             [
              0.4444444444444444,
              "#bd3786"
             ],
             [
              0.5555555555555556,
              "#d8576b"
             ],
             [
              0.6666666666666666,
              "#ed7953"
             ],
             [
              0.7777777777777778,
              "#fb9f3a"
             ],
             [
              0.8888888888888888,
              "#fdca26"
             ],
             [
              1,
              "#f0f921"
             ]
            ],
            "type": "heatmapgl"
           }
          ],
          "histogram": [
           {
            "marker": {
             "pattern": {
              "fillmode": "overlay",
              "size": 10,
              "solidity": 0.2
             }
            },
            "type": "histogram"
           }
          ],
          "histogram2d": [
           {
            "colorbar": {
             "outlinewidth": 0,
             "ticks": ""
            },
            "colorscale": [
             [
              0,
              "#0d0887"
             ],
             [
              0.1111111111111111,
              "#46039f"
             ],
             [
              0.2222222222222222,
              "#7201a8"
             ],
             [
              0.3333333333333333,
              "#9c179e"
             ],
             [
              0.4444444444444444,
              "#bd3786"
             ],
             [
              0.5555555555555556,
              "#d8576b"
             ],
             [
              0.6666666666666666,
              "#ed7953"
             ],
             [
              0.7777777777777778,
              "#fb9f3a"
             ],
             [
              0.8888888888888888,
              "#fdca26"
             ],
             [
              1,
              "#f0f921"
             ]
            ],
            "type": "histogram2d"
           }
          ],
          "histogram2dcontour": [
           {
            "colorbar": {
             "outlinewidth": 0,
             "ticks": ""
            },
            "colorscale": [
             [
              0,
              "#0d0887"
             ],
             [
              0.1111111111111111,
              "#46039f"
             ],
             [
              0.2222222222222222,
              "#7201a8"
             ],
             [
              0.3333333333333333,
              "#9c179e"
             ],
             [
              0.4444444444444444,
              "#bd3786"
             ],
             [
              0.5555555555555556,
              "#d8576b"
             ],
             [
              0.6666666666666666,
              "#ed7953"
             ],
             [
              0.7777777777777778,
              "#fb9f3a"
             ],
             [
              0.8888888888888888,
              "#fdca26"
             ],
             [
              1,
              "#f0f921"
             ]
            ],
            "type": "histogram2dcontour"
           }
          ],
          "mesh3d": [
           {
            "colorbar": {
             "outlinewidth": 0,
             "ticks": ""
            },
            "type": "mesh3d"
           }
          ],
          "parcoords": [
           {
            "line": {
             "colorbar": {
              "outlinewidth": 0,
              "ticks": ""
             }
            },
            "type": "parcoords"
           }
          ],
          "pie": [
           {
            "automargin": true,
            "type": "pie"
           }
          ],
          "scatter": [
           {
            "fillpattern": {
             "fillmode": "overlay",
             "size": 10,
             "solidity": 0.2
            },
            "type": "scatter"
           }
          ],
          "scatter3d": [
           {
            "line": {
             "colorbar": {
              "outlinewidth": 0,
              "ticks": ""
             }
            },
            "marker": {
             "colorbar": {
              "outlinewidth": 0,
              "ticks": ""
             }
            },
            "type": "scatter3d"
           }
          ],
          "scattercarpet": [
           {
            "marker": {
             "colorbar": {
              "outlinewidth": 0,
              "ticks": ""
             }
            },
            "type": "scattercarpet"
           }
          ],
          "scattergeo": [
           {
            "marker": {
             "colorbar": {
              "outlinewidth": 0,
              "ticks": ""
             }
            },
            "type": "scattergeo"
           }
          ],
          "scattergl": [
           {
            "marker": {
             "colorbar": {
              "outlinewidth": 0,
              "ticks": ""
             }
            },
            "type": "scattergl"
           }
          ],
          "scattermapbox": [
           {
            "marker": {
             "colorbar": {
              "outlinewidth": 0,
              "ticks": ""
             }
            },
            "type": "scattermapbox"
           }
          ],
          "scatterpolar": [
           {
            "marker": {
             "colorbar": {
              "outlinewidth": 0,
              "ticks": ""
             }
            },
            "type": "scatterpolar"
           }
          ],
          "scatterpolargl": [
           {
            "marker": {
             "colorbar": {
              "outlinewidth": 0,
              "ticks": ""
             }
            },
            "type": "scatterpolargl"
           }
          ],
          "scatterternary": [
           {
            "marker": {
             "colorbar": {
              "outlinewidth": 0,
              "ticks": ""
             }
            },
            "type": "scatterternary"
           }
          ],
          "surface": [
           {
            "colorbar": {
             "outlinewidth": 0,
             "ticks": ""
            },
            "colorscale": [
             [
              0,
              "#0d0887"
             ],
             [
              0.1111111111111111,
              "#46039f"
             ],
             [
              0.2222222222222222,
              "#7201a8"
             ],
             [
              0.3333333333333333,
              "#9c179e"
             ],
             [
              0.4444444444444444,
              "#bd3786"
             ],
             [
              0.5555555555555556,
              "#d8576b"
             ],
             [
              0.6666666666666666,
              "#ed7953"
             ],
             [
              0.7777777777777778,
              "#fb9f3a"
             ],
             [
              0.8888888888888888,
              "#fdca26"
             ],
             [
              1,
              "#f0f921"
             ]
            ],
            "type": "surface"
           }
          ],
          "table": [
           {
            "cells": {
             "fill": {
              "color": "#EBF0F8"
             },
             "line": {
              "color": "white"
             }
            },
            "header": {
             "fill": {
              "color": "#C8D4E3"
             },
             "line": {
              "color": "white"
             }
            },
            "type": "table"
           }
          ]
         },
         "layout": {
          "annotationdefaults": {
           "arrowcolor": "#2a3f5f",
           "arrowhead": 0,
           "arrowwidth": 1
          },
          "autotypenumbers": "strict",
          "coloraxis": {
           "colorbar": {
            "outlinewidth": 0,
            "ticks": ""
           }
          },
          "colorscale": {
           "diverging": [
            [
             0,
             "#8e0152"
            ],
            [
             0.1,
             "#c51b7d"
            ],
            [
             0.2,
             "#de77ae"
            ],
            [
             0.3,
             "#f1b6da"
            ],
            [
             0.4,
             "#fde0ef"
            ],
            [
             0.5,
             "#f7f7f7"
            ],
            [
             0.6,
             "#e6f5d0"
            ],
            [
             0.7,
             "#b8e186"
            ],
            [
             0.8,
             "#7fbc41"
            ],
            [
             0.9,
             "#4d9221"
            ],
            [
             1,
             "#276419"
            ]
           ],
           "sequential": [
            [
             0,
             "#0d0887"
            ],
            [
             0.1111111111111111,
             "#46039f"
            ],
            [
             0.2222222222222222,
             "#7201a8"
            ],
            [
             0.3333333333333333,
             "#9c179e"
            ],
            [
             0.4444444444444444,
             "#bd3786"
            ],
            [
             0.5555555555555556,
             "#d8576b"
            ],
            [
             0.6666666666666666,
             "#ed7953"
            ],
            [
             0.7777777777777778,
             "#fb9f3a"
            ],
            [
             0.8888888888888888,
             "#fdca26"
            ],
            [
             1,
             "#f0f921"
            ]
           ],
           "sequentialminus": [
            [
             0,
             "#0d0887"
            ],
            [
             0.1111111111111111,
             "#46039f"
            ],
            [
             0.2222222222222222,
             "#7201a8"
            ],
            [
             0.3333333333333333,
             "#9c179e"
            ],
            [
             0.4444444444444444,
             "#bd3786"
            ],
            [
             0.5555555555555556,
             "#d8576b"
            ],
            [
             0.6666666666666666,
             "#ed7953"
            ],
            [
             0.7777777777777778,
             "#fb9f3a"
            ],
            [
             0.8888888888888888,
             "#fdca26"
            ],
            [
             1,
             "#f0f921"
            ]
           ]
          },
          "colorway": [
           "#636efa",
           "#EF553B",
           "#00cc96",
           "#ab63fa",
           "#FFA15A",
           "#19d3f3",
           "#FF6692",
           "#B6E880",
           "#FF97FF",
           "#FECB52"
          ],
          "font": {
           "color": "#2a3f5f"
          },
          "geo": {
           "bgcolor": "white",
           "lakecolor": "white",
           "landcolor": "white",
           "showlakes": true,
           "showland": true,
           "subunitcolor": "#C8D4E3"
          },
          "hoverlabel": {
           "align": "left"
          },
          "hovermode": "closest",
          "mapbox": {
           "style": "light"
          },
          "paper_bgcolor": "white",
          "plot_bgcolor": "white",
          "polar": {
           "angularaxis": {
            "gridcolor": "#EBF0F8",
            "linecolor": "#EBF0F8",
            "ticks": ""
           },
           "bgcolor": "white",
           "radialaxis": {
            "gridcolor": "#EBF0F8",
            "linecolor": "#EBF0F8",
            "ticks": ""
           }
          },
          "scene": {
           "xaxis": {
            "backgroundcolor": "white",
            "gridcolor": "#DFE8F3",
            "gridwidth": 2,
            "linecolor": "#EBF0F8",
            "showbackground": true,
            "ticks": "",
            "zerolinecolor": "#EBF0F8"
           },
           "yaxis": {
            "backgroundcolor": "white",
            "gridcolor": "#DFE8F3",
            "gridwidth": 2,
            "linecolor": "#EBF0F8",
            "showbackground": true,
            "ticks": "",
            "zerolinecolor": "#EBF0F8"
           },
           "zaxis": {
            "backgroundcolor": "white",
            "gridcolor": "#DFE8F3",
            "gridwidth": 2,
            "linecolor": "#EBF0F8",
            "showbackground": true,
            "ticks": "",
            "zerolinecolor": "#EBF0F8"
           }
          },
          "shapedefaults": {
           "line": {
            "color": "#2a3f5f"
           }
          },
          "ternary": {
           "aaxis": {
            "gridcolor": "#DFE8F3",
            "linecolor": "#A2B1C6",
            "ticks": ""
           },
           "baxis": {
            "gridcolor": "#DFE8F3",
            "linecolor": "#A2B1C6",
            "ticks": ""
           },
           "bgcolor": "white",
           "caxis": {
            "gridcolor": "#DFE8F3",
            "linecolor": "#A2B1C6",
            "ticks": ""
           }
          },
          "title": {
           "x": 0.05
          },
          "xaxis": {
           "automargin": true,
           "gridcolor": "#EBF0F8",
           "linecolor": "#EBF0F8",
           "ticks": "",
           "title": {
            "standoff": 15
           },
           "zerolinecolor": "#EBF0F8",
           "zerolinewidth": 2
          },
          "yaxis": {
           "automargin": true,
           "gridcolor": "#EBF0F8",
           "linecolor": "#EBF0F8",
           "ticks": "",
           "title": {
            "standoff": 15
           },
           "zerolinecolor": "#EBF0F8",
           "zerolinewidth": 2
          }
         }
        },
        "title": {
         "text": "Scree Plot of Bio Bootstrap PCA"
        },
        "width": 800,
        "xaxis": {
         "linecolor": "black",
         "linewidth": 1.5,
         "showgrid": true,
         "showline": true,
         "title": {
          "text": "Principal Component"
         }
        },
        "yaxis": {
         "linecolor": "black",
         "linewidth": 1.5,
         "showgrid": true,
         "showline": true,
         "title": {
          "text": "Explained Variance Ratio"
         }
        }
       }
      },
      "text/html": [
       "<div>                            <div id=\"4a9bec4a-fbaa-4268-8a14-588fc501e310\" class=\"plotly-graph-div\" style=\"height:800px; width:800px;\"></div>            <script type=\"text/javascript\">                require([\"plotly\"], function(Plotly) {                    window.PLOTLYENV=window.PLOTLYENV || {};                                    if (document.getElementById(\"4a9bec4a-fbaa-4268-8a14-588fc501e310\")) {                    Plotly.newPlot(                        \"4a9bec4a-fbaa-4268-8a14-588fc501e310\",                        [{\"cliponaxis\":false,\"mode\":\"lines+markers\",\"name\":\"Layer 0\",\"text\":[\"0.77\",\"0.22\",\"0.01\",\"0.00\",\"0.00\",\"0.00\",\"0.00\",\"0.00\",\"0.00\",\"0.00\",\"0.00\",\"0.00\"],\"x\":[1,2,3,4,5,6,7,8,9,10,11,12],\"y\":[0.7701458930969238,0.21706357598304749,0.005817403085529804,0.0031061593908816576,0.000162071330123581,0.0001403770293109119,0.0001295447291340679,0.00011279788304818794,9.655104804551229e-05,8.399502257816494e-05,6.903961912030354e-05,5.5848715419415385e-05],\"type\":\"scatter\"},{\"cliponaxis\":false,\"mode\":\"lines+markers\",\"name\":\"Layer 1\",\"text\":[\"0.71\",\"0.25\",\"0.02\",\"0.01\",\"0.00\",\"0.00\",\"0.00\",\"0.00\",\"0.00\",\"0.00\",\"0.00\",\"0.00\"],\"x\":[1,2,3,4,5,6,7,8,9,10,11,12],\"y\":[0.7093899250030518,0.25037479400634766,0.016118625178933144,0.0062902239151299,0.0012235710164532065,0.0008077343227341771,0.0003990047553088516,0.00021194068540353328,0.00019124777463730425,0.00016132183372974396,0.00012833457731176168,0.0001178170059574768],\"type\":\"scatter\"},{\"cliponaxis\":false,\"mode\":\"lines+markers\",\"name\":\"Layer 2\",\"text\":[\"0.61\",\"0.33\",\"0.02\",\"0.01\",\"0.00\",\"0.00\",\"0.00\",\"0.00\",\"0.00\",\"0.00\",\"0.00\",\"0.00\"],\"x\":[1,2,3,4,5,6,7,8,9,10,11,12],\"y\":[0.6098926663398743,0.33150002360343933,0.01708141528069973,0.009841077961027622,0.001547125750221312,0.0013297199038788676,0.0012132322881370783,0.0004133580077905208,0.0002970136993099004,0.00024475291138514876,0.0001897598267532885,0.0001702606095932424],\"type\":\"scatter\"},{\"cliponaxis\":false,\"mode\":\"lines+markers\",\"name\":\"Layer 3\",\"text\":[\"0.58\",\"0.33\",\"0.03\",\"0.01\",\"0.00\",\"0.00\",\"0.00\",\"0.00\",\"0.00\",\"0.00\",\"0.00\",\"0.00\"],\"x\":[1,2,3,4,5,6,7,8,9,10,11,12],\"y\":[0.5838674306869507,0.33242955803871155,0.02533058635890484,0.013736553490161896,0.0015816007507964969,0.0012435783864930272,0.00093727937201038,0.000553840771317482,0.00047680363059043884,0.0003998220490757376,0.0003051589010283351,0.0002506295859348029],\"type\":\"scatter\"},{\"cliponaxis\":false,\"mode\":\"lines+markers\",\"name\":\"Layer 4\",\"text\":[\"0.60\",\"0.29\",\"0.03\",\"0.02\",\"0.00\",\"0.00\",\"0.00\",\"0.00\",\"0.00\",\"0.00\",\"0.00\",\"0.00\"],\"x\":[1,2,3,4,5,6,7,8,9,10,11,12],\"y\":[0.5999616980552673,0.291893869638443,0.03268587589263916,0.01678355224430561,0.0021016302052885294,0.0012441992294043303,0.000768025463912636,0.0007175495265983045,0.000564938469324261,0.0005136386607773602,0.00041264743776991963,0.00036914911470375955],\"type\":\"scatter\"},{\"cliponaxis\":false,\"mode\":\"lines+markers\",\"name\":\"Layer 5\",\"text\":[\"0.62\",\"0.25\",\"0.03\",\"0.02\",\"0.00\",\"0.00\",\"0.00\",\"0.00\",\"0.00\",\"0.00\",\"0.00\",\"0.00\"],\"x\":[1,2,3,4,5,6,7,8,9,10,11,12],\"y\":[0.6204779744148254,0.25409871339797974,0.0340290367603302,0.021612295880913734,0.002574679208919406,0.0012443633750081062,0.0011056710500270128,0.0006560347974300385,0.0005999323329888284,0.0005232009571045637,0.000450869178166613,0.00039966197800822556],\"type\":\"scatter\"},{\"cliponaxis\":false,\"mode\":\"lines+markers\",\"name\":\"Layer 6\",\"text\":[\"0.57\",\"0.28\",\"0.04\",\"0.02\",\"0.00\",\"0.00\",\"0.00\",\"0.00\",\"0.00\",\"0.00\",\"0.00\",\"0.00\"],\"x\":[1,2,3,4,5,6,7,8,9,10,11,12],\"y\":[0.5732794404029846,0.28018268942832947,0.0386086106300354,0.02277269959449768,0.002833043923601508,0.0019982485100626945,0.0010265478631481528,0.0008359461207874119,0.0007273363298736513,0.0006999287288635969,0.0005105134332552552,0.00048365883412770927],\"type\":\"scatter\"},{\"cliponaxis\":false,\"mode\":\"lines+markers\",\"name\":\"Layer 7\",\"text\":[\"0.58\",\"0.25\",\"0.05\",\"0.03\",\"0.00\",\"0.00\",\"0.00\",\"0.00\",\"0.00\",\"0.00\",\"0.00\",\"0.00\"],\"x\":[1,2,3,4,5,6,7,8,9,10,11,12],\"y\":[0.5798218846321106,0.2508369982242584,0.047221601009368896,0.0273028202354908,0.0038276941049844027,0.0027581288013607264,0.0010504062520340085,0.0009562153718434274,0.0008679035236127675,0.0008447084110230207,0.0006501200259663165,0.0005919566028751433],\"type\":\"scatter\"},{\"cliponaxis\":false,\"mode\":\"lines+markers\",\"name\":\"Layer 8\",\"text\":[\"0.87\",\"0.09\",\"0.03\",\"0.00\",\"0.00\",\"0.00\",\"0.00\",\"0.00\",\"0.00\",\"0.00\",\"0.00\",\"0.00\"],\"x\":[1,2,3,4,5,6,7,8,9,10,11,12],\"y\":[0.8668739199638367,0.08566690236330032,0.033253397792577744,0.00476651219651103,0.0016200973186641932,0.0014103827998042107,0.0006974735879339278,0.0003224295505788177,0.0002533060032874346,0.00023861424415372312,0.00019297937978990376,0.00015968851221259683],\"type\":\"scatter\"},{\"cliponaxis\":false,\"mode\":\"lines+markers\",\"name\":\"Layer 9\",\"text\":[\"0.67\",\"0.26\",\"0.04\",\"0.01\",\"0.00\",\"0.00\",\"0.00\",\"0.00\",\"0.00\",\"0.00\",\"0.00\",\"0.00\"],\"x\":[1,2,3,4,5,6,7,8,9,10,11,12],\"y\":[0.6664115786552429,0.26104268431663513,0.04095645248889923,0.008794992230832577,0.004404102452099323,0.0010202974081039429,0.0008672273834235966,0.0007483079098165035,0.0005553613300435245,0.0003529446548782289,0.0003466089256107807,0.0003024166217073798],\"type\":\"scatter\"},{\"cliponaxis\":false,\"mode\":\"lines+markers\",\"name\":\"Layer 10\",\"text\":[\"0.61\",\"0.30\",\"0.05\",\"0.01\",\"0.01\",\"0.00\",\"0.00\",\"0.00\",\"0.00\",\"0.00\",\"0.00\",\"0.00\"],\"x\":[1,2,3,4,5,6,7,8,9,10,11,12],\"y\":[0.6121152639389038,0.29814520478248596,0.053076066076755524,0.009810871444642544,0.00645391596481204,0.0010260373819619417,0.0007563393446616828,0.0006023650639690459,0.00042579168803058565,0.0004080998187419027,0.0003571581037249416,0.00023037251958157867],\"type\":\"scatter\"},{\"cliponaxis\":false,\"mode\":\"lines+markers\",\"name\":\"Layer 11\",\"text\":[\"0.57\",\"0.32\",\"0.08\",\"0.01\",\"0.00\",\"0.00\",\"0.00\",\"0.00\",\"0.00\",\"0.00\",\"0.00\",\"0.00\"],\"x\":[1,2,3,4,5,6,7,8,9,10,11,12],\"y\":[0.56785649061203,0.31969019770622253,0.07835079729557037,0.009725961834192276,0.004626939073204994,0.0007629976607859135,0.0006365766166709363,0.0005712243146263063,0.0004687603795900941,0.0002897904778365046,0.00024288013810291886,0.00022456137230619788],\"type\":\"scatter\"},{\"cliponaxis\":false,\"mode\":\"lines+markers\",\"name\":\"Layer 12\",\"text\":[\"0.66\",\"0.23\",\"0.08\",\"0.01\",\"0.00\",\"0.00\",\"0.00\",\"0.00\",\"0.00\",\"0.00\",\"0.00\",\"0.00\"],\"x\":[1,2,3,4,5,6,7,8,9,10,11,12],\"y\":[0.6578737497329712,0.2318449318408966,0.07839877158403397,0.00918476190418005,0.0031861073803156614,0.000656202610116452,0.0005774828605353832,0.0005181435844860971,0.0004472648142836988,0.0003468930080998689,0.00030340394005179405,0.00024262147780973464],\"type\":\"scatter\"},{\"cliponaxis\":false,\"mode\":\"lines+markers\",\"name\":\"Layer 13\",\"text\":[\"0.58\",\"0.30\",\"0.08\",\"0.01\",\"0.00\",\"0.00\",\"0.00\",\"0.00\",\"0.00\",\"0.00\",\"0.00\",\"0.00\"],\"x\":[1,2,3,4,5,6,7,8,9,10,11,12],\"y\":[0.5811648368835449,0.2959068715572357,0.08383961766958237,0.012700804509222507,0.002729688538238406,0.0008333498262800276,0.000646541710011661,0.0005288204411044717,0.0004356621648184955,0.00032653677044436336,0.0002871425822377205,0.0002559525310061872],\"type\":\"scatter\"},{\"cliponaxis\":false,\"mode\":\"lines+markers\",\"name\":\"Layer 14\",\"text\":[\"0.62\",\"0.26\",\"0.09\",\"0.01\",\"0.00\",\"0.00\",\"0.00\",\"0.00\",\"0.00\",\"0.00\",\"0.00\",\"0.00\"],\"x\":[1,2,3,4,5,6,7,8,9,10,11,12],\"y\":[0.6158866882324219,0.2581726312637329,0.08881170302629471,0.011836870573461056,0.002353072864934802,0.0007805441855452955,0.0005944198346696794,0.0004975764895789325,0.00036055079544894397,0.0003020951116923243,0.00026826781686395407,0.0002115195820806548],\"type\":\"scatter\"},{\"cliponaxis\":false,\"mode\":\"lines+markers\",\"name\":\"Layer 15\",\"text\":[\"0.60\",\"0.27\",\"0.10\",\"0.01\",\"0.00\",\"0.00\",\"0.00\",\"0.00\",\"0.00\",\"0.00\",\"0.00\",\"0.00\"],\"x\":[1,2,3,4,5,6,7,8,9,10,11,12],\"y\":[0.5998756885528564,0.2699483036994934,0.09532133489847183,0.012057499960064888,0.0017880318919196725,0.0006221153889782727,0.0004917105543427169,0.00042530015343800187,0.0003783637366723269,0.0003044398326892406,0.0002330485440324992,0.00021347706206142902],\"type\":\"scatter\"},{\"cliponaxis\":false,\"mode\":\"lines+markers\",\"name\":\"Layer 16\",\"text\":[\"0.61\",\"0.27\",\"0.10\",\"0.01\",\"0.00\",\"0.00\",\"0.00\",\"0.00\",\"0.00\",\"0.00\",\"0.00\",\"0.00\"],\"x\":[1,2,3,4,5,6,7,8,9,10,11,12],\"y\":[0.6062772274017334,0.26552024483680725,0.0955159142613411,0.010257190093398094,0.0021213681902736425,0.0006223915843293071,0.00044171427725814283,0.00042398186633363366,0.00034947419771924615,0.0003067963116336614,0.0002312313881702721,0.00021283321257214993],\"type\":\"scatter\"},{\"cliponaxis\":false,\"mode\":\"lines+markers\",\"name\":\"Layer 17\",\"text\":[\"0.60\",\"0.28\",\"0.08\",\"0.01\",\"0.00\",\"0.00\",\"0.00\",\"0.00\",\"0.00\",\"0.00\",\"0.00\",\"0.00\"],\"x\":[1,2,3,4,5,6,7,8,9,10,11,12],\"y\":[0.6036926507949829,0.28076931834220886,0.0838497206568718,0.00946742296218872,0.0015620917547494173,0.0006856113323010504,0.0004586406867019832,0.00040470610838383436,0.0003434099489822984,0.0002909457834903151,0.0002327076072106138,0.00020540563855320215],\"type\":\"scatter\"},{\"cliponaxis\":false,\"mode\":\"lines+markers\",\"name\":\"Layer 18\",\"text\":[\"0.59\",\"0.28\",\"0.09\",\"0.01\",\"0.00\",\"0.00\",\"0.00\",\"0.00\",\"0.00\",\"0.00\",\"0.00\",\"0.00\"],\"x\":[1,2,3,4,5,6,7,8,9,10,11,12],\"y\":[0.59402996301651,0.28461754322052,0.08929525315761566,0.00883557740598917,0.001781856408342719,0.0007525338442064822,0.0005495724617503583,0.00042437194497324526,0.00034904785570688546,0.0003167837276123464,0.0002939215046353638,0.0002376172342337668],\"type\":\"scatter\"},{\"cliponaxis\":false,\"mode\":\"lines+markers\",\"name\":\"Layer 19\",\"text\":[\"0.59\",\"0.27\",\"0.10\",\"0.01\",\"0.00\",\"0.00\",\"0.00\",\"0.00\",\"0.00\",\"0.00\",\"0.00\",\"0.00\"],\"x\":[1,2,3,4,5,6,7,8,9,10,11,12],\"y\":[0.5906254649162292,0.2748192548751831,0.10172608494758606,0.008669957518577576,0.002049643313512206,0.0008162635494954884,0.0005822096136398613,0.00041753865662030876,0.0003689067088998854,0.0003640155482571572,0.0003116296138614416,0.0002451330656185746],\"type\":\"scatter\"},{\"cliponaxis\":false,\"mode\":\"lines+markers\",\"name\":\"Layer 20\",\"text\":[\"0.58\",\"0.27\",\"0.11\",\"0.01\",\"0.00\",\"0.00\",\"0.00\",\"0.00\",\"0.00\",\"0.00\",\"0.00\",\"0.00\"],\"x\":[1,2,3,4,5,6,7,8,9,10,11,12],\"y\":[0.5766115784645081,0.273379921913147,0.1138320118188858,0.009329592809081078,0.0020780886989086866,0.0008315521408803761,0.000678861397318542,0.0004833162820432335,0.00039282339275814593,0.00031794270034879446,0.0003000612778123468,0.00026243459433317184],\"type\":\"scatter\"},{\"cliponaxis\":false,\"mode\":\"lines+markers\",\"name\":\"Layer 21\",\"text\":[\"0.55\",\"0.28\",\"0.13\",\"0.01\",\"0.00\",\"0.00\",\"0.00\",\"0.00\",\"0.00\",\"0.00\",\"0.00\",\"0.00\"],\"x\":[1,2,3,4,5,6,7,8,9,10,11,12],\"y\":[0.5522553324699402,0.28086936473846436,0.12975674867630005,0.010042260400950909,0.0017884891713038087,0.0008365821558982134,0.0007006428786553442,0.0004947171546518803,0.0004121851234231144,0.0003537022275850177,0.00025945084053091705,0.00022254021314438432],\"type\":\"scatter\"},{\"cliponaxis\":false,\"mode\":\"lines+markers\",\"name\":\"Layer 22\",\"text\":[\"0.53\",\"0.31\",\"0.12\",\"0.01\",\"0.00\",\"0.00\",\"0.00\",\"0.00\",\"0.00\",\"0.00\",\"0.00\",\"0.00\"],\"x\":[1,2,3,4,5,6,7,8,9,10,11,12],\"y\":[0.5287176966667175,0.31339895725250244,0.12186886370182037,0.009756404906511307,0.0015295917401090264,0.0008524854201823473,0.0007564948173239827,0.00047357846051454544,0.0003888919309247285,0.0003373311192262918,0.00028785341419279575,0.00021807920711580664],\"type\":\"scatter\"},{\"cliponaxis\":false,\"mode\":\"lines+markers\",\"name\":\"Layer 23\",\"text\":[\"0.51\",\"0.33\",\"0.12\",\"0.01\",\"0.00\",\"0.00\",\"0.00\",\"0.00\",\"0.00\",\"0.00\",\"0.00\",\"0.00\"],\"x\":[1,2,3,4,5,6,7,8,9,10,11,12],\"y\":[0.5122523903846741,0.33399516344070435,0.11644823849201202,0.009663906879723072,0.001341389026492834,0.0009579520556144416,0.0007621404947713017,0.00047896004980430007,0.00041318798321299255,0.0003731738543137908,0.0003444594913162291,0.00028112868312746286],\"type\":\"scatter\"},{\"cliponaxis\":false,\"mode\":\"lines+markers\",\"name\":\"Layer 24\",\"text\":[\"0.52\",\"0.32\",\"0.13\",\"0.01\",\"0.00\",\"0.00\",\"0.00\",\"0.00\",\"0.00\",\"0.00\",\"0.00\",\"0.00\"],\"x\":[1,2,3,4,5,6,7,8,9,10,11,12],\"y\":[0.5176173448562622,0.31607604026794434,0.12510551512241364,0.010988430120050907,0.0013379695592448115,0.0009958412265405059,0.0008436475181952119,0.0005716708255931735,0.000491406477522105,0.0003999777836725116,0.00034140588832087815,0.00032383386860601604],\"type\":\"scatter\"},{\"cliponaxis\":false,\"mode\":\"lines+markers\",\"name\":\"Layer 25\",\"text\":[\"0.53\",\"0.29\",\"0.13\",\"0.01\",\"0.00\",\"0.00\",\"0.00\",\"0.00\",\"0.00\",\"0.00\",\"0.00\",\"0.00\"],\"x\":[1,2,3,4,5,6,7,8,9,10,11,12],\"y\":[0.5299983024597168,0.2904762327671051,0.1342054158449173,0.012473681941628456,0.0013987127458676696,0.001089847064577043,0.0009850197238847613,0.0008264743955805898,0.0005708057433366776,0.0004649762995541096,0.000374615570763126,0.0003167985996697098],\"type\":\"scatter\"}],                        {\"template\":{\"data\":{\"barpolar\":[{\"marker\":{\"line\":{\"color\":\"white\",\"width\":0.5},\"pattern\":{\"fillmode\":\"overlay\",\"size\":10,\"solidity\":0.2}},\"type\":\"barpolar\"}],\"bar\":[{\"error_x\":{\"color\":\"#2a3f5f\"},\"error_y\":{\"color\":\"#2a3f5f\"},\"marker\":{\"line\":{\"color\":\"white\",\"width\":0.5},\"pattern\":{\"fillmode\":\"overlay\",\"size\":10,\"solidity\":0.2}},\"type\":\"bar\"}],\"carpet\":[{\"aaxis\":{\"endlinecolor\":\"#2a3f5f\",\"gridcolor\":\"#C8D4E3\",\"linecolor\":\"#C8D4E3\",\"minorgridcolor\":\"#C8D4E3\",\"startlinecolor\":\"#2a3f5f\"},\"baxis\":{\"endlinecolor\":\"#2a3f5f\",\"gridcolor\":\"#C8D4E3\",\"linecolor\":\"#C8D4E3\",\"minorgridcolor\":\"#C8D4E3\",\"startlinecolor\":\"#2a3f5f\"},\"type\":\"carpet\"}],\"choropleth\":[{\"colorbar\":{\"outlinewidth\":0,\"ticks\":\"\"},\"type\":\"choropleth\"}],\"contourcarpet\":[{\"colorbar\":{\"outlinewidth\":0,\"ticks\":\"\"},\"type\":\"contourcarpet\"}],\"contour\":[{\"colorbar\":{\"outlinewidth\":0,\"ticks\":\"\"},\"colorscale\":[[0.0,\"#0d0887\"],[0.1111111111111111,\"#46039f\"],[0.2222222222222222,\"#7201a8\"],[0.3333333333333333,\"#9c179e\"],[0.4444444444444444,\"#bd3786\"],[0.5555555555555556,\"#d8576b\"],[0.6666666666666666,\"#ed7953\"],[0.7777777777777778,\"#fb9f3a\"],[0.8888888888888888,\"#fdca26\"],[1.0,\"#f0f921\"]],\"type\":\"contour\"}],\"heatmapgl\":[{\"colorbar\":{\"outlinewidth\":0,\"ticks\":\"\"},\"colorscale\":[[0.0,\"#0d0887\"],[0.1111111111111111,\"#46039f\"],[0.2222222222222222,\"#7201a8\"],[0.3333333333333333,\"#9c179e\"],[0.4444444444444444,\"#bd3786\"],[0.5555555555555556,\"#d8576b\"],[0.6666666666666666,\"#ed7953\"],[0.7777777777777778,\"#fb9f3a\"],[0.8888888888888888,\"#fdca26\"],[1.0,\"#f0f921\"]],\"type\":\"heatmapgl\"}],\"heatmap\":[{\"colorbar\":{\"outlinewidth\":0,\"ticks\":\"\"},\"colorscale\":[[0.0,\"#0d0887\"],[0.1111111111111111,\"#46039f\"],[0.2222222222222222,\"#7201a8\"],[0.3333333333333333,\"#9c179e\"],[0.4444444444444444,\"#bd3786\"],[0.5555555555555556,\"#d8576b\"],[0.6666666666666666,\"#ed7953\"],[0.7777777777777778,\"#fb9f3a\"],[0.8888888888888888,\"#fdca26\"],[1.0,\"#f0f921\"]],\"type\":\"heatmap\"}],\"histogram2dcontour\":[{\"colorbar\":{\"outlinewidth\":0,\"ticks\":\"\"},\"colorscale\":[[0.0,\"#0d0887\"],[0.1111111111111111,\"#46039f\"],[0.2222222222222222,\"#7201a8\"],[0.3333333333333333,\"#9c179e\"],[0.4444444444444444,\"#bd3786\"],[0.5555555555555556,\"#d8576b\"],[0.6666666666666666,\"#ed7953\"],[0.7777777777777778,\"#fb9f3a\"],[0.8888888888888888,\"#fdca26\"],[1.0,\"#f0f921\"]],\"type\":\"histogram2dcontour\"}],\"histogram2d\":[{\"colorbar\":{\"outlinewidth\":0,\"ticks\":\"\"},\"colorscale\":[[0.0,\"#0d0887\"],[0.1111111111111111,\"#46039f\"],[0.2222222222222222,\"#7201a8\"],[0.3333333333333333,\"#9c179e\"],[0.4444444444444444,\"#bd3786\"],[0.5555555555555556,\"#d8576b\"],[0.6666666666666666,\"#ed7953\"],[0.7777777777777778,\"#fb9f3a\"],[0.8888888888888888,\"#fdca26\"],[1.0,\"#f0f921\"]],\"type\":\"histogram2d\"}],\"histogram\":[{\"marker\":{\"pattern\":{\"fillmode\":\"overlay\",\"size\":10,\"solidity\":0.2}},\"type\":\"histogram\"}],\"mesh3d\":[{\"colorbar\":{\"outlinewidth\":0,\"ticks\":\"\"},\"type\":\"mesh3d\"}],\"parcoords\":[{\"line\":{\"colorbar\":{\"outlinewidth\":0,\"ticks\":\"\"}},\"type\":\"parcoords\"}],\"pie\":[{\"automargin\":true,\"type\":\"pie\"}],\"scatter3d\":[{\"line\":{\"colorbar\":{\"outlinewidth\":0,\"ticks\":\"\"}},\"marker\":{\"colorbar\":{\"outlinewidth\":0,\"ticks\":\"\"}},\"type\":\"scatter3d\"}],\"scattercarpet\":[{\"marker\":{\"colorbar\":{\"outlinewidth\":0,\"ticks\":\"\"}},\"type\":\"scattercarpet\"}],\"scattergeo\":[{\"marker\":{\"colorbar\":{\"outlinewidth\":0,\"ticks\":\"\"}},\"type\":\"scattergeo\"}],\"scattergl\":[{\"marker\":{\"colorbar\":{\"outlinewidth\":0,\"ticks\":\"\"}},\"type\":\"scattergl\"}],\"scattermapbox\":[{\"marker\":{\"colorbar\":{\"outlinewidth\":0,\"ticks\":\"\"}},\"type\":\"scattermapbox\"}],\"scatterpolargl\":[{\"marker\":{\"colorbar\":{\"outlinewidth\":0,\"ticks\":\"\"}},\"type\":\"scatterpolargl\"}],\"scatterpolar\":[{\"marker\":{\"colorbar\":{\"outlinewidth\":0,\"ticks\":\"\"}},\"type\":\"scatterpolar\"}],\"scatter\":[{\"fillpattern\":{\"fillmode\":\"overlay\",\"size\":10,\"solidity\":0.2},\"type\":\"scatter\"}],\"scatterternary\":[{\"marker\":{\"colorbar\":{\"outlinewidth\":0,\"ticks\":\"\"}},\"type\":\"scatterternary\"}],\"surface\":[{\"colorbar\":{\"outlinewidth\":0,\"ticks\":\"\"},\"colorscale\":[[0.0,\"#0d0887\"],[0.1111111111111111,\"#46039f\"],[0.2222222222222222,\"#7201a8\"],[0.3333333333333333,\"#9c179e\"],[0.4444444444444444,\"#bd3786\"],[0.5555555555555556,\"#d8576b\"],[0.6666666666666666,\"#ed7953\"],[0.7777777777777778,\"#fb9f3a\"],[0.8888888888888888,\"#fdca26\"],[1.0,\"#f0f921\"]],\"type\":\"surface\"}],\"table\":[{\"cells\":{\"fill\":{\"color\":\"#EBF0F8\"},\"line\":{\"color\":\"white\"}},\"header\":{\"fill\":{\"color\":\"#C8D4E3\"},\"line\":{\"color\":\"white\"}},\"type\":\"table\"}]},\"layout\":{\"annotationdefaults\":{\"arrowcolor\":\"#2a3f5f\",\"arrowhead\":0,\"arrowwidth\":1},\"autotypenumbers\":\"strict\",\"coloraxis\":{\"colorbar\":{\"outlinewidth\":0,\"ticks\":\"\"}},\"colorscale\":{\"diverging\":[[0,\"#8e0152\"],[0.1,\"#c51b7d\"],[0.2,\"#de77ae\"],[0.3,\"#f1b6da\"],[0.4,\"#fde0ef\"],[0.5,\"#f7f7f7\"],[0.6,\"#e6f5d0\"],[0.7,\"#b8e186\"],[0.8,\"#7fbc41\"],[0.9,\"#4d9221\"],[1,\"#276419\"]],\"sequential\":[[0.0,\"#0d0887\"],[0.1111111111111111,\"#46039f\"],[0.2222222222222222,\"#7201a8\"],[0.3333333333333333,\"#9c179e\"],[0.4444444444444444,\"#bd3786\"],[0.5555555555555556,\"#d8576b\"],[0.6666666666666666,\"#ed7953\"],[0.7777777777777778,\"#fb9f3a\"],[0.8888888888888888,\"#fdca26\"],[1.0,\"#f0f921\"]],\"sequentialminus\":[[0.0,\"#0d0887\"],[0.1111111111111111,\"#46039f\"],[0.2222222222222222,\"#7201a8\"],[0.3333333333333333,\"#9c179e\"],[0.4444444444444444,\"#bd3786\"],[0.5555555555555556,\"#d8576b\"],[0.6666666666666666,\"#ed7953\"],[0.7777777777777778,\"#fb9f3a\"],[0.8888888888888888,\"#fdca26\"],[1.0,\"#f0f921\"]]},\"colorway\":[\"#636efa\",\"#EF553B\",\"#00cc96\",\"#ab63fa\",\"#FFA15A\",\"#19d3f3\",\"#FF6692\",\"#B6E880\",\"#FF97FF\",\"#FECB52\"],\"font\":{\"color\":\"#2a3f5f\"},\"geo\":{\"bgcolor\":\"white\",\"lakecolor\":\"white\",\"landcolor\":\"white\",\"showlakes\":true,\"showland\":true,\"subunitcolor\":\"#C8D4E3\"},\"hoverlabel\":{\"align\":\"left\"},\"hovermode\":\"closest\",\"mapbox\":{\"style\":\"light\"},\"paper_bgcolor\":\"white\",\"plot_bgcolor\":\"white\",\"polar\":{\"angularaxis\":{\"gridcolor\":\"#EBF0F8\",\"linecolor\":\"#EBF0F8\",\"ticks\":\"\"},\"bgcolor\":\"white\",\"radialaxis\":{\"gridcolor\":\"#EBF0F8\",\"linecolor\":\"#EBF0F8\",\"ticks\":\"\"}},\"scene\":{\"xaxis\":{\"backgroundcolor\":\"white\",\"gridcolor\":\"#DFE8F3\",\"gridwidth\":2,\"linecolor\":\"#EBF0F8\",\"showbackground\":true,\"ticks\":\"\",\"zerolinecolor\":\"#EBF0F8\"},\"yaxis\":{\"backgroundcolor\":\"white\",\"gridcolor\":\"#DFE8F3\",\"gridwidth\":2,\"linecolor\":\"#EBF0F8\",\"showbackground\":true,\"ticks\":\"\",\"zerolinecolor\":\"#EBF0F8\"},\"zaxis\":{\"backgroundcolor\":\"white\",\"gridcolor\":\"#DFE8F3\",\"gridwidth\":2,\"linecolor\":\"#EBF0F8\",\"showbackground\":true,\"ticks\":\"\",\"zerolinecolor\":\"#EBF0F8\"}},\"shapedefaults\":{\"line\":{\"color\":\"#2a3f5f\"}},\"ternary\":{\"aaxis\":{\"gridcolor\":\"#DFE8F3\",\"linecolor\":\"#A2B1C6\",\"ticks\":\"\"},\"baxis\":{\"gridcolor\":\"#DFE8F3\",\"linecolor\":\"#A2B1C6\",\"ticks\":\"\"},\"bgcolor\":\"white\",\"caxis\":{\"gridcolor\":\"#DFE8F3\",\"linecolor\":\"#A2B1C6\",\"ticks\":\"\"}},\"title\":{\"x\":0.05},\"xaxis\":{\"automargin\":true,\"gridcolor\":\"#EBF0F8\",\"linecolor\":\"#EBF0F8\",\"ticks\":\"\",\"title\":{\"standoff\":15},\"zerolinecolor\":\"#EBF0F8\",\"zerolinewidth\":2},\"yaxis\":{\"automargin\":true,\"gridcolor\":\"#EBF0F8\",\"linecolor\":\"#EBF0F8\",\"ticks\":\"\",\"title\":{\"standoff\":15},\"zerolinecolor\":\"#EBF0F8\",\"zerolinewidth\":2}}},\"legend\":{\"yanchor\":\"top\",\"y\":0.98,\"xanchor\":\"right\",\"x\":0.98,\"bgcolor\":\"white\",\"bordercolor\":\"LightGray\",\"borderwidth\":1},\"xaxis\":{\"title\":{\"text\":\"Principal Component\"},\"showgrid\":true,\"showline\":true,\"linewidth\":1.5,\"linecolor\":\"black\"},\"yaxis\":{\"title\":{\"text\":\"Explained Variance Ratio\"},\"showgrid\":true,\"showline\":true,\"linewidth\":1.5,\"linecolor\":\"black\"},\"title\":{\"text\":\"Scree Plot of Bio Bootstrap PCA\"},\"barmode\":\"group\",\"plot_bgcolor\":\"white\",\"bargap\":0.2,\"width\":800,\"height\":800},                        {\"responsive\": true}                    ).then(function(){\n",
       "                            \n",
       "var gd = document.getElementById('4a9bec4a-fbaa-4268-8a14-588fc501e310');\n",
       "var x = new MutationObserver(function (mutations, observer) {{\n",
       "        var display = window.getComputedStyle(gd).display;\n",
       "        if (!display || display === 'none') {{\n",
       "            console.log([gd, 'removed!']);\n",
       "            Plotly.purge(gd);\n",
       "            observer.disconnect();\n",
       "        }}\n",
       "}});\n",
       "\n",
       "// Listen for the removal of the full notebook cells\n",
       "var notebookContainer = gd.closest('#notebook-container');\n",
       "if (notebookContainer) {{\n",
       "    x.observe(notebookContainer, {childList: true});\n",
       "}}\n",
       "\n",
       "// Listen for the clearing of the current output cell\n",
       "var outputEl = gd.closest('.output');\n",
       "if (outputEl) {{\n",
       "    x.observe(outputEl, {childList: true});\n",
       "}}\n",
       "\n",
       "                        })                };                });            </script>        </div>"
      ]
     },
     "metadata": {},
     "output_type": "display_data"
    }
   ],
   "source": [
    "scree(\n",
    "    bio_pcas,\n",
    "    title=\"Scree Plot of Bio Bootstrap PCA\",\n",
    "    artifact_dir=f\"{ARTIFACT_DIR}/bootstrap\",\n",
    "    artifact_name=\"scee_bio_full\",\n",
    ")"
   ]
  },
  {
   "cell_type": "code",
   "execution_count": 28,
   "id": "12b8b929",
   "metadata": {},
   "outputs": [
    {
     "data": {
      "application/vnd.plotly.v1+json": {
       "config": {
        "plotlyServerURL": "https://plot.ly"
       },
       "data": [
        {
         "cliponaxis": false,
         "mode": "lines+markers",
         "name": "Layer 0",
         "text": [
          "0.77",
          "0.22",
          "0.01",
          "0.00",
          "0.00",
          "0.00",
          "0.00",
          "0.00",
          "0.00",
          "0.00",
          "0.00",
          "0.00"
         ],
         "type": "scatter",
         "x": [
          1,
          2,
          3,
          4,
          5,
          6,
          7,
          8,
          9,
          10,
          11,
          12
         ],
         "y": [
          0.7701458930969238,
          0.21706357598304749,
          0.005817403085529804,
          0.0031061593908816576,
          0.000162071330123581,
          0.0001403770293109119,
          0.0001295447291340679,
          0.00011279788304818794,
          0.00009655104804551229,
          0.00008399502257816494,
          0.00006903961912030354,
          0.000055848715419415385
         ]
        },
        {
         "cliponaxis": false,
         "mode": "lines+markers",
         "name": "Layer 1",
         "text": [
          "0.71",
          "0.25",
          "0.02",
          "0.01",
          "0.00",
          "0.00",
          "0.00",
          "0.00",
          "0.00",
          "0.00",
          "0.00",
          "0.00"
         ],
         "type": "scatter",
         "x": [
          1,
          2,
          3,
          4,
          5,
          6,
          7,
          8,
          9,
          10,
          11,
          12
         ],
         "y": [
          0.7093899250030518,
          0.25037479400634766,
          0.016118625178933144,
          0.0062902239151299,
          0.0012235710164532065,
          0.0008077343227341771,
          0.0003990047553088516,
          0.00021194068540353328,
          0.00019124777463730425,
          0.00016132183372974396,
          0.00012833457731176168,
          0.0001178170059574768
         ]
        },
        {
         "cliponaxis": false,
         "mode": "lines+markers",
         "name": "Layer 2",
         "text": [
          "0.61",
          "0.33",
          "0.02",
          "0.01",
          "0.00",
          "0.00",
          "0.00",
          "0.00",
          "0.00",
          "0.00",
          "0.00",
          "0.00"
         ],
         "type": "scatter",
         "x": [
          1,
          2,
          3,
          4,
          5,
          6,
          7,
          8,
          9,
          10,
          11,
          12
         ],
         "y": [
          0.6098926663398743,
          0.33150002360343933,
          0.01708141528069973,
          0.009841077961027622,
          0.001547125750221312,
          0.0013297199038788676,
          0.0012132322881370783,
          0.0004133580077905208,
          0.0002970136993099004,
          0.00024475291138514876,
          0.0001897598267532885,
          0.0001702606095932424
         ]
        },
        {
         "cliponaxis": false,
         "mode": "lines+markers",
         "name": "Layer 3",
         "text": [
          "0.58",
          "0.33",
          "0.03",
          "0.01",
          "0.00",
          "0.00",
          "0.00",
          "0.00",
          "0.00",
          "0.00",
          "0.00",
          "0.00"
         ],
         "type": "scatter",
         "x": [
          1,
          2,
          3,
          4,
          5,
          6,
          7,
          8,
          9,
          10,
          11,
          12
         ],
         "y": [
          0.5838674306869507,
          0.33242955803871155,
          0.02533058635890484,
          0.013736553490161896,
          0.0015816007507964969,
          0.0012435783864930272,
          0.00093727937201038,
          0.000553840771317482,
          0.00047680363059043884,
          0.0003998220490757376,
          0.0003051589010283351,
          0.0002506295859348029
         ]
        },
        {
         "cliponaxis": false,
         "mode": "lines+markers",
         "name": "Layer 4",
         "text": [
          "0.60",
          "0.29",
          "0.03",
          "0.02",
          "0.00",
          "0.00",
          "0.00",
          "0.00",
          "0.00",
          "0.00",
          "0.00",
          "0.00"
         ],
         "type": "scatter",
         "x": [
          1,
          2,
          3,
          4,
          5,
          6,
          7,
          8,
          9,
          10,
          11,
          12
         ],
         "y": [
          0.5999616980552673,
          0.291893869638443,
          0.03268587589263916,
          0.01678355224430561,
          0.0021016302052885294,
          0.0012441992294043303,
          0.000768025463912636,
          0.0007175495265983045,
          0.000564938469324261,
          0.0005136386607773602,
          0.00041264743776991963,
          0.00036914911470375955
         ]
        },
        {
         "cliponaxis": false,
         "mode": "lines+markers",
         "name": "Layer 5",
         "text": [
          "0.62",
          "0.25",
          "0.03",
          "0.02",
          "0.00",
          "0.00",
          "0.00",
          "0.00",
          "0.00",
          "0.00",
          "0.00",
          "0.00"
         ],
         "type": "scatter",
         "x": [
          1,
          2,
          3,
          4,
          5,
          6,
          7,
          8,
          9,
          10,
          11,
          12
         ],
         "y": [
          0.6204779744148254,
          0.25409871339797974,
          0.0340290367603302,
          0.021612295880913734,
          0.002574679208919406,
          0.0012443633750081062,
          0.0011056710500270128,
          0.0006560347974300385,
          0.0005999323329888284,
          0.0005232009571045637,
          0.000450869178166613,
          0.00039966197800822556
         ]
        },
        {
         "cliponaxis": false,
         "mode": "lines+markers",
         "name": "Layer 6",
         "text": [
          "0.57",
          "0.28",
          "0.04",
          "0.02",
          "0.00",
          "0.00",
          "0.00",
          "0.00",
          "0.00",
          "0.00",
          "0.00",
          "0.00"
         ],
         "type": "scatter",
         "x": [
          1,
          2,
          3,
          4,
          5,
          6,
          7,
          8,
          9,
          10,
          11,
          12
         ],
         "y": [
          0.5732794404029846,
          0.28018268942832947,
          0.0386086106300354,
          0.02277269959449768,
          0.002833043923601508,
          0.0019982485100626945,
          0.0010265478631481528,
          0.0008359461207874119,
          0.0007273363298736513,
          0.0006999287288635969,
          0.0005105134332552552,
          0.00048365883412770927
         ]
        },
        {
         "cliponaxis": false,
         "mode": "lines+markers",
         "name": "Layer 7",
         "text": [
          "0.58",
          "0.25",
          "0.05",
          "0.03",
          "0.00",
          "0.00",
          "0.00",
          "0.00",
          "0.00",
          "0.00",
          "0.00",
          "0.00"
         ],
         "type": "scatter",
         "x": [
          1,
          2,
          3,
          4,
          5,
          6,
          7,
          8,
          9,
          10,
          11,
          12
         ],
         "y": [
          0.5798218846321106,
          0.2508369982242584,
          0.047221601009368896,
          0.0273028202354908,
          0.0038276941049844027,
          0.0027581288013607264,
          0.0010504062520340085,
          0.0009562153718434274,
          0.0008679035236127675,
          0.0008447084110230207,
          0.0006501200259663165,
          0.0005919566028751433
         ]
        },
        {
         "cliponaxis": false,
         "mode": "lines+markers",
         "name": "Layer 8",
         "text": [
          "0.87",
          "0.09",
          "0.03",
          "0.00",
          "0.00",
          "0.00",
          "0.00",
          "0.00",
          "0.00",
          "0.00",
          "0.00",
          "0.00"
         ],
         "type": "scatter",
         "x": [
          1,
          2,
          3,
          4,
          5,
          6,
          7,
          8,
          9,
          10,
          11,
          12
         ],
         "y": [
          0.8668739199638367,
          0.08566690236330032,
          0.033253397792577744,
          0.00476651219651103,
          0.0016200973186641932,
          0.0014103827998042107,
          0.0006974735879339278,
          0.0003224295505788177,
          0.0002533060032874346,
          0.00023861424415372312,
          0.00019297937978990376,
          0.00015968851221259683
         ]
        },
        {
         "cliponaxis": false,
         "mode": "lines+markers",
         "name": "Layer 9",
         "text": [
          "0.67",
          "0.26",
          "0.04",
          "0.01",
          "0.00",
          "0.00",
          "0.00",
          "0.00",
          "0.00",
          "0.00",
          "0.00",
          "0.00"
         ],
         "type": "scatter",
         "x": [
          1,
          2,
          3,
          4,
          5,
          6,
          7,
          8,
          9,
          10,
          11,
          12
         ],
         "y": [
          0.6664115786552429,
          0.26104268431663513,
          0.04095645248889923,
          0.008794992230832577,
          0.004404102452099323,
          0.0010202974081039429,
          0.0008672273834235966,
          0.0007483079098165035,
          0.0005553613300435245,
          0.0003529446548782289,
          0.0003466089256107807,
          0.0003024166217073798
         ]
        },
        {
         "cliponaxis": false,
         "mode": "lines+markers",
         "name": "Layer 10",
         "text": [
          "0.61",
          "0.30",
          "0.05",
          "0.01",
          "0.01",
          "0.00",
          "0.00",
          "0.00",
          "0.00",
          "0.00",
          "0.00",
          "0.00"
         ],
         "type": "scatter",
         "x": [
          1,
          2,
          3,
          4,
          5,
          6,
          7,
          8,
          9,
          10,
          11,
          12
         ],
         "y": [
          0.6121152639389038,
          0.29814520478248596,
          0.053076066076755524,
          0.009810871444642544,
          0.00645391596481204,
          0.0010260373819619417,
          0.0007563393446616828,
          0.0006023650639690459,
          0.00042579168803058565,
          0.0004080998187419027,
          0.0003571581037249416,
          0.00023037251958157867
         ]
        },
        {
         "cliponaxis": false,
         "mode": "lines+markers",
         "name": "Layer 11",
         "text": [
          "0.57",
          "0.32",
          "0.08",
          "0.01",
          "0.00",
          "0.00",
          "0.00",
          "0.00",
          "0.00",
          "0.00",
          "0.00",
          "0.00"
         ],
         "type": "scatter",
         "x": [
          1,
          2,
          3,
          4,
          5,
          6,
          7,
          8,
          9,
          10,
          11,
          12
         ],
         "y": [
          0.56785649061203,
          0.31969019770622253,
          0.07835079729557037,
          0.009725961834192276,
          0.004626939073204994,
          0.0007629976607859135,
          0.0006365766166709363,
          0.0005712243146263063,
          0.0004687603795900941,
          0.0002897904778365046,
          0.00024288013810291886,
          0.00022456137230619788
         ]
        },
        {
         "cliponaxis": false,
         "mode": "lines+markers",
         "name": "Layer 12",
         "text": [
          "0.66",
          "0.23",
          "0.08",
          "0.01",
          "0.00",
          "0.00",
          "0.00",
          "0.00",
          "0.00",
          "0.00",
          "0.00",
          "0.00"
         ],
         "type": "scatter",
         "x": [
          1,
          2,
          3,
          4,
          5,
          6,
          7,
          8,
          9,
          10,
          11,
          12
         ],
         "y": [
          0.6578737497329712,
          0.2318449318408966,
          0.07839877158403397,
          0.00918476190418005,
          0.0031861073803156614,
          0.000656202610116452,
          0.0005774828605353832,
          0.0005181435844860971,
          0.0004472648142836988,
          0.0003468930080998689,
          0.00030340394005179405,
          0.00024262147780973464
         ]
        },
        {
         "cliponaxis": false,
         "mode": "lines+markers",
         "name": "Layer 13",
         "text": [
          "0.58",
          "0.30",
          "0.08",
          "0.01",
          "0.00",
          "0.00",
          "0.00",
          "0.00",
          "0.00",
          "0.00",
          "0.00",
          "0.00"
         ],
         "type": "scatter",
         "x": [
          1,
          2,
          3,
          4,
          5,
          6,
          7,
          8,
          9,
          10,
          11,
          12
         ],
         "y": [
          0.5811648368835449,
          0.2959068715572357,
          0.08383961766958237,
          0.012700804509222507,
          0.002729688538238406,
          0.0008333498262800276,
          0.000646541710011661,
          0.0005288204411044717,
          0.0004356621648184955,
          0.00032653677044436336,
          0.0002871425822377205,
          0.0002559525310061872
         ]
        },
        {
         "cliponaxis": false,
         "mode": "lines+markers",
         "name": "Layer 14",
         "text": [
          "0.62",
          "0.26",
          "0.09",
          "0.01",
          "0.00",
          "0.00",
          "0.00",
          "0.00",
          "0.00",
          "0.00",
          "0.00",
          "0.00"
         ],
         "type": "scatter",
         "x": [
          1,
          2,
          3,
          4,
          5,
          6,
          7,
          8,
          9,
          10,
          11,
          12
         ],
         "y": [
          0.6158866882324219,
          0.2581726312637329,
          0.08881170302629471,
          0.011836870573461056,
          0.002353072864934802,
          0.0007805441855452955,
          0.0005944198346696794,
          0.0004975764895789325,
          0.00036055079544894397,
          0.0003020951116923243,
          0.00026826781686395407,
          0.0002115195820806548
         ]
        }
       ],
       "layout": {
        "bargap": 0.2,
        "barmode": "group",
        "height": 800,
        "legend": {
         "bgcolor": "white",
         "bordercolor": "LightGray",
         "borderwidth": 1,
         "x": 0.98,
         "xanchor": "right",
         "y": 0.98,
         "yanchor": "top"
        },
        "plot_bgcolor": "white",
        "template": {
         "data": {
          "bar": [
           {
            "error_x": {
             "color": "#2a3f5f"
            },
            "error_y": {
             "color": "#2a3f5f"
            },
            "marker": {
             "line": {
              "color": "white",
              "width": 0.5
             },
             "pattern": {
              "fillmode": "overlay",
              "size": 10,
              "solidity": 0.2
             }
            },
            "type": "bar"
           }
          ],
          "barpolar": [
           {
            "marker": {
             "line": {
              "color": "white",
              "width": 0.5
             },
             "pattern": {
              "fillmode": "overlay",
              "size": 10,
              "solidity": 0.2
             }
            },
            "type": "barpolar"
           }
          ],
          "carpet": [
           {
            "aaxis": {
             "endlinecolor": "#2a3f5f",
             "gridcolor": "#C8D4E3",
             "linecolor": "#C8D4E3",
             "minorgridcolor": "#C8D4E3",
             "startlinecolor": "#2a3f5f"
            },
            "baxis": {
             "endlinecolor": "#2a3f5f",
             "gridcolor": "#C8D4E3",
             "linecolor": "#C8D4E3",
             "minorgridcolor": "#C8D4E3",
             "startlinecolor": "#2a3f5f"
            },
            "type": "carpet"
           }
          ],
          "choropleth": [
           {
            "colorbar": {
             "outlinewidth": 0,
             "ticks": ""
            },
            "type": "choropleth"
           }
          ],
          "contour": [
           {
            "colorbar": {
             "outlinewidth": 0,
             "ticks": ""
            },
            "colorscale": [
             [
              0,
              "#0d0887"
             ],
             [
              0.1111111111111111,
              "#46039f"
             ],
             [
              0.2222222222222222,
              "#7201a8"
             ],
             [
              0.3333333333333333,
              "#9c179e"
             ],
             [
              0.4444444444444444,
              "#bd3786"
             ],
             [
              0.5555555555555556,
              "#d8576b"
             ],
             [
              0.6666666666666666,
              "#ed7953"
             ],
             [
              0.7777777777777778,
              "#fb9f3a"
             ],
             [
              0.8888888888888888,
              "#fdca26"
             ],
             [
              1,
              "#f0f921"
             ]
            ],
            "type": "contour"
           }
          ],
          "contourcarpet": [
           {
            "colorbar": {
             "outlinewidth": 0,
             "ticks": ""
            },
            "type": "contourcarpet"
           }
          ],
          "heatmap": [
           {
            "colorbar": {
             "outlinewidth": 0,
             "ticks": ""
            },
            "colorscale": [
             [
              0,
              "#0d0887"
             ],
             [
              0.1111111111111111,
              "#46039f"
             ],
             [
              0.2222222222222222,
              "#7201a8"
             ],
             [
              0.3333333333333333,
              "#9c179e"
             ],
             [
              0.4444444444444444,
              "#bd3786"
             ],
             [
              0.5555555555555556,
              "#d8576b"
             ],
             [
              0.6666666666666666,
              "#ed7953"
             ],
             [
              0.7777777777777778,
              "#fb9f3a"
             ],
             [
              0.8888888888888888,
              "#fdca26"
             ],
             [
              1,
              "#f0f921"
             ]
            ],
            "type": "heatmap"
           }
          ],
          "heatmapgl": [
           {
            "colorbar": {
             "outlinewidth": 0,
             "ticks": ""
            },
            "colorscale": [
             [
              0,
              "#0d0887"
             ],
             [
              0.1111111111111111,
              "#46039f"
             ],
             [
              0.2222222222222222,
              "#7201a8"
             ],
             [
              0.3333333333333333,
              "#9c179e"
             ],
             [
              0.4444444444444444,
              "#bd3786"
             ],
             [
              0.5555555555555556,
              "#d8576b"
             ],
             [
              0.6666666666666666,
              "#ed7953"
             ],
             [
              0.7777777777777778,
              "#fb9f3a"
             ],
             [
              0.8888888888888888,
              "#fdca26"
             ],
             [
              1,
              "#f0f921"
             ]
            ],
            "type": "heatmapgl"
           }
          ],
          "histogram": [
           {
            "marker": {
             "pattern": {
              "fillmode": "overlay",
              "size": 10,
              "solidity": 0.2
             }
            },
            "type": "histogram"
           }
          ],
          "histogram2d": [
           {
            "colorbar": {
             "outlinewidth": 0,
             "ticks": ""
            },
            "colorscale": [
             [
              0,
              "#0d0887"
             ],
             [
              0.1111111111111111,
              "#46039f"
             ],
             [
              0.2222222222222222,
              "#7201a8"
             ],
             [
              0.3333333333333333,
              "#9c179e"
             ],
             [
              0.4444444444444444,
              "#bd3786"
             ],
             [
              0.5555555555555556,
              "#d8576b"
             ],
             [
              0.6666666666666666,
              "#ed7953"
             ],
             [
              0.7777777777777778,
              "#fb9f3a"
             ],
             [
              0.8888888888888888,
              "#fdca26"
             ],
             [
              1,
              "#f0f921"
             ]
            ],
            "type": "histogram2d"
           }
          ],
          "histogram2dcontour": [
           {
            "colorbar": {
             "outlinewidth": 0,
             "ticks": ""
            },
            "colorscale": [
             [
              0,
              "#0d0887"
             ],
             [
              0.1111111111111111,
              "#46039f"
             ],
             [
              0.2222222222222222,
              "#7201a8"
             ],
             [
              0.3333333333333333,
              "#9c179e"
             ],
             [
              0.4444444444444444,
              "#bd3786"
             ],
             [
              0.5555555555555556,
              "#d8576b"
             ],
             [
              0.6666666666666666,
              "#ed7953"
             ],
             [
              0.7777777777777778,
              "#fb9f3a"
             ],
             [
              0.8888888888888888,
              "#fdca26"
             ],
             [
              1,
              "#f0f921"
             ]
            ],
            "type": "histogram2dcontour"
           }
          ],
          "mesh3d": [
           {
            "colorbar": {
             "outlinewidth": 0,
             "ticks": ""
            },
            "type": "mesh3d"
           }
          ],
          "parcoords": [
           {
            "line": {
             "colorbar": {
              "outlinewidth": 0,
              "ticks": ""
             }
            },
            "type": "parcoords"
           }
          ],
          "pie": [
           {
            "automargin": true,
            "type": "pie"
           }
          ],
          "scatter": [
           {
            "fillpattern": {
             "fillmode": "overlay",
             "size": 10,
             "solidity": 0.2
            },
            "type": "scatter"
           }
          ],
          "scatter3d": [
           {
            "line": {
             "colorbar": {
              "outlinewidth": 0,
              "ticks": ""
             }
            },
            "marker": {
             "colorbar": {
              "outlinewidth": 0,
              "ticks": ""
             }
            },
            "type": "scatter3d"
           }
          ],
          "scattercarpet": [
           {
            "marker": {
             "colorbar": {
              "outlinewidth": 0,
              "ticks": ""
             }
            },
            "type": "scattercarpet"
           }
          ],
          "scattergeo": [
           {
            "marker": {
             "colorbar": {
              "outlinewidth": 0,
              "ticks": ""
             }
            },
            "type": "scattergeo"
           }
          ],
          "scattergl": [
           {
            "marker": {
             "colorbar": {
              "outlinewidth": 0,
              "ticks": ""
             }
            },
            "type": "scattergl"
           }
          ],
          "scattermapbox": [
           {
            "marker": {
             "colorbar": {
              "outlinewidth": 0,
              "ticks": ""
             }
            },
            "type": "scattermapbox"
           }
          ],
          "scatterpolar": [
           {
            "marker": {
             "colorbar": {
              "outlinewidth": 0,
              "ticks": ""
             }
            },
            "type": "scatterpolar"
           }
          ],
          "scatterpolargl": [
           {
            "marker": {
             "colorbar": {
              "outlinewidth": 0,
              "ticks": ""
             }
            },
            "type": "scatterpolargl"
           }
          ],
          "scatterternary": [
           {
            "marker": {
             "colorbar": {
              "outlinewidth": 0,
              "ticks": ""
             }
            },
            "type": "scatterternary"
           }
          ],
          "surface": [
           {
            "colorbar": {
             "outlinewidth": 0,
             "ticks": ""
            },
            "colorscale": [
             [
              0,
              "#0d0887"
             ],
             [
              0.1111111111111111,
              "#46039f"
             ],
             [
              0.2222222222222222,
              "#7201a8"
             ],
             [
              0.3333333333333333,
              "#9c179e"
             ],
             [
              0.4444444444444444,
              "#bd3786"
             ],
             [
              0.5555555555555556,
              "#d8576b"
             ],
             [
              0.6666666666666666,
              "#ed7953"
             ],
             [
              0.7777777777777778,
              "#fb9f3a"
             ],
             [
              0.8888888888888888,
              "#fdca26"
             ],
             [
              1,
              "#f0f921"
             ]
            ],
            "type": "surface"
           }
          ],
          "table": [
           {
            "cells": {
             "fill": {
              "color": "#EBF0F8"
             },
             "line": {
              "color": "white"
             }
            },
            "header": {
             "fill": {
              "color": "#C8D4E3"
             },
             "line": {
              "color": "white"
             }
            },
            "type": "table"
           }
          ]
         },
         "layout": {
          "annotationdefaults": {
           "arrowcolor": "#2a3f5f",
           "arrowhead": 0,
           "arrowwidth": 1
          },
          "autotypenumbers": "strict",
          "coloraxis": {
           "colorbar": {
            "outlinewidth": 0,
            "ticks": ""
           }
          },
          "colorscale": {
           "diverging": [
            [
             0,
             "#8e0152"
            ],
            [
             0.1,
             "#c51b7d"
            ],
            [
             0.2,
             "#de77ae"
            ],
            [
             0.3,
             "#f1b6da"
            ],
            [
             0.4,
             "#fde0ef"
            ],
            [
             0.5,
             "#f7f7f7"
            ],
            [
             0.6,
             "#e6f5d0"
            ],
            [
             0.7,
             "#b8e186"
            ],
            [
             0.8,
             "#7fbc41"
            ],
            [
             0.9,
             "#4d9221"
            ],
            [
             1,
             "#276419"
            ]
           ],
           "sequential": [
            [
             0,
             "#0d0887"
            ],
            [
             0.1111111111111111,
             "#46039f"
            ],
            [
             0.2222222222222222,
             "#7201a8"
            ],
            [
             0.3333333333333333,
             "#9c179e"
            ],
            [
             0.4444444444444444,
             "#bd3786"
            ],
            [
             0.5555555555555556,
             "#d8576b"
            ],
            [
             0.6666666666666666,
             "#ed7953"
            ],
            [
             0.7777777777777778,
             "#fb9f3a"
            ],
            [
             0.8888888888888888,
             "#fdca26"
            ],
            [
             1,
             "#f0f921"
            ]
           ],
           "sequentialminus": [
            [
             0,
             "#0d0887"
            ],
            [
             0.1111111111111111,
             "#46039f"
            ],
            [
             0.2222222222222222,
             "#7201a8"
            ],
            [
             0.3333333333333333,
             "#9c179e"
            ],
            [
             0.4444444444444444,
             "#bd3786"
            ],
            [
             0.5555555555555556,
             "#d8576b"
            ],
            [
             0.6666666666666666,
             "#ed7953"
            ],
            [
             0.7777777777777778,
             "#fb9f3a"
            ],
            [
             0.8888888888888888,
             "#fdca26"
            ],
            [
             1,
             "#f0f921"
            ]
           ]
          },
          "colorway": [
           "#636efa",
           "#EF553B",
           "#00cc96",
           "#ab63fa",
           "#FFA15A",
           "#19d3f3",
           "#FF6692",
           "#B6E880",
           "#FF97FF",
           "#FECB52"
          ],
          "font": {
           "color": "#2a3f5f"
          },
          "geo": {
           "bgcolor": "white",
           "lakecolor": "white",
           "landcolor": "white",
           "showlakes": true,
           "showland": true,
           "subunitcolor": "#C8D4E3"
          },
          "hoverlabel": {
           "align": "left"
          },
          "hovermode": "closest",
          "mapbox": {
           "style": "light"
          },
          "paper_bgcolor": "white",
          "plot_bgcolor": "white",
          "polar": {
           "angularaxis": {
            "gridcolor": "#EBF0F8",
            "linecolor": "#EBF0F8",
            "ticks": ""
           },
           "bgcolor": "white",
           "radialaxis": {
            "gridcolor": "#EBF0F8",
            "linecolor": "#EBF0F8",
            "ticks": ""
           }
          },
          "scene": {
           "xaxis": {
            "backgroundcolor": "white",
            "gridcolor": "#DFE8F3",
            "gridwidth": 2,
            "linecolor": "#EBF0F8",
            "showbackground": true,
            "ticks": "",
            "zerolinecolor": "#EBF0F8"
           },
           "yaxis": {
            "backgroundcolor": "white",
            "gridcolor": "#DFE8F3",
            "gridwidth": 2,
            "linecolor": "#EBF0F8",
            "showbackground": true,
            "ticks": "",
            "zerolinecolor": "#EBF0F8"
           },
           "zaxis": {
            "backgroundcolor": "white",
            "gridcolor": "#DFE8F3",
            "gridwidth": 2,
            "linecolor": "#EBF0F8",
            "showbackground": true,
            "ticks": "",
            "zerolinecolor": "#EBF0F8"
           }
          },
          "shapedefaults": {
           "line": {
            "color": "#2a3f5f"
           }
          },
          "ternary": {
           "aaxis": {
            "gridcolor": "#DFE8F3",
            "linecolor": "#A2B1C6",
            "ticks": ""
           },
           "baxis": {
            "gridcolor": "#DFE8F3",
            "linecolor": "#A2B1C6",
            "ticks": ""
           },
           "bgcolor": "white",
           "caxis": {
            "gridcolor": "#DFE8F3",
            "linecolor": "#A2B1C6",
            "ticks": ""
           }
          },
          "title": {
           "x": 0.05
          },
          "xaxis": {
           "automargin": true,
           "gridcolor": "#EBF0F8",
           "linecolor": "#EBF0F8",
           "ticks": "",
           "title": {
            "standoff": 15
           },
           "zerolinecolor": "#EBF0F8",
           "zerolinewidth": 2
          },
          "yaxis": {
           "automargin": true,
           "gridcolor": "#EBF0F8",
           "linecolor": "#EBF0F8",
           "ticks": "",
           "title": {
            "standoff": 15
           },
           "zerolinecolor": "#EBF0F8",
           "zerolinewidth": 2
          }
         }
        },
        "title": {
         "text": "Scree Plot of Bio Bootstrap PCA"
        },
        "width": 800,
        "xaxis": {
         "linecolor": "black",
         "linewidth": 1.5,
         "showgrid": true,
         "showline": true,
         "title": {
          "text": "Principal Component"
         }
        },
        "yaxis": {
         "linecolor": "black",
         "linewidth": 1.5,
         "showgrid": true,
         "showline": true,
         "title": {
          "text": "Explained Variance Ratio"
         }
        }
       }
      },
      "text/html": [
       "<div>                            <div id=\"e870d9e6-de5c-4873-a9d2-f35f3bceafde\" class=\"plotly-graph-div\" style=\"height:800px; width:800px;\"></div>            <script type=\"text/javascript\">                require([\"plotly\"], function(Plotly) {                    window.PLOTLYENV=window.PLOTLYENV || {};                                    if (document.getElementById(\"e870d9e6-de5c-4873-a9d2-f35f3bceafde\")) {                    Plotly.newPlot(                        \"e870d9e6-de5c-4873-a9d2-f35f3bceafde\",                        [{\"cliponaxis\":false,\"mode\":\"lines+markers\",\"name\":\"Layer 0\",\"text\":[\"0.77\",\"0.22\",\"0.01\",\"0.00\",\"0.00\",\"0.00\",\"0.00\",\"0.00\",\"0.00\",\"0.00\",\"0.00\",\"0.00\"],\"x\":[1,2,3,4,5,6,7,8,9,10,11,12],\"y\":[0.7701458930969238,0.21706357598304749,0.005817403085529804,0.0031061593908816576,0.000162071330123581,0.0001403770293109119,0.0001295447291340679,0.00011279788304818794,9.655104804551229e-05,8.399502257816494e-05,6.903961912030354e-05,5.5848715419415385e-05],\"type\":\"scatter\"},{\"cliponaxis\":false,\"mode\":\"lines+markers\",\"name\":\"Layer 1\",\"text\":[\"0.71\",\"0.25\",\"0.02\",\"0.01\",\"0.00\",\"0.00\",\"0.00\",\"0.00\",\"0.00\",\"0.00\",\"0.00\",\"0.00\"],\"x\":[1,2,3,4,5,6,7,8,9,10,11,12],\"y\":[0.7093899250030518,0.25037479400634766,0.016118625178933144,0.0062902239151299,0.0012235710164532065,0.0008077343227341771,0.0003990047553088516,0.00021194068540353328,0.00019124777463730425,0.00016132183372974396,0.00012833457731176168,0.0001178170059574768],\"type\":\"scatter\"},{\"cliponaxis\":false,\"mode\":\"lines+markers\",\"name\":\"Layer 2\",\"text\":[\"0.61\",\"0.33\",\"0.02\",\"0.01\",\"0.00\",\"0.00\",\"0.00\",\"0.00\",\"0.00\",\"0.00\",\"0.00\",\"0.00\"],\"x\":[1,2,3,4,5,6,7,8,9,10,11,12],\"y\":[0.6098926663398743,0.33150002360343933,0.01708141528069973,0.009841077961027622,0.001547125750221312,0.0013297199038788676,0.0012132322881370783,0.0004133580077905208,0.0002970136993099004,0.00024475291138514876,0.0001897598267532885,0.0001702606095932424],\"type\":\"scatter\"},{\"cliponaxis\":false,\"mode\":\"lines+markers\",\"name\":\"Layer 3\",\"text\":[\"0.58\",\"0.33\",\"0.03\",\"0.01\",\"0.00\",\"0.00\",\"0.00\",\"0.00\",\"0.00\",\"0.00\",\"0.00\",\"0.00\"],\"x\":[1,2,3,4,5,6,7,8,9,10,11,12],\"y\":[0.5838674306869507,0.33242955803871155,0.02533058635890484,0.013736553490161896,0.0015816007507964969,0.0012435783864930272,0.00093727937201038,0.000553840771317482,0.00047680363059043884,0.0003998220490757376,0.0003051589010283351,0.0002506295859348029],\"type\":\"scatter\"},{\"cliponaxis\":false,\"mode\":\"lines+markers\",\"name\":\"Layer 4\",\"text\":[\"0.60\",\"0.29\",\"0.03\",\"0.02\",\"0.00\",\"0.00\",\"0.00\",\"0.00\",\"0.00\",\"0.00\",\"0.00\",\"0.00\"],\"x\":[1,2,3,4,5,6,7,8,9,10,11,12],\"y\":[0.5999616980552673,0.291893869638443,0.03268587589263916,0.01678355224430561,0.0021016302052885294,0.0012441992294043303,0.000768025463912636,0.0007175495265983045,0.000564938469324261,0.0005136386607773602,0.00041264743776991963,0.00036914911470375955],\"type\":\"scatter\"},{\"cliponaxis\":false,\"mode\":\"lines+markers\",\"name\":\"Layer 5\",\"text\":[\"0.62\",\"0.25\",\"0.03\",\"0.02\",\"0.00\",\"0.00\",\"0.00\",\"0.00\",\"0.00\",\"0.00\",\"0.00\",\"0.00\"],\"x\":[1,2,3,4,5,6,7,8,9,10,11,12],\"y\":[0.6204779744148254,0.25409871339797974,0.0340290367603302,0.021612295880913734,0.002574679208919406,0.0012443633750081062,0.0011056710500270128,0.0006560347974300385,0.0005999323329888284,0.0005232009571045637,0.000450869178166613,0.00039966197800822556],\"type\":\"scatter\"},{\"cliponaxis\":false,\"mode\":\"lines+markers\",\"name\":\"Layer 6\",\"text\":[\"0.57\",\"0.28\",\"0.04\",\"0.02\",\"0.00\",\"0.00\",\"0.00\",\"0.00\",\"0.00\",\"0.00\",\"0.00\",\"0.00\"],\"x\":[1,2,3,4,5,6,7,8,9,10,11,12],\"y\":[0.5732794404029846,0.28018268942832947,0.0386086106300354,0.02277269959449768,0.002833043923601508,0.0019982485100626945,0.0010265478631481528,0.0008359461207874119,0.0007273363298736513,0.0006999287288635969,0.0005105134332552552,0.00048365883412770927],\"type\":\"scatter\"},{\"cliponaxis\":false,\"mode\":\"lines+markers\",\"name\":\"Layer 7\",\"text\":[\"0.58\",\"0.25\",\"0.05\",\"0.03\",\"0.00\",\"0.00\",\"0.00\",\"0.00\",\"0.00\",\"0.00\",\"0.00\",\"0.00\"],\"x\":[1,2,3,4,5,6,7,8,9,10,11,12],\"y\":[0.5798218846321106,0.2508369982242584,0.047221601009368896,0.0273028202354908,0.0038276941049844027,0.0027581288013607264,0.0010504062520340085,0.0009562153718434274,0.0008679035236127675,0.0008447084110230207,0.0006501200259663165,0.0005919566028751433],\"type\":\"scatter\"},{\"cliponaxis\":false,\"mode\":\"lines+markers\",\"name\":\"Layer 8\",\"text\":[\"0.87\",\"0.09\",\"0.03\",\"0.00\",\"0.00\",\"0.00\",\"0.00\",\"0.00\",\"0.00\",\"0.00\",\"0.00\",\"0.00\"],\"x\":[1,2,3,4,5,6,7,8,9,10,11,12],\"y\":[0.8668739199638367,0.08566690236330032,0.033253397792577744,0.00476651219651103,0.0016200973186641932,0.0014103827998042107,0.0006974735879339278,0.0003224295505788177,0.0002533060032874346,0.00023861424415372312,0.00019297937978990376,0.00015968851221259683],\"type\":\"scatter\"},{\"cliponaxis\":false,\"mode\":\"lines+markers\",\"name\":\"Layer 9\",\"text\":[\"0.67\",\"0.26\",\"0.04\",\"0.01\",\"0.00\",\"0.00\",\"0.00\",\"0.00\",\"0.00\",\"0.00\",\"0.00\",\"0.00\"],\"x\":[1,2,3,4,5,6,7,8,9,10,11,12],\"y\":[0.6664115786552429,0.26104268431663513,0.04095645248889923,0.008794992230832577,0.004404102452099323,0.0010202974081039429,0.0008672273834235966,0.0007483079098165035,0.0005553613300435245,0.0003529446548782289,0.0003466089256107807,0.0003024166217073798],\"type\":\"scatter\"},{\"cliponaxis\":false,\"mode\":\"lines+markers\",\"name\":\"Layer 10\",\"text\":[\"0.61\",\"0.30\",\"0.05\",\"0.01\",\"0.01\",\"0.00\",\"0.00\",\"0.00\",\"0.00\",\"0.00\",\"0.00\",\"0.00\"],\"x\":[1,2,3,4,5,6,7,8,9,10,11,12],\"y\":[0.6121152639389038,0.29814520478248596,0.053076066076755524,0.009810871444642544,0.00645391596481204,0.0010260373819619417,0.0007563393446616828,0.0006023650639690459,0.00042579168803058565,0.0004080998187419027,0.0003571581037249416,0.00023037251958157867],\"type\":\"scatter\"},{\"cliponaxis\":false,\"mode\":\"lines+markers\",\"name\":\"Layer 11\",\"text\":[\"0.57\",\"0.32\",\"0.08\",\"0.01\",\"0.00\",\"0.00\",\"0.00\",\"0.00\",\"0.00\",\"0.00\",\"0.00\",\"0.00\"],\"x\":[1,2,3,4,5,6,7,8,9,10,11,12],\"y\":[0.56785649061203,0.31969019770622253,0.07835079729557037,0.009725961834192276,0.004626939073204994,0.0007629976607859135,0.0006365766166709363,0.0005712243146263063,0.0004687603795900941,0.0002897904778365046,0.00024288013810291886,0.00022456137230619788],\"type\":\"scatter\"},{\"cliponaxis\":false,\"mode\":\"lines+markers\",\"name\":\"Layer 12\",\"text\":[\"0.66\",\"0.23\",\"0.08\",\"0.01\",\"0.00\",\"0.00\",\"0.00\",\"0.00\",\"0.00\",\"0.00\",\"0.00\",\"0.00\"],\"x\":[1,2,3,4,5,6,7,8,9,10,11,12],\"y\":[0.6578737497329712,0.2318449318408966,0.07839877158403397,0.00918476190418005,0.0031861073803156614,0.000656202610116452,0.0005774828605353832,0.0005181435844860971,0.0004472648142836988,0.0003468930080998689,0.00030340394005179405,0.00024262147780973464],\"type\":\"scatter\"},{\"cliponaxis\":false,\"mode\":\"lines+markers\",\"name\":\"Layer 13\",\"text\":[\"0.58\",\"0.30\",\"0.08\",\"0.01\",\"0.00\",\"0.00\",\"0.00\",\"0.00\",\"0.00\",\"0.00\",\"0.00\",\"0.00\"],\"x\":[1,2,3,4,5,6,7,8,9,10,11,12],\"y\":[0.5811648368835449,0.2959068715572357,0.08383961766958237,0.012700804509222507,0.002729688538238406,0.0008333498262800276,0.000646541710011661,0.0005288204411044717,0.0004356621648184955,0.00032653677044436336,0.0002871425822377205,0.0002559525310061872],\"type\":\"scatter\"},{\"cliponaxis\":false,\"mode\":\"lines+markers\",\"name\":\"Layer 14\",\"text\":[\"0.62\",\"0.26\",\"0.09\",\"0.01\",\"0.00\",\"0.00\",\"0.00\",\"0.00\",\"0.00\",\"0.00\",\"0.00\",\"0.00\"],\"x\":[1,2,3,4,5,6,7,8,9,10,11,12],\"y\":[0.6158866882324219,0.2581726312637329,0.08881170302629471,0.011836870573461056,0.002353072864934802,0.0007805441855452955,0.0005944198346696794,0.0004975764895789325,0.00036055079544894397,0.0003020951116923243,0.00026826781686395407,0.0002115195820806548],\"type\":\"scatter\"}],                        {\"template\":{\"data\":{\"barpolar\":[{\"marker\":{\"line\":{\"color\":\"white\",\"width\":0.5},\"pattern\":{\"fillmode\":\"overlay\",\"size\":10,\"solidity\":0.2}},\"type\":\"barpolar\"}],\"bar\":[{\"error_x\":{\"color\":\"#2a3f5f\"},\"error_y\":{\"color\":\"#2a3f5f\"},\"marker\":{\"line\":{\"color\":\"white\",\"width\":0.5},\"pattern\":{\"fillmode\":\"overlay\",\"size\":10,\"solidity\":0.2}},\"type\":\"bar\"}],\"carpet\":[{\"aaxis\":{\"endlinecolor\":\"#2a3f5f\",\"gridcolor\":\"#C8D4E3\",\"linecolor\":\"#C8D4E3\",\"minorgridcolor\":\"#C8D4E3\",\"startlinecolor\":\"#2a3f5f\"},\"baxis\":{\"endlinecolor\":\"#2a3f5f\",\"gridcolor\":\"#C8D4E3\",\"linecolor\":\"#C8D4E3\",\"minorgridcolor\":\"#C8D4E3\",\"startlinecolor\":\"#2a3f5f\"},\"type\":\"carpet\"}],\"choropleth\":[{\"colorbar\":{\"outlinewidth\":0,\"ticks\":\"\"},\"type\":\"choropleth\"}],\"contourcarpet\":[{\"colorbar\":{\"outlinewidth\":0,\"ticks\":\"\"},\"type\":\"contourcarpet\"}],\"contour\":[{\"colorbar\":{\"outlinewidth\":0,\"ticks\":\"\"},\"colorscale\":[[0.0,\"#0d0887\"],[0.1111111111111111,\"#46039f\"],[0.2222222222222222,\"#7201a8\"],[0.3333333333333333,\"#9c179e\"],[0.4444444444444444,\"#bd3786\"],[0.5555555555555556,\"#d8576b\"],[0.6666666666666666,\"#ed7953\"],[0.7777777777777778,\"#fb9f3a\"],[0.8888888888888888,\"#fdca26\"],[1.0,\"#f0f921\"]],\"type\":\"contour\"}],\"heatmapgl\":[{\"colorbar\":{\"outlinewidth\":0,\"ticks\":\"\"},\"colorscale\":[[0.0,\"#0d0887\"],[0.1111111111111111,\"#46039f\"],[0.2222222222222222,\"#7201a8\"],[0.3333333333333333,\"#9c179e\"],[0.4444444444444444,\"#bd3786\"],[0.5555555555555556,\"#d8576b\"],[0.6666666666666666,\"#ed7953\"],[0.7777777777777778,\"#fb9f3a\"],[0.8888888888888888,\"#fdca26\"],[1.0,\"#f0f921\"]],\"type\":\"heatmapgl\"}],\"heatmap\":[{\"colorbar\":{\"outlinewidth\":0,\"ticks\":\"\"},\"colorscale\":[[0.0,\"#0d0887\"],[0.1111111111111111,\"#46039f\"],[0.2222222222222222,\"#7201a8\"],[0.3333333333333333,\"#9c179e\"],[0.4444444444444444,\"#bd3786\"],[0.5555555555555556,\"#d8576b\"],[0.6666666666666666,\"#ed7953\"],[0.7777777777777778,\"#fb9f3a\"],[0.8888888888888888,\"#fdca26\"],[1.0,\"#f0f921\"]],\"type\":\"heatmap\"}],\"histogram2dcontour\":[{\"colorbar\":{\"outlinewidth\":0,\"ticks\":\"\"},\"colorscale\":[[0.0,\"#0d0887\"],[0.1111111111111111,\"#46039f\"],[0.2222222222222222,\"#7201a8\"],[0.3333333333333333,\"#9c179e\"],[0.4444444444444444,\"#bd3786\"],[0.5555555555555556,\"#d8576b\"],[0.6666666666666666,\"#ed7953\"],[0.7777777777777778,\"#fb9f3a\"],[0.8888888888888888,\"#fdca26\"],[1.0,\"#f0f921\"]],\"type\":\"histogram2dcontour\"}],\"histogram2d\":[{\"colorbar\":{\"outlinewidth\":0,\"ticks\":\"\"},\"colorscale\":[[0.0,\"#0d0887\"],[0.1111111111111111,\"#46039f\"],[0.2222222222222222,\"#7201a8\"],[0.3333333333333333,\"#9c179e\"],[0.4444444444444444,\"#bd3786\"],[0.5555555555555556,\"#d8576b\"],[0.6666666666666666,\"#ed7953\"],[0.7777777777777778,\"#fb9f3a\"],[0.8888888888888888,\"#fdca26\"],[1.0,\"#f0f921\"]],\"type\":\"histogram2d\"}],\"histogram\":[{\"marker\":{\"pattern\":{\"fillmode\":\"overlay\",\"size\":10,\"solidity\":0.2}},\"type\":\"histogram\"}],\"mesh3d\":[{\"colorbar\":{\"outlinewidth\":0,\"ticks\":\"\"},\"type\":\"mesh3d\"}],\"parcoords\":[{\"line\":{\"colorbar\":{\"outlinewidth\":0,\"ticks\":\"\"}},\"type\":\"parcoords\"}],\"pie\":[{\"automargin\":true,\"type\":\"pie\"}],\"scatter3d\":[{\"line\":{\"colorbar\":{\"outlinewidth\":0,\"ticks\":\"\"}},\"marker\":{\"colorbar\":{\"outlinewidth\":0,\"ticks\":\"\"}},\"type\":\"scatter3d\"}],\"scattercarpet\":[{\"marker\":{\"colorbar\":{\"outlinewidth\":0,\"ticks\":\"\"}},\"type\":\"scattercarpet\"}],\"scattergeo\":[{\"marker\":{\"colorbar\":{\"outlinewidth\":0,\"ticks\":\"\"}},\"type\":\"scattergeo\"}],\"scattergl\":[{\"marker\":{\"colorbar\":{\"outlinewidth\":0,\"ticks\":\"\"}},\"type\":\"scattergl\"}],\"scattermapbox\":[{\"marker\":{\"colorbar\":{\"outlinewidth\":0,\"ticks\":\"\"}},\"type\":\"scattermapbox\"}],\"scatterpolargl\":[{\"marker\":{\"colorbar\":{\"outlinewidth\":0,\"ticks\":\"\"}},\"type\":\"scatterpolargl\"}],\"scatterpolar\":[{\"marker\":{\"colorbar\":{\"outlinewidth\":0,\"ticks\":\"\"}},\"type\":\"scatterpolar\"}],\"scatter\":[{\"fillpattern\":{\"fillmode\":\"overlay\",\"size\":10,\"solidity\":0.2},\"type\":\"scatter\"}],\"scatterternary\":[{\"marker\":{\"colorbar\":{\"outlinewidth\":0,\"ticks\":\"\"}},\"type\":\"scatterternary\"}],\"surface\":[{\"colorbar\":{\"outlinewidth\":0,\"ticks\":\"\"},\"colorscale\":[[0.0,\"#0d0887\"],[0.1111111111111111,\"#46039f\"],[0.2222222222222222,\"#7201a8\"],[0.3333333333333333,\"#9c179e\"],[0.4444444444444444,\"#bd3786\"],[0.5555555555555556,\"#d8576b\"],[0.6666666666666666,\"#ed7953\"],[0.7777777777777778,\"#fb9f3a\"],[0.8888888888888888,\"#fdca26\"],[1.0,\"#f0f921\"]],\"type\":\"surface\"}],\"table\":[{\"cells\":{\"fill\":{\"color\":\"#EBF0F8\"},\"line\":{\"color\":\"white\"}},\"header\":{\"fill\":{\"color\":\"#C8D4E3\"},\"line\":{\"color\":\"white\"}},\"type\":\"table\"}]},\"layout\":{\"annotationdefaults\":{\"arrowcolor\":\"#2a3f5f\",\"arrowhead\":0,\"arrowwidth\":1},\"autotypenumbers\":\"strict\",\"coloraxis\":{\"colorbar\":{\"outlinewidth\":0,\"ticks\":\"\"}},\"colorscale\":{\"diverging\":[[0,\"#8e0152\"],[0.1,\"#c51b7d\"],[0.2,\"#de77ae\"],[0.3,\"#f1b6da\"],[0.4,\"#fde0ef\"],[0.5,\"#f7f7f7\"],[0.6,\"#e6f5d0\"],[0.7,\"#b8e186\"],[0.8,\"#7fbc41\"],[0.9,\"#4d9221\"],[1,\"#276419\"]],\"sequential\":[[0.0,\"#0d0887\"],[0.1111111111111111,\"#46039f\"],[0.2222222222222222,\"#7201a8\"],[0.3333333333333333,\"#9c179e\"],[0.4444444444444444,\"#bd3786\"],[0.5555555555555556,\"#d8576b\"],[0.6666666666666666,\"#ed7953\"],[0.7777777777777778,\"#fb9f3a\"],[0.8888888888888888,\"#fdca26\"],[1.0,\"#f0f921\"]],\"sequentialminus\":[[0.0,\"#0d0887\"],[0.1111111111111111,\"#46039f\"],[0.2222222222222222,\"#7201a8\"],[0.3333333333333333,\"#9c179e\"],[0.4444444444444444,\"#bd3786\"],[0.5555555555555556,\"#d8576b\"],[0.6666666666666666,\"#ed7953\"],[0.7777777777777778,\"#fb9f3a\"],[0.8888888888888888,\"#fdca26\"],[1.0,\"#f0f921\"]]},\"colorway\":[\"#636efa\",\"#EF553B\",\"#00cc96\",\"#ab63fa\",\"#FFA15A\",\"#19d3f3\",\"#FF6692\",\"#B6E880\",\"#FF97FF\",\"#FECB52\"],\"font\":{\"color\":\"#2a3f5f\"},\"geo\":{\"bgcolor\":\"white\",\"lakecolor\":\"white\",\"landcolor\":\"white\",\"showlakes\":true,\"showland\":true,\"subunitcolor\":\"#C8D4E3\"},\"hoverlabel\":{\"align\":\"left\"},\"hovermode\":\"closest\",\"mapbox\":{\"style\":\"light\"},\"paper_bgcolor\":\"white\",\"plot_bgcolor\":\"white\",\"polar\":{\"angularaxis\":{\"gridcolor\":\"#EBF0F8\",\"linecolor\":\"#EBF0F8\",\"ticks\":\"\"},\"bgcolor\":\"white\",\"radialaxis\":{\"gridcolor\":\"#EBF0F8\",\"linecolor\":\"#EBF0F8\",\"ticks\":\"\"}},\"scene\":{\"xaxis\":{\"backgroundcolor\":\"white\",\"gridcolor\":\"#DFE8F3\",\"gridwidth\":2,\"linecolor\":\"#EBF0F8\",\"showbackground\":true,\"ticks\":\"\",\"zerolinecolor\":\"#EBF0F8\"},\"yaxis\":{\"backgroundcolor\":\"white\",\"gridcolor\":\"#DFE8F3\",\"gridwidth\":2,\"linecolor\":\"#EBF0F8\",\"showbackground\":true,\"ticks\":\"\",\"zerolinecolor\":\"#EBF0F8\"},\"zaxis\":{\"backgroundcolor\":\"white\",\"gridcolor\":\"#DFE8F3\",\"gridwidth\":2,\"linecolor\":\"#EBF0F8\",\"showbackground\":true,\"ticks\":\"\",\"zerolinecolor\":\"#EBF0F8\"}},\"shapedefaults\":{\"line\":{\"color\":\"#2a3f5f\"}},\"ternary\":{\"aaxis\":{\"gridcolor\":\"#DFE8F3\",\"linecolor\":\"#A2B1C6\",\"ticks\":\"\"},\"baxis\":{\"gridcolor\":\"#DFE8F3\",\"linecolor\":\"#A2B1C6\",\"ticks\":\"\"},\"bgcolor\":\"white\",\"caxis\":{\"gridcolor\":\"#DFE8F3\",\"linecolor\":\"#A2B1C6\",\"ticks\":\"\"}},\"title\":{\"x\":0.05},\"xaxis\":{\"automargin\":true,\"gridcolor\":\"#EBF0F8\",\"linecolor\":\"#EBF0F8\",\"ticks\":\"\",\"title\":{\"standoff\":15},\"zerolinecolor\":\"#EBF0F8\",\"zerolinewidth\":2},\"yaxis\":{\"automargin\":true,\"gridcolor\":\"#EBF0F8\",\"linecolor\":\"#EBF0F8\",\"ticks\":\"\",\"title\":{\"standoff\":15},\"zerolinecolor\":\"#EBF0F8\",\"zerolinewidth\":2}}},\"legend\":{\"yanchor\":\"top\",\"y\":0.98,\"xanchor\":\"right\",\"x\":0.98,\"bgcolor\":\"white\",\"bordercolor\":\"LightGray\",\"borderwidth\":1},\"xaxis\":{\"title\":{\"text\":\"Principal Component\"},\"showgrid\":true,\"showline\":true,\"linewidth\":1.5,\"linecolor\":\"black\"},\"yaxis\":{\"title\":{\"text\":\"Explained Variance Ratio\"},\"showgrid\":true,\"showline\":true,\"linewidth\":1.5,\"linecolor\":\"black\"},\"title\":{\"text\":\"Scree Plot of Bio Bootstrap PCA\"},\"barmode\":\"group\",\"plot_bgcolor\":\"white\",\"bargap\":0.2,\"width\":800,\"height\":800},                        {\"responsive\": true}                    ).then(function(){\n",
       "                            \n",
       "var gd = document.getElementById('e870d9e6-de5c-4873-a9d2-f35f3bceafde');\n",
       "var x = new MutationObserver(function (mutations, observer) {{\n",
       "        var display = window.getComputedStyle(gd).display;\n",
       "        if (!display || display === 'none') {{\n",
       "            console.log([gd, 'removed!']);\n",
       "            Plotly.purge(gd);\n",
       "            observer.disconnect();\n",
       "        }}\n",
       "}});\n",
       "\n",
       "// Listen for the removal of the full notebook cells\n",
       "var notebookContainer = gd.closest('#notebook-container');\n",
       "if (notebookContainer) {{\n",
       "    x.observe(notebookContainer, {childList: true});\n",
       "}}\n",
       "\n",
       "// Listen for the clearing of the current output cell\n",
       "var outputEl = gd.closest('.output');\n",
       "if (outputEl) {{\n",
       "    x.observe(outputEl, {childList: true});\n",
       "}}\n",
       "\n",
       "                        })                };                });            </script>        </div>"
      ]
     },
     "metadata": {},
     "output_type": "display_data"
    }
   ],
   "source": [
    "scree(\n",
    "    bio_pcas[:15],\n",
    "    title=\"Scree Plot of Bio Bootstrap PCA\",\n",
    "    artifact_dir=f\"{ARTIFACT_DIR}/bootstrap\",\n",
    "    artifact_name=\"scee_bio_15\",\n",
    ")"
   ]
  },
  {
   "cell_type": "code",
   "execution_count": 30,
   "id": "10e01371",
   "metadata": {},
   "outputs": [
    {
     "data": {
      "application/vnd.plotly.v1+json": {
       "config": {
        "plotlyServerURL": "https://plot.ly"
       },
       "data": [
        {
         "cliponaxis": false,
         "mode": "lines+markers",
         "name": "Layer 0",
         "text": [
          "0.86",
          "0.12",
          "0.01",
          "0.01",
          "0.00",
          "0.00",
          "0.00",
          "0.00",
          "0.00",
          "0.00",
          "0.00",
          "0.00"
         ],
         "type": "scatter",
         "x": [
          1,
          2,
          3,
          4,
          5,
          6,
          7,
          8,
          9,
          10,
          11,
          12
         ],
         "y": [
          0.8607207536697388,
          0.11893031001091003,
          0.008809219114482403,
          0.006151439156383276,
          0.0005043931887485087,
          0.00027761695673689246,
          0.00018969588563777506,
          0.00016206478176172823,
          0.00015180878108367324,
          0.00013311361544765532,
          0.00010257281974190846,
          0.00008666282519698143
         ]
        },
        {
         "cliponaxis": false,
         "mode": "lines+markers",
         "name": "Layer 1",
         "text": [
          "0.81",
          "0.14",
          "0.01",
          "0.01",
          "0.00",
          "0.00",
          "0.00",
          "0.00",
          "0.00",
          "0.00",
          "0.00",
          "0.00"
         ],
         "type": "scatter",
         "x": [
          1,
          2,
          3,
          4,
          5,
          6,
          7,
          8,
          9,
          10,
          11,
          12
         ],
         "y": [
          0.8131937384605408,
          0.13761478662490845,
          0.014258724637329578,
          0.010895303450524807,
          0.0017175717512145638,
          0.0010241148993372917,
          0.0006165785016492009,
          0.000513760547619313,
          0.0003849354397971183,
          0.0003082619223278016,
          0.0002443890261929482,
          0.0002045699511654675
         ]
        },
        {
         "cliponaxis": false,
         "mode": "lines+markers",
         "name": "Layer 2",
         "text": [
          "0.76",
          "0.16",
          "0.02",
          "0.01",
          "0.00",
          "0.00",
          "0.00",
          "0.00",
          "0.00",
          "0.00",
          "0.00",
          "0.00"
         ],
         "type": "scatter",
         "x": [
          1,
          2,
          3,
          4,
          5,
          6,
          7,
          8,
          9,
          10,
          11,
          12
         ],
         "y": [
          0.7607027292251587,
          0.15970739722251892,
          0.019600220024585724,
          0.014448205009102821,
          0.002504725009202957,
          0.0017590258503332734,
          0.0017284583300352097,
          0.0007610062602907419,
          0.0006136938463896513,
          0.00044260919094085693,
          0.0003742258413694799,
          0.0002650917449500412
         ]
        },
        {
         "cliponaxis": false,
         "mode": "lines+markers",
         "name": "Layer 3",
         "text": [
          "0.70",
          "0.17",
          "0.03",
          "0.02",
          "0.00",
          "0.00",
          "0.00",
          "0.00",
          "0.00",
          "0.00",
          "0.00",
          "0.00"
         ],
         "type": "scatter",
         "x": [
          1,
          2,
          3,
          4,
          5,
          6,
          7,
          8,
          9,
          10,
          11,
          12
         ],
         "y": [
          0.703997790813446,
          0.16767887771129608,
          0.030467040836811066,
          0.023712703958153725,
          0.0027100318111479282,
          0.002465358469635248,
          0.001689791097305715,
          0.001033151289448142,
          0.0008714114665053785,
          0.0007022259524092078,
          0.000517606153152883,
          0.0005018149386160076
         ]
        },
        {
         "cliponaxis": false,
         "mode": "lines+markers",
         "name": "Layer 4",
         "text": [
          "0.65",
          "0.18",
          "0.04",
          "0.03",
          "0.00",
          "0.00",
          "0.00",
          "0.00",
          "0.00",
          "0.00",
          "0.00",
          "0.00"
         ],
         "type": "scatter",
         "x": [
          1,
          2,
          3,
          4,
          5,
          6,
          7,
          8,
          9,
          10,
          11,
          12
         ],
         "y": [
          0.6534126996994019,
          0.17585881054401398,
          0.04128030315041542,
          0.026788802817463875,
          0.003551759524270892,
          0.0021714691538363695,
          0.0014206795021891594,
          0.0013363352045416832,
          0.0009953470434993505,
          0.0007927533006295562,
          0.0007074747118167579,
          0.0005865652346983552
         ]
        },
        {
         "cliponaxis": false,
         "mode": "lines+markers",
         "name": "Layer 5",
         "text": [
          "0.61",
          "0.16",
          "0.06",
          "0.03",
          "0.00",
          "0.00",
          "0.00",
          "0.00",
          "0.00",
          "0.00",
          "0.00",
          "0.00"
         ],
         "type": "scatter",
         "x": [
          1,
          2,
          3,
          4,
          5,
          6,
          7,
          8,
          9,
          10,
          11,
          12
         ],
         "y": [
          0.6140154600143433,
          0.1645757108926773,
          0.056384917348623276,
          0.033685438334941864,
          0.004067218862473965,
          0.0022224108688533306,
          0.002019961131736636,
          0.001393806771375239,
          0.0011963124852627516,
          0.0009617779869586229,
          0.0009132371633313596,
          0.0008403832325711846
         ]
        },
        {
         "cliponaxis": false,
         "mode": "lines+markers",
         "name": "Layer 6",
         "text": [
          "0.58",
          "0.16",
          "0.06",
          "0.04",
          "0.01",
          "0.00",
          "0.00",
          "0.00",
          "0.00",
          "0.00",
          "0.00",
          "0.00"
         ],
         "type": "scatter",
         "x": [
          1,
          2,
          3,
          4,
          5,
          6,
          7,
          8,
          9,
          10,
          11,
          12
         ],
         "y": [
          0.5819110870361328,
          0.15878458321094513,
          0.056408900767564774,
          0.039617735892534256,
          0.006918950006365776,
          0.0034524365328252316,
          0.002045645611360669,
          0.00155005999840796,
          0.0013691213680431247,
          0.0012924738693982363,
          0.0012322056572884321,
          0.0009783462155610323
         ]
        },
        {
         "cliponaxis": false,
         "mode": "lines+markers",
         "name": "Layer 7",
         "text": [
          "0.56",
          "0.15",
          "0.07",
          "0.04",
          "0.01",
          "0.01",
          "0.00",
          "0.00",
          "0.00",
          "0.00",
          "0.00",
          "0.00"
         ],
         "type": "scatter",
         "x": [
          1,
          2,
          3,
          4,
          5,
          6,
          7,
          8,
          9,
          10,
          11,
          12
         ],
         "y": [
          0.5579254627227783,
          0.15162132680416107,
          0.06893746554851532,
          0.04242914542555809,
          0.008752739988267422,
          0.005154809448868036,
          0.0020476425997912884,
          0.001970411743968725,
          0.0017221762100234628,
          0.0012813287321478128,
          0.0012095962883904576,
          0.0009697724599391222
         ]
        },
        {
         "cliponaxis": false,
         "mode": "lines+markers",
         "name": "Layer 8",
         "text": [
          "0.85",
          "0.10",
          "0.03",
          "0.01",
          "0.00",
          "0.00",
          "0.00",
          "0.00",
          "0.00",
          "0.00",
          "0.00",
          "0.00"
         ],
         "type": "scatter",
         "x": [
          1,
          2,
          3,
          4,
          5,
          6,
          7,
          8,
          9,
          10,
          11,
          12
         ],
         "y": [
          0.8520092368125916,
          0.10070399940013885,
          0.027791453525424004,
          0.008944733999669552,
          0.0019808239303529263,
          0.001199933118186891,
          0.0006320682005025446,
          0.0004879952466581017,
          0.0003727258008439094,
          0.0002678477030713111,
          0.00026066252030432224,
          0.0001912342122523114
         ]
        },
        {
         "cliponaxis": false,
         "mode": "lines+markers",
         "name": "Layer 9",
         "text": [
          "0.73",
          "0.18",
          "0.04",
          "0.01",
          "0.01",
          "0.00",
          "0.00",
          "0.00",
          "0.00",
          "0.00",
          "0.00",
          "0.00"
         ],
         "type": "scatter",
         "x": [
          1,
          2,
          3,
          4,
          5,
          6,
          7,
          8,
          9,
          10,
          11,
          12
         ],
         "y": [
          0.7320142984390259,
          0.17990727722644806,
          0.03864964097738266,
          0.00863463245332241,
          0.006014984101057053,
          0.002679507713764906,
          0.001989563927054405,
          0.0015907306224107742,
          0.001058107358403504,
          0.000757753208745271,
          0.0006941190804354846,
          0.0005562258302234113
         ]
        },
        {
         "cliponaxis": false,
         "mode": "lines+markers",
         "name": "Layer 10",
         "text": [
          "0.63",
          "0.23",
          "0.07",
          "0.01",
          "0.01",
          "0.00",
          "0.00",
          "0.00",
          "0.00",
          "0.00",
          "0.00",
          "0.00"
         ],
         "type": "scatter",
         "x": [
          1,
          2,
          3,
          4,
          5,
          6,
          7,
          8,
          9,
          10,
          11,
          12
         ],
         "y": [
          0.6343011856079102,
          0.2314923256635666,
          0.06637631356716156,
          0.014377233572304249,
          0.007170801982283592,
          0.00497029721736908,
          0.0017916077049449086,
          0.0015010134084150195,
          0.001236419309861958,
          0.0010303504532203078,
          0.0008461916004307568,
          0.0007178650703281164
         ]
        },
        {
         "cliponaxis": false,
         "mode": "lines+markers",
         "name": "Layer 11",
         "text": [
          "0.53",
          "0.31",
          "0.09",
          "0.02",
          "0.01",
          "0.01",
          "0.00",
          "0.00",
          "0.00",
          "0.00",
          "0.00",
          "0.00"
         ],
         "type": "scatter",
         "x": [
          1,
          2,
          3,
          4,
          5,
          6,
          7,
          8,
          9,
          10,
          11,
          12
         ],
         "y": [
          0.5274808406829834,
          0.31239408254623413,
          0.09164908528327942,
          0.01761539652943611,
          0.006093491800129414,
          0.005102780181914568,
          0.0016562937526032329,
          0.0013949364656582475,
          0.0011997951660305262,
          0.0009260341175831854,
          0.0006518348236568272,
          0.000533089623786509
         ]
        },
        {
         "cliponaxis": false,
         "mode": "lines+markers",
         "name": "Layer 12",
         "text": [
          "0.55",
          "0.28",
          "0.10",
          "0.02",
          "0.01",
          "0.00",
          "0.00",
          "0.00",
          "0.00",
          "0.00",
          "0.00",
          "0.00"
         ],
         "type": "scatter",
         "x": [
          1,
          2,
          3,
          4,
          5,
          6,
          7,
          8,
          9,
          10,
          11,
          12
         ],
         "y": [
          0.5453793406486511,
          0.27719011902809143,
          0.09832514077425003,
          0.02246939204633236,
          0.005702397786080837,
          0.00487132091075182,
          0.0021563207264989614,
          0.0018224131781607866,
          0.0013457918539643288,
          0.000955462281126529,
          0.0007716033142060041,
          0.0005475456709973514
         ]
        },
        {
         "cliponaxis": false,
         "mode": "lines+markers",
         "name": "Layer 13",
         "text": [
          "0.52",
          "0.33",
          "0.07",
          "0.03",
          "0.01",
          "0.00",
          "0.00",
          "0.00",
          "0.00",
          "0.00",
          "0.00",
          "0.00"
         ],
         "type": "scatter",
         "x": [
          1,
          2,
          3,
          4,
          5,
          6,
          7,
          8,
          9,
          10,
          11,
          12
         ],
         "y": [
          0.5212453007698059,
          0.32858505845069885,
          0.06614148616790771,
          0.028100984171032906,
          0.005591270513832569,
          0.003926037345081568,
          0.0018617126625031233,
          0.0017282265471294522,
          0.001482168328948319,
          0.0010822305921465158,
          0.0008183955796994269,
          0.0007278354023583233
         ]
        },
        {
         "cliponaxis": false,
         "mode": "lines+markers",
         "name": "Layer 14",
         "text": [
          "0.54",
          "0.31",
          "0.07",
          "0.02",
          "0.01",
          "0.00",
          "0.00",
          "0.00",
          "0.00",
          "0.00",
          "0.00",
          "0.00"
         ],
         "type": "scatter",
         "x": [
          1,
          2,
          3,
          4,
          5,
          6,
          7,
          8,
          9,
          10,
          11,
          12
         ],
         "y": [
          0.5431044697761536,
          0.31044045090675354,
          0.07104144245386124,
          0.022698281332850456,
          0.005528745241463184,
          0.0036765492986887693,
          0.0019765023607760668,
          0.0016182835679501295,
          0.0014616564149037004,
          0.0007874379516579211,
          0.0007754337857477367,
          0.0005881102406419814
         ]
        }
       ],
       "layout": {
        "bargap": 0.2,
        "barmode": "group",
        "height": 800,
        "legend": {
         "bgcolor": "white",
         "bordercolor": "LightGray",
         "borderwidth": 1,
         "x": 0.98,
         "xanchor": "right",
         "y": 0.98,
         "yanchor": "top"
        },
        "plot_bgcolor": "white",
        "template": {
         "data": {
          "bar": [
           {
            "error_x": {
             "color": "#2a3f5f"
            },
            "error_y": {
             "color": "#2a3f5f"
            },
            "marker": {
             "line": {
              "color": "white",
              "width": 0.5
             },
             "pattern": {
              "fillmode": "overlay",
              "size": 10,
              "solidity": 0.2
             }
            },
            "type": "bar"
           }
          ],
          "barpolar": [
           {
            "marker": {
             "line": {
              "color": "white",
              "width": 0.5
             },
             "pattern": {
              "fillmode": "overlay",
              "size": 10,
              "solidity": 0.2
             }
            },
            "type": "barpolar"
           }
          ],
          "carpet": [
           {
            "aaxis": {
             "endlinecolor": "#2a3f5f",
             "gridcolor": "#C8D4E3",
             "linecolor": "#C8D4E3",
             "minorgridcolor": "#C8D4E3",
             "startlinecolor": "#2a3f5f"
            },
            "baxis": {
             "endlinecolor": "#2a3f5f",
             "gridcolor": "#C8D4E3",
             "linecolor": "#C8D4E3",
             "minorgridcolor": "#C8D4E3",
             "startlinecolor": "#2a3f5f"
            },
            "type": "carpet"
           }
          ],
          "choropleth": [
           {
            "colorbar": {
             "outlinewidth": 0,
             "ticks": ""
            },
            "type": "choropleth"
           }
          ],
          "contour": [
           {
            "colorbar": {
             "outlinewidth": 0,
             "ticks": ""
            },
            "colorscale": [
             [
              0,
              "#0d0887"
             ],
             [
              0.1111111111111111,
              "#46039f"
             ],
             [
              0.2222222222222222,
              "#7201a8"
             ],
             [
              0.3333333333333333,
              "#9c179e"
             ],
             [
              0.4444444444444444,
              "#bd3786"
             ],
             [
              0.5555555555555556,
              "#d8576b"
             ],
             [
              0.6666666666666666,
              "#ed7953"
             ],
             [
              0.7777777777777778,
              "#fb9f3a"
             ],
             [
              0.8888888888888888,
              "#fdca26"
             ],
             [
              1,
              "#f0f921"
             ]
            ],
            "type": "contour"
           }
          ],
          "contourcarpet": [
           {
            "colorbar": {
             "outlinewidth": 0,
             "ticks": ""
            },
            "type": "contourcarpet"
           }
          ],
          "heatmap": [
           {
            "colorbar": {
             "outlinewidth": 0,
             "ticks": ""
            },
            "colorscale": [
             [
              0,
              "#0d0887"
             ],
             [
              0.1111111111111111,
              "#46039f"
             ],
             [
              0.2222222222222222,
              "#7201a8"
             ],
             [
              0.3333333333333333,
              "#9c179e"
             ],
             [
              0.4444444444444444,
              "#bd3786"
             ],
             [
              0.5555555555555556,
              "#d8576b"
             ],
             [
              0.6666666666666666,
              "#ed7953"
             ],
             [
              0.7777777777777778,
              "#fb9f3a"
             ],
             [
              0.8888888888888888,
              "#fdca26"
             ],
             [
              1,
              "#f0f921"
             ]
            ],
            "type": "heatmap"
           }
          ],
          "heatmapgl": [
           {
            "colorbar": {
             "outlinewidth": 0,
             "ticks": ""
            },
            "colorscale": [
             [
              0,
              "#0d0887"
             ],
             [
              0.1111111111111111,
              "#46039f"
             ],
             [
              0.2222222222222222,
              "#7201a8"
             ],
             [
              0.3333333333333333,
              "#9c179e"
             ],
             [
              0.4444444444444444,
              "#bd3786"
             ],
             [
              0.5555555555555556,
              "#d8576b"
             ],
             [
              0.6666666666666666,
              "#ed7953"
             ],
             [
              0.7777777777777778,
              "#fb9f3a"
             ],
             [
              0.8888888888888888,
              "#fdca26"
             ],
             [
              1,
              "#f0f921"
             ]
            ],
            "type": "heatmapgl"
           }
          ],
          "histogram": [
           {
            "marker": {
             "pattern": {
              "fillmode": "overlay",
              "size": 10,
              "solidity": 0.2
             }
            },
            "type": "histogram"
           }
          ],
          "histogram2d": [
           {
            "colorbar": {
             "outlinewidth": 0,
             "ticks": ""
            },
            "colorscale": [
             [
              0,
              "#0d0887"
             ],
             [
              0.1111111111111111,
              "#46039f"
             ],
             [
              0.2222222222222222,
              "#7201a8"
             ],
             [
              0.3333333333333333,
              "#9c179e"
             ],
             [
              0.4444444444444444,
              "#bd3786"
             ],
             [
              0.5555555555555556,
              "#d8576b"
             ],
             [
              0.6666666666666666,
              "#ed7953"
             ],
             [
              0.7777777777777778,
              "#fb9f3a"
             ],
             [
              0.8888888888888888,
              "#fdca26"
             ],
             [
              1,
              "#f0f921"
             ]
            ],
            "type": "histogram2d"
           }
          ],
          "histogram2dcontour": [
           {
            "colorbar": {
             "outlinewidth": 0,
             "ticks": ""
            },
            "colorscale": [
             [
              0,
              "#0d0887"
             ],
             [
              0.1111111111111111,
              "#46039f"
             ],
             [
              0.2222222222222222,
              "#7201a8"
             ],
             [
              0.3333333333333333,
              "#9c179e"
             ],
             [
              0.4444444444444444,
              "#bd3786"
             ],
             [
              0.5555555555555556,
              "#d8576b"
             ],
             [
              0.6666666666666666,
              "#ed7953"
             ],
             [
              0.7777777777777778,
              "#fb9f3a"
             ],
             [
              0.8888888888888888,
              "#fdca26"
             ],
             [
              1,
              "#f0f921"
             ]
            ],
            "type": "histogram2dcontour"
           }
          ],
          "mesh3d": [
           {
            "colorbar": {
             "outlinewidth": 0,
             "ticks": ""
            },
            "type": "mesh3d"
           }
          ],
          "parcoords": [
           {
            "line": {
             "colorbar": {
              "outlinewidth": 0,
              "ticks": ""
             }
            },
            "type": "parcoords"
           }
          ],
          "pie": [
           {
            "automargin": true,
            "type": "pie"
           }
          ],
          "scatter": [
           {
            "fillpattern": {
             "fillmode": "overlay",
             "size": 10,
             "solidity": 0.2
            },
            "type": "scatter"
           }
          ],
          "scatter3d": [
           {
            "line": {
             "colorbar": {
              "outlinewidth": 0,
              "ticks": ""
             }
            },
            "marker": {
             "colorbar": {
              "outlinewidth": 0,
              "ticks": ""
             }
            },
            "type": "scatter3d"
           }
          ],
          "scattercarpet": [
           {
            "marker": {
             "colorbar": {
              "outlinewidth": 0,
              "ticks": ""
             }
            },
            "type": "scattercarpet"
           }
          ],
          "scattergeo": [
           {
            "marker": {
             "colorbar": {
              "outlinewidth": 0,
              "ticks": ""
             }
            },
            "type": "scattergeo"
           }
          ],
          "scattergl": [
           {
            "marker": {
             "colorbar": {
              "outlinewidth": 0,
              "ticks": ""
             }
            },
            "type": "scattergl"
           }
          ],
          "scattermapbox": [
           {
            "marker": {
             "colorbar": {
              "outlinewidth": 0,
              "ticks": ""
             }
            },
            "type": "scattermapbox"
           }
          ],
          "scatterpolar": [
           {
            "marker": {
             "colorbar": {
              "outlinewidth": 0,
              "ticks": ""
             }
            },
            "type": "scatterpolar"
           }
          ],
          "scatterpolargl": [
           {
            "marker": {
             "colorbar": {
              "outlinewidth": 0,
              "ticks": ""
             }
            },
            "type": "scatterpolargl"
           }
          ],
          "scatterternary": [
           {
            "marker": {
             "colorbar": {
              "outlinewidth": 0,
              "ticks": ""
             }
            },
            "type": "scatterternary"
           }
          ],
          "surface": [
           {
            "colorbar": {
             "outlinewidth": 0,
             "ticks": ""
            },
            "colorscale": [
             [
              0,
              "#0d0887"
             ],
             [
              0.1111111111111111,
              "#46039f"
             ],
             [
              0.2222222222222222,
              "#7201a8"
             ],
             [
              0.3333333333333333,
              "#9c179e"
             ],
             [
              0.4444444444444444,
              "#bd3786"
             ],
             [
              0.5555555555555556,
              "#d8576b"
             ],
             [
              0.6666666666666666,
              "#ed7953"
             ],
             [
              0.7777777777777778,
              "#fb9f3a"
             ],
             [
              0.8888888888888888,
              "#fdca26"
             ],
             [
              1,
              "#f0f921"
             ]
            ],
            "type": "surface"
           }
          ],
          "table": [
           {
            "cells": {
             "fill": {
              "color": "#EBF0F8"
             },
             "line": {
              "color": "white"
             }
            },
            "header": {
             "fill": {
              "color": "#C8D4E3"
             },
             "line": {
              "color": "white"
             }
            },
            "type": "table"
           }
          ]
         },
         "layout": {
          "annotationdefaults": {
           "arrowcolor": "#2a3f5f",
           "arrowhead": 0,
           "arrowwidth": 1
          },
          "autotypenumbers": "strict",
          "coloraxis": {
           "colorbar": {
            "outlinewidth": 0,
            "ticks": ""
           }
          },
          "colorscale": {
           "diverging": [
            [
             0,
             "#8e0152"
            ],
            [
             0.1,
             "#c51b7d"
            ],
            [
             0.2,
             "#de77ae"
            ],
            [
             0.3,
             "#f1b6da"
            ],
            [
             0.4,
             "#fde0ef"
            ],
            [
             0.5,
             "#f7f7f7"
            ],
            [
             0.6,
             "#e6f5d0"
            ],
            [
             0.7,
             "#b8e186"
            ],
            [
             0.8,
             "#7fbc41"
            ],
            [
             0.9,
             "#4d9221"
            ],
            [
             1,
             "#276419"
            ]
           ],
           "sequential": [
            [
             0,
             "#0d0887"
            ],
            [
             0.1111111111111111,
             "#46039f"
            ],
            [
             0.2222222222222222,
             "#7201a8"
            ],
            [
             0.3333333333333333,
             "#9c179e"
            ],
            [
             0.4444444444444444,
             "#bd3786"
            ],
            [
             0.5555555555555556,
             "#d8576b"
            ],
            [
             0.6666666666666666,
             "#ed7953"
            ],
            [
             0.7777777777777778,
             "#fb9f3a"
            ],
            [
             0.8888888888888888,
             "#fdca26"
            ],
            [
             1,
             "#f0f921"
            ]
           ],
           "sequentialminus": [
            [
             0,
             "#0d0887"
            ],
            [
             0.1111111111111111,
             "#46039f"
            ],
            [
             0.2222222222222222,
             "#7201a8"
            ],
            [
             0.3333333333333333,
             "#9c179e"
            ],
            [
             0.4444444444444444,
             "#bd3786"
            ],
            [
             0.5555555555555556,
             "#d8576b"
            ],
            [
             0.6666666666666666,
             "#ed7953"
            ],
            [
             0.7777777777777778,
             "#fb9f3a"
            ],
            [
             0.8888888888888888,
             "#fdca26"
            ],
            [
             1,
             "#f0f921"
            ]
           ]
          },
          "colorway": [
           "#636efa",
           "#EF553B",
           "#00cc96",
           "#ab63fa",
           "#FFA15A",
           "#19d3f3",
           "#FF6692",
           "#B6E880",
           "#FF97FF",
           "#FECB52"
          ],
          "font": {
           "color": "#2a3f5f"
          },
          "geo": {
           "bgcolor": "white",
           "lakecolor": "white",
           "landcolor": "white",
           "showlakes": true,
           "showland": true,
           "subunitcolor": "#C8D4E3"
          },
          "hoverlabel": {
           "align": "left"
          },
          "hovermode": "closest",
          "mapbox": {
           "style": "light"
          },
          "paper_bgcolor": "white",
          "plot_bgcolor": "white",
          "polar": {
           "angularaxis": {
            "gridcolor": "#EBF0F8",
            "linecolor": "#EBF0F8",
            "ticks": ""
           },
           "bgcolor": "white",
           "radialaxis": {
            "gridcolor": "#EBF0F8",
            "linecolor": "#EBF0F8",
            "ticks": ""
           }
          },
          "scene": {
           "xaxis": {
            "backgroundcolor": "white",
            "gridcolor": "#DFE8F3",
            "gridwidth": 2,
            "linecolor": "#EBF0F8",
            "showbackground": true,
            "ticks": "",
            "zerolinecolor": "#EBF0F8"
           },
           "yaxis": {
            "backgroundcolor": "white",
            "gridcolor": "#DFE8F3",
            "gridwidth": 2,
            "linecolor": "#EBF0F8",
            "showbackground": true,
            "ticks": "",
            "zerolinecolor": "#EBF0F8"
           },
           "zaxis": {
            "backgroundcolor": "white",
            "gridcolor": "#DFE8F3",
            "gridwidth": 2,
            "linecolor": "#EBF0F8",
            "showbackground": true,
            "ticks": "",
            "zerolinecolor": "#EBF0F8"
           }
          },
          "shapedefaults": {
           "line": {
            "color": "#2a3f5f"
           }
          },
          "ternary": {
           "aaxis": {
            "gridcolor": "#DFE8F3",
            "linecolor": "#A2B1C6",
            "ticks": ""
           },
           "baxis": {
            "gridcolor": "#DFE8F3",
            "linecolor": "#A2B1C6",
            "ticks": ""
           },
           "bgcolor": "white",
           "caxis": {
            "gridcolor": "#DFE8F3",
            "linecolor": "#A2B1C6",
            "ticks": ""
           }
          },
          "title": {
           "x": 0.05
          },
          "xaxis": {
           "automargin": true,
           "gridcolor": "#EBF0F8",
           "linecolor": "#EBF0F8",
           "ticks": "",
           "title": {
            "standoff": 15
           },
           "zerolinecolor": "#EBF0F8",
           "zerolinewidth": 2
          },
          "yaxis": {
           "automargin": true,
           "gridcolor": "#EBF0F8",
           "linecolor": "#EBF0F8",
           "ticks": "",
           "title": {
            "standoff": 15
           },
           "zerolinecolor": "#EBF0F8",
           "zerolinewidth": 2
          }
         }
        },
        "title": {
         "text": "Scree Plot of Cyber Bootstrap PCA"
        },
        "width": 800,
        "xaxis": {
         "linecolor": "black",
         "linewidth": 1.5,
         "showgrid": true,
         "showline": true,
         "title": {
          "text": "Principal Component"
         }
        },
        "yaxis": {
         "linecolor": "black",
         "linewidth": 1.5,
         "showgrid": true,
         "showline": true,
         "title": {
          "text": "Explained Variance Ratio"
         }
        }
       }
      },
      "text/html": [
       "<div>                            <div id=\"f787f4a5-185e-4032-8f42-529f6c50b707\" class=\"plotly-graph-div\" style=\"height:800px; width:800px;\"></div>            <script type=\"text/javascript\">                require([\"plotly\"], function(Plotly) {                    window.PLOTLYENV=window.PLOTLYENV || {};                                    if (document.getElementById(\"f787f4a5-185e-4032-8f42-529f6c50b707\")) {                    Plotly.newPlot(                        \"f787f4a5-185e-4032-8f42-529f6c50b707\",                        [{\"cliponaxis\":false,\"mode\":\"lines+markers\",\"name\":\"Layer 0\",\"text\":[\"0.86\",\"0.12\",\"0.01\",\"0.01\",\"0.00\",\"0.00\",\"0.00\",\"0.00\",\"0.00\",\"0.00\",\"0.00\",\"0.00\"],\"x\":[1,2,3,4,5,6,7,8,9,10,11,12],\"y\":[0.8607207536697388,0.11893031001091003,0.008809219114482403,0.006151439156383276,0.0005043931887485087,0.00027761695673689246,0.00018969588563777506,0.00016206478176172823,0.00015180878108367324,0.00013311361544765532,0.00010257281974190846,8.666282519698143e-05],\"type\":\"scatter\"},{\"cliponaxis\":false,\"mode\":\"lines+markers\",\"name\":\"Layer 1\",\"text\":[\"0.81\",\"0.14\",\"0.01\",\"0.01\",\"0.00\",\"0.00\",\"0.00\",\"0.00\",\"0.00\",\"0.00\",\"0.00\",\"0.00\"],\"x\":[1,2,3,4,5,6,7,8,9,10,11,12],\"y\":[0.8131937384605408,0.13761478662490845,0.014258724637329578,0.010895303450524807,0.0017175717512145638,0.0010241148993372917,0.0006165785016492009,0.000513760547619313,0.0003849354397971183,0.0003082619223278016,0.0002443890261929482,0.0002045699511654675],\"type\":\"scatter\"},{\"cliponaxis\":false,\"mode\":\"lines+markers\",\"name\":\"Layer 2\",\"text\":[\"0.76\",\"0.16\",\"0.02\",\"0.01\",\"0.00\",\"0.00\",\"0.00\",\"0.00\",\"0.00\",\"0.00\",\"0.00\",\"0.00\"],\"x\":[1,2,3,4,5,6,7,8,9,10,11,12],\"y\":[0.7607027292251587,0.15970739722251892,0.019600220024585724,0.014448205009102821,0.002504725009202957,0.0017590258503332734,0.0017284583300352097,0.0007610062602907419,0.0006136938463896513,0.00044260919094085693,0.0003742258413694799,0.0002650917449500412],\"type\":\"scatter\"},{\"cliponaxis\":false,\"mode\":\"lines+markers\",\"name\":\"Layer 3\",\"text\":[\"0.70\",\"0.17\",\"0.03\",\"0.02\",\"0.00\",\"0.00\",\"0.00\",\"0.00\",\"0.00\",\"0.00\",\"0.00\",\"0.00\"],\"x\":[1,2,3,4,5,6,7,8,9,10,11,12],\"y\":[0.703997790813446,0.16767887771129608,0.030467040836811066,0.023712703958153725,0.0027100318111479282,0.002465358469635248,0.001689791097305715,0.001033151289448142,0.0008714114665053785,0.0007022259524092078,0.000517606153152883,0.0005018149386160076],\"type\":\"scatter\"},{\"cliponaxis\":false,\"mode\":\"lines+markers\",\"name\":\"Layer 4\",\"text\":[\"0.65\",\"0.18\",\"0.04\",\"0.03\",\"0.00\",\"0.00\",\"0.00\",\"0.00\",\"0.00\",\"0.00\",\"0.00\",\"0.00\"],\"x\":[1,2,3,4,5,6,7,8,9,10,11,12],\"y\":[0.6534126996994019,0.17585881054401398,0.04128030315041542,0.026788802817463875,0.003551759524270892,0.0021714691538363695,0.0014206795021891594,0.0013363352045416832,0.0009953470434993505,0.0007927533006295562,0.0007074747118167579,0.0005865652346983552],\"type\":\"scatter\"},{\"cliponaxis\":false,\"mode\":\"lines+markers\",\"name\":\"Layer 5\",\"text\":[\"0.61\",\"0.16\",\"0.06\",\"0.03\",\"0.00\",\"0.00\",\"0.00\",\"0.00\",\"0.00\",\"0.00\",\"0.00\",\"0.00\"],\"x\":[1,2,3,4,5,6,7,8,9,10,11,12],\"y\":[0.6140154600143433,0.1645757108926773,0.056384917348623276,0.033685438334941864,0.004067218862473965,0.0022224108688533306,0.002019961131736636,0.001393806771375239,0.0011963124852627516,0.0009617779869586229,0.0009132371633313596,0.0008403832325711846],\"type\":\"scatter\"},{\"cliponaxis\":false,\"mode\":\"lines+markers\",\"name\":\"Layer 6\",\"text\":[\"0.58\",\"0.16\",\"0.06\",\"0.04\",\"0.01\",\"0.00\",\"0.00\",\"0.00\",\"0.00\",\"0.00\",\"0.00\",\"0.00\"],\"x\":[1,2,3,4,5,6,7,8,9,10,11,12],\"y\":[0.5819110870361328,0.15878458321094513,0.056408900767564774,0.039617735892534256,0.006918950006365776,0.0034524365328252316,0.002045645611360669,0.00155005999840796,0.0013691213680431247,0.0012924738693982363,0.0012322056572884321,0.0009783462155610323],\"type\":\"scatter\"},{\"cliponaxis\":false,\"mode\":\"lines+markers\",\"name\":\"Layer 7\",\"text\":[\"0.56\",\"0.15\",\"0.07\",\"0.04\",\"0.01\",\"0.01\",\"0.00\",\"0.00\",\"0.00\",\"0.00\",\"0.00\",\"0.00\"],\"x\":[1,2,3,4,5,6,7,8,9,10,11,12],\"y\":[0.5579254627227783,0.15162132680416107,0.06893746554851532,0.04242914542555809,0.008752739988267422,0.005154809448868036,0.0020476425997912884,0.001970411743968725,0.0017221762100234628,0.0012813287321478128,0.0012095962883904576,0.0009697724599391222],\"type\":\"scatter\"},{\"cliponaxis\":false,\"mode\":\"lines+markers\",\"name\":\"Layer 8\",\"text\":[\"0.85\",\"0.10\",\"0.03\",\"0.01\",\"0.00\",\"0.00\",\"0.00\",\"0.00\",\"0.00\",\"0.00\",\"0.00\",\"0.00\"],\"x\":[1,2,3,4,5,6,7,8,9,10,11,12],\"y\":[0.8520092368125916,0.10070399940013885,0.027791453525424004,0.008944733999669552,0.0019808239303529263,0.001199933118186891,0.0006320682005025446,0.0004879952466581017,0.0003727258008439094,0.0002678477030713111,0.00026066252030432224,0.0001912342122523114],\"type\":\"scatter\"},{\"cliponaxis\":false,\"mode\":\"lines+markers\",\"name\":\"Layer 9\",\"text\":[\"0.73\",\"0.18\",\"0.04\",\"0.01\",\"0.01\",\"0.00\",\"0.00\",\"0.00\",\"0.00\",\"0.00\",\"0.00\",\"0.00\"],\"x\":[1,2,3,4,5,6,7,8,9,10,11,12],\"y\":[0.7320142984390259,0.17990727722644806,0.03864964097738266,0.00863463245332241,0.006014984101057053,0.002679507713764906,0.001989563927054405,0.0015907306224107742,0.001058107358403504,0.000757753208745271,0.0006941190804354846,0.0005562258302234113],\"type\":\"scatter\"},{\"cliponaxis\":false,\"mode\":\"lines+markers\",\"name\":\"Layer 10\",\"text\":[\"0.63\",\"0.23\",\"0.07\",\"0.01\",\"0.01\",\"0.00\",\"0.00\",\"0.00\",\"0.00\",\"0.00\",\"0.00\",\"0.00\"],\"x\":[1,2,3,4,5,6,7,8,9,10,11,12],\"y\":[0.6343011856079102,0.2314923256635666,0.06637631356716156,0.014377233572304249,0.007170801982283592,0.00497029721736908,0.0017916077049449086,0.0015010134084150195,0.001236419309861958,0.0010303504532203078,0.0008461916004307568,0.0007178650703281164],\"type\":\"scatter\"},{\"cliponaxis\":false,\"mode\":\"lines+markers\",\"name\":\"Layer 11\",\"text\":[\"0.53\",\"0.31\",\"0.09\",\"0.02\",\"0.01\",\"0.01\",\"0.00\",\"0.00\",\"0.00\",\"0.00\",\"0.00\",\"0.00\"],\"x\":[1,2,3,4,5,6,7,8,9,10,11,12],\"y\":[0.5274808406829834,0.31239408254623413,0.09164908528327942,0.01761539652943611,0.006093491800129414,0.005102780181914568,0.0016562937526032329,0.0013949364656582475,0.0011997951660305262,0.0009260341175831854,0.0006518348236568272,0.000533089623786509],\"type\":\"scatter\"},{\"cliponaxis\":false,\"mode\":\"lines+markers\",\"name\":\"Layer 12\",\"text\":[\"0.55\",\"0.28\",\"0.10\",\"0.02\",\"0.01\",\"0.00\",\"0.00\",\"0.00\",\"0.00\",\"0.00\",\"0.00\",\"0.00\"],\"x\":[1,2,3,4,5,6,7,8,9,10,11,12],\"y\":[0.5453793406486511,0.27719011902809143,0.09832514077425003,0.02246939204633236,0.005702397786080837,0.00487132091075182,0.0021563207264989614,0.0018224131781607866,0.0013457918539643288,0.000955462281126529,0.0007716033142060041,0.0005475456709973514],\"type\":\"scatter\"},{\"cliponaxis\":false,\"mode\":\"lines+markers\",\"name\":\"Layer 13\",\"text\":[\"0.52\",\"0.33\",\"0.07\",\"0.03\",\"0.01\",\"0.00\",\"0.00\",\"0.00\",\"0.00\",\"0.00\",\"0.00\",\"0.00\"],\"x\":[1,2,3,4,5,6,7,8,9,10,11,12],\"y\":[0.5212453007698059,0.32858505845069885,0.06614148616790771,0.028100984171032906,0.005591270513832569,0.003926037345081568,0.0018617126625031233,0.0017282265471294522,0.001482168328948319,0.0010822305921465158,0.0008183955796994269,0.0007278354023583233],\"type\":\"scatter\"},{\"cliponaxis\":false,\"mode\":\"lines+markers\",\"name\":\"Layer 14\",\"text\":[\"0.54\",\"0.31\",\"0.07\",\"0.02\",\"0.01\",\"0.00\",\"0.00\",\"0.00\",\"0.00\",\"0.00\",\"0.00\",\"0.00\"],\"x\":[1,2,3,4,5,6,7,8,9,10,11,12],\"y\":[0.5431044697761536,0.31044045090675354,0.07104144245386124,0.022698281332850456,0.005528745241463184,0.0036765492986887693,0.0019765023607760668,0.0016182835679501295,0.0014616564149037004,0.0007874379516579211,0.0007754337857477367,0.0005881102406419814],\"type\":\"scatter\"}],                        {\"template\":{\"data\":{\"barpolar\":[{\"marker\":{\"line\":{\"color\":\"white\",\"width\":0.5},\"pattern\":{\"fillmode\":\"overlay\",\"size\":10,\"solidity\":0.2}},\"type\":\"barpolar\"}],\"bar\":[{\"error_x\":{\"color\":\"#2a3f5f\"},\"error_y\":{\"color\":\"#2a3f5f\"},\"marker\":{\"line\":{\"color\":\"white\",\"width\":0.5},\"pattern\":{\"fillmode\":\"overlay\",\"size\":10,\"solidity\":0.2}},\"type\":\"bar\"}],\"carpet\":[{\"aaxis\":{\"endlinecolor\":\"#2a3f5f\",\"gridcolor\":\"#C8D4E3\",\"linecolor\":\"#C8D4E3\",\"minorgridcolor\":\"#C8D4E3\",\"startlinecolor\":\"#2a3f5f\"},\"baxis\":{\"endlinecolor\":\"#2a3f5f\",\"gridcolor\":\"#C8D4E3\",\"linecolor\":\"#C8D4E3\",\"minorgridcolor\":\"#C8D4E3\",\"startlinecolor\":\"#2a3f5f\"},\"type\":\"carpet\"}],\"choropleth\":[{\"colorbar\":{\"outlinewidth\":0,\"ticks\":\"\"},\"type\":\"choropleth\"}],\"contourcarpet\":[{\"colorbar\":{\"outlinewidth\":0,\"ticks\":\"\"},\"type\":\"contourcarpet\"}],\"contour\":[{\"colorbar\":{\"outlinewidth\":0,\"ticks\":\"\"},\"colorscale\":[[0.0,\"#0d0887\"],[0.1111111111111111,\"#46039f\"],[0.2222222222222222,\"#7201a8\"],[0.3333333333333333,\"#9c179e\"],[0.4444444444444444,\"#bd3786\"],[0.5555555555555556,\"#d8576b\"],[0.6666666666666666,\"#ed7953\"],[0.7777777777777778,\"#fb9f3a\"],[0.8888888888888888,\"#fdca26\"],[1.0,\"#f0f921\"]],\"type\":\"contour\"}],\"heatmapgl\":[{\"colorbar\":{\"outlinewidth\":0,\"ticks\":\"\"},\"colorscale\":[[0.0,\"#0d0887\"],[0.1111111111111111,\"#46039f\"],[0.2222222222222222,\"#7201a8\"],[0.3333333333333333,\"#9c179e\"],[0.4444444444444444,\"#bd3786\"],[0.5555555555555556,\"#d8576b\"],[0.6666666666666666,\"#ed7953\"],[0.7777777777777778,\"#fb9f3a\"],[0.8888888888888888,\"#fdca26\"],[1.0,\"#f0f921\"]],\"type\":\"heatmapgl\"}],\"heatmap\":[{\"colorbar\":{\"outlinewidth\":0,\"ticks\":\"\"},\"colorscale\":[[0.0,\"#0d0887\"],[0.1111111111111111,\"#46039f\"],[0.2222222222222222,\"#7201a8\"],[0.3333333333333333,\"#9c179e\"],[0.4444444444444444,\"#bd3786\"],[0.5555555555555556,\"#d8576b\"],[0.6666666666666666,\"#ed7953\"],[0.7777777777777778,\"#fb9f3a\"],[0.8888888888888888,\"#fdca26\"],[1.0,\"#f0f921\"]],\"type\":\"heatmap\"}],\"histogram2dcontour\":[{\"colorbar\":{\"outlinewidth\":0,\"ticks\":\"\"},\"colorscale\":[[0.0,\"#0d0887\"],[0.1111111111111111,\"#46039f\"],[0.2222222222222222,\"#7201a8\"],[0.3333333333333333,\"#9c179e\"],[0.4444444444444444,\"#bd3786\"],[0.5555555555555556,\"#d8576b\"],[0.6666666666666666,\"#ed7953\"],[0.7777777777777778,\"#fb9f3a\"],[0.8888888888888888,\"#fdca26\"],[1.0,\"#f0f921\"]],\"type\":\"histogram2dcontour\"}],\"histogram2d\":[{\"colorbar\":{\"outlinewidth\":0,\"ticks\":\"\"},\"colorscale\":[[0.0,\"#0d0887\"],[0.1111111111111111,\"#46039f\"],[0.2222222222222222,\"#7201a8\"],[0.3333333333333333,\"#9c179e\"],[0.4444444444444444,\"#bd3786\"],[0.5555555555555556,\"#d8576b\"],[0.6666666666666666,\"#ed7953\"],[0.7777777777777778,\"#fb9f3a\"],[0.8888888888888888,\"#fdca26\"],[1.0,\"#f0f921\"]],\"type\":\"histogram2d\"}],\"histogram\":[{\"marker\":{\"pattern\":{\"fillmode\":\"overlay\",\"size\":10,\"solidity\":0.2}},\"type\":\"histogram\"}],\"mesh3d\":[{\"colorbar\":{\"outlinewidth\":0,\"ticks\":\"\"},\"type\":\"mesh3d\"}],\"parcoords\":[{\"line\":{\"colorbar\":{\"outlinewidth\":0,\"ticks\":\"\"}},\"type\":\"parcoords\"}],\"pie\":[{\"automargin\":true,\"type\":\"pie\"}],\"scatter3d\":[{\"line\":{\"colorbar\":{\"outlinewidth\":0,\"ticks\":\"\"}},\"marker\":{\"colorbar\":{\"outlinewidth\":0,\"ticks\":\"\"}},\"type\":\"scatter3d\"}],\"scattercarpet\":[{\"marker\":{\"colorbar\":{\"outlinewidth\":0,\"ticks\":\"\"}},\"type\":\"scattercarpet\"}],\"scattergeo\":[{\"marker\":{\"colorbar\":{\"outlinewidth\":0,\"ticks\":\"\"}},\"type\":\"scattergeo\"}],\"scattergl\":[{\"marker\":{\"colorbar\":{\"outlinewidth\":0,\"ticks\":\"\"}},\"type\":\"scattergl\"}],\"scattermapbox\":[{\"marker\":{\"colorbar\":{\"outlinewidth\":0,\"ticks\":\"\"}},\"type\":\"scattermapbox\"}],\"scatterpolargl\":[{\"marker\":{\"colorbar\":{\"outlinewidth\":0,\"ticks\":\"\"}},\"type\":\"scatterpolargl\"}],\"scatterpolar\":[{\"marker\":{\"colorbar\":{\"outlinewidth\":0,\"ticks\":\"\"}},\"type\":\"scatterpolar\"}],\"scatter\":[{\"fillpattern\":{\"fillmode\":\"overlay\",\"size\":10,\"solidity\":0.2},\"type\":\"scatter\"}],\"scatterternary\":[{\"marker\":{\"colorbar\":{\"outlinewidth\":0,\"ticks\":\"\"}},\"type\":\"scatterternary\"}],\"surface\":[{\"colorbar\":{\"outlinewidth\":0,\"ticks\":\"\"},\"colorscale\":[[0.0,\"#0d0887\"],[0.1111111111111111,\"#46039f\"],[0.2222222222222222,\"#7201a8\"],[0.3333333333333333,\"#9c179e\"],[0.4444444444444444,\"#bd3786\"],[0.5555555555555556,\"#d8576b\"],[0.6666666666666666,\"#ed7953\"],[0.7777777777777778,\"#fb9f3a\"],[0.8888888888888888,\"#fdca26\"],[1.0,\"#f0f921\"]],\"type\":\"surface\"}],\"table\":[{\"cells\":{\"fill\":{\"color\":\"#EBF0F8\"},\"line\":{\"color\":\"white\"}},\"header\":{\"fill\":{\"color\":\"#C8D4E3\"},\"line\":{\"color\":\"white\"}},\"type\":\"table\"}]},\"layout\":{\"annotationdefaults\":{\"arrowcolor\":\"#2a3f5f\",\"arrowhead\":0,\"arrowwidth\":1},\"autotypenumbers\":\"strict\",\"coloraxis\":{\"colorbar\":{\"outlinewidth\":0,\"ticks\":\"\"}},\"colorscale\":{\"diverging\":[[0,\"#8e0152\"],[0.1,\"#c51b7d\"],[0.2,\"#de77ae\"],[0.3,\"#f1b6da\"],[0.4,\"#fde0ef\"],[0.5,\"#f7f7f7\"],[0.6,\"#e6f5d0\"],[0.7,\"#b8e186\"],[0.8,\"#7fbc41\"],[0.9,\"#4d9221\"],[1,\"#276419\"]],\"sequential\":[[0.0,\"#0d0887\"],[0.1111111111111111,\"#46039f\"],[0.2222222222222222,\"#7201a8\"],[0.3333333333333333,\"#9c179e\"],[0.4444444444444444,\"#bd3786\"],[0.5555555555555556,\"#d8576b\"],[0.6666666666666666,\"#ed7953\"],[0.7777777777777778,\"#fb9f3a\"],[0.8888888888888888,\"#fdca26\"],[1.0,\"#f0f921\"]],\"sequentialminus\":[[0.0,\"#0d0887\"],[0.1111111111111111,\"#46039f\"],[0.2222222222222222,\"#7201a8\"],[0.3333333333333333,\"#9c179e\"],[0.4444444444444444,\"#bd3786\"],[0.5555555555555556,\"#d8576b\"],[0.6666666666666666,\"#ed7953\"],[0.7777777777777778,\"#fb9f3a\"],[0.8888888888888888,\"#fdca26\"],[1.0,\"#f0f921\"]]},\"colorway\":[\"#636efa\",\"#EF553B\",\"#00cc96\",\"#ab63fa\",\"#FFA15A\",\"#19d3f3\",\"#FF6692\",\"#B6E880\",\"#FF97FF\",\"#FECB52\"],\"font\":{\"color\":\"#2a3f5f\"},\"geo\":{\"bgcolor\":\"white\",\"lakecolor\":\"white\",\"landcolor\":\"white\",\"showlakes\":true,\"showland\":true,\"subunitcolor\":\"#C8D4E3\"},\"hoverlabel\":{\"align\":\"left\"},\"hovermode\":\"closest\",\"mapbox\":{\"style\":\"light\"},\"paper_bgcolor\":\"white\",\"plot_bgcolor\":\"white\",\"polar\":{\"angularaxis\":{\"gridcolor\":\"#EBF0F8\",\"linecolor\":\"#EBF0F8\",\"ticks\":\"\"},\"bgcolor\":\"white\",\"radialaxis\":{\"gridcolor\":\"#EBF0F8\",\"linecolor\":\"#EBF0F8\",\"ticks\":\"\"}},\"scene\":{\"xaxis\":{\"backgroundcolor\":\"white\",\"gridcolor\":\"#DFE8F3\",\"gridwidth\":2,\"linecolor\":\"#EBF0F8\",\"showbackground\":true,\"ticks\":\"\",\"zerolinecolor\":\"#EBF0F8\"},\"yaxis\":{\"backgroundcolor\":\"white\",\"gridcolor\":\"#DFE8F3\",\"gridwidth\":2,\"linecolor\":\"#EBF0F8\",\"showbackground\":true,\"ticks\":\"\",\"zerolinecolor\":\"#EBF0F8\"},\"zaxis\":{\"backgroundcolor\":\"white\",\"gridcolor\":\"#DFE8F3\",\"gridwidth\":2,\"linecolor\":\"#EBF0F8\",\"showbackground\":true,\"ticks\":\"\",\"zerolinecolor\":\"#EBF0F8\"}},\"shapedefaults\":{\"line\":{\"color\":\"#2a3f5f\"}},\"ternary\":{\"aaxis\":{\"gridcolor\":\"#DFE8F3\",\"linecolor\":\"#A2B1C6\",\"ticks\":\"\"},\"baxis\":{\"gridcolor\":\"#DFE8F3\",\"linecolor\":\"#A2B1C6\",\"ticks\":\"\"},\"bgcolor\":\"white\",\"caxis\":{\"gridcolor\":\"#DFE8F3\",\"linecolor\":\"#A2B1C6\",\"ticks\":\"\"}},\"title\":{\"x\":0.05},\"xaxis\":{\"automargin\":true,\"gridcolor\":\"#EBF0F8\",\"linecolor\":\"#EBF0F8\",\"ticks\":\"\",\"title\":{\"standoff\":15},\"zerolinecolor\":\"#EBF0F8\",\"zerolinewidth\":2},\"yaxis\":{\"automargin\":true,\"gridcolor\":\"#EBF0F8\",\"linecolor\":\"#EBF0F8\",\"ticks\":\"\",\"title\":{\"standoff\":15},\"zerolinecolor\":\"#EBF0F8\",\"zerolinewidth\":2}}},\"legend\":{\"yanchor\":\"top\",\"y\":0.98,\"xanchor\":\"right\",\"x\":0.98,\"bgcolor\":\"white\",\"bordercolor\":\"LightGray\",\"borderwidth\":1},\"xaxis\":{\"title\":{\"text\":\"Principal Component\"},\"showgrid\":true,\"showline\":true,\"linewidth\":1.5,\"linecolor\":\"black\"},\"yaxis\":{\"title\":{\"text\":\"Explained Variance Ratio\"},\"showgrid\":true,\"showline\":true,\"linewidth\":1.5,\"linecolor\":\"black\"},\"title\":{\"text\":\"Scree Plot of Cyber Bootstrap PCA\"},\"barmode\":\"group\",\"plot_bgcolor\":\"white\",\"bargap\":0.2,\"width\":800,\"height\":800},                        {\"responsive\": true}                    ).then(function(){\n",
       "                            \n",
       "var gd = document.getElementById('f787f4a5-185e-4032-8f42-529f6c50b707');\n",
       "var x = new MutationObserver(function (mutations, observer) {{\n",
       "        var display = window.getComputedStyle(gd).display;\n",
       "        if (!display || display === 'none') {{\n",
       "            console.log([gd, 'removed!']);\n",
       "            Plotly.purge(gd);\n",
       "            observer.disconnect();\n",
       "        }}\n",
       "}});\n",
       "\n",
       "// Listen for the removal of the full notebook cells\n",
       "var notebookContainer = gd.closest('#notebook-container');\n",
       "if (notebookContainer) {{\n",
       "    x.observe(notebookContainer, {childList: true});\n",
       "}}\n",
       "\n",
       "// Listen for the clearing of the current output cell\n",
       "var outputEl = gd.closest('.output');\n",
       "if (outputEl) {{\n",
       "    x.observe(outputEl, {childList: true});\n",
       "}}\n",
       "\n",
       "                        })                };                });            </script>        </div>"
      ]
     },
     "metadata": {},
     "output_type": "display_data"
    }
   ],
   "source": [
    "scree(\n",
    "    cyber_pcas[:15],\n",
    "    title=\"Scree Plot of Cyber Bootstrap PCA\",\n",
    "    artifact_dir=f\"{ARTIFACT_DIR}/bootstrap/figures\",\n",
    "    artifact_name=\"scee_cyber_15\",\n",
    ")"
   ]
  },
  {
   "cell_type": "code",
   "execution_count": 32,
   "id": "14c3f0c7",
   "metadata": {},
   "outputs": [
    {
     "data": {
      "application/vnd.plotly.v1+json": {
       "config": {
        "plotlyServerURL": "https://plot.ly"
       },
       "data": [
        {
         "cliponaxis": false,
         "mode": "lines+markers",
         "name": "Layer 0",
         "text": [
          "0.86",
          "0.12",
          "0.01",
          "0.01",
          "0.00",
          "0.00",
          "0.00",
          "0.00",
          "0.00",
          "0.00",
          "0.00",
          "0.00"
         ],
         "type": "scatter",
         "x": [
          1,
          2,
          3,
          4,
          5,
          6,
          7,
          8,
          9,
          10,
          11,
          12
         ],
         "y": [
          0.8607207536697388,
          0.11893031001091003,
          0.008809219114482403,
          0.006151439156383276,
          0.0005043931887485087,
          0.00027761695673689246,
          0.00018969588563777506,
          0.00016206478176172823,
          0.00015180878108367324,
          0.00013311361544765532,
          0.00010257281974190846,
          0.00008666282519698143
         ]
        },
        {
         "cliponaxis": false,
         "mode": "lines+markers",
         "name": "Layer 1",
         "text": [
          "0.81",
          "0.14",
          "0.01",
          "0.01",
          "0.00",
          "0.00",
          "0.00",
          "0.00",
          "0.00",
          "0.00",
          "0.00",
          "0.00"
         ],
         "type": "scatter",
         "x": [
          1,
          2,
          3,
          4,
          5,
          6,
          7,
          8,
          9,
          10,
          11,
          12
         ],
         "y": [
          0.8131937384605408,
          0.13761478662490845,
          0.014258724637329578,
          0.010895303450524807,
          0.0017175717512145638,
          0.0010241148993372917,
          0.0006165785016492009,
          0.000513760547619313,
          0.0003849354397971183,
          0.0003082619223278016,
          0.0002443890261929482,
          0.0002045699511654675
         ]
        },
        {
         "cliponaxis": false,
         "mode": "lines+markers",
         "name": "Layer 2",
         "text": [
          "0.76",
          "0.16",
          "0.02",
          "0.01",
          "0.00",
          "0.00",
          "0.00",
          "0.00",
          "0.00",
          "0.00",
          "0.00",
          "0.00"
         ],
         "type": "scatter",
         "x": [
          1,
          2,
          3,
          4,
          5,
          6,
          7,
          8,
          9,
          10,
          11,
          12
         ],
         "y": [
          0.7607027292251587,
          0.15970739722251892,
          0.019600220024585724,
          0.014448205009102821,
          0.002504725009202957,
          0.0017590258503332734,
          0.0017284583300352097,
          0.0007610062602907419,
          0.0006136938463896513,
          0.00044260919094085693,
          0.0003742258413694799,
          0.0002650917449500412
         ]
        },
        {
         "cliponaxis": false,
         "mode": "lines+markers",
         "name": "Layer 3",
         "text": [
          "0.70",
          "0.17",
          "0.03",
          "0.02",
          "0.00",
          "0.00",
          "0.00",
          "0.00",
          "0.00",
          "0.00",
          "0.00",
          "0.00"
         ],
         "type": "scatter",
         "x": [
          1,
          2,
          3,
          4,
          5,
          6,
          7,
          8,
          9,
          10,
          11,
          12
         ],
         "y": [
          0.703997790813446,
          0.16767887771129608,
          0.030467040836811066,
          0.023712703958153725,
          0.0027100318111479282,
          0.002465358469635248,
          0.001689791097305715,
          0.001033151289448142,
          0.0008714114665053785,
          0.0007022259524092078,
          0.000517606153152883,
          0.0005018149386160076
         ]
        },
        {
         "cliponaxis": false,
         "mode": "lines+markers",
         "name": "Layer 4",
         "text": [
          "0.65",
          "0.18",
          "0.04",
          "0.03",
          "0.00",
          "0.00",
          "0.00",
          "0.00",
          "0.00",
          "0.00",
          "0.00",
          "0.00"
         ],
         "type": "scatter",
         "x": [
          1,
          2,
          3,
          4,
          5,
          6,
          7,
          8,
          9,
          10,
          11,
          12
         ],
         "y": [
          0.6534126996994019,
          0.17585881054401398,
          0.04128030315041542,
          0.026788802817463875,
          0.003551759524270892,
          0.0021714691538363695,
          0.0014206795021891594,
          0.0013363352045416832,
          0.0009953470434993505,
          0.0007927533006295562,
          0.0007074747118167579,
          0.0005865652346983552
         ]
        },
        {
         "cliponaxis": false,
         "mode": "lines+markers",
         "name": "Layer 5",
         "text": [
          "0.61",
          "0.16",
          "0.06",
          "0.03",
          "0.00",
          "0.00",
          "0.00",
          "0.00",
          "0.00",
          "0.00",
          "0.00",
          "0.00"
         ],
         "type": "scatter",
         "x": [
          1,
          2,
          3,
          4,
          5,
          6,
          7,
          8,
          9,
          10,
          11,
          12
         ],
         "y": [
          0.6140154600143433,
          0.1645757108926773,
          0.056384917348623276,
          0.033685438334941864,
          0.004067218862473965,
          0.0022224108688533306,
          0.002019961131736636,
          0.001393806771375239,
          0.0011963124852627516,
          0.0009617779869586229,
          0.0009132371633313596,
          0.0008403832325711846
         ]
        },
        {
         "cliponaxis": false,
         "mode": "lines+markers",
         "name": "Layer 6",
         "text": [
          "0.58",
          "0.16",
          "0.06",
          "0.04",
          "0.01",
          "0.00",
          "0.00",
          "0.00",
          "0.00",
          "0.00",
          "0.00",
          "0.00"
         ],
         "type": "scatter",
         "x": [
          1,
          2,
          3,
          4,
          5,
          6,
          7,
          8,
          9,
          10,
          11,
          12
         ],
         "y": [
          0.5819110870361328,
          0.15878458321094513,
          0.056408900767564774,
          0.039617735892534256,
          0.006918950006365776,
          0.0034524365328252316,
          0.002045645611360669,
          0.00155005999840796,
          0.0013691213680431247,
          0.0012924738693982363,
          0.0012322056572884321,
          0.0009783462155610323
         ]
        },
        {
         "cliponaxis": false,
         "mode": "lines+markers",
         "name": "Layer 7",
         "text": [
          "0.56",
          "0.15",
          "0.07",
          "0.04",
          "0.01",
          "0.01",
          "0.00",
          "0.00",
          "0.00",
          "0.00",
          "0.00",
          "0.00"
         ],
         "type": "scatter",
         "x": [
          1,
          2,
          3,
          4,
          5,
          6,
          7,
          8,
          9,
          10,
          11,
          12
         ],
         "y": [
          0.5579254627227783,
          0.15162132680416107,
          0.06893746554851532,
          0.04242914542555809,
          0.008752739988267422,
          0.005154809448868036,
          0.0020476425997912884,
          0.001970411743968725,
          0.0017221762100234628,
          0.0012813287321478128,
          0.0012095962883904576,
          0.0009697724599391222
         ]
        },
        {
         "cliponaxis": false,
         "mode": "lines+markers",
         "name": "Layer 8",
         "text": [
          "0.85",
          "0.10",
          "0.03",
          "0.01",
          "0.00",
          "0.00",
          "0.00",
          "0.00",
          "0.00",
          "0.00",
          "0.00",
          "0.00"
         ],
         "type": "scatter",
         "x": [
          1,
          2,
          3,
          4,
          5,
          6,
          7,
          8,
          9,
          10,
          11,
          12
         ],
         "y": [
          0.8520092368125916,
          0.10070399940013885,
          0.027791453525424004,
          0.008944733999669552,
          0.0019808239303529263,
          0.001199933118186891,
          0.0006320682005025446,
          0.0004879952466581017,
          0.0003727258008439094,
          0.0002678477030713111,
          0.00026066252030432224,
          0.0001912342122523114
         ]
        },
        {
         "cliponaxis": false,
         "mode": "lines+markers",
         "name": "Layer 9",
         "text": [
          "0.73",
          "0.18",
          "0.04",
          "0.01",
          "0.01",
          "0.00",
          "0.00",
          "0.00",
          "0.00",
          "0.00",
          "0.00",
          "0.00"
         ],
         "type": "scatter",
         "x": [
          1,
          2,
          3,
          4,
          5,
          6,
          7,
          8,
          9,
          10,
          11,
          12
         ],
         "y": [
          0.7320142984390259,
          0.17990727722644806,
          0.03864964097738266,
          0.00863463245332241,
          0.006014984101057053,
          0.002679507713764906,
          0.001989563927054405,
          0.0015907306224107742,
          0.001058107358403504,
          0.000757753208745271,
          0.0006941190804354846,
          0.0005562258302234113
         ]
        },
        {
         "cliponaxis": false,
         "mode": "lines+markers",
         "name": "Layer 10",
         "text": [
          "0.63",
          "0.23",
          "0.07",
          "0.01",
          "0.01",
          "0.00",
          "0.00",
          "0.00",
          "0.00",
          "0.00",
          "0.00",
          "0.00"
         ],
         "type": "scatter",
         "x": [
          1,
          2,
          3,
          4,
          5,
          6,
          7,
          8,
          9,
          10,
          11,
          12
         ],
         "y": [
          0.6343011856079102,
          0.2314923256635666,
          0.06637631356716156,
          0.014377233572304249,
          0.007170801982283592,
          0.00497029721736908,
          0.0017916077049449086,
          0.0015010134084150195,
          0.001236419309861958,
          0.0010303504532203078,
          0.0008461916004307568,
          0.0007178650703281164
         ]
        },
        {
         "cliponaxis": false,
         "mode": "lines+markers",
         "name": "Layer 11",
         "text": [
          "0.53",
          "0.31",
          "0.09",
          "0.02",
          "0.01",
          "0.01",
          "0.00",
          "0.00",
          "0.00",
          "0.00",
          "0.00",
          "0.00"
         ],
         "type": "scatter",
         "x": [
          1,
          2,
          3,
          4,
          5,
          6,
          7,
          8,
          9,
          10,
          11,
          12
         ],
         "y": [
          0.5274808406829834,
          0.31239408254623413,
          0.09164908528327942,
          0.01761539652943611,
          0.006093491800129414,
          0.005102780181914568,
          0.0016562937526032329,
          0.0013949364656582475,
          0.0011997951660305262,
          0.0009260341175831854,
          0.0006518348236568272,
          0.000533089623786509
         ]
        },
        {
         "cliponaxis": false,
         "mode": "lines+markers",
         "name": "Layer 12",
         "text": [
          "0.55",
          "0.28",
          "0.10",
          "0.02",
          "0.01",
          "0.00",
          "0.00",
          "0.00",
          "0.00",
          "0.00",
          "0.00",
          "0.00"
         ],
         "type": "scatter",
         "x": [
          1,
          2,
          3,
          4,
          5,
          6,
          7,
          8,
          9,
          10,
          11,
          12
         ],
         "y": [
          0.5453793406486511,
          0.27719011902809143,
          0.09832514077425003,
          0.02246939204633236,
          0.005702397786080837,
          0.00487132091075182,
          0.0021563207264989614,
          0.0018224131781607866,
          0.0013457918539643288,
          0.000955462281126529,
          0.0007716033142060041,
          0.0005475456709973514
         ]
        },
        {
         "cliponaxis": false,
         "mode": "lines+markers",
         "name": "Layer 13",
         "text": [
          "0.52",
          "0.33",
          "0.07",
          "0.03",
          "0.01",
          "0.00",
          "0.00",
          "0.00",
          "0.00",
          "0.00",
          "0.00",
          "0.00"
         ],
         "type": "scatter",
         "x": [
          1,
          2,
          3,
          4,
          5,
          6,
          7,
          8,
          9,
          10,
          11,
          12
         ],
         "y": [
          0.5212453007698059,
          0.32858505845069885,
          0.06614148616790771,
          0.028100984171032906,
          0.005591270513832569,
          0.003926037345081568,
          0.0018617126625031233,
          0.0017282265471294522,
          0.001482168328948319,
          0.0010822305921465158,
          0.0008183955796994269,
          0.0007278354023583233
         ]
        },
        {
         "cliponaxis": false,
         "mode": "lines+markers",
         "name": "Layer 14",
         "text": [
          "0.54",
          "0.31",
          "0.07",
          "0.02",
          "0.01",
          "0.00",
          "0.00",
          "0.00",
          "0.00",
          "0.00",
          "0.00",
          "0.00"
         ],
         "type": "scatter",
         "x": [
          1,
          2,
          3,
          4,
          5,
          6,
          7,
          8,
          9,
          10,
          11,
          12
         ],
         "y": [
          0.5431044697761536,
          0.31044045090675354,
          0.07104144245386124,
          0.022698281332850456,
          0.005528745241463184,
          0.0036765492986887693,
          0.0019765023607760668,
          0.0016182835679501295,
          0.0014616564149037004,
          0.0007874379516579211,
          0.0007754337857477367,
          0.0005881102406419814
         ]
        },
        {
         "cliponaxis": false,
         "mode": "lines+markers",
         "name": "Layer 15",
         "text": [
          "0.55",
          "0.32",
          "0.07",
          "0.02",
          "0.00",
          "0.00",
          "0.00",
          "0.00",
          "0.00",
          "0.00",
          "0.00",
          "0.00"
         ],
         "type": "scatter",
         "x": [
          1,
          2,
          3,
          4,
          5,
          6,
          7,
          8,
          9,
          10,
          11,
          12
         ],
         "y": [
          0.5470964312553406,
          0.3180718421936035,
          0.06853754818439484,
          0.019831974059343338,
          0.004727466497570276,
          0.003055682871490717,
          0.0017643171595409513,
          0.001584939775057137,
          0.0013004179345443845,
          0.0007855075527913868,
          0.0006402400904335082,
          0.0005378907662816346
         ]
        },
        {
         "cliponaxis": false,
         "mode": "lines+markers",
         "name": "Layer 16",
         "text": [
          "0.54",
          "0.34",
          "0.07",
          "0.02",
          "0.01",
          "0.00",
          "0.00",
          "0.00",
          "0.00",
          "0.00",
          "0.00",
          "0.00"
         ],
         "type": "scatter",
         "x": [
          1,
          2,
          3,
          4,
          5,
          6,
          7,
          8,
          9,
          10,
          11,
          12
         ],
         "y": [
          0.5369111895561218,
          0.33543461561203003,
          0.06668093800544739,
          0.017323516309261322,
          0.005059210117906332,
          0.00299790664575994,
          0.0017849198775365949,
          0.001629889477044344,
          0.0013340044533833861,
          0.0007272368529811502,
          0.0006575019797310233,
          0.0005014970665797591
         ]
        },
        {
         "cliponaxis": false,
         "mode": "lines+markers",
         "name": "Layer 17",
         "text": [
          "0.53",
          "0.34",
          "0.06",
          "0.02",
          "0.01",
          "0.00",
          "0.00",
          "0.00",
          "0.00",
          "0.00",
          "0.00",
          "0.00"
         ],
         "type": "scatter",
         "x": [
          1,
          2,
          3,
          4,
          5,
          6,
          7,
          8,
          9,
          10,
          11,
          12
         ],
         "y": [
          0.5274609923362732,
          0.34283822774887085,
          0.06467091292142868,
          0.018340660259127617,
          0.00523080350831151,
          0.0028456500731408596,
          0.0018835306400433183,
          0.0017520214896649122,
          0.0014708335511386395,
          0.0007719339919276536,
          0.0006692040478810668,
          0.0005931084742769599
         ]
        },
        {
         "cliponaxis": false,
         "mode": "lines+markers",
         "name": "Layer 18",
         "text": [
          "0.54",
          "0.33",
          "0.07",
          "0.02",
          "0.00",
          "0.00",
          "0.00",
          "0.00",
          "0.00",
          "0.00",
          "0.00",
          "0.00"
         ],
         "type": "scatter",
         "x": [
          1,
          2,
          3,
          4,
          5,
          6,
          7,
          8,
          9,
          10,
          11,
          12
         ],
         "y": [
          0.5387085676193237,
          0.32652223110198975,
          0.06874633580446243,
          0.019303569570183754,
          0.0046424539759755135,
          0.002491443185135722,
          0.0018794611096382141,
          0.0016113093588501215,
          0.0014746879460290074,
          0.0008838909561745822,
          0.0007509806891903281,
          0.0006169732077978551
         ]
        },
        {
         "cliponaxis": false,
         "mode": "lines+markers",
         "name": "Layer 19",
         "text": [
          "0.52",
          "0.33",
          "0.08",
          "0.02",
          "0.00",
          "0.00",
          "0.00",
          "0.00",
          "0.00",
          "0.00",
          "0.00",
          "0.00"
         ],
         "type": "scatter",
         "x": [
          1,
          2,
          3,
          4,
          5,
          6,
          7,
          8,
          9,
          10,
          11,
          12
         ],
         "y": [
          0.5237268209457397,
          0.33319035172462463,
          0.0768321231007576,
          0.020746072754263878,
          0.0038857755716890097,
          0.0024912748485803604,
          0.0017935382202267647,
          0.001719363033771515,
          0.001512960297986865,
          0.0009815534576773643,
          0.0007821808685548604,
          0.0007103542448021472
         ]
        },
        {
         "cliponaxis": false,
         "mode": "lines+markers",
         "name": "Layer 20",
         "text": [
          "0.50",
          "0.33",
          "0.09",
          "0.02",
          "0.00",
          "0.00",
          "0.00",
          "0.00",
          "0.00",
          "0.00",
          "0.00",
          "0.00"
         ],
         "type": "scatter",
         "x": [
          1,
          2,
          3,
          4,
          5,
          6,
          7,
          8,
          9,
          10,
          11,
          12
         ],
         "y": [
          0.49992334842681885,
          0.33398520946502686,
          0.0916428491473198,
          0.024251580238342285,
          0.003898644121363759,
          0.0027588666416704655,
          0.0019063737709075212,
          0.0018088457873091102,
          0.0015743549447506666,
          0.001018523471429944,
          0.0009803409921005368,
          0.0005875230417586863
         ]
        },
        {
         "cliponaxis": false,
         "mode": "lines+markers",
         "name": "Layer 21",
         "text": [
          "0.50",
          "0.33",
          "0.10",
          "0.03",
          "0.00",
          "0.00",
          "0.00",
          "0.00",
          "0.00",
          "0.00",
          "0.00",
          "0.00"
         ],
         "type": "scatter",
         "x": [
          1,
          2,
          3,
          4,
          5,
          6,
          7,
          8,
          9,
          10,
          11,
          12
         ],
         "y": [
          0.5001536011695862,
          0.32617008686065674,
          0.09611625224351883,
          0.026663539931178093,
          0.0035203280858695507,
          0.002532273530960083,
          0.002017038408666849,
          0.0018805434228852391,
          0.0014378649648278952,
          0.001153673161752522,
          0.001020547584630549,
          0.0007723988383077085
         ]
        },
        {
         "cliponaxis": false,
         "mode": "lines+markers",
         "name": "Layer 22",
         "text": [
          "0.51",
          "0.30",
          "0.10",
          "0.03",
          "0.00",
          "0.00",
          "0.00",
          "0.00",
          "0.00",
          "0.00",
          "0.00",
          "0.00"
         ],
         "type": "scatter",
         "x": [
          1,
          2,
          3,
          4,
          5,
          6,
          7,
          8,
          9,
          10,
          11,
          12
         ],
         "y": [
          0.5138893723487854,
          0.30093804001808167,
          0.10201651602983475,
          0.02831793762743473,
          0.004053755197674036,
          0.002743497723713517,
          0.002063499065116048,
          0.0020246205385774374,
          0.0015405548037961125,
          0.0012296150671318173,
          0.0011295269941911101,
          0.0009171599522233009
         ]
        },
        {
         "cliponaxis": false,
         "mode": "lines+markers",
         "name": "Layer 23",
         "text": [
          "0.52",
          "0.29",
          "0.10",
          "0.03",
          "0.00",
          "0.00",
          "0.00",
          "0.00",
          "0.00",
          "0.00",
          "0.00",
          "0.00"
         ],
         "type": "scatter",
         "x": [
          1,
          2,
          3,
          4,
          5,
          6,
          7,
          8,
          9,
          10,
          11,
          12
         ],
         "y": [
          0.5202438831329346,
          0.288725882768631,
          0.10312037169933319,
          0.03105982206761837,
          0.0037682505790144205,
          0.002767011057585478,
          0.002107496140524745,
          0.0018104909686371684,
          0.0014809143031015992,
          0.0013655447401106358,
          0.0009834911907091737,
          0.0008898634114302695
         ]
        },
        {
         "cliponaxis": false,
         "mode": "lines+markers",
         "name": "Layer 24",
         "text": [
          "0.52",
          "0.28",
          "0.10",
          "0.04",
          "0.00",
          "0.00",
          "0.00",
          "0.00",
          "0.00",
          "0.00",
          "0.00",
          "0.00"
         ],
         "type": "scatter",
         "x": [
          1,
          2,
          3,
          4,
          5,
          6,
          7,
          8,
          9,
          10,
          11,
          12
         ],
         "y": [
          0.520313024520874,
          0.2843712568283081,
          0.10218062996864319,
          0.035280223935842514,
          0.003662491450086236,
          0.002850421005859971,
          0.002134966664016247,
          0.00181093392893672,
          0.0016000022878870368,
          0.0011315031442791224,
          0.0009702059323899448,
          0.0007847138331271708
         ]
        },
        {
         "cliponaxis": false,
         "mode": "lines+markers",
         "name": "Layer 25",
         "text": [
          "0.52",
          "0.28",
          "0.10",
          "0.04",
          "0.00",
          "0.00",
          "0.00",
          "0.00",
          "0.00",
          "0.00",
          "0.00",
          "0.00"
         ],
         "type": "scatter",
         "x": [
          1,
          2,
          3,
          4,
          5,
          6,
          7,
          8,
          9,
          10,
          11,
          12
         ],
         "y": [
          0.5180978775024414,
          0.28398454189300537,
          0.10182038694620132,
          0.038175318390131,
          0.0036128200590610504,
          0.0026998568791896105,
          0.002383034909144044,
          0.0018814256181940436,
          0.0015940348384901881,
          0.001392052392475307,
          0.0010615334613248706,
          0.0008746995590627193
         ]
        }
       ],
       "layout": {
        "bargap": 0.2,
        "barmode": "group",
        "height": 800,
        "legend": {
         "bgcolor": "white",
         "bordercolor": "LightGray",
         "borderwidth": 1,
         "x": 0.98,
         "xanchor": "right",
         "y": 0.98,
         "yanchor": "top"
        },
        "plot_bgcolor": "white",
        "template": {
         "data": {
          "bar": [
           {
            "error_x": {
             "color": "#2a3f5f"
            },
            "error_y": {
             "color": "#2a3f5f"
            },
            "marker": {
             "line": {
              "color": "white",
              "width": 0.5
             },
             "pattern": {
              "fillmode": "overlay",
              "size": 10,
              "solidity": 0.2
             }
            },
            "type": "bar"
           }
          ],
          "barpolar": [
           {
            "marker": {
             "line": {
              "color": "white",
              "width": 0.5
             },
             "pattern": {
              "fillmode": "overlay",
              "size": 10,
              "solidity": 0.2
             }
            },
            "type": "barpolar"
           }
          ],
          "carpet": [
           {
            "aaxis": {
             "endlinecolor": "#2a3f5f",
             "gridcolor": "#C8D4E3",
             "linecolor": "#C8D4E3",
             "minorgridcolor": "#C8D4E3",
             "startlinecolor": "#2a3f5f"
            },
            "baxis": {
             "endlinecolor": "#2a3f5f",
             "gridcolor": "#C8D4E3",
             "linecolor": "#C8D4E3",
             "minorgridcolor": "#C8D4E3",
             "startlinecolor": "#2a3f5f"
            },
            "type": "carpet"
           }
          ],
          "choropleth": [
           {
            "colorbar": {
             "outlinewidth": 0,
             "ticks": ""
            },
            "type": "choropleth"
           }
          ],
          "contour": [
           {
            "colorbar": {
             "outlinewidth": 0,
             "ticks": ""
            },
            "colorscale": [
             [
              0,
              "#0d0887"
             ],
             [
              0.1111111111111111,
              "#46039f"
             ],
             [
              0.2222222222222222,
              "#7201a8"
             ],
             [
              0.3333333333333333,
              "#9c179e"
             ],
             [
              0.4444444444444444,
              "#bd3786"
             ],
             [
              0.5555555555555556,
              "#d8576b"
             ],
             [
              0.6666666666666666,
              "#ed7953"
             ],
             [
              0.7777777777777778,
              "#fb9f3a"
             ],
             [
              0.8888888888888888,
              "#fdca26"
             ],
             [
              1,
              "#f0f921"
             ]
            ],
            "type": "contour"
           }
          ],
          "contourcarpet": [
           {
            "colorbar": {
             "outlinewidth": 0,
             "ticks": ""
            },
            "type": "contourcarpet"
           }
          ],
          "heatmap": [
           {
            "colorbar": {
             "outlinewidth": 0,
             "ticks": ""
            },
            "colorscale": [
             [
              0,
              "#0d0887"
             ],
             [
              0.1111111111111111,
              "#46039f"
             ],
             [
              0.2222222222222222,
              "#7201a8"
             ],
             [
              0.3333333333333333,
              "#9c179e"
             ],
             [
              0.4444444444444444,
              "#bd3786"
             ],
             [
              0.5555555555555556,
              "#d8576b"
             ],
             [
              0.6666666666666666,
              "#ed7953"
             ],
             [
              0.7777777777777778,
              "#fb9f3a"
             ],
             [
              0.8888888888888888,
              "#fdca26"
             ],
             [
              1,
              "#f0f921"
             ]
            ],
            "type": "heatmap"
           }
          ],
          "heatmapgl": [
           {
            "colorbar": {
             "outlinewidth": 0,
             "ticks": ""
            },
            "colorscale": [
             [
              0,
              "#0d0887"
             ],
             [
              0.1111111111111111,
              "#46039f"
             ],
             [
              0.2222222222222222,
              "#7201a8"
             ],
             [
              0.3333333333333333,
              "#9c179e"
             ],
             [
              0.4444444444444444,
              "#bd3786"
             ],
             [
              0.5555555555555556,
              "#d8576b"
             ],
             [
              0.6666666666666666,
              "#ed7953"
             ],
             [
              0.7777777777777778,
              "#fb9f3a"
             ],
             [
              0.8888888888888888,
              "#fdca26"
             ],
             [
              1,
              "#f0f921"
             ]
            ],
            "type": "heatmapgl"
           }
          ],
          "histogram": [
           {
            "marker": {
             "pattern": {
              "fillmode": "overlay",
              "size": 10,
              "solidity": 0.2
             }
            },
            "type": "histogram"
           }
          ],
          "histogram2d": [
           {
            "colorbar": {
             "outlinewidth": 0,
             "ticks": ""
            },
            "colorscale": [
             [
              0,
              "#0d0887"
             ],
             [
              0.1111111111111111,
              "#46039f"
             ],
             [
              0.2222222222222222,
              "#7201a8"
             ],
             [
              0.3333333333333333,
              "#9c179e"
             ],
             [
              0.4444444444444444,
              "#bd3786"
             ],
             [
              0.5555555555555556,
              "#d8576b"
             ],
             [
              0.6666666666666666,
              "#ed7953"
             ],
             [
              0.7777777777777778,
              "#fb9f3a"
             ],
             [
              0.8888888888888888,
              "#fdca26"
             ],
             [
              1,
              "#f0f921"
             ]
            ],
            "type": "histogram2d"
           }
          ],
          "histogram2dcontour": [
           {
            "colorbar": {
             "outlinewidth": 0,
             "ticks": ""
            },
            "colorscale": [
             [
              0,
              "#0d0887"
             ],
             [
              0.1111111111111111,
              "#46039f"
             ],
             [
              0.2222222222222222,
              "#7201a8"
             ],
             [
              0.3333333333333333,
              "#9c179e"
             ],
             [
              0.4444444444444444,
              "#bd3786"
             ],
             [
              0.5555555555555556,
              "#d8576b"
             ],
             [
              0.6666666666666666,
              "#ed7953"
             ],
             [
              0.7777777777777778,
              "#fb9f3a"
             ],
             [
              0.8888888888888888,
              "#fdca26"
             ],
             [
              1,
              "#f0f921"
             ]
            ],
            "type": "histogram2dcontour"
           }
          ],
          "mesh3d": [
           {
            "colorbar": {
             "outlinewidth": 0,
             "ticks": ""
            },
            "type": "mesh3d"
           }
          ],
          "parcoords": [
           {
            "line": {
             "colorbar": {
              "outlinewidth": 0,
              "ticks": ""
             }
            },
            "type": "parcoords"
           }
          ],
          "pie": [
           {
            "automargin": true,
            "type": "pie"
           }
          ],
          "scatter": [
           {
            "fillpattern": {
             "fillmode": "overlay",
             "size": 10,
             "solidity": 0.2
            },
            "type": "scatter"
           }
          ],
          "scatter3d": [
           {
            "line": {
             "colorbar": {
              "outlinewidth": 0,
              "ticks": ""
             }
            },
            "marker": {
             "colorbar": {
              "outlinewidth": 0,
              "ticks": ""
             }
            },
            "type": "scatter3d"
           }
          ],
          "scattercarpet": [
           {
            "marker": {
             "colorbar": {
              "outlinewidth": 0,
              "ticks": ""
             }
            },
            "type": "scattercarpet"
           }
          ],
          "scattergeo": [
           {
            "marker": {
             "colorbar": {
              "outlinewidth": 0,
              "ticks": ""
             }
            },
            "type": "scattergeo"
           }
          ],
          "scattergl": [
           {
            "marker": {
             "colorbar": {
              "outlinewidth": 0,
              "ticks": ""
             }
            },
            "type": "scattergl"
           }
          ],
          "scattermapbox": [
           {
            "marker": {
             "colorbar": {
              "outlinewidth": 0,
              "ticks": ""
             }
            },
            "type": "scattermapbox"
           }
          ],
          "scatterpolar": [
           {
            "marker": {
             "colorbar": {
              "outlinewidth": 0,
              "ticks": ""
             }
            },
            "type": "scatterpolar"
           }
          ],
          "scatterpolargl": [
           {
            "marker": {
             "colorbar": {
              "outlinewidth": 0,
              "ticks": ""
             }
            },
            "type": "scatterpolargl"
           }
          ],
          "scatterternary": [
           {
            "marker": {
             "colorbar": {
              "outlinewidth": 0,
              "ticks": ""
             }
            },
            "type": "scatterternary"
           }
          ],
          "surface": [
           {
            "colorbar": {
             "outlinewidth": 0,
             "ticks": ""
            },
            "colorscale": [
             [
              0,
              "#0d0887"
             ],
             [
              0.1111111111111111,
              "#46039f"
             ],
             [
              0.2222222222222222,
              "#7201a8"
             ],
             [
              0.3333333333333333,
              "#9c179e"
             ],
             [
              0.4444444444444444,
              "#bd3786"
             ],
             [
              0.5555555555555556,
              "#d8576b"
             ],
             [
              0.6666666666666666,
              "#ed7953"
             ],
             [
              0.7777777777777778,
              "#fb9f3a"
             ],
             [
              0.8888888888888888,
              "#fdca26"
             ],
             [
              1,
              "#f0f921"
             ]
            ],
            "type": "surface"
           }
          ],
          "table": [
           {
            "cells": {
             "fill": {
              "color": "#EBF0F8"
             },
             "line": {
              "color": "white"
             }
            },
            "header": {
             "fill": {
              "color": "#C8D4E3"
             },
             "line": {
              "color": "white"
             }
            },
            "type": "table"
           }
          ]
         },
         "layout": {
          "annotationdefaults": {
           "arrowcolor": "#2a3f5f",
           "arrowhead": 0,
           "arrowwidth": 1
          },
          "autotypenumbers": "strict",
          "coloraxis": {
           "colorbar": {
            "outlinewidth": 0,
            "ticks": ""
           }
          },
          "colorscale": {
           "diverging": [
            [
             0,
             "#8e0152"
            ],
            [
             0.1,
             "#c51b7d"
            ],
            [
             0.2,
             "#de77ae"
            ],
            [
             0.3,
             "#f1b6da"
            ],
            [
             0.4,
             "#fde0ef"
            ],
            [
             0.5,
             "#f7f7f7"
            ],
            [
             0.6,
             "#e6f5d0"
            ],
            [
             0.7,
             "#b8e186"
            ],
            [
             0.8,
             "#7fbc41"
            ],
            [
             0.9,
             "#4d9221"
            ],
            [
             1,
             "#276419"
            ]
           ],
           "sequential": [
            [
             0,
             "#0d0887"
            ],
            [
             0.1111111111111111,
             "#46039f"
            ],
            [
             0.2222222222222222,
             "#7201a8"
            ],
            [
             0.3333333333333333,
             "#9c179e"
            ],
            [
             0.4444444444444444,
             "#bd3786"
            ],
            [
             0.5555555555555556,
             "#d8576b"
            ],
            [
             0.6666666666666666,
             "#ed7953"
            ],
            [
             0.7777777777777778,
             "#fb9f3a"
            ],
            [
             0.8888888888888888,
             "#fdca26"
            ],
            [
             1,
             "#f0f921"
            ]
           ],
           "sequentialminus": [
            [
             0,
             "#0d0887"
            ],
            [
             0.1111111111111111,
             "#46039f"
            ],
            [
             0.2222222222222222,
             "#7201a8"
            ],
            [
             0.3333333333333333,
             "#9c179e"
            ],
            [
             0.4444444444444444,
             "#bd3786"
            ],
            [
             0.5555555555555556,
             "#d8576b"
            ],
            [
             0.6666666666666666,
             "#ed7953"
            ],
            [
             0.7777777777777778,
             "#fb9f3a"
            ],
            [
             0.8888888888888888,
             "#fdca26"
            ],
            [
             1,
             "#f0f921"
            ]
           ]
          },
          "colorway": [
           "#636efa",
           "#EF553B",
           "#00cc96",
           "#ab63fa",
           "#FFA15A",
           "#19d3f3",
           "#FF6692",
           "#B6E880",
           "#FF97FF",
           "#FECB52"
          ],
          "font": {
           "color": "#2a3f5f"
          },
          "geo": {
           "bgcolor": "white",
           "lakecolor": "white",
           "landcolor": "white",
           "showlakes": true,
           "showland": true,
           "subunitcolor": "#C8D4E3"
          },
          "hoverlabel": {
           "align": "left"
          },
          "hovermode": "closest",
          "mapbox": {
           "style": "light"
          },
          "paper_bgcolor": "white",
          "plot_bgcolor": "white",
          "polar": {
           "angularaxis": {
            "gridcolor": "#EBF0F8",
            "linecolor": "#EBF0F8",
            "ticks": ""
           },
           "bgcolor": "white",
           "radialaxis": {
            "gridcolor": "#EBF0F8",
            "linecolor": "#EBF0F8",
            "ticks": ""
           }
          },
          "scene": {
           "xaxis": {
            "backgroundcolor": "white",
            "gridcolor": "#DFE8F3",
            "gridwidth": 2,
            "linecolor": "#EBF0F8",
            "showbackground": true,
            "ticks": "",
            "zerolinecolor": "#EBF0F8"
           },
           "yaxis": {
            "backgroundcolor": "white",
            "gridcolor": "#DFE8F3",
            "gridwidth": 2,
            "linecolor": "#EBF0F8",
            "showbackground": true,
            "ticks": "",
            "zerolinecolor": "#EBF0F8"
           },
           "zaxis": {
            "backgroundcolor": "white",
            "gridcolor": "#DFE8F3",
            "gridwidth": 2,
            "linecolor": "#EBF0F8",
            "showbackground": true,
            "ticks": "",
            "zerolinecolor": "#EBF0F8"
           }
          },
          "shapedefaults": {
           "line": {
            "color": "#2a3f5f"
           }
          },
          "ternary": {
           "aaxis": {
            "gridcolor": "#DFE8F3",
            "linecolor": "#A2B1C6",
            "ticks": ""
           },
           "baxis": {
            "gridcolor": "#DFE8F3",
            "linecolor": "#A2B1C6",
            "ticks": ""
           },
           "bgcolor": "white",
           "caxis": {
            "gridcolor": "#DFE8F3",
            "linecolor": "#A2B1C6",
            "ticks": ""
           }
          },
          "title": {
           "x": 0.05
          },
          "xaxis": {
           "automargin": true,
           "gridcolor": "#EBF0F8",
           "linecolor": "#EBF0F8",
           "ticks": "",
           "title": {
            "standoff": 15
           },
           "zerolinecolor": "#EBF0F8",
           "zerolinewidth": 2
          },
          "yaxis": {
           "automargin": true,
           "gridcolor": "#EBF0F8",
           "linecolor": "#EBF0F8",
           "ticks": "",
           "title": {
            "standoff": 15
           },
           "zerolinecolor": "#EBF0F8",
           "zerolinewidth": 2
          }
         }
        },
        "title": {
         "text": "Scree Plot of Cyber Bootstrap PCA"
        },
        "width": 800,
        "xaxis": {
         "linecolor": "black",
         "linewidth": 1.5,
         "showgrid": true,
         "showline": true,
         "title": {
          "text": "Principal Component"
         }
        },
        "yaxis": {
         "linecolor": "black",
         "linewidth": 1.5,
         "showgrid": true,
         "showline": true,
         "title": {
          "text": "Explained Variance Ratio"
         }
        }
       }
      },
      "text/html": [
       "<div>                            <div id=\"6cab93cb-dcb0-426d-a179-a71d402df6da\" class=\"plotly-graph-div\" style=\"height:800px; width:800px;\"></div>            <script type=\"text/javascript\">                require([\"plotly\"], function(Plotly) {                    window.PLOTLYENV=window.PLOTLYENV || {};                                    if (document.getElementById(\"6cab93cb-dcb0-426d-a179-a71d402df6da\")) {                    Plotly.newPlot(                        \"6cab93cb-dcb0-426d-a179-a71d402df6da\",                        [{\"cliponaxis\":false,\"mode\":\"lines+markers\",\"name\":\"Layer 0\",\"text\":[\"0.86\",\"0.12\",\"0.01\",\"0.01\",\"0.00\",\"0.00\",\"0.00\",\"0.00\",\"0.00\",\"0.00\",\"0.00\",\"0.00\"],\"x\":[1,2,3,4,5,6,7,8,9,10,11,12],\"y\":[0.8607207536697388,0.11893031001091003,0.008809219114482403,0.006151439156383276,0.0005043931887485087,0.00027761695673689246,0.00018969588563777506,0.00016206478176172823,0.00015180878108367324,0.00013311361544765532,0.00010257281974190846,8.666282519698143e-05],\"type\":\"scatter\"},{\"cliponaxis\":false,\"mode\":\"lines+markers\",\"name\":\"Layer 1\",\"text\":[\"0.81\",\"0.14\",\"0.01\",\"0.01\",\"0.00\",\"0.00\",\"0.00\",\"0.00\",\"0.00\",\"0.00\",\"0.00\",\"0.00\"],\"x\":[1,2,3,4,5,6,7,8,9,10,11,12],\"y\":[0.8131937384605408,0.13761478662490845,0.014258724637329578,0.010895303450524807,0.0017175717512145638,0.0010241148993372917,0.0006165785016492009,0.000513760547619313,0.0003849354397971183,0.0003082619223278016,0.0002443890261929482,0.0002045699511654675],\"type\":\"scatter\"},{\"cliponaxis\":false,\"mode\":\"lines+markers\",\"name\":\"Layer 2\",\"text\":[\"0.76\",\"0.16\",\"0.02\",\"0.01\",\"0.00\",\"0.00\",\"0.00\",\"0.00\",\"0.00\",\"0.00\",\"0.00\",\"0.00\"],\"x\":[1,2,3,4,5,6,7,8,9,10,11,12],\"y\":[0.7607027292251587,0.15970739722251892,0.019600220024585724,0.014448205009102821,0.002504725009202957,0.0017590258503332734,0.0017284583300352097,0.0007610062602907419,0.0006136938463896513,0.00044260919094085693,0.0003742258413694799,0.0002650917449500412],\"type\":\"scatter\"},{\"cliponaxis\":false,\"mode\":\"lines+markers\",\"name\":\"Layer 3\",\"text\":[\"0.70\",\"0.17\",\"0.03\",\"0.02\",\"0.00\",\"0.00\",\"0.00\",\"0.00\",\"0.00\",\"0.00\",\"0.00\",\"0.00\"],\"x\":[1,2,3,4,5,6,7,8,9,10,11,12],\"y\":[0.703997790813446,0.16767887771129608,0.030467040836811066,0.023712703958153725,0.0027100318111479282,0.002465358469635248,0.001689791097305715,0.001033151289448142,0.0008714114665053785,0.0007022259524092078,0.000517606153152883,0.0005018149386160076],\"type\":\"scatter\"},{\"cliponaxis\":false,\"mode\":\"lines+markers\",\"name\":\"Layer 4\",\"text\":[\"0.65\",\"0.18\",\"0.04\",\"0.03\",\"0.00\",\"0.00\",\"0.00\",\"0.00\",\"0.00\",\"0.00\",\"0.00\",\"0.00\"],\"x\":[1,2,3,4,5,6,7,8,9,10,11,12],\"y\":[0.6534126996994019,0.17585881054401398,0.04128030315041542,0.026788802817463875,0.003551759524270892,0.0021714691538363695,0.0014206795021891594,0.0013363352045416832,0.0009953470434993505,0.0007927533006295562,0.0007074747118167579,0.0005865652346983552],\"type\":\"scatter\"},{\"cliponaxis\":false,\"mode\":\"lines+markers\",\"name\":\"Layer 5\",\"text\":[\"0.61\",\"0.16\",\"0.06\",\"0.03\",\"0.00\",\"0.00\",\"0.00\",\"0.00\",\"0.00\",\"0.00\",\"0.00\",\"0.00\"],\"x\":[1,2,3,4,5,6,7,8,9,10,11,12],\"y\":[0.6140154600143433,0.1645757108926773,0.056384917348623276,0.033685438334941864,0.004067218862473965,0.0022224108688533306,0.002019961131736636,0.001393806771375239,0.0011963124852627516,0.0009617779869586229,0.0009132371633313596,0.0008403832325711846],\"type\":\"scatter\"},{\"cliponaxis\":false,\"mode\":\"lines+markers\",\"name\":\"Layer 6\",\"text\":[\"0.58\",\"0.16\",\"0.06\",\"0.04\",\"0.01\",\"0.00\",\"0.00\",\"0.00\",\"0.00\",\"0.00\",\"0.00\",\"0.00\"],\"x\":[1,2,3,4,5,6,7,8,9,10,11,12],\"y\":[0.5819110870361328,0.15878458321094513,0.056408900767564774,0.039617735892534256,0.006918950006365776,0.0034524365328252316,0.002045645611360669,0.00155005999840796,0.0013691213680431247,0.0012924738693982363,0.0012322056572884321,0.0009783462155610323],\"type\":\"scatter\"},{\"cliponaxis\":false,\"mode\":\"lines+markers\",\"name\":\"Layer 7\",\"text\":[\"0.56\",\"0.15\",\"0.07\",\"0.04\",\"0.01\",\"0.01\",\"0.00\",\"0.00\",\"0.00\",\"0.00\",\"0.00\",\"0.00\"],\"x\":[1,2,3,4,5,6,7,8,9,10,11,12],\"y\":[0.5579254627227783,0.15162132680416107,0.06893746554851532,0.04242914542555809,0.008752739988267422,0.005154809448868036,0.0020476425997912884,0.001970411743968725,0.0017221762100234628,0.0012813287321478128,0.0012095962883904576,0.0009697724599391222],\"type\":\"scatter\"},{\"cliponaxis\":false,\"mode\":\"lines+markers\",\"name\":\"Layer 8\",\"text\":[\"0.85\",\"0.10\",\"0.03\",\"0.01\",\"0.00\",\"0.00\",\"0.00\",\"0.00\",\"0.00\",\"0.00\",\"0.00\",\"0.00\"],\"x\":[1,2,3,4,5,6,7,8,9,10,11,12],\"y\":[0.8520092368125916,0.10070399940013885,0.027791453525424004,0.008944733999669552,0.0019808239303529263,0.001199933118186891,0.0006320682005025446,0.0004879952466581017,0.0003727258008439094,0.0002678477030713111,0.00026066252030432224,0.0001912342122523114],\"type\":\"scatter\"},{\"cliponaxis\":false,\"mode\":\"lines+markers\",\"name\":\"Layer 9\",\"text\":[\"0.73\",\"0.18\",\"0.04\",\"0.01\",\"0.01\",\"0.00\",\"0.00\",\"0.00\",\"0.00\",\"0.00\",\"0.00\",\"0.00\"],\"x\":[1,2,3,4,5,6,7,8,9,10,11,12],\"y\":[0.7320142984390259,0.17990727722644806,0.03864964097738266,0.00863463245332241,0.006014984101057053,0.002679507713764906,0.001989563927054405,0.0015907306224107742,0.001058107358403504,0.000757753208745271,0.0006941190804354846,0.0005562258302234113],\"type\":\"scatter\"},{\"cliponaxis\":false,\"mode\":\"lines+markers\",\"name\":\"Layer 10\",\"text\":[\"0.63\",\"0.23\",\"0.07\",\"0.01\",\"0.01\",\"0.00\",\"0.00\",\"0.00\",\"0.00\",\"0.00\",\"0.00\",\"0.00\"],\"x\":[1,2,3,4,5,6,7,8,9,10,11,12],\"y\":[0.6343011856079102,0.2314923256635666,0.06637631356716156,0.014377233572304249,0.007170801982283592,0.00497029721736908,0.0017916077049449086,0.0015010134084150195,0.001236419309861958,0.0010303504532203078,0.0008461916004307568,0.0007178650703281164],\"type\":\"scatter\"},{\"cliponaxis\":false,\"mode\":\"lines+markers\",\"name\":\"Layer 11\",\"text\":[\"0.53\",\"0.31\",\"0.09\",\"0.02\",\"0.01\",\"0.01\",\"0.00\",\"0.00\",\"0.00\",\"0.00\",\"0.00\",\"0.00\"],\"x\":[1,2,3,4,5,6,7,8,9,10,11,12],\"y\":[0.5274808406829834,0.31239408254623413,0.09164908528327942,0.01761539652943611,0.006093491800129414,0.005102780181914568,0.0016562937526032329,0.0013949364656582475,0.0011997951660305262,0.0009260341175831854,0.0006518348236568272,0.000533089623786509],\"type\":\"scatter\"},{\"cliponaxis\":false,\"mode\":\"lines+markers\",\"name\":\"Layer 12\",\"text\":[\"0.55\",\"0.28\",\"0.10\",\"0.02\",\"0.01\",\"0.00\",\"0.00\",\"0.00\",\"0.00\",\"0.00\",\"0.00\",\"0.00\"],\"x\":[1,2,3,4,5,6,7,8,9,10,11,12],\"y\":[0.5453793406486511,0.27719011902809143,0.09832514077425003,0.02246939204633236,0.005702397786080837,0.00487132091075182,0.0021563207264989614,0.0018224131781607866,0.0013457918539643288,0.000955462281126529,0.0007716033142060041,0.0005475456709973514],\"type\":\"scatter\"},{\"cliponaxis\":false,\"mode\":\"lines+markers\",\"name\":\"Layer 13\",\"text\":[\"0.52\",\"0.33\",\"0.07\",\"0.03\",\"0.01\",\"0.00\",\"0.00\",\"0.00\",\"0.00\",\"0.00\",\"0.00\",\"0.00\"],\"x\":[1,2,3,4,5,6,7,8,9,10,11,12],\"y\":[0.5212453007698059,0.32858505845069885,0.06614148616790771,0.028100984171032906,0.005591270513832569,0.003926037345081568,0.0018617126625031233,0.0017282265471294522,0.001482168328948319,0.0010822305921465158,0.0008183955796994269,0.0007278354023583233],\"type\":\"scatter\"},{\"cliponaxis\":false,\"mode\":\"lines+markers\",\"name\":\"Layer 14\",\"text\":[\"0.54\",\"0.31\",\"0.07\",\"0.02\",\"0.01\",\"0.00\",\"0.00\",\"0.00\",\"0.00\",\"0.00\",\"0.00\",\"0.00\"],\"x\":[1,2,3,4,5,6,7,8,9,10,11,12],\"y\":[0.5431044697761536,0.31044045090675354,0.07104144245386124,0.022698281332850456,0.005528745241463184,0.0036765492986887693,0.0019765023607760668,0.0016182835679501295,0.0014616564149037004,0.0007874379516579211,0.0007754337857477367,0.0005881102406419814],\"type\":\"scatter\"},{\"cliponaxis\":false,\"mode\":\"lines+markers\",\"name\":\"Layer 15\",\"text\":[\"0.55\",\"0.32\",\"0.07\",\"0.02\",\"0.00\",\"0.00\",\"0.00\",\"0.00\",\"0.00\",\"0.00\",\"0.00\",\"0.00\"],\"x\":[1,2,3,4,5,6,7,8,9,10,11,12],\"y\":[0.5470964312553406,0.3180718421936035,0.06853754818439484,0.019831974059343338,0.004727466497570276,0.003055682871490717,0.0017643171595409513,0.001584939775057137,0.0013004179345443845,0.0007855075527913868,0.0006402400904335082,0.0005378907662816346],\"type\":\"scatter\"},{\"cliponaxis\":false,\"mode\":\"lines+markers\",\"name\":\"Layer 16\",\"text\":[\"0.54\",\"0.34\",\"0.07\",\"0.02\",\"0.01\",\"0.00\",\"0.00\",\"0.00\",\"0.00\",\"0.00\",\"0.00\",\"0.00\"],\"x\":[1,2,3,4,5,6,7,8,9,10,11,12],\"y\":[0.5369111895561218,0.33543461561203003,0.06668093800544739,0.017323516309261322,0.005059210117906332,0.00299790664575994,0.0017849198775365949,0.001629889477044344,0.0013340044533833861,0.0007272368529811502,0.0006575019797310233,0.0005014970665797591],\"type\":\"scatter\"},{\"cliponaxis\":false,\"mode\":\"lines+markers\",\"name\":\"Layer 17\",\"text\":[\"0.53\",\"0.34\",\"0.06\",\"0.02\",\"0.01\",\"0.00\",\"0.00\",\"0.00\",\"0.00\",\"0.00\",\"0.00\",\"0.00\"],\"x\":[1,2,3,4,5,6,7,8,9,10,11,12],\"y\":[0.5274609923362732,0.34283822774887085,0.06467091292142868,0.018340660259127617,0.00523080350831151,0.0028456500731408596,0.0018835306400433183,0.0017520214896649122,0.0014708335511386395,0.0007719339919276536,0.0006692040478810668,0.0005931084742769599],\"type\":\"scatter\"},{\"cliponaxis\":false,\"mode\":\"lines+markers\",\"name\":\"Layer 18\",\"text\":[\"0.54\",\"0.33\",\"0.07\",\"0.02\",\"0.00\",\"0.00\",\"0.00\",\"0.00\",\"0.00\",\"0.00\",\"0.00\",\"0.00\"],\"x\":[1,2,3,4,5,6,7,8,9,10,11,12],\"y\":[0.5387085676193237,0.32652223110198975,0.06874633580446243,0.019303569570183754,0.0046424539759755135,0.002491443185135722,0.0018794611096382141,0.0016113093588501215,0.0014746879460290074,0.0008838909561745822,0.0007509806891903281,0.0006169732077978551],\"type\":\"scatter\"},{\"cliponaxis\":false,\"mode\":\"lines+markers\",\"name\":\"Layer 19\",\"text\":[\"0.52\",\"0.33\",\"0.08\",\"0.02\",\"0.00\",\"0.00\",\"0.00\",\"0.00\",\"0.00\",\"0.00\",\"0.00\",\"0.00\"],\"x\":[1,2,3,4,5,6,7,8,9,10,11,12],\"y\":[0.5237268209457397,0.33319035172462463,0.0768321231007576,0.020746072754263878,0.0038857755716890097,0.0024912748485803604,0.0017935382202267647,0.001719363033771515,0.001512960297986865,0.0009815534576773643,0.0007821808685548604,0.0007103542448021472],\"type\":\"scatter\"},{\"cliponaxis\":false,\"mode\":\"lines+markers\",\"name\":\"Layer 20\",\"text\":[\"0.50\",\"0.33\",\"0.09\",\"0.02\",\"0.00\",\"0.00\",\"0.00\",\"0.00\",\"0.00\",\"0.00\",\"0.00\",\"0.00\"],\"x\":[1,2,3,4,5,6,7,8,9,10,11,12],\"y\":[0.49992334842681885,0.33398520946502686,0.0916428491473198,0.024251580238342285,0.003898644121363759,0.0027588666416704655,0.0019063737709075212,0.0018088457873091102,0.0015743549447506666,0.001018523471429944,0.0009803409921005368,0.0005875230417586863],\"type\":\"scatter\"},{\"cliponaxis\":false,\"mode\":\"lines+markers\",\"name\":\"Layer 21\",\"text\":[\"0.50\",\"0.33\",\"0.10\",\"0.03\",\"0.00\",\"0.00\",\"0.00\",\"0.00\",\"0.00\",\"0.00\",\"0.00\",\"0.00\"],\"x\":[1,2,3,4,5,6,7,8,9,10,11,12],\"y\":[0.5001536011695862,0.32617008686065674,0.09611625224351883,0.026663539931178093,0.0035203280858695507,0.002532273530960083,0.002017038408666849,0.0018805434228852391,0.0014378649648278952,0.001153673161752522,0.001020547584630549,0.0007723988383077085],\"type\":\"scatter\"},{\"cliponaxis\":false,\"mode\":\"lines+markers\",\"name\":\"Layer 22\",\"text\":[\"0.51\",\"0.30\",\"0.10\",\"0.03\",\"0.00\",\"0.00\",\"0.00\",\"0.00\",\"0.00\",\"0.00\",\"0.00\",\"0.00\"],\"x\":[1,2,3,4,5,6,7,8,9,10,11,12],\"y\":[0.5138893723487854,0.30093804001808167,0.10201651602983475,0.02831793762743473,0.004053755197674036,0.002743497723713517,0.002063499065116048,0.0020246205385774374,0.0015405548037961125,0.0012296150671318173,0.0011295269941911101,0.0009171599522233009],\"type\":\"scatter\"},{\"cliponaxis\":false,\"mode\":\"lines+markers\",\"name\":\"Layer 23\",\"text\":[\"0.52\",\"0.29\",\"0.10\",\"0.03\",\"0.00\",\"0.00\",\"0.00\",\"0.00\",\"0.00\",\"0.00\",\"0.00\",\"0.00\"],\"x\":[1,2,3,4,5,6,7,8,9,10,11,12],\"y\":[0.5202438831329346,0.288725882768631,0.10312037169933319,0.03105982206761837,0.0037682505790144205,0.002767011057585478,0.002107496140524745,0.0018104909686371684,0.0014809143031015992,0.0013655447401106358,0.0009834911907091737,0.0008898634114302695],\"type\":\"scatter\"},{\"cliponaxis\":false,\"mode\":\"lines+markers\",\"name\":\"Layer 24\",\"text\":[\"0.52\",\"0.28\",\"0.10\",\"0.04\",\"0.00\",\"0.00\",\"0.00\",\"0.00\",\"0.00\",\"0.00\",\"0.00\",\"0.00\"],\"x\":[1,2,3,4,5,6,7,8,9,10,11,12],\"y\":[0.520313024520874,0.2843712568283081,0.10218062996864319,0.035280223935842514,0.003662491450086236,0.002850421005859971,0.002134966664016247,0.00181093392893672,0.0016000022878870368,0.0011315031442791224,0.0009702059323899448,0.0007847138331271708],\"type\":\"scatter\"},{\"cliponaxis\":false,\"mode\":\"lines+markers\",\"name\":\"Layer 25\",\"text\":[\"0.52\",\"0.28\",\"0.10\",\"0.04\",\"0.00\",\"0.00\",\"0.00\",\"0.00\",\"0.00\",\"0.00\",\"0.00\",\"0.00\"],\"x\":[1,2,3,4,5,6,7,8,9,10,11,12],\"y\":[0.5180978775024414,0.28398454189300537,0.10182038694620132,0.038175318390131,0.0036128200590610504,0.0026998568791896105,0.002383034909144044,0.0018814256181940436,0.0015940348384901881,0.001392052392475307,0.0010615334613248706,0.0008746995590627193],\"type\":\"scatter\"}],                        {\"template\":{\"data\":{\"barpolar\":[{\"marker\":{\"line\":{\"color\":\"white\",\"width\":0.5},\"pattern\":{\"fillmode\":\"overlay\",\"size\":10,\"solidity\":0.2}},\"type\":\"barpolar\"}],\"bar\":[{\"error_x\":{\"color\":\"#2a3f5f\"},\"error_y\":{\"color\":\"#2a3f5f\"},\"marker\":{\"line\":{\"color\":\"white\",\"width\":0.5},\"pattern\":{\"fillmode\":\"overlay\",\"size\":10,\"solidity\":0.2}},\"type\":\"bar\"}],\"carpet\":[{\"aaxis\":{\"endlinecolor\":\"#2a3f5f\",\"gridcolor\":\"#C8D4E3\",\"linecolor\":\"#C8D4E3\",\"minorgridcolor\":\"#C8D4E3\",\"startlinecolor\":\"#2a3f5f\"},\"baxis\":{\"endlinecolor\":\"#2a3f5f\",\"gridcolor\":\"#C8D4E3\",\"linecolor\":\"#C8D4E3\",\"minorgridcolor\":\"#C8D4E3\",\"startlinecolor\":\"#2a3f5f\"},\"type\":\"carpet\"}],\"choropleth\":[{\"colorbar\":{\"outlinewidth\":0,\"ticks\":\"\"},\"type\":\"choropleth\"}],\"contourcarpet\":[{\"colorbar\":{\"outlinewidth\":0,\"ticks\":\"\"},\"type\":\"contourcarpet\"}],\"contour\":[{\"colorbar\":{\"outlinewidth\":0,\"ticks\":\"\"},\"colorscale\":[[0.0,\"#0d0887\"],[0.1111111111111111,\"#46039f\"],[0.2222222222222222,\"#7201a8\"],[0.3333333333333333,\"#9c179e\"],[0.4444444444444444,\"#bd3786\"],[0.5555555555555556,\"#d8576b\"],[0.6666666666666666,\"#ed7953\"],[0.7777777777777778,\"#fb9f3a\"],[0.8888888888888888,\"#fdca26\"],[1.0,\"#f0f921\"]],\"type\":\"contour\"}],\"heatmapgl\":[{\"colorbar\":{\"outlinewidth\":0,\"ticks\":\"\"},\"colorscale\":[[0.0,\"#0d0887\"],[0.1111111111111111,\"#46039f\"],[0.2222222222222222,\"#7201a8\"],[0.3333333333333333,\"#9c179e\"],[0.4444444444444444,\"#bd3786\"],[0.5555555555555556,\"#d8576b\"],[0.6666666666666666,\"#ed7953\"],[0.7777777777777778,\"#fb9f3a\"],[0.8888888888888888,\"#fdca26\"],[1.0,\"#f0f921\"]],\"type\":\"heatmapgl\"}],\"heatmap\":[{\"colorbar\":{\"outlinewidth\":0,\"ticks\":\"\"},\"colorscale\":[[0.0,\"#0d0887\"],[0.1111111111111111,\"#46039f\"],[0.2222222222222222,\"#7201a8\"],[0.3333333333333333,\"#9c179e\"],[0.4444444444444444,\"#bd3786\"],[0.5555555555555556,\"#d8576b\"],[0.6666666666666666,\"#ed7953\"],[0.7777777777777778,\"#fb9f3a\"],[0.8888888888888888,\"#fdca26\"],[1.0,\"#f0f921\"]],\"type\":\"heatmap\"}],\"histogram2dcontour\":[{\"colorbar\":{\"outlinewidth\":0,\"ticks\":\"\"},\"colorscale\":[[0.0,\"#0d0887\"],[0.1111111111111111,\"#46039f\"],[0.2222222222222222,\"#7201a8\"],[0.3333333333333333,\"#9c179e\"],[0.4444444444444444,\"#bd3786\"],[0.5555555555555556,\"#d8576b\"],[0.6666666666666666,\"#ed7953\"],[0.7777777777777778,\"#fb9f3a\"],[0.8888888888888888,\"#fdca26\"],[1.0,\"#f0f921\"]],\"type\":\"histogram2dcontour\"}],\"histogram2d\":[{\"colorbar\":{\"outlinewidth\":0,\"ticks\":\"\"},\"colorscale\":[[0.0,\"#0d0887\"],[0.1111111111111111,\"#46039f\"],[0.2222222222222222,\"#7201a8\"],[0.3333333333333333,\"#9c179e\"],[0.4444444444444444,\"#bd3786\"],[0.5555555555555556,\"#d8576b\"],[0.6666666666666666,\"#ed7953\"],[0.7777777777777778,\"#fb9f3a\"],[0.8888888888888888,\"#fdca26\"],[1.0,\"#f0f921\"]],\"type\":\"histogram2d\"}],\"histogram\":[{\"marker\":{\"pattern\":{\"fillmode\":\"overlay\",\"size\":10,\"solidity\":0.2}},\"type\":\"histogram\"}],\"mesh3d\":[{\"colorbar\":{\"outlinewidth\":0,\"ticks\":\"\"},\"type\":\"mesh3d\"}],\"parcoords\":[{\"line\":{\"colorbar\":{\"outlinewidth\":0,\"ticks\":\"\"}},\"type\":\"parcoords\"}],\"pie\":[{\"automargin\":true,\"type\":\"pie\"}],\"scatter3d\":[{\"line\":{\"colorbar\":{\"outlinewidth\":0,\"ticks\":\"\"}},\"marker\":{\"colorbar\":{\"outlinewidth\":0,\"ticks\":\"\"}},\"type\":\"scatter3d\"}],\"scattercarpet\":[{\"marker\":{\"colorbar\":{\"outlinewidth\":0,\"ticks\":\"\"}},\"type\":\"scattercarpet\"}],\"scattergeo\":[{\"marker\":{\"colorbar\":{\"outlinewidth\":0,\"ticks\":\"\"}},\"type\":\"scattergeo\"}],\"scattergl\":[{\"marker\":{\"colorbar\":{\"outlinewidth\":0,\"ticks\":\"\"}},\"type\":\"scattergl\"}],\"scattermapbox\":[{\"marker\":{\"colorbar\":{\"outlinewidth\":0,\"ticks\":\"\"}},\"type\":\"scattermapbox\"}],\"scatterpolargl\":[{\"marker\":{\"colorbar\":{\"outlinewidth\":0,\"ticks\":\"\"}},\"type\":\"scatterpolargl\"}],\"scatterpolar\":[{\"marker\":{\"colorbar\":{\"outlinewidth\":0,\"ticks\":\"\"}},\"type\":\"scatterpolar\"}],\"scatter\":[{\"fillpattern\":{\"fillmode\":\"overlay\",\"size\":10,\"solidity\":0.2},\"type\":\"scatter\"}],\"scatterternary\":[{\"marker\":{\"colorbar\":{\"outlinewidth\":0,\"ticks\":\"\"}},\"type\":\"scatterternary\"}],\"surface\":[{\"colorbar\":{\"outlinewidth\":0,\"ticks\":\"\"},\"colorscale\":[[0.0,\"#0d0887\"],[0.1111111111111111,\"#46039f\"],[0.2222222222222222,\"#7201a8\"],[0.3333333333333333,\"#9c179e\"],[0.4444444444444444,\"#bd3786\"],[0.5555555555555556,\"#d8576b\"],[0.6666666666666666,\"#ed7953\"],[0.7777777777777778,\"#fb9f3a\"],[0.8888888888888888,\"#fdca26\"],[1.0,\"#f0f921\"]],\"type\":\"surface\"}],\"table\":[{\"cells\":{\"fill\":{\"color\":\"#EBF0F8\"},\"line\":{\"color\":\"white\"}},\"header\":{\"fill\":{\"color\":\"#C8D4E3\"},\"line\":{\"color\":\"white\"}},\"type\":\"table\"}]},\"layout\":{\"annotationdefaults\":{\"arrowcolor\":\"#2a3f5f\",\"arrowhead\":0,\"arrowwidth\":1},\"autotypenumbers\":\"strict\",\"coloraxis\":{\"colorbar\":{\"outlinewidth\":0,\"ticks\":\"\"}},\"colorscale\":{\"diverging\":[[0,\"#8e0152\"],[0.1,\"#c51b7d\"],[0.2,\"#de77ae\"],[0.3,\"#f1b6da\"],[0.4,\"#fde0ef\"],[0.5,\"#f7f7f7\"],[0.6,\"#e6f5d0\"],[0.7,\"#b8e186\"],[0.8,\"#7fbc41\"],[0.9,\"#4d9221\"],[1,\"#276419\"]],\"sequential\":[[0.0,\"#0d0887\"],[0.1111111111111111,\"#46039f\"],[0.2222222222222222,\"#7201a8\"],[0.3333333333333333,\"#9c179e\"],[0.4444444444444444,\"#bd3786\"],[0.5555555555555556,\"#d8576b\"],[0.6666666666666666,\"#ed7953\"],[0.7777777777777778,\"#fb9f3a\"],[0.8888888888888888,\"#fdca26\"],[1.0,\"#f0f921\"]],\"sequentialminus\":[[0.0,\"#0d0887\"],[0.1111111111111111,\"#46039f\"],[0.2222222222222222,\"#7201a8\"],[0.3333333333333333,\"#9c179e\"],[0.4444444444444444,\"#bd3786\"],[0.5555555555555556,\"#d8576b\"],[0.6666666666666666,\"#ed7953\"],[0.7777777777777778,\"#fb9f3a\"],[0.8888888888888888,\"#fdca26\"],[1.0,\"#f0f921\"]]},\"colorway\":[\"#636efa\",\"#EF553B\",\"#00cc96\",\"#ab63fa\",\"#FFA15A\",\"#19d3f3\",\"#FF6692\",\"#B6E880\",\"#FF97FF\",\"#FECB52\"],\"font\":{\"color\":\"#2a3f5f\"},\"geo\":{\"bgcolor\":\"white\",\"lakecolor\":\"white\",\"landcolor\":\"white\",\"showlakes\":true,\"showland\":true,\"subunitcolor\":\"#C8D4E3\"},\"hoverlabel\":{\"align\":\"left\"},\"hovermode\":\"closest\",\"mapbox\":{\"style\":\"light\"},\"paper_bgcolor\":\"white\",\"plot_bgcolor\":\"white\",\"polar\":{\"angularaxis\":{\"gridcolor\":\"#EBF0F8\",\"linecolor\":\"#EBF0F8\",\"ticks\":\"\"},\"bgcolor\":\"white\",\"radialaxis\":{\"gridcolor\":\"#EBF0F8\",\"linecolor\":\"#EBF0F8\",\"ticks\":\"\"}},\"scene\":{\"xaxis\":{\"backgroundcolor\":\"white\",\"gridcolor\":\"#DFE8F3\",\"gridwidth\":2,\"linecolor\":\"#EBF0F8\",\"showbackground\":true,\"ticks\":\"\",\"zerolinecolor\":\"#EBF0F8\"},\"yaxis\":{\"backgroundcolor\":\"white\",\"gridcolor\":\"#DFE8F3\",\"gridwidth\":2,\"linecolor\":\"#EBF0F8\",\"showbackground\":true,\"ticks\":\"\",\"zerolinecolor\":\"#EBF0F8\"},\"zaxis\":{\"backgroundcolor\":\"white\",\"gridcolor\":\"#DFE8F3\",\"gridwidth\":2,\"linecolor\":\"#EBF0F8\",\"showbackground\":true,\"ticks\":\"\",\"zerolinecolor\":\"#EBF0F8\"}},\"shapedefaults\":{\"line\":{\"color\":\"#2a3f5f\"}},\"ternary\":{\"aaxis\":{\"gridcolor\":\"#DFE8F3\",\"linecolor\":\"#A2B1C6\",\"ticks\":\"\"},\"baxis\":{\"gridcolor\":\"#DFE8F3\",\"linecolor\":\"#A2B1C6\",\"ticks\":\"\"},\"bgcolor\":\"white\",\"caxis\":{\"gridcolor\":\"#DFE8F3\",\"linecolor\":\"#A2B1C6\",\"ticks\":\"\"}},\"title\":{\"x\":0.05},\"xaxis\":{\"automargin\":true,\"gridcolor\":\"#EBF0F8\",\"linecolor\":\"#EBF0F8\",\"ticks\":\"\",\"title\":{\"standoff\":15},\"zerolinecolor\":\"#EBF0F8\",\"zerolinewidth\":2},\"yaxis\":{\"automargin\":true,\"gridcolor\":\"#EBF0F8\",\"linecolor\":\"#EBF0F8\",\"ticks\":\"\",\"title\":{\"standoff\":15},\"zerolinecolor\":\"#EBF0F8\",\"zerolinewidth\":2}}},\"legend\":{\"yanchor\":\"top\",\"y\":0.98,\"xanchor\":\"right\",\"x\":0.98,\"bgcolor\":\"white\",\"bordercolor\":\"LightGray\",\"borderwidth\":1},\"xaxis\":{\"title\":{\"text\":\"Principal Component\"},\"showgrid\":true,\"showline\":true,\"linewidth\":1.5,\"linecolor\":\"black\"},\"yaxis\":{\"title\":{\"text\":\"Explained Variance Ratio\"},\"showgrid\":true,\"showline\":true,\"linewidth\":1.5,\"linecolor\":\"black\"},\"title\":{\"text\":\"Scree Plot of Cyber Bootstrap PCA\"},\"barmode\":\"group\",\"plot_bgcolor\":\"white\",\"bargap\":0.2,\"width\":800,\"height\":800},                        {\"responsive\": true}                    ).then(function(){\n",
       "                            \n",
       "var gd = document.getElementById('6cab93cb-dcb0-426d-a179-a71d402df6da');\n",
       "var x = new MutationObserver(function (mutations, observer) {{\n",
       "        var display = window.getComputedStyle(gd).display;\n",
       "        if (!display || display === 'none') {{\n",
       "            console.log([gd, 'removed!']);\n",
       "            Plotly.purge(gd);\n",
       "            observer.disconnect();\n",
       "        }}\n",
       "}});\n",
       "\n",
       "// Listen for the removal of the full notebook cells\n",
       "var notebookContainer = gd.closest('#notebook-container');\n",
       "if (notebookContainer) {{\n",
       "    x.observe(notebookContainer, {childList: true});\n",
       "}}\n",
       "\n",
       "// Listen for the clearing of the current output cell\n",
       "var outputEl = gd.closest('.output');\n",
       "if (outputEl) {{\n",
       "    x.observe(outputEl, {childList: true});\n",
       "}}\n",
       "\n",
       "                        })                };                });            </script>        </div>"
      ]
     },
     "metadata": {},
     "output_type": "display_data"
    }
   ],
   "source": [
    "scree(\n",
    "    cyber_pcas,\n",
    "    title=\"Scree Plot of Cyber Bootstrap PCA\",\n",
    "    artifact_dir=f\"{ARTIFACT_DIR}/bootstrap/figures\",\n",
    "    artifact_name=\"scee_cyber_full\",\n",
    ")"
   ]
  },
  {
   "cell_type": "code",
   "execution_count": 33,
   "id": "cbfe978b",
   "metadata": {},
   "outputs": [],
   "source": [
    "def pairwise_cosine(directions):\n",
    "    # (layer, seq_len, batch, d_model) => (layer * seq_len, batch, d_model)\n",
    "    dir = einops.rearrange(\n",
    "        directions, \"batch layer seq_len d_model -> (layer seq_len) batch d_model\"\n",
    "    )\n",
    "    # (layer * seq_len, batch, d_model)\n",
    "    norm_dir = torch.nn.functional.normalize(dir, p=2, dim=-1, eps=1e-8)\n",
    "    # calculate cosine\n",
    "    cosine = torch.bmm(norm_dir, norm_dir.transpose(1, 2))\n",
    "\n",
    "    cosine_reshapes = einops.rearrange(\n",
    "        cosine,\n",
    "        \"(layer seq_len) batch1 batch2 -> layer seq_len batch1 batch2\",\n",
    "        layer=rmu_model.model.config.num_hidden_layers,\n",
    "    )\n",
    "\n",
    "    i, j = torch.triu_indices(cosine_reshapes.shape[2], cosine_reshapes.shape[3], offset=1)\n",
    "\n",
    "    return cosine_reshapes[:, :, i, j]"
   ]
  },
  {
   "cell_type": "code",
   "execution_count": 34,
   "id": "54e4fc25",
   "metadata": {},
   "outputs": [],
   "source": [
    "bio_cosine = pairwise_cosine(bio_bootstrap_directions)"
   ]
  },
  {
   "cell_type": "code",
   "execution_count": 35,
   "id": "886f2133",
   "metadata": {},
   "outputs": [],
   "source": [
    "cyber_cosine = pairwise_cosine(cyber_bootstrap_directions)"
   ]
  },
  {
   "cell_type": "code",
   "execution_count": 36,
   "id": "976a5cb2",
   "metadata": {},
   "outputs": [],
   "source": [
    "def hist(\n",
    "    bio_cosine,\n",
    "    cyber_cosine,\n",
    "    layer,\n",
    "    artifact_dir,\n",
    "):\n",
    "    fig = go.Figure()\n",
    "\n",
    "    fig.add_trace(\n",
    "        go.Histogram(\n",
    "            x=bio_cosine[LAYER_ID].mean(dim=0).cpu().numpy(),\n",
    "            nbinsx=50,\n",
    "            name=\"Bio Directions\",\n",
    "            opacity=0.6,\n",
    "            marker=dict(line_width=1, line_color=\"white\")\n",
    "        )\n",
    "    )\n",
    "\n",
    "    fig.add_trace(\n",
    "        go.Histogram(\n",
    "            x=cyber_cosine[LAYER_ID].mean(dim=0).cpu().numpy(),\n",
    "            nbinsx=50,\n",
    "            name=\"Cyber Directions\",\n",
    "            opacity=0.6,\n",
    "            marker=dict(line_width=1, line_color=\"white\")\n",
    "        )\n",
    "    )\n",
    "\n",
    "    fig.update_layout(\n",
    "        title=f\"Pairwise Cosine Similarity Distribution at layer {layer} - Averaging over token positions\",\n",
    "        xaxis_title=\"Cosine Similarity\",\n",
    "        yaxis_title=\"Count\",\n",
    "        barmode=\"overlay\", \n",
    "        bargap=0.1, \n",
    "        width=800,\n",
    "        height=600\n",
    "    )\n",
    "\n",
    "    #fig.show()\n",
    "    \n",
    "    if artifact_dir:\n",
    "        fig.write_image(f\"{artifact_dir}/layer_{layer}.pdf\", format=\"pdf\")"
   ]
  },
  {
   "cell_type": "code",
   "execution_count": 37,
   "id": "b573fdc6",
   "metadata": {},
   "outputs": [
    {
     "data": {
      "application/vnd.jupyter.widget-view+json": {
       "model_id": "803273c402a4467e87f6d25e3ed411b4",
       "version_major": 2,
       "version_minor": 0
      },
      "text/plain": [
       "  0%|          | 0/26 [00:00<?, ?it/s]"
      ]
     },
     "metadata": {},
     "output_type": "display_data"
    },
    {
     "data": {
      "application/vnd.jupyter.widget-view+json": {
       "model_id": "eeb02f75807f4b769257367241ce7fe9",
       "version_major": 2,
       "version_minor": 0
      },
      "text/plain": [
       "  0%|          | 0/26 [00:00<?, ?it/s]"
      ]
     },
     "metadata": {},
     "output_type": "display_data"
    }
   ],
   "source": [
    "for layer in tqdm(range(rmu_model.model.config.num_hidden_layers)):\n",
    "    hist(bio_cosine, cyber_cosine, layer, artifact_dir=f\"{ARTIFACT_DIR}/bootstrap/\")\n",
    "\n",
    "for layer in tqdm(range(rmu_model.model.config.num_hidden_layers)):\n",
    "    hist(bio_cosine, cyber_cosine, layer, artifact_dir=f\"{ARTIFACT_DIR}/bootstrap/\")"
   ]
  },
  {
   "cell_type": "code",
   "execution_count": null,
   "id": "9228a4ab",
   "metadata": {},
   "outputs": [],
   "source": []
  }
 ],
 "metadata": {
  "kernelspec": {
   "display_name": ".venv",
   "language": "python",
   "name": "python3"
  },
  "language_info": {
   "codemirror_mode": {
    "name": "ipython",
    "version": 3
   },
   "file_extension": ".py",
   "mimetype": "text/x-python",
   "name": "python",
   "nbconvert_exporter": "python",
   "pygments_lexer": "ipython3",
   "version": "3.10.12"
  }
 },
 "nbformat": 4,
 "nbformat_minor": 5
}
